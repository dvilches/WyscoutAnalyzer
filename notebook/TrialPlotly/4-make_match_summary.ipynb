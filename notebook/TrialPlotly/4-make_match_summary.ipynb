{
 "cells": [
  {
   "cell_type": "markdown",
   "metadata": {},
   "source": [
    "table of contents\n",
    "1. 準備\n",
    "2. データのインポート\n",
    "3. EDA\n",
    "4. サマリの完成"
   ]
  },
  {
   "cell_type": "markdown",
   "metadata": {},
   "source": [
    "# 準備"
   ]
  },
  {
   "cell_type": "code",
   "execution_count": 1,
   "metadata": {},
   "outputs": [
    {
     "data": {
      "text/html": [
       "        <script type=\"text/javascript\">\n",
       "        window.PlotlyConfig = {MathJaxConfig: 'local'};\n",
       "        if (window.MathJax) {MathJax.Hub.Config({SVG: {font: \"STIX-Web\"}});}\n",
       "        if (typeof require !== 'undefined') {\n",
       "        require.undef(\"plotly\");\n",
       "        requirejs.config({\n",
       "            paths: {\n",
       "                'plotly': ['https://cdn.plot.ly/plotly-latest.min']\n",
       "            }\n",
       "        });\n",
       "        require(['plotly'], function(Plotly) {\n",
       "            window._Plotly = Plotly;\n",
       "        });\n",
       "        }\n",
       "        </script>\n",
       "        "
      ]
     },
     "metadata": {},
     "output_type": "display_data"
    }
   ],
   "source": [
    "import os, time\n",
    "\n",
    "import numpy as np\n",
    "import pandas as pd\n",
    "import matplotlib.pyplot as plt\n",
    "%matplotlib inline\n",
    "\n",
    "import plotly.graph_objs as go\n",
    "import plotly.express as px\n",
    "from plotly.offline import init_notebook_mode, plot, iplot\n",
    "\n",
    "init_notebook_mode(connected=True)\n",
    "\n",
    "cmap = plt.get_cmap('tab10')"
   ]
  },
  {
   "cell_type": "markdown",
   "metadata": {},
   "source": [
    "# データのインポート"
   ]
  },
  {
   "cell_type": "code",
   "execution_count": 2,
   "metadata": {},
   "outputs": [
    {
     "name": "stdout",
     "output_type": "stream",
     "text": [
      "['World_Cup', 'Italy', 'Germany', 'England', 'France', 'Spain', 'European_Championship']\n"
     ]
    }
   ],
   "source": [
    "base_dir = os.path.join('..','..')\n",
    "data_dir = os.path.join(base_dir, 'data', 'raw')\n",
    "\n",
    "def read_dfs():\n",
    "    players_df = pd.read_json(os.path.join(data_dir, 'players.json'))\n",
    "    teams_df = pd.read_json(os.path.join(data_dir, 'teams.json'))\n",
    "\n",
    "    # encode, decode\n",
    "    players_df['shortName'] = players_df.shortName.apply(lambda x: x.encode('utf-8').decode('unicode-escape'))\n",
    "    teams_df['name'] = teams_df.name.apply(lambda x: x.encode('utf-8').decode('unicode-escape'))\n",
    "\n",
    "    return players_df, teams_df\n",
    "\n",
    "players_df, teams_df = read_dfs()\n",
    "\n",
    "competition_list = [infile.replace('matches_','').replace('.json','') for infile in os.listdir(os.path.join(data_dir, 'matches')) if infile.endswith('.json')]\n",
    "\n",
    "print(competition_list)"
   ]
  },
  {
   "cell_type": "code",
   "execution_count": 3,
   "metadata": {},
   "outputs": [
    {
     "name": "stdout",
     "output_type": "stream",
     "text": [
      "['France - Romania, 2 - 1 @Stade de France, 2016-06-10', 'Albania - Switzerland, 0 - 1 @Stade Bollaert-Delelis, 2016-06-11', 'Wales - Slovakia, 2 - 1 @Stade Matmut-Atlantique, 2016-06-11', 'England - Russia, 1 - 1 @Stade Vélodrome, 2016-06-11', 'Turkey - Croatia, 0 - 1 @Parc des Princes, 2016-06-12', 'Poland - Northern Ireland, 1 - 0 @Allianz Riviera, 2016-06-12', 'Germany - Ukraine, 2 - 0 @Stade Pierre-Mauroy, 2016-06-12', 'Spain - Czech Republic, 1 - 0 @Stadium Municipal, 2016-06-13', 'Republic of Ireland - Sweden, 1 - 1 @Stade de France, 2016-06-13', 'Belgium - Italy, 0 - 2 @Groupama Stadium, 2016-06-13', 'Austria - Hungary, 0 - 2 @Stade Matmut-Atlantique, 2016-06-14', 'Portugal - Iceland, 1 - 1 @Stade Geoffroy-Guichard, 2016-06-14', 'Russia - Slovakia, 1 - 2 @Stade Pierre-Mauroy, 2016-06-15', 'Romania - Switzerland, 1 - 1 @Parc des Princes, 2016-06-15', 'France - Albania, 2 - 0 @Stade Vélodrome, 2016-06-15', 'England - Wales, 2 - 1 @Stade Bollaert-Delelis, 2016-06-16', 'Ukraine - Northern Ireland, 0 - 2 @Groupama Stadium, 2016-06-16', 'Germany - Poland, 0 - 0 @Stade de France, 2016-06-16', 'Italy - Sweden, 1 - 0 @Stadium Municipal, 2016-06-17', 'Czech Republic - Croatia, 2 - 2 @Stade Geoffroy-Guichard, 2016-06-17', 'Spain - Turkey, 3 - 0 @Allianz Riviera, 2016-06-17', 'Belgium - Republic of Ireland, 3 - 0 @Stade Matmut-Atlantique, 2016-06-18', 'Iceland - Hungary, 1 - 1 @Stade Vélodrome, 2016-06-18', 'Portugal - Austria, 0 - 0 @Parc des Princes, 2016-06-18', 'Romania - Albania, 0 - 1 @Groupama Stadium, 2016-06-19', 'Switzerland - France, 0 - 0 @Stade Pierre-Mauroy, 2016-06-19', 'Slovakia - England, 0 - 0 @Stade Geoffroy-Guichard, 2016-06-20', 'Russia - Wales, 0 - 3 @Stadium Municipal, 2016-06-20', 'Northern Ireland - Germany, 0 - 1 @Parc des Princes, 2016-06-21', 'Ukraine - Poland, 0 - 1 @Stade Vélodrome, 2016-06-21', 'Croatia - Spain, 2 - 1 @Stade Matmut-Atlantique, 2016-06-21', 'Czech Republic - Turkey, 0 - 2 @Stade Bollaert-Delelis, 2016-06-21', 'Iceland - Austria, 2 - 1 @Stade de France, 2016-06-22', 'Hungary - Portugal, 3 - 3 @Groupama Stadium, 2016-06-22', 'Italy - Republic of Ireland, 0 - 1 @Stade Pierre-Mauroy, 2016-06-22', 'Sweden - Belgium, 0 - 1 @Allianz Riviera, 2016-06-22', 'Switzerland - Poland, 1 - 1 (P) @Stade Geoffroy-Guichard, 2016-06-25', 'Wales - Northern Ireland, 1 - 0 @Parc des Princes, 2016-06-25', 'Croatia - Portugal, 0 - 1 (E) @Stade Bollaert-Delelis, 2016-06-25', 'France - Republic of Ireland, 2 - 1 @Groupama Stadium, 2016-06-26', 'Germany - Slovakia, 3 - 0 @Stade Pierre-Mauroy, 2016-06-26', 'Hungary - Belgium, 0 - 4 @Stadium Municipal, 2016-06-26', 'Italy - Spain, 2 - 0 @Stade de France, 2016-06-27', 'England - Iceland, 1 - 2 @Allianz Riviera, 2016-06-27', 'Poland - Portugal, 1 - 1 (P) @Stade Vélodrome, 2016-06-30', 'Wales - Belgium, 3 - 1 @Stade Pierre-Mauroy, 2016-07-01', 'Germany - Italy, 1 - 1 (P) @Stade Matmut-Atlantique, 2016-07-02', 'France - Iceland, 5 - 2 @Stade de France, 2016-07-03', 'Portugal - Wales, 2 - 0 @Groupama Stadium, 2016-07-06', 'Germany - France, 0 - 2 @Stade Vélodrome, 2016-07-07', 'Portugal - France, 1 - 0 (E) @Stade de France, 2016-07-10']\n"
     ]
    }
   ],
   "source": [
    "selected_competition = 'European_Championship'\n",
    "\n",
    "def read_events_df(selected_competition):\n",
    "    events_df = pd.read_json(os.path.join(data_dir, 'events', f'events_{selected_competition}.json'))\n",
    "    return events_df\n",
    "\n",
    "def read_matches_df(selected_competition):\n",
    "    matches_df = pd.read_json(os.path.join(data_dir, 'matches', f'matches_{selected_competition}.json'))\n",
    "    matches_df['date_time'] = pd.to_datetime(matches_df.dateutc)\n",
    "\n",
    "    # encode, decode\n",
    "    matches_df['label'] = matches_df.label.apply(lambda x: x.encode('utf-8').decode('unicode-escape'))\n",
    "    matches_df['venue'] = matches_df.venue.apply(lambda x: x.encode('utf-8').decode('unicode-escape'))\n",
    "\n",
    "    # concate label, venue, date_time\n",
    "    matches_df['name'] = matches_df[['label', 'venue', 'date_time']].apply(lambda xs: f'{xs[0]} @{xs[1]}, {xs[2].date()}', axis=1)\n",
    "\n",
    "    return matches_df.sort_values('date_time')\n",
    "\n",
    "matches_df = read_matches_df(selected_competition)\n",
    "\n",
    "name_list = matches_df.name.tolist()\n",
    "print(name_list)"
   ]
  },
  {
   "cell_type": "code",
   "execution_count": 4,
   "metadata": {},
   "outputs": [],
   "source": [
    "selected_match = 'Germany - France, 0 - 2 @Stade Vélodrome, 2016-07-07'\n",
    "selected_wyId = matches_df[matches_df.name == selected_match].wyId.values[0]\n",
    "\n",
    "events_df = read_events_df(selected_competition)\n",
    "\n",
    "df_tmp = events_df[(events_df.matchId == selected_wyId)]"
   ]
  },
  {
   "cell_type": "markdown",
   "metadata": {},
   "source": [
    "# EDA"
   ]
  },
  {
   "cell_type": "code",
   "execution_count": 5,
   "metadata": {},
   "outputs": [
    {
     "data": {
      "text/html": [
       "<div>\n",
       "<style scoped>\n",
       "    .dataframe tbody tr th:only-of-type {\n",
       "        vertical-align: middle;\n",
       "    }\n",
       "\n",
       "    .dataframe tbody tr th {\n",
       "        vertical-align: top;\n",
       "    }\n",
       "\n",
       "    .dataframe thead th {\n",
       "        text-align: right;\n",
       "    }\n",
       "</style>\n",
       "<table border=\"1\" class=\"dataframe\">\n",
       "  <thead>\n",
       "    <tr style=\"text-align: right;\">\n",
       "      <th></th>\n",
       "      <th>eventId</th>\n",
       "      <th>subEventName</th>\n",
       "      <th>tags</th>\n",
       "      <th>playerId</th>\n",
       "      <th>positions</th>\n",
       "      <th>matchId</th>\n",
       "      <th>eventName</th>\n",
       "      <th>teamId</th>\n",
       "      <th>matchPeriod</th>\n",
       "      <th>eventSec</th>\n",
       "      <th>subEventId</th>\n",
       "      <th>id</th>\n",
       "    </tr>\n",
       "  </thead>\n",
       "  <tbody>\n",
       "    <tr>\n",
       "      <th>74554</th>\n",
       "      <td>8</td>\n",
       "      <td>Simple pass</td>\n",
       "      <td>[{'id': 1801}]</td>\n",
       "      <td>25397</td>\n",
       "      <td>[{'y': 33, 'x': 28}, {'y': 73, 'x': 29}]</td>\n",
       "      <td>1694439</td>\n",
       "      <td>Pass</td>\n",
       "      <td>4418</td>\n",
       "      <td>1H</td>\n",
       "      <td>1.908619</td>\n",
       "      <td>85</td>\n",
       "      <td>90356461</td>\n",
       "    </tr>\n",
       "    <tr>\n",
       "      <th>74555</th>\n",
       "      <td>8</td>\n",
       "      <td>Simple pass</td>\n",
       "      <td>[{'id': 1801}]</td>\n",
       "      <td>7855</td>\n",
       "      <td>[{'y': 73, 'x': 29}, {'y': 73, 'x': 32}]</td>\n",
       "      <td>1694439</td>\n",
       "      <td>Pass</td>\n",
       "      <td>4418</td>\n",
       "      <td>1H</td>\n",
       "      <td>5.177858</td>\n",
       "      <td>85</td>\n",
       "      <td>90356462</td>\n",
       "    </tr>\n",
       "    <tr>\n",
       "      <th>74556</th>\n",
       "      <td>8</td>\n",
       "      <td>Simple pass</td>\n",
       "      <td>[{'id': 1801}]</td>\n",
       "      <td>7936</td>\n",
       "      <td>[{'y': 73, 'x': 32}, {'y': 80, 'x': 26}]</td>\n",
       "      <td>1694439</td>\n",
       "      <td>Pass</td>\n",
       "      <td>4418</td>\n",
       "      <td>1H</td>\n",
       "      <td>7.405928</td>\n",
       "      <td>85</td>\n",
       "      <td>90356463</td>\n",
       "    </tr>\n",
       "    <tr>\n",
       "      <th>74557</th>\n",
       "      <td>8</td>\n",
       "      <td>High pass</td>\n",
       "      <td>[{'id': 1801}]</td>\n",
       "      <td>7855</td>\n",
       "      <td>[{'y': 80, 'x': 26}, {'y': 80, 'x': 64}]</td>\n",
       "      <td>1694439</td>\n",
       "      <td>Pass</td>\n",
       "      <td>4418</td>\n",
       "      <td>1H</td>\n",
       "      <td>11.910527</td>\n",
       "      <td>83</td>\n",
       "      <td>90356464</td>\n",
       "    </tr>\n",
       "    <tr>\n",
       "      <th>74558</th>\n",
       "      <td>1</td>\n",
       "      <td>Air duel</td>\n",
       "      <td>[{'id': 703}, {'id': 1801}]</td>\n",
       "      <td>26010</td>\n",
       "      <td>[{'y': 80, 'x': 64}, {'y': 60, 'x': 75}]</td>\n",
       "      <td>1694439</td>\n",
       "      <td>Duel</td>\n",
       "      <td>4418</td>\n",
       "      <td>1H</td>\n",
       "      <td>13.640313</td>\n",
       "      <td>10</td>\n",
       "      <td>90356465</td>\n",
       "    </tr>\n",
       "  </tbody>\n",
       "</table>\n",
       "</div>"
      ],
      "text/plain": [
       "       eventId subEventName                         tags  playerId  \\\n",
       "74554        8  Simple pass               [{'id': 1801}]     25397   \n",
       "74555        8  Simple pass               [{'id': 1801}]      7855   \n",
       "74556        8  Simple pass               [{'id': 1801}]      7936   \n",
       "74557        8    High pass               [{'id': 1801}]      7855   \n",
       "74558        1     Air duel  [{'id': 703}, {'id': 1801}]     26010   \n",
       "\n",
       "                                      positions  matchId eventName  teamId  \\\n",
       "74554  [{'y': 33, 'x': 28}, {'y': 73, 'x': 29}]  1694439      Pass    4418   \n",
       "74555  [{'y': 73, 'x': 29}, {'y': 73, 'x': 32}]  1694439      Pass    4418   \n",
       "74556  [{'y': 73, 'x': 32}, {'y': 80, 'x': 26}]  1694439      Pass    4418   \n",
       "74557  [{'y': 80, 'x': 26}, {'y': 80, 'x': 64}]  1694439      Pass    4418   \n",
       "74558  [{'y': 80, 'x': 64}, {'y': 60, 'x': 75}]  1694439      Duel    4418   \n",
       "\n",
       "      matchPeriod   eventSec subEventId        id  \n",
       "74554          1H   1.908619         85  90356461  \n",
       "74555          1H   5.177858         85  90356462  \n",
       "74556          1H   7.405928         85  90356463  \n",
       "74557          1H  11.910527         83  90356464  \n",
       "74558          1H  13.640313         10  90356465  "
      ]
     },
     "execution_count": 5,
     "metadata": {},
     "output_type": "execute_result"
    }
   ],
   "source": [
    "df_tmp.head()"
   ]
  },
  {
   "cell_type": "code",
   "execution_count": 6,
   "metadata": {},
   "outputs": [
    {
     "data": {
      "text/plain": [
       "eventId         0\n",
       "subEventName    0\n",
       "tags            0\n",
       "playerId        0\n",
       "positions       0\n",
       "matchId         0\n",
       "eventName       0\n",
       "teamId          0\n",
       "matchPeriod     0\n",
       "eventSec        0\n",
       "subEventId      0\n",
       "id              0\n",
       "dtype: int64"
      ]
     },
     "execution_count": 6,
     "metadata": {},
     "output_type": "execute_result"
    }
   ],
   "source": [
    "df_tmp.isnull().sum()"
   ]
  },
  {
   "cell_type": "markdown",
   "metadata": {},
   "source": [
    "# サマリの完成\n",
    "表示する情報は以下の通りである。\n",
    "* スコア\n",
    "* シュートの本数\n",
    "* パス本数\n",
    "* パス成功率\n",
    "* クリア数\n",
    "* ファール数\n",
    "* デュエルの勝率  \n",
    "(+alpha)\n",
    "* パスの種類（layout.bar(subset=['cnt']）)"
   ]
  },
  {
   "cell_type": "markdown",
   "metadata": {},
   "source": [
    "## スコア"
   ]
  },
  {
   "cell_type": "code",
   "execution_count": 55,
   "metadata": {},
   "outputs": [
    {
     "data": {
      "text/html": [
       "<div>\n",
       "<style scoped>\n",
       "    .dataframe tbody tr th:only-of-type {\n",
       "        vertical-align: middle;\n",
       "    }\n",
       "\n",
       "    .dataframe tbody tr th {\n",
       "        vertical-align: top;\n",
       "    }\n",
       "\n",
       "    .dataframe thead th {\n",
       "        text-align: right;\n",
       "    }\n",
       "</style>\n",
       "<table border=\"1\" class=\"dataframe\">\n",
       "  <thead>\n",
       "    <tr style=\"text-align: right;\">\n",
       "      <th>teamId</th>\n",
       "      <th>3148</th>\n",
       "      <th>4418</th>\n",
       "    </tr>\n",
       "  </thead>\n",
       "  <tbody>\n",
       "    <tr>\n",
       "      <th>score</th>\n",
       "      <td>0</td>\n",
       "      <td>2</td>\n",
       "    </tr>\n",
       "  </tbody>\n",
       "</table>\n",
       "</div>"
      ],
      "text/plain": [
       "teamId  3148  4418\n",
       "score      0     2"
      ]
     },
     "execution_count": 55,
     "metadata": {},
     "output_type": "execute_result"
    }
   ],
   "source": [
    "score_s = df_tmp[df_tmp.eventName=='Shot'].groupby('teamId').tags.agg(lambda xs: np.sum([[101 in [tag_dict['id'] for tag_dict in tags]] for tags in xs])) \n",
    "\n",
    "penalty_s = df_tmp[df_tmp.subEventName=='Penalty'].groupby('teamId').tags.agg(lambda xs: np.sum([[101 in [tag_dict['id'] for tag_dict in tags]] for tags in xs])) \n",
    "for i in penalty_s.index:\n",
    "    score_s[i] += penalty_s[i]\n",
    "\n",
    "score_df = score_s.fillna('0').to_frame().T\n",
    "score_df.index = ['score']\n",
    "\n",
    "score_df"
   ]
  },
  {
   "cell_type": "markdown",
   "metadata": {},
   "source": [
    "## シュートの本数"
   ]
  },
  {
   "cell_type": "code",
   "execution_count": 56,
   "metadata": {},
   "outputs": [
    {
     "data": {
      "text/html": [
       "<div>\n",
       "<style scoped>\n",
       "    .dataframe tbody tr th:only-of-type {\n",
       "        vertical-align: middle;\n",
       "    }\n",
       "\n",
       "    .dataframe tbody tr th {\n",
       "        vertical-align: top;\n",
       "    }\n",
       "\n",
       "    .dataframe thead th {\n",
       "        text-align: right;\n",
       "    }\n",
       "</style>\n",
       "<table border=\"1\" class=\"dataframe\">\n",
       "  <thead>\n",
       "    <tr style=\"text-align: right;\">\n",
       "      <th>teamId</th>\n",
       "      <th>3148</th>\n",
       "      <th>4418</th>\n",
       "    </tr>\n",
       "  </thead>\n",
       "  <tbody>\n",
       "    <tr>\n",
       "      <th>number of shots</th>\n",
       "      <td>15</td>\n",
       "      <td>12</td>\n",
       "    </tr>\n",
       "  </tbody>\n",
       "</table>\n",
       "</div>"
      ],
      "text/plain": [
       "teamId           3148  4418\n",
       "number of shots    15    12"
      ]
     },
     "execution_count": 56,
     "metadata": {},
     "output_type": "execute_result"
    }
   ],
   "source": [
    "shot_s = df_tmp[df_tmp.eventName=='Shot'].groupby('teamId').size()\n",
    "\n",
    "penalty_s = df_tmp[df_tmp.subEventName=='Penalty'].groupby('teamId').size()\n",
    "for i in penalty_s.index:\n",
    "    shot_s[i] += penalty_s[i]\n",
    "\n",
    "shot_df = shot_s.fillna('0').to_frame().T\n",
    "shot_df.index = ['number of shots']\n",
    "\n",
    "shot_df"
   ]
  },
  {
   "cell_type": "markdown",
   "metadata": {},
   "source": [
    "## パス本数"
   ]
  },
  {
   "cell_type": "code",
   "execution_count": 57,
   "metadata": {},
   "outputs": [
    {
     "data": {
      "text/html": [
       "<div>\n",
       "<style scoped>\n",
       "    .dataframe tbody tr th:only-of-type {\n",
       "        vertical-align: middle;\n",
       "    }\n",
       "\n",
       "    .dataframe tbody tr th {\n",
       "        vertical-align: top;\n",
       "    }\n",
       "\n",
       "    .dataframe thead th {\n",
       "        text-align: right;\n",
       "    }\n",
       "</style>\n",
       "<table border=\"1\" class=\"dataframe\">\n",
       "  <thead>\n",
       "    <tr style=\"text-align: right;\">\n",
       "      <th>teamId</th>\n",
       "      <th>3148</th>\n",
       "      <th>4418</th>\n",
       "    </tr>\n",
       "  </thead>\n",
       "  <tbody>\n",
       "    <tr>\n",
       "      <th>number of passes</th>\n",
       "      <td>644</td>\n",
       "      <td>270</td>\n",
       "    </tr>\n",
       "  </tbody>\n",
       "</table>\n",
       "</div>"
      ],
      "text/plain": [
       "teamId            3148  4418\n",
       "number of passes   644   270"
      ]
     },
     "execution_count": 57,
     "metadata": {},
     "output_type": "execute_result"
    }
   ],
   "source": [
    "pass_s = df_tmp[df_tmp.eventName=='Pass'].groupby('teamId').size()\n",
    "\n",
    "pass_df = pass_s.fillna('0').to_frame().T\n",
    "pass_df.index = ['number of passes']\n",
    "\n",
    "pass_df"
   ]
  },
  {
   "cell_type": "markdown",
   "metadata": {},
   "source": [
    "## パス成功率"
   ]
  },
  {
   "cell_type": "code",
   "execution_count": 71,
   "metadata": {},
   "outputs": [
    {
     "data": {
      "text/html": [
       "<div>\n",
       "<style scoped>\n",
       "    .dataframe tbody tr th:only-of-type {\n",
       "        vertical-align: middle;\n",
       "    }\n",
       "\n",
       "    .dataframe tbody tr th {\n",
       "        vertical-align: top;\n",
       "    }\n",
       "\n",
       "    .dataframe thead th {\n",
       "        text-align: right;\n",
       "    }\n",
       "</style>\n",
       "<table border=\"1\" class=\"dataframe\">\n",
       "  <thead>\n",
       "    <tr style=\"text-align: right;\">\n",
       "      <th>teamId</th>\n",
       "      <th>3148</th>\n",
       "      <th>4418</th>\n",
       "    </tr>\n",
       "  </thead>\n",
       "  <tbody>\n",
       "    <tr>\n",
       "      <th>pass success rate</th>\n",
       "      <td>87%</td>\n",
       "      <td>81%</td>\n",
       "    </tr>\n",
       "  </tbody>\n",
       "</table>\n",
       "</div>"
      ],
      "text/plain": [
       "teamId            3148 4418\n",
       "pass success rate  87%  81%"
      ]
     },
     "execution_count": 71,
     "metadata": {},
     "output_type": "execute_result"
    }
   ],
   "source": [
    "r_pass_s = df_tmp[df_tmp.eventName=='Pass'].groupby('teamId').tags.agg(lambda xs: np.sum([[1801 in [tag_dict['id'] for tag_dict in tags]] for tags in xs])) \n",
    "\n",
    "r_pass_df = (r_pass_s.to_frame().T / pass_df.values * 100).astype(int)\n",
    "r_pass_df = r_pass_df.applymap(lambda x: f'{x}%')\n",
    "\n",
    "r_pass_df.index = ['pass success rate']\n",
    "\n",
    "r_pass_df"
   ]
  },
  {
   "cell_type": "markdown",
   "metadata": {},
   "source": [
    "## クリア数"
   ]
  },
  {
   "cell_type": "code",
   "execution_count": 72,
   "metadata": {},
   "outputs": [
    {
     "data": {
      "text/html": [
       "<div>\n",
       "<style scoped>\n",
       "    .dataframe tbody tr th:only-of-type {\n",
       "        vertical-align: middle;\n",
       "    }\n",
       "\n",
       "    .dataframe tbody tr th {\n",
       "        vertical-align: top;\n",
       "    }\n",
       "\n",
       "    .dataframe thead th {\n",
       "        text-align: right;\n",
       "    }\n",
       "</style>\n",
       "<table border=\"1\" class=\"dataframe\">\n",
       "  <thead>\n",
       "    <tr style=\"text-align: right;\">\n",
       "      <th>teamId</th>\n",
       "      <th>3148</th>\n",
       "      <th>4418</th>\n",
       "    </tr>\n",
       "  </thead>\n",
       "  <tbody>\n",
       "    <tr>\n",
       "      <th>number of Clear</th>\n",
       "      <td>5</td>\n",
       "      <td>24</td>\n",
       "    </tr>\n",
       "  </tbody>\n",
       "</table>\n",
       "</div>"
      ],
      "text/plain": [
       "teamId           3148  4418\n",
       "number of Clear     5    24"
      ]
     },
     "execution_count": 72,
     "metadata": {},
     "output_type": "execute_result"
    }
   ],
   "source": [
    "clear_s = df_tmp[df_tmp.subEventName=='Clearance'].groupby('teamId').size()\n",
    "\n",
    "clear_df = clear_s.fillna('0').to_frame().T\n",
    "clear_df.index = ['number of Clear']\n",
    "\n",
    "clear_df"
   ]
  },
  {
   "cell_type": "markdown",
   "metadata": {},
   "source": [
    "## ファール数"
   ]
  },
  {
   "cell_type": "code",
   "execution_count": 74,
   "metadata": {},
   "outputs": [
    {
     "data": {
      "text/html": [
       "<div>\n",
       "<style scoped>\n",
       "    .dataframe tbody tr th:only-of-type {\n",
       "        vertical-align: middle;\n",
       "    }\n",
       "\n",
       "    .dataframe tbody tr th {\n",
       "        vertical-align: top;\n",
       "    }\n",
       "\n",
       "    .dataframe thead th {\n",
       "        text-align: right;\n",
       "    }\n",
       "</style>\n",
       "<table border=\"1\" class=\"dataframe\">\n",
       "  <thead>\n",
       "    <tr style=\"text-align: right;\">\n",
       "      <th>teamId</th>\n",
       "      <th>3148</th>\n",
       "      <th>4418</th>\n",
       "    </tr>\n",
       "  </thead>\n",
       "  <tbody>\n",
       "    <tr>\n",
       "      <th>number of Foul</th>\n",
       "      <td>7</td>\n",
       "      <td>12</td>\n",
       "    </tr>\n",
       "  </tbody>\n",
       "</table>\n",
       "</div>"
      ],
      "text/plain": [
       "teamId          3148  4418\n",
       "number of Foul     7    12"
      ]
     },
     "execution_count": 74,
     "metadata": {},
     "output_type": "execute_result"
    }
   ],
   "source": [
    "foul_s = df_tmp[df_tmp.subEventName=='Foul'].groupby('teamId').size()\n",
    "\n",
    "foul_df = foul_s.fillna('0').to_frame().T\n",
    "foul_df.index = ['number of Foul']\n",
    "\n",
    "foul_df"
   ]
  },
  {
   "cell_type": "markdown",
   "metadata": {},
   "source": [
    "## デュエルの勝率"
   ]
  },
  {
   "cell_type": "code",
   "execution_count": 94,
   "metadata": {},
   "outputs": [
    {
     "data": {
      "text/html": [
       "<div>\n",
       "<style scoped>\n",
       "    .dataframe tbody tr th:only-of-type {\n",
       "        vertical-align: middle;\n",
       "    }\n",
       "\n",
       "    .dataframe tbody tr th {\n",
       "        vertical-align: top;\n",
       "    }\n",
       "\n",
       "    .dataframe thead th {\n",
       "        text-align: right;\n",
       "    }\n",
       "</style>\n",
       "<table border=\"1\" class=\"dataframe\">\n",
       "  <thead>\n",
       "    <tr style=\"text-align: right;\">\n",
       "      <th>teamId</th>\n",
       "      <th>3148</th>\n",
       "      <th>4418</th>\n",
       "    </tr>\n",
       "  </thead>\n",
       "  <tbody>\n",
       "    <tr>\n",
       "      <th>duel win rate</th>\n",
       "      <td>61%</td>\n",
       "      <td>61%</td>\n",
       "    </tr>\n",
       "  </tbody>\n",
       "</table>\n",
       "</div>"
      ],
      "text/plain": [
       "teamId        3148 4418\n",
       "duel win rate  61%  61%"
      ]
     },
     "execution_count": 94,
     "metadata": {},
     "output_type": "execute_result"
    }
   ],
   "source": [
    "r_duel_s = df_tmp[df_tmp.eventName=='Duel'].groupby('teamId').tags.agg(lambda xs:np.sum([np.sum([1801 in [tag_dict['id']] for tag_dict in tags]) for tags in xs])/len(xs))\n",
    "\n",
    "r_duel_df = (r_duel_s.to_frame().T * 100).astype(int)\n",
    "r_duel_df = r_duel_df.applymap(lambda x: f'{x}%')\n",
    "\n",
    "r_duel_df.index = ['duel win rate']\n",
    "\n",
    "r_duel_df"
   ]
  },
  {
   "cell_type": "markdown",
   "metadata": {},
   "source": [
    "# 結合"
   ]
  },
  {
   "cell_type": "code",
   "execution_count": 105,
   "metadata": {},
   "outputs": [],
   "source": [
    "def create_match_summary_df(df_tmp, teams_df):\n",
    "    # スコア\n",
    "    score_s = df_tmp[df_tmp.eventName=='Shot'].groupby('teamId').tags.agg(lambda xs: np.sum([[101 in [tag_dict['id'] for tag_dict in tags]] for tags in xs])) \n",
    "\n",
    "    penalty_s = df_tmp[df_tmp.subEventName=='Penalty'].groupby('teamId').tags.agg(lambda xs: np.sum([[101 in [tag_dict['id'] for tag_dict in tags]] for tags in xs])) \n",
    "    for i in penalty_s.index:\n",
    "        score_s[i] += penalty_s[i]\n",
    "\n",
    "    score_df = score_s.fillna('0').to_frame().T\n",
    "    score_df.index = ['score']\n",
    "    \n",
    "    # シュート\n",
    "    shot_s = df_tmp[df_tmp.eventName=='Shot'].groupby('teamId').size()\n",
    "\n",
    "    penalty_s = df_tmp[df_tmp.subEventName=='Penalty'].groupby('teamId').size()\n",
    "    for i in penalty_s.index:\n",
    "        shot_s[i] += penalty_s[i]\n",
    "\n",
    "    shot_df = shot_s.fillna('0').to_frame().T\n",
    "    shot_df.index = ['number of shots']\n",
    "    \n",
    "    # パス本数\n",
    "    pass_s = df_tmp[df_tmp.eventName=='Pass'].groupby('teamId').size()\n",
    "\n",
    "    pass_df = pass_s.fillna('0').to_frame().T\n",
    "    pass_df.index = ['number of passes']\n",
    "\n",
    "    # パス成功率\n",
    "    r_pass_s = df_tmp[df_tmp.eventName=='Pass'].groupby('teamId').tags.agg(lambda xs: np.sum([[1801 in [tag_dict['id'] for tag_dict in tags]] for tags in xs])) \n",
    "\n",
    "    r_pass_df = (r_pass_s.to_frame().T / pass_df.values * 100).astype(int)\n",
    "    r_pass_df = r_pass_df.applymap(lambda x: f'{x: .2f}%')\n",
    "\n",
    "    r_pass_df.index = ['pass success rate']\n",
    "    \n",
    "    # クリア数\n",
    "    clear_s = df_tmp[df_tmp.subEventName=='Clearance'].groupby('teamId').size()\n",
    "\n",
    "    clear_df = clear_s.fillna('0').to_frame().T\n",
    "    clear_df.index = ['number of Clear']\n",
    "\n",
    "    # ファール\n",
    "    foul_s = df_tmp[df_tmp.subEventName=='Foul'].groupby('teamId').size()\n",
    "\n",
    "    foul_df = foul_s.fillna('0').to_frame().T\n",
    "    foul_df.index = ['number of Foul']\n",
    "    \n",
    "    # デュエル勝率\n",
    "    r_duel_s = df_tmp[df_tmp.eventName=='Duel'].groupby('teamId').tags.agg(lambda xs:np.sum([np.sum([1801 in [tag_dict['id']] for tag_dict in tags]) for tags in xs])/len(xs))\n",
    "\n",
    "    r_duel_df = (r_duel_s.to_frame().T * 100)\n",
    "    r_duel_df = r_duel_df.applymap(lambda x: f'{x: .2f}%')\n",
    "\n",
    "    r_duel_df.index = ['duel win rate']\n",
    "    \n",
    "    match_summary_df = pd.concat([score_df, shot_df, pass_df, r_pass_df, clear_df, foul_df, r_duel_df])\n",
    "    \n",
    "    match_summary_df.columns = [teams_df[teams_df.wyId==teamId].name.values[0] for teamId in match_summary_df.columns.tolist()]\n",
    "    \n",
    "    return match_summary_df"
   ]
  },
  {
   "cell_type": "code",
   "execution_count": 106,
   "metadata": {},
   "outputs": [
    {
     "data": {
      "text/html": [
       "<div>\n",
       "<style scoped>\n",
       "    .dataframe tbody tr th:only-of-type {\n",
       "        vertical-align: middle;\n",
       "    }\n",
       "\n",
       "    .dataframe tbody tr th {\n",
       "        vertical-align: top;\n",
       "    }\n",
       "\n",
       "    .dataframe thead th {\n",
       "        text-align: right;\n",
       "    }\n",
       "</style>\n",
       "<table border=\"1\" class=\"dataframe\">\n",
       "  <thead>\n",
       "    <tr style=\"text-align: right;\">\n",
       "      <th></th>\n",
       "      <th>Germany</th>\n",
       "      <th>France</th>\n",
       "    </tr>\n",
       "  </thead>\n",
       "  <tbody>\n",
       "    <tr>\n",
       "      <th>score</th>\n",
       "      <td>0</td>\n",
       "      <td>2</td>\n",
       "    </tr>\n",
       "    <tr>\n",
       "      <th>number of shots</th>\n",
       "      <td>15</td>\n",
       "      <td>12</td>\n",
       "    </tr>\n",
       "    <tr>\n",
       "      <th>number of passes</th>\n",
       "      <td>644</td>\n",
       "      <td>270</td>\n",
       "    </tr>\n",
       "    <tr>\n",
       "      <th>pass success rate</th>\n",
       "      <td>87.00%</td>\n",
       "      <td>81.00%</td>\n",
       "    </tr>\n",
       "    <tr>\n",
       "      <th>number of Clear</th>\n",
       "      <td>5</td>\n",
       "      <td>24</td>\n",
       "    </tr>\n",
       "    <tr>\n",
       "      <th>number of Foul</th>\n",
       "      <td>7</td>\n",
       "      <td>12</td>\n",
       "    </tr>\n",
       "    <tr>\n",
       "      <th>duel win rate</th>\n",
       "      <td>61.03%</td>\n",
       "      <td>61.54%</td>\n",
       "    </tr>\n",
       "  </tbody>\n",
       "</table>\n",
       "</div>"
      ],
      "text/plain": [
       "                   Germany   France\n",
       "score                    0        2\n",
       "number of shots         15       12\n",
       "number of passes       644      270\n",
       "pass success rate   87.00%   81.00%\n",
       "number of Clear          5       24\n",
       "number of Foul           7       12\n",
       "duel win rate       61.03%   61.54%"
      ]
     },
     "execution_count": 106,
     "metadata": {},
     "output_type": "execute_result"
    }
   ],
   "source": [
    "create_match_summary_df(df_tmp, teams_df)"
   ]
  },
  {
   "cell_type": "markdown",
   "metadata": {},
   "source": [
    "# eventごとに"
   ]
  },
  {
   "cell_type": "code",
   "execution_count": 10,
   "metadata": {},
   "outputs": [
    {
     "name": "stdout",
     "output_type": "stream",
     "text": [
      "Pass\n"
     ]
    },
    {
     "name": "stderr",
     "output_type": "stream",
     "text": [
      "/Users/yamamuros83/.pyenv/versions/anaconda3-5.3.1/envs/sample_env/lib/python3.6/site-packages/ipykernel_launcher.py:3: SettingWithCopyWarning:\n",
      "\n",
      "\n",
      "A value is trying to be set on a copy of a slice from a DataFrame.\n",
      "Try using .loc[row_indexer,col_indexer] = value instead\n",
      "\n",
      "See the caveats in the documentation: http://pandas.pydata.org/pandas-docs/stable/user_guide/indexing.html#returning-a-view-versus-a-copy\n",
      "\n"
     ]
    },
    {
     "data": {
      "text/html": [
       "<style  type=\"text/css\" >\n",
       "    #T_ed8b6b36_4342_11ea_baad_38f9d3587fd7row0_col0 {\n",
       "            width:  10em;\n",
       "             height:  80%;\n",
       "            background:  linear-gradient(90deg,#d65f5f 2.0%, transparent 2.0%);\n",
       "        }    #T_ed8b6b36_4342_11ea_baad_38f9d3587fd7row0_col1 {\n",
       "            width:  10em;\n",
       "             height:  80%;\n",
       "            background:  linear-gradient(90deg,#d65f5f 5.6%, transparent 5.6%);\n",
       "        }    #T_ed8b6b36_4342_11ea_baad_38f9d3587fd7row1_col0 {\n",
       "            width:  10em;\n",
       "             height:  80%;\n",
       "            background:  linear-gradient(90deg,#d65f5f 0.4%, transparent 0.4%);\n",
       "        }    #T_ed8b6b36_4342_11ea_baad_38f9d3587fd7row1_col1 {\n",
       "            width:  10em;\n",
       "             height:  80%;\n",
       "        }    #T_ed8b6b36_4342_11ea_baad_38f9d3587fd7row2_col0 {\n",
       "            width:  10em;\n",
       "             height:  80%;\n",
       "            background:  linear-gradient(90deg,#d65f5f 4.1%, transparent 4.1%);\n",
       "        }    #T_ed8b6b36_4342_11ea_baad_38f9d3587fd7row2_col1 {\n",
       "            width:  10em;\n",
       "             height:  80%;\n",
       "            background:  linear-gradient(90deg,#d65f5f 4.4%, transparent 4.4%);\n",
       "        }    #T_ed8b6b36_4342_11ea_baad_38f9d3587fd7row3_col0 {\n",
       "            width:  10em;\n",
       "             height:  80%;\n",
       "            background:  linear-gradient(90deg,#d65f5f 2.6%, transparent 2.6%);\n",
       "        }    #T_ed8b6b36_4342_11ea_baad_38f9d3587fd7row3_col1 {\n",
       "            width:  10em;\n",
       "             height:  80%;\n",
       "            background:  linear-gradient(90deg,#d65f5f 5.7%, transparent 5.7%);\n",
       "        }    #T_ed8b6b36_4342_11ea_baad_38f9d3587fd7row4_col0 {\n",
       "            width:  10em;\n",
       "             height:  80%;\n",
       "            background:  linear-gradient(90deg,#d65f5f 0.9%, transparent 0.9%);\n",
       "        }    #T_ed8b6b36_4342_11ea_baad_38f9d3587fd7row4_col1 {\n",
       "            width:  10em;\n",
       "             height:  80%;\n",
       "            background:  linear-gradient(90deg,#d65f5f 1.1%, transparent 1.1%);\n",
       "        }    #T_ed8b6b36_4342_11ea_baad_38f9d3587fd7row5_col0 {\n",
       "            width:  10em;\n",
       "             height:  80%;\n",
       "            background:  linear-gradient(90deg,#d65f5f 37.8%, transparent 37.8%);\n",
       "        }    #T_ed8b6b36_4342_11ea_baad_38f9d3587fd7row5_col1 {\n",
       "            width:  10em;\n",
       "             height:  80%;\n",
       "            background:  linear-gradient(90deg,#d65f5f 100.0%, transparent 100.0%);\n",
       "        }    #T_ed8b6b36_4342_11ea_baad_38f9d3587fd7row6_col0 {\n",
       "            width:  10em;\n",
       "             height:  80%;\n",
       "            background:  linear-gradient(90deg,#d65f5f 0.9%, transparent 0.9%);\n",
       "        }    #T_ed8b6b36_4342_11ea_baad_38f9d3587fd7row6_col1 {\n",
       "            width:  10em;\n",
       "             height:  80%;\n",
       "            background:  linear-gradient(90deg,#d65f5f 1.1%, transparent 1.1%);\n",
       "        }</style><table id=\"T_ed8b6b36_4342_11ea_baad_38f9d3587fd7\" ><thead>    <tr>        <th class=\"blank level0\" ></th>        <th class=\"col_heading level0 col0\" colspan=2>Number of actions</th>    </tr>    <tr>        <th class=\"index_name level1\" >teamName</th>        <th class=\"col_heading level1 col0\" >France</th>        <th class=\"col_heading level1 col1\" >Germany</th>    </tr>    <tr>        <th class=\"index_name level0\" >subEventName</th>        <th class=\"blank\" ></th>        <th class=\"blank\" ></th>    </tr></thead><tbody>\n",
       "                <tr>\n",
       "                        <th id=\"T_ed8b6b36_4342_11ea_baad_38f9d3587fd7level0_row0\" class=\"row_heading level0 row0\" >Cross</th>\n",
       "                        <td id=\"T_ed8b6b36_4342_11ea_baad_38f9d3587fd7row0_col0\" class=\"data row0 col0\" >12</td>\n",
       "                        <td id=\"T_ed8b6b36_4342_11ea_baad_38f9d3587fd7row0_col1\" class=\"data row0 col1\" >31</td>\n",
       "            </tr>\n",
       "            <tr>\n",
       "                        <th id=\"T_ed8b6b36_4342_11ea_baad_38f9d3587fd7level0_row1\" class=\"row_heading level0 row1\" >Hand pass</th>\n",
       "                        <td id=\"T_ed8b6b36_4342_11ea_baad_38f9d3587fd7row1_col0\" class=\"data row1 col0\" >3</td>\n",
       "                        <td id=\"T_ed8b6b36_4342_11ea_baad_38f9d3587fd7row1_col1\" class=\"data row1 col1\" >1</td>\n",
       "            </tr>\n",
       "            <tr>\n",
       "                        <th id=\"T_ed8b6b36_4342_11ea_baad_38f9d3587fd7level0_row2\" class=\"row_heading level0 row2\" >Head pass</th>\n",
       "                        <td id=\"T_ed8b6b36_4342_11ea_baad_38f9d3587fd7row2_col0\" class=\"data row2 col0\" >23</td>\n",
       "                        <td id=\"T_ed8b6b36_4342_11ea_baad_38f9d3587fd7row2_col1\" class=\"data row2 col1\" >25</td>\n",
       "            </tr>\n",
       "            <tr>\n",
       "                        <th id=\"T_ed8b6b36_4342_11ea_baad_38f9d3587fd7level0_row3\" class=\"row_heading level0 row3\" >High pass</th>\n",
       "                        <td id=\"T_ed8b6b36_4342_11ea_baad_38f9d3587fd7row3_col0\" class=\"data row3 col0\" >15</td>\n",
       "                        <td id=\"T_ed8b6b36_4342_11ea_baad_38f9d3587fd7row3_col1\" class=\"data row3 col1\" >32</td>\n",
       "            </tr>\n",
       "            <tr>\n",
       "                        <th id=\"T_ed8b6b36_4342_11ea_baad_38f9d3587fd7level0_row4\" class=\"row_heading level0 row4\" >Launch</th>\n",
       "                        <td id=\"T_ed8b6b36_4342_11ea_baad_38f9d3587fd7row4_col0\" class=\"data row4 col0\" >6</td>\n",
       "                        <td id=\"T_ed8b6b36_4342_11ea_baad_38f9d3587fd7row4_col1\" class=\"data row4 col1\" >7</td>\n",
       "            </tr>\n",
       "            <tr>\n",
       "                        <th id=\"T_ed8b6b36_4342_11ea_baad_38f9d3587fd7level0_row5\" class=\"row_heading level0 row5\" >Simple pass</th>\n",
       "                        <td id=\"T_ed8b6b36_4342_11ea_baad_38f9d3587fd7row5_col0\" class=\"data row5 col0\" >205</td>\n",
       "                        <td id=\"T_ed8b6b36_4342_11ea_baad_38f9d3587fd7row5_col1\" class=\"data row5 col1\" >541</td>\n",
       "            </tr>\n",
       "            <tr>\n",
       "                        <th id=\"T_ed8b6b36_4342_11ea_baad_38f9d3587fd7level0_row6\" class=\"row_heading level0 row6\" >Smart pass</th>\n",
       "                        <td id=\"T_ed8b6b36_4342_11ea_baad_38f9d3587fd7row6_col0\" class=\"data row6 col0\" >6</td>\n",
       "                        <td id=\"T_ed8b6b36_4342_11ea_baad_38f9d3587fd7row6_col1\" class=\"data row6 col1\" >7</td>\n",
       "            </tr>\n",
       "    </tbody></table>"
      ],
      "text/plain": [
       "<pandas.io.formats.style.Styler at 0x10e10b278>"
      ]
     },
     "metadata": {},
     "output_type": "display_data"
    },
    {
     "name": "stdout",
     "output_type": "stream",
     "text": [
      "Duel\n"
     ]
    },
    {
     "data": {
      "text/html": [
       "<style  type=\"text/css\" >\n",
       "    #T_ee1c5634_4342_11ea_8b88_38f9d3587fd7row0_col0 {\n",
       "            width:  10em;\n",
       "             height:  80%;\n",
       "            background:  linear-gradient(90deg,#d65f5f 25.0%, transparent 25.0%);\n",
       "        }    #T_ee1c5634_4342_11ea_8b88_38f9d3587fd7row0_col1 {\n",
       "            width:  10em;\n",
       "             height:  80%;\n",
       "            background:  linear-gradient(90deg,#d65f5f 36.4%, transparent 36.4%);\n",
       "        }    #T_ee1c5634_4342_11ea_8b88_38f9d3587fd7row1_col0 {\n",
       "            width:  10em;\n",
       "             height:  80%;\n",
       "            background:  linear-gradient(90deg,#d65f5f 65.9%, transparent 65.9%);\n",
       "        }    #T_ee1c5634_4342_11ea_8b88_38f9d3587fd7row1_col1 {\n",
       "            width:  10em;\n",
       "             height:  80%;\n",
       "            background:  linear-gradient(90deg,#d65f5f 100.0%, transparent 100.0%);\n",
       "        }    #T_ee1c5634_4342_11ea_8b88_38f9d3587fd7row2_col0 {\n",
       "            width:  10em;\n",
       "             height:  80%;\n",
       "            background:  linear-gradient(90deg,#d65f5f 75.0%, transparent 75.0%);\n",
       "        }    #T_ee1c5634_4342_11ea_8b88_38f9d3587fd7row2_col1 {\n",
       "            width:  10em;\n",
       "             height:  80%;\n",
       "            background:  linear-gradient(90deg,#d65f5f 81.8%, transparent 81.8%);\n",
       "        }    #T_ee1c5634_4342_11ea_8b88_38f9d3587fd7row3_col0 {\n",
       "            width:  10em;\n",
       "             height:  80%;\n",
       "        }    #T_ee1c5634_4342_11ea_8b88_38f9d3587fd7row3_col1 {\n",
       "            width:  10em;\n",
       "             height:  80%;\n",
       "            background:  linear-gradient(90deg,#d65f5f 6.8%, transparent 6.8%);\n",
       "        }</style><table id=\"T_ee1c5634_4342_11ea_8b88_38f9d3587fd7\" ><thead>    <tr>        <th class=\"blank level0\" ></th>        <th class=\"col_heading level0 col0\" colspan=2>Number of actions</th>    </tr>    <tr>        <th class=\"index_name level1\" >teamName</th>        <th class=\"col_heading level1 col0\" >France</th>        <th class=\"col_heading level1 col1\" >Germany</th>    </tr>    <tr>        <th class=\"index_name level0\" >subEventName</th>        <th class=\"blank\" ></th>        <th class=\"blank\" ></th>    </tr></thead><tbody>\n",
       "                <tr>\n",
       "                        <th id=\"T_ee1c5634_4342_11ea_8b88_38f9d3587fd7level0_row0\" class=\"row_heading level0 row0\" >Air duel</th>\n",
       "                        <td id=\"T_ee1c5634_4342_11ea_8b88_38f9d3587fd7row0_col0\" class=\"data row0 col0\" >35</td>\n",
       "                        <td id=\"T_ee1c5634_4342_11ea_8b88_38f9d3587fd7row0_col1\" class=\"data row0 col1\" >40</td>\n",
       "            </tr>\n",
       "            <tr>\n",
       "                        <th id=\"T_ee1c5634_4342_11ea_8b88_38f9d3587fd7level0_row1\" class=\"row_heading level0 row1\" >Ground attacking duel</th>\n",
       "                        <td id=\"T_ee1c5634_4342_11ea_8b88_38f9d3587fd7row1_col0\" class=\"data row1 col0\" >53</td>\n",
       "                        <td id=\"T_ee1c5634_4342_11ea_8b88_38f9d3587fd7row1_col1\" class=\"data row1 col1\" >68</td>\n",
       "            </tr>\n",
       "            <tr>\n",
       "                        <th id=\"T_ee1c5634_4342_11ea_8b88_38f9d3587fd7level0_row2\" class=\"row_heading level0 row2\" >Ground defending duel</th>\n",
       "                        <td id=\"T_ee1c5634_4342_11ea_8b88_38f9d3587fd7row2_col0\" class=\"data row2 col0\" >57</td>\n",
       "                        <td id=\"T_ee1c5634_4342_11ea_8b88_38f9d3587fd7row2_col1\" class=\"data row2 col1\" >60</td>\n",
       "            </tr>\n",
       "            <tr>\n",
       "                        <th id=\"T_ee1c5634_4342_11ea_8b88_38f9d3587fd7level0_row3\" class=\"row_heading level0 row3\" >Ground loose ball duel</th>\n",
       "                        <td id=\"T_ee1c5634_4342_11ea_8b88_38f9d3587fd7row3_col0\" class=\"data row3 col0\" >24</td>\n",
       "                        <td id=\"T_ee1c5634_4342_11ea_8b88_38f9d3587fd7row3_col1\" class=\"data row3 col1\" >27</td>\n",
       "            </tr>\n",
       "    </tbody></table>"
      ],
      "text/plain": [
       "<pandas.io.formats.style.Styler at 0x110df3be0>"
      ]
     },
     "metadata": {},
     "output_type": "display_data"
    }
   ],
   "source": [
    "for eventName in ['Pass', 'Duel']:\n",
    "    \n",
    "    df_tmp['teamName'] = df_tmp.teamId.apply(lambda x: teams_df[teams_df.wyId==x].name.values[0])\n",
    "    summary = df_tmp[df_tmp.eventName==eventName].groupby(['teamName', 'subEventName']).size().to_frame()\n",
    "    summary.columns = ['Number of actions']\n",
    "\n",
    "    print(eventName)\n",
    "    display(summary.reset_index(0).pivot_table(values=['Number of actions'], index=['subEventName'], columns=['teamName']).style.bar(vmin=summary.min(), vmax=summary.max()))\n",
    "    "
   ]
  }
 ],
 "metadata": {
  "kernelspec": {
   "display_name": "Python 3",
   "language": "python",
   "name": "python3"
  },
  "language_info": {
   "codemirror_mode": {
    "name": "ipython",
    "version": 3
   },
   "file_extension": ".py",
   "mimetype": "text/x-python",
   "name": "python",
   "nbconvert_exporter": "python",
   "pygments_lexer": "ipython3",
   "version": "3.6.0"
  }
 },
 "nbformat": 4,
 "nbformat_minor": 4
}
