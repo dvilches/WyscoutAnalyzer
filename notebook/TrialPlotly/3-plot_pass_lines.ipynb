{
 "cells": [
  {
   "cell_type": "markdown",
   "metadata": {},
   "source": [
    "table of contents\n",
    "1. 準備\n",
    "2. データのインポート\n",
    "3. パスラインの可視化"
   ]
  },
  {
   "cell_type": "markdown",
   "metadata": {},
   "source": [
    "# 準備"
   ]
  },
  {
   "cell_type": "code",
   "execution_count": 1,
   "metadata": {},
   "outputs": [
    {
     "data": {
      "text/html": [
       "        <script type=\"text/javascript\">\n",
       "        window.PlotlyConfig = {MathJaxConfig: 'local'};\n",
       "        if (window.MathJax) {MathJax.Hub.Config({SVG: {font: \"STIX-Web\"}});}\n",
       "        if (typeof require !== 'undefined') {\n",
       "        require.undef(\"plotly\");\n",
       "        requirejs.config({\n",
       "            paths: {\n",
       "                'plotly': ['https://cdn.plot.ly/plotly-latest.min']\n",
       "            }\n",
       "        });\n",
       "        require(['plotly'], function(Plotly) {\n",
       "            window._Plotly = Plotly;\n",
       "        });\n",
       "        }\n",
       "        </script>\n",
       "        "
      ]
     },
     "metadata": {},
     "output_type": "display_data"
    }
   ],
   "source": [
    "import os, time\n",
    "\n",
    "import numpy as np\n",
    "import pandas as pd\n",
    "import matplotlib.pyplot as plt\n",
    "%matplotlib inline\n",
    "\n",
    "import plotly.graph_objs as go\n",
    "import plotly.express as px\n",
    "from plotly.offline import init_notebook_mode, plot, iplot\n",
    "\n",
    "init_notebook_mode(connected=True)"
   ]
  },
  {
   "cell_type": "markdown",
   "metadata": {},
   "source": [
    "# データのインポート"
   ]
  },
  {
   "cell_type": "code",
   "execution_count": 2,
   "metadata": {},
   "outputs": [
    {
     "name": "stdout",
     "output_type": "stream",
     "text": [
      "['World_Cup', 'Italy', 'Germany', 'England', 'France', 'Spain', 'European_Championship']\n"
     ]
    }
   ],
   "source": [
    "base_dir = os.path.join('..','..')\n",
    "data_dir = os.path.join(base_dir, 'data', 'raw')\n",
    "\n",
    "def read_dfs():\n",
    "    players_df = pd.read_json(os.path.join(data_dir, 'players.json'))\n",
    "    teams_df = pd.read_json(os.path.join(data_dir, 'teams.json'))\n",
    "\n",
    "    # encode, decode\n",
    "    players_df['shortName'] = players_df.shortName.apply(lambda x: x.encode('utf-8').decode('unicode-escape'))\n",
    "    teams_df['name'] = teams_df.name.apply(lambda x: x.encode('utf-8').decode('unicode-escape'))\n",
    "\n",
    "    return players_df, teams_df\n",
    "\n",
    "players_df, teams_df = read_dfs()\n",
    "\n",
    "competition_list = [infile.replace('matches_','').replace('.json','') for infile in os.listdir(os.path.join(data_dir, 'matches')) if infile.endswith('.json')]\n",
    "\n",
    "print(competition_list)"
   ]
  },
  {
   "cell_type": "code",
   "execution_count": 3,
   "metadata": {},
   "outputs": [
    {
     "name": "stdout",
     "output_type": "stream",
     "text": [
      "['France - Romania, 2 - 1 @Stade de France, 2016-06-10', 'Albania - Switzerland, 0 - 1 @Stade Bollaert-Delelis, 2016-06-11', 'Wales - Slovakia, 2 - 1 @Stade Matmut-Atlantique, 2016-06-11', 'England - Russia, 1 - 1 @Stade Vélodrome, 2016-06-11', 'Turkey - Croatia, 0 - 1 @Parc des Princes, 2016-06-12', 'Poland - Northern Ireland, 1 - 0 @Allianz Riviera, 2016-06-12', 'Germany - Ukraine, 2 - 0 @Stade Pierre-Mauroy, 2016-06-12', 'Spain - Czech Republic, 1 - 0 @Stadium Municipal, 2016-06-13', 'Republic of Ireland - Sweden, 1 - 1 @Stade de France, 2016-06-13', 'Belgium - Italy, 0 - 2 @Groupama Stadium, 2016-06-13', 'Austria - Hungary, 0 - 2 @Stade Matmut-Atlantique, 2016-06-14', 'Portugal - Iceland, 1 - 1 @Stade Geoffroy-Guichard, 2016-06-14', 'Russia - Slovakia, 1 - 2 @Stade Pierre-Mauroy, 2016-06-15', 'Romania - Switzerland, 1 - 1 @Parc des Princes, 2016-06-15', 'France - Albania, 2 - 0 @Stade Vélodrome, 2016-06-15', 'England - Wales, 2 - 1 @Stade Bollaert-Delelis, 2016-06-16', 'Ukraine - Northern Ireland, 0 - 2 @Groupama Stadium, 2016-06-16', 'Germany - Poland, 0 - 0 @Stade de France, 2016-06-16', 'Italy - Sweden, 1 - 0 @Stadium Municipal, 2016-06-17', 'Czech Republic - Croatia, 2 - 2 @Stade Geoffroy-Guichard, 2016-06-17', 'Spain - Turkey, 3 - 0 @Allianz Riviera, 2016-06-17', 'Belgium - Republic of Ireland, 3 - 0 @Stade Matmut-Atlantique, 2016-06-18', 'Iceland - Hungary, 1 - 1 @Stade Vélodrome, 2016-06-18', 'Portugal - Austria, 0 - 0 @Parc des Princes, 2016-06-18', 'Romania - Albania, 0 - 1 @Groupama Stadium, 2016-06-19', 'Switzerland - France, 0 - 0 @Stade Pierre-Mauroy, 2016-06-19', 'Slovakia - England, 0 - 0 @Stade Geoffroy-Guichard, 2016-06-20', 'Russia - Wales, 0 - 3 @Stadium Municipal, 2016-06-20', 'Northern Ireland - Germany, 0 - 1 @Parc des Princes, 2016-06-21', 'Ukraine - Poland, 0 - 1 @Stade Vélodrome, 2016-06-21', 'Croatia - Spain, 2 - 1 @Stade Matmut-Atlantique, 2016-06-21', 'Czech Republic - Turkey, 0 - 2 @Stade Bollaert-Delelis, 2016-06-21', 'Iceland - Austria, 2 - 1 @Stade de France, 2016-06-22', 'Hungary - Portugal, 3 - 3 @Groupama Stadium, 2016-06-22', 'Italy - Republic of Ireland, 0 - 1 @Stade Pierre-Mauroy, 2016-06-22', 'Sweden - Belgium, 0 - 1 @Allianz Riviera, 2016-06-22', 'Switzerland - Poland, 1 - 1 (P) @Stade Geoffroy-Guichard, 2016-06-25', 'Wales - Northern Ireland, 1 - 0 @Parc des Princes, 2016-06-25', 'Croatia - Portugal, 0 - 1 (E) @Stade Bollaert-Delelis, 2016-06-25', 'France - Republic of Ireland, 2 - 1 @Groupama Stadium, 2016-06-26', 'Germany - Slovakia, 3 - 0 @Stade Pierre-Mauroy, 2016-06-26', 'Hungary - Belgium, 0 - 4 @Stadium Municipal, 2016-06-26', 'Italy - Spain, 2 - 0 @Stade de France, 2016-06-27', 'England - Iceland, 1 - 2 @Allianz Riviera, 2016-06-27', 'Poland - Portugal, 1 - 1 (P) @Stade Vélodrome, 2016-06-30', 'Wales - Belgium, 3 - 1 @Stade Pierre-Mauroy, 2016-07-01', 'Germany - Italy, 1 - 1 (P) @Stade Matmut-Atlantique, 2016-07-02', 'France - Iceland, 5 - 2 @Stade de France, 2016-07-03', 'Portugal - Wales, 2 - 0 @Groupama Stadium, 2016-07-06', 'Germany - France, 0 - 2 @Stade Vélodrome, 2016-07-07', 'Portugal - France, 1 - 0 (E) @Stade de France, 2016-07-10']\n"
     ]
    }
   ],
   "source": [
    "selected_competition = 'European_Championship'\n",
    "\n",
    "def read_events_df(selected_competition):\n",
    "    events_df = pd.read_json(os.path.join(data_dir, 'events', f'events_{selected_competition}.json'))\n",
    "    return events_df\n",
    "\n",
    "def read_matches_df(selected_competition):\n",
    "    matches_df = pd.read_json(os.path.join(data_dir, 'matches', f'matches_{selected_competition}.json'))\n",
    "    matches_df['date_time'] = pd.to_datetime(matches_df.dateutc)\n",
    "\n",
    "    # encode, decode\n",
    "    matches_df['label'] = matches_df.label.apply(lambda x: x.encode('utf-8').decode('unicode-escape'))\n",
    "    matches_df['venue'] = matches_df.venue.apply(lambda x: x.encode('utf-8').decode('unicode-escape'))\n",
    "\n",
    "    # concate label, venue, date_time\n",
    "    matches_df['name'] = matches_df[['label', 'venue', 'date_time']].apply(lambda xs: f'{xs[0]} @{xs[1]}, {xs[2].date()}', axis=1)\n",
    "\n",
    "    return matches_df.sort_values('date_time')\n",
    "\n",
    "matches_df = read_matches_df(selected_competition)\n",
    "\n",
    "name_list = matches_df.name.tolist()\n",
    "print(name_list)"
   ]
  },
  {
   "cell_type": "code",
   "execution_count": 4,
   "metadata": {},
   "outputs": [],
   "source": [
    "selected_match = 'Germany - France, 0 - 2 @Stade Vélodrome, 2016-07-07'\n",
    "selected_wyId = matches_df[matches_df.name == selected_match].wyId.values[0]\n",
    "\n",
    "events_df = read_events_df(selected_competition)\n",
    "\n",
    "matchPeriod_list = ['1H', '2H']\n",
    "\n",
    "df_tmp = events_df[(events_df.matchId == selected_wyId)&(events_df.eventName=='Pass')&(events_df.matchPeriod.isin(matchPeriod_list))]"
   ]
  },
  {
   "cell_type": "markdown",
   "metadata": {},
   "source": [
    "# パスラインの可視化"
   ]
  },
  {
   "cell_type": "markdown",
   "metadata": {},
   "source": [
    "## 関数の定義"
   ]
  },
  {
   "cell_type": "code",
   "execution_count": 5,
   "metadata": {},
   "outputs": [],
   "source": [
    "from plotly.subplots import make_subplots\n",
    "\n",
    "def draw_pitches(nrows, ncols, title_list=[], colorbar=False):\n",
    "\n",
    "    COLOR = 'white'\n",
    "    twitter_color = 'rgb(20,29,38)'\n",
    "\n",
    "    fig = make_subplots(rows=nrows, cols=ncols, subplot_titles=title_list, horizontal_spacing=0.05, vertical_spacing=0.05)\n",
    "    for i in range(1,nrows+1):\n",
    "        for j in range(1,ncols+1):\n",
    "            \n",
    "            line_list = [[[0,120], [0,0]], [[120,120], [0,80]], [[120,0], [80,80]], [[0,0], [80,0]], [[60,60], [0,80]]]\n",
    "            line_list += [[[0,18], [18,18]], [[18,18], [18,62]], [[18,0], [62,62]], [[0,6], [30,30]], [[6,6], [30,50]], [[6,0], [50,50]]]\n",
    "            line_list += [[[120, 102], [18,18]], [[102,102], [18,62]], [[102,120], [62,62]], [[120,114], [30,30]], [[114,114], [30,50]], [[114,120], [50,50]]]\n",
    "\n",
    "            for [x, y] in line_list:\n",
    "                fig.add_trace(go.Scatter(x=x, y=y,\n",
    "                                    mode='lines',\n",
    "                                    line=dict(color=COLOR, width=2.5),\n",
    "                                    showlegend=False,\n",
    "                                    hoverinfo='none'\n",
    "                                    )\n",
    "                             , row=i, col=j)\n",
    "\n",
    "            line_list = [[[0,0], [36,44]], [[120,120], [36,44]]]\n",
    "            for [x, y] in line_list:\n",
    "                fig.add_trace(go.Scatter(x=x, y=y,\n",
    "                                    mode='lines',\n",
    "                                    line=dict(color=COLOR, width=12.5),\n",
    "                                    showlegend=False,\n",
    "                                    hoverinfo='none'\n",
    "                                    )\n",
    "                             , row=i, col=j)\n",
    "\n",
    "            fig.add_shape(go.layout.Shape(type='circle', x0=60-12, y0=40-12, x1=60+12, y1=40+12, line_color=COLOR, line_width=2.5), row=i, col=j)\n",
    "            fig.update_xaxes(range=[-1, 120+1], visible=False, row=i, col=j)\n",
    "            fig.update_yaxes(range=[-1, 80+1], visible=False, row=i, col=j)\n",
    "    \n",
    "    fig.update_layout(go.Layout(width=120*10, height=80*10, plot_bgcolor=twitter_color, paper_bgcolor=twitter_color, autosize=True, margin=dict(l=10, r=10, t=20, b=10), legend=dict(font=dict(color=COLOR))))\n",
    "    \n",
    "    for i in fig['layout']['annotations']:\n",
    "        i['font'] = dict(size=15,color=COLOR)\n",
    "    \n",
    "    return fig"
   ]
  },
  {
   "cell_type": "markdown",
   "metadata": {},
   "source": [
    "## 可視化"
   ]
  },
  {
   "cell_type": "code",
   "execution_count": 6,
   "metadata": {},
   "outputs": [
    {
     "name": "stderr",
     "output_type": "stream",
     "text": [
      "/Users/yamamuros83/.pyenv/versions/anaconda3-5.3.1/envs/sample_env/lib/python3.6/site-packages/ipykernel_launcher.py:4: SettingWithCopyWarning:\n",
      "\n",
      "\n",
      "A value is trying to be set on a copy of a slice from a DataFrame.\n",
      "Try using .loc[row_indexer,col_indexer] = value instead\n",
      "\n",
      "See the caveats in the documentation: http://pandas.pydata.org/pandas-docs/stable/indexing.html#indexing-view-versus-copy\n",
      "\n",
      "/Users/yamamuros83/.pyenv/versions/anaconda3-5.3.1/envs/sample_env/lib/python3.6/site-packages/ipykernel_launcher.py:5: SettingWithCopyWarning:\n",
      "\n",
      "\n",
      "A value is trying to be set on a copy of a slice from a DataFrame.\n",
      "Try using .loc[row_indexer,col_indexer] = value instead\n",
      "\n",
      "See the caveats in the documentation: http://pandas.pydata.org/pandas-docs/stable/indexing.html#indexing-view-versus-copy\n",
      "\n",
      "/Users/yamamuros83/.pyenv/versions/anaconda3-5.3.1/envs/sample_env/lib/python3.6/site-packages/ipykernel_launcher.py:6: SettingWithCopyWarning:\n",
      "\n",
      "\n",
      "A value is trying to be set on a copy of a slice from a DataFrame.\n",
      "Try using .loc[row_indexer,col_indexer] = value instead\n",
      "\n",
      "See the caveats in the documentation: http://pandas.pydata.org/pandas-docs/stable/indexing.html#indexing-view-versus-copy\n",
      "\n",
      "/Users/yamamuros83/.pyenv/versions/anaconda3-5.3.1/envs/sample_env/lib/python3.6/site-packages/ipykernel_launcher.py:7: SettingWithCopyWarning:\n",
      "\n",
      "\n",
      "A value is trying to be set on a copy of a slice from a DataFrame.\n",
      "Try using .loc[row_indexer,col_indexer] = value instead\n",
      "\n",
      "See the caveats in the documentation: http://pandas.pydata.org/pandas-docs/stable/indexing.html#indexing-view-versus-copy\n",
      "\n",
      "/Users/yamamuros83/.pyenv/versions/anaconda3-5.3.1/envs/sample_env/lib/python3.6/site-packages/pandas/core/frame.py:3140: SettingWithCopyWarning:\n",
      "\n",
      "\n",
      "A value is trying to be set on a copy of a slice from a DataFrame.\n",
      "Try using .loc[row_indexer,col_indexer] = value instead\n",
      "\n",
      "See the caveats in the documentation: http://pandas.pydata.org/pandas-docs/stable/indexing.html#indexing-view-versus-copy\n",
      "\n",
      "/Users/yamamuros83/.pyenv/versions/anaconda3-5.3.1/envs/sample_env/lib/python3.6/site-packages/ipykernel_launcher.py:11: SettingWithCopyWarning:\n",
      "\n",
      "\n",
      "A value is trying to be set on a copy of a slice from a DataFrame.\n",
      "Try using .loc[row_indexer,col_indexer] = value instead\n",
      "\n",
      "See the caveats in the documentation: http://pandas.pydata.org/pandas-docs/stable/indexing.html#indexing-view-versus-copy\n",
      "\n",
      "/Users/yamamuros83/.pyenv/versions/anaconda3-5.3.1/envs/sample_env/lib/python3.6/site-packages/ipykernel_launcher.py:12: SettingWithCopyWarning:\n",
      "\n",
      "\n",
      "A value is trying to be set on a copy of a slice from a DataFrame.\n",
      "Try using .loc[row_indexer,col_indexer] = value instead\n",
      "\n",
      "See the caveats in the documentation: http://pandas.pydata.org/pandas-docs/stable/indexing.html#indexing-view-versus-copy\n",
      "\n"
     ]
    }
   ],
   "source": [
    "XMAX, XMIN = 120, 0\n",
    "YMAX, YMIN = 80, 0\n",
    "\n",
    "df_tmp['st_x'] = None\n",
    "df_tmp['st_y'] = None\n",
    "df_tmp['ed_x'] = None\n",
    "df_tmp['ed_y'] = None\n",
    "\n",
    "df_tmp[['st_x', 'st_y', 'ed_x', 'ed_y']] = df_tmp.apply(lambda xs: [XMAX*xs['positions'][0]['x']/100, YMAX*(1-xs['positions'][0]['y']/100), XMAX*xs['positions'][1]['x']/100, YMAX*(1-xs['positions'][1]['y']/100)], result_type='expand', axis=1)\n",
    "\n",
    "df_tmp['result'] = df_tmp.apply(lambda xs: 'success' if 1801 in [tag['id'] for tag in xs['tags']] else 'failure', axis=1)\n",
    "df_tmp['name'] = df_tmp.apply(lambda xs: 'player= '+players_df[players_df.wyId==xs['playerId']].shortName.tolist()[0]+'\\n time= '+str(int(xs['eventSec']/60))+'m'+str(int(xs['eventSec']%60))+'s\\n subEventName= '+xs['subEventName']+'\\n result= '+xs['result'], axis=1)"
   ]
  },
  {
   "cell_type": "code",
   "execution_count": 7,
   "metadata": {},
   "outputs": [
    {
     "data": {
      "text/html": [
       "<div>\n",
       "<style scoped>\n",
       "    .dataframe tbody tr th:only-of-type {\n",
       "        vertical-align: middle;\n",
       "    }\n",
       "\n",
       "    .dataframe tbody tr th {\n",
       "        vertical-align: top;\n",
       "    }\n",
       "\n",
       "    .dataframe thead th {\n",
       "        text-align: right;\n",
       "    }\n",
       "</style>\n",
       "<table border=\"1\" class=\"dataframe\">\n",
       "  <thead>\n",
       "    <tr style=\"text-align: right;\">\n",
       "      <th></th>\n",
       "      <th>eventId</th>\n",
       "      <th>eventName</th>\n",
       "      <th>eventSec</th>\n",
       "      <th>id</th>\n",
       "      <th>matchId</th>\n",
       "      <th>matchPeriod</th>\n",
       "      <th>playerId</th>\n",
       "      <th>positions</th>\n",
       "      <th>subEventId</th>\n",
       "      <th>subEventName</th>\n",
       "      <th>tags</th>\n",
       "      <th>teamId</th>\n",
       "      <th>st_x</th>\n",
       "      <th>st_y</th>\n",
       "      <th>ed_x</th>\n",
       "      <th>ed_y</th>\n",
       "      <th>result</th>\n",
       "      <th>name</th>\n",
       "    </tr>\n",
       "  </thead>\n",
       "  <tbody>\n",
       "    <tr>\n",
       "      <th>74554</th>\n",
       "      <td>8</td>\n",
       "      <td>Pass</td>\n",
       "      <td>1.908619</td>\n",
       "      <td>90356461</td>\n",
       "      <td>1694439</td>\n",
       "      <td>1H</td>\n",
       "      <td>25397</td>\n",
       "      <td>[{'y': 33, 'x': 28}, {'y': 73, 'x': 29}]</td>\n",
       "      <td>85</td>\n",
       "      <td>Simple pass</td>\n",
       "      <td>[{'id': 1801}]</td>\n",
       "      <td>4418</td>\n",
       "      <td>33.6</td>\n",
       "      <td>53.6</td>\n",
       "      <td>34.8</td>\n",
       "      <td>21.6</td>\n",
       "      <td>success</td>\n",
       "      <td>player= S. Umtiti\\n time= 0m1s\\n subEventName=...</td>\n",
       "    </tr>\n",
       "    <tr>\n",
       "      <th>74555</th>\n",
       "      <td>8</td>\n",
       "      <td>Pass</td>\n",
       "      <td>5.177858</td>\n",
       "      <td>90356462</td>\n",
       "      <td>1694439</td>\n",
       "      <td>1H</td>\n",
       "      <td>7855</td>\n",
       "      <td>[{'y': 73, 'x': 29}, {'y': 73, 'x': 32}]</td>\n",
       "      <td>85</td>\n",
       "      <td>Simple pass</td>\n",
       "      <td>[{'id': 1801}]</td>\n",
       "      <td>4418</td>\n",
       "      <td>34.8</td>\n",
       "      <td>21.6</td>\n",
       "      <td>38.4</td>\n",
       "      <td>21.6</td>\n",
       "      <td>success</td>\n",
       "      <td>player= L. Koscielny\\n time= 0m5s\\n subEventNa...</td>\n",
       "    </tr>\n",
       "    <tr>\n",
       "      <th>74556</th>\n",
       "      <td>8</td>\n",
       "      <td>Pass</td>\n",
       "      <td>7.405928</td>\n",
       "      <td>90356463</td>\n",
       "      <td>1694439</td>\n",
       "      <td>1H</td>\n",
       "      <td>7936</td>\n",
       "      <td>[{'y': 73, 'x': 32}, {'y': 80, 'x': 26}]</td>\n",
       "      <td>85</td>\n",
       "      <td>Simple pass</td>\n",
       "      <td>[{'id': 1801}]</td>\n",
       "      <td>4418</td>\n",
       "      <td>38.4</td>\n",
       "      <td>21.6</td>\n",
       "      <td>31.2</td>\n",
       "      <td>16.0</td>\n",
       "      <td>success</td>\n",
       "      <td>player= P. Pogba\\n time= 0m7s\\n subEventName= ...</td>\n",
       "    </tr>\n",
       "    <tr>\n",
       "      <th>74557</th>\n",
       "      <td>8</td>\n",
       "      <td>Pass</td>\n",
       "      <td>11.910527</td>\n",
       "      <td>90356464</td>\n",
       "      <td>1694439</td>\n",
       "      <td>1H</td>\n",
       "      <td>7855</td>\n",
       "      <td>[{'y': 80, 'x': 26}, {'y': 80, 'x': 64}]</td>\n",
       "      <td>83</td>\n",
       "      <td>High pass</td>\n",
       "      <td>[{'id': 1801}]</td>\n",
       "      <td>4418</td>\n",
       "      <td>31.2</td>\n",
       "      <td>16.0</td>\n",
       "      <td>76.8</td>\n",
       "      <td>16.0</td>\n",
       "      <td>success</td>\n",
       "      <td>player= L. Koscielny\\n time= 0m11s\\n subEventN...</td>\n",
       "    </tr>\n",
       "    <tr>\n",
       "      <th>74560</th>\n",
       "      <td>8</td>\n",
       "      <td>Pass</td>\n",
       "      <td>16.324747</td>\n",
       "      <td>90356471</td>\n",
       "      <td>1694439</td>\n",
       "      <td>1H</td>\n",
       "      <td>14716</td>\n",
       "      <td>[{'y': 40, 'x': 25}, {'y': 37, 'x': 4}]</td>\n",
       "      <td>85</td>\n",
       "      <td>Simple pass</td>\n",
       "      <td>[{'id': 1801}]</td>\n",
       "      <td>3148</td>\n",
       "      <td>30.0</td>\n",
       "      <td>48.0</td>\n",
       "      <td>4.8</td>\n",
       "      <td>50.4</td>\n",
       "      <td>success</td>\n",
       "      <td>player= J. Boateng\\n time= 0m16s\\n subEventNam...</td>\n",
       "    </tr>\n",
       "  </tbody>\n",
       "</table>\n",
       "</div>"
      ],
      "text/plain": [
       "       eventId eventName   eventSec        id  matchId matchPeriod  playerId  \\\n",
       "74554        8      Pass   1.908619  90356461  1694439          1H     25397   \n",
       "74555        8      Pass   5.177858  90356462  1694439          1H      7855   \n",
       "74556        8      Pass   7.405928  90356463  1694439          1H      7936   \n",
       "74557        8      Pass  11.910527  90356464  1694439          1H      7855   \n",
       "74560        8      Pass  16.324747  90356471  1694439          1H     14716   \n",
       "\n",
       "                                      positions subEventId subEventName  \\\n",
       "74554  [{'y': 33, 'x': 28}, {'y': 73, 'x': 29}]         85  Simple pass   \n",
       "74555  [{'y': 73, 'x': 29}, {'y': 73, 'x': 32}]         85  Simple pass   \n",
       "74556  [{'y': 73, 'x': 32}, {'y': 80, 'x': 26}]         85  Simple pass   \n",
       "74557  [{'y': 80, 'x': 26}, {'y': 80, 'x': 64}]         83    High pass   \n",
       "74560   [{'y': 40, 'x': 25}, {'y': 37, 'x': 4}]         85  Simple pass   \n",
       "\n",
       "                 tags  teamId  st_x  st_y  ed_x  ed_y   result  \\\n",
       "74554  [{'id': 1801}]    4418  33.6  53.6  34.8  21.6  success   \n",
       "74555  [{'id': 1801}]    4418  34.8  21.6  38.4  21.6  success   \n",
       "74556  [{'id': 1801}]    4418  38.4  21.6  31.2  16.0  success   \n",
       "74557  [{'id': 1801}]    4418  31.2  16.0  76.8  16.0  success   \n",
       "74560  [{'id': 1801}]    3148  30.0  48.0   4.8  50.4  success   \n",
       "\n",
       "                                                    name  \n",
       "74554  player= S. Umtiti\\n time= 0m1s\\n subEventName=...  \n",
       "74555  player= L. Koscielny\\n time= 0m5s\\n subEventNa...  \n",
       "74556  player= P. Pogba\\n time= 0m7s\\n subEventName= ...  \n",
       "74557  player= L. Koscielny\\n time= 0m11s\\n subEventN...  \n",
       "74560  player= J. Boateng\\n time= 0m16s\\n subEventNam...  "
      ]
     },
     "execution_count": 7,
     "metadata": {},
     "output_type": "execute_result"
    }
   ],
   "source": [
    "df_tmp.head()"
   ]
  },
  {
   "cell_type": "code",
   "execution_count": 8,
   "metadata": {},
   "outputs": [
    {
     "name": "stderr",
     "output_type": "stream",
     "text": [
      "/Users/yamamuros83/.pyenv/versions/anaconda3-5.3.1/envs/sample_env/lib/python3.6/site-packages/ipykernel_launcher.py:3: SettingWithCopyWarning:\n",
      "\n",
      "\n",
      "A value is trying to be set on a copy of a slice from a DataFrame.\n",
      "Try using .loc[row_indexer,col_indexer] = value instead\n",
      "\n",
      "See the caveats in the documentation: http://pandas.pydata.org/pandas-docs/stable/indexing.html#indexing-view-versus-copy\n",
      "\n"
     ]
    }
   ],
   "source": [
    "title_list = [f'{matchPeriod} {teams_df[teams_df.wyId==teamId].name.values[0]}' for [matchPeriod, teamId] in df_tmp[['matchPeriod', 'teamId']].drop_duplicates().sort_values(by=['teamId', 'matchPeriod']).values.tolist()]\n",
    "\n",
    "df_tmp['i'] = df_tmp.apply(lambda xs: title_list.index(xs['matchPeriod']+' '+teams_df[teams_df.wyId==xs['teamId']].name.values[0])+1, axis=1)\n",
    "\n",
    "[i_array, subEventName_array, st_x_array, st_y_array, ed_x_array, ed_y_array, result_array, name_array] = df_tmp[['i', 'subEventName', 'st_x', 'st_y', 'ed_x', 'ed_y', 'result', 'name']].values.T"
   ]
  },
  {
   "cell_type": "code",
   "execution_count": 9,
   "metadata": {},
   "outputs": [],
   "source": [
    "subEventName_list = df_tmp.subEventName.unique().tolist()\n",
    "legend_dict = dict(zip(subEventName_list, [0]*len(subEventName_list)))\n",
    "color_list = ['#1f77b4',\n",
    " '#ff7f0e',\n",
    " '#2ca02c',\n",
    " '#d62728',\n",
    " '#9467bd',\n",
    " '#8c564b',\n",
    " '#e377c2',\n",
    " '#7f7f7f',\n",
    " '#bcbd22',\n",
    " '#17becf']\n",
    "color_dict = dict(zip(subEventName_list, color_list[:len(subEventName_list)]))"
   ]
  },
  {
   "cell_type": "code",
   "execution_count": 10,
   "metadata": {},
   "outputs": [
    {
     "name": "stdout",
     "output_type": "stream",
     "text": [
      "96.34150910377502\n"
     ]
    }
   ],
   "source": [
    "fig = draw_pitches(2, 2, title_list)\n",
    "\n",
    "st_time = time.time()\n",
    "for i, (matchPeriod, teamId) in enumerate(df_tmp[['matchPeriod', 'teamId']].drop_duplicates().sort_values(by=['teamId', 'matchPeriod']).values.tolist()):\n",
    "    i += 1\n",
    "    \n",
    "    for (st_x, st_y, ed_x, ed_y, subEventName, result, name) in df_tmp[(df_tmp.matchPeriod==matchPeriod)&(df_tmp.teamId==teamId)][['st_x', 'st_y', 'ed_x', 'ed_y', 'subEventName', 'result', 'name']].values.tolist()[:100]:\n",
    "        \n",
    "        fig.add_annotation(go.layout.Annotation(\n",
    "            captureevents=True,\n",
    "            hovertext=name,\n",
    "            x=ed_x,\n",
    "            y=ed_y,\n",
    "            xref=f'x{i}',\n",
    "            yref=f'y{i}',\n",
    "            axref=f'x{i}',\n",
    "            ayref=f'y{i}',\n",
    "            ax=st_x,\n",
    "            ay=st_y,\n",
    "            arrowhead=4,\n",
    "            arrowsize=2,\n",
    "            arrowcolor=color_dict[subEventName],\n",
    "            showarrow=True,\n",
    "#             showlegend=legend_dict[subEventName] == 0\n",
    "        ))\n",
    "    legend_dict[subEventName] += 1\n",
    "\n",
    "print(time.time()-st_time)"
   ]
  },
  {
   "cell_type": "code",
   "execution_count": 13,
   "metadata": {},
   "outputs": [
    {
     "name": "stderr",
     "output_type": "stream",
     "text": [
      "/Users/yamamuros83/.pyenv/versions/anaconda3-5.3.1/envs/sample_env/lib/python3.6/site-packages/ipykernel_launcher.py:3: SettingWithCopyWarning:\n",
      "\n",
      "\n",
      "A value is trying to be set on a copy of a slice from a DataFrame.\n",
      "Try using .loc[row_indexer,col_indexer] = value instead\n",
      "\n",
      "See the caveats in the documentation: http://pandas.pydata.org/pandas-docs/stable/indexing.html#indexing-view-versus-copy\n",
      "\n"
     ]
    },
    {
     "name": "stdout",
     "output_type": "stream",
     "text": [
      "504.0431981086731\n"
     ]
    }
   ],
   "source": [
    "fig = draw_pitches(2, 2, title_list)\n",
    "\n",
    "df_tmp['idx'] = df_tmp.apply(lambda xs: title_list.index(matchPeriod+' '+teams_df[teams_df.wyId==teamId].name.values[0])+1, axis=1)\n",
    "\n",
    "st_time = time.time()\n",
    "\n",
    "def plot_arrows(fig, xs):\n",
    "    fig.add_annotation(go.layout.Annotation(\n",
    "    captureevents=True,\n",
    "    hovertext=xs['name'],\n",
    "    x=xs['ed_x'],\n",
    "    y=xs['ed_y'],\n",
    "    xref='x'+str(xs['i']),\n",
    "    yref='y'+str(xs['i']),\n",
    "    axref='x'+str(xs['i']),\n",
    "    ayref='y'+str(xs['i']),\n",
    "    ax=xs['st_x'],\n",
    "    ay=xs['st_y'],\n",
    "    arrowhead=4,\n",
    "    arrowsize=2,\n",
    "    arrowcolor=color_dict[xs['subEventName']],\n",
    "    showarrow=True,\n",
    "    ))\n",
    "\n",
    "df_tmp.apply(lambda xs: plot_arrows(fig, xs), axis=1)\n",
    "\n",
    "print(time.time()-st_time)"
   ]
  }
 ],
 "metadata": {
  "kernelspec": {
   "display_name": "Python 3",
   "language": "python",
   "name": "python3"
  },
  "language_info": {
   "codemirror_mode": {
    "name": "ipython",
    "version": 3
   },
   "file_extension": ".py",
   "mimetype": "text/x-python",
   "name": "python",
   "nbconvert_exporter": "python",
   "pygments_lexer": "ipython3",
   "version": "3.6.9"
  }
 },
 "nbformat": 4,
 "nbformat_minor": 4
}
