{
 "cells": [
  {
   "cell_type": "markdown",
   "metadata": {},
   "source": [
    "table of contents\n",
    "1. 準備\n",
    "2. データのインポート\n",
    "3. パスラインの可視化"
   ]
  },
  {
   "cell_type": "markdown",
   "metadata": {},
   "source": [
    "# 準備"
   ]
  },
  {
   "cell_type": "code",
   "execution_count": 1,
   "metadata": {},
   "outputs": [
    {
     "data": {
      "text/html": [
       "        <script type=\"text/javascript\">\n",
       "        window.PlotlyConfig = {MathJaxConfig: 'local'};\n",
       "        if (window.MathJax) {MathJax.Hub.Config({SVG: {font: \"STIX-Web\"}});}\n",
       "        if (typeof require !== 'undefined') {\n",
       "        require.undef(\"plotly\");\n",
       "        requirejs.config({\n",
       "            paths: {\n",
       "                'plotly': ['https://cdn.plot.ly/plotly-latest.min']\n",
       "            }\n",
       "        });\n",
       "        require(['plotly'], function(Plotly) {\n",
       "            window._Plotly = Plotly;\n",
       "        });\n",
       "        }\n",
       "        </script>\n",
       "        "
      ]
     },
     "metadata": {},
     "output_type": "display_data"
    }
   ],
   "source": [
    "import os\n",
    "\n",
    "import numpy as np\n",
    "import pandas as pd\n",
    "import matplotlib.pyplot as plt\n",
    "%matplotlib inline\n",
    "\n",
    "import plotly.graph_objs as go\n",
    "import plotly.express as px\n",
    "from plotly.offline import init_notebook_mode, plot, iplot\n",
    "\n",
    "init_notebook_mode(connected=True)"
   ]
  },
  {
   "cell_type": "markdown",
   "metadata": {},
   "source": [
    "# データのインポート"
   ]
  },
  {
   "cell_type": "code",
   "execution_count": 2,
   "metadata": {},
   "outputs": [
    {
     "name": "stdout",
     "output_type": "stream",
     "text": [
      "['World_Cup', 'Italy', 'Germany', 'England', 'France', 'Spain', 'European_Championship']\n"
     ]
    }
   ],
   "source": [
    "base_dir = os.path.join('..','..')\n",
    "data_dir = os.path.join(base_dir, 'data', 'raw')\n",
    "\n",
    "def read_dfs():\n",
    "    players_df = pd.read_json(os.path.join(data_dir, 'players.json'))\n",
    "    teams_df = pd.read_json(os.path.join(data_dir, 'teams.json'))\n",
    "\n",
    "    # encode, decode\n",
    "    players_df['shortName'] = players_df.shortName.apply(lambda x: x.encode('utf-8').decode('unicode-escape'))\n",
    "    teams_df['name'] = teams_df.name.apply(lambda x: x.encode('utf-8').decode('unicode-escape'))\n",
    "\n",
    "    return players_df, teams_df\n",
    "\n",
    "players_df, teams_df = read_dfs()\n",
    "\n",
    "competition_list = [infile.replace('matches_','').replace('.json','') for infile in os.listdir(os.path.join(data_dir, 'matches')) if infile.endswith('.json')]\n",
    "\n",
    "print(competition_list)"
   ]
  },
  {
   "cell_type": "code",
   "execution_count": 3,
   "metadata": {},
   "outputs": [
    {
     "name": "stdout",
     "output_type": "stream",
     "text": [
      "['France - Romania, 2 - 1 @Stade de France, 2016-06-10', 'Albania - Switzerland, 0 - 1 @Stade Bollaert-Delelis, 2016-06-11', 'Wales - Slovakia, 2 - 1 @Stade Matmut-Atlantique, 2016-06-11', 'England - Russia, 1 - 1 @Stade Vélodrome, 2016-06-11', 'Turkey - Croatia, 0 - 1 @Parc des Princes, 2016-06-12', 'Poland - Northern Ireland, 1 - 0 @Allianz Riviera, 2016-06-12', 'Germany - Ukraine, 2 - 0 @Stade Pierre-Mauroy, 2016-06-12', 'Spain - Czech Republic, 1 - 0 @Stadium Municipal, 2016-06-13', 'Republic of Ireland - Sweden, 1 - 1 @Stade de France, 2016-06-13', 'Belgium - Italy, 0 - 2 @Groupama Stadium, 2016-06-13', 'Austria - Hungary, 0 - 2 @Stade Matmut-Atlantique, 2016-06-14', 'Portugal - Iceland, 1 - 1 @Stade Geoffroy-Guichard, 2016-06-14', 'Russia - Slovakia, 1 - 2 @Stade Pierre-Mauroy, 2016-06-15', 'Romania - Switzerland, 1 - 1 @Parc des Princes, 2016-06-15', 'France - Albania, 2 - 0 @Stade Vélodrome, 2016-06-15', 'England - Wales, 2 - 1 @Stade Bollaert-Delelis, 2016-06-16', 'Ukraine - Northern Ireland, 0 - 2 @Groupama Stadium, 2016-06-16', 'Germany - Poland, 0 - 0 @Stade de France, 2016-06-16', 'Italy - Sweden, 1 - 0 @Stadium Municipal, 2016-06-17', 'Czech Republic - Croatia, 2 - 2 @Stade Geoffroy-Guichard, 2016-06-17', 'Spain - Turkey, 3 - 0 @Allianz Riviera, 2016-06-17', 'Belgium - Republic of Ireland, 3 - 0 @Stade Matmut-Atlantique, 2016-06-18', 'Iceland - Hungary, 1 - 1 @Stade Vélodrome, 2016-06-18', 'Portugal - Austria, 0 - 0 @Parc des Princes, 2016-06-18', 'Romania - Albania, 0 - 1 @Groupama Stadium, 2016-06-19', 'Switzerland - France, 0 - 0 @Stade Pierre-Mauroy, 2016-06-19', 'Slovakia - England, 0 - 0 @Stade Geoffroy-Guichard, 2016-06-20', 'Russia - Wales, 0 - 3 @Stadium Municipal, 2016-06-20', 'Northern Ireland - Germany, 0 - 1 @Parc des Princes, 2016-06-21', 'Ukraine - Poland, 0 - 1 @Stade Vélodrome, 2016-06-21', 'Croatia - Spain, 2 - 1 @Stade Matmut-Atlantique, 2016-06-21', 'Czech Republic - Turkey, 0 - 2 @Stade Bollaert-Delelis, 2016-06-21', 'Iceland - Austria, 2 - 1 @Stade de France, 2016-06-22', 'Hungary - Portugal, 3 - 3 @Groupama Stadium, 2016-06-22', 'Italy - Republic of Ireland, 0 - 1 @Stade Pierre-Mauroy, 2016-06-22', 'Sweden - Belgium, 0 - 1 @Allianz Riviera, 2016-06-22', 'Switzerland - Poland, 1 - 1 (P) @Stade Geoffroy-Guichard, 2016-06-25', 'Wales - Northern Ireland, 1 - 0 @Parc des Princes, 2016-06-25', 'Croatia - Portugal, 0 - 1 (E) @Stade Bollaert-Delelis, 2016-06-25', 'France - Republic of Ireland, 2 - 1 @Groupama Stadium, 2016-06-26', 'Germany - Slovakia, 3 - 0 @Stade Pierre-Mauroy, 2016-06-26', 'Hungary - Belgium, 0 - 4 @Stadium Municipal, 2016-06-26', 'Italy - Spain, 2 - 0 @Stade de France, 2016-06-27', 'England - Iceland, 1 - 2 @Allianz Riviera, 2016-06-27', 'Poland - Portugal, 1 - 1 (P) @Stade Vélodrome, 2016-06-30', 'Wales - Belgium, 3 - 1 @Stade Pierre-Mauroy, 2016-07-01', 'Germany - Italy, 1 - 1 (P) @Stade Matmut-Atlantique, 2016-07-02', 'France - Iceland, 5 - 2 @Stade de France, 2016-07-03', 'Portugal - Wales, 2 - 0 @Groupama Stadium, 2016-07-06', 'Germany - France, 0 - 2 @Stade Vélodrome, 2016-07-07', 'Portugal - France, 1 - 0 (E) @Stade de France, 2016-07-10']\n"
     ]
    }
   ],
   "source": [
    "selected_competition = 'European_Championship'\n",
    "\n",
    "def read_events_df(selected_competition):\n",
    "    events_df = pd.read_json(os.path.join(data_dir, 'events', f'events_{selected_competition}.json'))\n",
    "    return events_df\n",
    "\n",
    "def read_matches_df(selected_competition):\n",
    "    matches_df = pd.read_json(os.path.join(data_dir, 'matches', f'matches_{selected_competition}.json'))\n",
    "    matches_df['date_time'] = pd.to_datetime(matches_df.dateutc)\n",
    "\n",
    "    # encode, decode\n",
    "    matches_df['label'] = matches_df.label.apply(lambda x: x.encode('utf-8').decode('unicode-escape'))\n",
    "    matches_df['venue'] = matches_df.venue.apply(lambda x: x.encode('utf-8').decode('unicode-escape'))\n",
    "\n",
    "    # concate label, venue, date_time\n",
    "    matches_df['name'] = matches_df[['label', 'venue', 'date_time']].apply(lambda xs: f'{xs[0]} @{xs[1]}, {xs[2].date()}', axis=1)\n",
    "\n",
    "    return matches_df.sort_values('date_time')\n",
    "\n",
    "matches_df = read_matches_df(selected_competition)\n",
    "\n",
    "name_list = matches_df.name.tolist()\n",
    "print(name_list)"
   ]
  },
  {
   "cell_type": "code",
   "execution_count": 4,
   "metadata": {},
   "outputs": [],
   "source": [
    "selected_match = 'Germany - France, 0 - 2 @Stade Vélodrome, 2016-07-07'\n",
    "selected_wyId = matches_df[matches_df.name == selected_match].wyId.values[0]\n",
    "\n",
    "events_df = read_events_df(selected_competition)\n",
    "\n",
    "matchPeriod_list = ['1H', '2H']\n",
    "\n",
    "df_tmp = events_df[(events_df.matchId == selected_wyId)&(events_df.eventName=='Pass')&(events_df.matchPeriod.isin(matchPeriod_list))]"
   ]
  },
  {
   "cell_type": "markdown",
   "metadata": {},
   "source": [
    "# パスラインの可視化"
   ]
  },
  {
   "cell_type": "markdown",
   "metadata": {},
   "source": [
    "## 関数の定義"
   ]
  },
  {
   "cell_type": "code",
   "execution_count": 5,
   "metadata": {},
   "outputs": [],
   "source": [
    "from plotly.subplots import make_subplots\n",
    "\n",
    "def draw_pitches(nrows, ncols, title_list=[], colorbar=False):\n",
    "\n",
    "    COLOR = 'white'\n",
    "    twitter_color = 'rgb(20,29,38)'\n",
    "\n",
    "    fig = make_subplots(rows=nrows, cols=ncols, subplot_titles=title_list, horizontal_spacing=0.05, vertical_spacing=0.05)\n",
    "    for i in range(1,nrows+1):\n",
    "        for j in range(1,ncols+1):\n",
    "            \n",
    "            line_list = [[[0,120], [0,0]], [[120,120], [0,80]], [[120,0], [80,80]], [[0,0], [80,0]], [[60,60], [0,80]]]\n",
    "            line_list += [[[0,18], [18,18]], [[18,18], [18,62]], [[18,0], [62,62]], [[0,6], [30,30]], [[6,6], [30,50]], [[6,0], [50,50]]]\n",
    "            line_list += [[[120, 102], [18,18]], [[102,102], [18,62]], [[102,120], [62,62]], [[120,114], [30,30]], [[114,114], [30,50]], [[114,120], [50,50]]]\n",
    "\n",
    "            for [x, y] in line_list:\n",
    "                fig.add_trace(go.Scatter(x=x, y=y,\n",
    "                                    mode='lines',\n",
    "                                    line=dict(color=COLOR, width=2.5),\n",
    "                                    showlegend=False,\n",
    "                                    hoverinfo='none'\n",
    "                                    )\n",
    "                             , row=i, col=j)\n",
    "\n",
    "            line_list = [[[0,0], [36,44]], [[120,120], [36,44]]]\n",
    "            for [x, y] in line_list:\n",
    "                fig.add_trace(go.Scatter(x=x, y=y,\n",
    "                                    mode='lines',\n",
    "                                    line=dict(color=COLOR, width=12.5),\n",
    "                                    showlegend=False,\n",
    "                                    hoverinfo='none'\n",
    "                                    )\n",
    "                             , row=i, col=j)\n",
    "\n",
    "            fig.add_shape(go.layout.Shape(type='circle', x0=60-12, y0=40-12, x1=60+12, y1=40+12, line_color=COLOR, line_width=2.5), row=i, col=j)\n",
    "            fig.update_xaxes(range=[-1, 120+1], visible=False, row=i, col=j)\n",
    "            fig.update_yaxes(range=[-1, 80+1], visible=False, row=i, col=j)\n",
    "    \n",
    "    fig.update_layout(go.Layout(width=120*10, height=80*10, plot_bgcolor=twitter_color, paper_bgcolor=twitter_color, autosize=True, margin=dict(l=10, r=10, t=20, b=10), legend=dict(font=dict(color=COLOR))))\n",
    "    \n",
    "    for i in fig['layout']['annotations']:\n",
    "        i['font'] = dict(size=15,color=COLOR)\n",
    "    \n",
    "    return fig"
   ]
  },
  {
   "cell_type": "markdown",
   "metadata": {},
   "source": [
    "## 可視化"
   ]
  },
  {
   "cell_type": "code",
   "execution_count": 7,
   "metadata": {},
   "outputs": [
    {
     "name": "stderr",
     "output_type": "stream",
     "text": [
      "/Users/yamamuros83/.pyenv/versions/anaconda3-5.3.1/envs/sample_env/lib/python3.6/site-packages/ipykernel_launcher.py:4: SettingWithCopyWarning:\n",
      "\n",
      "\n",
      "A value is trying to be set on a copy of a slice from a DataFrame.\n",
      "Try using .loc[row_indexer,col_indexer] = value instead\n",
      "\n",
      "See the caveats in the documentation: http://pandas.pydata.org/pandas-docs/stable/indexing.html#indexing-view-versus-copy\n",
      "\n",
      "/Users/yamamuros83/.pyenv/versions/anaconda3-5.3.1/envs/sample_env/lib/python3.6/site-packages/ipykernel_launcher.py:5: SettingWithCopyWarning:\n",
      "\n",
      "\n",
      "A value is trying to be set on a copy of a slice from a DataFrame.\n",
      "Try using .loc[row_indexer,col_indexer] = value instead\n",
      "\n",
      "See the caveats in the documentation: http://pandas.pydata.org/pandas-docs/stable/indexing.html#indexing-view-versus-copy\n",
      "\n",
      "/Users/yamamuros83/.pyenv/versions/anaconda3-5.3.1/envs/sample_env/lib/python3.6/site-packages/ipykernel_launcher.py:6: SettingWithCopyWarning:\n",
      "\n",
      "\n",
      "A value is trying to be set on a copy of a slice from a DataFrame.\n",
      "Try using .loc[row_indexer,col_indexer] = value instead\n",
      "\n",
      "See the caveats in the documentation: http://pandas.pydata.org/pandas-docs/stable/indexing.html#indexing-view-versus-copy\n",
      "\n",
      "/Users/yamamuros83/.pyenv/versions/anaconda3-5.3.1/envs/sample_env/lib/python3.6/site-packages/ipykernel_launcher.py:7: SettingWithCopyWarning:\n",
      "\n",
      "\n",
      "A value is trying to be set on a copy of a slice from a DataFrame.\n",
      "Try using .loc[row_indexer,col_indexer] = value instead\n",
      "\n",
      "See the caveats in the documentation: http://pandas.pydata.org/pandas-docs/stable/indexing.html#indexing-view-versus-copy\n",
      "\n",
      "/Users/yamamuros83/.pyenv/versions/anaconda3-5.3.1/envs/sample_env/lib/python3.6/site-packages/pandas/core/frame.py:3140: SettingWithCopyWarning:\n",
      "\n",
      "\n",
      "A value is trying to be set on a copy of a slice from a DataFrame.\n",
      "Try using .loc[row_indexer,col_indexer] = value instead\n",
      "\n",
      "See the caveats in the documentation: http://pandas.pydata.org/pandas-docs/stable/indexing.html#indexing-view-versus-copy\n",
      "\n",
      "/Users/yamamuros83/.pyenv/versions/anaconda3-5.3.1/envs/sample_env/lib/python3.6/site-packages/ipykernel_launcher.py:11: SettingWithCopyWarning:\n",
      "\n",
      "\n",
      "A value is trying to be set on a copy of a slice from a DataFrame.\n",
      "Try using .loc[row_indexer,col_indexer] = value instead\n",
      "\n",
      "See the caveats in the documentation: http://pandas.pydata.org/pandas-docs/stable/indexing.html#indexing-view-versus-copy\n",
      "\n",
      "/Users/yamamuros83/.pyenv/versions/anaconda3-5.3.1/envs/sample_env/lib/python3.6/site-packages/ipykernel_launcher.py:12: SettingWithCopyWarning:\n",
      "\n",
      "\n",
      "A value is trying to be set on a copy of a slice from a DataFrame.\n",
      "Try using .loc[row_indexer,col_indexer] = value instead\n",
      "\n",
      "See the caveats in the documentation: http://pandas.pydata.org/pandas-docs/stable/indexing.html#indexing-view-versus-copy\n",
      "\n"
     ]
    }
   ],
   "source": [
    "XMAX, XMIN = 120, 0\n",
    "YMAX, YMIN = 80, 0\n",
    "\n",
    "df_tmp['st_x'] = None\n",
    "df_tmp['st_y'] = None\n",
    "df_tmp['ed_x'] = None\n",
    "df_tmp['ed_y'] = None\n",
    "\n",
    "df_tmp[['st_x', 'st_y', 'ed_x', 'ed_y']] = df_tmp.apply(lambda xs: [XMAX*xs['positions'][0]['x']/100, YMAX*(1-xs['positions'][0]['y']/100), XMAX*xs['positions'][1]['x']/100, YMAX*(1-xs['positions'][1]['y']/100)], result_type='expand', axis=1)\n",
    "\n",
    "df_tmp['result'] = df_tmp.apply(lambda xs: 'success' if 1801 in [tag['id'] for tag in xs['tags']] else 'failure', axis=1)\n",
    "df_tmp['name'] = df_tmp.apply(lambda xs: 'player= '+players_df[players_df.wyId==xs['playerId']].shortName.tolist()[0]+'\\n time= '+str(int(xs['eventSec']/60))+'m'+str(int(xs['eventSec']%60))+'s\\n subEventName= '+xs['subEventName']+'\\n result= '+xs['result'], axis=1)"
   ]
  },
  {
   "cell_type": "code",
   "execution_count": 8,
   "metadata": {},
   "outputs": [
    {
     "data": {
      "text/html": [
       "<div>\n",
       "<style scoped>\n",
       "    .dataframe tbody tr th:only-of-type {\n",
       "        vertical-align: middle;\n",
       "    }\n",
       "\n",
       "    .dataframe tbody tr th {\n",
       "        vertical-align: top;\n",
       "    }\n",
       "\n",
       "    .dataframe thead th {\n",
       "        text-align: right;\n",
       "    }\n",
       "</style>\n",
       "<table border=\"1\" class=\"dataframe\">\n",
       "  <thead>\n",
       "    <tr style=\"text-align: right;\">\n",
       "      <th></th>\n",
       "      <th>eventId</th>\n",
       "      <th>eventName</th>\n",
       "      <th>eventSec</th>\n",
       "      <th>id</th>\n",
       "      <th>matchId</th>\n",
       "      <th>matchPeriod</th>\n",
       "      <th>playerId</th>\n",
       "      <th>positions</th>\n",
       "      <th>subEventId</th>\n",
       "      <th>subEventName</th>\n",
       "      <th>tags</th>\n",
       "      <th>teamId</th>\n",
       "      <th>st_x</th>\n",
       "      <th>st_y</th>\n",
       "      <th>ed_x</th>\n",
       "      <th>ed_y</th>\n",
       "      <th>result</th>\n",
       "      <th>name</th>\n",
       "    </tr>\n",
       "  </thead>\n",
       "  <tbody>\n",
       "    <tr>\n",
       "      <th>74554</th>\n",
       "      <td>8</td>\n",
       "      <td>Pass</td>\n",
       "      <td>1.908619</td>\n",
       "      <td>90356461</td>\n",
       "      <td>1694439</td>\n",
       "      <td>1H</td>\n",
       "      <td>25397</td>\n",
       "      <td>[{'y': 33, 'x': 28}, {'y': 73, 'x': 29}]</td>\n",
       "      <td>85</td>\n",
       "      <td>Simple pass</td>\n",
       "      <td>[{'id': 1801}]</td>\n",
       "      <td>4418</td>\n",
       "      <td>33.6</td>\n",
       "      <td>53.6</td>\n",
       "      <td>34.8</td>\n",
       "      <td>21.6</td>\n",
       "      <td>success</td>\n",
       "      <td>player= S. Umtiti\\n time= 0m1s\\n subEventName=...</td>\n",
       "    </tr>\n",
       "    <tr>\n",
       "      <th>74555</th>\n",
       "      <td>8</td>\n",
       "      <td>Pass</td>\n",
       "      <td>5.177858</td>\n",
       "      <td>90356462</td>\n",
       "      <td>1694439</td>\n",
       "      <td>1H</td>\n",
       "      <td>7855</td>\n",
       "      <td>[{'y': 73, 'x': 29}, {'y': 73, 'x': 32}]</td>\n",
       "      <td>85</td>\n",
       "      <td>Simple pass</td>\n",
       "      <td>[{'id': 1801}]</td>\n",
       "      <td>4418</td>\n",
       "      <td>34.8</td>\n",
       "      <td>21.6</td>\n",
       "      <td>38.4</td>\n",
       "      <td>21.6</td>\n",
       "      <td>success</td>\n",
       "      <td>player= L. Koscielny\\n time= 0m5s\\n subEventNa...</td>\n",
       "    </tr>\n",
       "    <tr>\n",
       "      <th>74556</th>\n",
       "      <td>8</td>\n",
       "      <td>Pass</td>\n",
       "      <td>7.405928</td>\n",
       "      <td>90356463</td>\n",
       "      <td>1694439</td>\n",
       "      <td>1H</td>\n",
       "      <td>7936</td>\n",
       "      <td>[{'y': 73, 'x': 32}, {'y': 80, 'x': 26}]</td>\n",
       "      <td>85</td>\n",
       "      <td>Simple pass</td>\n",
       "      <td>[{'id': 1801}]</td>\n",
       "      <td>4418</td>\n",
       "      <td>38.4</td>\n",
       "      <td>21.6</td>\n",
       "      <td>31.2</td>\n",
       "      <td>16.0</td>\n",
       "      <td>success</td>\n",
       "      <td>player= P. Pogba\\n time= 0m7s\\n subEventName= ...</td>\n",
       "    </tr>\n",
       "    <tr>\n",
       "      <th>74557</th>\n",
       "      <td>8</td>\n",
       "      <td>Pass</td>\n",
       "      <td>11.910527</td>\n",
       "      <td>90356464</td>\n",
       "      <td>1694439</td>\n",
       "      <td>1H</td>\n",
       "      <td>7855</td>\n",
       "      <td>[{'y': 80, 'x': 26}, {'y': 80, 'x': 64}]</td>\n",
       "      <td>83</td>\n",
       "      <td>High pass</td>\n",
       "      <td>[{'id': 1801}]</td>\n",
       "      <td>4418</td>\n",
       "      <td>31.2</td>\n",
       "      <td>16.0</td>\n",
       "      <td>76.8</td>\n",
       "      <td>16.0</td>\n",
       "      <td>success</td>\n",
       "      <td>player= L. Koscielny\\n time= 0m11s\\n subEventN...</td>\n",
       "    </tr>\n",
       "    <tr>\n",
       "      <th>74560</th>\n",
       "      <td>8</td>\n",
       "      <td>Pass</td>\n",
       "      <td>16.324747</td>\n",
       "      <td>90356471</td>\n",
       "      <td>1694439</td>\n",
       "      <td>1H</td>\n",
       "      <td>14716</td>\n",
       "      <td>[{'y': 40, 'x': 25}, {'y': 37, 'x': 4}]</td>\n",
       "      <td>85</td>\n",
       "      <td>Simple pass</td>\n",
       "      <td>[{'id': 1801}]</td>\n",
       "      <td>3148</td>\n",
       "      <td>30.0</td>\n",
       "      <td>48.0</td>\n",
       "      <td>4.8</td>\n",
       "      <td>50.4</td>\n",
       "      <td>success</td>\n",
       "      <td>player= J. Boateng\\n time= 0m16s\\n subEventNam...</td>\n",
       "    </tr>\n",
       "  </tbody>\n",
       "</table>\n",
       "</div>"
      ],
      "text/plain": [
       "       eventId eventName   eventSec        id  matchId matchPeriod  playerId  \\\n",
       "74554        8      Pass   1.908619  90356461  1694439          1H     25397   \n",
       "74555        8      Pass   5.177858  90356462  1694439          1H      7855   \n",
       "74556        8      Pass   7.405928  90356463  1694439          1H      7936   \n",
       "74557        8      Pass  11.910527  90356464  1694439          1H      7855   \n",
       "74560        8      Pass  16.324747  90356471  1694439          1H     14716   \n",
       "\n",
       "                                      positions subEventId subEventName  \\\n",
       "74554  [{'y': 33, 'x': 28}, {'y': 73, 'x': 29}]         85  Simple pass   \n",
       "74555  [{'y': 73, 'x': 29}, {'y': 73, 'x': 32}]         85  Simple pass   \n",
       "74556  [{'y': 73, 'x': 32}, {'y': 80, 'x': 26}]         85  Simple pass   \n",
       "74557  [{'y': 80, 'x': 26}, {'y': 80, 'x': 64}]         83    High pass   \n",
       "74560   [{'y': 40, 'x': 25}, {'y': 37, 'x': 4}]         85  Simple pass   \n",
       "\n",
       "                 tags  teamId  st_x  st_y  ed_x  ed_y   result  \\\n",
       "74554  [{'id': 1801}]    4418  33.6  53.6  34.8  21.6  success   \n",
       "74555  [{'id': 1801}]    4418  34.8  21.6  38.4  21.6  success   \n",
       "74556  [{'id': 1801}]    4418  38.4  21.6  31.2  16.0  success   \n",
       "74557  [{'id': 1801}]    4418  31.2  16.0  76.8  16.0  success   \n",
       "74560  [{'id': 1801}]    3148  30.0  48.0   4.8  50.4  success   \n",
       "\n",
       "                                                    name  \n",
       "74554  player= S. Umtiti\\n time= 0m1s\\n subEventName=...  \n",
       "74555  player= L. Koscielny\\n time= 0m5s\\n subEventNa...  \n",
       "74556  player= P. Pogba\\n time= 0m7s\\n subEventName= ...  \n",
       "74557  player= L. Koscielny\\n time= 0m11s\\n subEventN...  \n",
       "74560  player= J. Boateng\\n time= 0m16s\\n subEventNam...  "
      ]
     },
     "execution_count": 8,
     "metadata": {},
     "output_type": "execute_result"
    }
   ],
   "source": [
    "df_tmp.head()"
   ]
  },
  {
   "cell_type": "code",
   "execution_count": 66,
   "metadata": {},
   "outputs": [],
   "source": [
    "subEventName_list = df_tmp.subEventName.unique().tolist()\n",
    "legend_dict = dict(zip(subEventName_list, [0]*len(subEventName_list)))\n",
    "color_list = ['#1f77b4',\n",
    " '#ff7f0e',\n",
    " '#2ca02c',\n",
    " '#d62728',\n",
    " '#9467bd',\n",
    " '#8c564b',\n",
    " '#e377c2',\n",
    " '#7f7f7f',\n",
    " '#bcbd22',\n",
    " '#17becf']\n",
    "color_dict = dict(zip(subEventName_list, color_list[:len(subEventName_list)]))"
   ]
  },
  {
   "cell_type": "code",
   "execution_count": 92,
   "metadata": {},
   "outputs": [],
   "source": [
    "title_list = [f'{matchPeriod} {teams_df[teams_df.wyId==teamId].name.values[0]}' for [matchPeriod, teamId] in df_tmp[['matchPeriod', 'teamId']].drop_duplicates().sort_values(by=['teamId', 'matchPeriod']).values.tolist()]\n",
    "fig = draw_pitches(2, 2, title_list)"
   ]
  },
  {
   "cell_type": "code",
   "execution_count": 93,
   "metadata": {},
   "outputs": [],
   "source": [
    "from tqdm import tqdm\n",
    "for i, (matchPeriod, teamId) in enumerate(df_tmp[['matchPeriod', 'teamId']].drop_duplicates().sort_values(by=['teamId', 'matchPeriod']).values.tolist()):\n",
    "    i += 1\n",
    "    for (st_x, st_y, ed_x, ed_y, subEventName, result, name) in df_tmp[(df_tmp.matchPeriod==matchPeriod)&(df_tmp.teamId==teamId)][['st_x', 'st_y', 'ed_x', 'ed_y', 'subEventName', 'result', 'name']].values.tolist():\n",
    "        fig.add_annotation(go.layout.Annotation(\n",
    "            captureevents=True,\n",
    "            hovertext=name,\n",
    "            x=ed_x,\n",
    "            y=ed_y,\n",
    "            xref=f'x{i}',\n",
    "            yref=f'y{i}',\n",
    "            axref=f'x{i}',\n",
    "            ayref=f'y{i}',\n",
    "            ax=st_x,\n",
    "            ay=st_y,\n",
    "            arrowhead=4,\n",
    "            arrowsize=2,\n",
    "            arrowcolor=color_dict[subEventName],\n",
    "            showarrow=True,\n",
    "#             showlegend=legend_dict[subEventName] == 0\n",
    "        ))\n",
    "    break\n",
    "    legend_dict[subEventName] += 1"
   ]
  },
  {
   "cell_type": "code",
   "execution_count": 94,
   "metadata": {},
   "outputs": [
    {
     "data": {
      "application/vnd.plotly.v1+json": {
       "config": {
        "plotlyServerURL": "https://plot.ly"
       },
       "data": [
        {
         "hoverinfo": "none",
         "line": {
          "color": "white",
          "width": 2.5
         },
         "mode": "lines",
         "showlegend": false,
         "type": "scatter",
         "x": [
          0,
          120
         ],
         "xaxis": "x",
         "y": [
          0,
          0
         ],
         "yaxis": "y"
        },
        {
         "hoverinfo": "none",
         "line": {
          "color": "white",
          "width": 2.5
         },
         "mode": "lines",
         "showlegend": false,
         "type": "scatter",
         "x": [
          120,
          120
         ],
         "xaxis": "x",
         "y": [
          0,
          80
         ],
         "yaxis": "y"
        },
        {
         "hoverinfo": "none",
         "line": {
          "color": "white",
          "width": 2.5
         },
         "mode": "lines",
         "showlegend": false,
         "type": "scatter",
         "x": [
          120,
          0
         ],
         "xaxis": "x",
         "y": [
          80,
          80
         ],
         "yaxis": "y"
        },
        {
         "hoverinfo": "none",
         "line": {
          "color": "white",
          "width": 2.5
         },
         "mode": "lines",
         "showlegend": false,
         "type": "scatter",
         "x": [
          0,
          0
         ],
         "xaxis": "x",
         "y": [
          80,
          0
         ],
         "yaxis": "y"
        },
        {
         "hoverinfo": "none",
         "line": {
          "color": "white",
          "width": 2.5
         },
         "mode": "lines",
         "showlegend": false,
         "type": "scatter",
         "x": [
          60,
          60
         ],
         "xaxis": "x",
         "y": [
          0,
          80
         ],
         "yaxis": "y"
        },
        {
         "hoverinfo": "none",
         "line": {
          "color": "white",
          "width": 2.5
         },
         "mode": "lines",
         "showlegend": false,
         "type": "scatter",
         "x": [
          0,
          18
         ],
         "xaxis": "x",
         "y": [
          18,
          18
         ],
         "yaxis": "y"
        },
        {
         "hoverinfo": "none",
         "line": {
          "color": "white",
          "width": 2.5
         },
         "mode": "lines",
         "showlegend": false,
         "type": "scatter",
         "x": [
          18,
          18
         ],
         "xaxis": "x",
         "y": [
          18,
          62
         ],
         "yaxis": "y"
        },
        {
         "hoverinfo": "none",
         "line": {
          "color": "white",
          "width": 2.5
         },
         "mode": "lines",
         "showlegend": false,
         "type": "scatter",
         "x": [
          18,
          0
         ],
         "xaxis": "x",
         "y": [
          62,
          62
         ],
         "yaxis": "y"
        },
        {
         "hoverinfo": "none",
         "line": {
          "color": "white",
          "width": 2.5
         },
         "mode": "lines",
         "showlegend": false,
         "type": "scatter",
         "x": [
          0,
          6
         ],
         "xaxis": "x",
         "y": [
          30,
          30
         ],
         "yaxis": "y"
        },
        {
         "hoverinfo": "none",
         "line": {
          "color": "white",
          "width": 2.5
         },
         "mode": "lines",
         "showlegend": false,
         "type": "scatter",
         "x": [
          6,
          6
         ],
         "xaxis": "x",
         "y": [
          30,
          50
         ],
         "yaxis": "y"
        },
        {
         "hoverinfo": "none",
         "line": {
          "color": "white",
          "width": 2.5
         },
         "mode": "lines",
         "showlegend": false,
         "type": "scatter",
         "x": [
          6,
          0
         ],
         "xaxis": "x",
         "y": [
          50,
          50
         ],
         "yaxis": "y"
        },
        {
         "hoverinfo": "none",
         "line": {
          "color": "white",
          "width": 2.5
         },
         "mode": "lines",
         "showlegend": false,
         "type": "scatter",
         "x": [
          120,
          102
         ],
         "xaxis": "x",
         "y": [
          18,
          18
         ],
         "yaxis": "y"
        },
        {
         "hoverinfo": "none",
         "line": {
          "color": "white",
          "width": 2.5
         },
         "mode": "lines",
         "showlegend": false,
         "type": "scatter",
         "x": [
          102,
          102
         ],
         "xaxis": "x",
         "y": [
          18,
          62
         ],
         "yaxis": "y"
        },
        {
         "hoverinfo": "none",
         "line": {
          "color": "white",
          "width": 2.5
         },
         "mode": "lines",
         "showlegend": false,
         "type": "scatter",
         "x": [
          102,
          120
         ],
         "xaxis": "x",
         "y": [
          62,
          62
         ],
         "yaxis": "y"
        },
        {
         "hoverinfo": "none",
         "line": {
          "color": "white",
          "width": 2.5
         },
         "mode": "lines",
         "showlegend": false,
         "type": "scatter",
         "x": [
          120,
          114
         ],
         "xaxis": "x",
         "y": [
          30,
          30
         ],
         "yaxis": "y"
        },
        {
         "hoverinfo": "none",
         "line": {
          "color": "white",
          "width": 2.5
         },
         "mode": "lines",
         "showlegend": false,
         "type": "scatter",
         "x": [
          114,
          114
         ],
         "xaxis": "x",
         "y": [
          30,
          50
         ],
         "yaxis": "y"
        },
        {
         "hoverinfo": "none",
         "line": {
          "color": "white",
          "width": 2.5
         },
         "mode": "lines",
         "showlegend": false,
         "type": "scatter",
         "x": [
          114,
          120
         ],
         "xaxis": "x",
         "y": [
          50,
          50
         ],
         "yaxis": "y"
        },
        {
         "hoverinfo": "none",
         "line": {
          "color": "white",
          "width": 12.5
         },
         "mode": "lines",
         "showlegend": false,
         "type": "scatter",
         "x": [
          0,
          0
         ],
         "xaxis": "x",
         "y": [
          36,
          44
         ],
         "yaxis": "y"
        },
        {
         "hoverinfo": "none",
         "line": {
          "color": "white",
          "width": 12.5
         },
         "mode": "lines",
         "showlegend": false,
         "type": "scatter",
         "x": [
          120,
          120
         ],
         "xaxis": "x",
         "y": [
          36,
          44
         ],
         "yaxis": "y"
        },
        {
         "hoverinfo": "none",
         "line": {
          "color": "white",
          "width": 2.5
         },
         "mode": "lines",
         "showlegend": false,
         "type": "scatter",
         "x": [
          0,
          120
         ],
         "xaxis": "x2",
         "y": [
          0,
          0
         ],
         "yaxis": "y2"
        },
        {
         "hoverinfo": "none",
         "line": {
          "color": "white",
          "width": 2.5
         },
         "mode": "lines",
         "showlegend": false,
         "type": "scatter",
         "x": [
          120,
          120
         ],
         "xaxis": "x2",
         "y": [
          0,
          80
         ],
         "yaxis": "y2"
        },
        {
         "hoverinfo": "none",
         "line": {
          "color": "white",
          "width": 2.5
         },
         "mode": "lines",
         "showlegend": false,
         "type": "scatter",
         "x": [
          120,
          0
         ],
         "xaxis": "x2",
         "y": [
          80,
          80
         ],
         "yaxis": "y2"
        },
        {
         "hoverinfo": "none",
         "line": {
          "color": "white",
          "width": 2.5
         },
         "mode": "lines",
         "showlegend": false,
         "type": "scatter",
         "x": [
          0,
          0
         ],
         "xaxis": "x2",
         "y": [
          80,
          0
         ],
         "yaxis": "y2"
        },
        {
         "hoverinfo": "none",
         "line": {
          "color": "white",
          "width": 2.5
         },
         "mode": "lines",
         "showlegend": false,
         "type": "scatter",
         "x": [
          60,
          60
         ],
         "xaxis": "x2",
         "y": [
          0,
          80
         ],
         "yaxis": "y2"
        },
        {
         "hoverinfo": "none",
         "line": {
          "color": "white",
          "width": 2.5
         },
         "mode": "lines",
         "showlegend": false,
         "type": "scatter",
         "x": [
          0,
          18
         ],
         "xaxis": "x2",
         "y": [
          18,
          18
         ],
         "yaxis": "y2"
        },
        {
         "hoverinfo": "none",
         "line": {
          "color": "white",
          "width": 2.5
         },
         "mode": "lines",
         "showlegend": false,
         "type": "scatter",
         "x": [
          18,
          18
         ],
         "xaxis": "x2",
         "y": [
          18,
          62
         ],
         "yaxis": "y2"
        },
        {
         "hoverinfo": "none",
         "line": {
          "color": "white",
          "width": 2.5
         },
         "mode": "lines",
         "showlegend": false,
         "type": "scatter",
         "x": [
          18,
          0
         ],
         "xaxis": "x2",
         "y": [
          62,
          62
         ],
         "yaxis": "y2"
        },
        {
         "hoverinfo": "none",
         "line": {
          "color": "white",
          "width": 2.5
         },
         "mode": "lines",
         "showlegend": false,
         "type": "scatter",
         "x": [
          0,
          6
         ],
         "xaxis": "x2",
         "y": [
          30,
          30
         ],
         "yaxis": "y2"
        },
        {
         "hoverinfo": "none",
         "line": {
          "color": "white",
          "width": 2.5
         },
         "mode": "lines",
         "showlegend": false,
         "type": "scatter",
         "x": [
          6,
          6
         ],
         "xaxis": "x2",
         "y": [
          30,
          50
         ],
         "yaxis": "y2"
        },
        {
         "hoverinfo": "none",
         "line": {
          "color": "white",
          "width": 2.5
         },
         "mode": "lines",
         "showlegend": false,
         "type": "scatter",
         "x": [
          6,
          0
         ],
         "xaxis": "x2",
         "y": [
          50,
          50
         ],
         "yaxis": "y2"
        },
        {
         "hoverinfo": "none",
         "line": {
          "color": "white",
          "width": 2.5
         },
         "mode": "lines",
         "showlegend": false,
         "type": "scatter",
         "x": [
          120,
          102
         ],
         "xaxis": "x2",
         "y": [
          18,
          18
         ],
         "yaxis": "y2"
        },
        {
         "hoverinfo": "none",
         "line": {
          "color": "white",
          "width": 2.5
         },
         "mode": "lines",
         "showlegend": false,
         "type": "scatter",
         "x": [
          102,
          102
         ],
         "xaxis": "x2",
         "y": [
          18,
          62
         ],
         "yaxis": "y2"
        },
        {
         "hoverinfo": "none",
         "line": {
          "color": "white",
          "width": 2.5
         },
         "mode": "lines",
         "showlegend": false,
         "type": "scatter",
         "x": [
          102,
          120
         ],
         "xaxis": "x2",
         "y": [
          62,
          62
         ],
         "yaxis": "y2"
        },
        {
         "hoverinfo": "none",
         "line": {
          "color": "white",
          "width": 2.5
         },
         "mode": "lines",
         "showlegend": false,
         "type": "scatter",
         "x": [
          120,
          114
         ],
         "xaxis": "x2",
         "y": [
          30,
          30
         ],
         "yaxis": "y2"
        },
        {
         "hoverinfo": "none",
         "line": {
          "color": "white",
          "width": 2.5
         },
         "mode": "lines",
         "showlegend": false,
         "type": "scatter",
         "x": [
          114,
          114
         ],
         "xaxis": "x2",
         "y": [
          30,
          50
         ],
         "yaxis": "y2"
        },
        {
         "hoverinfo": "none",
         "line": {
          "color": "white",
          "width": 2.5
         },
         "mode": "lines",
         "showlegend": false,
         "type": "scatter",
         "x": [
          114,
          120
         ],
         "xaxis": "x2",
         "y": [
          50,
          50
         ],
         "yaxis": "y2"
        },
        {
         "hoverinfo": "none",
         "line": {
          "color": "white",
          "width": 12.5
         },
         "mode": "lines",
         "showlegend": false,
         "type": "scatter",
         "x": [
          0,
          0
         ],
         "xaxis": "x2",
         "y": [
          36,
          44
         ],
         "yaxis": "y2"
        },
        {
         "hoverinfo": "none",
         "line": {
          "color": "white",
          "width": 12.5
         },
         "mode": "lines",
         "showlegend": false,
         "type": "scatter",
         "x": [
          120,
          120
         ],
         "xaxis": "x2",
         "y": [
          36,
          44
         ],
         "yaxis": "y2"
        },
        {
         "hoverinfo": "none",
         "line": {
          "color": "white",
          "width": 2.5
         },
         "mode": "lines",
         "showlegend": false,
         "type": "scatter",
         "x": [
          0,
          120
         ],
         "xaxis": "x3",
         "y": [
          0,
          0
         ],
         "yaxis": "y3"
        },
        {
         "hoverinfo": "none",
         "line": {
          "color": "white",
          "width": 2.5
         },
         "mode": "lines",
         "showlegend": false,
         "type": "scatter",
         "x": [
          120,
          120
         ],
         "xaxis": "x3",
         "y": [
          0,
          80
         ],
         "yaxis": "y3"
        },
        {
         "hoverinfo": "none",
         "line": {
          "color": "white",
          "width": 2.5
         },
         "mode": "lines",
         "showlegend": false,
         "type": "scatter",
         "x": [
          120,
          0
         ],
         "xaxis": "x3",
         "y": [
          80,
          80
         ],
         "yaxis": "y3"
        },
        {
         "hoverinfo": "none",
         "line": {
          "color": "white",
          "width": 2.5
         },
         "mode": "lines",
         "showlegend": false,
         "type": "scatter",
         "x": [
          0,
          0
         ],
         "xaxis": "x3",
         "y": [
          80,
          0
         ],
         "yaxis": "y3"
        },
        {
         "hoverinfo": "none",
         "line": {
          "color": "white",
          "width": 2.5
         },
         "mode": "lines",
         "showlegend": false,
         "type": "scatter",
         "x": [
          60,
          60
         ],
         "xaxis": "x3",
         "y": [
          0,
          80
         ],
         "yaxis": "y3"
        },
        {
         "hoverinfo": "none",
         "line": {
          "color": "white",
          "width": 2.5
         },
         "mode": "lines",
         "showlegend": false,
         "type": "scatter",
         "x": [
          0,
          18
         ],
         "xaxis": "x3",
         "y": [
          18,
          18
         ],
         "yaxis": "y3"
        },
        {
         "hoverinfo": "none",
         "line": {
          "color": "white",
          "width": 2.5
         },
         "mode": "lines",
         "showlegend": false,
         "type": "scatter",
         "x": [
          18,
          18
         ],
         "xaxis": "x3",
         "y": [
          18,
          62
         ],
         "yaxis": "y3"
        },
        {
         "hoverinfo": "none",
         "line": {
          "color": "white",
          "width": 2.5
         },
         "mode": "lines",
         "showlegend": false,
         "type": "scatter",
         "x": [
          18,
          0
         ],
         "xaxis": "x3",
         "y": [
          62,
          62
         ],
         "yaxis": "y3"
        },
        {
         "hoverinfo": "none",
         "line": {
          "color": "white",
          "width": 2.5
         },
         "mode": "lines",
         "showlegend": false,
         "type": "scatter",
         "x": [
          0,
          6
         ],
         "xaxis": "x3",
         "y": [
          30,
          30
         ],
         "yaxis": "y3"
        },
        {
         "hoverinfo": "none",
         "line": {
          "color": "white",
          "width": 2.5
         },
         "mode": "lines",
         "showlegend": false,
         "type": "scatter",
         "x": [
          6,
          6
         ],
         "xaxis": "x3",
         "y": [
          30,
          50
         ],
         "yaxis": "y3"
        },
        {
         "hoverinfo": "none",
         "line": {
          "color": "white",
          "width": 2.5
         },
         "mode": "lines",
         "showlegend": false,
         "type": "scatter",
         "x": [
          6,
          0
         ],
         "xaxis": "x3",
         "y": [
          50,
          50
         ],
         "yaxis": "y3"
        },
        {
         "hoverinfo": "none",
         "line": {
          "color": "white",
          "width": 2.5
         },
         "mode": "lines",
         "showlegend": false,
         "type": "scatter",
         "x": [
          120,
          102
         ],
         "xaxis": "x3",
         "y": [
          18,
          18
         ],
         "yaxis": "y3"
        },
        {
         "hoverinfo": "none",
         "line": {
          "color": "white",
          "width": 2.5
         },
         "mode": "lines",
         "showlegend": false,
         "type": "scatter",
         "x": [
          102,
          102
         ],
         "xaxis": "x3",
         "y": [
          18,
          62
         ],
         "yaxis": "y3"
        },
        {
         "hoverinfo": "none",
         "line": {
          "color": "white",
          "width": 2.5
         },
         "mode": "lines",
         "showlegend": false,
         "type": "scatter",
         "x": [
          102,
          120
         ],
         "xaxis": "x3",
         "y": [
          62,
          62
         ],
         "yaxis": "y3"
        },
        {
         "hoverinfo": "none",
         "line": {
          "color": "white",
          "width": 2.5
         },
         "mode": "lines",
         "showlegend": false,
         "type": "scatter",
         "x": [
          120,
          114
         ],
         "xaxis": "x3",
         "y": [
          30,
          30
         ],
         "yaxis": "y3"
        },
        {
         "hoverinfo": "none",
         "line": {
          "color": "white",
          "width": 2.5
         },
         "mode": "lines",
         "showlegend": false,
         "type": "scatter",
         "x": [
          114,
          114
         ],
         "xaxis": "x3",
         "y": [
          30,
          50
         ],
         "yaxis": "y3"
        },
        {
         "hoverinfo": "none",
         "line": {
          "color": "white",
          "width": 2.5
         },
         "mode": "lines",
         "showlegend": false,
         "type": "scatter",
         "x": [
          114,
          120
         ],
         "xaxis": "x3",
         "y": [
          50,
          50
         ],
         "yaxis": "y3"
        },
        {
         "hoverinfo": "none",
         "line": {
          "color": "white",
          "width": 12.5
         },
         "mode": "lines",
         "showlegend": false,
         "type": "scatter",
         "x": [
          0,
          0
         ],
         "xaxis": "x3",
         "y": [
          36,
          44
         ],
         "yaxis": "y3"
        },
        {
         "hoverinfo": "none",
         "line": {
          "color": "white",
          "width": 12.5
         },
         "mode": "lines",
         "showlegend": false,
         "type": "scatter",
         "x": [
          120,
          120
         ],
         "xaxis": "x3",
         "y": [
          36,
          44
         ],
         "yaxis": "y3"
        },
        {
         "hoverinfo": "none",
         "line": {
          "color": "white",
          "width": 2.5
         },
         "mode": "lines",
         "showlegend": false,
         "type": "scatter",
         "x": [
          0,
          120
         ],
         "xaxis": "x4",
         "y": [
          0,
          0
         ],
         "yaxis": "y4"
        },
        {
         "hoverinfo": "none",
         "line": {
          "color": "white",
          "width": 2.5
         },
         "mode": "lines",
         "showlegend": false,
         "type": "scatter",
         "x": [
          120,
          120
         ],
         "xaxis": "x4",
         "y": [
          0,
          80
         ],
         "yaxis": "y4"
        },
        {
         "hoverinfo": "none",
         "line": {
          "color": "white",
          "width": 2.5
         },
         "mode": "lines",
         "showlegend": false,
         "type": "scatter",
         "x": [
          120,
          0
         ],
         "xaxis": "x4",
         "y": [
          80,
          80
         ],
         "yaxis": "y4"
        },
        {
         "hoverinfo": "none",
         "line": {
          "color": "white",
          "width": 2.5
         },
         "mode": "lines",
         "showlegend": false,
         "type": "scatter",
         "x": [
          0,
          0
         ],
         "xaxis": "x4",
         "y": [
          80,
          0
         ],
         "yaxis": "y4"
        },
        {
         "hoverinfo": "none",
         "line": {
          "color": "white",
          "width": 2.5
         },
         "mode": "lines",
         "showlegend": false,
         "type": "scatter",
         "x": [
          60,
          60
         ],
         "xaxis": "x4",
         "y": [
          0,
          80
         ],
         "yaxis": "y4"
        },
        {
         "hoverinfo": "none",
         "line": {
          "color": "white",
          "width": 2.5
         },
         "mode": "lines",
         "showlegend": false,
         "type": "scatter",
         "x": [
          0,
          18
         ],
         "xaxis": "x4",
         "y": [
          18,
          18
         ],
         "yaxis": "y4"
        },
        {
         "hoverinfo": "none",
         "line": {
          "color": "white",
          "width": 2.5
         },
         "mode": "lines",
         "showlegend": false,
         "type": "scatter",
         "x": [
          18,
          18
         ],
         "xaxis": "x4",
         "y": [
          18,
          62
         ],
         "yaxis": "y4"
        },
        {
         "hoverinfo": "none",
         "line": {
          "color": "white",
          "width": 2.5
         },
         "mode": "lines",
         "showlegend": false,
         "type": "scatter",
         "x": [
          18,
          0
         ],
         "xaxis": "x4",
         "y": [
          62,
          62
         ],
         "yaxis": "y4"
        },
        {
         "hoverinfo": "none",
         "line": {
          "color": "white",
          "width": 2.5
         },
         "mode": "lines",
         "showlegend": false,
         "type": "scatter",
         "x": [
          0,
          6
         ],
         "xaxis": "x4",
         "y": [
          30,
          30
         ],
         "yaxis": "y4"
        },
        {
         "hoverinfo": "none",
         "line": {
          "color": "white",
          "width": 2.5
         },
         "mode": "lines",
         "showlegend": false,
         "type": "scatter",
         "x": [
          6,
          6
         ],
         "xaxis": "x4",
         "y": [
          30,
          50
         ],
         "yaxis": "y4"
        },
        {
         "hoverinfo": "none",
         "line": {
          "color": "white",
          "width": 2.5
         },
         "mode": "lines",
         "showlegend": false,
         "type": "scatter",
         "x": [
          6,
          0
         ],
         "xaxis": "x4",
         "y": [
          50,
          50
         ],
         "yaxis": "y4"
        },
        {
         "hoverinfo": "none",
         "line": {
          "color": "white",
          "width": 2.5
         },
         "mode": "lines",
         "showlegend": false,
         "type": "scatter",
         "x": [
          120,
          102
         ],
         "xaxis": "x4",
         "y": [
          18,
          18
         ],
         "yaxis": "y4"
        },
        {
         "hoverinfo": "none",
         "line": {
          "color": "white",
          "width": 2.5
         },
         "mode": "lines",
         "showlegend": false,
         "type": "scatter",
         "x": [
          102,
          102
         ],
         "xaxis": "x4",
         "y": [
          18,
          62
         ],
         "yaxis": "y4"
        },
        {
         "hoverinfo": "none",
         "line": {
          "color": "white",
          "width": 2.5
         },
         "mode": "lines",
         "showlegend": false,
         "type": "scatter",
         "x": [
          102,
          120
         ],
         "xaxis": "x4",
         "y": [
          62,
          62
         ],
         "yaxis": "y4"
        },
        {
         "hoverinfo": "none",
         "line": {
          "color": "white",
          "width": 2.5
         },
         "mode": "lines",
         "showlegend": false,
         "type": "scatter",
         "x": [
          120,
          114
         ],
         "xaxis": "x4",
         "y": [
          30,
          30
         ],
         "yaxis": "y4"
        },
        {
         "hoverinfo": "none",
         "line": {
          "color": "white",
          "width": 2.5
         },
         "mode": "lines",
         "showlegend": false,
         "type": "scatter",
         "x": [
          114,
          114
         ],
         "xaxis": "x4",
         "y": [
          30,
          50
         ],
         "yaxis": "y4"
        },
        {
         "hoverinfo": "none",
         "line": {
          "color": "white",
          "width": 2.5
         },
         "mode": "lines",
         "showlegend": false,
         "type": "scatter",
         "x": [
          114,
          120
         ],
         "xaxis": "x4",
         "y": [
          50,
          50
         ],
         "yaxis": "y4"
        },
        {
         "hoverinfo": "none",
         "line": {
          "color": "white",
          "width": 12.5
         },
         "mode": "lines",
         "showlegend": false,
         "type": "scatter",
         "x": [
          0,
          0
         ],
         "xaxis": "x4",
         "y": [
          36,
          44
         ],
         "yaxis": "y4"
        },
        {
         "hoverinfo": "none",
         "line": {
          "color": "white",
          "width": 12.5
         },
         "mode": "lines",
         "showlegend": false,
         "type": "scatter",
         "x": [
          120,
          120
         ],
         "xaxis": "x4",
         "y": [
          36,
          44
         ],
         "yaxis": "y4"
        }
       ],
       "layout": {
        "annotations": [
         {
          "font": {
           "color": "white",
           "size": 15
          },
          "showarrow": false,
          "text": "1H Germany",
          "x": 0.2375,
          "xanchor": "center",
          "xref": "paper",
          "y": 1,
          "yanchor": "bottom",
          "yref": "paper"
         },
         {
          "font": {
           "color": "white",
           "size": 15
          },
          "showarrow": false,
          "text": "2H Germany",
          "x": 0.7625,
          "xanchor": "center",
          "xref": "paper",
          "y": 1,
          "yanchor": "bottom",
          "yref": "paper"
         },
         {
          "font": {
           "color": "white",
           "size": 15
          },
          "showarrow": false,
          "text": "1H France",
          "x": 0.2375,
          "xanchor": "center",
          "xref": "paper",
          "y": 0.475,
          "yanchor": "bottom",
          "yref": "paper"
         },
         {
          "font": {
           "color": "white",
           "size": 15
          },
          "showarrow": false,
          "text": "2H France",
          "x": 0.7625,
          "xanchor": "center",
          "xref": "paper",
          "y": 0.475,
          "yanchor": "bottom",
          "yref": "paper"
         },
         {
          "arrowcolor": "#1f77b4",
          "arrowhead": 4,
          "arrowsize": 2,
          "ax": 30,
          "axref": "x",
          "ay": 48,
          "ayref": "y",
          "captureevents": true,
          "hovertext": "player= J. Boateng\n time= 0m16s\n subEventName= Simple pass\n result= success",
          "showarrow": true,
          "x": 4.8,
          "xref": "x",
          "y": 50.4,
          "yref": "y"
         },
         {
          "arrowcolor": "#1f77b4",
          "arrowhead": 4,
          "arrowsize": 2,
          "ax": 4.8,
          "axref": "x",
          "ay": 50.4,
          "ayref": "y",
          "captureevents": true,
          "hovertext": "player= M. Neuer\n time= 0m18s\n subEventName= Simple pass\n result= success",
          "showarrow": true,
          "x": 15.6,
          "xref": "x",
          "y": 56,
          "yref": "y"
         },
         {
          "arrowcolor": "#1f77b4",
          "arrowhead": 4,
          "arrowsize": 2,
          "ax": 15.6,
          "axref": "x",
          "ay": 56,
          "ayref": "y",
          "captureevents": true,
          "hovertext": "player= B. Höwedes\n time= 0m19s\n subEventName= Simple pass\n result= success",
          "showarrow": true,
          "x": 36,
          "xref": "x",
          "y": 76.8,
          "yref": "y"
         },
         {
          "arrowcolor": "#1f77b4",
          "arrowhead": 4,
          "arrowsize": 2,
          "ax": 36,
          "axref": "x",
          "ay": 76.8,
          "ayref": "y",
          "captureevents": true,
          "hovertext": "player= J. Draxler\n time= 0m21s\n subEventName= Simple pass\n result= failure",
          "showarrow": true,
          "x": 40.8,
          "xref": "x",
          "y": 72.8,
          "yref": "y"
         },
         {
          "arrowcolor": "#1f77b4",
          "arrowhead": 4,
          "arrowsize": 2,
          "ax": 30,
          "axref": "x",
          "ay": 76,
          "ayref": "y",
          "captureevents": true,
          "hovertext": "player= J. Hector\n time= 0m24s\n subEventName= Simple pass\n result= success",
          "showarrow": true,
          "x": 50.4,
          "xref": "x",
          "y": 78.4,
          "yref": "y"
         },
         {
          "arrowcolor": "#1f77b4",
          "arrowhead": 4,
          "arrowsize": 2,
          "ax": 50.4,
          "axref": "x",
          "ay": 78.4,
          "ayref": "y",
          "captureevents": true,
          "hovertext": "player= J. Draxler\n time= 0m25s\n subEventName= Simple pass\n result= success",
          "showarrow": true,
          "x": 33.6,
          "xref": "x",
          "y": 48.8,
          "yref": "y"
         },
         {
          "arrowcolor": "#1f77b4",
          "arrowhead": 4,
          "arrowsize": 2,
          "ax": 74.4,
          "axref": "x",
          "ay": 52.8,
          "ayref": "y",
          "captureevents": true,
          "hovertext": "player= E. Can\n time= 0m33s\n subEventName= Simple pass\n result= failure",
          "showarrow": true,
          "x": 84,
          "xref": "x",
          "y": 68.8,
          "yref": "y"
         },
         {
          "arrowcolor": "#1f77b4",
          "arrowhead": 4,
          "arrowsize": 2,
          "ax": 93.6,
          "axref": "x",
          "ay": 61.6,
          "ayref": "y",
          "captureevents": true,
          "hovertext": "player= J. Draxler\n time= 0m47s\n subEventName= Simple pass\n result= success",
          "showarrow": true,
          "x": 106.8,
          "xref": "x",
          "y": 72.8,
          "yref": "y"
         },
         {
          "arrowcolor": "#1f77b4",
          "arrowhead": 4,
          "arrowsize": 2,
          "ax": 106.8,
          "axref": "x",
          "ay": 72.8,
          "ayref": "y",
          "captureevents": true,
          "hovertext": "player= T. Müller\n time= 0m49s\n subEventName= Simple pass\n result= failure",
          "showarrow": true,
          "x": 118.8,
          "xref": "x",
          "y": 71.2,
          "yref": "y"
         },
         {
          "arrowcolor": "#d62728",
          "arrowhead": 4,
          "arrowsize": 2,
          "ax": 75.6,
          "axref": "x",
          "ay": 57.599999999999994,
          "ayref": "y",
          "captureevents": true,
          "hovertext": "player= B. Schweinsteiger\n time= 0m54s\n subEventName= Head pass\n result= failure",
          "showarrow": true,
          "x": 85.2,
          "xref": "x",
          "y": 51.2,
          "yref": "y"
         },
         {
          "arrowcolor": "#1f77b4",
          "arrowhead": 4,
          "arrowsize": 2,
          "ax": 40.8,
          "axref": "x",
          "ay": 54.39999999999999,
          "ayref": "y",
          "captureevents": true,
          "hovertext": "player= J. Boateng\n time= 1m8s\n subEventName= Simple pass\n result= success",
          "showarrow": true,
          "x": 82.8,
          "xref": "x",
          "y": 64.80000000000001,
          "yref": "y"
         },
         {
          "arrowcolor": "#1f77b4",
          "arrowhead": 4,
          "arrowsize": 2,
          "ax": 82.8,
          "axref": "x",
          "ay": 64.80000000000001,
          "ayref": "y",
          "captureevents": true,
          "hovertext": "player= J. Draxler\n time= 1m9s\n subEventName= Simple pass\n result= failure",
          "showarrow": true,
          "x": 85.2,
          "xref": "x",
          "y": 80,
          "yref": "y"
         },
         {
          "arrowcolor": "#d62728",
          "arrowhead": 4,
          "arrowsize": 2,
          "ax": 49.2,
          "axref": "x",
          "ay": 75.19999999999999,
          "ayref": "y",
          "captureevents": true,
          "hovertext": "player= B. Schweinsteiger\n time= 1m33s\n subEventName= Head pass\n result= failure",
          "showarrow": true,
          "x": 45.6,
          "xref": "x",
          "y": 68.8,
          "yref": "y"
         },
         {
          "arrowcolor": "#ff7f0e",
          "arrowhead": 4,
          "arrowsize": 2,
          "ax": 14.4,
          "axref": "x",
          "ay": 58.4,
          "ayref": "y",
          "captureevents": true,
          "hovertext": "player= B. Höwedes\n time= 2m27s\n subEventName= High pass\n result= success",
          "showarrow": true,
          "x": 52.8,
          "xref": "x",
          "y": 66.39999999999999,
          "yref": "y"
         },
         {
          "arrowcolor": "#1f77b4",
          "arrowhead": 4,
          "arrowsize": 2,
          "ax": 34.8,
          "axref": "x",
          "ay": 71.2,
          "ayref": "y",
          "captureevents": true,
          "hovertext": "player= J. Hector\n time= 2m33s\n subEventName= Simple pass\n result= success",
          "showarrow": true,
          "x": 28.8,
          "xref": "x",
          "y": 56.8,
          "yref": "y"
         },
         {
          "arrowcolor": "#1f77b4",
          "arrowhead": 4,
          "arrowsize": 2,
          "ax": 28.8,
          "axref": "x",
          "ay": 56.8,
          "ayref": "y",
          "captureevents": true,
          "hovertext": "player= B. Schweinsteiger\n time= 2m34s\n subEventName= Simple pass\n result= success",
          "showarrow": true,
          "x": 42,
          "xref": "x",
          "y": 61.6,
          "yref": "y"
         },
         {
          "arrowcolor": "#1f77b4",
          "arrowhead": 4,
          "arrowsize": 2,
          "ax": 42,
          "axref": "x",
          "ay": 61.6,
          "ayref": "y",
          "captureevents": true,
          "hovertext": "player= B. Schweinsteiger\n time= 2m35s\n subEventName= Simple pass\n result= success",
          "showarrow": true,
          "x": 26.4,
          "xref": "x",
          "y": 53.599999999999994,
          "yref": "y"
         },
         {
          "arrowcolor": "#1f77b4",
          "arrowhead": 4,
          "arrowsize": 2,
          "ax": 26.4,
          "axref": "x",
          "ay": 53.599999999999994,
          "ayref": "y",
          "captureevents": true,
          "hovertext": "player= B. Höwedes\n time= 2m38s\n subEventName= Simple pass\n result= success",
          "showarrow": true,
          "x": 8.4,
          "xref": "x",
          "y": 27.199999999999996,
          "yref": "y"
         },
         {
          "arrowcolor": "#ff7f0e",
          "arrowhead": 4,
          "arrowsize": 2,
          "ax": 8.4,
          "axref": "x",
          "ay": 27.199999999999996,
          "ayref": "y",
          "captureevents": true,
          "hovertext": "player= M. Neuer\n time= 2m41s\n subEventName= High pass\n result= success",
          "showarrow": true,
          "x": 49.2,
          "xref": "x",
          "y": 10.4,
          "yref": "y"
         },
         {
          "arrowcolor": "#1f77b4",
          "arrowhead": 4,
          "arrowsize": 2,
          "ax": 15.6,
          "axref": "x",
          "ay": 13.600000000000003,
          "ayref": "y",
          "captureevents": true,
          "hovertext": "player= J. Boateng\n time= 3m8s\n subEventName= Simple pass\n result= success",
          "showarrow": true,
          "x": 8.4,
          "xref": "x",
          "y": 45.60000000000001,
          "yref": "y"
         },
         {
          "arrowcolor": "#1f77b4",
          "arrowhead": 4,
          "arrowsize": 2,
          "ax": 8.4,
          "axref": "x",
          "ay": 45.60000000000001,
          "ayref": "y",
          "captureevents": true,
          "hovertext": "player= M. Neuer\n time= 3m14s\n subEventName= Simple pass\n result= success",
          "showarrow": true,
          "x": 33.6,
          "xref": "x",
          "y": 48,
          "yref": "y"
         },
         {
          "arrowcolor": "#1f77b4",
          "arrowhead": 4,
          "arrowsize": 2,
          "ax": 33.6,
          "axref": "x",
          "ay": 48,
          "ayref": "y",
          "captureevents": true,
          "hovertext": "player= B. Schweinsteiger\n time= 3m16s\n subEventName= Simple pass\n result= success",
          "showarrow": true,
          "x": 39.6,
          "xref": "x",
          "y": 58.4,
          "yref": "y"
         },
         {
          "arrowcolor": "#1f77b4",
          "arrowhead": 4,
          "arrowsize": 2,
          "ax": 39.6,
          "axref": "x",
          "ay": 58.4,
          "ayref": "y",
          "captureevents": true,
          "hovertext": "player= T. Kroos\n time= 3m17s\n subEventName= Simple pass\n result= success",
          "showarrow": true,
          "x": 22.8,
          "xref": "x",
          "y": 71.2,
          "yref": "y"
         },
         {
          "arrowcolor": "#1f77b4",
          "arrowhead": 4,
          "arrowsize": 2,
          "ax": 22.8,
          "axref": "x",
          "ay": 71.2,
          "ayref": "y",
          "captureevents": true,
          "hovertext": "player= B. Höwedes\n time= 3m19s\n subEventName= Simple pass\n result= success",
          "showarrow": true,
          "x": 30,
          "xref": "x",
          "y": 49.6,
          "yref": "y"
         },
         {
          "arrowcolor": "#1f77b4",
          "arrowhead": 4,
          "arrowsize": 2,
          "ax": 30,
          "axref": "x",
          "ay": 49.6,
          "ayref": "y",
          "captureevents": true,
          "hovertext": "player= B. Schweinsteiger\n time= 3m24s\n subEventName= Simple pass\n result= success",
          "showarrow": true,
          "x": 69.6,
          "xref": "x",
          "y": 10.4,
          "yref": "y"
         },
         {
          "arrowcolor": "#ff7f0e",
          "arrowhead": 4,
          "arrowsize": 2,
          "ax": 69.6,
          "axref": "x",
          "ay": 10.4,
          "ayref": "y",
          "captureevents": true,
          "hovertext": "player= J. Boateng\n time= 3m28s\n subEventName= High pass\n result= failure",
          "showarrow": true,
          "x": 0,
          "xref": "x",
          "y": 80,
          "yref": "y"
         },
         {
          "arrowcolor": "#d62728",
          "arrowhead": 4,
          "arrowsize": 2,
          "ax": 13.2,
          "axref": "x",
          "ay": 32,
          "ayref": "y",
          "captureevents": true,
          "hovertext": "player= J. Kimmich\n time= 3m51s\n subEventName= Head pass\n result= success",
          "showarrow": true,
          "x": 16.8,
          "xref": "x",
          "y": 50.4,
          "yref": "y"
         },
         {
          "arrowcolor": "#d62728",
          "arrowhead": 4,
          "arrowsize": 2,
          "ax": 16.8,
          "axref": "x",
          "ay": 50.4,
          "ayref": "y",
          "captureevents": true,
          "hovertext": "player= B. Höwedes\n time= 3m52s\n subEventName= Head pass\n result= success",
          "showarrow": true,
          "x": 38.4,
          "xref": "x",
          "y": 27.199999999999996,
          "yref": "y"
         },
         {
          "arrowcolor": "#1f77b4",
          "arrowhead": 4,
          "arrowsize": 2,
          "ax": 38.4,
          "axref": "x",
          "ay": 27.199999999999996,
          "ayref": "y",
          "captureevents": true,
          "hovertext": "player= M. Özil\n time= 3m56s\n subEventName= Simple pass\n result= success",
          "showarrow": true,
          "x": 39.6,
          "xref": "x",
          "y": 36,
          "yref": "y"
         },
         {
          "arrowcolor": "#1f77b4",
          "arrowhead": 4,
          "arrowsize": 2,
          "ax": 39.6,
          "axref": "x",
          "ay": 36,
          "ayref": "y",
          "captureevents": true,
          "hovertext": "player= E. Can\n time= 3m58s\n subEventName= Simple pass\n result= failure",
          "showarrow": true,
          "x": 42,
          "xref": "x",
          "y": 60.8,
          "yref": "y"
         },
         {
          "arrowcolor": "#1f77b4",
          "arrowhead": 4,
          "arrowsize": 2,
          "ax": 12,
          "axref": "x",
          "ay": 23.200000000000003,
          "ayref": "y",
          "captureevents": true,
          "hovertext": "player= J. Kimmich\n time= 4m44s\n subEventName= Simple pass\n result= failure",
          "showarrow": true,
          "x": 46.8,
          "xref": "x",
          "y": 6.399999999999997,
          "yref": "y"
         },
         {
          "arrowcolor": "#d62728",
          "arrowhead": 4,
          "arrowsize": 2,
          "ax": 24,
          "axref": "x",
          "ay": 20,
          "ayref": "y",
          "captureevents": true,
          "hovertext": "player= J. Boateng\n time= 5m29s\n subEventName= Head pass\n result= success",
          "showarrow": true,
          "x": 30,
          "xref": "x",
          "y": 7.999999999999998,
          "yref": "y"
         },
         {
          "arrowcolor": "#ff7f0e",
          "arrowhead": 4,
          "arrowsize": 2,
          "ax": 30,
          "axref": "x",
          "ay": 7.999999999999998,
          "ayref": "y",
          "captureevents": true,
          "hovertext": "player= J. Kimmich\n time= 5m30s\n subEventName= High pass\n result= success",
          "showarrow": true,
          "x": 70.8,
          "xref": "x",
          "y": 18.4,
          "yref": "y"
         },
         {
          "arrowcolor": "#1f77b4",
          "arrowhead": 4,
          "arrowsize": 2,
          "ax": 70.8,
          "axref": "x",
          "ay": 18.4,
          "ayref": "y",
          "captureevents": true,
          "hovertext": "player= T. Müller\n time= 5m33s\n subEventName= Simple pass\n result= failure",
          "showarrow": true,
          "x": 63.6,
          "xref": "x",
          "y": 26.4,
          "yref": "y"
         },
         {
          "arrowcolor": "#1f77b4",
          "arrowhead": 4,
          "arrowsize": 2,
          "ax": 40.8,
          "axref": "x",
          "ay": 35.199999999999996,
          "ayref": "y",
          "captureevents": true,
          "hovertext": "player= E. Can\n time= 5m47s\n subEventName= Simple pass\n result= failure",
          "showarrow": true,
          "x": 49.2,
          "xref": "x",
          "y": 25.599999999999994,
          "yref": "y"
         },
         {
          "arrowcolor": "#1f77b4",
          "arrowhead": 4,
          "arrowsize": 2,
          "ax": 24,
          "axref": "x",
          "ay": 36,
          "ayref": "y",
          "captureevents": true,
          "hovertext": "player= E. Can\n time= 6m12s\n subEventName= Simple pass\n result= success",
          "showarrow": true,
          "x": 30,
          "xref": "x",
          "y": 52,
          "yref": "y"
         },
         {
          "arrowcolor": "#1f77b4",
          "arrowhead": 4,
          "arrowsize": 2,
          "ax": 30,
          "axref": "x",
          "ay": 52,
          "ayref": "y",
          "captureevents": true,
          "hovertext": "player= T. Kroos\n time= 6m13s\n subEventName= Simple pass\n result= success",
          "showarrow": true,
          "x": 30,
          "xref": "x",
          "y": 36.8,
          "yref": "y"
         },
         {
          "arrowcolor": "#1f77b4",
          "arrowhead": 4,
          "arrowsize": 2,
          "ax": 79.2,
          "axref": "x",
          "ay": 76.8,
          "ayref": "y",
          "captureevents": true,
          "hovertext": "player= J. Hector\n time= 6m31s\n subEventName= Simple pass\n result= success",
          "showarrow": true,
          "x": 64.8,
          "xref": "x",
          "y": 74.39999999999999,
          "yref": "y"
         },
         {
          "arrowcolor": "#1f77b4",
          "arrowhead": 4,
          "arrowsize": 2,
          "ax": 64.8,
          "axref": "x",
          "ay": 74.39999999999999,
          "ayref": "y",
          "captureevents": true,
          "hovertext": "player= M. Özil\n time= 6m35s\n subEventName= Simple pass\n result= success",
          "showarrow": true,
          "x": 67.2,
          "xref": "x",
          "y": 58.4,
          "yref": "y"
         },
         {
          "arrowcolor": "#1f77b4",
          "arrowhead": 4,
          "arrowsize": 2,
          "ax": 67.2,
          "axref": "x",
          "ay": 58.4,
          "ayref": "y",
          "captureevents": true,
          "hovertext": "player= T. Kroos\n time= 6m39s\n subEventName= Simple pass\n result= success",
          "showarrow": true,
          "x": 58.8,
          "xref": "x",
          "y": 20,
          "yref": "y"
         },
         {
          "arrowcolor": "#1f77b4",
          "arrowhead": 4,
          "arrowsize": 2,
          "ax": 58.8,
          "axref": "x",
          "ay": 20,
          "ayref": "y",
          "captureevents": true,
          "hovertext": "player= J. Boateng\n time= 6m45s\n subEventName= Simple pass\n result= success",
          "showarrow": true,
          "x": 55.2,
          "xref": "x",
          "y": 48,
          "yref": "y"
         },
         {
          "arrowcolor": "#1f77b4",
          "arrowhead": 4,
          "arrowsize": 2,
          "ax": 55.2,
          "axref": "x",
          "ay": 48,
          "ayref": "y",
          "captureevents": true,
          "hovertext": "player= B. Schweinsteiger\n time= 6m47s\n subEventName= Simple pass\n result= success",
          "showarrow": true,
          "x": 70.8,
          "xref": "x",
          "y": 60.8,
          "yref": "y"
         },
         {
          "arrowcolor": "#1f77b4",
          "arrowhead": 4,
          "arrowsize": 2,
          "ax": 70.8,
          "axref": "x",
          "ay": 60.8,
          "ayref": "y",
          "captureevents": true,
          "hovertext": "player= M. Özil\n time= 6m49s\n subEventName= Simple pass\n result= success",
          "showarrow": true,
          "x": 84,
          "xref": "x",
          "y": 48.8,
          "yref": "y"
         },
         {
          "arrowcolor": "#1f77b4",
          "arrowhead": 4,
          "arrowsize": 2,
          "ax": 84,
          "axref": "x",
          "ay": 48.8,
          "ayref": "y",
          "captureevents": true,
          "hovertext": "player= T. Kroos\n time= 6m51s\n subEventName= Simple pass\n result= success",
          "showarrow": true,
          "x": 67.2,
          "xref": "x",
          "y": 62.400000000000006,
          "yref": "y"
         },
         {
          "arrowcolor": "#1f77b4",
          "arrowhead": 4,
          "arrowsize": 2,
          "ax": 67.2,
          "axref": "x",
          "ay": 62.400000000000006,
          "ayref": "y",
          "captureevents": true,
          "hovertext": "player= M. Özil\n time= 6m53s\n subEventName= Simple pass\n result= success",
          "showarrow": true,
          "x": 85.2,
          "xref": "x",
          "y": 78.4,
          "yref": "y"
         },
         {
          "arrowcolor": "#1f77b4",
          "arrowhead": 4,
          "arrowsize": 2,
          "ax": 85.2,
          "axref": "x",
          "ay": 78.4,
          "ayref": "y",
          "captureevents": true,
          "hovertext": "player= J. Hector\n time= 6m56s\n subEventName= Simple pass\n result= success",
          "showarrow": true,
          "x": 75.6,
          "xref": "x",
          "y": 68,
          "yref": "y"
         },
         {
          "arrowcolor": "#1f77b4",
          "arrowhead": 4,
          "arrowsize": 2,
          "ax": 75.6,
          "axref": "x",
          "ay": 68,
          "ayref": "y",
          "captureevents": true,
          "hovertext": "player= M. Özil\n time= 7m0s\n subEventName= Simple pass\n result= success",
          "showarrow": true,
          "x": 63.6,
          "xref": "x",
          "y": 49.6,
          "yref": "y"
         },
         {
          "arrowcolor": "#1f77b4",
          "arrowhead": 4,
          "arrowsize": 2,
          "ax": 63.6,
          "axref": "x",
          "ay": 49.6,
          "ayref": "y",
          "captureevents": true,
          "hovertext": "player= B. Schweinsteiger\n time= 7m1s\n subEventName= Simple pass\n result= success",
          "showarrow": true,
          "x": 74.4,
          "xref": "x",
          "y": 60,
          "yref": "y"
         },
         {
          "arrowcolor": "#1f77b4",
          "arrowhead": 4,
          "arrowsize": 2,
          "ax": 74.4,
          "axref": "x",
          "ay": 60,
          "ayref": "y",
          "captureevents": true,
          "hovertext": "player= T. Kroos\n time= 7m2s\n subEventName= Simple pass\n result= success",
          "showarrow": true,
          "x": 62.4,
          "xref": "x",
          "y": 46.400000000000006,
          "yref": "y"
         },
         {
          "arrowcolor": "#1f77b4",
          "arrowhead": 4,
          "arrowsize": 2,
          "ax": 62.4,
          "axref": "x",
          "ay": 46.400000000000006,
          "ayref": "y",
          "captureevents": true,
          "hovertext": "player= B. Schweinsteiger\n time= 7m4s\n subEventName= Simple pass\n result= success",
          "showarrow": true,
          "x": 50.4,
          "xref": "x",
          "y": 69.6,
          "yref": "y"
         },
         {
          "arrowcolor": "#1f77b4",
          "arrowhead": 4,
          "arrowsize": 2,
          "ax": 50.4,
          "axref": "x",
          "ay": 69.6,
          "ayref": "y",
          "captureevents": true,
          "hovertext": "player= T. Kroos\n time= 7m8s\n subEventName= Simple pass\n result= success",
          "showarrow": true,
          "x": 73.2,
          "xref": "x",
          "y": 72,
          "yref": "y"
         },
         {
          "arrowcolor": "#1f77b4",
          "arrowhead": 4,
          "arrowsize": 2,
          "ax": 73.2,
          "axref": "x",
          "ay": 72,
          "ayref": "y",
          "captureevents": true,
          "hovertext": "player= J. Hector\n time= 7m12s\n subEventName= Simple pass\n result= success",
          "showarrow": true,
          "x": 87.6,
          "xref": "x",
          "y": 58.4,
          "yref": "y"
         },
         {
          "arrowcolor": "#1f77b4",
          "arrowhead": 4,
          "arrowsize": 2,
          "ax": 87.6,
          "axref": "x",
          "ay": 58.4,
          "ayref": "y",
          "captureevents": true,
          "hovertext": "player= M. Özil\n time= 7m13s\n subEventName= Simple pass\n result= success",
          "showarrow": true,
          "x": 85.2,
          "xref": "x",
          "y": 43.2,
          "yref": "y"
         },
         {
          "arrowcolor": "#ff7f0e",
          "arrowhead": 4,
          "arrowsize": 2,
          "ax": 85.2,
          "axref": "x",
          "ay": 43.2,
          "ayref": "y",
          "captureevents": true,
          "hovertext": "player= J. Draxler\n time= 7m16s\n subEventName= High pass\n result= failure",
          "showarrow": true,
          "x": 117.6,
          "xref": "x",
          "y": 5.599999999999996,
          "yref": "y"
         },
         {
          "arrowcolor": "#1f77b4",
          "arrowhead": 4,
          "arrowsize": 2,
          "ax": 48,
          "axref": "x",
          "ay": 69.6,
          "ayref": "y",
          "captureevents": true,
          "hovertext": "player= B. Schweinsteiger\n time= 8m10s\n subEventName= Simple pass\n result= success",
          "showarrow": true,
          "x": 37.2,
          "xref": "x",
          "y": 78.4,
          "yref": "y"
         },
         {
          "arrowcolor": "#1f77b4",
          "arrowhead": 4,
          "arrowsize": 2,
          "ax": 37.2,
          "axref": "x",
          "ay": 78.4,
          "ayref": "y",
          "captureevents": true,
          "hovertext": "player= J. Hector\n time= 8m14s\n subEventName= Simple pass\n result= success",
          "showarrow": true,
          "x": 32.4,
          "xref": "x",
          "y": 60,
          "yref": "y"
         },
         {
          "arrowcolor": "#1f77b4",
          "arrowhead": 4,
          "arrowsize": 2,
          "ax": 32.4,
          "axref": "x",
          "ay": 60,
          "ayref": "y",
          "captureevents": true,
          "hovertext": "player= B. Höwedes\n time= 8m18s\n subEventName= Simple pass\n result= success",
          "showarrow": true,
          "x": 43.2,
          "xref": "x",
          "y": 27.199999999999996,
          "yref": "y"
         },
         {
          "arrowcolor": "#1f77b4",
          "arrowhead": 4,
          "arrowsize": 2,
          "ax": 43.2,
          "axref": "x",
          "ay": 27.199999999999996,
          "ayref": "y",
          "captureevents": true,
          "hovertext": "player= J. Boateng\n time= 8m30s\n subEventName= Simple pass\n result= success",
          "showarrow": true,
          "x": 69.6,
          "xref": "x",
          "y": 64.80000000000001,
          "yref": "y"
         },
         {
          "arrowcolor": "#1f77b4",
          "arrowhead": 4,
          "arrowsize": 2,
          "ax": 69.6,
          "axref": "x",
          "ay": 64.80000000000001,
          "ayref": "y",
          "captureevents": true,
          "hovertext": "player= T. Kroos\n time= 8m34s\n subEventName= Simple pass\n result= success",
          "showarrow": true,
          "x": 73.2,
          "xref": "x",
          "y": 76.8,
          "yref": "y"
         },
         {
          "arrowcolor": "#1f77b4",
          "arrowhead": 4,
          "arrowsize": 2,
          "ax": 73.2,
          "axref": "x",
          "ay": 76.8,
          "ayref": "y",
          "captureevents": true,
          "hovertext": "player= J. Hector\n time= 8m36s\n subEventName= Simple pass\n result= success",
          "showarrow": true,
          "x": 86.4,
          "xref": "x",
          "y": 66.39999999999999,
          "yref": "y"
         },
         {
          "arrowcolor": "#1f77b4",
          "arrowhead": 4,
          "arrowsize": 2,
          "ax": 86.4,
          "axref": "x",
          "ay": 66.39999999999999,
          "ayref": "y",
          "captureevents": true,
          "hovertext": "player= J. Draxler\n time= 8m37s\n subEventName= Simple pass\n result= success",
          "showarrow": true,
          "x": 54,
          "xref": "x",
          "y": 68,
          "yref": "y"
         },
         {
          "arrowcolor": "#1f77b4",
          "arrowhead": 4,
          "arrowsize": 2,
          "ax": 54,
          "axref": "x",
          "ay": 68,
          "ayref": "y",
          "captureevents": true,
          "hovertext": "player= B. Höwedes\n time= 8m40s\n subEventName= Simple pass\n result= success",
          "showarrow": true,
          "x": 69.6,
          "xref": "x",
          "y": 52.8,
          "yref": "y"
         },
         {
          "arrowcolor": "#1f77b4",
          "arrowhead": 4,
          "arrowsize": 2,
          "ax": 69.6,
          "axref": "x",
          "ay": 52.8,
          "ayref": "y",
          "captureevents": true,
          "hovertext": "player= B. Schweinsteiger\n time= 8m42s\n subEventName= Simple pass\n result= success",
          "showarrow": true,
          "x": 76.8,
          "xref": "x",
          "y": 23.200000000000003,
          "yref": "y"
         },
         {
          "arrowcolor": "#ff7f0e",
          "arrowhead": 4,
          "arrowsize": 2,
          "ax": 76.8,
          "axref": "x",
          "ay": 23.200000000000003,
          "ayref": "y",
          "captureevents": true,
          "hovertext": "player= J. Boateng\n time= 8m46s\n subEventName= High pass\n result= success",
          "showarrow": true,
          "x": 105.6,
          "xref": "x",
          "y": 75.19999999999999,
          "yref": "y"
         },
         {
          "arrowcolor": "#1f77b4",
          "arrowhead": 4,
          "arrowsize": 2,
          "ax": 105.6,
          "axref": "x",
          "ay": 75.19999999999999,
          "ayref": "y",
          "captureevents": true,
          "hovertext": "player= J. Hector\n time= 8m50s\n subEventName= Simple pass\n result= success",
          "showarrow": true,
          "x": 102,
          "xref": "x",
          "y": 57.599999999999994,
          "yref": "y"
         },
         {
          "arrowcolor": "#1f77b4",
          "arrowhead": 4,
          "arrowsize": 2,
          "ax": 102,
          "axref": "x",
          "ay": 57.599999999999994,
          "ayref": "y",
          "captureevents": true,
          "hovertext": "player= J. Draxler\n time= 8m55s\n subEventName= Simple pass\n result= success",
          "showarrow": true,
          "x": 103.2,
          "xref": "x",
          "y": 76.8,
          "yref": "y"
         },
         {
          "arrowcolor": "#1f77b4",
          "arrowhead": 4,
          "arrowsize": 2,
          "ax": 103.2,
          "axref": "x",
          "ay": 76.8,
          "ayref": "y",
          "captureevents": true,
          "hovertext": "player= J. Hector\n time= 8m58s\n subEventName= Simple pass\n result= success",
          "showarrow": true,
          "x": 74.4,
          "xref": "x",
          "y": 76,
          "yref": "y"
         },
         {
          "arrowcolor": "#1f77b4",
          "arrowhead": 4,
          "arrowsize": 2,
          "ax": 74.4,
          "axref": "x",
          "ay": 76,
          "ayref": "y",
          "captureevents": true,
          "hovertext": "player= J. Draxler\n time= 9m0s\n subEventName= Simple pass\n result= success",
          "showarrow": true,
          "x": 81.6,
          "xref": "x",
          "y": 63.2,
          "yref": "y"
         },
         {
          "arrowcolor": "#1f77b4",
          "arrowhead": 4,
          "arrowsize": 2,
          "ax": 81.6,
          "axref": "x",
          "ay": 63.2,
          "ayref": "y",
          "captureevents": true,
          "hovertext": "player= B. Schweinsteiger\n time= 9m1s\n subEventName= Simple pass\n result= success",
          "showarrow": true,
          "x": 87.6,
          "xref": "x",
          "y": 76,
          "yref": "y"
         },
         {
          "arrowcolor": "#1f77b4",
          "arrowhead": 4,
          "arrowsize": 2,
          "ax": 87.6,
          "axref": "x",
          "ay": 76,
          "ayref": "y",
          "captureevents": true,
          "hovertext": "player= J. Draxler\n time= 9m2s\n subEventName= Simple pass\n result= success",
          "showarrow": true,
          "x": 78,
          "xref": "x",
          "y": 62.400000000000006,
          "yref": "y"
         },
         {
          "arrowcolor": "#1f77b4",
          "arrowhead": 4,
          "arrowsize": 2,
          "ax": 78,
          "axref": "x",
          "ay": 62.400000000000006,
          "ayref": "y",
          "captureevents": true,
          "hovertext": "player= B. Schweinsteiger\n time= 9m4s\n subEventName= Simple pass\n result= success",
          "showarrow": true,
          "x": 68.4,
          "xref": "x",
          "y": 49.6,
          "yref": "y"
         },
         {
          "arrowcolor": "#ff7f0e",
          "arrowhead": 4,
          "arrowsize": 2,
          "ax": 68.4,
          "axref": "x",
          "ay": 49.6,
          "ayref": "y",
          "captureevents": true,
          "hovertext": "player= B. Höwedes\n time= 9m7s\n subEventName= High pass\n result= failure",
          "showarrow": true,
          "x": 106.8,
          "xref": "x",
          "y": 0,
          "yref": "y"
         },
         {
          "arrowcolor": "#d62728",
          "arrowhead": 4,
          "arrowsize": 2,
          "ax": 16.8,
          "axref": "x",
          "ay": 35.199999999999996,
          "ayref": "y",
          "captureevents": true,
          "hovertext": "player= J. Boateng\n time= 10m16s\n subEventName= Head pass\n result= success",
          "showarrow": true,
          "x": 39.6,
          "xref": "x",
          "y": 50.4,
          "yref": "y"
         },
         {
          "arrowcolor": "#1f77b4",
          "arrowhead": 4,
          "arrowsize": 2,
          "ax": 33.6,
          "axref": "x",
          "ay": 52,
          "ayref": "y",
          "captureevents": true,
          "hovertext": "player= T. Kroos\n time= 10m19s\n subEventName= Simple pass\n result= success",
          "showarrow": true,
          "x": 8.4,
          "xref": "x",
          "y": 56.8,
          "yref": "y"
         },
         {
          "arrowcolor": "#1f77b4",
          "arrowhead": 4,
          "arrowsize": 2,
          "ax": 8.4,
          "axref": "x",
          "ay": 56.8,
          "ayref": "y",
          "captureevents": true,
          "hovertext": "player= M. Neuer\n time= 10m26s\n subEventName= Simple pass\n result= success",
          "showarrow": true,
          "x": 32.4,
          "xref": "x",
          "y": 60,
          "yref": "y"
         },
         {
          "arrowcolor": "#1f77b4",
          "arrowhead": 4,
          "arrowsize": 2,
          "ax": 32.4,
          "axref": "x",
          "ay": 60,
          "ayref": "y",
          "captureevents": true,
          "hovertext": "player= B. Höwedes\n time= 10m32s\n subEventName= Simple pass\n result= success",
          "showarrow": true,
          "x": 54,
          "xref": "x",
          "y": 15.199999999999996,
          "yref": "y"
         },
         {
          "arrowcolor": "#1f77b4",
          "arrowhead": 4,
          "arrowsize": 2,
          "ax": 54,
          "axref": "x",
          "ay": 15.199999999999996,
          "ayref": "y",
          "captureevents": true,
          "hovertext": "player= J. Boateng\n time= 10m41s\n subEventName= Simple pass\n result= success",
          "showarrow": true,
          "x": 74.4,
          "xref": "x",
          "y": 24.800000000000004,
          "yref": "y"
         },
         {
          "arrowcolor": "#1f77b4",
          "arrowhead": 4,
          "arrowsize": 2,
          "ax": 91.2,
          "axref": "x",
          "ay": 13.600000000000003,
          "ayref": "y",
          "captureevents": true,
          "hovertext": "player= M. Özil\n time= 10m48s\n subEventName= Simple pass\n result= success",
          "showarrow": true,
          "x": 118.8,
          "xref": "x",
          "y": 6.399999999999997,
          "yref": "y"
         },
         {
          "arrowcolor": "#9467bd",
          "arrowhead": 4,
          "arrowsize": 2,
          "ax": 118.8,
          "axref": "x",
          "ay": 6.399999999999997,
          "ayref": "y",
          "captureevents": true,
          "hovertext": "player= J. Kimmich\n time= 10m49s\n subEventName= Cross\n result= failure",
          "showarrow": true,
          "x": 0,
          "xref": "x",
          "y": 80,
          "yref": "y"
         },
         {
          "arrowcolor": "#1f77b4",
          "arrowhead": 4,
          "arrowsize": 2,
          "ax": 114,
          "axref": "x",
          "ay": 6.399999999999997,
          "ayref": "y",
          "captureevents": true,
          "hovertext": "player= M. Özil\n time= 11m1s\n subEventName= Simple pass\n result= success",
          "showarrow": true,
          "x": 106.8,
          "xref": "x",
          "y": 4.800000000000004,
          "yref": "y"
         },
         {
          "arrowcolor": "#1f77b4",
          "arrowhead": 4,
          "arrowsize": 2,
          "ax": 106.8,
          "axref": "x",
          "ay": 4.800000000000004,
          "ayref": "y",
          "captureevents": true,
          "hovertext": "player= J. Kimmich\n time= 11m3s\n subEventName= Simple pass\n result= success",
          "showarrow": true,
          "x": 81.6,
          "xref": "x",
          "y": 7.999999999999998,
          "yref": "y"
         },
         {
          "arrowcolor": "#1f77b4",
          "arrowhead": 4,
          "arrowsize": 2,
          "ax": 81.6,
          "axref": "x",
          "ay": 7.999999999999998,
          "ayref": "y",
          "captureevents": true,
          "hovertext": "player= B. Schweinsteiger\n time= 11m6s\n subEventName= Simple pass\n result= success",
          "showarrow": true,
          "x": 82.8,
          "xref": "x",
          "y": 28.799999999999997,
          "yref": "y"
         },
         {
          "arrowcolor": "#1f77b4",
          "arrowhead": 4,
          "arrowsize": 2,
          "ax": 82.8,
          "axref": "x",
          "ay": 28.799999999999997,
          "ayref": "y",
          "captureevents": true,
          "hovertext": "player= J. Boateng\n time= 11m11s\n subEventName= Simple pass\n result= failure",
          "showarrow": true,
          "x": 115.2,
          "xref": "x",
          "y": 80,
          "yref": "y"
         },
         {
          "arrowcolor": "#1f77b4",
          "arrowhead": 4,
          "arrowsize": 2,
          "ax": 88.8,
          "axref": "x",
          "ay": 63.2,
          "ayref": "y",
          "captureevents": true,
          "hovertext": "player= J. Draxler\n time= 11m40s\n subEventName= Simple pass\n result= success",
          "showarrow": true,
          "x": 84,
          "xref": "x",
          "y": 59.2,
          "yref": "y"
         },
         {
          "arrowcolor": "#1f77b4",
          "arrowhead": 4,
          "arrowsize": 2,
          "ax": 84,
          "axref": "x",
          "ay": 59.2,
          "ayref": "y",
          "captureevents": true,
          "hovertext": "player= E. Can\n time= 11m42s\n subEventName= Simple pass\n result= success",
          "showarrow": true,
          "x": 85.2,
          "xref": "x",
          "y": 64.80000000000001,
          "yref": "y"
         },
         {
          "arrowcolor": "#1f77b4",
          "arrowhead": 4,
          "arrowsize": 2,
          "ax": 85.2,
          "axref": "x",
          "ay": 64.80000000000001,
          "ayref": "y",
          "captureevents": true,
          "hovertext": "player= T. Kroos\n time= 11m43s\n subEventName= Simple pass\n result= success",
          "showarrow": true,
          "x": 73.2,
          "xref": "x",
          "y": 54.39999999999999,
          "yref": "y"
         },
         {
          "arrowcolor": "#1f77b4",
          "arrowhead": 4,
          "arrowsize": 2,
          "ax": 73.2,
          "axref": "x",
          "ay": 54.39999999999999,
          "ayref": "y",
          "captureevents": true,
          "hovertext": "player= B. Schweinsteiger\n time= 11m46s\n subEventName= Simple pass\n result= success",
          "showarrow": true,
          "x": 73.2,
          "xref": "x",
          "y": 68.8,
          "yref": "y"
         },
         {
          "arrowcolor": "#1f77b4",
          "arrowhead": 4,
          "arrowsize": 2,
          "ax": 73.2,
          "axref": "x",
          "ay": 68.8,
          "ayref": "y",
          "captureevents": true,
          "hovertext": "player= B. Höwedes\n time= 11m47s\n subEventName= Simple pass\n result= success",
          "showarrow": true,
          "x": 84,
          "xref": "x",
          "y": 58.4,
          "yref": "y"
         },
         {
          "arrowcolor": "#1f77b4",
          "arrowhead": 4,
          "arrowsize": 2,
          "ax": 84,
          "axref": "x",
          "ay": 58.4,
          "ayref": "y",
          "captureevents": true,
          "hovertext": "player= T. Kroos\n time= 11m49s\n subEventName= Simple pass\n result= success",
          "showarrow": true,
          "x": 67.2,
          "xref": "x",
          "y": 51.2,
          "yref": "y"
         },
         {
          "arrowcolor": "#1f77b4",
          "arrowhead": 4,
          "arrowsize": 2,
          "ax": 67.2,
          "axref": "x",
          "ay": 51.2,
          "ayref": "y",
          "captureevents": true,
          "hovertext": "player= B. Schweinsteiger\n time= 11m51s\n subEventName= Simple pass\n result= success",
          "showarrow": true,
          "x": 79.2,
          "xref": "x",
          "y": 26.4,
          "yref": "y"
         },
         {
          "arrowcolor": "#1f77b4",
          "arrowhead": 4,
          "arrowsize": 2,
          "ax": 79.2,
          "axref": "x",
          "ay": 26.4,
          "ayref": "y",
          "captureevents": true,
          "hovertext": "player= M. Özil\n time= 11m55s\n subEventName= Simple pass\n result= success",
          "showarrow": true,
          "x": 90,
          "xref": "x",
          "y": 31.200000000000003,
          "yref": "y"
         },
         {
          "arrowcolor": "#1f77b4",
          "arrowhead": 4,
          "arrowsize": 2,
          "ax": 90,
          "axref": "x",
          "ay": 31.200000000000003,
          "ayref": "y",
          "captureevents": true,
          "hovertext": "player= T. Müller\n time= 11m57s\n subEventName= Simple pass\n result= success",
          "showarrow": true,
          "x": 76.8,
          "xref": "x",
          "y": 40,
          "yref": "y"
         },
         {
          "arrowcolor": "#1f77b4",
          "arrowhead": 4,
          "arrowsize": 2,
          "ax": 76.8,
          "axref": "x",
          "ay": 40,
          "ayref": "y",
          "captureevents": true,
          "hovertext": "player= B. Schweinsteiger\n time= 11m59s\n subEventName= Simple pass\n result= success",
          "showarrow": true,
          "x": 74.4,
          "xref": "x",
          "y": 63.2,
          "yref": "y"
         },
         {
          "arrowcolor": "#1f77b4",
          "arrowhead": 4,
          "arrowsize": 2,
          "ax": 74.4,
          "axref": "x",
          "ay": 63.2,
          "ayref": "y",
          "captureevents": true,
          "hovertext": "player= B. Höwedes\n time= 12m1s\n subEventName= Simple pass\n result= success",
          "showarrow": true,
          "x": 88.8,
          "xref": "x",
          "y": 78.4,
          "yref": "y"
         },
         {
          "arrowcolor": "#1f77b4",
          "arrowhead": 4,
          "arrowsize": 2,
          "ax": 88.8,
          "axref": "x",
          "ay": 78.4,
          "ayref": "y",
          "captureevents": true,
          "hovertext": "player= J. Hector\n time= 12m5s\n subEventName= Simple pass\n result= success",
          "showarrow": true,
          "x": 72,
          "xref": "x",
          "y": 76,
          "yref": "y"
         },
         {
          "arrowcolor": "#1f77b4",
          "arrowhead": 4,
          "arrowsize": 2,
          "ax": 72,
          "axref": "x",
          "ay": 76,
          "ayref": "y",
          "captureevents": true,
          "hovertext": "player= B. Höwedes\n time= 12m7s\n subEventName= Simple pass\n result= success",
          "showarrow": true,
          "x": 64.8,
          "xref": "x",
          "y": 48.8,
          "yref": "y"
         },
         {
          "arrowcolor": "#1f77b4",
          "arrowhead": 4,
          "arrowsize": 2,
          "ax": 64.8,
          "axref": "x",
          "ay": 48.8,
          "ayref": "y",
          "captureevents": true,
          "hovertext": "player= B. Schweinsteiger\n time= 12m10s\n subEventName= Simple pass\n result= success",
          "showarrow": true,
          "x": 68.4,
          "xref": "x",
          "y": 16.799999999999997,
          "yref": "y"
         },
         {
          "arrowcolor": "#1f77b4",
          "arrowhead": 4,
          "arrowsize": 2,
          "ax": 68.4,
          "axref": "x",
          "ay": 16.799999999999997,
          "ayref": "y",
          "captureevents": true,
          "hovertext": "player= J. Boateng\n time= 12m14s\n subEventName= Simple pass\n result= success",
          "showarrow": true,
          "x": 79.2,
          "xref": "x",
          "y": 28,
          "yref": "y"
         },
         {
          "arrowcolor": "#1f77b4",
          "arrowhead": 4,
          "arrowsize": 2,
          "ax": 79.2,
          "axref": "x",
          "ay": 28,
          "ayref": "y",
          "captureevents": true,
          "hovertext": "player= M. Özil\n time= 12m15s\n subEventName= Simple pass\n result= success",
          "showarrow": true,
          "x": 93.6,
          "xref": "x",
          "y": 7.999999999999998,
          "yref": "y"
         },
         {
          "arrowcolor": "#1f77b4",
          "arrowhead": 4,
          "arrowsize": 2,
          "ax": 93.6,
          "axref": "x",
          "ay": 7.999999999999998,
          "ayref": "y",
          "captureevents": true,
          "hovertext": "player= J. Kimmich\n time= 12m17s\n subEventName= Simple pass\n result= success",
          "showarrow": true,
          "x": 110.4,
          "xref": "x",
          "y": 9.6,
          "yref": "y"
         },
         {
          "arrowcolor": "#9467bd",
          "arrowhead": 4,
          "arrowsize": 2,
          "ax": 110.4,
          "axref": "x",
          "ay": 9.6,
          "ayref": "y",
          "captureevents": true,
          "hovertext": "player= E. Can\n time= 12m19s\n subEventName= Cross\n result= success",
          "showarrow": true,
          "x": 108,
          "xref": "x",
          "y": 28,
          "yref": "y"
         },
         {
          "arrowcolor": "#1f77b4",
          "arrowhead": 4,
          "arrowsize": 2,
          "ax": 70.8,
          "axref": "x",
          "ay": 73.60000000000001,
          "ayref": "y",
          "captureevents": true,
          "hovertext": "player= J. Draxler\n time= 12m58s\n subEventName= Simple pass\n result= success",
          "showarrow": true,
          "x": 50.4,
          "xref": "x",
          "y": 62.400000000000006,
          "yref": "y"
         },
         {
          "arrowcolor": "#1f77b4",
          "arrowhead": 4,
          "arrowsize": 2,
          "ax": 50.4,
          "axref": "x",
          "ay": 62.400000000000006,
          "ayref": "y",
          "captureevents": true,
          "hovertext": "player= B. Schweinsteiger\n time= 12m59s\n subEventName= Simple pass\n result= success",
          "showarrow": true,
          "x": 39.6,
          "xref": "x",
          "y": 79.2,
          "yref": "y"
         },
         {
          "arrowcolor": "#1f77b4",
          "arrowhead": 4,
          "arrowsize": 2,
          "ax": 39.6,
          "axref": "x",
          "ay": 79.2,
          "ayref": "y",
          "captureevents": true,
          "hovertext": "player= J. Hector\n time= 13m1s\n subEventName= Simple pass\n result= success",
          "showarrow": true,
          "x": 37.2,
          "xref": "x",
          "y": 64,
          "yref": "y"
         },
         {
          "arrowcolor": "#1f77b4",
          "arrowhead": 4,
          "arrowsize": 2,
          "ax": 37.2,
          "axref": "x",
          "ay": 64,
          "ayref": "y",
          "captureevents": true,
          "hovertext": "player= B. Höwedes\n time= 13m4s\n subEventName= Simple pass\n result= success",
          "showarrow": true,
          "x": 48,
          "xref": "x",
          "y": 25.599999999999994,
          "yref": "y"
         },
         {
          "arrowcolor": "#1f77b4",
          "arrowhead": 4,
          "arrowsize": 2,
          "ax": 48,
          "axref": "x",
          "ay": 25.599999999999994,
          "ayref": "y",
          "captureevents": true,
          "hovertext": "player= J. Boateng\n time= 13m11s\n subEventName= Simple pass\n result= success",
          "showarrow": true,
          "x": 68.4,
          "xref": "x",
          "y": 60.8,
          "yref": "y"
         },
         {
          "arrowcolor": "#1f77b4",
          "arrowhead": 4,
          "arrowsize": 2,
          "ax": 68.4,
          "axref": "x",
          "ay": 60.8,
          "ayref": "y",
          "captureevents": true,
          "hovertext": "player= B. Schweinsteiger\n time= 13m15s\n subEventName= Simple pass\n result= success",
          "showarrow": true,
          "x": 87.6,
          "xref": "x",
          "y": 76,
          "yref": "y"
         },
         {
          "arrowcolor": "#1f77b4",
          "arrowhead": 4,
          "arrowsize": 2,
          "ax": 90,
          "axref": "x",
          "ay": 76,
          "ayref": "y",
          "captureevents": true,
          "hovertext": "player= J. Hector\n time= 13m20s\n subEventName= Simple pass\n result= success",
          "showarrow": true,
          "x": 78,
          "xref": "x",
          "y": 68.8,
          "yref": "y"
         },
         {
          "arrowcolor": "#1f77b4",
          "arrowhead": 4,
          "arrowsize": 2,
          "ax": 78,
          "axref": "x",
          "ay": 68.8,
          "ayref": "y",
          "captureevents": true,
          "hovertext": "player= J. Draxler\n time= 13m22s\n subEventName= Simple pass\n result= success",
          "showarrow": true,
          "x": 75.6,
          "xref": "x",
          "y": 68.8,
          "yref": "y"
         },
         {
          "arrowcolor": "#1f77b4",
          "arrowhead": 4,
          "arrowsize": 2,
          "ax": 75.6,
          "axref": "x",
          "ay": 68.8,
          "ayref": "y",
          "captureevents": true,
          "hovertext": "player= T. Kroos\n time= 13m24s\n subEventName= Simple pass\n result= success",
          "showarrow": true,
          "x": 66,
          "xref": "x",
          "y": 64.80000000000001,
          "yref": "y"
         },
         {
          "arrowcolor": "#1f77b4",
          "arrowhead": 4,
          "arrowsize": 2,
          "ax": 66,
          "axref": "x",
          "ay": 64.80000000000001,
          "ayref": "y",
          "captureevents": true,
          "hovertext": "player= B. Höwedes\n time= 13m25s\n subEventName= Simple pass\n result= success",
          "showarrow": true,
          "x": 79.2,
          "xref": "x",
          "y": 52.8,
          "yref": "y"
         },
         {
          "arrowcolor": "#1f77b4",
          "arrowhead": 4,
          "arrowsize": 2,
          "ax": 79.2,
          "axref": "x",
          "ay": 52.8,
          "ayref": "y",
          "captureevents": true,
          "hovertext": "player= T. Kroos\n time= 13m27s\n subEventName= Simple pass\n result= success",
          "showarrow": true,
          "x": 91.2,
          "xref": "x",
          "y": 59.2,
          "yref": "y"
         },
         {
          "arrowcolor": "#1f77b4",
          "arrowhead": 4,
          "arrowsize": 2,
          "ax": 91.2,
          "axref": "x",
          "ay": 59.2,
          "ayref": "y",
          "captureevents": true,
          "hovertext": "player= M. Özil\n time= 13m30s\n subEventName= Simple pass\n result= success",
          "showarrow": true,
          "x": 108,
          "xref": "x",
          "y": 61.6,
          "yref": "y"
         },
         {
          "arrowcolor": "#9467bd",
          "arrowhead": 4,
          "arrowsize": 2,
          "ax": 108,
          "axref": "x",
          "ay": 61.6,
          "ayref": "y",
          "captureevents": true,
          "hovertext": "player= J. Hector\n time= 13m30s\n subEventName= Cross\n result= failure",
          "showarrow": true,
          "x": 0,
          "xref": "x",
          "y": 80,
          "yref": "y"
         },
         {
          "arrowcolor": "#1f77b4",
          "arrowhead": 4,
          "arrowsize": 2,
          "ax": 117.6,
          "axref": "x",
          "ay": 61.6,
          "ayref": "y",
          "captureevents": true,
          "hovertext": "player= J. Hector\n time= 13m36s\n subEventName= Simple pass\n result= success",
          "showarrow": true,
          "x": 108,
          "xref": "x",
          "y": 51.2,
          "yref": "y"
         },
         {
          "arrowcolor": "#2ca02c",
          "arrowhead": 4,
          "arrowsize": 2,
          "ax": 51.6,
          "axref": "x",
          "ay": 64.80000000000001,
          "ayref": "y",
          "captureevents": true,
          "hovertext": "player= B. Höwedes\n time= 13m51s\n subEventName= Launch\n result= success",
          "showarrow": true,
          "x": 86.4,
          "xref": "x",
          "y": 40,
          "yref": "y"
         },
         {
          "arrowcolor": "#1f77b4",
          "arrowhead": 4,
          "arrowsize": 2,
          "ax": 86.4,
          "axref": "x",
          "ay": 40,
          "ayref": "y",
          "captureevents": true,
          "hovertext": "player= T. Müller\n time= 13m55s\n subEventName= Simple pass\n result= failure",
          "showarrow": true,
          "x": 84,
          "xref": "x",
          "y": 35.199999999999996,
          "yref": "y"
         },
         {
          "arrowcolor": "#d62728",
          "arrowhead": 4,
          "arrowsize": 2,
          "ax": 73.2,
          "axref": "x",
          "ay": 58.4,
          "ayref": "y",
          "captureevents": true,
          "hovertext": "player= E. Can\n time= 14m34s\n subEventName= Head pass\n result= success",
          "showarrow": true,
          "x": 46.8,
          "xref": "x",
          "y": 68,
          "yref": "y"
         },
         {
          "arrowcolor": "#1f77b4",
          "arrowhead": 4,
          "arrowsize": 2,
          "ax": 31.2,
          "axref": "x",
          "ay": 67.2,
          "ayref": "y",
          "captureevents": true,
          "hovertext": "player= J. Boateng\n time= 14m39s\n subEventName= Simple pass\n result= success",
          "showarrow": true,
          "x": 7.2,
          "xref": "x",
          "y": 55.199999999999996,
          "yref": "y"
         },
         {
          "arrowcolor": "#1f77b4",
          "arrowhead": 4,
          "arrowsize": 2,
          "ax": 7.2,
          "axref": "x",
          "ay": 55.199999999999996,
          "ayref": "y",
          "captureevents": true,
          "hovertext": "player= M. Neuer\n time= 14m42s\n subEventName= Simple pass\n result= success",
          "showarrow": true,
          "x": 30,
          "xref": "x",
          "y": 74.39999999999999,
          "yref": "y"
         },
         {
          "arrowcolor": "#1f77b4",
          "arrowhead": 4,
          "arrowsize": 2,
          "ax": 30,
          "axref": "x",
          "ay": 74.39999999999999,
          "ayref": "y",
          "captureevents": true,
          "hovertext": "player= B. Höwedes\n time= 14m46s\n subEventName= Simple pass\n result= success",
          "showarrow": true,
          "x": 48,
          "xref": "x",
          "y": 60.8,
          "yref": "y"
         },
         {
          "arrowcolor": "#1f77b4",
          "arrowhead": 4,
          "arrowsize": 2,
          "ax": 48,
          "axref": "x",
          "ay": 60.8,
          "ayref": "y",
          "captureevents": true,
          "hovertext": "player= T. Kroos\n time= 14m49s\n subEventName= Simple pass\n result= success",
          "showarrow": true,
          "x": 79.2,
          "xref": "x",
          "y": 63.2,
          "yref": "y"
         },
         {
          "arrowcolor": "#1f77b4",
          "arrowhead": 4,
          "arrowsize": 2,
          "ax": 79.2,
          "axref": "x",
          "ay": 63.2,
          "ayref": "y",
          "captureevents": true,
          "hovertext": "player= J. Draxler\n time= 14m50s\n subEventName= Simple pass\n result= success",
          "showarrow": true,
          "x": 81.6,
          "xref": "x",
          "y": 76.8,
          "yref": "y"
         },
         {
          "arrowcolor": "#1f77b4",
          "arrowhead": 4,
          "arrowsize": 2,
          "ax": 81.6,
          "axref": "x",
          "ay": 76.8,
          "ayref": "y",
          "captureevents": true,
          "hovertext": "player= J. Hector\n time= 14m52s\n subEventName= Simple pass\n result= success",
          "showarrow": true,
          "x": 91.2,
          "xref": "x",
          "y": 56.8,
          "yref": "y"
         },
         {
          "arrowcolor": "#1f77b4",
          "arrowhead": 4,
          "arrowsize": 2,
          "ax": 39.6,
          "axref": "x",
          "ay": 30.4,
          "ayref": "y",
          "captureevents": true,
          "hovertext": "player= B. Schweinsteiger\n time= 15m17s\n subEventName= Simple pass\n result= success",
          "showarrow": true,
          "x": 25.2,
          "xref": "x",
          "y": 22.400000000000002,
          "yref": "y"
         },
         {
          "arrowcolor": "#1f77b4",
          "arrowhead": 4,
          "arrowsize": 2,
          "ax": 25.2,
          "axref": "x",
          "ay": 22.400000000000002,
          "ayref": "y",
          "captureevents": true,
          "hovertext": "player= J. Boateng\n time= 15m20s\n subEventName= Simple pass\n result= success",
          "showarrow": true,
          "x": 50.4,
          "xref": "x",
          "y": 6.399999999999997,
          "yref": "y"
         },
         {
          "arrowcolor": "#1f77b4",
          "arrowhead": 4,
          "arrowsize": 2,
          "ax": 50.4,
          "axref": "x",
          "ay": 6.399999999999997,
          "ayref": "y",
          "captureevents": true,
          "hovertext": "player= M. Özil\n time= 15m24s\n subEventName= Simple pass\n result= success",
          "showarrow": true,
          "x": 70.8,
          "xref": "x",
          "y": 23.200000000000003,
          "yref": "y"
         },
         {
          "arrowcolor": "#1f77b4",
          "arrowhead": 4,
          "arrowsize": 2,
          "ax": 70.8,
          "axref": "x",
          "ay": 23.200000000000003,
          "ayref": "y",
          "captureevents": true,
          "hovertext": "player= T. Müller\n time= 15m25s\n subEventName= Simple pass\n result= success",
          "showarrow": true,
          "x": 55.2,
          "xref": "x",
          "y": 20.8,
          "yref": "y"
         },
         {
          "arrowcolor": "#1f77b4",
          "arrowhead": 4,
          "arrowsize": 2,
          "ax": 55.2,
          "axref": "x",
          "ay": 20.8,
          "ayref": "y",
          "captureevents": true,
          "hovertext": "player= E. Can\n time= 15m27s\n subEventName= Simple pass\n result= success",
          "showarrow": true,
          "x": 50.4,
          "xref": "x",
          "y": 46.400000000000006,
          "yref": "y"
         },
         {
          "arrowcolor": "#1f77b4",
          "arrowhead": 4,
          "arrowsize": 2,
          "ax": 50.4,
          "axref": "x",
          "ay": 46.400000000000006,
          "ayref": "y",
          "captureevents": true,
          "hovertext": "player= T. Kroos\n time= 15m28s\n subEventName= Simple pass\n result= success",
          "showarrow": true,
          "x": 51.6,
          "xref": "x",
          "y": 24.000000000000004,
          "yref": "y"
         },
         {
          "arrowcolor": "#1f77b4",
          "arrowhead": 4,
          "arrowsize": 2,
          "ax": 51.6,
          "axref": "x",
          "ay": 24.000000000000004,
          "ayref": "y",
          "captureevents": true,
          "hovertext": "player= E. Can\n time= 15m30s\n subEventName= Simple pass\n result= success",
          "showarrow": true,
          "x": 38.4,
          "xref": "x",
          "y": 59.2,
          "yref": "y"
         },
         {
          "arrowcolor": "#1f77b4",
          "arrowhead": 4,
          "arrowsize": 2,
          "ax": 38.4,
          "axref": "x",
          "ay": 59.2,
          "ayref": "y",
          "captureevents": true,
          "hovertext": "player= B. Höwedes\n time= 15m32s\n subEventName= Simple pass\n result= success",
          "showarrow": true,
          "x": 51.6,
          "xref": "x",
          "y": 61.6,
          "yref": "y"
         },
         {
          "arrowcolor": "#1f77b4",
          "arrowhead": 4,
          "arrowsize": 2,
          "ax": 51.6,
          "axref": "x",
          "ay": 61.6,
          "ayref": "y",
          "captureevents": true,
          "hovertext": "player= T. Kroos\n time= 15m33s\n subEventName= Simple pass\n result= success",
          "showarrow": true,
          "x": 79.2,
          "xref": "x",
          "y": 76.8,
          "yref": "y"
         },
         {
          "arrowcolor": "#1f77b4",
          "arrowhead": 4,
          "arrowsize": 2,
          "ax": 79.2,
          "axref": "x",
          "ay": 76.8,
          "ayref": "y",
          "captureevents": true,
          "hovertext": "player= J. Hector\n time= 15m35s\n subEventName= Simple pass\n result= success",
          "showarrow": true,
          "x": 86.4,
          "xref": "x",
          "y": 67.2,
          "yref": "y"
         },
         {
          "arrowcolor": "#1f77b4",
          "arrowhead": 4,
          "arrowsize": 2,
          "ax": 86.4,
          "axref": "x",
          "ay": 67.2,
          "ayref": "y",
          "captureevents": true,
          "hovertext": "player= J. Draxler\n time= 15m36s\n subEventName= Simple pass\n result= success",
          "showarrow": true,
          "x": 81.6,
          "xref": "x",
          "y": 77.6,
          "yref": "y"
         },
         {
          "arrowcolor": "#1f77b4",
          "arrowhead": 4,
          "arrowsize": 2,
          "ax": 81.6,
          "axref": "x",
          "ay": 77.6,
          "ayref": "y",
          "captureevents": true,
          "hovertext": "player= J. Hector\n time= 15m38s\n subEventName= Simple pass\n result= success",
          "showarrow": true,
          "x": 68.4,
          "xref": "x",
          "y": 64.80000000000001,
          "yref": "y"
         },
         {
          "arrowcolor": "#1f77b4",
          "arrowhead": 4,
          "arrowsize": 2,
          "ax": 68.4,
          "axref": "x",
          "ay": 64.80000000000001,
          "ayref": "y",
          "captureevents": true,
          "hovertext": "player= T. Kroos\n time= 15m42s\n subEventName= Simple pass\n result= success",
          "showarrow": true,
          "x": 73.2,
          "xref": "x",
          "y": 53.599999999999994,
          "yref": "y"
         },
         {
          "arrowcolor": "#1f77b4",
          "arrowhead": 4,
          "arrowsize": 2,
          "ax": 73.2,
          "axref": "x",
          "ay": 53.599999999999994,
          "ayref": "y",
          "captureevents": true,
          "hovertext": "player= B. Schweinsteiger\n time= 15m44s\n subEventName= Simple pass\n result= success",
          "showarrow": true,
          "x": 62.4,
          "xref": "x",
          "y": 32.800000000000004,
          "yref": "y"
         },
         {
          "arrowcolor": "#ff7f0e",
          "arrowhead": 4,
          "arrowsize": 2,
          "ax": 62.4,
          "axref": "x",
          "ay": 32.800000000000004,
          "ayref": "y",
          "captureevents": true,
          "hovertext": "player= J. Boateng\n time= 15m47s\n subEventName= High pass\n result= success",
          "showarrow": true,
          "x": 115.2,
          "xref": "x",
          "y": 68,
          "yref": "y"
         },
         {
          "arrowcolor": "#1f77b4",
          "arrowhead": 4,
          "arrowsize": 2,
          "ax": 115.2,
          "axref": "x",
          "ay": 68,
          "ayref": "y",
          "captureevents": true,
          "hovertext": "player= J. Hector\n time= 15m49s\n subEventName= Simple pass\n result= success",
          "showarrow": true,
          "x": 109.2,
          "xref": "x",
          "y": 56,
          "yref": "y"
         },
         {
          "arrowcolor": "#1f77b4",
          "arrowhead": 4,
          "arrowsize": 2,
          "ax": 109.2,
          "axref": "x",
          "ay": 56,
          "ayref": "y",
          "captureevents": true,
          "hovertext": "player= J. Draxler\n time= 15m52s\n subEventName= Simple pass\n result= success",
          "showarrow": true,
          "x": 110.4,
          "xref": "x",
          "y": 48,
          "yref": "y"
         },
         {
          "arrowcolor": "#1f77b4",
          "arrowhead": 4,
          "arrowsize": 2,
          "ax": 24,
          "axref": "x",
          "ay": 40.8,
          "ayref": "y",
          "captureevents": true,
          "hovertext": "player= B. Schweinsteiger\n time= 16m32s\n subEventName= Simple pass\n result= success",
          "showarrow": true,
          "x": 30,
          "xref": "x",
          "y": 65.60000000000001,
          "yref": "y"
         },
         {
          "arrowcolor": "#1f77b4",
          "arrowhead": 4,
          "arrowsize": 2,
          "ax": 30,
          "axref": "x",
          "ay": 65.60000000000001,
          "ayref": "y",
          "captureevents": true,
          "hovertext": "player= B. Höwedes\n time= 16m35s\n subEventName= Simple pass\n result= success",
          "showarrow": true,
          "x": 46.8,
          "xref": "x",
          "y": 63.2,
          "yref": "y"
         },
         {
          "arrowcolor": "#1f77b4",
          "arrowhead": 4,
          "arrowsize": 2,
          "ax": 46.8,
          "axref": "x",
          "ay": 63.2,
          "ayref": "y",
          "captureevents": true,
          "hovertext": "player= T. Kroos\n time= 16m38s\n subEventName= Simple pass\n result= success",
          "showarrow": true,
          "x": 50.4,
          "xref": "x",
          "y": 44.800000000000004,
          "yref": "y"
         },
         {
          "arrowcolor": "#1f77b4",
          "arrowhead": 4,
          "arrowsize": 2,
          "ax": 50.4,
          "axref": "x",
          "ay": 44.800000000000004,
          "ayref": "y",
          "captureevents": true,
          "hovertext": "player= B. Schweinsteiger\n time= 16m43s\n subEventName= Simple pass\n result= success",
          "showarrow": true,
          "x": 64.8,
          "xref": "x",
          "y": 20.8,
          "yref": "y"
         },
         {
          "arrowcolor": "#1f77b4",
          "arrowhead": 4,
          "arrowsize": 2,
          "ax": 64.8,
          "axref": "x",
          "ay": 20.8,
          "ayref": "y",
          "captureevents": true,
          "hovertext": "player= J. Boateng\n time= 16m46s\n subEventName= Simple pass\n result= success",
          "showarrow": true,
          "x": 79.2,
          "xref": "x",
          "y": 7.1999999999999975,
          "yref": "y"
         },
         {
          "arrowcolor": "#1f77b4",
          "arrowhead": 4,
          "arrowsize": 2,
          "ax": 79.2,
          "axref": "x",
          "ay": 7.1999999999999975,
          "ayref": "y",
          "captureevents": true,
          "hovertext": "player= J. Kimmich\n time= 16m49s\n subEventName= Simple pass\n result= success",
          "showarrow": true,
          "x": 86.4,
          "xref": "x",
          "y": 15.999999999999996,
          "yref": "y"
         },
         {
          "arrowcolor": "#1f77b4",
          "arrowhead": 4,
          "arrowsize": 2,
          "ax": 86.4,
          "axref": "x",
          "ay": 15.999999999999996,
          "ayref": "y",
          "captureevents": true,
          "hovertext": "player= M. Özil\n time= 16m51s\n subEventName= Simple pass\n result= success",
          "showarrow": true,
          "x": 76.8,
          "xref": "x",
          "y": 7.999999999999998,
          "yref": "y"
         },
         {
          "arrowcolor": "#1f77b4",
          "arrowhead": 4,
          "arrowsize": 2,
          "ax": 76.8,
          "axref": "x",
          "ay": 7.999999999999998,
          "ayref": "y",
          "captureevents": true,
          "hovertext": "player= J. Kimmich\n time= 16m55s\n subEventName= Simple pass\n result= success",
          "showarrow": true,
          "x": 69.6,
          "xref": "x",
          "y": 23.200000000000003,
          "yref": "y"
         },
         {
          "arrowcolor": "#1f77b4",
          "arrowhead": 4,
          "arrowsize": 2,
          "ax": 69.6,
          "axref": "x",
          "ay": 23.200000000000003,
          "ayref": "y",
          "captureevents": true,
          "hovertext": "player= J. Boateng\n time= 17m1s\n subEventName= Simple pass\n result= success",
          "showarrow": true,
          "x": 72,
          "xref": "x",
          "y": 51.2,
          "yref": "y"
         },
         {
          "arrowcolor": "#1f77b4",
          "arrowhead": 4,
          "arrowsize": 2,
          "ax": 72,
          "axref": "x",
          "ay": 51.2,
          "ayref": "y",
          "captureevents": true,
          "hovertext": "player= B. Schweinsteiger\n time= 17m5s\n subEventName= Simple pass\n result= success",
          "showarrow": true,
          "x": 82.8,
          "xref": "x",
          "y": 56,
          "yref": "y"
         },
         {
          "arrowcolor": "#1f77b4",
          "arrowhead": 4,
          "arrowsize": 2,
          "ax": 82.8,
          "axref": "x",
          "ay": 56,
          "ayref": "y",
          "captureevents": true,
          "hovertext": "player= J. Draxler\n time= 17m6s\n subEventName= Simple pass\n result= success",
          "showarrow": true,
          "x": 81.6,
          "xref": "x",
          "y": 60.8,
          "yref": "y"
         },
         {
          "arrowcolor": "#1f77b4",
          "arrowhead": 4,
          "arrowsize": 2,
          "ax": 81.6,
          "axref": "x",
          "ay": 60.8,
          "ayref": "y",
          "captureevents": true,
          "hovertext": "player= T. Kroos\n time= 17m9s\n subEventName= Simple pass\n result= success",
          "showarrow": true,
          "x": 70.8,
          "xref": "x",
          "y": 50.4,
          "yref": "y"
         },
         {
          "arrowcolor": "#1f77b4",
          "arrowhead": 4,
          "arrowsize": 2,
          "ax": 70.8,
          "axref": "x",
          "ay": 50.4,
          "ayref": "y",
          "captureevents": true,
          "hovertext": "player= B. Schweinsteiger\n time= 17m11s\n subEventName= Simple pass\n result= success",
          "showarrow": true,
          "x": 72,
          "xref": "x",
          "y": 64.80000000000001,
          "yref": "y"
         },
         {
          "arrowcolor": "#1f77b4",
          "arrowhead": 4,
          "arrowsize": 2,
          "ax": 72,
          "axref": "x",
          "ay": 64.80000000000001,
          "ayref": "y",
          "captureevents": true,
          "hovertext": "player= T. Kroos\n time= 17m15s\n subEventName= Simple pass\n result= success",
          "showarrow": true,
          "x": 76.8,
          "xref": "x",
          "y": 57.599999999999994,
          "yref": "y"
         },
         {
          "arrowcolor": "#1f77b4",
          "arrowhead": 4,
          "arrowsize": 2,
          "ax": 76.8,
          "axref": "x",
          "ay": 57.599999999999994,
          "ayref": "y",
          "captureevents": true,
          "hovertext": "player= B. Schweinsteiger\n time= 17m16s\n subEventName= Simple pass\n result= success",
          "showarrow": true,
          "x": 67.2,
          "xref": "x",
          "y": 59.2,
          "yref": "y"
         },
         {
          "arrowcolor": "#1f77b4",
          "arrowhead": 4,
          "arrowsize": 2,
          "ax": 67.2,
          "axref": "x",
          "ay": 59.2,
          "ayref": "y",
          "captureevents": true,
          "hovertext": "player= B. Höwedes\n time= 17m18s\n subEventName= Simple pass\n result= success",
          "showarrow": true,
          "x": 64.8,
          "xref": "x",
          "y": 32.800000000000004,
          "yref": "y"
         },
         {
          "arrowcolor": "#1f77b4",
          "arrowhead": 4,
          "arrowsize": 2,
          "ax": 64.8,
          "axref": "x",
          "ay": 32.800000000000004,
          "ayref": "y",
          "captureevents": true,
          "hovertext": "player= J. Boateng\n time= 17m23s\n subEventName= Simple pass\n result= success",
          "showarrow": true,
          "x": 102,
          "xref": "x",
          "y": 6.399999999999997,
          "yref": "y"
         },
         {
          "arrowcolor": "#1f77b4",
          "arrowhead": 4,
          "arrowsize": 2,
          "ax": 102,
          "axref": "x",
          "ay": 6.399999999999997,
          "ayref": "y",
          "captureevents": true,
          "hovertext": "player= J. Kimmich\n time= 17m26s\n subEventName= Simple pass\n result= success",
          "showarrow": true,
          "x": 91.2,
          "xref": "x",
          "y": 26.4,
          "yref": "y"
         },
         {
          "arrowcolor": "#1f77b4",
          "arrowhead": 4,
          "arrowsize": 2,
          "ax": 90,
          "axref": "x",
          "ay": 21.6,
          "ayref": "y",
          "captureevents": true,
          "hovertext": "player= T. Müller\n time= 17m29s\n subEventName= Simple pass\n result= success",
          "showarrow": true,
          "x": 86.4,
          "xref": "x",
          "y": 33.6,
          "yref": "y"
         },
         {
          "arrowcolor": "#1f77b4",
          "arrowhead": 4,
          "arrowsize": 2,
          "ax": 86.4,
          "axref": "x",
          "ay": 33.6,
          "ayref": "y",
          "captureevents": true,
          "hovertext": "player= J. Draxler\n time= 17m30s\n subEventName= Simple pass\n result= failure",
          "showarrow": true,
          "x": 120,
          "xref": "x",
          "y": 16.799999999999997,
          "yref": "y"
         },
         {
          "arrowcolor": "#1f77b4",
          "arrowhead": 4,
          "arrowsize": 2,
          "ax": 52.8,
          "axref": "x",
          "ay": 59.2,
          "ayref": "y",
          "captureevents": true,
          "hovertext": "player= J. Boateng\n time= 18m12s\n subEventName= Simple pass\n result= success",
          "showarrow": true,
          "x": 75.6,
          "xref": "x",
          "y": 52.8,
          "yref": "y"
         },
         {
          "arrowcolor": "#1f77b4",
          "arrowhead": 4,
          "arrowsize": 2,
          "ax": 76.8,
          "axref": "x",
          "ay": 64,
          "ayref": "y",
          "captureevents": true,
          "hovertext": "player= M. Özil\n time= 18m16s\n subEventName= Simple pass\n result= success",
          "showarrow": true,
          "x": 87.6,
          "xref": "x",
          "y": 74.39999999999999,
          "yref": "y"
         },
         {
          "arrowcolor": "#1f77b4",
          "arrowhead": 4,
          "arrowsize": 2,
          "ax": 87.6,
          "axref": "x",
          "ay": 74.39999999999999,
          "ayref": "y",
          "captureevents": true,
          "hovertext": "player= J. Draxler\n time= 18m18s\n subEventName= Simple pass\n result= success",
          "showarrow": true,
          "x": 76.8,
          "xref": "x",
          "y": 60,
          "yref": "y"
         },
         {
          "arrowcolor": "#ff7f0e",
          "arrowhead": 4,
          "arrowsize": 2,
          "ax": 76.8,
          "axref": "x",
          "ay": 60,
          "ayref": "y",
          "captureevents": true,
          "hovertext": "player= T. Kroos\n time= 18m19s\n subEventName= High pass\n result= success",
          "showarrow": true,
          "x": 79.2,
          "xref": "x",
          "y": 16.799999999999997,
          "yref": "y"
         },
         {
          "arrowcolor": "#1f77b4",
          "arrowhead": 4,
          "arrowsize": 2,
          "ax": 79.2,
          "axref": "x",
          "ay": 16.799999999999997,
          "ayref": "y",
          "captureevents": true,
          "hovertext": "player= J. Kimmich\n time= 18m28s\n subEventName= Simple pass\n result= success",
          "showarrow": true,
          "x": 74.4,
          "xref": "x",
          "y": 22.400000000000002,
          "yref": "y"
         },
         {
          "arrowcolor": "#1f77b4",
          "arrowhead": 4,
          "arrowsize": 2,
          "ax": 74.4,
          "axref": "x",
          "ay": 22.400000000000002,
          "ayref": "y",
          "captureevents": true,
          "hovertext": "player= J. Boateng\n time= 18m33s\n subEventName= Simple pass\n result= success",
          "showarrow": true,
          "x": 66,
          "xref": "x",
          "y": 39.2,
          "yref": "y"
         },
         {
          "arrowcolor": "#1f77b4",
          "arrowhead": 4,
          "arrowsize": 2,
          "ax": 66,
          "axref": "x",
          "ay": 39.2,
          "ayref": "y",
          "captureevents": true,
          "hovertext": "player= B. Schweinsteiger\n time= 18m34s\n subEventName= Simple pass\n result= success",
          "showarrow": true,
          "x": 79.2,
          "xref": "x",
          "y": 60,
          "yref": "y"
         },
         {
          "arrowcolor": "#9467bd",
          "arrowhead": 4,
          "arrowsize": 2,
          "ax": 79.2,
          "axref": "x",
          "ay": 60,
          "ayref": "y",
          "captureevents": true,
          "hovertext": "player= M. Özil\n time= 18m38s\n subEventName= Cross\n result= failure",
          "showarrow": true,
          "x": 105.6,
          "xref": "x",
          "y": 48,
          "yref": "y"
         },
         {
          "arrowcolor": "#1f77b4",
          "arrowhead": 4,
          "arrowsize": 2,
          "ax": 61.2,
          "axref": "x",
          "ay": 56.8,
          "ayref": "y",
          "captureevents": true,
          "hovertext": "player= B. Höwedes\n time= 18m44s\n subEventName= Simple pass\n result= success",
          "showarrow": true,
          "x": 73.2,
          "xref": "x",
          "y": 68.8,
          "yref": "y"
         },
         {
          "arrowcolor": "#1f77b4",
          "arrowhead": 4,
          "arrowsize": 2,
          "ax": 73.2,
          "axref": "x",
          "ay": 68.8,
          "ayref": "y",
          "captureevents": true,
          "hovertext": "player= T. Kroos\n time= 18m47s\n subEventName= Simple pass\n result= success",
          "showarrow": true,
          "x": 84,
          "xref": "x",
          "y": 66.39999999999999,
          "yref": "y"
         },
         {
          "arrowcolor": "#1f77b4",
          "arrowhead": 4,
          "arrowsize": 2,
          "ax": 84,
          "axref": "x",
          "ay": 66.39999999999999,
          "ayref": "y",
          "captureevents": true,
          "hovertext": "player= M. Özil\n time= 18m49s\n subEventName= Simple pass\n result= success",
          "showarrow": true,
          "x": 99.6,
          "xref": "x",
          "y": 78.4,
          "yref": "y"
         },
         {
          "arrowcolor": "#1f77b4",
          "arrowhead": 4,
          "arrowsize": 2,
          "ax": 99.6,
          "axref": "x",
          "ay": 78.4,
          "ayref": "y",
          "captureevents": true,
          "hovertext": "player= J. Hector\n time= 18m51s\n subEventName= Simple pass\n result= success",
          "showarrow": true,
          "x": 90,
          "xref": "x",
          "y": 68.8,
          "yref": "y"
         },
         {
          "arrowcolor": "#1f77b4",
          "arrowhead": 4,
          "arrowsize": 2,
          "ax": 90,
          "axref": "x",
          "ay": 68.8,
          "ayref": "y",
          "captureevents": true,
          "hovertext": "player= M. Özil\n time= 18m53s\n subEventName= Simple pass\n result= success",
          "showarrow": true,
          "x": 79.2,
          "xref": "x",
          "y": 76.8,
          "yref": "y"
         },
         {
          "arrowcolor": "#1f77b4",
          "arrowhead": 4,
          "arrowsize": 2,
          "ax": 79.2,
          "axref": "x",
          "ay": 76.8,
          "ayref": "y",
          "captureevents": true,
          "hovertext": "player= J. Hector\n time= 18m54s\n subEventName= Simple pass\n result= success",
          "showarrow": true,
          "x": 68.4,
          "xref": "x",
          "y": 67.2,
          "yref": "y"
         },
         {
          "arrowcolor": "#1f77b4",
          "arrowhead": 4,
          "arrowsize": 2,
          "ax": 68.4,
          "axref": "x",
          "ay": 67.2,
          "ayref": "y",
          "captureevents": true,
          "hovertext": "player= T. Kroos\n time= 19m0s\n subEventName= Simple pass\n result= success",
          "showarrow": true,
          "x": 92.4,
          "xref": "x",
          "y": 68.8,
          "yref": "y"
         },
         {
          "arrowcolor": "#1f77b4",
          "arrowhead": 4,
          "arrowsize": 2,
          "ax": 92.4,
          "axref": "x",
          "ay": 68.8,
          "ayref": "y",
          "captureevents": true,
          "hovertext": "player= M. Özil\n time= 19m1s\n subEventName= Simple pass\n result= success",
          "showarrow": true,
          "x": 79.2,
          "xref": "x",
          "y": 70.4,
          "yref": "y"
         },
         {
          "arrowcolor": "#9467bd",
          "arrowhead": 4,
          "arrowsize": 2,
          "ax": 110.4,
          "axref": "x",
          "ay": 69.6,
          "ayref": "y",
          "captureevents": true,
          "hovertext": "player= T. Kroos\n time= 19m7s\n subEventName= Cross\n result= failure",
          "showarrow": true,
          "x": 0,
          "xref": "x",
          "y": 80,
          "yref": "y"
         },
         {
          "arrowcolor": "#d62728",
          "arrowhead": 4,
          "arrowsize": 2,
          "ax": 81.6,
          "axref": "x",
          "ay": 42.400000000000006,
          "ayref": "y",
          "captureevents": true,
          "hovertext": "player= J. Boateng\n time= 19m43s\n subEventName= Head pass\n result= failure",
          "showarrow": true,
          "x": 91.2,
          "xref": "x",
          "y": 51.2,
          "yref": "y"
         },
         {
          "arrowcolor": "#1f77b4",
          "arrowhead": 4,
          "arrowsize": 2,
          "ax": 21.6,
          "axref": "x",
          "ay": 39.2,
          "ayref": "y",
          "captureevents": true,
          "hovertext": "player= B. Schweinsteiger\n time= 19m58s\n subEventName= Simple pass\n result= success",
          "showarrow": true,
          "x": 20.4,
          "xref": "x",
          "y": 22.400000000000002,
          "yref": "y"
         },
         {
          "arrowcolor": "#ff7f0e",
          "arrowhead": 4,
          "arrowsize": 2,
          "ax": 20.4,
          "axref": "x",
          "ay": 22.400000000000002,
          "ayref": "y",
          "captureevents": true,
          "hovertext": "player= J. Kimmich\n time= 20m1s\n subEventName= High pass\n result= success",
          "showarrow": true,
          "x": 64.8,
          "xref": "x",
          "y": 49.6,
          "yref": "y"
         },
         {
          "arrowcolor": "#1f77b4",
          "arrowhead": 4,
          "arrowsize": 2,
          "ax": 64.8,
          "axref": "x",
          "ay": 49.6,
          "ayref": "y",
          "captureevents": true,
          "hovertext": "player= J. Draxler\n time= 20m8s\n subEventName= Simple pass\n result= success",
          "showarrow": true,
          "x": 64.8,
          "xref": "x",
          "y": 60,
          "yref": "y"
         },
         {
          "arrowcolor": "#1f77b4",
          "arrowhead": 4,
          "arrowsize": 2,
          "ax": 64.8,
          "axref": "x",
          "ay": 60,
          "ayref": "y",
          "captureevents": true,
          "hovertext": "player= T. Kroos\n time= 20m10s\n subEventName= Simple pass\n result= success",
          "showarrow": true,
          "x": 67.2,
          "xref": "x",
          "y": 47.2,
          "yref": "y"
         },
         {
          "arrowcolor": "#1f77b4",
          "arrowhead": 4,
          "arrowsize": 2,
          "ax": 67.2,
          "axref": "x",
          "ay": 47.2,
          "ayref": "y",
          "captureevents": true,
          "hovertext": "player= E. Can\n time= 20m13s\n subEventName= Simple pass\n result= success",
          "showarrow": true,
          "x": 79.2,
          "xref": "x",
          "y": 60,
          "yref": "y"
         },
         {
          "arrowcolor": "#1f77b4",
          "arrowhead": 4,
          "arrowsize": 2,
          "ax": 79.2,
          "axref": "x",
          "ay": 60,
          "ayref": "y",
          "captureevents": true,
          "hovertext": "player= T. Kroos\n time= 20m16s\n subEventName= Simple pass\n result= success",
          "showarrow": true,
          "x": 90,
          "xref": "x",
          "y": 59.2,
          "yref": "y"
         },
         {
          "arrowcolor": "#1f77b4",
          "arrowhead": 4,
          "arrowsize": 2,
          "ax": 90,
          "axref": "x",
          "ay": 59.2,
          "ayref": "y",
          "captureevents": true,
          "hovertext": "player= T. Müller\n time= 20m17s\n subEventName= Simple pass\n result= success",
          "showarrow": true,
          "x": 87.6,
          "xref": "x",
          "y": 54.39999999999999,
          "yref": "y"
         },
         {
          "arrowcolor": "#d62728",
          "arrowhead": 4,
          "arrowsize": 2,
          "ax": 26.4,
          "axref": "x",
          "ay": 49.6,
          "ayref": "y",
          "captureevents": true,
          "hovertext": "player= J. Boateng\n time= 20m54s\n subEventName= Head pass\n result= success",
          "showarrow": true,
          "x": 50.4,
          "xref": "x",
          "y": 60.8,
          "yref": "y"
         },
         {
          "arrowcolor": "#d62728",
          "arrowhead": 4,
          "arrowsize": 2,
          "ax": 50.4,
          "axref": "x",
          "ay": 60.8,
          "ayref": "y",
          "captureevents": true,
          "hovertext": "player= J. Draxler\n time= 20m57s\n subEventName= Head pass\n result= success",
          "showarrow": true,
          "x": 49.2,
          "xref": "x",
          "y": 49.6,
          "yref": "y"
         },
         {
          "arrowcolor": "#1f77b4",
          "arrowhead": 4,
          "arrowsize": 2,
          "ax": 49.2,
          "axref": "x",
          "ay": 49.6,
          "ayref": "y",
          "captureevents": true,
          "hovertext": "player= E. Can\n time= 21m0s\n subEventName= Simple pass\n result= success",
          "showarrow": true,
          "x": 39.6,
          "xref": "x",
          "y": 75.19999999999999,
          "yref": "y"
         },
         {
          "arrowcolor": "#1f77b4",
          "arrowhead": 4,
          "arrowsize": 2,
          "ax": 39.6,
          "axref": "x",
          "ay": 75.19999999999999,
          "ayref": "y",
          "captureevents": true,
          "hovertext": "player= J. Hector\n time= 21m3s\n subEventName= Simple pass\n result= success",
          "showarrow": true,
          "x": 33.6,
          "xref": "x",
          "y": 58.4,
          "yref": "y"
         },
         {
          "arrowcolor": "#1f77b4",
          "arrowhead": 4,
          "arrowsize": 2,
          "ax": 33.6,
          "axref": "x",
          "ay": 58.4,
          "ayref": "y",
          "captureevents": true,
          "hovertext": "player= B. Schweinsteiger\n time= 21m7s\n subEventName= Simple pass\n result= success",
          "showarrow": true,
          "x": 46.8,
          "xref": "x",
          "y": 52.8,
          "yref": "y"
         },
         {
          "arrowcolor": "#1f77b4",
          "arrowhead": 4,
          "arrowsize": 2,
          "ax": 46.8,
          "axref": "x",
          "ay": 52.8,
          "ayref": "y",
          "captureevents": true,
          "hovertext": "player= T. Kroos\n time= 21m11s\n subEventName= Simple pass\n result= success",
          "showarrow": true,
          "x": 36,
          "xref": "x",
          "y": 35.199999999999996,
          "yref": "y"
         },
         {
          "arrowcolor": "#1f77b4",
          "arrowhead": 4,
          "arrowsize": 2,
          "ax": 36,
          "axref": "x",
          "ay": 35.199999999999996,
          "ayref": "y",
          "captureevents": true,
          "hovertext": "player= B. Schweinsteiger\n time= 21m14s\n subEventName= Simple pass\n result= success",
          "showarrow": true,
          "x": 86.4,
          "xref": "x",
          "y": 58.4,
          "yref": "y"
         },
         {
          "arrowcolor": "#1f77b4",
          "arrowhead": 4,
          "arrowsize": 2,
          "ax": 85.2,
          "axref": "x",
          "ay": 52.8,
          "ayref": "y",
          "captureevents": true,
          "hovertext": "player= M. Özil\n time= 21m21s\n subEventName= Simple pass\n result= success",
          "showarrow": true,
          "x": 104.4,
          "xref": "x",
          "y": 24.000000000000004,
          "yref": "y"
         },
         {
          "arrowcolor": "#1f77b4",
          "arrowhead": 4,
          "arrowsize": 2,
          "ax": 82.8,
          "axref": "x",
          "ay": 28,
          "ayref": "y",
          "captureevents": true,
          "hovertext": "player= E. Can\n time= 21m34s\n subEventName= Simple pass\n result= success",
          "showarrow": true,
          "x": 79.2,
          "xref": "x",
          "y": 40.8,
          "yref": "y"
         },
         {
          "arrowcolor": "#1f77b4",
          "arrowhead": 4,
          "arrowsize": 2,
          "ax": 79.2,
          "axref": "x",
          "ay": 40.8,
          "ayref": "y",
          "captureevents": true,
          "hovertext": "player= J. Draxler\n time= 21m37s\n subEventName= Simple pass\n result= success",
          "showarrow": true,
          "x": 79.2,
          "xref": "x",
          "y": 47.2,
          "yref": "y"
         },
         {
          "arrowcolor": "#e377c2",
          "arrowhead": 4,
          "arrowsize": 2,
          "ax": 79.2,
          "axref": "x",
          "ay": 47.2,
          "ayref": "y",
          "captureevents": true,
          "hovertext": "player= T. Kroos\n time= 21m39s\n subEventName= Smart pass\n result= success",
          "showarrow": true,
          "x": 112.8,
          "xref": "x",
          "y": 18.4,
          "yref": "y"
         },
         {
          "arrowcolor": "#1f77b4",
          "arrowhead": 4,
          "arrowsize": 2,
          "ax": 74.4,
          "axref": "x",
          "ay": 6.399999999999997,
          "ayref": "y",
          "captureevents": true,
          "hovertext": "player= J. Kimmich\n time= 21m56s\n subEventName= Simple pass\n result= success",
          "showarrow": true,
          "x": 72,
          "xref": "x",
          "y": 24.000000000000004,
          "yref": "y"
         },
         {
          "arrowcolor": "#1f77b4",
          "arrowhead": 4,
          "arrowsize": 2,
          "ax": 72,
          "axref": "x",
          "ay": 24.000000000000004,
          "ayref": "y",
          "captureevents": true,
          "hovertext": "player= E. Can\n time= 21m59s\n subEventName= Simple pass\n result= success",
          "showarrow": true,
          "x": 78,
          "xref": "x",
          "y": 33.6,
          "yref": "y"
         },
         {
          "arrowcolor": "#1f77b4",
          "arrowhead": 4,
          "arrowsize": 2,
          "ax": 78,
          "axref": "x",
          "ay": 33.6,
          "ayref": "y",
          "captureevents": true,
          "hovertext": "player= T. Kroos\n time= 22m1s\n subEventName= Simple pass\n result= success",
          "showarrow": true,
          "x": 74.4,
          "xref": "x",
          "y": 15.999999999999996,
          "yref": "y"
         },
         {
          "arrowcolor": "#1f77b4",
          "arrowhead": 4,
          "arrowsize": 2,
          "ax": 74.4,
          "axref": "x",
          "ay": 15.999999999999996,
          "ayref": "y",
          "captureevents": true,
          "hovertext": "player= J. Kimmich\n time= 22m5s\n subEventName= Simple pass\n result= success",
          "showarrow": true,
          "x": 94.8,
          "xref": "x",
          "y": 12.000000000000002,
          "yref": "y"
         },
         {
          "arrowcolor": "#e377c2",
          "arrowhead": 4,
          "arrowsize": 2,
          "ax": 94.8,
          "axref": "x",
          "ay": 12.000000000000002,
          "ayref": "y",
          "captureevents": true,
          "hovertext": "player= M. Özil\n time= 22m9s\n subEventName= Smart pass\n result= failure",
          "showarrow": true,
          "x": 114,
          "xref": "x",
          "y": 33.6,
          "yref": "y"
         },
         {
          "arrowcolor": "#2ca02c",
          "arrowhead": 4,
          "arrowsize": 2,
          "ax": 32.4,
          "axref": "x",
          "ay": 46.400000000000006,
          "ayref": "y",
          "captureevents": true,
          "hovertext": "player= B. Höwedes\n time= 22m44s\n subEventName= Launch\n result= failure",
          "showarrow": true,
          "x": 46.8,
          "xref": "x",
          "y": 35.199999999999996,
          "yref": "y"
         },
         {
          "arrowcolor": "#1f77b4",
          "arrowhead": 4,
          "arrowsize": 2,
          "ax": 45.6,
          "axref": "x",
          "ay": 18.4,
          "ayref": "y",
          "captureevents": true,
          "hovertext": "player= J. Boateng\n time= 24m37s\n subEventName= Simple pass\n result= success",
          "showarrow": true,
          "x": 92.4,
          "xref": "x",
          "y": 7.999999999999998,
          "yref": "y"
         },
         {
          "arrowcolor": "#1f77b4",
          "arrowhead": 4,
          "arrowsize": 2,
          "ax": 92.4,
          "axref": "x",
          "ay": 7.999999999999998,
          "ayref": "y",
          "captureevents": true,
          "hovertext": "player= J. Kimmich\n time= 24m40s\n subEventName= Simple pass\n result= success",
          "showarrow": true,
          "x": 85.2,
          "xref": "x",
          "y": 30.4,
          "yref": "y"
         },
         {
          "arrowcolor": "#1f77b4",
          "arrowhead": 4,
          "arrowsize": 2,
          "ax": 85.2,
          "axref": "x",
          "ay": 30.4,
          "ayref": "y",
          "captureevents": true,
          "hovertext": "player= E. Can\n time= 24m42s\n subEventName= Simple pass\n result= success",
          "showarrow": true,
          "x": 78,
          "xref": "x",
          "y": 17.599999999999998,
          "yref": "y"
         },
         {
          "arrowcolor": "#1f77b4",
          "arrowhead": 4,
          "arrowsize": 2,
          "ax": 78,
          "axref": "x",
          "ay": 17.599999999999998,
          "ayref": "y",
          "captureevents": true,
          "hovertext": "player= M. Özil\n time= 24m47s\n subEventName= Simple pass\n result= success",
          "showarrow": true,
          "x": 61.2,
          "xref": "x",
          "y": 29.6,
          "yref": "y"
         },
         {
          "arrowcolor": "#1f77b4",
          "arrowhead": 4,
          "arrowsize": 2,
          "ax": 61.2,
          "axref": "x",
          "ay": 29.6,
          "ayref": "y",
          "captureevents": true,
          "hovertext": "player= J. Boateng\n time= 24m50s\n subEventName= Simple pass\n result= success",
          "showarrow": true,
          "x": 86.4,
          "xref": "x",
          "y": 10.4,
          "yref": "y"
         },
         {
          "arrowcolor": "#1f77b4",
          "arrowhead": 4,
          "arrowsize": 2,
          "ax": 86.4,
          "axref": "x",
          "ay": 10.4,
          "ayref": "y",
          "captureevents": true,
          "hovertext": "player= M. Özil\n time= 24m52s\n subEventName= Simple pass\n result= success",
          "showarrow": true,
          "x": 100.8,
          "xref": "x",
          "y": 12.000000000000002,
          "yref": "y"
         },
         {
          "arrowcolor": "#1f77b4",
          "arrowhead": 4,
          "arrowsize": 2,
          "ax": 100.8,
          "axref": "x",
          "ay": 12.000000000000002,
          "ayref": "y",
          "captureevents": true,
          "hovertext": "player= J. Kimmich\n time= 24m53s\n subEventName= Simple pass\n result= success",
          "showarrow": true,
          "x": 112.8,
          "xref": "x",
          "y": 20.8,
          "yref": "y"
         },
         {
          "arrowcolor": "#1f77b4",
          "arrowhead": 4,
          "arrowsize": 2,
          "ax": 115.2,
          "axref": "x",
          "ay": 20.8,
          "ayref": "y",
          "captureevents": true,
          "hovertext": "player= E. Can\n time= 24m56s\n subEventName= Simple pass\n result= failure",
          "showarrow": true,
          "x": 111.6,
          "xref": "x",
          "y": 19.2,
          "yref": "y"
         },
         {
          "arrowcolor": "#9467bd",
          "arrowhead": 4,
          "arrowsize": 2,
          "ax": 111.6,
          "axref": "x",
          "ay": 9.6,
          "ayref": "y",
          "captureevents": true,
          "hovertext": "player= T. Kroos\n time= 25m26s\n subEventName= Cross\n result= success",
          "showarrow": true,
          "x": 108,
          "xref": "x",
          "y": 46.400000000000006,
          "yref": "y"
         },
         {
          "arrowcolor": "#d62728",
          "arrowhead": 4,
          "arrowsize": 2,
          "ax": 93.6,
          "axref": "x",
          "ay": 24.000000000000004,
          "ayref": "y",
          "captureevents": true,
          "hovertext": "player= J. Kimmich\n time= 25m32s\n subEventName= Head pass\n result= success",
          "showarrow": true,
          "x": 68.4,
          "xref": "x",
          "y": 37.599999999999994,
          "yref": "y"
         },
         {
          "arrowcolor": "#ff7f0e",
          "arrowhead": 4,
          "arrowsize": 2,
          "ax": 68.4,
          "axref": "x",
          "ay": 37.599999999999994,
          "ayref": "y",
          "captureevents": true,
          "hovertext": "player= J. Boateng\n time= 25m37s\n subEventName= High pass\n result= success",
          "showarrow": true,
          "x": 116.4,
          "xref": "x",
          "y": 76.8,
          "yref": "y"
         },
         {
          "arrowcolor": "#1f77b4",
          "arrowhead": 4,
          "arrowsize": 2,
          "ax": 111.6,
          "axref": "x",
          "ay": 76,
          "ayref": "y",
          "captureevents": true,
          "hovertext": "player= B. Schweinsteiger\n time= 25m47s\n subEventName= Simple pass\n result= success",
          "showarrow": true,
          "x": 93.6,
          "xref": "x",
          "y": 62.400000000000006,
          "yref": "y"
         },
         {
          "arrowcolor": "#1f77b4",
          "arrowhead": 4,
          "arrowsize": 2,
          "ax": 93.6,
          "axref": "x",
          "ay": 62.400000000000006,
          "ayref": "y",
          "captureevents": true,
          "hovertext": "player= J. Draxler\n time= 25m48s\n subEventName= Simple pass\n result= success",
          "showarrow": true,
          "x": 108,
          "xref": "x",
          "y": 49.6,
          "yref": "y"
         },
         {
          "arrowcolor": "#1f77b4",
          "arrowhead": 4,
          "arrowsize": 2,
          "ax": 108,
          "axref": "x",
          "ay": 49.6,
          "ayref": "y",
          "captureevents": true,
          "hovertext": "player= T. Müller\n time= 25m49s\n subEventName= Simple pass\n result= success",
          "showarrow": true,
          "x": 110.4,
          "xref": "x",
          "y": 54.39999999999999,
          "yref": "y"
         },
         {
          "arrowcolor": "#9467bd",
          "arrowhead": 4,
          "arrowsize": 2,
          "ax": 110.4,
          "axref": "x",
          "ay": 54.39999999999999,
          "ayref": "y",
          "captureevents": true,
          "hovertext": "player= J. Draxler\n time= 25m51s\n subEventName= Cross\n result= success",
          "showarrow": true,
          "x": 110.4,
          "xref": "x",
          "y": 24.000000000000004,
          "yref": "y"
         },
         {
          "arrowcolor": "#9467bd",
          "arrowhead": 4,
          "arrowsize": 2,
          "ax": 110.4,
          "axref": "x",
          "ay": 24.000000000000004,
          "ayref": "y",
          "captureevents": true,
          "hovertext": "player= M. Özil\n time= 25m52s\n subEventName= Cross\n result= failure",
          "showarrow": true,
          "x": 110.4,
          "xref": "x",
          "y": 37.599999999999994,
          "yref": "y"
         },
         {
          "arrowcolor": "#1f77b4",
          "arrowhead": 4,
          "arrowsize": 2,
          "ax": 36,
          "axref": "x",
          "ay": 69.6,
          "ayref": "y",
          "captureevents": true,
          "hovertext": "player= J. Hector\n time= 26m32s\n subEventName= Simple pass\n result= success",
          "showarrow": true,
          "x": 33.6,
          "xref": "x",
          "y": 49.6,
          "yref": "y"
         },
         {
          "arrowcolor": "#1f77b4",
          "arrowhead": 4,
          "arrowsize": 2,
          "ax": 33.6,
          "axref": "x",
          "ay": 49.6,
          "ayref": "y",
          "captureevents": true,
          "hovertext": "player= J. Boateng\n time= 26m34s\n subEventName= Simple pass\n result= success",
          "showarrow": true,
          "x": 33.6,
          "xref": "x",
          "y": 74.39999999999999,
          "yref": "y"
         },
         {
          "arrowcolor": "#2ca02c",
          "arrowhead": 4,
          "arrowsize": 2,
          "ax": 33.6,
          "axref": "x",
          "ay": 74.39999999999999,
          "ayref": "y",
          "captureevents": true,
          "hovertext": "player= J. Hector\n time= 26m37s\n subEventName= Launch\n result= success",
          "showarrow": true,
          "x": 49.2,
          "xref": "x",
          "y": 45.60000000000001,
          "yref": "y"
         },
         {
          "arrowcolor": "#1f77b4",
          "arrowhead": 4,
          "arrowsize": 2,
          "ax": 34.8,
          "axref": "x",
          "ay": 32.800000000000004,
          "ayref": "y",
          "captureevents": true,
          "hovertext": "player= B. Schweinsteiger\n time= 26m54s\n subEventName= Simple pass\n result= success",
          "showarrow": true,
          "x": 44.4,
          "xref": "x",
          "y": 10.4,
          "yref": "y"
         },
         {
          "arrowcolor": "#1f77b4",
          "arrowhead": 4,
          "arrowsize": 2,
          "ax": 44.4,
          "axref": "x",
          "ay": 10.4,
          "ayref": "y",
          "captureevents": true,
          "hovertext": "player= J. Kimmich\n time= 26m58s\n subEventName= Simple pass\n result= success",
          "showarrow": true,
          "x": 51.6,
          "xref": "x",
          "y": 21.6,
          "yref": "y"
         },
         {
          "arrowcolor": "#1f77b4",
          "arrowhead": 4,
          "arrowsize": 2,
          "ax": 51.6,
          "axref": "x",
          "ay": 21.6,
          "ayref": "y",
          "captureevents": true,
          "hovertext": "player= T. Kroos\n time= 26m59s\n subEventName= Simple pass\n result= success",
          "showarrow": true,
          "x": 30,
          "xref": "x",
          "y": 31.200000000000003,
          "yref": "y"
         },
         {
          "arrowcolor": "#1f77b4",
          "arrowhead": 4,
          "arrowsize": 2,
          "ax": 30,
          "axref": "x",
          "ay": 31.200000000000003,
          "ayref": "y",
          "captureevents": true,
          "hovertext": "player= J. Boateng\n time= 27m3s\n subEventName= Simple pass\n result= success",
          "showarrow": true,
          "x": 54,
          "xref": "x",
          "y": 53.599999999999994,
          "yref": "y"
         },
         {
          "arrowcolor": "#1f77b4",
          "arrowhead": 4,
          "arrowsize": 2,
          "ax": 54,
          "axref": "x",
          "ay": 53.599999999999994,
          "ayref": "y",
          "captureevents": true,
          "hovertext": "player= B. Höwedes\n time= 27m12s\n subEventName= Simple pass\n result= success",
          "showarrow": true,
          "x": 52.8,
          "xref": "x",
          "y": 23.200000000000003,
          "yref": "y"
         },
         {
          "arrowcolor": "#1f77b4",
          "arrowhead": 4,
          "arrowsize": 2,
          "ax": 52.8,
          "axref": "x",
          "ay": 23.200000000000003,
          "ayref": "y",
          "captureevents": true,
          "hovertext": "player= J. Boateng\n time= 27m14s\n subEventName= Simple pass\n result= success",
          "showarrow": true,
          "x": 91.2,
          "xref": "x",
          "y": 6.399999999999997,
          "yref": "y"
         },
         {
          "arrowcolor": "#1f77b4",
          "arrowhead": 4,
          "arrowsize": 2,
          "ax": 91.2,
          "axref": "x",
          "ay": 6.399999999999997,
          "ayref": "y",
          "captureevents": true,
          "hovertext": "player= J. Kimmich\n time= 27m18s\n subEventName= Simple pass\n result= success",
          "showarrow": true,
          "x": 79.2,
          "xref": "x",
          "y": 19.2,
          "yref": "y"
         },
         {
          "arrowcolor": "#ff7f0e",
          "arrowhead": 4,
          "arrowsize": 2,
          "ax": 79.2,
          "axref": "x",
          "ay": 19.2,
          "ayref": "y",
          "captureevents": true,
          "hovertext": "player= M. Özil\n time= 27m20s\n subEventName= High pass\n result= success",
          "showarrow": true,
          "x": 106.8,
          "xref": "x",
          "y": 30.4,
          "yref": "y"
         },
         {
          "arrowcolor": "#d62728",
          "arrowhead": 4,
          "arrowsize": 2,
          "ax": 86.4,
          "axref": "x",
          "ay": 48,
          "ayref": "y",
          "captureevents": true,
          "hovertext": "player= T. Kroos\n time= 27m30s\n subEventName= Head pass\n result= failure",
          "showarrow": true,
          "x": 105.6,
          "xref": "x",
          "y": 34.400000000000006,
          "yref": "y"
         },
         {
          "arrowcolor": "#1f77b4",
          "arrowhead": 4,
          "arrowsize": 2,
          "ax": 73.2,
          "axref": "x",
          "ay": 60,
          "ayref": "y",
          "captureevents": true,
          "hovertext": "player= B. Höwedes\n time= 27m38s\n subEventName= Simple pass\n result= success",
          "showarrow": true,
          "x": 67.2,
          "xref": "x",
          "y": 44,
          "yref": "y"
         },
         {
          "arrowcolor": "#1f77b4",
          "arrowhead": 4,
          "arrowsize": 2,
          "ax": 67.2,
          "axref": "x",
          "ay": 44,
          "ayref": "y",
          "captureevents": true,
          "hovertext": "player= B. Schweinsteiger\n time= 27m39s\n subEventName= Simple pass\n result= success",
          "showarrow": true,
          "x": 67.2,
          "xref": "x",
          "y": 68,
          "yref": "y"
         },
         {
          "arrowcolor": "#1f77b4",
          "arrowhead": 4,
          "arrowsize": 2,
          "ax": 67.2,
          "axref": "x",
          "ay": 68,
          "ayref": "y",
          "captureevents": true,
          "hovertext": "player= B. Höwedes\n time= 27m40s\n subEventName= Simple pass\n result= success",
          "showarrow": true,
          "x": 80.4,
          "xref": "x",
          "y": 80,
          "yref": "y"
         },
         {
          "arrowcolor": "#1f77b4",
          "arrowhead": 4,
          "arrowsize": 2,
          "ax": 80.4,
          "axref": "x",
          "ay": 80,
          "ayref": "y",
          "captureevents": true,
          "hovertext": "player= J. Hector\n time= 27m42s\n subEventName= Simple pass\n result= success",
          "showarrow": true,
          "x": 72,
          "xref": "x",
          "y": 69.6,
          "yref": "y"
         },
         {
          "arrowcolor": "#1f77b4",
          "arrowhead": 4,
          "arrowsize": 2,
          "ax": 72,
          "axref": "x",
          "ay": 69.6,
          "ayref": "y",
          "captureevents": true,
          "hovertext": "player= T. Kroos\n time= 27m44s\n subEventName= Simple pass\n result= success",
          "showarrow": true,
          "x": 48,
          "xref": "x",
          "y": 64.80000000000001,
          "yref": "y"
         },
         {
          "arrowcolor": "#1f77b4",
          "arrowhead": 4,
          "arrowsize": 2,
          "ax": 48,
          "axref": "x",
          "ay": 64.80000000000001,
          "ayref": "y",
          "captureevents": true,
          "hovertext": "player= B. Höwedes\n time= 27m47s\n subEventName= Simple pass\n result= success",
          "showarrow": true,
          "x": 64.8,
          "xref": "x",
          "y": 36.8,
          "yref": "y"
         },
         {
          "arrowcolor": "#1f77b4",
          "arrowhead": 4,
          "arrowsize": 2,
          "ax": 64.8,
          "axref": "x",
          "ay": 36.8,
          "ayref": "y",
          "captureevents": true,
          "hovertext": "player= J. Boateng\n time= 27m53s\n subEventName= Simple pass\n result= success",
          "showarrow": true,
          "x": 63.6,
          "xref": "x",
          "y": 10.4,
          "yref": "y"
         },
         {
          "arrowcolor": "#1f77b4",
          "arrowhead": 4,
          "arrowsize": 2,
          "ax": 63.6,
          "axref": "x",
          "ay": 10.4,
          "ayref": "y",
          "captureevents": true,
          "hovertext": "player= M. Özil\n time= 27m56s\n subEventName= Simple pass\n result= success",
          "showarrow": true,
          "x": 102,
          "xref": "x",
          "y": 9.6,
          "yref": "y"
         },
         {
          "arrowcolor": "#1f77b4",
          "arrowhead": 4,
          "arrowsize": 2,
          "ax": 102,
          "axref": "x",
          "ay": 9.6,
          "ayref": "y",
          "captureevents": true,
          "hovertext": "player= J. Kimmich\n time= 28m0s\n subEventName= Simple pass\n result= success",
          "showarrow": true,
          "x": 82.8,
          "xref": "x",
          "y": 12.800000000000002,
          "yref": "y"
         },
         {
          "arrowcolor": "#1f77b4",
          "arrowhead": 4,
          "arrowsize": 2,
          "ax": 82.8,
          "axref": "x",
          "ay": 12.800000000000002,
          "ayref": "y",
          "captureevents": true,
          "hovertext": "player= M. Özil\n time= 28m3s\n subEventName= Simple pass\n result= success",
          "showarrow": true,
          "x": 75.6,
          "xref": "x",
          "y": 52.8,
          "yref": "y"
         },
         {
          "arrowcolor": "#1f77b4",
          "arrowhead": 4,
          "arrowsize": 2,
          "ax": 75.6,
          "axref": "x",
          "ay": 52.8,
          "ayref": "y",
          "captureevents": true,
          "hovertext": "player= B. Schweinsteiger\n time= 28m8s\n subEventName= Simple pass\n result= success",
          "showarrow": true,
          "x": 84,
          "xref": "x",
          "y": 64,
          "yref": "y"
         },
         {
          "arrowcolor": "#1f77b4",
          "arrowhead": 4,
          "arrowsize": 2,
          "ax": 84,
          "axref": "x",
          "ay": 64,
          "ayref": "y",
          "captureevents": true,
          "hovertext": "player= T. Kroos\n time= 28m12s\n subEventName= Simple pass\n result= success",
          "showarrow": true,
          "x": 68.4,
          "xref": "x",
          "y": 28,
          "yref": "y"
         },
         {
          "arrowcolor": "#1f77b4",
          "arrowhead": 4,
          "arrowsize": 2,
          "ax": 68.4,
          "axref": "x",
          "ay": 28,
          "ayref": "y",
          "captureevents": true,
          "hovertext": "player= J. Boateng\n time= 28m15s\n subEventName= Simple pass\n result= success",
          "showarrow": true,
          "x": 104.4,
          "xref": "x",
          "y": 6.399999999999997,
          "yref": "y"
         },
         {
          "arrowcolor": "#1f77b4",
          "arrowhead": 4,
          "arrowsize": 2,
          "ax": 104.4,
          "axref": "x",
          "ay": 6.399999999999997,
          "ayref": "y",
          "captureevents": true,
          "hovertext": "player= M. Özil\n time= 28m19s\n subEventName= Simple pass\n result= success",
          "showarrow": true,
          "x": 81.6,
          "xref": "x",
          "y": 36,
          "yref": "y"
         },
         {
          "arrowcolor": "#1f77b4",
          "arrowhead": 4,
          "arrowsize": 2,
          "ax": 81.6,
          "axref": "x",
          "ay": 36,
          "ayref": "y",
          "captureevents": true,
          "hovertext": "player= J. Kimmich\n time= 28m22s\n subEventName= Simple pass\n result= success",
          "showarrow": true,
          "x": 82.8,
          "xref": "x",
          "y": 36.8,
          "yref": "y"
         },
         {
          "arrowcolor": "#1f77b4",
          "arrowhead": 4,
          "arrowsize": 2,
          "ax": 82.8,
          "axref": "x",
          "ay": 36.8,
          "ayref": "y",
          "captureevents": true,
          "hovertext": "player= B. Schweinsteiger\n time= 28m24s\n subEventName= Simple pass\n result= success",
          "showarrow": true,
          "x": 86.4,
          "xref": "x",
          "y": 61.6,
          "yref": "y"
         },
         {
          "arrowcolor": "#1f77b4",
          "arrowhead": 4,
          "arrowsize": 2,
          "ax": 49.2,
          "axref": "x",
          "ay": 20,
          "ayref": "y",
          "captureevents": true,
          "hovertext": "player= E. Can\n time= 28m50s\n subEventName= Simple pass\n result= success",
          "showarrow": true,
          "x": 43.2,
          "xref": "x",
          "y": 32.800000000000004,
          "yref": "y"
         },
         {
          "arrowcolor": "#1f77b4",
          "arrowhead": 4,
          "arrowsize": 2,
          "ax": 43.2,
          "axref": "x",
          "ay": 32.800000000000004,
          "ayref": "y",
          "captureevents": true,
          "hovertext": "player= B. Schweinsteiger\n time= 28m54s\n subEventName= Simple pass\n result= success",
          "showarrow": true,
          "x": 63.6,
          "xref": "x",
          "y": 41.6,
          "yref": "y"
         },
         {
          "arrowcolor": "#1f77b4",
          "arrowhead": 4,
          "arrowsize": 2,
          "ax": 63.6,
          "axref": "x",
          "ay": 41.6,
          "ayref": "y",
          "captureevents": true,
          "hovertext": "player= T. Kroos\n time= 28m57s\n subEventName= Simple pass\n result= success",
          "showarrow": true,
          "x": 85.2,
          "xref": "x",
          "y": 48.8,
          "yref": "y"
         },
         {
          "arrowcolor": "#1f77b4",
          "arrowhead": 4,
          "arrowsize": 2,
          "ax": 85.2,
          "axref": "x",
          "ay": 48.8,
          "ayref": "y",
          "captureevents": true,
          "hovertext": "player= J. Draxler\n time= 28m59s\n subEventName= Simple pass\n result= success",
          "showarrow": true,
          "x": 64.8,
          "xref": "x",
          "y": 33.6,
          "yref": "y"
         },
         {
          "arrowcolor": "#ff7f0e",
          "arrowhead": 4,
          "arrowsize": 2,
          "ax": 64.8,
          "axref": "x",
          "ay": 33.6,
          "ayref": "y",
          "captureevents": true,
          "hovertext": "player= B. Schweinsteiger\n time= 29m2s\n subEventName= High pass\n result= failure",
          "showarrow": true,
          "x": 99.6,
          "xref": "x",
          "y": 10.4,
          "yref": "y"
         },
         {
          "arrowcolor": "#1f77b4",
          "arrowhead": 4,
          "arrowsize": 2,
          "ax": 64.8,
          "axref": "x",
          "ay": 7.999999999999998,
          "ayref": "y",
          "captureevents": true,
          "hovertext": "player= M. Özil\n time= 29m10s\n subEventName= Simple pass\n result= success",
          "showarrow": true,
          "x": 63.6,
          "xref": "x",
          "y": 33.6,
          "yref": "y"
         },
         {
          "arrowcolor": "#1f77b4",
          "arrowhead": 4,
          "arrowsize": 2,
          "ax": 63.6,
          "axref": "x",
          "ay": 33.6,
          "ayref": "y",
          "captureevents": true,
          "hovertext": "player= J. Boateng\n time= 29m16s\n subEventName= Simple pass\n result= success",
          "showarrow": true,
          "x": 63.6,
          "xref": "x",
          "y": 18.4,
          "yref": "y"
         },
         {
          "arrowcolor": "#1f77b4",
          "arrowhead": 4,
          "arrowsize": 2,
          "ax": 63.6,
          "axref": "x",
          "ay": 18.4,
          "ayref": "y",
          "captureevents": true,
          "hovertext": "player= B. Schweinsteiger\n time= 29m18s\n subEventName= Simple pass\n result= success",
          "showarrow": true,
          "x": 76.8,
          "xref": "x",
          "y": 20,
          "yref": "y"
         },
         {
          "arrowcolor": "#1f77b4",
          "arrowhead": 4,
          "arrowsize": 2,
          "ax": 76.8,
          "axref": "x",
          "ay": 20,
          "ayref": "y",
          "captureevents": true,
          "hovertext": "player= M. Özil\n time= 29m24s\n subEventName= Simple pass\n result= success",
          "showarrow": true,
          "x": 64.8,
          "xref": "x",
          "y": 58.4,
          "yref": "y"
         },
         {
          "arrowcolor": "#1f77b4",
          "arrowhead": 4,
          "arrowsize": 2,
          "ax": 64.8,
          "axref": "x",
          "ay": 58.4,
          "ayref": "y",
          "captureevents": true,
          "hovertext": "player= B. Höwedes\n time= 29m27s\n subEventName= Simple pass\n result= success",
          "showarrow": true,
          "x": 72,
          "xref": "x",
          "y": 67.2,
          "yref": "y"
         },
         {
          "arrowcolor": "#1f77b4",
          "arrowhead": 4,
          "arrowsize": 2,
          "ax": 72,
          "axref": "x",
          "ay": 67.2,
          "ayref": "y",
          "captureevents": true,
          "hovertext": "player= T. Kroos\n time= 29m31s\n subEventName= Simple pass\n result= success",
          "showarrow": true,
          "x": 87.6,
          "xref": "x",
          "y": 57.599999999999994,
          "yref": "y"
         },
         {
          "arrowcolor": "#1f77b4",
          "arrowhead": 4,
          "arrowsize": 2,
          "ax": 87.6,
          "axref": "x",
          "ay": 57.599999999999994,
          "ayref": "y",
          "captureevents": true,
          "hovertext": "player= J. Draxler\n time= 29m33s\n subEventName= Simple pass\n result= success",
          "showarrow": true,
          "x": 76.8,
          "xref": "x",
          "y": 68,
          "yref": "y"
         },
         {
          "arrowcolor": "#1f77b4",
          "arrowhead": 4,
          "arrowsize": 2,
          "ax": 72,
          "axref": "x",
          "ay": 68.8,
          "ayref": "y",
          "captureevents": true,
          "hovertext": "player= T. Kroos\n time= 29m36s\n subEventName= Simple pass\n result= success",
          "showarrow": true,
          "x": 55.2,
          "xref": "x",
          "y": 66.39999999999999,
          "yref": "y"
         },
         {
          "arrowcolor": "#1f77b4",
          "arrowhead": 4,
          "arrowsize": 2,
          "ax": 55.2,
          "axref": "x",
          "ay": 66.39999999999999,
          "ayref": "y",
          "captureevents": true,
          "hovertext": "player= B. Höwedes\n time= 29m38s\n subEventName= Simple pass\n result= success",
          "showarrow": true,
          "x": 70.8,
          "xref": "x",
          "y": 52,
          "yref": "y"
         },
         {
          "arrowcolor": "#1f77b4",
          "arrowhead": 4,
          "arrowsize": 2,
          "ax": 70.8,
          "axref": "x",
          "ay": 52,
          "ayref": "y",
          "captureevents": true,
          "hovertext": "player= B. Schweinsteiger\n time= 29m42s\n subEventName= Simple pass\n result= success",
          "showarrow": true,
          "x": 84,
          "xref": "x",
          "y": 54.39999999999999,
          "yref": "y"
         },
         {
          "arrowcolor": "#1f77b4",
          "arrowhead": 4,
          "arrowsize": 2,
          "ax": 84,
          "axref": "x",
          "ay": 54.39999999999999,
          "ayref": "y",
          "captureevents": true,
          "hovertext": "player= J. Draxler\n time= 29m43s\n subEventName= Simple pass\n result= success",
          "showarrow": true,
          "x": 76.8,
          "xref": "x",
          "y": 33.6,
          "yref": "y"
         },
         {
          "arrowcolor": "#1f77b4",
          "arrowhead": 4,
          "arrowsize": 2,
          "ax": 76.8,
          "axref": "x",
          "ay": 33.6,
          "ayref": "y",
          "captureevents": true,
          "hovertext": "player= M. Özil\n time= 29m46s\n subEventName= Simple pass\n result= success",
          "showarrow": true,
          "x": 85.2,
          "xref": "x",
          "y": 76.8,
          "yref": "y"
         },
         {
          "arrowcolor": "#1f77b4",
          "arrowhead": 4,
          "arrowsize": 2,
          "ax": 85.2,
          "axref": "x",
          "ay": 76.8,
          "ayref": "y",
          "captureevents": true,
          "hovertext": "player= J. Hector\n time= 29m51s\n subEventName= Simple pass\n result= success",
          "showarrow": true,
          "x": 68.4,
          "xref": "x",
          "y": 57.599999999999994,
          "yref": "y"
         },
         {
          "arrowcolor": "#1f77b4",
          "arrowhead": 4,
          "arrowsize": 2,
          "ax": 68.4,
          "axref": "x",
          "ay": 57.599999999999994,
          "ayref": "y",
          "captureevents": true,
          "hovertext": "player= B. Schweinsteiger\n time= 29m55s\n subEventName= Simple pass\n result= success",
          "showarrow": true,
          "x": 75.6,
          "xref": "x",
          "y": 25.599999999999994,
          "yref": "y"
         },
         {
          "arrowcolor": "#1f77b4",
          "arrowhead": 4,
          "arrowsize": 2,
          "ax": 75.6,
          "axref": "x",
          "ay": 25.599999999999994,
          "ayref": "y",
          "captureevents": true,
          "hovertext": "player= J. Boateng\n time= 29m59s\n subEventName= Simple pass\n result= success",
          "showarrow": true,
          "x": 103.2,
          "xref": "x",
          "y": 12.000000000000002,
          "yref": "y"
         },
         {
          "arrowcolor": "#1f77b4",
          "arrowhead": 4,
          "arrowsize": 2,
          "ax": 106.8,
          "axref": "x",
          "ay": 10.4,
          "ayref": "y",
          "captureevents": true,
          "hovertext": "player= J. Kimmich\n time= 30m5s\n subEventName= Simple pass\n result= success",
          "showarrow": true,
          "x": 106.8,
          "xref": "x",
          "y": 23.200000000000003,
          "yref": "y"
         },
         {
          "arrowcolor": "#1f77b4",
          "arrowhead": 4,
          "arrowsize": 2,
          "ax": 109.2,
          "axref": "x",
          "ay": 20.8,
          "ayref": "y",
          "captureevents": true,
          "hovertext": "player= E. Can\n time= 30m6s\n subEventName= Simple pass\n result= success",
          "showarrow": true,
          "x": 87.6,
          "xref": "x",
          "y": 14.400000000000004,
          "yref": "y"
         },
         {
          "arrowcolor": "#9467bd",
          "arrowhead": 4,
          "arrowsize": 2,
          "ax": 87.6,
          "axref": "x",
          "ay": 14.400000000000004,
          "ayref": "y",
          "captureevents": true,
          "hovertext": "player= J. Boateng\n time= 30m8s\n subEventName= Cross\n result= failure",
          "showarrow": true,
          "x": 104.4,
          "xref": "x",
          "y": 32.800000000000004,
          "yref": "y"
         },
         {
          "arrowcolor": "#1f77b4",
          "arrowhead": 4,
          "arrowsize": 2,
          "ax": 51.6,
          "axref": "x",
          "ay": 23.200000000000003,
          "ayref": "y",
          "captureevents": true,
          "hovertext": "player= B. Schweinsteiger\n time= 30m17s\n subEventName= Simple pass\n result= success",
          "showarrow": true,
          "x": 67.2,
          "xref": "x",
          "y": 17.599999999999998,
          "yref": "y"
         },
         {
          "arrowcolor": "#1f77b4",
          "arrowhead": 4,
          "arrowsize": 2,
          "ax": 67.2,
          "axref": "x",
          "ay": 17.599999999999998,
          "ayref": "y",
          "captureevents": true,
          "hovertext": "player= J. Kimmich\n time= 30m20s\n subEventName= Simple pass\n result= success",
          "showarrow": true,
          "x": 79.2,
          "xref": "x",
          "y": 24.000000000000004,
          "yref": "y"
         },
         {
          "arrowcolor": "#1f77b4",
          "arrowhead": 4,
          "arrowsize": 2,
          "ax": 79.2,
          "axref": "x",
          "ay": 24.000000000000004,
          "ayref": "y",
          "captureevents": true,
          "hovertext": "player= E. Can\n time= 30m21s\n subEventName= Simple pass\n result= success",
          "showarrow": true,
          "x": 72,
          "xref": "x",
          "y": 29.6,
          "yref": "y"
         },
         {
          "arrowcolor": "#1f77b4",
          "arrowhead": 4,
          "arrowsize": 2,
          "ax": 72,
          "axref": "x",
          "ay": 29.6,
          "ayref": "y",
          "captureevents": true,
          "hovertext": "player= J. Kimmich\n time= 30m23s\n subEventName= Simple pass\n result= success",
          "showarrow": true,
          "x": 66,
          "xref": "x",
          "y": 45.60000000000001,
          "yref": "y"
         },
         {
          "arrowcolor": "#1f77b4",
          "arrowhead": 4,
          "arrowsize": 2,
          "ax": 66,
          "axref": "x",
          "ay": 45.60000000000001,
          "ayref": "y",
          "captureevents": true,
          "hovertext": "player= M. Özil\n time= 30m25s\n subEventName= Simple pass\n result= success",
          "showarrow": true,
          "x": 63.6,
          "xref": "x",
          "y": 55.199999999999996,
          "yref": "y"
         },
         {
          "arrowcolor": "#1f77b4",
          "arrowhead": 4,
          "arrowsize": 2,
          "ax": 63.6,
          "axref": "x",
          "ay": 55.199999999999996,
          "ayref": "y",
          "captureevents": true,
          "hovertext": "player= T. Kroos\n time= 30m27s\n subEventName= Simple pass\n result= success",
          "showarrow": true,
          "x": 84,
          "xref": "x",
          "y": 77.6,
          "yref": "y"
         },
         {
          "arrowcolor": "#1f77b4",
          "arrowhead": 4,
          "arrowsize": 2,
          "ax": 84,
          "axref": "x",
          "ay": 77.6,
          "ayref": "y",
          "captureevents": true,
          "hovertext": "player= J. Hector\n time= 30m30s\n subEventName= Simple pass\n result= success",
          "showarrow": true,
          "x": 84,
          "xref": "x",
          "y": 60.8,
          "yref": "y"
         },
         {
          "arrowcolor": "#1f77b4",
          "arrowhead": 4,
          "arrowsize": 2,
          "ax": 84,
          "axref": "x",
          "ay": 60.8,
          "ayref": "y",
          "captureevents": true,
          "hovertext": "player= M. Özil\n time= 30m32s\n subEventName= Simple pass\n result= success",
          "showarrow": true,
          "x": 79.2,
          "xref": "x",
          "y": 47.2,
          "yref": "y"
         },
         {
          "arrowcolor": "#1f77b4",
          "arrowhead": 4,
          "arrowsize": 2,
          "ax": 79.2,
          "axref": "x",
          "ay": 47.2,
          "ayref": "y",
          "captureevents": true,
          "hovertext": "player= T. Kroos\n time= 30m34s\n subEventName= Simple pass\n result= success",
          "showarrow": true,
          "x": 102,
          "xref": "x",
          "y": 8.799999999999999,
          "yref": "y"
         },
         {
          "arrowcolor": "#1f77b4",
          "arrowhead": 4,
          "arrowsize": 2,
          "ax": 81.6,
          "axref": "x",
          "ay": 75.19999999999999,
          "ayref": "y",
          "captureevents": true,
          "hovertext": "player= J. Hector\n time= 30m47s\n subEventName= Simple pass\n result= success",
          "showarrow": true,
          "x": 70.8,
          "xref": "x",
          "y": 70.4,
          "yref": "y"
         },
         {
          "arrowcolor": "#1f77b4",
          "arrowhead": 4,
          "arrowsize": 2,
          "ax": 70.8,
          "axref": "x",
          "ay": 70.4,
          "ayref": "y",
          "captureevents": true,
          "hovertext": "player= B. Höwedes\n time= 30m51s\n subEventName= Simple pass\n result= success",
          "showarrow": true,
          "x": 66,
          "xref": "x",
          "y": 59.2,
          "yref": "y"
         },
         {
          "arrowcolor": "#1f77b4",
          "arrowhead": 4,
          "arrowsize": 2,
          "ax": 66,
          "axref": "x",
          "ay": 59.2,
          "ayref": "y",
          "captureevents": true,
          "hovertext": "player= T. Kroos\n time= 30m53s\n subEventName= Simple pass\n result= success",
          "showarrow": true,
          "x": 68.4,
          "xref": "x",
          "y": 45.60000000000001,
          "yref": "y"
         },
         {
          "arrowcolor": "#ff7f0e",
          "arrowhead": 4,
          "arrowsize": 2,
          "ax": 68.4,
          "axref": "x",
          "ay": 45.60000000000001,
          "ayref": "y",
          "captureevents": true,
          "hovertext": "player= J. Boateng\n time= 30m57s\n subEventName= High pass\n result= success",
          "showarrow": true,
          "x": 104.4,
          "xref": "x",
          "y": 6.399999999999997,
          "yref": "y"
         },
         {
          "arrowcolor": "#9467bd",
          "arrowhead": 4,
          "arrowsize": 2,
          "ax": 104.4,
          "axref": "x",
          "ay": 6.399999999999997,
          "ayref": "y",
          "captureevents": true,
          "hovertext": "player= J. Kimmich\n time= 31m0s\n subEventName= Cross\n result= failure",
          "showarrow": true,
          "x": 0,
          "xref": "x",
          "y": 80,
          "yref": "y"
         },
         {
          "arrowcolor": "#1f77b4",
          "arrowhead": 4,
          "arrowsize": 2,
          "ax": 81.6,
          "axref": "x",
          "ay": 22.400000000000002,
          "ayref": "y",
          "captureevents": true,
          "hovertext": "player= J. Boateng\n time= 31m18s\n subEventName= Simple pass\n result= success",
          "showarrow": true,
          "x": 78,
          "xref": "x",
          "y": 61.6,
          "yref": "y"
         },
         {
          "arrowcolor": "#1f77b4",
          "arrowhead": 4,
          "arrowsize": 2,
          "ax": 78,
          "axref": "x",
          "ay": 61.6,
          "ayref": "y",
          "captureevents": true,
          "hovertext": "player= M. Özil\n time= 31m21s\n subEventName= Simple pass\n result= success",
          "showarrow": true,
          "x": 87.6,
          "xref": "x",
          "y": 56,
          "yref": "y"
         },
         {
          "arrowcolor": "#1f77b4",
          "arrowhead": 4,
          "arrowsize": 2,
          "ax": 90,
          "axref": "x",
          "ay": 60,
          "ayref": "y",
          "captureevents": true,
          "hovertext": "player= J. Draxler\n time= 31m25s\n subEventName= Simple pass\n result= success",
          "showarrow": true,
          "x": 69.6,
          "xref": "x",
          "y": 52.8,
          "yref": "y"
         },
         {
          "arrowcolor": "#1f77b4",
          "arrowhead": 4,
          "arrowsize": 2,
          "ax": 69.6,
          "axref": "x",
          "ay": 52.8,
          "ayref": "y",
          "captureevents": true,
          "hovertext": "player= B. Höwedes\n time= 31m30s\n subEventName= Simple pass\n result= success",
          "showarrow": true,
          "x": 75.6,
          "xref": "x",
          "y": 36,
          "yref": "y"
         },
         {
          "arrowcolor": "#1f77b4",
          "arrowhead": 4,
          "arrowsize": 2,
          "ax": 75.6,
          "axref": "x",
          "ay": 36,
          "ayref": "y",
          "captureevents": true,
          "hovertext": "player= J. Boateng\n time= 31m35s\n subEventName= Simple pass\n result= success",
          "showarrow": true,
          "x": 81.6,
          "xref": "x",
          "y": 20,
          "yref": "y"
         },
         {
          "arrowcolor": "#1f77b4",
          "arrowhead": 4,
          "arrowsize": 2,
          "ax": 81.6,
          "axref": "x",
          "ay": 20,
          "ayref": "y",
          "captureevents": true,
          "hovertext": "player= B. Schweinsteiger\n time= 31m36s\n subEventName= Simple pass\n result= success",
          "showarrow": true,
          "x": 86.4,
          "xref": "x",
          "y": 27.199999999999996,
          "yref": "y"
         },
         {
          "arrowcolor": "#1f77b4",
          "arrowhead": 4,
          "arrowsize": 2,
          "ax": 86.4,
          "axref": "x",
          "ay": 27.199999999999996,
          "ayref": "y",
          "captureevents": true,
          "hovertext": "player= T. Müller\n time= 31m37s\n subEventName= Simple pass\n result= success",
          "showarrow": true,
          "x": 115.2,
          "xref": "x",
          "y": 9.6,
          "yref": "y"
         },
         {
          "arrowcolor": "#9467bd",
          "arrowhead": 4,
          "arrowsize": 2,
          "ax": 115.2,
          "axref": "x",
          "ay": 9.6,
          "ayref": "y",
          "captureevents": true,
          "hovertext": "player= J. Kimmich\n time= 31m41s\n subEventName= Cross\n result= success",
          "showarrow": true,
          "x": 108,
          "xref": "x",
          "y": 36,
          "yref": "y"
         },
         {
          "arrowcolor": "#d62728",
          "arrowhead": 4,
          "arrowsize": 2,
          "ax": 108,
          "axref": "x",
          "ay": 36,
          "ayref": "y",
          "captureevents": true,
          "hovertext": "player= T. Müller\n time= 31m42s\n subEventName= Head pass\n result= success",
          "showarrow": true,
          "x": 109.2,
          "xref": "x",
          "y": 48.8,
          "yref": "y"
         },
         {
          "arrowcolor": "#1f77b4",
          "arrowhead": 4,
          "arrowsize": 2,
          "ax": 109.2,
          "axref": "x",
          "ay": 48.8,
          "ayref": "y",
          "captureevents": true,
          "hovertext": "player= J. Draxler\n time= 31m44s\n subEventName= Simple pass\n result= success",
          "showarrow": true,
          "x": 116.4,
          "xref": "x",
          "y": 44,
          "yref": "y"
         },
         {
          "arrowcolor": "#1f77b4",
          "arrowhead": 4,
          "arrowsize": 2,
          "ax": 68.4,
          "axref": "x",
          "ay": 58.4,
          "ayref": "y",
          "captureevents": true,
          "hovertext": "player= B. Schweinsteiger\n time= 31m59s\n subEventName= Simple pass\n result= success",
          "showarrow": true,
          "x": 79.2,
          "xref": "x",
          "y": 56.8,
          "yref": "y"
         },
         {
          "arrowcolor": "#e377c2",
          "arrowhead": 4,
          "arrowsize": 2,
          "ax": 79.2,
          "axref": "x",
          "ay": 56.8,
          "ayref": "y",
          "captureevents": true,
          "hovertext": "player= T. Kroos\n time= 32m4s\n subEventName= Smart pass\n result= failure",
          "showarrow": true,
          "x": 120,
          "xref": "x",
          "y": 72.8,
          "yref": "y"
         },
         {
          "arrowcolor": "#1f77b4",
          "arrowhead": 4,
          "arrowsize": 2,
          "ax": 84,
          "axref": "x",
          "ay": 54.39999999999999,
          "ayref": "y",
          "captureevents": true,
          "hovertext": "player= T. Kroos\n time= 32m47s\n subEventName= Simple pass\n result= failure",
          "showarrow": true,
          "x": 85.2,
          "xref": "x",
          "y": 31.200000000000003,
          "yref": "y"
         },
         {
          "arrowcolor": "#ff7f0e",
          "arrowhead": 4,
          "arrowsize": 2,
          "ax": 24,
          "axref": "x",
          "ay": 37.599999999999994,
          "ayref": "y",
          "captureevents": true,
          "hovertext": "player= T. Kroos\n time= 33m1s\n subEventName= High pass\n result= success",
          "showarrow": true,
          "x": 50.4,
          "xref": "x",
          "y": 10.4,
          "yref": "y"
         },
         {
          "arrowcolor": "#1f77b4",
          "arrowhead": 4,
          "arrowsize": 2,
          "ax": 73.2,
          "axref": "x",
          "ay": 17.599999999999998,
          "ayref": "y",
          "captureevents": true,
          "hovertext": "player= E. Can\n time= 33m21s\n subEventName= Simple pass\n result= success",
          "showarrow": true,
          "x": 79.2,
          "xref": "x",
          "y": 52.8,
          "yref": "y"
         },
         {
          "arrowcolor": "#1f77b4",
          "arrowhead": 4,
          "arrowsize": 2,
          "ax": 79.2,
          "axref": "x",
          "ay": 52.8,
          "ayref": "y",
          "captureevents": true,
          "hovertext": "player= J. Draxler\n time= 33m25s\n subEventName= Simple pass\n result= success",
          "showarrow": true,
          "x": 82.8,
          "xref": "x",
          "y": 76.8,
          "yref": "y"
         },
         {
          "arrowcolor": "#1f77b4",
          "arrowhead": 4,
          "arrowsize": 2,
          "ax": 82.8,
          "axref": "x",
          "ay": 76.8,
          "ayref": "y",
          "captureevents": true,
          "hovertext": "player= J. Hector\n time= 33m29s\n subEventName= Simple pass\n result= success",
          "showarrow": true,
          "x": 63.6,
          "xref": "x",
          "y": 56,
          "yref": "y"
         },
         {
          "arrowcolor": "#1f77b4",
          "arrowhead": 4,
          "arrowsize": 2,
          "ax": 63.6,
          "axref": "x",
          "ay": 56,
          "ayref": "y",
          "captureevents": true,
          "hovertext": "player= B. Höwedes\n time= 33m33s\n subEventName= Simple pass\n result= success",
          "showarrow": true,
          "x": 82.8,
          "xref": "x",
          "y": 56,
          "yref": "y"
         },
         {
          "arrowcolor": "#1f77b4",
          "arrowhead": 4,
          "arrowsize": 2,
          "ax": 82.8,
          "axref": "x",
          "ay": 56,
          "ayref": "y",
          "captureevents": true,
          "hovertext": "player= T. Müller\n time= 33m34s\n subEventName= Simple pass\n result= success",
          "showarrow": true,
          "x": 67.2,
          "xref": "x",
          "y": 52,
          "yref": "y"
         },
         {
          "arrowcolor": "#1f77b4",
          "arrowhead": 4,
          "arrowsize": 2,
          "ax": 67.2,
          "axref": "x",
          "ay": 52,
          "ayref": "y",
          "captureevents": true,
          "hovertext": "player= B. Höwedes\n time= 33m37s\n subEventName= Simple pass\n result= success",
          "showarrow": true,
          "x": 90,
          "xref": "x",
          "y": 23.200000000000003,
          "yref": "y"
         },
         {
          "arrowcolor": "#1f77b4",
          "arrowhead": 4,
          "arrowsize": 2,
          "ax": 90,
          "axref": "x",
          "ay": 23.200000000000003,
          "ayref": "y",
          "captureevents": true,
          "hovertext": "player= M. Özil\n time= 33m43s\n subEventName= Simple pass\n result= success",
          "showarrow": true,
          "x": 75.6,
          "xref": "x",
          "y": 45.60000000000001,
          "yref": "y"
         },
         {
          "arrowcolor": "#1f77b4",
          "arrowhead": 4,
          "arrowsize": 2,
          "ax": 75.6,
          "axref": "x",
          "ay": 45.60000000000001,
          "ayref": "y",
          "captureevents": true,
          "hovertext": "player= B. Schweinsteiger\n time= 33m47s\n subEventName= Simple pass\n result= success",
          "showarrow": true,
          "x": 76.8,
          "xref": "x",
          "y": 57.599999999999994,
          "yref": "y"
         },
         {
          "arrowcolor": "#1f77b4",
          "arrowhead": 4,
          "arrowsize": 2,
          "ax": 76.8,
          "axref": "x",
          "ay": 57.599999999999994,
          "ayref": "y",
          "captureevents": true,
          "hovertext": "player= T. Kroos\n time= 33m51s\n subEventName= Simple pass\n result= success",
          "showarrow": true,
          "x": 72,
          "xref": "x",
          "y": 24.000000000000004,
          "yref": "y"
         },
         {
          "arrowcolor": "#1f77b4",
          "arrowhead": 4,
          "arrowsize": 2,
          "ax": 72,
          "axref": "x",
          "ay": 24.000000000000004,
          "ayref": "y",
          "captureevents": true,
          "hovertext": "player= J. Boateng\n time= 33m54s\n subEventName= Simple pass\n result= success",
          "showarrow": true,
          "x": 110.4,
          "xref": "x",
          "y": 8.799999999999999,
          "yref": "y"
         },
         {
          "arrowcolor": "#1f77b4",
          "arrowhead": 4,
          "arrowsize": 2,
          "ax": 110.4,
          "axref": "x",
          "ay": 8.799999999999999,
          "ayref": "y",
          "captureevents": true,
          "hovertext": "player= J. Kimmich\n time= 34m0s\n subEventName= Simple pass\n result= success",
          "showarrow": true,
          "x": 87.6,
          "xref": "x",
          "y": 16.799999999999997,
          "yref": "y"
         },
         {
          "arrowcolor": "#9467bd",
          "arrowhead": 4,
          "arrowsize": 2,
          "ax": 87.6,
          "axref": "x",
          "ay": 16.799999999999997,
          "ayref": "y",
          "captureevents": true,
          "hovertext": "player= M. Özil\n time= 34m2s\n subEventName= Cross\n result= failure",
          "showarrow": true,
          "x": 0,
          "xref": "x",
          "y": 80,
          "yref": "y"
         },
         {
          "arrowcolor": "#1f77b4",
          "arrowhead": 4,
          "arrowsize": 2,
          "ax": 46.8,
          "axref": "x",
          "ay": 52.8,
          "ayref": "y",
          "captureevents": true,
          "hovertext": "player= B. Schweinsteiger\n time= 37m6s\n subEventName= Simple pass\n result= success",
          "showarrow": true,
          "x": 34.8,
          "xref": "x",
          "y": 66.39999999999999,
          "yref": "y"
         },
         {
          "arrowcolor": "#1f77b4",
          "arrowhead": 4,
          "arrowsize": 2,
          "ax": 34.8,
          "axref": "x",
          "ay": 66.39999999999999,
          "ayref": "y",
          "captureevents": true,
          "hovertext": "player= B. Höwedes\n time= 37m9s\n subEventName= Simple pass\n result= success",
          "showarrow": true,
          "x": 52.8,
          "xref": "x",
          "y": 72.8,
          "yref": "y"
         },
         {
          "arrowcolor": "#1f77b4",
          "arrowhead": 4,
          "arrowsize": 2,
          "ax": 52.8,
          "axref": "x",
          "ay": 72.8,
          "ayref": "y",
          "captureevents": true,
          "hovertext": "player= T. Kroos\n time= 37m9s\n subEventName= Simple pass\n result= success",
          "showarrow": true,
          "x": 40.8,
          "xref": "x",
          "y": 57.599999999999994,
          "yref": "y"
         },
         {
          "arrowcolor": "#1f77b4",
          "arrowhead": 4,
          "arrowsize": 2,
          "ax": 40.8,
          "axref": "x",
          "ay": 57.599999999999994,
          "ayref": "y",
          "captureevents": true,
          "hovertext": "player= B. Schweinsteiger\n time= 37m12s\n subEventName= Simple pass\n result= success",
          "showarrow": true,
          "x": 40.8,
          "xref": "x",
          "y": 70.4,
          "yref": "y"
         },
         {
          "arrowcolor": "#1f77b4",
          "arrowhead": 4,
          "arrowsize": 2,
          "ax": 40.8,
          "axref": "x",
          "ay": 70.4,
          "ayref": "y",
          "captureevents": true,
          "hovertext": "player= B. Höwedes\n time= 37m18s\n subEventName= Simple pass\n result= success",
          "showarrow": true,
          "x": 66,
          "xref": "x",
          "y": 79.2,
          "yref": "y"
         },
         {
          "arrowcolor": "#1f77b4",
          "arrowhead": 4,
          "arrowsize": 2,
          "ax": 66,
          "axref": "x",
          "ay": 79.2,
          "ayref": "y",
          "captureevents": true,
          "hovertext": "player= J. Hector\n time= 37m19s\n subEventName= Simple pass\n result= success",
          "showarrow": true,
          "x": 50.4,
          "xref": "x",
          "y": 52,
          "yref": "y"
         },
         {
          "arrowcolor": "#1f77b4",
          "arrowhead": 4,
          "arrowsize": 2,
          "ax": 50.4,
          "axref": "x",
          "ay": 52,
          "ayref": "y",
          "captureevents": true,
          "hovertext": "player= B. Höwedes\n time= 37m27s\n subEventName= Simple pass\n result= success",
          "showarrow": true,
          "x": 44.4,
          "xref": "x",
          "y": 15.999999999999996,
          "yref": "y"
         },
         {
          "arrowcolor": "#1f77b4",
          "arrowhead": 4,
          "arrowsize": 2,
          "ax": 44.4,
          "axref": "x",
          "ay": 15.999999999999996,
          "ayref": "y",
          "captureevents": true,
          "hovertext": "player= J. Boateng\n time= 37m30s\n subEventName= Simple pass\n result= success",
          "showarrow": true,
          "x": 88.8,
          "xref": "x",
          "y": 6.399999999999997,
          "yref": "y"
         },
         {
          "arrowcolor": "#1f77b4",
          "arrowhead": 4,
          "arrowsize": 2,
          "ax": 88.8,
          "axref": "x",
          "ay": 6.399999999999997,
          "ayref": "y",
          "captureevents": true,
          "hovertext": "player= J. Kimmich\n time= 37m31s\n subEventName= Simple pass\n result= success",
          "showarrow": true,
          "x": 110.4,
          "xref": "x",
          "y": 6.399999999999997,
          "yref": "y"
         },
         {
          "arrowcolor": "#1f77b4",
          "arrowhead": 4,
          "arrowsize": 2,
          "ax": 87.6,
          "axref": "x",
          "ay": 8.799999999999999,
          "ayref": "y",
          "captureevents": true,
          "hovertext": "player= M. Özil\n time= 37m39s\n subEventName= Simple pass\n result= success",
          "showarrow": true,
          "x": 68.4,
          "xref": "x",
          "y": 29.6,
          "yref": "y"
         },
         {
          "arrowcolor": "#1f77b4",
          "arrowhead": 4,
          "arrowsize": 2,
          "ax": 68.4,
          "axref": "x",
          "ay": 29.6,
          "ayref": "y",
          "captureevents": true,
          "hovertext": "player= J. Boateng\n time= 37m43s\n subEventName= Simple pass\n result= success",
          "showarrow": true,
          "x": 85.2,
          "xref": "x",
          "y": 42.400000000000006,
          "yref": "y"
         },
         {
          "arrowcolor": "#1f77b4",
          "arrowhead": 4,
          "arrowsize": 2,
          "ax": 42,
          "axref": "x",
          "ay": 77.6,
          "ayref": "y",
          "captureevents": true,
          "hovertext": "player= J. Hector\n time= 38m37s\n subEventName= Simple pass\n result= success",
          "showarrow": true,
          "x": 43.2,
          "xref": "x",
          "y": 65.60000000000001,
          "yref": "y"
         },
         {
          "arrowcolor": "#1f77b4",
          "arrowhead": 4,
          "arrowsize": 2,
          "ax": 43.2,
          "axref": "x",
          "ay": 65.60000000000001,
          "ayref": "y",
          "captureevents": true,
          "hovertext": "player= B. Schweinsteiger\n time= 38m39s\n subEventName= Simple pass\n result= success",
          "showarrow": true,
          "x": 57.6,
          "xref": "x",
          "y": 40,
          "yref": "y"
         },
         {
          "arrowcolor": "#1f77b4",
          "arrowhead": 4,
          "arrowsize": 2,
          "ax": 57.6,
          "axref": "x",
          "ay": 40,
          "ayref": "y",
          "captureevents": true,
          "hovertext": "player= E. Can\n time= 38m43s\n subEventName= Simple pass\n result= success",
          "showarrow": true,
          "x": 68.4,
          "xref": "x",
          "y": 21.6,
          "yref": "y"
         },
         {
          "arrowcolor": "#1f77b4",
          "arrowhead": 4,
          "arrowsize": 2,
          "ax": 68.4,
          "axref": "x",
          "ay": 21.6,
          "ayref": "y",
          "captureevents": true,
          "hovertext": "player= M. Özil\n time= 38m47s\n subEventName= Simple pass\n result= success",
          "showarrow": true,
          "x": 90,
          "xref": "x",
          "y": 28.799999999999997,
          "yref": "y"
         },
         {
          "arrowcolor": "#1f77b4",
          "arrowhead": 4,
          "arrowsize": 2,
          "ax": 90,
          "axref": "x",
          "ay": 28.799999999999997,
          "ayref": "y",
          "captureevents": true,
          "hovertext": "player= T. Müller\n time= 38m49s\n subEventName= Simple pass\n result= success",
          "showarrow": true,
          "x": 81.6,
          "xref": "x",
          "y": 7.1999999999999975,
          "yref": "y"
         },
         {
          "arrowcolor": "#1f77b4",
          "arrowhead": 4,
          "arrowsize": 2,
          "ax": 81.6,
          "axref": "x",
          "ay": 7.1999999999999975,
          "ayref": "y",
          "captureevents": true,
          "hovertext": "player= J. Kimmich\n time= 38m53s\n subEventName= Simple pass\n result= success",
          "showarrow": true,
          "x": 66,
          "xref": "x",
          "y": 25.599999999999994,
          "yref": "y"
         },
         {
          "arrowcolor": "#1f77b4",
          "arrowhead": 4,
          "arrowsize": 2,
          "ax": 66,
          "axref": "x",
          "ay": 25.599999999999994,
          "ayref": "y",
          "captureevents": true,
          "hovertext": "player= B. Schweinsteiger\n time= 39m1s\n subEventName= Simple pass\n result= success",
          "showarrow": true,
          "x": 60,
          "xref": "x",
          "y": 56,
          "yref": "y"
         },
         {
          "arrowcolor": "#1f77b4",
          "arrowhead": 4,
          "arrowsize": 2,
          "ax": 60,
          "axref": "x",
          "ay": 56,
          "ayref": "y",
          "captureevents": true,
          "hovertext": "player= B. Höwedes\n time= 39m4s\n subEventName= Simple pass\n result= success",
          "showarrow": true,
          "x": 69.6,
          "xref": "x",
          "y": 67.2,
          "yref": "y"
         },
         {
          "arrowcolor": "#1f77b4",
          "arrowhead": 4,
          "arrowsize": 2,
          "ax": 69.6,
          "axref": "x",
          "ay": 67.2,
          "ayref": "y",
          "captureevents": true,
          "hovertext": "player= T. Kroos\n time= 39m5s\n subEventName= Simple pass\n result= success",
          "showarrow": true,
          "x": 92.4,
          "xref": "x",
          "y": 59.2,
          "yref": "y"
         },
         {
          "arrowcolor": "#1f77b4",
          "arrowhead": 4,
          "arrowsize": 2,
          "ax": 92.4,
          "axref": "x",
          "ay": 59.2,
          "ayref": "y",
          "captureevents": true,
          "hovertext": "player= J. Draxler\n time= 39m7s\n subEventName= Simple pass\n result= success",
          "showarrow": true,
          "x": 81.6,
          "xref": "x",
          "y": 69.6,
          "yref": "y"
         },
         {
          "arrowcolor": "#1f77b4",
          "arrowhead": 4,
          "arrowsize": 2,
          "ax": 81.6,
          "axref": "x",
          "ay": 69.6,
          "ayref": "y",
          "captureevents": true,
          "hovertext": "player= T. Kroos\n time= 39m9s\n subEventName= Simple pass\n result= success",
          "showarrow": true,
          "x": 103.2,
          "xref": "x",
          "y": 77.6,
          "yref": "y"
         },
         {
          "arrowcolor": "#9467bd",
          "arrowhead": 4,
          "arrowsize": 2,
          "ax": 103.2,
          "axref": "x",
          "ay": 77.6,
          "ayref": "y",
          "captureevents": true,
          "hovertext": "player= J. Hector\n time= 39m13s\n subEventName= Cross\n result= failure",
          "showarrow": true,
          "x": 0,
          "xref": "x",
          "y": 80,
          "yref": "y"
         },
         {
          "arrowcolor": "#1f77b4",
          "arrowhead": 4,
          "arrowsize": 2,
          "ax": 15.6,
          "axref": "x",
          "ay": 28.799999999999997,
          "ayref": "y",
          "captureevents": true,
          "hovertext": "player= J. Boateng\n time= 41m18s\n subEventName= Simple pass\n result= success",
          "showarrow": true,
          "x": 40.8,
          "xref": "x",
          "y": 68,
          "yref": "y"
         },
         {
          "arrowcolor": "#1f77b4",
          "arrowhead": 4,
          "arrowsize": 2,
          "ax": 40.8,
          "axref": "x",
          "ay": 68,
          "ayref": "y",
          "captureevents": true,
          "hovertext": "player= B. Höwedes\n time= 41m25s\n subEventName= Simple pass\n result= success",
          "showarrow": true,
          "x": 37.2,
          "xref": "x",
          "y": 31.200000000000003,
          "yref": "y"
         },
         {
          "arrowcolor": "#1f77b4",
          "arrowhead": 4,
          "arrowsize": 2,
          "ax": 37.2,
          "axref": "x",
          "ay": 31.200000000000003,
          "ayref": "y",
          "captureevents": true,
          "hovertext": "player= J. Boateng\n time= 41m30s\n subEventName= Simple pass\n result= success",
          "showarrow": true,
          "x": 78,
          "xref": "x",
          "y": 15.199999999999996,
          "yref": "y"
         },
         {
          "arrowcolor": "#1f77b4",
          "arrowhead": 4,
          "arrowsize": 2,
          "ax": 78,
          "axref": "x",
          "ay": 15.199999999999996,
          "ayref": "y",
          "captureevents": true,
          "hovertext": "player= M. Özil\n time= 41m36s\n subEventName= Simple pass\n result= success",
          "showarrow": true,
          "x": 92.4,
          "xref": "x",
          "y": 28.799999999999997,
          "yref": "y"
         },
         {
          "arrowcolor": "#1f77b4",
          "arrowhead": 4,
          "arrowsize": 2,
          "ax": 8.4,
          "axref": "x",
          "ay": 6.399999999999997,
          "ayref": "y",
          "captureevents": true,
          "hovertext": "player= M. Özil\n time= 42m25s\n subEventName= Simple pass\n result= success",
          "showarrow": true,
          "x": 36,
          "xref": "x",
          "y": 4.0000000000000036,
          "yref": "y"
         },
         {
          "arrowcolor": "#1f77b4",
          "arrowhead": 4,
          "arrowsize": 2,
          "ax": 49.2,
          "axref": "x",
          "ay": 10.4,
          "ayref": "y",
          "captureevents": true,
          "hovertext": "player= M. Özil\n time= 42m56s\n subEventName= Simple pass\n result= success",
          "showarrow": true,
          "x": 48,
          "xref": "x",
          "y": 19.2,
          "yref": "y"
         },
         {
          "arrowcolor": "#1f77b4",
          "arrowhead": 4,
          "arrowsize": 2,
          "ax": 48,
          "axref": "x",
          "ay": 19.2,
          "ayref": "y",
          "captureevents": true,
          "hovertext": "player= B. Schweinsteiger\n time= 42m57s\n subEventName= Simple pass\n result= success",
          "showarrow": true,
          "x": 58.8,
          "xref": "x",
          "y": 7.999999999999998,
          "yref": "y"
         },
         {
          "arrowcolor": "#1f77b4",
          "arrowhead": 4,
          "arrowsize": 2,
          "ax": 58.8,
          "axref": "x",
          "ay": 7.999999999999998,
          "ayref": "y",
          "captureevents": true,
          "hovertext": "player= M. Özil\n time= 43m0s\n subEventName= Simple pass\n result= success",
          "showarrow": true,
          "x": 49.2,
          "xref": "x",
          "y": 33.6,
          "yref": "y"
         },
         {
          "arrowcolor": "#1f77b4",
          "arrowhead": 4,
          "arrowsize": 2,
          "ax": 49.2,
          "axref": "x",
          "ay": 33.6,
          "ayref": "y",
          "captureevents": true,
          "hovertext": "player= J. Boateng\n time= 43m4s\n subEventName= Simple pass\n result= success",
          "showarrow": true,
          "x": 74.4,
          "xref": "x",
          "y": 13.600000000000003,
          "yref": "y"
         },
         {
          "arrowcolor": "#1f77b4",
          "arrowhead": 4,
          "arrowsize": 2,
          "ax": 74.4,
          "axref": "x",
          "ay": 13.600000000000003,
          "ayref": "y",
          "captureevents": true,
          "hovertext": "player= M. Özil\n time= 43m7s\n subEventName= Simple pass\n result= success",
          "showarrow": true,
          "x": 93.6,
          "xref": "x",
          "y": 9.6,
          "yref": "y"
         },
         {
          "arrowcolor": "#1f77b4",
          "arrowhead": 4,
          "arrowsize": 2,
          "ax": 93.6,
          "axref": "x",
          "ay": 9.6,
          "ayref": "y",
          "captureevents": true,
          "hovertext": "player= J. Kimmich\n time= 43m9s\n subEventName= Simple pass\n result= success",
          "showarrow": true,
          "x": 79.2,
          "xref": "x",
          "y": 17.599999999999998,
          "yref": "y"
         },
         {
          "arrowcolor": "#1f77b4",
          "arrowhead": 4,
          "arrowsize": 2,
          "ax": 79.2,
          "axref": "x",
          "ay": 17.599999999999998,
          "ayref": "y",
          "captureevents": true,
          "hovertext": "player= M. Özil\n time= 43m11s\n subEventName= Simple pass\n result= success",
          "showarrow": true,
          "x": 93.6,
          "xref": "x",
          "y": 24.800000000000004,
          "yref": "y"
         },
         {
          "arrowcolor": "#1f77b4",
          "arrowhead": 4,
          "arrowsize": 2,
          "ax": 94.8,
          "axref": "x",
          "ay": 23.200000000000003,
          "ayref": "y",
          "captureevents": true,
          "hovertext": "player= T. Müller\n time= 43m15s\n subEventName= Simple pass\n result= success",
          "showarrow": true,
          "x": 112.8,
          "xref": "x",
          "y": 18.4,
          "yref": "y"
         },
         {
          "arrowcolor": "#9467bd",
          "arrowhead": 4,
          "arrowsize": 2,
          "ax": 112.8,
          "axref": "x",
          "ay": 18.4,
          "ayref": "y",
          "captureevents": true,
          "hovertext": "player= J. Kimmich\n time= 43m17s\n subEventName= Cross\n result= success",
          "showarrow": true,
          "x": 108,
          "xref": "x",
          "y": 35.199999999999996,
          "yref": "y"
         },
         {
          "arrowcolor": "#1f77b4",
          "arrowhead": 4,
          "arrowsize": 2,
          "ax": 54,
          "axref": "x",
          "ay": 46.400000000000006,
          "ayref": "y",
          "captureevents": true,
          "hovertext": "player= B. Höwedes\n time= 43m28s\n subEventName= Simple pass\n result= success",
          "showarrow": true,
          "x": 69.6,
          "xref": "x",
          "y": 31.200000000000003,
          "yref": "y"
         },
         {
          "arrowcolor": "#1f77b4",
          "arrowhead": 4,
          "arrowsize": 2,
          "ax": 69.6,
          "axref": "x",
          "ay": 31.200000000000003,
          "ayref": "y",
          "captureevents": true,
          "hovertext": "player= B. Schweinsteiger\n time= 43m30s\n subEventName= Simple pass\n result= success",
          "showarrow": true,
          "x": 63.6,
          "xref": "x",
          "y": 21.6,
          "yref": "y"
         },
         {
          "arrowcolor": "#ff7f0e",
          "arrowhead": 4,
          "arrowsize": 2,
          "ax": 63.6,
          "axref": "x",
          "ay": 21.6,
          "ayref": "y",
          "captureevents": true,
          "hovertext": "player= J. Boateng\n time= 43m33s\n subEventName= High pass\n result= success",
          "showarrow": true,
          "x": 100.8,
          "xref": "x",
          "y": 4.0000000000000036,
          "yref": "y"
         },
         {
          "arrowcolor": "#1f77b4",
          "arrowhead": 4,
          "arrowsize": 2,
          "ax": 100.8,
          "axref": "x",
          "ay": 4.0000000000000036,
          "ayref": "y",
          "captureevents": true,
          "hovertext": "player= J. Kimmich\n time= 43m36s\n subEventName= Simple pass\n result= success",
          "showarrow": true,
          "x": 115.2,
          "xref": "x",
          "y": 13.600000000000003,
          "yref": "y"
         },
         {
          "arrowcolor": "#9467bd",
          "arrowhead": 4,
          "arrowsize": 2,
          "ax": 115.2,
          "axref": "x",
          "ay": 13.600000000000003,
          "ayref": "y",
          "captureevents": true,
          "hovertext": "player= T. Müller\n time= 43m38s\n subEventName= Cross\n result= failure",
          "showarrow": true,
          "x": 120,
          "xref": "x",
          "y": 21.6,
          "yref": "y"
         }
        ],
        "autosize": true,
        "height": 800,
        "legend": {
         "font": {
          "color": "white"
         }
        },
        "margin": {
         "b": 10,
         "l": 10,
         "r": 10,
         "t": 20
        },
        "paper_bgcolor": "rgb(20,29,38)",
        "plot_bgcolor": "rgb(20,29,38)",
        "shapes": [
         {
          "line": {
           "color": "white",
           "width": 2.5
          },
          "type": "circle",
          "x0": 48,
          "x1": 72,
          "xref": "x",
          "y0": 28,
          "y1": 52,
          "yref": "y"
         },
         {
          "line": {
           "color": "white",
           "width": 2.5
          },
          "type": "circle",
          "x0": 48,
          "x1": 72,
          "xref": "x2",
          "y0": 28,
          "y1": 52,
          "yref": "y2"
         },
         {
          "line": {
           "color": "white",
           "width": 2.5
          },
          "type": "circle",
          "x0": 48,
          "x1": 72,
          "xref": "x3",
          "y0": 28,
          "y1": 52,
          "yref": "y3"
         },
         {
          "line": {
           "color": "white",
           "width": 2.5
          },
          "type": "circle",
          "x0": 48,
          "x1": 72,
          "xref": "x4",
          "y0": 28,
          "y1": 52,
          "yref": "y4"
         }
        ],
        "template": {
         "data": {
          "bar": [
           {
            "error_x": {
             "color": "#2a3f5f"
            },
            "error_y": {
             "color": "#2a3f5f"
            },
            "marker": {
             "line": {
              "color": "#E5ECF6",
              "width": 0.5
             }
            },
            "type": "bar"
           }
          ],
          "barpolar": [
           {
            "marker": {
             "line": {
              "color": "#E5ECF6",
              "width": 0.5
             }
            },
            "type": "barpolar"
           }
          ],
          "carpet": [
           {
            "aaxis": {
             "endlinecolor": "#2a3f5f",
             "gridcolor": "white",
             "linecolor": "white",
             "minorgridcolor": "white",
             "startlinecolor": "#2a3f5f"
            },
            "baxis": {
             "endlinecolor": "#2a3f5f",
             "gridcolor": "white",
             "linecolor": "white",
             "minorgridcolor": "white",
             "startlinecolor": "#2a3f5f"
            },
            "type": "carpet"
           }
          ],
          "choropleth": [
           {
            "colorbar": {
             "outlinewidth": 0,
             "ticks": ""
            },
            "type": "choropleth"
           }
          ],
          "contour": [
           {
            "colorbar": {
             "outlinewidth": 0,
             "ticks": ""
            },
            "colorscale": [
             [
              0,
              "#0d0887"
             ],
             [
              0.1111111111111111,
              "#46039f"
             ],
             [
              0.2222222222222222,
              "#7201a8"
             ],
             [
              0.3333333333333333,
              "#9c179e"
             ],
             [
              0.4444444444444444,
              "#bd3786"
             ],
             [
              0.5555555555555556,
              "#d8576b"
             ],
             [
              0.6666666666666666,
              "#ed7953"
             ],
             [
              0.7777777777777778,
              "#fb9f3a"
             ],
             [
              0.8888888888888888,
              "#fdca26"
             ],
             [
              1,
              "#f0f921"
             ]
            ],
            "type": "contour"
           }
          ],
          "contourcarpet": [
           {
            "colorbar": {
             "outlinewidth": 0,
             "ticks": ""
            },
            "type": "contourcarpet"
           }
          ],
          "heatmap": [
           {
            "colorbar": {
             "outlinewidth": 0,
             "ticks": ""
            },
            "colorscale": [
             [
              0,
              "#0d0887"
             ],
             [
              0.1111111111111111,
              "#46039f"
             ],
             [
              0.2222222222222222,
              "#7201a8"
             ],
             [
              0.3333333333333333,
              "#9c179e"
             ],
             [
              0.4444444444444444,
              "#bd3786"
             ],
             [
              0.5555555555555556,
              "#d8576b"
             ],
             [
              0.6666666666666666,
              "#ed7953"
             ],
             [
              0.7777777777777778,
              "#fb9f3a"
             ],
             [
              0.8888888888888888,
              "#fdca26"
             ],
             [
              1,
              "#f0f921"
             ]
            ],
            "type": "heatmap"
           }
          ],
          "heatmapgl": [
           {
            "colorbar": {
             "outlinewidth": 0,
             "ticks": ""
            },
            "colorscale": [
             [
              0,
              "#0d0887"
             ],
             [
              0.1111111111111111,
              "#46039f"
             ],
             [
              0.2222222222222222,
              "#7201a8"
             ],
             [
              0.3333333333333333,
              "#9c179e"
             ],
             [
              0.4444444444444444,
              "#bd3786"
             ],
             [
              0.5555555555555556,
              "#d8576b"
             ],
             [
              0.6666666666666666,
              "#ed7953"
             ],
             [
              0.7777777777777778,
              "#fb9f3a"
             ],
             [
              0.8888888888888888,
              "#fdca26"
             ],
             [
              1,
              "#f0f921"
             ]
            ],
            "type": "heatmapgl"
           }
          ],
          "histogram": [
           {
            "marker": {
             "colorbar": {
              "outlinewidth": 0,
              "ticks": ""
             }
            },
            "type": "histogram"
           }
          ],
          "histogram2d": [
           {
            "colorbar": {
             "outlinewidth": 0,
             "ticks": ""
            },
            "colorscale": [
             [
              0,
              "#0d0887"
             ],
             [
              0.1111111111111111,
              "#46039f"
             ],
             [
              0.2222222222222222,
              "#7201a8"
             ],
             [
              0.3333333333333333,
              "#9c179e"
             ],
             [
              0.4444444444444444,
              "#bd3786"
             ],
             [
              0.5555555555555556,
              "#d8576b"
             ],
             [
              0.6666666666666666,
              "#ed7953"
             ],
             [
              0.7777777777777778,
              "#fb9f3a"
             ],
             [
              0.8888888888888888,
              "#fdca26"
             ],
             [
              1,
              "#f0f921"
             ]
            ],
            "type": "histogram2d"
           }
          ],
          "histogram2dcontour": [
           {
            "colorbar": {
             "outlinewidth": 0,
             "ticks": ""
            },
            "colorscale": [
             [
              0,
              "#0d0887"
             ],
             [
              0.1111111111111111,
              "#46039f"
             ],
             [
              0.2222222222222222,
              "#7201a8"
             ],
             [
              0.3333333333333333,
              "#9c179e"
             ],
             [
              0.4444444444444444,
              "#bd3786"
             ],
             [
              0.5555555555555556,
              "#d8576b"
             ],
             [
              0.6666666666666666,
              "#ed7953"
             ],
             [
              0.7777777777777778,
              "#fb9f3a"
             ],
             [
              0.8888888888888888,
              "#fdca26"
             ],
             [
              1,
              "#f0f921"
             ]
            ],
            "type": "histogram2dcontour"
           }
          ],
          "mesh3d": [
           {
            "colorbar": {
             "outlinewidth": 0,
             "ticks": ""
            },
            "type": "mesh3d"
           }
          ],
          "parcoords": [
           {
            "line": {
             "colorbar": {
              "outlinewidth": 0,
              "ticks": ""
             }
            },
            "type": "parcoords"
           }
          ],
          "scatter": [
           {
            "marker": {
             "colorbar": {
              "outlinewidth": 0,
              "ticks": ""
             }
            },
            "type": "scatter"
           }
          ],
          "scatter3d": [
           {
            "line": {
             "colorbar": {
              "outlinewidth": 0,
              "ticks": ""
             }
            },
            "marker": {
             "colorbar": {
              "outlinewidth": 0,
              "ticks": ""
             }
            },
            "type": "scatter3d"
           }
          ],
          "scattercarpet": [
           {
            "marker": {
             "colorbar": {
              "outlinewidth": 0,
              "ticks": ""
             }
            },
            "type": "scattercarpet"
           }
          ],
          "scattergeo": [
           {
            "marker": {
             "colorbar": {
              "outlinewidth": 0,
              "ticks": ""
             }
            },
            "type": "scattergeo"
           }
          ],
          "scattergl": [
           {
            "marker": {
             "colorbar": {
              "outlinewidth": 0,
              "ticks": ""
             }
            },
            "type": "scattergl"
           }
          ],
          "scattermapbox": [
           {
            "marker": {
             "colorbar": {
              "outlinewidth": 0,
              "ticks": ""
             }
            },
            "type": "scattermapbox"
           }
          ],
          "scatterpolar": [
           {
            "marker": {
             "colorbar": {
              "outlinewidth": 0,
              "ticks": ""
             }
            },
            "type": "scatterpolar"
           }
          ],
          "scatterpolargl": [
           {
            "marker": {
             "colorbar": {
              "outlinewidth": 0,
              "ticks": ""
             }
            },
            "type": "scatterpolargl"
           }
          ],
          "scatterternary": [
           {
            "marker": {
             "colorbar": {
              "outlinewidth": 0,
              "ticks": ""
             }
            },
            "type": "scatterternary"
           }
          ],
          "surface": [
           {
            "colorbar": {
             "outlinewidth": 0,
             "ticks": ""
            },
            "colorscale": [
             [
              0,
              "#0d0887"
             ],
             [
              0.1111111111111111,
              "#46039f"
             ],
             [
              0.2222222222222222,
              "#7201a8"
             ],
             [
              0.3333333333333333,
              "#9c179e"
             ],
             [
              0.4444444444444444,
              "#bd3786"
             ],
             [
              0.5555555555555556,
              "#d8576b"
             ],
             [
              0.6666666666666666,
              "#ed7953"
             ],
             [
              0.7777777777777778,
              "#fb9f3a"
             ],
             [
              0.8888888888888888,
              "#fdca26"
             ],
             [
              1,
              "#f0f921"
             ]
            ],
            "type": "surface"
           }
          ],
          "table": [
           {
            "cells": {
             "fill": {
              "color": "#EBF0F8"
             },
             "line": {
              "color": "white"
             }
            },
            "header": {
             "fill": {
              "color": "#C8D4E3"
             },
             "line": {
              "color": "white"
             }
            },
            "type": "table"
           }
          ]
         },
         "layout": {
          "annotationdefaults": {
           "arrowcolor": "#2a3f5f",
           "arrowhead": 0,
           "arrowwidth": 1
          },
          "colorscale": {
           "diverging": [
            [
             0,
             "#8e0152"
            ],
            [
             0.1,
             "#c51b7d"
            ],
            [
             0.2,
             "#de77ae"
            ],
            [
             0.3,
             "#f1b6da"
            ],
            [
             0.4,
             "#fde0ef"
            ],
            [
             0.5,
             "#f7f7f7"
            ],
            [
             0.6,
             "#e6f5d0"
            ],
            [
             0.7,
             "#b8e186"
            ],
            [
             0.8,
             "#7fbc41"
            ],
            [
             0.9,
             "#4d9221"
            ],
            [
             1,
             "#276419"
            ]
           ],
           "sequential": [
            [
             0,
             "#0d0887"
            ],
            [
             0.1111111111111111,
             "#46039f"
            ],
            [
             0.2222222222222222,
             "#7201a8"
            ],
            [
             0.3333333333333333,
             "#9c179e"
            ],
            [
             0.4444444444444444,
             "#bd3786"
            ],
            [
             0.5555555555555556,
             "#d8576b"
            ],
            [
             0.6666666666666666,
             "#ed7953"
            ],
            [
             0.7777777777777778,
             "#fb9f3a"
            ],
            [
             0.8888888888888888,
             "#fdca26"
            ],
            [
             1,
             "#f0f921"
            ]
           ],
           "sequentialminus": [
            [
             0,
             "#0d0887"
            ],
            [
             0.1111111111111111,
             "#46039f"
            ],
            [
             0.2222222222222222,
             "#7201a8"
            ],
            [
             0.3333333333333333,
             "#9c179e"
            ],
            [
             0.4444444444444444,
             "#bd3786"
            ],
            [
             0.5555555555555556,
             "#d8576b"
            ],
            [
             0.6666666666666666,
             "#ed7953"
            ],
            [
             0.7777777777777778,
             "#fb9f3a"
            ],
            [
             0.8888888888888888,
             "#fdca26"
            ],
            [
             1,
             "#f0f921"
            ]
           ]
          },
          "colorway": [
           "#636efa",
           "#EF553B",
           "#00cc96",
           "#ab63fa",
           "#FFA15A",
           "#19d3f3",
           "#FF6692",
           "#B6E880",
           "#FF97FF",
           "#FECB52"
          ],
          "font": {
           "color": "#2a3f5f"
          },
          "geo": {
           "bgcolor": "white",
           "lakecolor": "white",
           "landcolor": "#E5ECF6",
           "showlakes": true,
           "showland": true,
           "subunitcolor": "white"
          },
          "hoverlabel": {
           "align": "left"
          },
          "hovermode": "closest",
          "mapbox": {
           "style": "light"
          },
          "paper_bgcolor": "white",
          "plot_bgcolor": "#E5ECF6",
          "polar": {
           "angularaxis": {
            "gridcolor": "white",
            "linecolor": "white",
            "ticks": ""
           },
           "bgcolor": "#E5ECF6",
           "radialaxis": {
            "gridcolor": "white",
            "linecolor": "white",
            "ticks": ""
           }
          },
          "scene": {
           "xaxis": {
            "backgroundcolor": "#E5ECF6",
            "gridcolor": "white",
            "gridwidth": 2,
            "linecolor": "white",
            "showbackground": true,
            "ticks": "",
            "zerolinecolor": "white"
           },
           "yaxis": {
            "backgroundcolor": "#E5ECF6",
            "gridcolor": "white",
            "gridwidth": 2,
            "linecolor": "white",
            "showbackground": true,
            "ticks": "",
            "zerolinecolor": "white"
           },
           "zaxis": {
            "backgroundcolor": "#E5ECF6",
            "gridcolor": "white",
            "gridwidth": 2,
            "linecolor": "white",
            "showbackground": true,
            "ticks": "",
            "zerolinecolor": "white"
           }
          },
          "shapedefaults": {
           "line": {
            "color": "#2a3f5f"
           }
          },
          "ternary": {
           "aaxis": {
            "gridcolor": "white",
            "linecolor": "white",
            "ticks": ""
           },
           "baxis": {
            "gridcolor": "white",
            "linecolor": "white",
            "ticks": ""
           },
           "bgcolor": "#E5ECF6",
           "caxis": {
            "gridcolor": "white",
            "linecolor": "white",
            "ticks": ""
           }
          },
          "title": {
           "x": 0.05
          },
          "xaxis": {
           "automargin": true,
           "gridcolor": "white",
           "linecolor": "white",
           "ticks": "",
           "zerolinecolor": "white",
           "zerolinewidth": 2
          },
          "yaxis": {
           "automargin": true,
           "gridcolor": "white",
           "linecolor": "white",
           "ticks": "",
           "zerolinecolor": "white",
           "zerolinewidth": 2
          }
         }
        },
        "width": 1200,
        "xaxis": {
         "anchor": "y",
         "domain": [
          0,
          0.475
         ],
         "range": [
          -1,
          121
         ],
         "type": "linear",
         "visible": false
        },
        "xaxis2": {
         "anchor": "y2",
         "domain": [
          0.525,
          1
         ],
         "range": [
          -1,
          121
         ],
         "type": "linear",
         "visible": false
        },
        "xaxis3": {
         "anchor": "y3",
         "domain": [
          0,
          0.475
         ],
         "range": [
          -1,
          121
         ],
         "type": "linear",
         "visible": false
        },
        "xaxis4": {
         "anchor": "y4",
         "domain": [
          0.525,
          1
         ],
         "range": [
          -1,
          121
         ],
         "type": "linear",
         "visible": false
        },
        "yaxis": {
         "anchor": "x",
         "domain": [
          0.525,
          1
         ],
         "range": [
          -1,
          81
         ],
         "type": "linear",
         "visible": false
        },
        "yaxis2": {
         "anchor": "x2",
         "domain": [
          0.525,
          1
         ],
         "range": [
          -1,
          81
         ],
         "type": "linear",
         "visible": false
        },
        "yaxis3": {
         "anchor": "x3",
         "domain": [
          0,
          0.475
         ],
         "range": [
          -1,
          81
         ],
         "type": "linear",
         "visible": false
        },
        "yaxis4": {
         "anchor": "x4",
         "domain": [
          0,
          0.475
         ],
         "range": [
          -1,
          81
         ],
         "type": "linear",
         "visible": false
        }
       }
      },
      "image/png": "[encoded data removed]",
      "text/html": [
       "<div>\n",
       "        \n",
       "        \n",
       "            <div id=\"71504991-81d0-4a9c-a074-3b310340c67b\" class=\"plotly-graph-div\" style=\"height:800px; width:1200px;\"></div>\n",
       "            <script type=\"text/javascript\">\n",
       "                require([\"plotly\"], function(Plotly) {\n",
       "                    window.PLOTLYENV=window.PLOTLYENV || {};\n",
       "                    \n",
       "                if (document.getElementById(\"71504991-81d0-4a9c-a074-3b310340c67b\")) {\n",
       "                    Plotly.newPlot(\n",
       "                        '71504991-81d0-4a9c-a074-3b310340c67b',\n",
       "                        [{\"hoverinfo\": \"none\", \"line\": {\"color\": \"white\", \"width\": 2.5}, \"mode\": \"lines\", \"showlegend\": false, \"type\": \"scatter\", \"x\": [0, 120], \"xaxis\": \"x\", \"y\": [0, 0], \"yaxis\": \"y\"}, {\"hoverinfo\": \"none\", \"line\": {\"color\": \"white\", \"width\": 2.5}, \"mode\": \"lines\", \"showlegend\": false, \"type\": \"scatter\", \"x\": [120, 120], \"xaxis\": \"x\", \"y\": [0, 80], \"yaxis\": \"y\"}, {\"hoverinfo\": \"none\", \"line\": {\"color\": \"white\", \"width\": 2.5}, \"mode\": \"lines\", \"showlegend\": false, \"type\": \"scatter\", \"x\": [120, 0], \"xaxis\": \"x\", \"y\": [80, 80], \"yaxis\": \"y\"}, {\"hoverinfo\": \"none\", \"line\": {\"color\": \"white\", \"width\": 2.5}, \"mode\": \"lines\", \"showlegend\": false, \"type\": \"scatter\", \"x\": [0, 0], \"xaxis\": \"x\", \"y\": [80, 0], \"yaxis\": \"y\"}, {\"hoverinfo\": \"none\", \"line\": {\"color\": \"white\", \"width\": 2.5}, \"mode\": \"lines\", \"showlegend\": false, \"type\": \"scatter\", \"x\": [60, 60], \"xaxis\": \"x\", \"y\": [0, 80], \"yaxis\": \"y\"}, {\"hoverinfo\": \"none\", \"line\": {\"color\": \"white\", \"width\": 2.5}, \"mode\": \"lines\", \"showlegend\": false, \"type\": \"scatter\", \"x\": [0, 18], \"xaxis\": \"x\", \"y\": [18, 18], \"yaxis\": \"y\"}, {\"hoverinfo\": \"none\", \"line\": {\"color\": \"white\", \"width\": 2.5}, \"mode\": \"lines\", \"showlegend\": false, \"type\": \"scatter\", \"x\": [18, 18], \"xaxis\": \"x\", \"y\": [18, 62], \"yaxis\": \"y\"}, {\"hoverinfo\": \"none\", \"line\": {\"color\": \"white\", \"width\": 2.5}, \"mode\": \"lines\", \"showlegend\": false, \"type\": \"scatter\", \"x\": [18, 0], \"xaxis\": \"x\", \"y\": [62, 62], \"yaxis\": \"y\"}, {\"hoverinfo\": \"none\", \"line\": {\"color\": \"white\", \"width\": 2.5}, \"mode\": \"lines\", \"showlegend\": false, \"type\": \"scatter\", \"x\": [0, 6], \"xaxis\": \"x\", \"y\": [30, 30], \"yaxis\": \"y\"}, {\"hoverinfo\": \"none\", \"line\": {\"color\": \"white\", \"width\": 2.5}, \"mode\": \"lines\", \"showlegend\": false, \"type\": \"scatter\", \"x\": [6, 6], \"xaxis\": \"x\", \"y\": [30, 50], \"yaxis\": \"y\"}, {\"hoverinfo\": \"none\", \"line\": {\"color\": \"white\", \"width\": 2.5}, \"mode\": \"lines\", \"showlegend\": false, \"type\": \"scatter\", \"x\": [6, 0], \"xaxis\": \"x\", \"y\": [50, 50], \"yaxis\": \"y\"}, {\"hoverinfo\": \"none\", \"line\": {\"color\": \"white\", \"width\": 2.5}, \"mode\": \"lines\", \"showlegend\": false, \"type\": \"scatter\", \"x\": [120, 102], \"xaxis\": \"x\", \"y\": [18, 18], \"yaxis\": \"y\"}, {\"hoverinfo\": \"none\", \"line\": {\"color\": \"white\", \"width\": 2.5}, \"mode\": \"lines\", \"showlegend\": false, \"type\": \"scatter\", \"x\": [102, 102], \"xaxis\": \"x\", \"y\": [18, 62], \"yaxis\": \"y\"}, {\"hoverinfo\": \"none\", \"line\": {\"color\": \"white\", \"width\": 2.5}, \"mode\": \"lines\", \"showlegend\": false, \"type\": \"scatter\", \"x\": [102, 120], \"xaxis\": \"x\", \"y\": [62, 62], \"yaxis\": \"y\"}, {\"hoverinfo\": \"none\", \"line\": {\"color\": \"white\", \"width\": 2.5}, \"mode\": \"lines\", \"showlegend\": false, \"type\": \"scatter\", \"x\": [120, 114], \"xaxis\": \"x\", \"y\": [30, 30], \"yaxis\": \"y\"}, {\"hoverinfo\": \"none\", \"line\": {\"color\": \"white\", \"width\": 2.5}, \"mode\": \"lines\", \"showlegend\": false, \"type\": \"scatter\", \"x\": [114, 114], \"xaxis\": \"x\", \"y\": [30, 50], \"yaxis\": \"y\"}, {\"hoverinfo\": \"none\", \"line\": {\"color\": \"white\", \"width\": 2.5}, \"mode\": \"lines\", \"showlegend\": false, \"type\": \"scatter\", \"x\": [114, 120], \"xaxis\": \"x\", \"y\": [50, 50], \"yaxis\": \"y\"}, {\"hoverinfo\": \"none\", \"line\": {\"color\": \"white\", \"width\": 12.5}, \"mode\": \"lines\", \"showlegend\": false, \"type\": \"scatter\", \"x\": [0, 0], \"xaxis\": \"x\", \"y\": [36, 44], \"yaxis\": \"y\"}, {\"hoverinfo\": \"none\", \"line\": {\"color\": \"white\", \"width\": 12.5}, \"mode\": \"lines\", \"showlegend\": false, \"type\": \"scatter\", \"x\": [120, 120], \"xaxis\": \"x\", \"y\": [36, 44], \"yaxis\": \"y\"}, {\"hoverinfo\": \"none\", \"line\": {\"color\": \"white\", \"width\": 2.5}, \"mode\": \"lines\", \"showlegend\": false, \"type\": \"scatter\", \"x\": [0, 120], \"xaxis\": \"x2\", \"y\": [0, 0], \"yaxis\": \"y2\"}, {\"hoverinfo\": \"none\", \"line\": {\"color\": \"white\", \"width\": 2.5}, \"mode\": \"lines\", \"showlegend\": false, \"type\": \"scatter\", \"x\": [120, 120], \"xaxis\": \"x2\", \"y\": [0, 80], \"yaxis\": \"y2\"}, {\"hoverinfo\": \"none\", \"line\": {\"color\": \"white\", \"width\": 2.5}, \"mode\": \"lines\", \"showlegend\": false, \"type\": \"scatter\", \"x\": [120, 0], \"xaxis\": \"x2\", \"y\": [80, 80], \"yaxis\": \"y2\"}, {\"hoverinfo\": \"none\", \"line\": {\"color\": \"white\", \"width\": 2.5}, \"mode\": \"lines\", \"showlegend\": false, \"type\": \"scatter\", \"x\": [0, 0], \"xaxis\": \"x2\", \"y\": [80, 0], \"yaxis\": \"y2\"}, {\"hoverinfo\": \"none\", \"line\": {\"color\": \"white\", \"width\": 2.5}, \"mode\": \"lines\", \"showlegend\": false, \"type\": \"scatter\", \"x\": [60, 60], \"xaxis\": \"x2\", \"y\": [0, 80], \"yaxis\": \"y2\"}, {\"hoverinfo\": \"none\", \"line\": {\"color\": \"white\", \"width\": 2.5}, \"mode\": \"lines\", \"showlegend\": false, \"type\": \"scatter\", \"x\": [0, 18], \"xaxis\": \"x2\", \"y\": [18, 18], \"yaxis\": \"y2\"}, {\"hoverinfo\": \"none\", \"line\": {\"color\": \"white\", \"width\": 2.5}, \"mode\": \"lines\", \"showlegend\": false, \"type\": \"scatter\", \"x\": [18, 18], \"xaxis\": \"x2\", \"y\": [18, 62], \"yaxis\": \"y2\"}, {\"hoverinfo\": \"none\", \"line\": {\"color\": \"white\", \"width\": 2.5}, \"mode\": \"lines\", \"showlegend\": false, \"type\": \"scatter\", \"x\": [18, 0], \"xaxis\": \"x2\", \"y\": [62, 62], \"yaxis\": \"y2\"}, {\"hoverinfo\": \"none\", \"line\": {\"color\": \"white\", \"width\": 2.5}, \"mode\": \"lines\", \"showlegend\": false, \"type\": \"scatter\", \"x\": [0, 6], \"xaxis\": \"x2\", \"y\": [30, 30], \"yaxis\": \"y2\"}, {\"hoverinfo\": \"none\", \"line\": {\"color\": \"white\", \"width\": 2.5}, \"mode\": \"lines\", \"showlegend\": false, \"type\": \"scatter\", \"x\": [6, 6], \"xaxis\": \"x2\", \"y\": [30, 50], \"yaxis\": \"y2\"}, {\"hoverinfo\": \"none\", \"line\": {\"color\": \"white\", \"width\": 2.5}, \"mode\": \"lines\", \"showlegend\": false, \"type\": \"scatter\", \"x\": [6, 0], \"xaxis\": \"x2\", \"y\": [50, 50], \"yaxis\": \"y2\"}, {\"hoverinfo\": \"none\", \"line\": {\"color\": \"white\", \"width\": 2.5}, \"mode\": \"lines\", \"showlegend\": false, \"type\": \"scatter\", \"x\": [120, 102], \"xaxis\": \"x2\", \"y\": [18, 18], \"yaxis\": \"y2\"}, {\"hoverinfo\": \"none\", \"line\": {\"color\": \"white\", \"width\": 2.5}, \"mode\": \"lines\", \"showlegend\": false, \"type\": \"scatter\", \"x\": [102, 102], \"xaxis\": \"x2\", \"y\": [18, 62], \"yaxis\": \"y2\"}, {\"hoverinfo\": \"none\", \"line\": {\"color\": \"white\", \"width\": 2.5}, \"mode\": \"lines\", \"showlegend\": false, \"type\": \"scatter\", \"x\": [102, 120], \"xaxis\": \"x2\", \"y\": [62, 62], \"yaxis\": \"y2\"}, {\"hoverinfo\": \"none\", \"line\": {\"color\": \"white\", \"width\": 2.5}, \"mode\": \"lines\", \"showlegend\": false, \"type\": \"scatter\", \"x\": [120, 114], \"xaxis\": \"x2\", \"y\": [30, 30], \"yaxis\": \"y2\"}, {\"hoverinfo\": \"none\", \"line\": {\"color\": \"white\", \"width\": 2.5}, \"mode\": \"lines\", \"showlegend\": false, \"type\": \"scatter\", \"x\": [114, 114], \"xaxis\": \"x2\", \"y\": [30, 50], \"yaxis\": \"y2\"}, {\"hoverinfo\": \"none\", \"line\": {\"color\": \"white\", \"width\": 2.5}, \"mode\": \"lines\", \"showlegend\": false, \"type\": \"scatter\", \"x\": [114, 120], \"xaxis\": \"x2\", \"y\": [50, 50], \"yaxis\": \"y2\"}, {\"hoverinfo\": \"none\", \"line\": {\"color\": \"white\", \"width\": 12.5}, \"mode\": \"lines\", \"showlegend\": false, \"type\": \"scatter\", \"x\": [0, 0], \"xaxis\": \"x2\", \"y\": [36, 44], \"yaxis\": \"y2\"}, {\"hoverinfo\": \"none\", \"line\": {\"color\": \"white\", \"width\": 12.5}, \"mode\": \"lines\", \"showlegend\": false, \"type\": \"scatter\", \"x\": [120, 120], \"xaxis\": \"x2\", \"y\": [36, 44], \"yaxis\": \"y2\"}, {\"hoverinfo\": \"none\", \"line\": {\"color\": \"white\", \"width\": 2.5}, \"mode\": \"lines\", \"showlegend\": false, \"type\": \"scatter\", \"x\": [0, 120], \"xaxis\": \"x3\", \"y\": [0, 0], \"yaxis\": \"y3\"}, {\"hoverinfo\": \"none\", \"line\": {\"color\": \"white\", \"width\": 2.5}, \"mode\": \"lines\", \"showlegend\": false, \"type\": \"scatter\", \"x\": [120, 120], \"xaxis\": \"x3\", \"y\": [0, 80], \"yaxis\": \"y3\"}, {\"hoverinfo\": \"none\", \"line\": {\"color\": \"white\", \"width\": 2.5}, \"mode\": \"lines\", \"showlegend\": false, \"type\": \"scatter\", \"x\": [120, 0], \"xaxis\": \"x3\", \"y\": [80, 80], \"yaxis\": \"y3\"}, {\"hoverinfo\": \"none\", \"line\": {\"color\": \"white\", \"width\": 2.5}, \"mode\": \"lines\", \"showlegend\": false, \"type\": \"scatter\", \"x\": [0, 0], \"xaxis\": \"x3\", \"y\": [80, 0], \"yaxis\": \"y3\"}, {\"hoverinfo\": \"none\", \"line\": {\"color\": \"white\", \"width\": 2.5}, \"mode\": \"lines\", \"showlegend\": false, \"type\": \"scatter\", \"x\": [60, 60], \"xaxis\": \"x3\", \"y\": [0, 80], \"yaxis\": \"y3\"}, {\"hoverinfo\": \"none\", \"line\": {\"color\": \"white\", \"width\": 2.5}, \"mode\": \"lines\", \"showlegend\": false, \"type\": \"scatter\", \"x\": [0, 18], \"xaxis\": \"x3\", \"y\": [18, 18], \"yaxis\": \"y3\"}, {\"hoverinfo\": \"none\", \"line\": {\"color\": \"white\", \"width\": 2.5}, \"mode\": \"lines\", \"showlegend\": false, \"type\": \"scatter\", \"x\": [18, 18], \"xaxis\": \"x3\", \"y\": [18, 62], \"yaxis\": \"y3\"}, {\"hoverinfo\": \"none\", \"line\": {\"color\": \"white\", \"width\": 2.5}, \"mode\": \"lines\", \"showlegend\": false, \"type\": \"scatter\", \"x\": [18, 0], \"xaxis\": \"x3\", \"y\": [62, 62], \"yaxis\": \"y3\"}, {\"hoverinfo\": \"none\", \"line\": {\"color\": \"white\", \"width\": 2.5}, \"mode\": \"lines\", \"showlegend\": false, \"type\": \"scatter\", \"x\": [0, 6], \"xaxis\": \"x3\", \"y\": [30, 30], \"yaxis\": \"y3\"}, {\"hoverinfo\": \"none\", \"line\": {\"color\": \"white\", \"width\": 2.5}, \"mode\": \"lines\", \"showlegend\": false, \"type\": \"scatter\", \"x\": [6, 6], \"xaxis\": \"x3\", \"y\": [30, 50], \"yaxis\": \"y3\"}, {\"hoverinfo\": \"none\", \"line\": {\"color\": \"white\", \"width\": 2.5}, \"mode\": \"lines\", \"showlegend\": false, \"type\": \"scatter\", \"x\": [6, 0], \"xaxis\": \"x3\", \"y\": [50, 50], \"yaxis\": \"y3\"}, {\"hoverinfo\": \"none\", \"line\": {\"color\": \"white\", \"width\": 2.5}, \"mode\": \"lines\", \"showlegend\": false, \"type\": \"scatter\", \"x\": [120, 102], \"xaxis\": \"x3\", \"y\": [18, 18], \"yaxis\": \"y3\"}, {\"hoverinfo\": \"none\", \"line\": {\"color\": \"white\", \"width\": 2.5}, \"mode\": \"lines\", \"showlegend\": false, \"type\": \"scatter\", \"x\": [102, 102], \"xaxis\": \"x3\", \"y\": [18, 62], \"yaxis\": \"y3\"}, {\"hoverinfo\": \"none\", \"line\": {\"color\": \"white\", \"width\": 2.5}, \"mode\": \"lines\", \"showlegend\": false, \"type\": \"scatter\", \"x\": [102, 120], \"xaxis\": \"x3\", \"y\": [62, 62], \"yaxis\": \"y3\"}, {\"hoverinfo\": \"none\", \"line\": {\"color\": \"white\", \"width\": 2.5}, \"mode\": \"lines\", \"showlegend\": false, \"type\": \"scatter\", \"x\": [120, 114], \"xaxis\": \"x3\", \"y\": [30, 30], \"yaxis\": \"y3\"}, {\"hoverinfo\": \"none\", \"line\": {\"color\": \"white\", \"width\": 2.5}, \"mode\": \"lines\", \"showlegend\": false, \"type\": \"scatter\", \"x\": [114, 114], \"xaxis\": \"x3\", \"y\": [30, 50], \"yaxis\": \"y3\"}, {\"hoverinfo\": \"none\", \"line\": {\"color\": \"white\", \"width\": 2.5}, \"mode\": \"lines\", \"showlegend\": false, \"type\": \"scatter\", \"x\": [114, 120], \"xaxis\": \"x3\", \"y\": [50, 50], \"yaxis\": \"y3\"}, {\"hoverinfo\": \"none\", \"line\": {\"color\": \"white\", \"width\": 12.5}, \"mode\": \"lines\", \"showlegend\": false, \"type\": \"scatter\", \"x\": [0, 0], \"xaxis\": \"x3\", \"y\": [36, 44], \"yaxis\": \"y3\"}, {\"hoverinfo\": \"none\", \"line\": {\"color\": \"white\", \"width\": 12.5}, \"mode\": \"lines\", \"showlegend\": false, \"type\": \"scatter\", \"x\": [120, 120], \"xaxis\": \"x3\", \"y\": [36, 44], \"yaxis\": \"y3\"}, {\"hoverinfo\": \"none\", \"line\": {\"color\": \"white\", \"width\": 2.5}, \"mode\": \"lines\", \"showlegend\": false, \"type\": \"scatter\", \"x\": [0, 120], \"xaxis\": \"x4\", \"y\": [0, 0], \"yaxis\": \"y4\"}, {\"hoverinfo\": \"none\", \"line\": {\"color\": \"white\", \"width\": 2.5}, \"mode\": \"lines\", \"showlegend\": false, \"type\": \"scatter\", \"x\": [120, 120], \"xaxis\": \"x4\", \"y\": [0, 80], \"yaxis\": \"y4\"}, {\"hoverinfo\": \"none\", \"line\": {\"color\": \"white\", \"width\": 2.5}, \"mode\": \"lines\", \"showlegend\": false, \"type\": \"scatter\", \"x\": [120, 0], \"xaxis\": \"x4\", \"y\": [80, 80], \"yaxis\": \"y4\"}, {\"hoverinfo\": \"none\", \"line\": {\"color\": \"white\", \"width\": 2.5}, \"mode\": \"lines\", \"showlegend\": false, \"type\": \"scatter\", \"x\": [0, 0], \"xaxis\": \"x4\", \"y\": [80, 0], \"yaxis\": \"y4\"}, {\"hoverinfo\": \"none\", \"line\": {\"color\": \"white\", \"width\": 2.5}, \"mode\": \"lines\", \"showlegend\": false, \"type\": \"scatter\", \"x\": [60, 60], \"xaxis\": \"x4\", \"y\": [0, 80], \"yaxis\": \"y4\"}, {\"hoverinfo\": \"none\", \"line\": {\"color\": \"white\", \"width\": 2.5}, \"mode\": \"lines\", \"showlegend\": false, \"type\": \"scatter\", \"x\": [0, 18], \"xaxis\": \"x4\", \"y\": [18, 18], \"yaxis\": \"y4\"}, {\"hoverinfo\": \"none\", \"line\": {\"color\": \"white\", \"width\": 2.5}, \"mode\": \"lines\", \"showlegend\": false, \"type\": \"scatter\", \"x\": [18, 18], \"xaxis\": \"x4\", \"y\": [18, 62], \"yaxis\": \"y4\"}, {\"hoverinfo\": \"none\", \"line\": {\"color\": \"white\", \"width\": 2.5}, \"mode\": \"lines\", \"showlegend\": false, \"type\": \"scatter\", \"x\": [18, 0], \"xaxis\": \"x4\", \"y\": [62, 62], \"yaxis\": \"y4\"}, {\"hoverinfo\": \"none\", \"line\": {\"color\": \"white\", \"width\": 2.5}, \"mode\": \"lines\", \"showlegend\": false, \"type\": \"scatter\", \"x\": [0, 6], \"xaxis\": \"x4\", \"y\": [30, 30], \"yaxis\": \"y4\"}, {\"hoverinfo\": \"none\", \"line\": {\"color\": \"white\", \"width\": 2.5}, \"mode\": \"lines\", \"showlegend\": false, \"type\": \"scatter\", \"x\": [6, 6], \"xaxis\": \"x4\", \"y\": [30, 50], \"yaxis\": \"y4\"}, {\"hoverinfo\": \"none\", \"line\": {\"color\": \"white\", \"width\": 2.5}, \"mode\": \"lines\", \"showlegend\": false, \"type\": \"scatter\", \"x\": [6, 0], \"xaxis\": \"x4\", \"y\": [50, 50], \"yaxis\": \"y4\"}, {\"hoverinfo\": \"none\", \"line\": {\"color\": \"white\", \"width\": 2.5}, \"mode\": \"lines\", \"showlegend\": false, \"type\": \"scatter\", \"x\": [120, 102], \"xaxis\": \"x4\", \"y\": [18, 18], \"yaxis\": \"y4\"}, {\"hoverinfo\": \"none\", \"line\": {\"color\": \"white\", \"width\": 2.5}, \"mode\": \"lines\", \"showlegend\": false, \"type\": \"scatter\", \"x\": [102, 102], \"xaxis\": \"x4\", \"y\": [18, 62], \"yaxis\": \"y4\"}, {\"hoverinfo\": \"none\", \"line\": {\"color\": \"white\", \"width\": 2.5}, \"mode\": \"lines\", \"showlegend\": false, \"type\": \"scatter\", \"x\": [102, 120], \"xaxis\": \"x4\", \"y\": [62, 62], \"yaxis\": \"y4\"}, {\"hoverinfo\": \"none\", \"line\": {\"color\": \"white\", \"width\": 2.5}, \"mode\": \"lines\", \"showlegend\": false, \"type\": \"scatter\", \"x\": [120, 114], \"xaxis\": \"x4\", \"y\": [30, 30], \"yaxis\": \"y4\"}, {\"hoverinfo\": \"none\", \"line\": {\"color\": \"white\", \"width\": 2.5}, \"mode\": \"lines\", \"showlegend\": false, \"type\": \"scatter\", \"x\": [114, 114], \"xaxis\": \"x4\", \"y\": [30, 50], \"yaxis\": \"y4\"}, {\"hoverinfo\": \"none\", \"line\": {\"color\": \"white\", \"width\": 2.5}, \"mode\": \"lines\", \"showlegend\": false, \"type\": \"scatter\", \"x\": [114, 120], \"xaxis\": \"x4\", \"y\": [50, 50], \"yaxis\": \"y4\"}, {\"hoverinfo\": \"none\", \"line\": {\"color\": \"white\", \"width\": 12.5}, \"mode\": \"lines\", \"showlegend\": false, \"type\": \"scatter\", \"x\": [0, 0], \"xaxis\": \"x4\", \"y\": [36, 44], \"yaxis\": \"y4\"}, {\"hoverinfo\": \"none\", \"line\": {\"color\": \"white\", \"width\": 12.5}, \"mode\": \"lines\", \"showlegend\": false, \"type\": \"scatter\", \"x\": [120, 120], \"xaxis\": \"x4\", \"y\": [36, 44], \"yaxis\": \"y4\"}],\n",
       "                        {\"annotations\": [{\"font\": {\"color\": \"white\", \"size\": 15}, \"showarrow\": false, \"text\": \"1H Germany\", \"x\": 0.2375, \"xanchor\": \"center\", \"xref\": \"paper\", \"y\": 1.0, \"yanchor\": \"bottom\", \"yref\": \"paper\"}, {\"font\": {\"color\": \"white\", \"size\": 15}, \"showarrow\": false, \"text\": \"2H Germany\", \"x\": 0.7625, \"xanchor\": \"center\", \"xref\": \"paper\", \"y\": 1.0, \"yanchor\": \"bottom\", \"yref\": \"paper\"}, {\"font\": {\"color\": \"white\", \"size\": 15}, \"showarrow\": false, \"text\": \"1H France\", \"x\": 0.2375, \"xanchor\": \"center\", \"xref\": \"paper\", \"y\": 0.475, \"yanchor\": \"bottom\", \"yref\": \"paper\"}, {\"font\": {\"color\": \"white\", \"size\": 15}, \"showarrow\": false, \"text\": \"2H France\", \"x\": 0.7625, \"xanchor\": \"center\", \"xref\": \"paper\", \"y\": 0.475, \"yanchor\": \"bottom\", \"yref\": \"paper\"}, {\"arrowcolor\": \"#1f77b4\", \"arrowhead\": 4, \"arrowsize\": 2, \"ax\": 30.0, \"axref\": \"x\", \"ay\": 48.0, \"ayref\": \"y\", \"captureevents\": true, \"hovertext\": \"player= J. Boateng\\n time= 0m16s\\n subEventName= Simple pass\\n result= success\", \"showarrow\": true, \"x\": 4.8, \"xref\": \"x\", \"y\": 50.4, \"yref\": \"y\"}, {\"arrowcolor\": \"#1f77b4\", \"arrowhead\": 4, \"arrowsize\": 2, \"ax\": 4.8, \"axref\": \"x\", \"ay\": 50.4, \"ayref\": \"y\", \"captureevents\": true, \"hovertext\": \"player= M. Neuer\\n time= 0m18s\\n subEventName= Simple pass\\n result= success\", \"showarrow\": true, \"x\": 15.6, \"xref\": \"x\", \"y\": 56.0, \"yref\": \"y\"}, {\"arrowcolor\": \"#1f77b4\", \"arrowhead\": 4, \"arrowsize\": 2, \"ax\": 15.6, \"axref\": \"x\", \"ay\": 56.0, \"ayref\": \"y\", \"captureevents\": true, \"hovertext\": \"player= B. H\\u00f6wedes\\n time= 0m19s\\n subEventName= Simple pass\\n result= success\", \"showarrow\": true, \"x\": 36.0, \"xref\": \"x\", \"y\": 76.8, \"yref\": \"y\"}, {\"arrowcolor\": \"#1f77b4\", \"arrowhead\": 4, \"arrowsize\": 2, \"ax\": 36.0, \"axref\": \"x\", \"ay\": 76.8, \"ayref\": \"y\", \"captureevents\": true, \"hovertext\": \"player= J. Draxler\\n time= 0m21s\\n subEventName= Simple pass\\n result= failure\", \"showarrow\": true, \"x\": 40.8, \"xref\": \"x\", \"y\": 72.8, \"yref\": \"y\"}, {\"arrowcolor\": \"#1f77b4\", \"arrowhead\": 4, \"arrowsize\": 2, \"ax\": 30.0, \"axref\": \"x\", \"ay\": 76.0, \"ayref\": \"y\", \"captureevents\": true, \"hovertext\": \"player= J. Hector\\n time= 0m24s\\n subEventName= Simple pass\\n result= success\", \"showarrow\": true, \"x\": 50.4, \"xref\": \"x\", \"y\": 78.4, \"yref\": \"y\"}, {\"arrowcolor\": \"#1f77b4\", \"arrowhead\": 4, \"arrowsize\": 2, \"ax\": 50.4, \"axref\": \"x\", \"ay\": 78.4, \"ayref\": \"y\", \"captureevents\": true, \"hovertext\": \"player= J. Draxler\\n time= 0m25s\\n subEventName= Simple pass\\n result= success\", \"showarrow\": true, \"x\": 33.6, \"xref\": \"x\", \"y\": 48.8, \"yref\": \"y\"}, {\"arrowcolor\": \"#1f77b4\", \"arrowhead\": 4, \"arrowsize\": 2, \"ax\": 74.4, \"axref\": \"x\", \"ay\": 52.8, \"ayref\": \"y\", \"captureevents\": true, \"hovertext\": \"player= E. Can\\n time= 0m33s\\n subEventName= Simple pass\\n result= failure\", \"showarrow\": true, \"x\": 84.0, \"xref\": \"x\", \"y\": 68.8, \"yref\": \"y\"}, {\"arrowcolor\": \"#1f77b4\", \"arrowhead\": 4, \"arrowsize\": 2, \"ax\": 93.6, \"axref\": \"x\", \"ay\": 61.6, \"ayref\": \"y\", \"captureevents\": true, \"hovertext\": \"player= J. Draxler\\n time= 0m47s\\n subEventName= Simple pass\\n result= success\", \"showarrow\": true, \"x\": 106.8, \"xref\": \"x\", \"y\": 72.8, \"yref\": \"y\"}, {\"arrowcolor\": \"#1f77b4\", \"arrowhead\": 4, \"arrowsize\": 2, \"ax\": 106.8, \"axref\": \"x\", \"ay\": 72.8, \"ayref\": \"y\", \"captureevents\": true, \"hovertext\": \"player= T. M\\u00fcller\\n time= 0m49s\\n subEventName= Simple pass\\n result= failure\", \"showarrow\": true, \"x\": 118.8, \"xref\": \"x\", \"y\": 71.2, \"yref\": \"y\"}, {\"arrowcolor\": \"#d62728\", \"arrowhead\": 4, \"arrowsize\": 2, \"ax\": 75.6, \"axref\": \"x\", \"ay\": 57.599999999999994, \"ayref\": \"y\", \"captureevents\": true, \"hovertext\": \"player= B. Schweinsteiger\\n time= 0m54s\\n subEventName= Head pass\\n result= failure\", \"showarrow\": true, \"x\": 85.2, \"xref\": \"x\", \"y\": 51.2, \"yref\": \"y\"}, {\"arrowcolor\": \"#1f77b4\", \"arrowhead\": 4, \"arrowsize\": 2, \"ax\": 40.8, \"axref\": \"x\", \"ay\": 54.39999999999999, \"ayref\": \"y\", \"captureevents\": true, \"hovertext\": \"player= J. Boateng\\n time= 1m8s\\n subEventName= Simple pass\\n result= success\", \"showarrow\": true, \"x\": 82.8, \"xref\": \"x\", \"y\": 64.80000000000001, \"yref\": \"y\"}, {\"arrowcolor\": \"#1f77b4\", \"arrowhead\": 4, \"arrowsize\": 2, \"ax\": 82.8, \"axref\": \"x\", \"ay\": 64.80000000000001, \"ayref\": \"y\", \"captureevents\": true, \"hovertext\": \"player= J. Draxler\\n time= 1m9s\\n subEventName= Simple pass\\n result= failure\", \"showarrow\": true, \"x\": 85.2, \"xref\": \"x\", \"y\": 80.0, \"yref\": \"y\"}, {\"arrowcolor\": \"#d62728\", \"arrowhead\": 4, \"arrowsize\": 2, \"ax\": 49.2, \"axref\": \"x\", \"ay\": 75.19999999999999, \"ayref\": \"y\", \"captureevents\": true, \"hovertext\": \"player= B. Schweinsteiger\\n time= 1m33s\\n subEventName= Head pass\\n result= failure\", \"showarrow\": true, \"x\": 45.6, \"xref\": \"x\", \"y\": 68.8, \"yref\": \"y\"}, {\"arrowcolor\": \"#ff7f0e\", \"arrowhead\": 4, \"arrowsize\": 2, \"ax\": 14.4, \"axref\": \"x\", \"ay\": 58.4, \"ayref\": \"y\", \"captureevents\": true, \"hovertext\": \"player= B. H\\u00f6wedes\\n time= 2m27s\\n subEventName= High pass\\n result= success\", \"showarrow\": true, \"x\": 52.8, \"xref\": \"x\", \"y\": 66.39999999999999, \"yref\": \"y\"}, {\"arrowcolor\": \"#1f77b4\", \"arrowhead\": 4, \"arrowsize\": 2, \"ax\": 34.8, \"axref\": \"x\", \"ay\": 71.2, \"ayref\": \"y\", \"captureevents\": true, \"hovertext\": \"player= J. Hector\\n time= 2m33s\\n subEventName= Simple pass\\n result= success\", \"showarrow\": true, \"x\": 28.8, \"xref\": \"x\", \"y\": 56.8, \"yref\": \"y\"}, {\"arrowcolor\": \"#1f77b4\", \"arrowhead\": 4, \"arrowsize\": 2, \"ax\": 28.8, \"axref\": \"x\", \"ay\": 56.8, \"ayref\": \"y\", \"captureevents\": true, \"hovertext\": \"player= B. Schweinsteiger\\n time= 2m34s\\n subEventName= Simple pass\\n result= success\", \"showarrow\": true, \"x\": 42.0, \"xref\": \"x\", \"y\": 61.6, \"yref\": \"y\"}, {\"arrowcolor\": \"#1f77b4\", \"arrowhead\": 4, \"arrowsize\": 2, \"ax\": 42.0, \"axref\": \"x\", \"ay\": 61.6, \"ayref\": \"y\", \"captureevents\": true, \"hovertext\": \"player= B. Schweinsteiger\\n time= 2m35s\\n subEventName= Simple pass\\n result= success\", \"showarrow\": true, \"x\": 26.4, \"xref\": \"x\", \"y\": 53.599999999999994, \"yref\": \"y\"}, {\"arrowcolor\": \"#1f77b4\", \"arrowhead\": 4, \"arrowsize\": 2, \"ax\": 26.4, \"axref\": \"x\", \"ay\": 53.599999999999994, \"ayref\": \"y\", \"captureevents\": true, \"hovertext\": \"player= B. H\\u00f6wedes\\n time= 2m38s\\n subEventName= Simple pass\\n result= success\", \"showarrow\": true, \"x\": 8.4, \"xref\": \"x\", \"y\": 27.199999999999996, \"yref\": \"y\"}, {\"arrowcolor\": \"#ff7f0e\", \"arrowhead\": 4, \"arrowsize\": 2, \"ax\": 8.4, \"axref\": \"x\", \"ay\": 27.199999999999996, \"ayref\": \"y\", \"captureevents\": true, \"hovertext\": \"player= M. Neuer\\n time= 2m41s\\n subEventName= High pass\\n result= success\", \"showarrow\": true, \"x\": 49.2, \"xref\": \"x\", \"y\": 10.4, \"yref\": \"y\"}, {\"arrowcolor\": \"#1f77b4\", \"arrowhead\": 4, \"arrowsize\": 2, \"ax\": 15.6, \"axref\": \"x\", \"ay\": 13.600000000000003, \"ayref\": \"y\", \"captureevents\": true, \"hovertext\": \"player= J. Boateng\\n time= 3m8s\\n subEventName= Simple pass\\n result= success\", \"showarrow\": true, \"x\": 8.4, \"xref\": \"x\", \"y\": 45.60000000000001, \"yref\": \"y\"}, {\"arrowcolor\": \"#1f77b4\", \"arrowhead\": 4, \"arrowsize\": 2, \"ax\": 8.4, \"axref\": \"x\", \"ay\": 45.60000000000001, \"ayref\": \"y\", \"captureevents\": true, \"hovertext\": \"player= M. Neuer\\n time= 3m14s\\n subEventName= Simple pass\\n result= success\", \"showarrow\": true, \"x\": 33.6, \"xref\": \"x\", \"y\": 48.0, \"yref\": \"y\"}, {\"arrowcolor\": \"#1f77b4\", \"arrowhead\": 4, \"arrowsize\": 2, \"ax\": 33.6, \"axref\": \"x\", \"ay\": 48.0, \"ayref\": \"y\", \"captureevents\": true, \"hovertext\": \"player= B. Schweinsteiger\\n time= 3m16s\\n subEventName= Simple pass\\n result= success\", \"showarrow\": true, \"x\": 39.6, \"xref\": \"x\", \"y\": 58.4, \"yref\": \"y\"}, {\"arrowcolor\": \"#1f77b4\", \"arrowhead\": 4, \"arrowsize\": 2, \"ax\": 39.6, \"axref\": \"x\", \"ay\": 58.4, \"ayref\": \"y\", \"captureevents\": true, \"hovertext\": \"player= T. Kroos\\n time= 3m17s\\n subEventName= Simple pass\\n result= success\", \"showarrow\": true, \"x\": 22.8, \"xref\": \"x\", \"y\": 71.2, \"yref\": \"y\"}, {\"arrowcolor\": \"#1f77b4\", \"arrowhead\": 4, \"arrowsize\": 2, \"ax\": 22.8, \"axref\": \"x\", \"ay\": 71.2, \"ayref\": \"y\", \"captureevents\": true, \"hovertext\": \"player= B. H\\u00f6wedes\\n time= 3m19s\\n subEventName= Simple pass\\n result= success\", \"showarrow\": true, \"x\": 30.0, \"xref\": \"x\", \"y\": 49.6, \"yref\": \"y\"}, {\"arrowcolor\": \"#1f77b4\", \"arrowhead\": 4, \"arrowsize\": 2, \"ax\": 30.0, \"axref\": \"x\", \"ay\": 49.6, \"ayref\": \"y\", \"captureevents\": true, \"hovertext\": \"player= B. Schweinsteiger\\n time= 3m24s\\n subEventName= Simple pass\\n result= success\", \"showarrow\": true, \"x\": 69.6, \"xref\": \"x\", \"y\": 10.4, \"yref\": \"y\"}, {\"arrowcolor\": \"#ff7f0e\", \"arrowhead\": 4, \"arrowsize\": 2, \"ax\": 69.6, \"axref\": \"x\", \"ay\": 10.4, \"ayref\": \"y\", \"captureevents\": true, \"hovertext\": \"player= J. Boateng\\n time= 3m28s\\n subEventName= High pass\\n result= failure\", \"showarrow\": true, \"x\": 0.0, \"xref\": \"x\", \"y\": 80.0, \"yref\": \"y\"}, {\"arrowcolor\": \"#d62728\", \"arrowhead\": 4, \"arrowsize\": 2, \"ax\": 13.2, \"axref\": \"x\", \"ay\": 32.0, \"ayref\": \"y\", \"captureevents\": true, \"hovertext\": \"player= J. Kimmich\\n time= 3m51s\\n subEventName= Head pass\\n result= success\", \"showarrow\": true, \"x\": 16.8, \"xref\": \"x\", \"y\": 50.4, \"yref\": \"y\"}, {\"arrowcolor\": \"#d62728\", \"arrowhead\": 4, \"arrowsize\": 2, \"ax\": 16.8, \"axref\": \"x\", \"ay\": 50.4, \"ayref\": \"y\", \"captureevents\": true, \"hovertext\": \"player= B. H\\u00f6wedes\\n time= 3m52s\\n subEventName= Head pass\\n result= success\", \"showarrow\": true, \"x\": 38.4, \"xref\": \"x\", \"y\": 27.199999999999996, \"yref\": \"y\"}, {\"arrowcolor\": \"#1f77b4\", \"arrowhead\": 4, \"arrowsize\": 2, \"ax\": 38.4, \"axref\": \"x\", \"ay\": 27.199999999999996, \"ayref\": \"y\", \"captureevents\": true, \"hovertext\": \"player= M. \\u00d6zil\\n time= 3m56s\\n subEventName= Simple pass\\n result= success\", \"showarrow\": true, \"x\": 39.6, \"xref\": \"x\", \"y\": 36.0, \"yref\": \"y\"}, {\"arrowcolor\": \"#1f77b4\", \"arrowhead\": 4, \"arrowsize\": 2, \"ax\": 39.6, \"axref\": \"x\", \"ay\": 36.0, \"ayref\": \"y\", \"captureevents\": true, \"hovertext\": \"player= E. Can\\n time= 3m58s\\n subEventName= Simple pass\\n result= failure\", \"showarrow\": true, \"x\": 42.0, \"xref\": \"x\", \"y\": 60.8, \"yref\": \"y\"}, {\"arrowcolor\": \"#1f77b4\", \"arrowhead\": 4, \"arrowsize\": 2, \"ax\": 12.0, \"axref\": \"x\", \"ay\": 23.200000000000003, \"ayref\": \"y\", \"captureevents\": true, \"hovertext\": \"player= J. Kimmich\\n time= 4m44s\\n subEventName= Simple pass\\n result= failure\", \"showarrow\": true, \"x\": 46.8, \"xref\": \"x\", \"y\": 6.399999999999997, \"yref\": \"y\"}, {\"arrowcolor\": \"#d62728\", \"arrowhead\": 4, \"arrowsize\": 2, \"ax\": 24.0, \"axref\": \"x\", \"ay\": 20.0, \"ayref\": \"y\", \"captureevents\": true, \"hovertext\": \"player= J. Boateng\\n time= 5m29s\\n subEventName= Head pass\\n result= success\", \"showarrow\": true, \"x\": 30.0, \"xref\": \"x\", \"y\": 7.999999999999998, \"yref\": \"y\"}, {\"arrowcolor\": \"#ff7f0e\", \"arrowhead\": 4, \"arrowsize\": 2, \"ax\": 30.0, \"axref\": \"x\", \"ay\": 7.999999999999998, \"ayref\": \"y\", \"captureevents\": true, \"hovertext\": \"player= J. Kimmich\\n time= 5m30s\\n subEventName= High pass\\n result= success\", \"showarrow\": true, \"x\": 70.8, \"xref\": \"x\", \"y\": 18.4, \"yref\": \"y\"}, {\"arrowcolor\": \"#1f77b4\", \"arrowhead\": 4, \"arrowsize\": 2, \"ax\": 70.8, \"axref\": \"x\", \"ay\": 18.4, \"ayref\": \"y\", \"captureevents\": true, \"hovertext\": \"player= T. M\\u00fcller\\n time= 5m33s\\n subEventName= Simple pass\\n result= failure\", \"showarrow\": true, \"x\": 63.6, \"xref\": \"x\", \"y\": 26.4, \"yref\": \"y\"}, {\"arrowcolor\": \"#1f77b4\", \"arrowhead\": 4, \"arrowsize\": 2, \"ax\": 40.8, \"axref\": \"x\", \"ay\": 35.199999999999996, \"ayref\": \"y\", \"captureevents\": true, \"hovertext\": \"player= E. Can\\n time= 5m47s\\n subEventName= Simple pass\\n result= failure\", \"showarrow\": true, \"x\": 49.2, \"xref\": \"x\", \"y\": 25.599999999999994, \"yref\": \"y\"}, {\"arrowcolor\": \"#1f77b4\", \"arrowhead\": 4, \"arrowsize\": 2, \"ax\": 24.0, \"axref\": \"x\", \"ay\": 36.0, \"ayref\": \"y\", \"captureevents\": true, \"hovertext\": \"player= E. Can\\n time= 6m12s\\n subEventName= Simple pass\\n result= success\", \"showarrow\": true, \"x\": 30.0, \"xref\": \"x\", \"y\": 52.0, \"yref\": \"y\"}, {\"arrowcolor\": \"#1f77b4\", \"arrowhead\": 4, \"arrowsize\": 2, \"ax\": 30.0, \"axref\": \"x\", \"ay\": 52.0, \"ayref\": \"y\", \"captureevents\": true, \"hovertext\": \"player= T. Kroos\\n time= 6m13s\\n subEventName= Simple pass\\n result= success\", \"showarrow\": true, \"x\": 30.0, \"xref\": \"x\", \"y\": 36.8, \"yref\": \"y\"}, {\"arrowcolor\": \"#1f77b4\", \"arrowhead\": 4, \"arrowsize\": 2, \"ax\": 79.2, \"axref\": \"x\", \"ay\": 76.8, \"ayref\": \"y\", \"captureevents\": true, \"hovertext\": \"player= J. Hector\\n time= 6m31s\\n subEventName= Simple pass\\n result= success\", \"showarrow\": true, \"x\": 64.8, \"xref\": \"x\", \"y\": 74.39999999999999, \"yref\": \"y\"}, {\"arrowcolor\": \"#1f77b4\", \"arrowhead\": 4, \"arrowsize\": 2, \"ax\": 64.8, \"axref\": \"x\", \"ay\": 74.39999999999999, \"ayref\": \"y\", \"captureevents\": true, \"hovertext\": \"player= M. \\u00d6zil\\n time= 6m35s\\n subEventName= Simple pass\\n result= success\", \"showarrow\": true, \"x\": 67.2, \"xref\": \"x\", \"y\": 58.4, \"yref\": \"y\"}, {\"arrowcolor\": \"#1f77b4\", \"arrowhead\": 4, \"arrowsize\": 2, \"ax\": 67.2, \"axref\": \"x\", \"ay\": 58.4, \"ayref\": \"y\", \"captureevents\": true, \"hovertext\": \"player= T. Kroos\\n time= 6m39s\\n subEventName= Simple pass\\n result= success\", \"showarrow\": true, \"x\": 58.8, \"xref\": \"x\", \"y\": 20.0, \"yref\": \"y\"}, {\"arrowcolor\": \"#1f77b4\", \"arrowhead\": 4, \"arrowsize\": 2, \"ax\": 58.8, \"axref\": \"x\", \"ay\": 20.0, \"ayref\": \"y\", \"captureevents\": true, \"hovertext\": \"player= J. Boateng\\n time= 6m45s\\n subEventName= Simple pass\\n result= success\", \"showarrow\": true, \"x\": 55.2, \"xref\": \"x\", \"y\": 48.0, \"yref\": \"y\"}, {\"arrowcolor\": \"#1f77b4\", \"arrowhead\": 4, \"arrowsize\": 2, \"ax\": 55.2, \"axref\": \"x\", \"ay\": 48.0, \"ayref\": \"y\", \"captureevents\": true, \"hovertext\": \"player= B. Schweinsteiger\\n time= 6m47s\\n subEventName= Simple pass\\n result= success\", \"showarrow\": true, \"x\": 70.8, \"xref\": \"x\", \"y\": 60.8, \"yref\": \"y\"}, {\"arrowcolor\": \"#1f77b4\", \"arrowhead\": 4, \"arrowsize\": 2, \"ax\": 70.8, \"axref\": \"x\", \"ay\": 60.8, \"ayref\": \"y\", \"captureevents\": true, \"hovertext\": \"player= M. \\u00d6zil\\n time= 6m49s\\n subEventName= Simple pass\\n result= success\", \"showarrow\": true, \"x\": 84.0, \"xref\": \"x\", \"y\": 48.8, \"yref\": \"y\"}, {\"arrowcolor\": \"#1f77b4\", \"arrowhead\": 4, \"arrowsize\": 2, \"ax\": 84.0, \"axref\": \"x\", \"ay\": 48.8, \"ayref\": \"y\", \"captureevents\": true, \"hovertext\": \"player= T. Kroos\\n time= 6m51s\\n subEventName= Simple pass\\n result= success\", \"showarrow\": true, \"x\": 67.2, \"xref\": \"x\", \"y\": 62.400000000000006, \"yref\": \"y\"}, {\"arrowcolor\": \"#1f77b4\", \"arrowhead\": 4, \"arrowsize\": 2, \"ax\": 67.2, \"axref\": \"x\", \"ay\": 62.400000000000006, \"ayref\": \"y\", \"captureevents\": true, \"hovertext\": \"player= M. \\u00d6zil\\n time= 6m53s\\n subEventName= Simple pass\\n result= success\", \"showarrow\": true, \"x\": 85.2, \"xref\": \"x\", \"y\": 78.4, \"yref\": \"y\"}, {\"arrowcolor\": \"#1f77b4\", \"arrowhead\": 4, \"arrowsize\": 2, \"ax\": 85.2, \"axref\": \"x\", \"ay\": 78.4, \"ayref\": \"y\", \"captureevents\": true, \"hovertext\": \"player= J. Hector\\n time= 6m56s\\n subEventName= Simple pass\\n result= success\", \"showarrow\": true, \"x\": 75.6, \"xref\": \"x\", \"y\": 68.0, \"yref\": \"y\"}, {\"arrowcolor\": \"#1f77b4\", \"arrowhead\": 4, \"arrowsize\": 2, \"ax\": 75.6, \"axref\": \"x\", \"ay\": 68.0, \"ayref\": \"y\", \"captureevents\": true, \"hovertext\": \"player= M. \\u00d6zil\\n time= 7m0s\\n subEventName= Simple pass\\n result= success\", \"showarrow\": true, \"x\": 63.6, \"xref\": \"x\", \"y\": 49.6, \"yref\": \"y\"}, {\"arrowcolor\": \"#1f77b4\", \"arrowhead\": 4, \"arrowsize\": 2, \"ax\": 63.6, \"axref\": \"x\", \"ay\": 49.6, \"ayref\": \"y\", \"captureevents\": true, \"hovertext\": \"player= B. Schweinsteiger\\n time= 7m1s\\n subEventName= Simple pass\\n result= success\", \"showarrow\": true, \"x\": 74.4, \"xref\": \"x\", \"y\": 60.0, \"yref\": \"y\"}, {\"arrowcolor\": \"#1f77b4\", \"arrowhead\": 4, \"arrowsize\": 2, \"ax\": 74.4, \"axref\": \"x\", \"ay\": 60.0, \"ayref\": \"y\", \"captureevents\": true, \"hovertext\": \"player= T. Kroos\\n time= 7m2s\\n subEventName= Simple pass\\n result= success\", \"showarrow\": true, \"x\": 62.4, \"xref\": \"x\", \"y\": 46.400000000000006, \"yref\": \"y\"}, {\"arrowcolor\": \"#1f77b4\", \"arrowhead\": 4, \"arrowsize\": 2, \"ax\": 62.4, \"axref\": \"x\", \"ay\": 46.400000000000006, \"ayref\": \"y\", \"captureevents\": true, \"hovertext\": \"player= B. Schweinsteiger\\n time= 7m4s\\n subEventName= Simple pass\\n result= success\", \"showarrow\": true, \"x\": 50.4, \"xref\": \"x\", \"y\": 69.6, \"yref\": \"y\"}, {\"arrowcolor\": \"#1f77b4\", \"arrowhead\": 4, \"arrowsize\": 2, \"ax\": 50.4, \"axref\": \"x\", \"ay\": 69.6, \"ayref\": \"y\", \"captureevents\": true, \"hovertext\": \"player= T. Kroos\\n time= 7m8s\\n subEventName= Simple pass\\n result= success\", \"showarrow\": true, \"x\": 73.2, \"xref\": \"x\", \"y\": 72.0, \"yref\": \"y\"}, {\"arrowcolor\": \"#1f77b4\", \"arrowhead\": 4, \"arrowsize\": 2, \"ax\": 73.2, \"axref\": \"x\", \"ay\": 72.0, \"ayref\": \"y\", \"captureevents\": true, \"hovertext\": \"player= J. Hector\\n time= 7m12s\\n subEventName= Simple pass\\n result= success\", \"showarrow\": true, \"x\": 87.6, \"xref\": \"x\", \"y\": 58.4, \"yref\": \"y\"}, {\"arrowcolor\": \"#1f77b4\", \"arrowhead\": 4, \"arrowsize\": 2, \"ax\": 87.6, \"axref\": \"x\", \"ay\": 58.4, \"ayref\": \"y\", \"captureevents\": true, \"hovertext\": \"player= M. \\u00d6zil\\n time= 7m13s\\n subEventName= Simple pass\\n result= success\", \"showarrow\": true, \"x\": 85.2, \"xref\": \"x\", \"y\": 43.2, \"yref\": \"y\"}, {\"arrowcolor\": \"#ff7f0e\", \"arrowhead\": 4, \"arrowsize\": 2, \"ax\": 85.2, \"axref\": \"x\", \"ay\": 43.2, \"ayref\": \"y\", \"captureevents\": true, \"hovertext\": \"player= J. Draxler\\n time= 7m16s\\n subEventName= High pass\\n result= failure\", \"showarrow\": true, \"x\": 117.6, \"xref\": \"x\", \"y\": 5.599999999999996, \"yref\": \"y\"}, {\"arrowcolor\": \"#1f77b4\", \"arrowhead\": 4, \"arrowsize\": 2, \"ax\": 48.0, \"axref\": \"x\", \"ay\": 69.6, \"ayref\": \"y\", \"captureevents\": true, \"hovertext\": \"player= B. Schweinsteiger\\n time= 8m10s\\n subEventName= Simple pass\\n result= success\", \"showarrow\": true, \"x\": 37.2, \"xref\": \"x\", \"y\": 78.4, \"yref\": \"y\"}, {\"arrowcolor\": \"#1f77b4\", \"arrowhead\": 4, \"arrowsize\": 2, \"ax\": 37.2, \"axref\": \"x\", \"ay\": 78.4, \"ayref\": \"y\", \"captureevents\": true, \"hovertext\": \"player= J. Hector\\n time= 8m14s\\n subEventName= Simple pass\\n result= success\", \"showarrow\": true, \"x\": 32.4, \"xref\": \"x\", \"y\": 60.0, \"yref\": \"y\"}, {\"arrowcolor\": \"#1f77b4\", \"arrowhead\": 4, \"arrowsize\": 2, \"ax\": 32.4, \"axref\": \"x\", \"ay\": 60.0, \"ayref\": \"y\", \"captureevents\": true, \"hovertext\": \"player= B. H\\u00f6wedes\\n time= 8m18s\\n subEventName= Simple pass\\n result= success\", \"showarrow\": true, \"x\": 43.2, \"xref\": \"x\", \"y\": 27.199999999999996, \"yref\": \"y\"}, {\"arrowcolor\": \"#1f77b4\", \"arrowhead\": 4, \"arrowsize\": 2, \"ax\": 43.2, \"axref\": \"x\", \"ay\": 27.199999999999996, \"ayref\": \"y\", \"captureevents\": true, \"hovertext\": \"player= J. Boateng\\n time= 8m30s\\n subEventName= Simple pass\\n result= success\", \"showarrow\": true, \"x\": 69.6, \"xref\": \"x\", \"y\": 64.80000000000001, \"yref\": \"y\"}, {\"arrowcolor\": \"#1f77b4\", \"arrowhead\": 4, \"arrowsize\": 2, \"ax\": 69.6, \"axref\": \"x\", \"ay\": 64.80000000000001, \"ayref\": \"y\", \"captureevents\": true, \"hovertext\": \"player= T. Kroos\\n time= 8m34s\\n subEventName= Simple pass\\n result= success\", \"showarrow\": true, \"x\": 73.2, \"xref\": \"x\", \"y\": 76.8, \"yref\": \"y\"}, {\"arrowcolor\": \"#1f77b4\", \"arrowhead\": 4, \"arrowsize\": 2, \"ax\": 73.2, \"axref\": \"x\", \"ay\": 76.8, \"ayref\": \"y\", \"captureevents\": true, \"hovertext\": \"player= J. Hector\\n time= 8m36s\\n subEventName= Simple pass\\n result= success\", \"showarrow\": true, \"x\": 86.4, \"xref\": \"x\", \"y\": 66.39999999999999, \"yref\": \"y\"}, {\"arrowcolor\": \"#1f77b4\", \"arrowhead\": 4, \"arrowsize\": 2, \"ax\": 86.4, \"axref\": \"x\", \"ay\": 66.39999999999999, \"ayref\": \"y\", \"captureevents\": true, \"hovertext\": \"player= J. Draxler\\n time= 8m37s\\n subEventName= Simple pass\\n result= success\", \"showarrow\": true, \"x\": 54.0, \"xref\": \"x\", \"y\": 68.0, \"yref\": \"y\"}, {\"arrowcolor\": \"#1f77b4\", \"arrowhead\": 4, \"arrowsize\": 2, \"ax\": 54.0, \"axref\": \"x\", \"ay\": 68.0, \"ayref\": \"y\", \"captureevents\": true, \"hovertext\": \"player= B. H\\u00f6wedes\\n time= 8m40s\\n subEventName= Simple pass\\n result= success\", \"showarrow\": true, \"x\": 69.6, \"xref\": \"x\", \"y\": 52.8, \"yref\": \"y\"}, {\"arrowcolor\": \"#1f77b4\", \"arrowhead\": 4, \"arrowsize\": 2, \"ax\": 69.6, \"axref\": \"x\", \"ay\": 52.8, \"ayref\": \"y\", \"captureevents\": true, \"hovertext\": \"player= B. Schweinsteiger\\n time= 8m42s\\n subEventName= Simple pass\\n result= success\", \"showarrow\": true, \"x\": 76.8, \"xref\": \"x\", \"y\": 23.200000000000003, \"yref\": \"y\"}, {\"arrowcolor\": \"#ff7f0e\", \"arrowhead\": 4, \"arrowsize\": 2, \"ax\": 76.8, \"axref\": \"x\", \"ay\": 23.200000000000003, \"ayref\": \"y\", \"captureevents\": true, \"hovertext\": \"player= J. Boateng\\n time= 8m46s\\n subEventName= High pass\\n result= success\", \"showarrow\": true, \"x\": 105.6, \"xref\": \"x\", \"y\": 75.19999999999999, \"yref\": \"y\"}, {\"arrowcolor\": \"#1f77b4\", \"arrowhead\": 4, \"arrowsize\": 2, \"ax\": 105.6, \"axref\": \"x\", \"ay\": 75.19999999999999, \"ayref\": \"y\", \"captureevents\": true, \"hovertext\": \"player= J. Hector\\n time= 8m50s\\n subEventName= Simple pass\\n result= success\", \"showarrow\": true, \"x\": 102.0, \"xref\": \"x\", \"y\": 57.599999999999994, \"yref\": \"y\"}, {\"arrowcolor\": \"#1f77b4\", \"arrowhead\": 4, \"arrowsize\": 2, \"ax\": 102.0, \"axref\": \"x\", \"ay\": 57.599999999999994, \"ayref\": \"y\", \"captureevents\": true, \"hovertext\": \"player= J. Draxler\\n time= 8m55s\\n subEventName= Simple pass\\n result= success\", \"showarrow\": true, \"x\": 103.2, \"xref\": \"x\", \"y\": 76.8, \"yref\": \"y\"}, {\"arrowcolor\": \"#1f77b4\", \"arrowhead\": 4, \"arrowsize\": 2, \"ax\": 103.2, \"axref\": \"x\", \"ay\": 76.8, \"ayref\": \"y\", \"captureevents\": true, \"hovertext\": \"player= J. Hector\\n time= 8m58s\\n subEventName= Simple pass\\n result= success\", \"showarrow\": true, \"x\": 74.4, \"xref\": \"x\", \"y\": 76.0, \"yref\": \"y\"}, {\"arrowcolor\": \"#1f77b4\", \"arrowhead\": 4, \"arrowsize\": 2, \"ax\": 74.4, \"axref\": \"x\", \"ay\": 76.0, \"ayref\": \"y\", \"captureevents\": true, \"hovertext\": \"player= J. Draxler\\n time= 9m0s\\n subEventName= Simple pass\\n result= success\", \"showarrow\": true, \"x\": 81.6, \"xref\": \"x\", \"y\": 63.2, \"yref\": \"y\"}, {\"arrowcolor\": \"#1f77b4\", \"arrowhead\": 4, \"arrowsize\": 2, \"ax\": 81.6, \"axref\": \"x\", \"ay\": 63.2, \"ayref\": \"y\", \"captureevents\": true, \"hovertext\": \"player= B. Schweinsteiger\\n time= 9m1s\\n subEventName= Simple pass\\n result= success\", \"showarrow\": true, \"x\": 87.6, \"xref\": \"x\", \"y\": 76.0, \"yref\": \"y\"}, {\"arrowcolor\": \"#1f77b4\", \"arrowhead\": 4, \"arrowsize\": 2, \"ax\": 87.6, \"axref\": \"x\", \"ay\": 76.0, \"ayref\": \"y\", \"captureevents\": true, \"hovertext\": \"player= J. Draxler\\n time= 9m2s\\n subEventName= Simple pass\\n result= success\", \"showarrow\": true, \"x\": 78.0, \"xref\": \"x\", \"y\": 62.400000000000006, \"yref\": \"y\"}, {\"arrowcolor\": \"#1f77b4\", \"arrowhead\": 4, \"arrowsize\": 2, \"ax\": 78.0, \"axref\": \"x\", \"ay\": 62.400000000000006, \"ayref\": \"y\", \"captureevents\": true, \"hovertext\": \"player= B. Schweinsteiger\\n time= 9m4s\\n subEventName= Simple pass\\n result= success\", \"showarrow\": true, \"x\": 68.4, \"xref\": \"x\", \"y\": 49.6, \"yref\": \"y\"}, {\"arrowcolor\": \"#ff7f0e\", \"arrowhead\": 4, \"arrowsize\": 2, \"ax\": 68.4, \"axref\": \"x\", \"ay\": 49.6, \"ayref\": \"y\", \"captureevents\": true, \"hovertext\": \"player= B. H\\u00f6wedes\\n time= 9m7s\\n subEventName= High pass\\n result= failure\", \"showarrow\": true, \"x\": 106.8, \"xref\": \"x\", \"y\": 0.0, \"yref\": \"y\"}, {\"arrowcolor\": \"#d62728\", \"arrowhead\": 4, \"arrowsize\": 2, \"ax\": 16.8, \"axref\": \"x\", \"ay\": 35.199999999999996, \"ayref\": \"y\", \"captureevents\": true, \"hovertext\": \"player= J. Boateng\\n time= 10m16s\\n subEventName= Head pass\\n result= success\", \"showarrow\": true, \"x\": 39.6, \"xref\": \"x\", \"y\": 50.4, \"yref\": \"y\"}, {\"arrowcolor\": \"#1f77b4\", \"arrowhead\": 4, \"arrowsize\": 2, \"ax\": 33.6, \"axref\": \"x\", \"ay\": 52.0, \"ayref\": \"y\", \"captureevents\": true, \"hovertext\": \"player= T. Kroos\\n time= 10m19s\\n subEventName= Simple pass\\n result= success\", \"showarrow\": true, \"x\": 8.4, \"xref\": \"x\", \"y\": 56.8, \"yref\": \"y\"}, {\"arrowcolor\": \"#1f77b4\", \"arrowhead\": 4, \"arrowsize\": 2, \"ax\": 8.4, \"axref\": \"x\", \"ay\": 56.8, \"ayref\": \"y\", \"captureevents\": true, \"hovertext\": \"player= M. Neuer\\n time= 10m26s\\n subEventName= Simple pass\\n result= success\", \"showarrow\": true, \"x\": 32.4, \"xref\": \"x\", \"y\": 60.0, \"yref\": \"y\"}, {\"arrowcolor\": \"#1f77b4\", \"arrowhead\": 4, \"arrowsize\": 2, \"ax\": 32.4, \"axref\": \"x\", \"ay\": 60.0, \"ayref\": \"y\", \"captureevents\": true, \"hovertext\": \"player= B. H\\u00f6wedes\\n time= 10m32s\\n subEventName= Simple pass\\n result= success\", \"showarrow\": true, \"x\": 54.0, \"xref\": \"x\", \"y\": 15.199999999999996, \"yref\": \"y\"}, {\"arrowcolor\": \"#1f77b4\", \"arrowhead\": 4, \"arrowsize\": 2, \"ax\": 54.0, \"axref\": \"x\", \"ay\": 15.199999999999996, \"ayref\": \"y\", \"captureevents\": true, \"hovertext\": \"player= J. Boateng\\n time= 10m41s\\n subEventName= Simple pass\\n result= success\", \"showarrow\": true, \"x\": 74.4, \"xref\": \"x\", \"y\": 24.800000000000004, \"yref\": \"y\"}, {\"arrowcolor\": \"#1f77b4\", \"arrowhead\": 4, \"arrowsize\": 2, \"ax\": 91.2, \"axref\": \"x\", \"ay\": 13.600000000000003, \"ayref\": \"y\", \"captureevents\": true, \"hovertext\": \"player= M. \\u00d6zil\\n time= 10m48s\\n subEventName= Simple pass\\n result= success\", \"showarrow\": true, \"x\": 118.8, \"xref\": \"x\", \"y\": 6.399999999999997, \"yref\": \"y\"}, {\"arrowcolor\": \"#9467bd\", \"arrowhead\": 4, \"arrowsize\": 2, \"ax\": 118.8, \"axref\": \"x\", \"ay\": 6.399999999999997, \"ayref\": \"y\", \"captureevents\": true, \"hovertext\": \"player= J. Kimmich\\n time= 10m49s\\n subEventName= Cross\\n result= failure\", \"showarrow\": true, \"x\": 0.0, \"xref\": \"x\", \"y\": 80.0, \"yref\": \"y\"}, {\"arrowcolor\": \"#1f77b4\", \"arrowhead\": 4, \"arrowsize\": 2, \"ax\": 114.0, \"axref\": \"x\", \"ay\": 6.399999999999997, \"ayref\": \"y\", \"captureevents\": true, \"hovertext\": \"player= M. \\u00d6zil\\n time= 11m1s\\n subEventName= Simple pass\\n result= success\", \"showarrow\": true, \"x\": 106.8, \"xref\": \"x\", \"y\": 4.800000000000004, \"yref\": \"y\"}, {\"arrowcolor\": \"#1f77b4\", \"arrowhead\": 4, \"arrowsize\": 2, \"ax\": 106.8, \"axref\": \"x\", \"ay\": 4.800000000000004, \"ayref\": \"y\", \"captureevents\": true, \"hovertext\": \"player= J. Kimmich\\n time= 11m3s\\n subEventName= Simple pass\\n result= success\", \"showarrow\": true, \"x\": 81.6, \"xref\": \"x\", \"y\": 7.999999999999998, \"yref\": \"y\"}, {\"arrowcolor\": \"#1f77b4\", \"arrowhead\": 4, \"arrowsize\": 2, \"ax\": 81.6, \"axref\": \"x\", \"ay\": 7.999999999999998, \"ayref\": \"y\", \"captureevents\": true, \"hovertext\": \"player= B. Schweinsteiger\\n time= 11m6s\\n subEventName= Simple pass\\n result= success\", \"showarrow\": true, \"x\": 82.8, \"xref\": \"x\", \"y\": 28.799999999999997, \"yref\": \"y\"}, {\"arrowcolor\": \"#1f77b4\", \"arrowhead\": 4, \"arrowsize\": 2, \"ax\": 82.8, \"axref\": \"x\", \"ay\": 28.799999999999997, \"ayref\": \"y\", \"captureevents\": true, \"hovertext\": \"player= J. Boateng\\n time= 11m11s\\n subEventName= Simple pass\\n result= failure\", \"showarrow\": true, \"x\": 115.2, \"xref\": \"x\", \"y\": 80.0, \"yref\": \"y\"}, {\"arrowcolor\": \"#1f77b4\", \"arrowhead\": 4, \"arrowsize\": 2, \"ax\": 88.8, \"axref\": \"x\", \"ay\": 63.2, \"ayref\": \"y\", \"captureevents\": true, \"hovertext\": \"player= J. Draxler\\n time= 11m40s\\n subEventName= Simple pass\\n result= success\", \"showarrow\": true, \"x\": 84.0, \"xref\": \"x\", \"y\": 59.2, \"yref\": \"y\"}, {\"arrowcolor\": \"#1f77b4\", \"arrowhead\": 4, \"arrowsize\": 2, \"ax\": 84.0, \"axref\": \"x\", \"ay\": 59.2, \"ayref\": \"y\", \"captureevents\": true, \"hovertext\": \"player= E. Can\\n time= 11m42s\\n subEventName= Simple pass\\n result= success\", \"showarrow\": true, \"x\": 85.2, \"xref\": \"x\", \"y\": 64.80000000000001, \"yref\": \"y\"}, {\"arrowcolor\": \"#1f77b4\", \"arrowhead\": 4, \"arrowsize\": 2, \"ax\": 85.2, \"axref\": \"x\", \"ay\": 64.80000000000001, \"ayref\": \"y\", \"captureevents\": true, \"hovertext\": \"player= T. Kroos\\n time= 11m43s\\n subEventName= Simple pass\\n result= success\", \"showarrow\": true, \"x\": 73.2, \"xref\": \"x\", \"y\": 54.39999999999999, \"yref\": \"y\"}, {\"arrowcolor\": \"#1f77b4\", \"arrowhead\": 4, \"arrowsize\": 2, \"ax\": 73.2, \"axref\": \"x\", \"ay\": 54.39999999999999, \"ayref\": \"y\", \"captureevents\": true, \"hovertext\": \"player= B. Schweinsteiger\\n time= 11m46s\\n subEventName= Simple pass\\n result= success\", \"showarrow\": true, \"x\": 73.2, \"xref\": \"x\", \"y\": 68.8, \"yref\": \"y\"}, {\"arrowcolor\": \"#1f77b4\", \"arrowhead\": 4, \"arrowsize\": 2, \"ax\": 73.2, \"axref\": \"x\", \"ay\": 68.8, \"ayref\": \"y\", \"captureevents\": true, \"hovertext\": \"player= B. H\\u00f6wedes\\n time= 11m47s\\n subEventName= Simple pass\\n result= success\", \"showarrow\": true, \"x\": 84.0, \"xref\": \"x\", \"y\": 58.4, \"yref\": \"y\"}, {\"arrowcolor\": \"#1f77b4\", \"arrowhead\": 4, \"arrowsize\": 2, \"ax\": 84.0, \"axref\": \"x\", \"ay\": 58.4, \"ayref\": \"y\", \"captureevents\": true, \"hovertext\": \"player= T. Kroos\\n time= 11m49s\\n subEventName= Simple pass\\n result= success\", \"showarrow\": true, \"x\": 67.2, \"xref\": \"x\", \"y\": 51.2, \"yref\": \"y\"}, {\"arrowcolor\": \"#1f77b4\", \"arrowhead\": 4, \"arrowsize\": 2, \"ax\": 67.2, \"axref\": \"x\", \"ay\": 51.2, \"ayref\": \"y\", \"captureevents\": true, \"hovertext\": \"player= B. Schweinsteiger\\n time= 11m51s\\n subEventName= Simple pass\\n result= success\", \"showarrow\": true, \"x\": 79.2, \"xref\": \"x\", \"y\": 26.4, \"yref\": \"y\"}, {\"arrowcolor\": \"#1f77b4\", \"arrowhead\": 4, \"arrowsize\": 2, \"ax\": 79.2, \"axref\": \"x\", \"ay\": 26.4, \"ayref\": \"y\", \"captureevents\": true, \"hovertext\": \"player= M. \\u00d6zil\\n time= 11m55s\\n subEventName= Simple pass\\n result= success\", \"showarrow\": true, \"x\": 90.0, \"xref\": \"x\", \"y\": 31.200000000000003, \"yref\": \"y\"}, {\"arrowcolor\": \"#1f77b4\", \"arrowhead\": 4, \"arrowsize\": 2, \"ax\": 90.0, \"axref\": \"x\", \"ay\": 31.200000000000003, \"ayref\": \"y\", \"captureevents\": true, \"hovertext\": \"player= T. M\\u00fcller\\n time= 11m57s\\n subEventName= Simple pass\\n result= success\", \"showarrow\": true, \"x\": 76.8, \"xref\": \"x\", \"y\": 40.0, \"yref\": \"y\"}, {\"arrowcolor\": \"#1f77b4\", \"arrowhead\": 4, \"arrowsize\": 2, \"ax\": 76.8, \"axref\": \"x\", \"ay\": 40.0, \"ayref\": \"y\", \"captureevents\": true, \"hovertext\": \"player= B. Schweinsteiger\\n time= 11m59s\\n subEventName= Simple pass\\n result= success\", \"showarrow\": true, \"x\": 74.4, \"xref\": \"x\", \"y\": 63.2, \"yref\": \"y\"}, {\"arrowcolor\": \"#1f77b4\", \"arrowhead\": 4, \"arrowsize\": 2, \"ax\": 74.4, \"axref\": \"x\", \"ay\": 63.2, \"ayref\": \"y\", \"captureevents\": true, \"hovertext\": \"player= B. H\\u00f6wedes\\n time= 12m1s\\n subEventName= Simple pass\\n result= success\", \"showarrow\": true, \"x\": 88.8, \"xref\": \"x\", \"y\": 78.4, \"yref\": \"y\"}, {\"arrowcolor\": \"#1f77b4\", \"arrowhead\": 4, \"arrowsize\": 2, \"ax\": 88.8, \"axref\": \"x\", \"ay\": 78.4, \"ayref\": \"y\", \"captureevents\": true, \"hovertext\": \"player= J. Hector\\n time= 12m5s\\n subEventName= Simple pass\\n result= success\", \"showarrow\": true, \"x\": 72.0, \"xref\": \"x\", \"y\": 76.0, \"yref\": \"y\"}, {\"arrowcolor\": \"#1f77b4\", \"arrowhead\": 4, \"arrowsize\": 2, \"ax\": 72.0, \"axref\": \"x\", \"ay\": 76.0, \"ayref\": \"y\", \"captureevents\": true, \"hovertext\": \"player= B. H\\u00f6wedes\\n time= 12m7s\\n subEventName= Simple pass\\n result= success\", \"showarrow\": true, \"x\": 64.8, \"xref\": \"x\", \"y\": 48.8, \"yref\": \"y\"}, {\"arrowcolor\": \"#1f77b4\", \"arrowhead\": 4, \"arrowsize\": 2, \"ax\": 64.8, \"axref\": \"x\", \"ay\": 48.8, \"ayref\": \"y\", \"captureevents\": true, \"hovertext\": \"player= B. Schweinsteiger\\n time= 12m10s\\n subEventName= Simple pass\\n result= success\", \"showarrow\": true, \"x\": 68.4, \"xref\": \"x\", \"y\": 16.799999999999997, \"yref\": \"y\"}, {\"arrowcolor\": \"#1f77b4\", \"arrowhead\": 4, \"arrowsize\": 2, \"ax\": 68.4, \"axref\": \"x\", \"ay\": 16.799999999999997, \"ayref\": \"y\", \"captureevents\": true, \"hovertext\": \"player= J. Boateng\\n time= 12m14s\\n subEventName= Simple pass\\n result= success\", \"showarrow\": true, \"x\": 79.2, \"xref\": \"x\", \"y\": 28.0, \"yref\": \"y\"}, {\"arrowcolor\": \"#1f77b4\", \"arrowhead\": 4, \"arrowsize\": 2, \"ax\": 79.2, \"axref\": \"x\", \"ay\": 28.0, \"ayref\": \"y\", \"captureevents\": true, \"hovertext\": \"player= M. \\u00d6zil\\n time= 12m15s\\n subEventName= Simple pass\\n result= success\", \"showarrow\": true, \"x\": 93.6, \"xref\": \"x\", \"y\": 7.999999999999998, \"yref\": \"y\"}, {\"arrowcolor\": \"#1f77b4\", \"arrowhead\": 4, \"arrowsize\": 2, \"ax\": 93.6, \"axref\": \"x\", \"ay\": 7.999999999999998, \"ayref\": \"y\", \"captureevents\": true, \"hovertext\": \"player= J. Kimmich\\n time= 12m17s\\n subEventName= Simple pass\\n result= success\", \"showarrow\": true, \"x\": 110.4, \"xref\": \"x\", \"y\": 9.6, \"yref\": \"y\"}, {\"arrowcolor\": \"#9467bd\", \"arrowhead\": 4, \"arrowsize\": 2, \"ax\": 110.4, \"axref\": \"x\", \"ay\": 9.6, \"ayref\": \"y\", \"captureevents\": true, \"hovertext\": \"player= E. Can\\n time= 12m19s\\n subEventName= Cross\\n result= success\", \"showarrow\": true, \"x\": 108.0, \"xref\": \"x\", \"y\": 28.0, \"yref\": \"y\"}, {\"arrowcolor\": \"#1f77b4\", \"arrowhead\": 4, \"arrowsize\": 2, \"ax\": 70.8, \"axref\": \"x\", \"ay\": 73.60000000000001, \"ayref\": \"y\", \"captureevents\": true, \"hovertext\": \"player= J. Draxler\\n time= 12m58s\\n subEventName= Simple pass\\n result= success\", \"showarrow\": true, \"x\": 50.4, \"xref\": \"x\", \"y\": 62.400000000000006, \"yref\": \"y\"}, {\"arrowcolor\": \"#1f77b4\", \"arrowhead\": 4, \"arrowsize\": 2, \"ax\": 50.4, \"axref\": \"x\", \"ay\": 62.400000000000006, \"ayref\": \"y\", \"captureevents\": true, \"hovertext\": \"player= B. Schweinsteiger\\n time= 12m59s\\n subEventName= Simple pass\\n result= success\", \"showarrow\": true, \"x\": 39.6, \"xref\": \"x\", \"y\": 79.2, \"yref\": \"y\"}, {\"arrowcolor\": \"#1f77b4\", \"arrowhead\": 4, \"arrowsize\": 2, \"ax\": 39.6, \"axref\": \"x\", \"ay\": 79.2, \"ayref\": \"y\", \"captureevents\": true, \"hovertext\": \"player= J. Hector\\n time= 13m1s\\n subEventName= Simple pass\\n result= success\", \"showarrow\": true, \"x\": 37.2, \"xref\": \"x\", \"y\": 64.0, \"yref\": \"y\"}, {\"arrowcolor\": \"#1f77b4\", \"arrowhead\": 4, \"arrowsize\": 2, \"ax\": 37.2, \"axref\": \"x\", \"ay\": 64.0, \"ayref\": \"y\", \"captureevents\": true, \"hovertext\": \"player= B. H\\u00f6wedes\\n time= 13m4s\\n subEventName= Simple pass\\n result= success\", \"showarrow\": true, \"x\": 48.0, \"xref\": \"x\", \"y\": 25.599999999999994, \"yref\": \"y\"}, {\"arrowcolor\": \"#1f77b4\", \"arrowhead\": 4, \"arrowsize\": 2, \"ax\": 48.0, \"axref\": \"x\", \"ay\": 25.599999999999994, \"ayref\": \"y\", \"captureevents\": true, \"hovertext\": \"player= J. Boateng\\n time= 13m11s\\n subEventName= Simple pass\\n result= success\", \"showarrow\": true, \"x\": 68.4, \"xref\": \"x\", \"y\": 60.8, \"yref\": \"y\"}, {\"arrowcolor\": \"#1f77b4\", \"arrowhead\": 4, \"arrowsize\": 2, \"ax\": 68.4, \"axref\": \"x\", \"ay\": 60.8, \"ayref\": \"y\", \"captureevents\": true, \"hovertext\": \"player= B. Schweinsteiger\\n time= 13m15s\\n subEventName= Simple pass\\n result= success\", \"showarrow\": true, \"x\": 87.6, \"xref\": \"x\", \"y\": 76.0, \"yref\": \"y\"}, {\"arrowcolor\": \"#1f77b4\", \"arrowhead\": 4, \"arrowsize\": 2, \"ax\": 90.0, \"axref\": \"x\", \"ay\": 76.0, \"ayref\": \"y\", \"captureevents\": true, \"hovertext\": \"player= J. Hector\\n time= 13m20s\\n subEventName= Simple pass\\n result= success\", \"showarrow\": true, \"x\": 78.0, \"xref\": \"x\", \"y\": 68.8, \"yref\": \"y\"}, {\"arrowcolor\": \"#1f77b4\", \"arrowhead\": 4, \"arrowsize\": 2, \"ax\": 78.0, \"axref\": \"x\", \"ay\": 68.8, \"ayref\": \"y\", \"captureevents\": true, \"hovertext\": \"player= J. Draxler\\n time= 13m22s\\n subEventName= Simple pass\\n result= success\", \"showarrow\": true, \"x\": 75.6, \"xref\": \"x\", \"y\": 68.8, \"yref\": \"y\"}, {\"arrowcolor\": \"#1f77b4\", \"arrowhead\": 4, \"arrowsize\": 2, \"ax\": 75.6, \"axref\": \"x\", \"ay\": 68.8, \"ayref\": \"y\", \"captureevents\": true, \"hovertext\": \"player= T. Kroos\\n time= 13m24s\\n subEventName= Simple pass\\n result= success\", \"showarrow\": true, \"x\": 66.0, \"xref\": \"x\", \"y\": 64.80000000000001, \"yref\": \"y\"}, {\"arrowcolor\": \"#1f77b4\", \"arrowhead\": 4, \"arrowsize\": 2, \"ax\": 66.0, \"axref\": \"x\", \"ay\": 64.80000000000001, \"ayref\": \"y\", \"captureevents\": true, \"hovertext\": \"player= B. H\\u00f6wedes\\n time= 13m25s\\n subEventName= Simple pass\\n result= success\", \"showarrow\": true, \"x\": 79.2, \"xref\": \"x\", \"y\": 52.8, \"yref\": \"y\"}, {\"arrowcolor\": \"#1f77b4\", \"arrowhead\": 4, \"arrowsize\": 2, \"ax\": 79.2, \"axref\": \"x\", \"ay\": 52.8, \"ayref\": \"y\", \"captureevents\": true, \"hovertext\": \"player= T. Kroos\\n time= 13m27s\\n subEventName= Simple pass\\n result= success\", \"showarrow\": true, \"x\": 91.2, \"xref\": \"x\", \"y\": 59.2, \"yref\": \"y\"}, {\"arrowcolor\": \"#1f77b4\", \"arrowhead\": 4, \"arrowsize\": 2, \"ax\": 91.2, \"axref\": \"x\", \"ay\": 59.2, \"ayref\": \"y\", \"captureevents\": true, \"hovertext\": \"player= M. \\u00d6zil\\n time= 13m30s\\n subEventName= Simple pass\\n result= success\", \"showarrow\": true, \"x\": 108.0, \"xref\": \"x\", \"y\": 61.6, \"yref\": \"y\"}, {\"arrowcolor\": \"#9467bd\", \"arrowhead\": 4, \"arrowsize\": 2, \"ax\": 108.0, \"axref\": \"x\", \"ay\": 61.6, \"ayref\": \"y\", \"captureevents\": true, \"hovertext\": \"player= J. Hector\\n time= 13m30s\\n subEventName= Cross\\n result= failure\", \"showarrow\": true, \"x\": 0.0, \"xref\": \"x\", \"y\": 80.0, \"yref\": \"y\"}, {\"arrowcolor\": \"#1f77b4\", \"arrowhead\": 4, \"arrowsize\": 2, \"ax\": 117.6, \"axref\": \"x\", \"ay\": 61.6, \"ayref\": \"y\", \"captureevents\": true, \"hovertext\": \"player= J. Hector\\n time= 13m36s\\n subEventName= Simple pass\\n result= success\", \"showarrow\": true, \"x\": 108.0, \"xref\": \"x\", \"y\": 51.2, \"yref\": \"y\"}, {\"arrowcolor\": \"#2ca02c\", \"arrowhead\": 4, \"arrowsize\": 2, \"ax\": 51.6, \"axref\": \"x\", \"ay\": 64.80000000000001, \"ayref\": \"y\", \"captureevents\": true, \"hovertext\": \"player= B. H\\u00f6wedes\\n time= 13m51s\\n subEventName= Launch\\n result= success\", \"showarrow\": true, \"x\": 86.4, \"xref\": \"x\", \"y\": 40.0, \"yref\": \"y\"}, {\"arrowcolor\": \"#1f77b4\", \"arrowhead\": 4, \"arrowsize\": 2, \"ax\": 86.4, \"axref\": \"x\", \"ay\": 40.0, \"ayref\": \"y\", \"captureevents\": true, \"hovertext\": \"player= T. M\\u00fcller\\n time= 13m55s\\n subEventName= Simple pass\\n result= failure\", \"showarrow\": true, \"x\": 84.0, \"xref\": \"x\", \"y\": 35.199999999999996, \"yref\": \"y\"}, {\"arrowcolor\": \"#d62728\", \"arrowhead\": 4, \"arrowsize\": 2, \"ax\": 73.2, \"axref\": \"x\", \"ay\": 58.4, \"ayref\": \"y\", \"captureevents\": true, \"hovertext\": \"player= E. Can\\n time= 14m34s\\n subEventName= Head pass\\n result= success\", \"showarrow\": true, \"x\": 46.8, \"xref\": \"x\", \"y\": 68.0, \"yref\": \"y\"}, {\"arrowcolor\": \"#1f77b4\", \"arrowhead\": 4, \"arrowsize\": 2, \"ax\": 31.2, \"axref\": \"x\", \"ay\": 67.2, \"ayref\": \"y\", \"captureevents\": true, \"hovertext\": \"player= J. Boateng\\n time= 14m39s\\n subEventName= Simple pass\\n result= success\", \"showarrow\": true, \"x\": 7.2, \"xref\": \"x\", \"y\": 55.199999999999996, \"yref\": \"y\"}, {\"arrowcolor\": \"#1f77b4\", \"arrowhead\": 4, \"arrowsize\": 2, \"ax\": 7.2, \"axref\": \"x\", \"ay\": 55.199999999999996, \"ayref\": \"y\", \"captureevents\": true, \"hovertext\": \"player= M. Neuer\\n time= 14m42s\\n subEventName= Simple pass\\n result= success\", \"showarrow\": true, \"x\": 30.0, \"xref\": \"x\", \"y\": 74.39999999999999, \"yref\": \"y\"}, {\"arrowcolor\": \"#1f77b4\", \"arrowhead\": 4, \"arrowsize\": 2, \"ax\": 30.0, \"axref\": \"x\", \"ay\": 74.39999999999999, \"ayref\": \"y\", \"captureevents\": true, \"hovertext\": \"player= B. H\\u00f6wedes\\n time= 14m46s\\n subEventName= Simple pass\\n result= success\", \"showarrow\": true, \"x\": 48.0, \"xref\": \"x\", \"y\": 60.8, \"yref\": \"y\"}, {\"arrowcolor\": \"#1f77b4\", \"arrowhead\": 4, \"arrowsize\": 2, \"ax\": 48.0, \"axref\": \"x\", \"ay\": 60.8, \"ayref\": \"y\", \"captureevents\": true, \"hovertext\": \"player= T. Kroos\\n time= 14m49s\\n subEventName= Simple pass\\n result= success\", \"showarrow\": true, \"x\": 79.2, \"xref\": \"x\", \"y\": 63.2, \"yref\": \"y\"}, {\"arrowcolor\": \"#1f77b4\", \"arrowhead\": 4, \"arrowsize\": 2, \"ax\": 79.2, \"axref\": \"x\", \"ay\": 63.2, \"ayref\": \"y\", \"captureevents\": true, \"hovertext\": \"player= J. Draxler\\n time= 14m50s\\n subEventName= Simple pass\\n result= success\", \"showarrow\": true, \"x\": 81.6, \"xref\": \"x\", \"y\": 76.8, \"yref\": \"y\"}, {\"arrowcolor\": \"#1f77b4\", \"arrowhead\": 4, \"arrowsize\": 2, \"ax\": 81.6, \"axref\": \"x\", \"ay\": 76.8, \"ayref\": \"y\", \"captureevents\": true, \"hovertext\": \"player= J. Hector\\n time= 14m52s\\n subEventName= Simple pass\\n result= success\", \"showarrow\": true, \"x\": 91.2, \"xref\": \"x\", \"y\": 56.8, \"yref\": \"y\"}, {\"arrowcolor\": \"#1f77b4\", \"arrowhead\": 4, \"arrowsize\": 2, \"ax\": 39.6, \"axref\": \"x\", \"ay\": 30.4, \"ayref\": \"y\", \"captureevents\": true, \"hovertext\": \"player= B. Schweinsteiger\\n time= 15m17s\\n subEventName= Simple pass\\n result= success\", \"showarrow\": true, \"x\": 25.2, \"xref\": \"x\", \"y\": 22.400000000000002, \"yref\": \"y\"}, {\"arrowcolor\": \"#1f77b4\", \"arrowhead\": 4, \"arrowsize\": 2, \"ax\": 25.2, \"axref\": \"x\", \"ay\": 22.400000000000002, \"ayref\": \"y\", \"captureevents\": true, \"hovertext\": \"player= J. Boateng\\n time= 15m20s\\n subEventName= Simple pass\\n result= success\", \"showarrow\": true, \"x\": 50.4, \"xref\": \"x\", \"y\": 6.399999999999997, \"yref\": \"y\"}, {\"arrowcolor\": \"#1f77b4\", \"arrowhead\": 4, \"arrowsize\": 2, \"ax\": 50.4, \"axref\": \"x\", \"ay\": 6.399999999999997, \"ayref\": \"y\", \"captureevents\": true, \"hovertext\": \"player= M. \\u00d6zil\\n time= 15m24s\\n subEventName= Simple pass\\n result= success\", \"showarrow\": true, \"x\": 70.8, \"xref\": \"x\", \"y\": 23.200000000000003, \"yref\": \"y\"}, {\"arrowcolor\": \"#1f77b4\", \"arrowhead\": 4, \"arrowsize\": 2, \"ax\": 70.8, \"axref\": \"x\", \"ay\": 23.200000000000003, \"ayref\": \"y\", \"captureevents\": true, \"hovertext\": \"player= T. M\\u00fcller\\n time= 15m25s\\n subEventName= Simple pass\\n result= success\", \"showarrow\": true, \"x\": 55.2, \"xref\": \"x\", \"y\": 20.8, \"yref\": \"y\"}, {\"arrowcolor\": \"#1f77b4\", \"arrowhead\": 4, \"arrowsize\": 2, \"ax\": 55.2, \"axref\": \"x\", \"ay\": 20.8, \"ayref\": \"y\", \"captureevents\": true, \"hovertext\": \"player= E. Can\\n time= 15m27s\\n subEventName= Simple pass\\n result= success\", \"showarrow\": true, \"x\": 50.4, \"xref\": \"x\", \"y\": 46.400000000000006, \"yref\": \"y\"}, {\"arrowcolor\": \"#1f77b4\", \"arrowhead\": 4, \"arrowsize\": 2, \"ax\": 50.4, \"axref\": \"x\", \"ay\": 46.400000000000006, \"ayref\": \"y\", \"captureevents\": true, \"hovertext\": \"player= T. Kroos\\n time= 15m28s\\n subEventName= Simple pass\\n result= success\", \"showarrow\": true, \"x\": 51.6, \"xref\": \"x\", \"y\": 24.000000000000004, \"yref\": \"y\"}, {\"arrowcolor\": \"#1f77b4\", \"arrowhead\": 4, \"arrowsize\": 2, \"ax\": 51.6, \"axref\": \"x\", \"ay\": 24.000000000000004, \"ayref\": \"y\", \"captureevents\": true, \"hovertext\": \"player= E. Can\\n time= 15m30s\\n subEventName= Simple pass\\n result= success\", \"showarrow\": true, \"x\": 38.4, \"xref\": \"x\", \"y\": 59.2, \"yref\": \"y\"}, {\"arrowcolor\": \"#1f77b4\", \"arrowhead\": 4, \"arrowsize\": 2, \"ax\": 38.4, \"axref\": \"x\", \"ay\": 59.2, \"ayref\": \"y\", \"captureevents\": true, \"hovertext\": \"player= B. H\\u00f6wedes\\n time= 15m32s\\n subEventName= Simple pass\\n result= success\", \"showarrow\": true, \"x\": 51.6, \"xref\": \"x\", \"y\": 61.6, \"yref\": \"y\"}, {\"arrowcolor\": \"#1f77b4\", \"arrowhead\": 4, \"arrowsize\": 2, \"ax\": 51.6, \"axref\": \"x\", \"ay\": 61.6, \"ayref\": \"y\", \"captureevents\": true, \"hovertext\": \"player= T. Kroos\\n time= 15m33s\\n subEventName= Simple pass\\n result= success\", \"showarrow\": true, \"x\": 79.2, \"xref\": \"x\", \"y\": 76.8, \"yref\": \"y\"}, {\"arrowcolor\": \"#1f77b4\", \"arrowhead\": 4, \"arrowsize\": 2, \"ax\": 79.2, \"axref\": \"x\", \"ay\": 76.8, \"ayref\": \"y\", \"captureevents\": true, \"hovertext\": \"player= J. Hector\\n time= 15m35s\\n subEventName= Simple pass\\n result= success\", \"showarrow\": true, \"x\": 86.4, \"xref\": \"x\", \"y\": 67.2, \"yref\": \"y\"}, {\"arrowcolor\": \"#1f77b4\", \"arrowhead\": 4, \"arrowsize\": 2, \"ax\": 86.4, \"axref\": \"x\", \"ay\": 67.2, \"ayref\": \"y\", \"captureevents\": true, \"hovertext\": \"player= J. Draxler\\n time= 15m36s\\n subEventName= Simple pass\\n result= success\", \"showarrow\": true, \"x\": 81.6, \"xref\": \"x\", \"y\": 77.6, \"yref\": \"y\"}, {\"arrowcolor\": \"#1f77b4\", \"arrowhead\": 4, \"arrowsize\": 2, \"ax\": 81.6, \"axref\": \"x\", \"ay\": 77.6, \"ayref\": \"y\", \"captureevents\": true, \"hovertext\": \"player= J. Hector\\n time= 15m38s\\n subEventName= Simple pass\\n result= success\", \"showarrow\": true, \"x\": 68.4, \"xref\": \"x\", \"y\": 64.80000000000001, \"yref\": \"y\"}, {\"arrowcolor\": \"#1f77b4\", \"arrowhead\": 4, \"arrowsize\": 2, \"ax\": 68.4, \"axref\": \"x\", \"ay\": 64.80000000000001, \"ayref\": \"y\", \"captureevents\": true, \"hovertext\": \"player= T. Kroos\\n time= 15m42s\\n subEventName= Simple pass\\n result= success\", \"showarrow\": true, \"x\": 73.2, \"xref\": \"x\", \"y\": 53.599999999999994, \"yref\": \"y\"}, {\"arrowcolor\": \"#1f77b4\", \"arrowhead\": 4, \"arrowsize\": 2, \"ax\": 73.2, \"axref\": \"x\", \"ay\": 53.599999999999994, \"ayref\": \"y\", \"captureevents\": true, \"hovertext\": \"player= B. Schweinsteiger\\n time= 15m44s\\n subEventName= Simple pass\\n result= success\", \"showarrow\": true, \"x\": 62.4, \"xref\": \"x\", \"y\": 32.800000000000004, \"yref\": \"y\"}, {\"arrowcolor\": \"#ff7f0e\", \"arrowhead\": 4, \"arrowsize\": 2, \"ax\": 62.4, \"axref\": \"x\", \"ay\": 32.800000000000004, \"ayref\": \"y\", \"captureevents\": true, \"hovertext\": \"player= J. Boateng\\n time= 15m47s\\n subEventName= High pass\\n result= success\", \"showarrow\": true, \"x\": 115.2, \"xref\": \"x\", \"y\": 68.0, \"yref\": \"y\"}, {\"arrowcolor\": \"#1f77b4\", \"arrowhead\": 4, \"arrowsize\": 2, \"ax\": 115.2, \"axref\": \"x\", \"ay\": 68.0, \"ayref\": \"y\", \"captureevents\": true, \"hovertext\": \"player= J. Hector\\n time= 15m49s\\n subEventName= Simple pass\\n result= success\", \"showarrow\": true, \"x\": 109.2, \"xref\": \"x\", \"y\": 56.0, \"yref\": \"y\"}, {\"arrowcolor\": \"#1f77b4\", \"arrowhead\": 4, \"arrowsize\": 2, \"ax\": 109.2, \"axref\": \"x\", \"ay\": 56.0, \"ayref\": \"y\", \"captureevents\": true, \"hovertext\": \"player= J. Draxler\\n time= 15m52s\\n subEventName= Simple pass\\n result= success\", \"showarrow\": true, \"x\": 110.4, \"xref\": \"x\", \"y\": 48.0, \"yref\": \"y\"}, {\"arrowcolor\": \"#1f77b4\", \"arrowhead\": 4, \"arrowsize\": 2, \"ax\": 24.0, \"axref\": \"x\", \"ay\": 40.8, \"ayref\": \"y\", \"captureevents\": true, \"hovertext\": \"player= B. Schweinsteiger\\n time= 16m32s\\n subEventName= Simple pass\\n result= success\", \"showarrow\": true, \"x\": 30.0, \"xref\": \"x\", \"y\": 65.60000000000001, \"yref\": \"y\"}, {\"arrowcolor\": \"#1f77b4\", \"arrowhead\": 4, \"arrowsize\": 2, \"ax\": 30.0, \"axref\": \"x\", \"ay\": 65.60000000000001, \"ayref\": \"y\", \"captureevents\": true, \"hovertext\": \"player= B. H\\u00f6wedes\\n time= 16m35s\\n subEventName= Simple pass\\n result= success\", \"showarrow\": true, \"x\": 46.8, \"xref\": \"x\", \"y\": 63.2, \"yref\": \"y\"}, {\"arrowcolor\": \"#1f77b4\", \"arrowhead\": 4, \"arrowsize\": 2, \"ax\": 46.8, \"axref\": \"x\", \"ay\": 63.2, \"ayref\": \"y\", \"captureevents\": true, \"hovertext\": \"player= T. Kroos\\n time= 16m38s\\n subEventName= Simple pass\\n result= success\", \"showarrow\": true, \"x\": 50.4, \"xref\": \"x\", \"y\": 44.800000000000004, \"yref\": \"y\"}, {\"arrowcolor\": \"#1f77b4\", \"arrowhead\": 4, \"arrowsize\": 2, \"ax\": 50.4, \"axref\": \"x\", \"ay\": 44.800000000000004, \"ayref\": \"y\", \"captureevents\": true, \"hovertext\": \"player= B. Schweinsteiger\\n time= 16m43s\\n subEventName= Simple pass\\n result= success\", \"showarrow\": true, \"x\": 64.8, \"xref\": \"x\", \"y\": 20.8, \"yref\": \"y\"}, {\"arrowcolor\": \"#1f77b4\", \"arrowhead\": 4, \"arrowsize\": 2, \"ax\": 64.8, \"axref\": \"x\", \"ay\": 20.8, \"ayref\": \"y\", \"captureevents\": true, \"hovertext\": \"player= J. Boateng\\n time= 16m46s\\n subEventName= Simple pass\\n result= success\", \"showarrow\": true, \"x\": 79.2, \"xref\": \"x\", \"y\": 7.1999999999999975, \"yref\": \"y\"}, {\"arrowcolor\": \"#1f77b4\", \"arrowhead\": 4, \"arrowsize\": 2, \"ax\": 79.2, \"axref\": \"x\", \"ay\": 7.1999999999999975, \"ayref\": \"y\", \"captureevents\": true, \"hovertext\": \"player= J. Kimmich\\n time= 16m49s\\n subEventName= Simple pass\\n result= success\", \"showarrow\": true, \"x\": 86.4, \"xref\": \"x\", \"y\": 15.999999999999996, \"yref\": \"y\"}, {\"arrowcolor\": \"#1f77b4\", \"arrowhead\": 4, \"arrowsize\": 2, \"ax\": 86.4, \"axref\": \"x\", \"ay\": 15.999999999999996, \"ayref\": \"y\", \"captureevents\": true, \"hovertext\": \"player= M. \\u00d6zil\\n time= 16m51s\\n subEventName= Simple pass\\n result= success\", \"showarrow\": true, \"x\": 76.8, \"xref\": \"x\", \"y\": 7.999999999999998, \"yref\": \"y\"}, {\"arrowcolor\": \"#1f77b4\", \"arrowhead\": 4, \"arrowsize\": 2, \"ax\": 76.8, \"axref\": \"x\", \"ay\": 7.999999999999998, \"ayref\": \"y\", \"captureevents\": true, \"hovertext\": \"player= J. Kimmich\\n time= 16m55s\\n subEventName= Simple pass\\n result= success\", \"showarrow\": true, \"x\": 69.6, \"xref\": \"x\", \"y\": 23.200000000000003, \"yref\": \"y\"}, {\"arrowcolor\": \"#1f77b4\", \"arrowhead\": 4, \"arrowsize\": 2, \"ax\": 69.6, \"axref\": \"x\", \"ay\": 23.200000000000003, \"ayref\": \"y\", \"captureevents\": true, \"hovertext\": \"player= J. Boateng\\n time= 17m1s\\n subEventName= Simple pass\\n result= success\", \"showarrow\": true, \"x\": 72.0, \"xref\": \"x\", \"y\": 51.2, \"yref\": \"y\"}, {\"arrowcolor\": \"#1f77b4\", \"arrowhead\": 4, \"arrowsize\": 2, \"ax\": 72.0, \"axref\": \"x\", \"ay\": 51.2, \"ayref\": \"y\", \"captureevents\": true, \"hovertext\": \"player= B. Schweinsteiger\\n time= 17m5s\\n subEventName= Simple pass\\n result= success\", \"showarrow\": true, \"x\": 82.8, \"xref\": \"x\", \"y\": 56.0, \"yref\": \"y\"}, {\"arrowcolor\": \"#1f77b4\", \"arrowhead\": 4, \"arrowsize\": 2, \"ax\": 82.8, \"axref\": \"x\", \"ay\": 56.0, \"ayref\": \"y\", \"captureevents\": true, \"hovertext\": \"player= J. Draxler\\n time= 17m6s\\n subEventName= Simple pass\\n result= success\", \"showarrow\": true, \"x\": 81.6, \"xref\": \"x\", \"y\": 60.8, \"yref\": \"y\"}, {\"arrowcolor\": \"#1f77b4\", \"arrowhead\": 4, \"arrowsize\": 2, \"ax\": 81.6, \"axref\": \"x\", \"ay\": 60.8, \"ayref\": \"y\", \"captureevents\": true, \"hovertext\": \"player= T. Kroos\\n time= 17m9s\\n subEventName= Simple pass\\n result= success\", \"showarrow\": true, \"x\": 70.8, \"xref\": \"x\", \"y\": 50.4, \"yref\": \"y\"}, {\"arrowcolor\": \"#1f77b4\", \"arrowhead\": 4, \"arrowsize\": 2, \"ax\": 70.8, \"axref\": \"x\", \"ay\": 50.4, \"ayref\": \"y\", \"captureevents\": true, \"hovertext\": \"player= B. Schweinsteiger\\n time= 17m11s\\n subEventName= Simple pass\\n result= success\", \"showarrow\": true, \"x\": 72.0, \"xref\": \"x\", \"y\": 64.80000000000001, \"yref\": \"y\"}, {\"arrowcolor\": \"#1f77b4\", \"arrowhead\": 4, \"arrowsize\": 2, \"ax\": 72.0, \"axref\": \"x\", \"ay\": 64.80000000000001, \"ayref\": \"y\", \"captureevents\": true, \"hovertext\": \"player= T. Kroos\\n time= 17m15s\\n subEventName= Simple pass\\n result= success\", \"showarrow\": true, \"x\": 76.8, \"xref\": \"x\", \"y\": 57.599999999999994, \"yref\": \"y\"}, {\"arrowcolor\": \"#1f77b4\", \"arrowhead\": 4, \"arrowsize\": 2, \"ax\": 76.8, \"axref\": \"x\", \"ay\": 57.599999999999994, \"ayref\": \"y\", \"captureevents\": true, \"hovertext\": \"player= B. Schweinsteiger\\n time= 17m16s\\n subEventName= Simple pass\\n result= success\", \"showarrow\": true, \"x\": 67.2, \"xref\": \"x\", \"y\": 59.2, \"yref\": \"y\"}, {\"arrowcolor\": \"#1f77b4\", \"arrowhead\": 4, \"arrowsize\": 2, \"ax\": 67.2, \"axref\": \"x\", \"ay\": 59.2, \"ayref\": \"y\", \"captureevents\": true, \"hovertext\": \"player= B. H\\u00f6wedes\\n time= 17m18s\\n subEventName= Simple pass\\n result= success\", \"showarrow\": true, \"x\": 64.8, \"xref\": \"x\", \"y\": 32.800000000000004, \"yref\": \"y\"}, {\"arrowcolor\": \"#1f77b4\", \"arrowhead\": 4, \"arrowsize\": 2, \"ax\": 64.8, \"axref\": \"x\", \"ay\": 32.800000000000004, \"ayref\": \"y\", \"captureevents\": true, \"hovertext\": \"player= J. Boateng\\n time= 17m23s\\n subEventName= Simple pass\\n result= success\", \"showarrow\": true, \"x\": 102.0, \"xref\": \"x\", \"y\": 6.399999999999997, \"yref\": \"y\"}, {\"arrowcolor\": \"#1f77b4\", \"arrowhead\": 4, \"arrowsize\": 2, \"ax\": 102.0, \"axref\": \"x\", \"ay\": 6.399999999999997, \"ayref\": \"y\", \"captureevents\": true, \"hovertext\": \"player= J. Kimmich\\n time= 17m26s\\n subEventName= Simple pass\\n result= success\", \"showarrow\": true, \"x\": 91.2, \"xref\": \"x\", \"y\": 26.4, \"yref\": \"y\"}, {\"arrowcolor\": \"#1f77b4\", \"arrowhead\": 4, \"arrowsize\": 2, \"ax\": 90.0, \"axref\": \"x\", \"ay\": 21.6, \"ayref\": \"y\", \"captureevents\": true, \"hovertext\": \"player= T. M\\u00fcller\\n time= 17m29s\\n subEventName= Simple pass\\n result= success\", \"showarrow\": true, \"x\": 86.4, \"xref\": \"x\", \"y\": 33.6, \"yref\": \"y\"}, {\"arrowcolor\": \"#1f77b4\", \"arrowhead\": 4, \"arrowsize\": 2, \"ax\": 86.4, \"axref\": \"x\", \"ay\": 33.6, \"ayref\": \"y\", \"captureevents\": true, \"hovertext\": \"player= J. Draxler\\n time= 17m30s\\n subEventName= Simple pass\\n result= failure\", \"showarrow\": true, \"x\": 120.0, \"xref\": \"x\", \"y\": 16.799999999999997, \"yref\": \"y\"}, {\"arrowcolor\": \"#1f77b4\", \"arrowhead\": 4, \"arrowsize\": 2, \"ax\": 52.8, \"axref\": \"x\", \"ay\": 59.2, \"ayref\": \"y\", \"captureevents\": true, \"hovertext\": \"player= J. Boateng\\n time= 18m12s\\n subEventName= Simple pass\\n result= success\", \"showarrow\": true, \"x\": 75.6, \"xref\": \"x\", \"y\": 52.8, \"yref\": \"y\"}, {\"arrowcolor\": \"#1f77b4\", \"arrowhead\": 4, \"arrowsize\": 2, \"ax\": 76.8, \"axref\": \"x\", \"ay\": 64.0, \"ayref\": \"y\", \"captureevents\": true, \"hovertext\": \"player= M. \\u00d6zil\\n time= 18m16s\\n subEventName= Simple pass\\n result= success\", \"showarrow\": true, \"x\": 87.6, \"xref\": \"x\", \"y\": 74.39999999999999, \"yref\": \"y\"}, {\"arrowcolor\": \"#1f77b4\", \"arrowhead\": 4, \"arrowsize\": 2, \"ax\": 87.6, \"axref\": \"x\", \"ay\": 74.39999999999999, \"ayref\": \"y\", \"captureevents\": true, \"hovertext\": \"player= J. Draxler\\n time= 18m18s\\n subEventName= Simple pass\\n result= success\", \"showarrow\": true, \"x\": 76.8, \"xref\": \"x\", \"y\": 60.0, \"yref\": \"y\"}, {\"arrowcolor\": \"#ff7f0e\", \"arrowhead\": 4, \"arrowsize\": 2, \"ax\": 76.8, \"axref\": \"x\", \"ay\": 60.0, \"ayref\": \"y\", \"captureevents\": true, \"hovertext\": \"player= T. Kroos\\n time= 18m19s\\n subEventName= High pass\\n result= success\", \"showarrow\": true, \"x\": 79.2, \"xref\": \"x\", \"y\": 16.799999999999997, \"yref\": \"y\"}, {\"arrowcolor\": \"#1f77b4\", \"arrowhead\": 4, \"arrowsize\": 2, \"ax\": 79.2, \"axref\": \"x\", \"ay\": 16.799999999999997, \"ayref\": \"y\", \"captureevents\": true, \"hovertext\": \"player= J. Kimmich\\n time= 18m28s\\n subEventName= Simple pass\\n result= success\", \"showarrow\": true, \"x\": 74.4, \"xref\": \"x\", \"y\": 22.400000000000002, \"yref\": \"y\"}, {\"arrowcolor\": \"#1f77b4\", \"arrowhead\": 4, \"arrowsize\": 2, \"ax\": 74.4, \"axref\": \"x\", \"ay\": 22.400000000000002, \"ayref\": \"y\", \"captureevents\": true, \"hovertext\": \"player= J. Boateng\\n time= 18m33s\\n subEventName= Simple pass\\n result= success\", \"showarrow\": true, \"x\": 66.0, \"xref\": \"x\", \"y\": 39.2, \"yref\": \"y\"}, {\"arrowcolor\": \"#1f77b4\", \"arrowhead\": 4, \"arrowsize\": 2, \"ax\": 66.0, \"axref\": \"x\", \"ay\": 39.2, \"ayref\": \"y\", \"captureevents\": true, \"hovertext\": \"player= B. Schweinsteiger\\n time= 18m34s\\n subEventName= Simple pass\\n result= success\", \"showarrow\": true, \"x\": 79.2, \"xref\": \"x\", \"y\": 60.0, \"yref\": \"y\"}, {\"arrowcolor\": \"#9467bd\", \"arrowhead\": 4, \"arrowsize\": 2, \"ax\": 79.2, \"axref\": \"x\", \"ay\": 60.0, \"ayref\": \"y\", \"captureevents\": true, \"hovertext\": \"player= M. \\u00d6zil\\n time= 18m38s\\n subEventName= Cross\\n result= failure\", \"showarrow\": true, \"x\": 105.6, \"xref\": \"x\", \"y\": 48.0, \"yref\": \"y\"}, {\"arrowcolor\": \"#1f77b4\", \"arrowhead\": 4, \"arrowsize\": 2, \"ax\": 61.2, \"axref\": \"x\", \"ay\": 56.8, \"ayref\": \"y\", \"captureevents\": true, \"hovertext\": \"player= B. H\\u00f6wedes\\n time= 18m44s\\n subEventName= Simple pass\\n result= success\", \"showarrow\": true, \"x\": 73.2, \"xref\": \"x\", \"y\": 68.8, \"yref\": \"y\"}, {\"arrowcolor\": \"#1f77b4\", \"arrowhead\": 4, \"arrowsize\": 2, \"ax\": 73.2, \"axref\": \"x\", \"ay\": 68.8, \"ayref\": \"y\", \"captureevents\": true, \"hovertext\": \"player= T. Kroos\\n time= 18m47s\\n subEventName= Simple pass\\n result= success\", \"showarrow\": true, \"x\": 84.0, \"xref\": \"x\", \"y\": 66.39999999999999, \"yref\": \"y\"}, {\"arrowcolor\": \"#1f77b4\", \"arrowhead\": 4, \"arrowsize\": 2, \"ax\": 84.0, \"axref\": \"x\", \"ay\": 66.39999999999999, \"ayref\": \"y\", \"captureevents\": true, \"hovertext\": \"player= M. \\u00d6zil\\n time= 18m49s\\n subEventName= Simple pass\\n result= success\", \"showarrow\": true, \"x\": 99.6, \"xref\": \"x\", \"y\": 78.4, \"yref\": \"y\"}, {\"arrowcolor\": \"#1f77b4\", \"arrowhead\": 4, \"arrowsize\": 2, \"ax\": 99.6, \"axref\": \"x\", \"ay\": 78.4, \"ayref\": \"y\", \"captureevents\": true, \"hovertext\": \"player= J. Hector\\n time= 18m51s\\n subEventName= Simple pass\\n result= success\", \"showarrow\": true, \"x\": 90.0, \"xref\": \"x\", \"y\": 68.8, \"yref\": \"y\"}, {\"arrowcolor\": \"#1f77b4\", \"arrowhead\": 4, \"arrowsize\": 2, \"ax\": 90.0, \"axref\": \"x\", \"ay\": 68.8, \"ayref\": \"y\", \"captureevents\": true, \"hovertext\": \"player= M. \\u00d6zil\\n time= 18m53s\\n subEventName= Simple pass\\n result= success\", \"showarrow\": true, \"x\": 79.2, \"xref\": \"x\", \"y\": 76.8, \"yref\": \"y\"}, {\"arrowcolor\": \"#1f77b4\", \"arrowhead\": 4, \"arrowsize\": 2, \"ax\": 79.2, \"axref\": \"x\", \"ay\": 76.8, \"ayref\": \"y\", \"captureevents\": true, \"hovertext\": \"player= J. Hector\\n time= 18m54s\\n subEventName= Simple pass\\n result= success\", \"showarrow\": true, \"x\": 68.4, \"xref\": \"x\", \"y\": 67.2, \"yref\": \"y\"}, {\"arrowcolor\": \"#1f77b4\", \"arrowhead\": 4, \"arrowsize\": 2, \"ax\": 68.4, \"axref\": \"x\", \"ay\": 67.2, \"ayref\": \"y\", \"captureevents\": true, \"hovertext\": \"player= T. Kroos\\n time= 19m0s\\n subEventName= Simple pass\\n result= success\", \"showarrow\": true, \"x\": 92.4, \"xref\": \"x\", \"y\": 68.8, \"yref\": \"y\"}, {\"arrowcolor\": \"#1f77b4\", \"arrowhead\": 4, \"arrowsize\": 2, \"ax\": 92.4, \"axref\": \"x\", \"ay\": 68.8, \"ayref\": \"y\", \"captureevents\": true, \"hovertext\": \"player= M. \\u00d6zil\\n time= 19m1s\\n subEventName= Simple pass\\n result= success\", \"showarrow\": true, \"x\": 79.2, \"xref\": \"x\", \"y\": 70.4, \"yref\": \"y\"}, {\"arrowcolor\": \"#9467bd\", \"arrowhead\": 4, \"arrowsize\": 2, \"ax\": 110.4, \"axref\": \"x\", \"ay\": 69.6, \"ayref\": \"y\", \"captureevents\": true, \"hovertext\": \"player= T. Kroos\\n time= 19m7s\\n subEventName= Cross\\n result= failure\", \"showarrow\": true, \"x\": 0.0, \"xref\": \"x\", \"y\": 80.0, \"yref\": \"y\"}, {\"arrowcolor\": \"#d62728\", \"arrowhead\": 4, \"arrowsize\": 2, \"ax\": 81.6, \"axref\": \"x\", \"ay\": 42.400000000000006, \"ayref\": \"y\", \"captureevents\": true, \"hovertext\": \"player= J. Boateng\\n time= 19m43s\\n subEventName= Head pass\\n result= failure\", \"showarrow\": true, \"x\": 91.2, \"xref\": \"x\", \"y\": 51.2, \"yref\": \"y\"}, {\"arrowcolor\": \"#1f77b4\", \"arrowhead\": 4, \"arrowsize\": 2, \"ax\": 21.6, \"axref\": \"x\", \"ay\": 39.2, \"ayref\": \"y\", \"captureevents\": true, \"hovertext\": \"player= B. Schweinsteiger\\n time= 19m58s\\n subEventName= Simple pass\\n result= success\", \"showarrow\": true, \"x\": 20.4, \"xref\": \"x\", \"y\": 22.400000000000002, \"yref\": \"y\"}, {\"arrowcolor\": \"#ff7f0e\", \"arrowhead\": 4, \"arrowsize\": 2, \"ax\": 20.4, \"axref\": \"x\", \"ay\": 22.400000000000002, \"ayref\": \"y\", \"captureevents\": true, \"hovertext\": \"player= J. Kimmich\\n time= 20m1s\\n subEventName= High pass\\n result= success\", \"showarrow\": true, \"x\": 64.8, \"xref\": \"x\", \"y\": 49.6, \"yref\": \"y\"}, {\"arrowcolor\": \"#1f77b4\", \"arrowhead\": 4, \"arrowsize\": 2, \"ax\": 64.8, \"axref\": \"x\", \"ay\": 49.6, \"ayref\": \"y\", \"captureevents\": true, \"hovertext\": \"player= J. Draxler\\n time= 20m8s\\n subEventName= Simple pass\\n result= success\", \"showarrow\": true, \"x\": 64.8, \"xref\": \"x\", \"y\": 60.0, \"yref\": \"y\"}, {\"arrowcolor\": \"#1f77b4\", \"arrowhead\": 4, \"arrowsize\": 2, \"ax\": 64.8, \"axref\": \"x\", \"ay\": 60.0, \"ayref\": \"y\", \"captureevents\": true, \"hovertext\": \"player= T. Kroos\\n time= 20m10s\\n subEventName= Simple pass\\n result= success\", \"showarrow\": true, \"x\": 67.2, \"xref\": \"x\", \"y\": 47.2, \"yref\": \"y\"}, {\"arrowcolor\": \"#1f77b4\", \"arrowhead\": 4, \"arrowsize\": 2, \"ax\": 67.2, \"axref\": \"x\", \"ay\": 47.2, \"ayref\": \"y\", \"captureevents\": true, \"hovertext\": \"player= E. Can\\n time= 20m13s\\n subEventName= Simple pass\\n result= success\", \"showarrow\": true, \"x\": 79.2, \"xref\": \"x\", \"y\": 60.0, \"yref\": \"y\"}, {\"arrowcolor\": \"#1f77b4\", \"arrowhead\": 4, \"arrowsize\": 2, \"ax\": 79.2, \"axref\": \"x\", \"ay\": 60.0, \"ayref\": \"y\", \"captureevents\": true, \"hovertext\": \"player= T. Kroos\\n time= 20m16s\\n subEventName= Simple pass\\n result= success\", \"showarrow\": true, \"x\": 90.0, \"xref\": \"x\", \"y\": 59.2, \"yref\": \"y\"}, {\"arrowcolor\": \"#1f77b4\", \"arrowhead\": 4, \"arrowsize\": 2, \"ax\": 90.0, \"axref\": \"x\", \"ay\": 59.2, \"ayref\": \"y\", \"captureevents\": true, \"hovertext\": \"player= T. M\\u00fcller\\n time= 20m17s\\n subEventName= Simple pass\\n result= success\", \"showarrow\": true, \"x\": 87.6, \"xref\": \"x\", \"y\": 54.39999999999999, \"yref\": \"y\"}, {\"arrowcolor\": \"#d62728\", \"arrowhead\": 4, \"arrowsize\": 2, \"ax\": 26.4, \"axref\": \"x\", \"ay\": 49.6, \"ayref\": \"y\", \"captureevents\": true, \"hovertext\": \"player= J. Boateng\\n time= 20m54s\\n subEventName= Head pass\\n result= success\", \"showarrow\": true, \"x\": 50.4, \"xref\": \"x\", \"y\": 60.8, \"yref\": \"y\"}, {\"arrowcolor\": \"#d62728\", \"arrowhead\": 4, \"arrowsize\": 2, \"ax\": 50.4, \"axref\": \"x\", \"ay\": 60.8, \"ayref\": \"y\", \"captureevents\": true, \"hovertext\": \"player= J. Draxler\\n time= 20m57s\\n subEventName= Head pass\\n result= success\", \"showarrow\": true, \"x\": 49.2, \"xref\": \"x\", \"y\": 49.6, \"yref\": \"y\"}, {\"arrowcolor\": \"#1f77b4\", \"arrowhead\": 4, \"arrowsize\": 2, \"ax\": 49.2, \"axref\": \"x\", \"ay\": 49.6, \"ayref\": \"y\", \"captureevents\": true, \"hovertext\": \"player= E. Can\\n time= 21m0s\\n subEventName= Simple pass\\n result= success\", \"showarrow\": true, \"x\": 39.6, \"xref\": \"x\", \"y\": 75.19999999999999, \"yref\": \"y\"}, {\"arrowcolor\": \"#1f77b4\", \"arrowhead\": 4, \"arrowsize\": 2, \"ax\": 39.6, \"axref\": \"x\", \"ay\": 75.19999999999999, \"ayref\": \"y\", \"captureevents\": true, \"hovertext\": \"player= J. Hector\\n time= 21m3s\\n subEventName= Simple pass\\n result= success\", \"showarrow\": true, \"x\": 33.6, \"xref\": \"x\", \"y\": 58.4, \"yref\": \"y\"}, {\"arrowcolor\": \"#1f77b4\", \"arrowhead\": 4, \"arrowsize\": 2, \"ax\": 33.6, \"axref\": \"x\", \"ay\": 58.4, \"ayref\": \"y\", \"captureevents\": true, \"hovertext\": \"player= B. Schweinsteiger\\n time= 21m7s\\n subEventName= Simple pass\\n result= success\", \"showarrow\": true, \"x\": 46.8, \"xref\": \"x\", \"y\": 52.8, \"yref\": \"y\"}, {\"arrowcolor\": \"#1f77b4\", \"arrowhead\": 4, \"arrowsize\": 2, \"ax\": 46.8, \"axref\": \"x\", \"ay\": 52.8, \"ayref\": \"y\", \"captureevents\": true, \"hovertext\": \"player= T. Kroos\\n time= 21m11s\\n subEventName= Simple pass\\n result= success\", \"showarrow\": true, \"x\": 36.0, \"xref\": \"x\", \"y\": 35.199999999999996, \"yref\": \"y\"}, {\"arrowcolor\": \"#1f77b4\", \"arrowhead\": 4, \"arrowsize\": 2, \"ax\": 36.0, \"axref\": \"x\", \"ay\": 35.199999999999996, \"ayref\": \"y\", \"captureevents\": true, \"hovertext\": \"player= B. Schweinsteiger\\n time= 21m14s\\n subEventName= Simple pass\\n result= success\", \"showarrow\": true, \"x\": 86.4, \"xref\": \"x\", \"y\": 58.4, \"yref\": \"y\"}, {\"arrowcolor\": \"#1f77b4\", \"arrowhead\": 4, \"arrowsize\": 2, \"ax\": 85.2, \"axref\": \"x\", \"ay\": 52.8, \"ayref\": \"y\", \"captureevents\": true, \"hovertext\": \"player= M. \\u00d6zil\\n time= 21m21s\\n subEventName= Simple pass\\n result= success\", \"showarrow\": true, \"x\": 104.4, \"xref\": \"x\", \"y\": 24.000000000000004, \"yref\": \"y\"}, {\"arrowcolor\": \"#1f77b4\", \"arrowhead\": 4, \"arrowsize\": 2, \"ax\": 82.8, \"axref\": \"x\", \"ay\": 28.0, \"ayref\": \"y\", \"captureevents\": true, \"hovertext\": \"player= E. Can\\n time= 21m34s\\n subEventName= Simple pass\\n result= success\", \"showarrow\": true, \"x\": 79.2, \"xref\": \"x\", \"y\": 40.8, \"yref\": \"y\"}, {\"arrowcolor\": \"#1f77b4\", \"arrowhead\": 4, \"arrowsize\": 2, \"ax\": 79.2, \"axref\": \"x\", \"ay\": 40.8, \"ayref\": \"y\", \"captureevents\": true, \"hovertext\": \"player= J. Draxler\\n time= 21m37s\\n subEventName= Simple pass\\n result= success\", \"showarrow\": true, \"x\": 79.2, \"xref\": \"x\", \"y\": 47.2, \"yref\": \"y\"}, {\"arrowcolor\": \"#e377c2\", \"arrowhead\": 4, \"arrowsize\": 2, \"ax\": 79.2, \"axref\": \"x\", \"ay\": 47.2, \"ayref\": \"y\", \"captureevents\": true, \"hovertext\": \"player= T. Kroos\\n time= 21m39s\\n subEventName= Smart pass\\n result= success\", \"showarrow\": true, \"x\": 112.8, \"xref\": \"x\", \"y\": 18.4, \"yref\": \"y\"}, {\"arrowcolor\": \"#1f77b4\", \"arrowhead\": 4, \"arrowsize\": 2, \"ax\": 74.4, \"axref\": \"x\", \"ay\": 6.399999999999997, \"ayref\": \"y\", \"captureevents\": true, \"hovertext\": \"player= J. Kimmich\\n time= 21m56s\\n subEventName= Simple pass\\n result= success\", \"showarrow\": true, \"x\": 72.0, \"xref\": \"x\", \"y\": 24.000000000000004, \"yref\": \"y\"}, {\"arrowcolor\": \"#1f77b4\", \"arrowhead\": 4, \"arrowsize\": 2, \"ax\": 72.0, \"axref\": \"x\", \"ay\": 24.000000000000004, \"ayref\": \"y\", \"captureevents\": true, \"hovertext\": \"player= E. Can\\n time= 21m59s\\n subEventName= Simple pass\\n result= success\", \"showarrow\": true, \"x\": 78.0, \"xref\": \"x\", \"y\": 33.6, \"yref\": \"y\"}, {\"arrowcolor\": \"#1f77b4\", \"arrowhead\": 4, \"arrowsize\": 2, \"ax\": 78.0, \"axref\": \"x\", \"ay\": 33.6, \"ayref\": \"y\", \"captureevents\": true, \"hovertext\": \"player= T. Kroos\\n time= 22m1s\\n subEventName= Simple pass\\n result= success\", \"showarrow\": true, \"x\": 74.4, \"xref\": \"x\", \"y\": 15.999999999999996, \"yref\": \"y\"}, {\"arrowcolor\": \"#1f77b4\", \"arrowhead\": 4, \"arrowsize\": 2, \"ax\": 74.4, \"axref\": \"x\", \"ay\": 15.999999999999996, \"ayref\": \"y\", \"captureevents\": true, \"hovertext\": \"player= J. Kimmich\\n time= 22m5s\\n subEventName= Simple pass\\n result= success\", \"showarrow\": true, \"x\": 94.8, \"xref\": \"x\", \"y\": 12.000000000000002, \"yref\": \"y\"}, {\"arrowcolor\": \"#e377c2\", \"arrowhead\": 4, \"arrowsize\": 2, \"ax\": 94.8, \"axref\": \"x\", \"ay\": 12.000000000000002, \"ayref\": \"y\", \"captureevents\": true, \"hovertext\": \"player= M. \\u00d6zil\\n time= 22m9s\\n subEventName= Smart pass\\n result= failure\", \"showarrow\": true, \"x\": 114.0, \"xref\": \"x\", \"y\": 33.6, \"yref\": \"y\"}, {\"arrowcolor\": \"#2ca02c\", \"arrowhead\": 4, \"arrowsize\": 2, \"ax\": 32.4, \"axref\": \"x\", \"ay\": 46.400000000000006, \"ayref\": \"y\", \"captureevents\": true, \"hovertext\": \"player= B. H\\u00f6wedes\\n time= 22m44s\\n subEventName= Launch\\n result= failure\", \"showarrow\": true, \"x\": 46.8, \"xref\": \"x\", \"y\": 35.199999999999996, \"yref\": \"y\"}, {\"arrowcolor\": \"#1f77b4\", \"arrowhead\": 4, \"arrowsize\": 2, \"ax\": 45.6, \"axref\": \"x\", \"ay\": 18.4, \"ayref\": \"y\", \"captureevents\": true, \"hovertext\": \"player= J. Boateng\\n time= 24m37s\\n subEventName= Simple pass\\n result= success\", \"showarrow\": true, \"x\": 92.4, \"xref\": \"x\", \"y\": 7.999999999999998, \"yref\": \"y\"}, {\"arrowcolor\": \"#1f77b4\", \"arrowhead\": 4, \"arrowsize\": 2, \"ax\": 92.4, \"axref\": \"x\", \"ay\": 7.999999999999998, \"ayref\": \"y\", \"captureevents\": true, \"hovertext\": \"player= J. Kimmich\\n time= 24m40s\\n subEventName= Simple pass\\n result= success\", \"showarrow\": true, \"x\": 85.2, \"xref\": \"x\", \"y\": 30.4, \"yref\": \"y\"}, {\"arrowcolor\": \"#1f77b4\", \"arrowhead\": 4, \"arrowsize\": 2, \"ax\": 85.2, \"axref\": \"x\", \"ay\": 30.4, \"ayref\": \"y\", \"captureevents\": true, \"hovertext\": \"player= E. Can\\n time= 24m42s\\n subEventName= Simple pass\\n result= success\", \"showarrow\": true, \"x\": 78.0, \"xref\": \"x\", \"y\": 17.599999999999998, \"yref\": \"y\"}, {\"arrowcolor\": \"#1f77b4\", \"arrowhead\": 4, \"arrowsize\": 2, \"ax\": 78.0, \"axref\": \"x\", \"ay\": 17.599999999999998, \"ayref\": \"y\", \"captureevents\": true, \"hovertext\": \"player= M. \\u00d6zil\\n time= 24m47s\\n subEventName= Simple pass\\n result= success\", \"showarrow\": true, \"x\": 61.2, \"xref\": \"x\", \"y\": 29.6, \"yref\": \"y\"}, {\"arrowcolor\": \"#1f77b4\", \"arrowhead\": 4, \"arrowsize\": 2, \"ax\": 61.2, \"axref\": \"x\", \"ay\": 29.6, \"ayref\": \"y\", \"captureevents\": true, \"hovertext\": \"player= J. Boateng\\n time= 24m50s\\n subEventName= Simple pass\\n result= success\", \"showarrow\": true, \"x\": 86.4, \"xref\": \"x\", \"y\": 10.4, \"yref\": \"y\"}, {\"arrowcolor\": \"#1f77b4\", \"arrowhead\": 4, \"arrowsize\": 2, \"ax\": 86.4, \"axref\": \"x\", \"ay\": 10.4, \"ayref\": \"y\", \"captureevents\": true, \"hovertext\": \"player= M. \\u00d6zil\\n time= 24m52s\\n subEventName= Simple pass\\n result= success\", \"showarrow\": true, \"x\": 100.8, \"xref\": \"x\", \"y\": 12.000000000000002, \"yref\": \"y\"}, {\"arrowcolor\": \"#1f77b4\", \"arrowhead\": 4, \"arrowsize\": 2, \"ax\": 100.8, \"axref\": \"x\", \"ay\": 12.000000000000002, \"ayref\": \"y\", \"captureevents\": true, \"hovertext\": \"player= J. Kimmich\\n time= 24m53s\\n subEventName= Simple pass\\n result= success\", \"showarrow\": true, \"x\": 112.8, \"xref\": \"x\", \"y\": 20.8, \"yref\": \"y\"}, {\"arrowcolor\": \"#1f77b4\", \"arrowhead\": 4, \"arrowsize\": 2, \"ax\": 115.2, \"axref\": \"x\", \"ay\": 20.8, \"ayref\": \"y\", \"captureevents\": true, \"hovertext\": \"player= E. Can\\n time= 24m56s\\n subEventName= Simple pass\\n result= failure\", \"showarrow\": true, \"x\": 111.6, \"xref\": \"x\", \"y\": 19.2, \"yref\": \"y\"}, {\"arrowcolor\": \"#9467bd\", \"arrowhead\": 4, \"arrowsize\": 2, \"ax\": 111.6, \"axref\": \"x\", \"ay\": 9.6, \"ayref\": \"y\", \"captureevents\": true, \"hovertext\": \"player= T. Kroos\\n time= 25m26s\\n subEventName= Cross\\n result= success\", \"showarrow\": true, \"x\": 108.0, \"xref\": \"x\", \"y\": 46.400000000000006, \"yref\": \"y\"}, {\"arrowcolor\": \"#d62728\", \"arrowhead\": 4, \"arrowsize\": 2, \"ax\": 93.6, \"axref\": \"x\", \"ay\": 24.000000000000004, \"ayref\": \"y\", \"captureevents\": true, \"hovertext\": \"player= J. Kimmich\\n time= 25m32s\\n subEventName= Head pass\\n result= success\", \"showarrow\": true, \"x\": 68.4, \"xref\": \"x\", \"y\": 37.599999999999994, \"yref\": \"y\"}, {\"arrowcolor\": \"#ff7f0e\", \"arrowhead\": 4, \"arrowsize\": 2, \"ax\": 68.4, \"axref\": \"x\", \"ay\": 37.599999999999994, \"ayref\": \"y\", \"captureevents\": true, \"hovertext\": \"player= J. Boateng\\n time= 25m37s\\n subEventName= High pass\\n result= success\", \"showarrow\": true, \"x\": 116.4, \"xref\": \"x\", \"y\": 76.8, \"yref\": \"y\"}, {\"arrowcolor\": \"#1f77b4\", \"arrowhead\": 4, \"arrowsize\": 2, \"ax\": 111.6, \"axref\": \"x\", \"ay\": 76.0, \"ayref\": \"y\", \"captureevents\": true, \"hovertext\": \"player= B. Schweinsteiger\\n time= 25m47s\\n subEventName= Simple pass\\n result= success\", \"showarrow\": true, \"x\": 93.6, \"xref\": \"x\", \"y\": 62.400000000000006, \"yref\": \"y\"}, {\"arrowcolor\": \"#1f77b4\", \"arrowhead\": 4, \"arrowsize\": 2, \"ax\": 93.6, \"axref\": \"x\", \"ay\": 62.400000000000006, \"ayref\": \"y\", \"captureevents\": true, \"hovertext\": \"player= J. Draxler\\n time= 25m48s\\n subEventName= Simple pass\\n result= success\", \"showarrow\": true, \"x\": 108.0, \"xref\": \"x\", \"y\": 49.6, \"yref\": \"y\"}, {\"arrowcolor\": \"#1f77b4\", \"arrowhead\": 4, \"arrowsize\": 2, \"ax\": 108.0, \"axref\": \"x\", \"ay\": 49.6, \"ayref\": \"y\", \"captureevents\": true, \"hovertext\": \"player= T. M\\u00fcller\\n time= 25m49s\\n subEventName= Simple pass\\n result= success\", \"showarrow\": true, \"x\": 110.4, \"xref\": \"x\", \"y\": 54.39999999999999, \"yref\": \"y\"}, {\"arrowcolor\": \"#9467bd\", \"arrowhead\": 4, \"arrowsize\": 2, \"ax\": 110.4, \"axref\": \"x\", \"ay\": 54.39999999999999, \"ayref\": \"y\", \"captureevents\": true, \"hovertext\": \"player= J. Draxler\\n time= 25m51s\\n subEventName= Cross\\n result= success\", \"showarrow\": true, \"x\": 110.4, \"xref\": \"x\", \"y\": 24.000000000000004, \"yref\": \"y\"}, {\"arrowcolor\": \"#9467bd\", \"arrowhead\": 4, \"arrowsize\": 2, \"ax\": 110.4, \"axref\": \"x\", \"ay\": 24.000000000000004, \"ayref\": \"y\", \"captureevents\": true, \"hovertext\": \"player= M. \\u00d6zil\\n time= 25m52s\\n subEventName= Cross\\n result= failure\", \"showarrow\": true, \"x\": 110.4, \"xref\": \"x\", \"y\": 37.599999999999994, \"yref\": \"y\"}, {\"arrowcolor\": \"#1f77b4\", \"arrowhead\": 4, \"arrowsize\": 2, \"ax\": 36.0, \"axref\": \"x\", \"ay\": 69.6, \"ayref\": \"y\", \"captureevents\": true, \"hovertext\": \"player= J. Hector\\n time= 26m32s\\n subEventName= Simple pass\\n result= success\", \"showarrow\": true, \"x\": 33.6, \"xref\": \"x\", \"y\": 49.6, \"yref\": \"y\"}, {\"arrowcolor\": \"#1f77b4\", \"arrowhead\": 4, \"arrowsize\": 2, \"ax\": 33.6, \"axref\": \"x\", \"ay\": 49.6, \"ayref\": \"y\", \"captureevents\": true, \"hovertext\": \"player= J. Boateng\\n time= 26m34s\\n subEventName= Simple pass\\n result= success\", \"showarrow\": true, \"x\": 33.6, \"xref\": \"x\", \"y\": 74.39999999999999, \"yref\": \"y\"}, {\"arrowcolor\": \"#2ca02c\", \"arrowhead\": 4, \"arrowsize\": 2, \"ax\": 33.6, \"axref\": \"x\", \"ay\": 74.39999999999999, \"ayref\": \"y\", \"captureevents\": true, \"hovertext\": \"player= J. Hector\\n time= 26m37s\\n subEventName= Launch\\n result= success\", \"showarrow\": true, \"x\": 49.2, \"xref\": \"x\", \"y\": 45.60000000000001, \"yref\": \"y\"}, {\"arrowcolor\": \"#1f77b4\", \"arrowhead\": 4, \"arrowsize\": 2, \"ax\": 34.8, \"axref\": \"x\", \"ay\": 32.800000000000004, \"ayref\": \"y\", \"captureevents\": true, \"hovertext\": \"player= B. Schweinsteiger\\n time= 26m54s\\n subEventName= Simple pass\\n result= success\", \"showarrow\": true, \"x\": 44.4, \"xref\": \"x\", \"y\": 10.4, \"yref\": \"y\"}, {\"arrowcolor\": \"#1f77b4\", \"arrowhead\": 4, \"arrowsize\": 2, \"ax\": 44.4, \"axref\": \"x\", \"ay\": 10.4, \"ayref\": \"y\", \"captureevents\": true, \"hovertext\": \"player= J. Kimmich\\n time= 26m58s\\n subEventName= Simple pass\\n result= success\", \"showarrow\": true, \"x\": 51.6, \"xref\": \"x\", \"y\": 21.6, \"yref\": \"y\"}, {\"arrowcolor\": \"#1f77b4\", \"arrowhead\": 4, \"arrowsize\": 2, \"ax\": 51.6, \"axref\": \"x\", \"ay\": 21.6, \"ayref\": \"y\", \"captureevents\": true, \"hovertext\": \"player= T. Kroos\\n time= 26m59s\\n subEventName= Simple pass\\n result= success\", \"showarrow\": true, \"x\": 30.0, \"xref\": \"x\", \"y\": 31.200000000000003, \"yref\": \"y\"}, {\"arrowcolor\": \"#1f77b4\", \"arrowhead\": 4, \"arrowsize\": 2, \"ax\": 30.0, \"axref\": \"x\", \"ay\": 31.200000000000003, \"ayref\": \"y\", \"captureevents\": true, \"hovertext\": \"player= J. Boateng\\n time= 27m3s\\n subEventName= Simple pass\\n result= success\", \"showarrow\": true, \"x\": 54.0, \"xref\": \"x\", \"y\": 53.599999999999994, \"yref\": \"y\"}, {\"arrowcolor\": \"#1f77b4\", \"arrowhead\": 4, \"arrowsize\": 2, \"ax\": 54.0, \"axref\": \"x\", \"ay\": 53.599999999999994, \"ayref\": \"y\", \"captureevents\": true, \"hovertext\": \"player= B. H\\u00f6wedes\\n time= 27m12s\\n subEventName= Simple pass\\n result= success\", \"showarrow\": true, \"x\": 52.8, \"xref\": \"x\", \"y\": 23.200000000000003, \"yref\": \"y\"}, {\"arrowcolor\": \"#1f77b4\", \"arrowhead\": 4, \"arrowsize\": 2, \"ax\": 52.8, \"axref\": \"x\", \"ay\": 23.200000000000003, \"ayref\": \"y\", \"captureevents\": true, \"hovertext\": \"player= J. Boateng\\n time= 27m14s\\n subEventName= Simple pass\\n result= success\", \"showarrow\": true, \"x\": 91.2, \"xref\": \"x\", \"y\": 6.399999999999997, \"yref\": \"y\"}, {\"arrowcolor\": \"#1f77b4\", \"arrowhead\": 4, \"arrowsize\": 2, \"ax\": 91.2, \"axref\": \"x\", \"ay\": 6.399999999999997, \"ayref\": \"y\", \"captureevents\": true, \"hovertext\": \"player= J. Kimmich\\n time= 27m18s\\n subEventName= Simple pass\\n result= success\", \"showarrow\": true, \"x\": 79.2, \"xref\": \"x\", \"y\": 19.2, \"yref\": \"y\"}, {\"arrowcolor\": \"#ff7f0e\", \"arrowhead\": 4, \"arrowsize\": 2, \"ax\": 79.2, \"axref\": \"x\", \"ay\": 19.2, \"ayref\": \"y\", \"captureevents\": true, \"hovertext\": \"player= M. \\u00d6zil\\n time= 27m20s\\n subEventName= High pass\\n result= success\", \"showarrow\": true, \"x\": 106.8, \"xref\": \"x\", \"y\": 30.4, \"yref\": \"y\"}, {\"arrowcolor\": \"#d62728\", \"arrowhead\": 4, \"arrowsize\": 2, \"ax\": 86.4, \"axref\": \"x\", \"ay\": 48.0, \"ayref\": \"y\", \"captureevents\": true, \"hovertext\": \"player= T. Kroos\\n time= 27m30s\\n subEventName= Head pass\\n result= failure\", \"showarrow\": true, \"x\": 105.6, \"xref\": \"x\", \"y\": 34.400000000000006, \"yref\": \"y\"}, {\"arrowcolor\": \"#1f77b4\", \"arrowhead\": 4, \"arrowsize\": 2, \"ax\": 73.2, \"axref\": \"x\", \"ay\": 60.0, \"ayref\": \"y\", \"captureevents\": true, \"hovertext\": \"player= B. H\\u00f6wedes\\n time= 27m38s\\n subEventName= Simple pass\\n result= success\", \"showarrow\": true, \"x\": 67.2, \"xref\": \"x\", \"y\": 44.0, \"yref\": \"y\"}, {\"arrowcolor\": \"#1f77b4\", \"arrowhead\": 4, \"arrowsize\": 2, \"ax\": 67.2, \"axref\": \"x\", \"ay\": 44.0, \"ayref\": \"y\", \"captureevents\": true, \"hovertext\": \"player= B. Schweinsteiger\\n time= 27m39s\\n subEventName= Simple pass\\n result= success\", \"showarrow\": true, \"x\": 67.2, \"xref\": \"x\", \"y\": 68.0, \"yref\": \"y\"}, {\"arrowcolor\": \"#1f77b4\", \"arrowhead\": 4, \"arrowsize\": 2, \"ax\": 67.2, \"axref\": \"x\", \"ay\": 68.0, \"ayref\": \"y\", \"captureevents\": true, \"hovertext\": \"player= B. H\\u00f6wedes\\n time= 27m40s\\n subEventName= Simple pass\\n result= success\", \"showarrow\": true, \"x\": 80.4, \"xref\": \"x\", \"y\": 80.0, \"yref\": \"y\"}, {\"arrowcolor\": \"#1f77b4\", \"arrowhead\": 4, \"arrowsize\": 2, \"ax\": 80.4, \"axref\": \"x\", \"ay\": 80.0, \"ayref\": \"y\", \"captureevents\": true, \"hovertext\": \"player= J. Hector\\n time= 27m42s\\n subEventName= Simple pass\\n result= success\", \"showarrow\": true, \"x\": 72.0, \"xref\": \"x\", \"y\": 69.6, \"yref\": \"y\"}, {\"arrowcolor\": \"#1f77b4\", \"arrowhead\": 4, \"arrowsize\": 2, \"ax\": 72.0, \"axref\": \"x\", \"ay\": 69.6, \"ayref\": \"y\", \"captureevents\": true, \"hovertext\": \"player= T. Kroos\\n time= 27m44s\\n subEventName= Simple pass\\n result= success\", \"showarrow\": true, \"x\": 48.0, \"xref\": \"x\", \"y\": 64.80000000000001, \"yref\": \"y\"}, {\"arrowcolor\": \"#1f77b4\", \"arrowhead\": 4, \"arrowsize\": 2, \"ax\": 48.0, \"axref\": \"x\", \"ay\": 64.80000000000001, \"ayref\": \"y\", \"captureevents\": true, \"hovertext\": \"player= B. H\\u00f6wedes\\n time= 27m47s\\n subEventName= Simple pass\\n result= success\", \"showarrow\": true, \"x\": 64.8, \"xref\": \"x\", \"y\": 36.8, \"yref\": \"y\"}, {\"arrowcolor\": \"#1f77b4\", \"arrowhead\": 4, \"arrowsize\": 2, \"ax\": 64.8, \"axref\": \"x\", \"ay\": 36.8, \"ayref\": \"y\", \"captureevents\": true, \"hovertext\": \"player= J. Boateng\\n time= 27m53s\\n subEventName= Simple pass\\n result= success\", \"showarrow\": true, \"x\": 63.6, \"xref\": \"x\", \"y\": 10.4, \"yref\": \"y\"}, {\"arrowcolor\": \"#1f77b4\", \"arrowhead\": 4, \"arrowsize\": 2, \"ax\": 63.6, \"axref\": \"x\", \"ay\": 10.4, \"ayref\": \"y\", \"captureevents\": true, \"hovertext\": \"player= M. \\u00d6zil\\n time= 27m56s\\n subEventName= Simple pass\\n result= success\", \"showarrow\": true, \"x\": 102.0, \"xref\": \"x\", \"y\": 9.6, \"yref\": \"y\"}, {\"arrowcolor\": \"#1f77b4\", \"arrowhead\": 4, \"arrowsize\": 2, \"ax\": 102.0, \"axref\": \"x\", \"ay\": 9.6, \"ayref\": \"y\", \"captureevents\": true, \"hovertext\": \"player= J. Kimmich\\n time= 28m0s\\n subEventName= Simple pass\\n result= success\", \"showarrow\": true, \"x\": 82.8, \"xref\": \"x\", \"y\": 12.800000000000002, \"yref\": \"y\"}, {\"arrowcolor\": \"#1f77b4\", \"arrowhead\": 4, \"arrowsize\": 2, \"ax\": 82.8, \"axref\": \"x\", \"ay\": 12.800000000000002, \"ayref\": \"y\", \"captureevents\": true, \"hovertext\": \"player= M. \\u00d6zil\\n time= 28m3s\\n subEventName= Simple pass\\n result= success\", \"showarrow\": true, \"x\": 75.6, \"xref\": \"x\", \"y\": 52.8, \"yref\": \"y\"}, {\"arrowcolor\": \"#1f77b4\", \"arrowhead\": 4, \"arrowsize\": 2, \"ax\": 75.6, \"axref\": \"x\", \"ay\": 52.8, \"ayref\": \"y\", \"captureevents\": true, \"hovertext\": \"player= B. Schweinsteiger\\n time= 28m8s\\n subEventName= Simple pass\\n result= success\", \"showarrow\": true, \"x\": 84.0, \"xref\": \"x\", \"y\": 64.0, \"yref\": \"y\"}, {\"arrowcolor\": \"#1f77b4\", \"arrowhead\": 4, \"arrowsize\": 2, \"ax\": 84.0, \"axref\": \"x\", \"ay\": 64.0, \"ayref\": \"y\", \"captureevents\": true, \"hovertext\": \"player= T. Kroos\\n time= 28m12s\\n subEventName= Simple pass\\n result= success\", \"showarrow\": true, \"x\": 68.4, \"xref\": \"x\", \"y\": 28.0, \"yref\": \"y\"}, {\"arrowcolor\": \"#1f77b4\", \"arrowhead\": 4, \"arrowsize\": 2, \"ax\": 68.4, \"axref\": \"x\", \"ay\": 28.0, \"ayref\": \"y\", \"captureevents\": true, \"hovertext\": \"player= J. Boateng\\n time= 28m15s\\n subEventName= Simple pass\\n result= success\", \"showarrow\": true, \"x\": 104.4, \"xref\": \"x\", \"y\": 6.399999999999997, \"yref\": \"y\"}, {\"arrowcolor\": \"#1f77b4\", \"arrowhead\": 4, \"arrowsize\": 2, \"ax\": 104.4, \"axref\": \"x\", \"ay\": 6.399999999999997, \"ayref\": \"y\", \"captureevents\": true, \"hovertext\": \"player= M. \\u00d6zil\\n time= 28m19s\\n subEventName= Simple pass\\n result= success\", \"showarrow\": true, \"x\": 81.6, \"xref\": \"x\", \"y\": 36.0, \"yref\": \"y\"}, {\"arrowcolor\": \"#1f77b4\", \"arrowhead\": 4, \"arrowsize\": 2, \"ax\": 81.6, \"axref\": \"x\", \"ay\": 36.0, \"ayref\": \"y\", \"captureevents\": true, \"hovertext\": \"player= J. Kimmich\\n time= 28m22s\\n subEventName= Simple pass\\n result= success\", \"showarrow\": true, \"x\": 82.8, \"xref\": \"x\", \"y\": 36.8, \"yref\": \"y\"}, {\"arrowcolor\": \"#1f77b4\", \"arrowhead\": 4, \"arrowsize\": 2, \"ax\": 82.8, \"axref\": \"x\", \"ay\": 36.8, \"ayref\": \"y\", \"captureevents\": true, \"hovertext\": \"player= B. Schweinsteiger\\n time= 28m24s\\n subEventName= Simple pass\\n result= success\", \"showarrow\": true, \"x\": 86.4, \"xref\": \"x\", \"y\": 61.6, \"yref\": \"y\"}, {\"arrowcolor\": \"#1f77b4\", \"arrowhead\": 4, \"arrowsize\": 2, \"ax\": 49.2, \"axref\": \"x\", \"ay\": 20.0, \"ayref\": \"y\", \"captureevents\": true, \"hovertext\": \"player= E. Can\\n time= 28m50s\\n subEventName= Simple pass\\n result= success\", \"showarrow\": true, \"x\": 43.2, \"xref\": \"x\", \"y\": 32.800000000000004, \"yref\": \"y\"}, {\"arrowcolor\": \"#1f77b4\", \"arrowhead\": 4, \"arrowsize\": 2, \"ax\": 43.2, \"axref\": \"x\", \"ay\": 32.800000000000004, \"ayref\": \"y\", \"captureevents\": true, \"hovertext\": \"player= B. Schweinsteiger\\n time= 28m54s\\n subEventName= Simple pass\\n result= success\", \"showarrow\": true, \"x\": 63.6, \"xref\": \"x\", \"y\": 41.6, \"yref\": \"y\"}, {\"arrowcolor\": \"#1f77b4\", \"arrowhead\": 4, \"arrowsize\": 2, \"ax\": 63.6, \"axref\": \"x\", \"ay\": 41.6, \"ayref\": \"y\", \"captureevents\": true, \"hovertext\": \"player= T. Kroos\\n time= 28m57s\\n subEventName= Simple pass\\n result= success\", \"showarrow\": true, \"x\": 85.2, \"xref\": \"x\", \"y\": 48.8, \"yref\": \"y\"}, {\"arrowcolor\": \"#1f77b4\", \"arrowhead\": 4, \"arrowsize\": 2, \"ax\": 85.2, \"axref\": \"x\", \"ay\": 48.8, \"ayref\": \"y\", \"captureevents\": true, \"hovertext\": \"player= J. Draxler\\n time= 28m59s\\n subEventName= Simple pass\\n result= success\", \"showarrow\": true, \"x\": 64.8, \"xref\": \"x\", \"y\": 33.6, \"yref\": \"y\"}, {\"arrowcolor\": \"#ff7f0e\", \"arrowhead\": 4, \"arrowsize\": 2, \"ax\": 64.8, \"axref\": \"x\", \"ay\": 33.6, \"ayref\": \"y\", \"captureevents\": true, \"hovertext\": \"player= B. Schweinsteiger\\n time= 29m2s\\n subEventName= High pass\\n result= failure\", \"showarrow\": true, \"x\": 99.6, \"xref\": \"x\", \"y\": 10.4, \"yref\": \"y\"}, {\"arrowcolor\": \"#1f77b4\", \"arrowhead\": 4, \"arrowsize\": 2, \"ax\": 64.8, \"axref\": \"x\", \"ay\": 7.999999999999998, \"ayref\": \"y\", \"captureevents\": true, \"hovertext\": \"player= M. \\u00d6zil\\n time= 29m10s\\n subEventName= Simple pass\\n result= success\", \"showarrow\": true, \"x\": 63.6, \"xref\": \"x\", \"y\": 33.6, \"yref\": \"y\"}, {\"arrowcolor\": \"#1f77b4\", \"arrowhead\": 4, \"arrowsize\": 2, \"ax\": 63.6, \"axref\": \"x\", \"ay\": 33.6, \"ayref\": \"y\", \"captureevents\": true, \"hovertext\": \"player= J. Boateng\\n time= 29m16s\\n subEventName= Simple pass\\n result= success\", \"showarrow\": true, \"x\": 63.6, \"xref\": \"x\", \"y\": 18.4, \"yref\": \"y\"}, {\"arrowcolor\": \"#1f77b4\", \"arrowhead\": 4, \"arrowsize\": 2, \"ax\": 63.6, \"axref\": \"x\", \"ay\": 18.4, \"ayref\": \"y\", \"captureevents\": true, \"hovertext\": \"player= B. Schweinsteiger\\n time= 29m18s\\n subEventName= Simple pass\\n result= success\", \"showarrow\": true, \"x\": 76.8, \"xref\": \"x\", \"y\": 20.0, \"yref\": \"y\"}, {\"arrowcolor\": \"#1f77b4\", \"arrowhead\": 4, \"arrowsize\": 2, \"ax\": 76.8, \"axref\": \"x\", \"ay\": 20.0, \"ayref\": \"y\", \"captureevents\": true, \"hovertext\": \"player= M. \\u00d6zil\\n time= 29m24s\\n subEventName= Simple pass\\n result= success\", \"showarrow\": true, \"x\": 64.8, \"xref\": \"x\", \"y\": 58.4, \"yref\": \"y\"}, {\"arrowcolor\": \"#1f77b4\", \"arrowhead\": 4, \"arrowsize\": 2, \"ax\": 64.8, \"axref\": \"x\", \"ay\": 58.4, \"ayref\": \"y\", \"captureevents\": true, \"hovertext\": \"player= B. H\\u00f6wedes\\n time= 29m27s\\n subEventName= Simple pass\\n result= success\", \"showarrow\": true, \"x\": 72.0, \"xref\": \"x\", \"y\": 67.2, \"yref\": \"y\"}, {\"arrowcolor\": \"#1f77b4\", \"arrowhead\": 4, \"arrowsize\": 2, \"ax\": 72.0, \"axref\": \"x\", \"ay\": 67.2, \"ayref\": \"y\", \"captureevents\": true, \"hovertext\": \"player= T. Kroos\\n time= 29m31s\\n subEventName= Simple pass\\n result= success\", \"showarrow\": true, \"x\": 87.6, \"xref\": \"x\", \"y\": 57.599999999999994, \"yref\": \"y\"}, {\"arrowcolor\": \"#1f77b4\", \"arrowhead\": 4, \"arrowsize\": 2, \"ax\": 87.6, \"axref\": \"x\", \"ay\": 57.599999999999994, \"ayref\": \"y\", \"captureevents\": true, \"hovertext\": \"player= J. Draxler\\n time= 29m33s\\n subEventName= Simple pass\\n result= success\", \"showarrow\": true, \"x\": 76.8, \"xref\": \"x\", \"y\": 68.0, \"yref\": \"y\"}, {\"arrowcolor\": \"#1f77b4\", \"arrowhead\": 4, \"arrowsize\": 2, \"ax\": 72.0, \"axref\": \"x\", \"ay\": 68.8, \"ayref\": \"y\", \"captureevents\": true, \"hovertext\": \"player= T. Kroos\\n time= 29m36s\\n subEventName= Simple pass\\n result= success\", \"showarrow\": true, \"x\": 55.2, \"xref\": \"x\", \"y\": 66.39999999999999, \"yref\": \"y\"}, {\"arrowcolor\": \"#1f77b4\", \"arrowhead\": 4, \"arrowsize\": 2, \"ax\": 55.2, \"axref\": \"x\", \"ay\": 66.39999999999999, \"ayref\": \"y\", \"captureevents\": true, \"hovertext\": \"player= B. H\\u00f6wedes\\n time= 29m38s\\n subEventName= Simple pass\\n result= success\", \"showarrow\": true, \"x\": 70.8, \"xref\": \"x\", \"y\": 52.0, \"yref\": \"y\"}, {\"arrowcolor\": \"#1f77b4\", \"arrowhead\": 4, \"arrowsize\": 2, \"ax\": 70.8, \"axref\": \"x\", \"ay\": 52.0, \"ayref\": \"y\", \"captureevents\": true, \"hovertext\": \"player= B. Schweinsteiger\\n time= 29m42s\\n subEventName= Simple pass\\n result= success\", \"showarrow\": true, \"x\": 84.0, \"xref\": \"x\", \"y\": 54.39999999999999, \"yref\": \"y\"}, {\"arrowcolor\": \"#1f77b4\", \"arrowhead\": 4, \"arrowsize\": 2, \"ax\": 84.0, \"axref\": \"x\", \"ay\": 54.39999999999999, \"ayref\": \"y\", \"captureevents\": true, \"hovertext\": \"player= J. Draxler\\n time= 29m43s\\n subEventName= Simple pass\\n result= success\", \"showarrow\": true, \"x\": 76.8, \"xref\": \"x\", \"y\": 33.6, \"yref\": \"y\"}, {\"arrowcolor\": \"#1f77b4\", \"arrowhead\": 4, \"arrowsize\": 2, \"ax\": 76.8, \"axref\": \"x\", \"ay\": 33.6, \"ayref\": \"y\", \"captureevents\": true, \"hovertext\": \"player= M. \\u00d6zil\\n time= 29m46s\\n subEventName= Simple pass\\n result= success\", \"showarrow\": true, \"x\": 85.2, \"xref\": \"x\", \"y\": 76.8, \"yref\": \"y\"}, {\"arrowcolor\": \"#1f77b4\", \"arrowhead\": 4, \"arrowsize\": 2, \"ax\": 85.2, \"axref\": \"x\", \"ay\": 76.8, \"ayref\": \"y\", \"captureevents\": true, \"hovertext\": \"player= J. Hector\\n time= 29m51s\\n subEventName= Simple pass\\n result= success\", \"showarrow\": true, \"x\": 68.4, \"xref\": \"x\", \"y\": 57.599999999999994, \"yref\": \"y\"}, {\"arrowcolor\": \"#1f77b4\", \"arrowhead\": 4, \"arrowsize\": 2, \"ax\": 68.4, \"axref\": \"x\", \"ay\": 57.599999999999994, \"ayref\": \"y\", \"captureevents\": true, \"hovertext\": \"player= B. Schweinsteiger\\n time= 29m55s\\n subEventName= Simple pass\\n result= success\", \"showarrow\": true, \"x\": 75.6, \"xref\": \"x\", \"y\": 25.599999999999994, \"yref\": \"y\"}, {\"arrowcolor\": \"#1f77b4\", \"arrowhead\": 4, \"arrowsize\": 2, \"ax\": 75.6, \"axref\": \"x\", \"ay\": 25.599999999999994, \"ayref\": \"y\", \"captureevents\": true, \"hovertext\": \"player= J. Boateng\\n time= 29m59s\\n subEventName= Simple pass\\n result= success\", \"showarrow\": true, \"x\": 103.2, \"xref\": \"x\", \"y\": 12.000000000000002, \"yref\": \"y\"}, {\"arrowcolor\": \"#1f77b4\", \"arrowhead\": 4, \"arrowsize\": 2, \"ax\": 106.8, \"axref\": \"x\", \"ay\": 10.4, \"ayref\": \"y\", \"captureevents\": true, \"hovertext\": \"player= J. Kimmich\\n time= 30m5s\\n subEventName= Simple pass\\n result= success\", \"showarrow\": true, \"x\": 106.8, \"xref\": \"x\", \"y\": 23.200000000000003, \"yref\": \"y\"}, {\"arrowcolor\": \"#1f77b4\", \"arrowhead\": 4, \"arrowsize\": 2, \"ax\": 109.2, \"axref\": \"x\", \"ay\": 20.8, \"ayref\": \"y\", \"captureevents\": true, \"hovertext\": \"player= E. Can\\n time= 30m6s\\n subEventName= Simple pass\\n result= success\", \"showarrow\": true, \"x\": 87.6, \"xref\": \"x\", \"y\": 14.400000000000004, \"yref\": \"y\"}, {\"arrowcolor\": \"#9467bd\", \"arrowhead\": 4, \"arrowsize\": 2, \"ax\": 87.6, \"axref\": \"x\", \"ay\": 14.400000000000004, \"ayref\": \"y\", \"captureevents\": true, \"hovertext\": \"player= J. Boateng\\n time= 30m8s\\n subEventName= Cross\\n result= failure\", \"showarrow\": true, \"x\": 104.4, \"xref\": \"x\", \"y\": 32.800000000000004, \"yref\": \"y\"}, {\"arrowcolor\": \"#1f77b4\", \"arrowhead\": 4, \"arrowsize\": 2, \"ax\": 51.6, \"axref\": \"x\", \"ay\": 23.200000000000003, \"ayref\": \"y\", \"captureevents\": true, \"hovertext\": \"player= B. Schweinsteiger\\n time= 30m17s\\n subEventName= Simple pass\\n result= success\", \"showarrow\": true, \"x\": 67.2, \"xref\": \"x\", \"y\": 17.599999999999998, \"yref\": \"y\"}, {\"arrowcolor\": \"#1f77b4\", \"arrowhead\": 4, \"arrowsize\": 2, \"ax\": 67.2, \"axref\": \"x\", \"ay\": 17.599999999999998, \"ayref\": \"y\", \"captureevents\": true, \"hovertext\": \"player= J. Kimmich\\n time= 30m20s\\n subEventName= Simple pass\\n result= success\", \"showarrow\": true, \"x\": 79.2, \"xref\": \"x\", \"y\": 24.000000000000004, \"yref\": \"y\"}, {\"arrowcolor\": \"#1f77b4\", \"arrowhead\": 4, \"arrowsize\": 2, \"ax\": 79.2, \"axref\": \"x\", \"ay\": 24.000000000000004, \"ayref\": \"y\", \"captureevents\": true, \"hovertext\": \"player= E. Can\\n time= 30m21s\\n subEventName= Simple pass\\n result= success\", \"showarrow\": true, \"x\": 72.0, \"xref\": \"x\", \"y\": 29.6, \"yref\": \"y\"}, {\"arrowcolor\": \"#1f77b4\", \"arrowhead\": 4, \"arrowsize\": 2, \"ax\": 72.0, \"axref\": \"x\", \"ay\": 29.6, \"ayref\": \"y\", \"captureevents\": true, \"hovertext\": \"player= J. Kimmich\\n time= 30m23s\\n subEventName= Simple pass\\n result= success\", \"showarrow\": true, \"x\": 66.0, \"xref\": \"x\", \"y\": 45.60000000000001, \"yref\": \"y\"}, {\"arrowcolor\": \"#1f77b4\", \"arrowhead\": 4, \"arrowsize\": 2, \"ax\": 66.0, \"axref\": \"x\", \"ay\": 45.60000000000001, \"ayref\": \"y\", \"captureevents\": true, \"hovertext\": \"player= M. \\u00d6zil\\n time= 30m25s\\n subEventName= Simple pass\\n result= success\", \"showarrow\": true, \"x\": 63.6, \"xref\": \"x\", \"y\": 55.199999999999996, \"yref\": \"y\"}, {\"arrowcolor\": \"#1f77b4\", \"arrowhead\": 4, \"arrowsize\": 2, \"ax\": 63.6, \"axref\": \"x\", \"ay\": 55.199999999999996, \"ayref\": \"y\", \"captureevents\": true, \"hovertext\": \"player= T. Kroos\\n time= 30m27s\\n subEventName= Simple pass\\n result= success\", \"showarrow\": true, \"x\": 84.0, \"xref\": \"x\", \"y\": 77.6, \"yref\": \"y\"}, {\"arrowcolor\": \"#1f77b4\", \"arrowhead\": 4, \"arrowsize\": 2, \"ax\": 84.0, \"axref\": \"x\", \"ay\": 77.6, \"ayref\": \"y\", \"captureevents\": true, \"hovertext\": \"player= J. Hector\\n time= 30m30s\\n subEventName= Simple pass\\n result= success\", \"showarrow\": true, \"x\": 84.0, \"xref\": \"x\", \"y\": 60.8, \"yref\": \"y\"}, {\"arrowcolor\": \"#1f77b4\", \"arrowhead\": 4, \"arrowsize\": 2, \"ax\": 84.0, \"axref\": \"x\", \"ay\": 60.8, \"ayref\": \"y\", \"captureevents\": true, \"hovertext\": \"player= M. \\u00d6zil\\n time= 30m32s\\n subEventName= Simple pass\\n result= success\", \"showarrow\": true, \"x\": 79.2, \"xref\": \"x\", \"y\": 47.2, \"yref\": \"y\"}, {\"arrowcolor\": \"#1f77b4\", \"arrowhead\": 4, \"arrowsize\": 2, \"ax\": 79.2, \"axref\": \"x\", \"ay\": 47.2, \"ayref\": \"y\", \"captureevents\": true, \"hovertext\": \"player= T. Kroos\\n time= 30m34s\\n subEventName= Simple pass\\n result= success\", \"showarrow\": true, \"x\": 102.0, \"xref\": \"x\", \"y\": 8.799999999999999, \"yref\": \"y\"}, {\"arrowcolor\": \"#1f77b4\", \"arrowhead\": 4, \"arrowsize\": 2, \"ax\": 81.6, \"axref\": \"x\", \"ay\": 75.19999999999999, \"ayref\": \"y\", \"captureevents\": true, \"hovertext\": \"player= J. Hector\\n time= 30m47s\\n subEventName= Simple pass\\n result= success\", \"showarrow\": true, \"x\": 70.8, \"xref\": \"x\", \"y\": 70.4, \"yref\": \"y\"}, {\"arrowcolor\": \"#1f77b4\", \"arrowhead\": 4, \"arrowsize\": 2, \"ax\": 70.8, \"axref\": \"x\", \"ay\": 70.4, \"ayref\": \"y\", \"captureevents\": true, \"hovertext\": \"player= B. H\\u00f6wedes\\n time= 30m51s\\n subEventName= Simple pass\\n result= success\", \"showarrow\": true, \"x\": 66.0, \"xref\": \"x\", \"y\": 59.2, \"yref\": \"y\"}, {\"arrowcolor\": \"#1f77b4\", \"arrowhead\": 4, \"arrowsize\": 2, \"ax\": 66.0, \"axref\": \"x\", \"ay\": 59.2, \"ayref\": \"y\", \"captureevents\": true, \"hovertext\": \"player= T. Kroos\\n time= 30m53s\\n subEventName= Simple pass\\n result= success\", \"showarrow\": true, \"x\": 68.4, \"xref\": \"x\", \"y\": 45.60000000000001, \"yref\": \"y\"}, {\"arrowcolor\": \"#ff7f0e\", \"arrowhead\": 4, \"arrowsize\": 2, \"ax\": 68.4, \"axref\": \"x\", \"ay\": 45.60000000000001, \"ayref\": \"y\", \"captureevents\": true, \"hovertext\": \"player= J. Boateng\\n time= 30m57s\\n subEventName= High pass\\n result= success\", \"showarrow\": true, \"x\": 104.4, \"xref\": \"x\", \"y\": 6.399999999999997, \"yref\": \"y\"}, {\"arrowcolor\": \"#9467bd\", \"arrowhead\": 4, \"arrowsize\": 2, \"ax\": 104.4, \"axref\": \"x\", \"ay\": 6.399999999999997, \"ayref\": \"y\", \"captureevents\": true, \"hovertext\": \"player= J. Kimmich\\n time= 31m0s\\n subEventName= Cross\\n result= failure\", \"showarrow\": true, \"x\": 0.0, \"xref\": \"x\", \"y\": 80.0, \"yref\": \"y\"}, {\"arrowcolor\": \"#1f77b4\", \"arrowhead\": 4, \"arrowsize\": 2, \"ax\": 81.6, \"axref\": \"x\", \"ay\": 22.400000000000002, \"ayref\": \"y\", \"captureevents\": true, \"hovertext\": \"player= J. Boateng\\n time= 31m18s\\n subEventName= Simple pass\\n result= success\", \"showarrow\": true, \"x\": 78.0, \"xref\": \"x\", \"y\": 61.6, \"yref\": \"y\"}, {\"arrowcolor\": \"#1f77b4\", \"arrowhead\": 4, \"arrowsize\": 2, \"ax\": 78.0, \"axref\": \"x\", \"ay\": 61.6, \"ayref\": \"y\", \"captureevents\": true, \"hovertext\": \"player= M. \\u00d6zil\\n time= 31m21s\\n subEventName= Simple pass\\n result= success\", \"showarrow\": true, \"x\": 87.6, \"xref\": \"x\", \"y\": 56.0, \"yref\": \"y\"}, {\"arrowcolor\": \"#1f77b4\", \"arrowhead\": 4, \"arrowsize\": 2, \"ax\": 90.0, \"axref\": \"x\", \"ay\": 60.0, \"ayref\": \"y\", \"captureevents\": true, \"hovertext\": \"player= J. Draxler\\n time= 31m25s\\n subEventName= Simple pass\\n result= success\", \"showarrow\": true, \"x\": 69.6, \"xref\": \"x\", \"y\": 52.8, \"yref\": \"y\"}, {\"arrowcolor\": \"#1f77b4\", \"arrowhead\": 4, \"arrowsize\": 2, \"ax\": 69.6, \"axref\": \"x\", \"ay\": 52.8, \"ayref\": \"y\", \"captureevents\": true, \"hovertext\": \"player= B. H\\u00f6wedes\\n time= 31m30s\\n subEventName= Simple pass\\n result= success\", \"showarrow\": true, \"x\": 75.6, \"xref\": \"x\", \"y\": 36.0, \"yref\": \"y\"}, {\"arrowcolor\": \"#1f77b4\", \"arrowhead\": 4, \"arrowsize\": 2, \"ax\": 75.6, \"axref\": \"x\", \"ay\": 36.0, \"ayref\": \"y\", \"captureevents\": true, \"hovertext\": \"player= J. Boateng\\n time= 31m35s\\n subEventName= Simple pass\\n result= success\", \"showarrow\": true, \"x\": 81.6, \"xref\": \"x\", \"y\": 20.0, \"yref\": \"y\"}, {\"arrowcolor\": \"#1f77b4\", \"arrowhead\": 4, \"arrowsize\": 2, \"ax\": 81.6, \"axref\": \"x\", \"ay\": 20.0, \"ayref\": \"y\", \"captureevents\": true, \"hovertext\": \"player= B. Schweinsteiger\\n time= 31m36s\\n subEventName= Simple pass\\n result= success\", \"showarrow\": true, \"x\": 86.4, \"xref\": \"x\", \"y\": 27.199999999999996, \"yref\": \"y\"}, {\"arrowcolor\": \"#1f77b4\", \"arrowhead\": 4, \"arrowsize\": 2, \"ax\": 86.4, \"axref\": \"x\", \"ay\": 27.199999999999996, \"ayref\": \"y\", \"captureevents\": true, \"hovertext\": \"player= T. M\\u00fcller\\n time= 31m37s\\n subEventName= Simple pass\\n result= success\", \"showarrow\": true, \"x\": 115.2, \"xref\": \"x\", \"y\": 9.6, \"yref\": \"y\"}, {\"arrowcolor\": \"#9467bd\", \"arrowhead\": 4, \"arrowsize\": 2, \"ax\": 115.2, \"axref\": \"x\", \"ay\": 9.6, \"ayref\": \"y\", \"captureevents\": true, \"hovertext\": \"player= J. Kimmich\\n time= 31m41s\\n subEventName= Cross\\n result= success\", \"showarrow\": true, \"x\": 108.0, \"xref\": \"x\", \"y\": 36.0, \"yref\": \"y\"}, {\"arrowcolor\": \"#d62728\", \"arrowhead\": 4, \"arrowsize\": 2, \"ax\": 108.0, \"axref\": \"x\", \"ay\": 36.0, \"ayref\": \"y\", \"captureevents\": true, \"hovertext\": \"player= T. M\\u00fcller\\n time= 31m42s\\n subEventName= Head pass\\n result= success\", \"showarrow\": true, \"x\": 109.2, \"xref\": \"x\", \"y\": 48.8, \"yref\": \"y\"}, {\"arrowcolor\": \"#1f77b4\", \"arrowhead\": 4, \"arrowsize\": 2, \"ax\": 109.2, \"axref\": \"x\", \"ay\": 48.8, \"ayref\": \"y\", \"captureevents\": true, \"hovertext\": \"player= J. Draxler\\n time= 31m44s\\n subEventName= Simple pass\\n result= success\", \"showarrow\": true, \"x\": 116.4, \"xref\": \"x\", \"y\": 44.0, \"yref\": \"y\"}, {\"arrowcolor\": \"#1f77b4\", \"arrowhead\": 4, \"arrowsize\": 2, \"ax\": 68.4, \"axref\": \"x\", \"ay\": 58.4, \"ayref\": \"y\", \"captureevents\": true, \"hovertext\": \"player= B. Schweinsteiger\\n time= 31m59s\\n subEventName= Simple pass\\n result= success\", \"showarrow\": true, \"x\": 79.2, \"xref\": \"x\", \"y\": 56.8, \"yref\": \"y\"}, {\"arrowcolor\": \"#e377c2\", \"arrowhead\": 4, \"arrowsize\": 2, \"ax\": 79.2, \"axref\": \"x\", \"ay\": 56.8, \"ayref\": \"y\", \"captureevents\": true, \"hovertext\": \"player= T. Kroos\\n time= 32m4s\\n subEventName= Smart pass\\n result= failure\", \"showarrow\": true, \"x\": 120.0, \"xref\": \"x\", \"y\": 72.8, \"yref\": \"y\"}, {\"arrowcolor\": \"#1f77b4\", \"arrowhead\": 4, \"arrowsize\": 2, \"ax\": 84.0, \"axref\": \"x\", \"ay\": 54.39999999999999, \"ayref\": \"y\", \"captureevents\": true, \"hovertext\": \"player= T. Kroos\\n time= 32m47s\\n subEventName= Simple pass\\n result= failure\", \"showarrow\": true, \"x\": 85.2, \"xref\": \"x\", \"y\": 31.200000000000003, \"yref\": \"y\"}, {\"arrowcolor\": \"#ff7f0e\", \"arrowhead\": 4, \"arrowsize\": 2, \"ax\": 24.0, \"axref\": \"x\", \"ay\": 37.599999999999994, \"ayref\": \"y\", \"captureevents\": true, \"hovertext\": \"player= T. Kroos\\n time= 33m1s\\n subEventName= High pass\\n result= success\", \"showarrow\": true, \"x\": 50.4, \"xref\": \"x\", \"y\": 10.4, \"yref\": \"y\"}, {\"arrowcolor\": \"#1f77b4\", \"arrowhead\": 4, \"arrowsize\": 2, \"ax\": 73.2, \"axref\": \"x\", \"ay\": 17.599999999999998, \"ayref\": \"y\", \"captureevents\": true, \"hovertext\": \"player= E. Can\\n time= 33m21s\\n subEventName= Simple pass\\n result= success\", \"showarrow\": true, \"x\": 79.2, \"xref\": \"x\", \"y\": 52.8, \"yref\": \"y\"}, {\"arrowcolor\": \"#1f77b4\", \"arrowhead\": 4, \"arrowsize\": 2, \"ax\": 79.2, \"axref\": \"x\", \"ay\": 52.8, \"ayref\": \"y\", \"captureevents\": true, \"hovertext\": \"player= J. Draxler\\n time= 33m25s\\n subEventName= Simple pass\\n result= success\", \"showarrow\": true, \"x\": 82.8, \"xref\": \"x\", \"y\": 76.8, \"yref\": \"y\"}, {\"arrowcolor\": \"#1f77b4\", \"arrowhead\": 4, \"arrowsize\": 2, \"ax\": 82.8, \"axref\": \"x\", \"ay\": 76.8, \"ayref\": \"y\", \"captureevents\": true, \"hovertext\": \"player= J. Hector\\n time= 33m29s\\n subEventName= Simple pass\\n result= success\", \"showarrow\": true, \"x\": 63.6, \"xref\": \"x\", \"y\": 56.0, \"yref\": \"y\"}, {\"arrowcolor\": \"#1f77b4\", \"arrowhead\": 4, \"arrowsize\": 2, \"ax\": 63.6, \"axref\": \"x\", \"ay\": 56.0, \"ayref\": \"y\", \"captureevents\": true, \"hovertext\": \"player= B. H\\u00f6wedes\\n time= 33m33s\\n subEventName= Simple pass\\n result= success\", \"showarrow\": true, \"x\": 82.8, \"xref\": \"x\", \"y\": 56.0, \"yref\": \"y\"}, {\"arrowcolor\": \"#1f77b4\", \"arrowhead\": 4, \"arrowsize\": 2, \"ax\": 82.8, \"axref\": \"x\", \"ay\": 56.0, \"ayref\": \"y\", \"captureevents\": true, \"hovertext\": \"player= T. M\\u00fcller\\n time= 33m34s\\n subEventName= Simple pass\\n result= success\", \"showarrow\": true, \"x\": 67.2, \"xref\": \"x\", \"y\": 52.0, \"yref\": \"y\"}, {\"arrowcolor\": \"#1f77b4\", \"arrowhead\": 4, \"arrowsize\": 2, \"ax\": 67.2, \"axref\": \"x\", \"ay\": 52.0, \"ayref\": \"y\", \"captureevents\": true, \"hovertext\": \"player= B. H\\u00f6wedes\\n time= 33m37s\\n subEventName= Simple pass\\n result= success\", \"showarrow\": true, \"x\": 90.0, \"xref\": \"x\", \"y\": 23.200000000000003, \"yref\": \"y\"}, {\"arrowcolor\": \"#1f77b4\", \"arrowhead\": 4, \"arrowsize\": 2, \"ax\": 90.0, \"axref\": \"x\", \"ay\": 23.200000000000003, \"ayref\": \"y\", \"captureevents\": true, \"hovertext\": \"player= M. \\u00d6zil\\n time= 33m43s\\n subEventName= Simple pass\\n result= success\", \"showarrow\": true, \"x\": 75.6, \"xref\": \"x\", \"y\": 45.60000000000001, \"yref\": \"y\"}, {\"arrowcolor\": \"#1f77b4\", \"arrowhead\": 4, \"arrowsize\": 2, \"ax\": 75.6, \"axref\": \"x\", \"ay\": 45.60000000000001, \"ayref\": \"y\", \"captureevents\": true, \"hovertext\": \"player= B. Schweinsteiger\\n time= 33m47s\\n subEventName= Simple pass\\n result= success\", \"showarrow\": true, \"x\": 76.8, \"xref\": \"x\", \"y\": 57.599999999999994, \"yref\": \"y\"}, {\"arrowcolor\": \"#1f77b4\", \"arrowhead\": 4, \"arrowsize\": 2, \"ax\": 76.8, \"axref\": \"x\", \"ay\": 57.599999999999994, \"ayref\": \"y\", \"captureevents\": true, \"hovertext\": \"player= T. Kroos\\n time= 33m51s\\n subEventName= Simple pass\\n result= success\", \"showarrow\": true, \"x\": 72.0, \"xref\": \"x\", \"y\": 24.000000000000004, \"yref\": \"y\"}, {\"arrowcolor\": \"#1f77b4\", \"arrowhead\": 4, \"arrowsize\": 2, \"ax\": 72.0, \"axref\": \"x\", \"ay\": 24.000000000000004, \"ayref\": \"y\", \"captureevents\": true, \"hovertext\": \"player= J. Boateng\\n time= 33m54s\\n subEventName= Simple pass\\n result= success\", \"showarrow\": true, \"x\": 110.4, \"xref\": \"x\", \"y\": 8.799999999999999, \"yref\": \"y\"}, {\"arrowcolor\": \"#1f77b4\", \"arrowhead\": 4, \"arrowsize\": 2, \"ax\": 110.4, \"axref\": \"x\", \"ay\": 8.799999999999999, \"ayref\": \"y\", \"captureevents\": true, \"hovertext\": \"player= J. Kimmich\\n time= 34m0s\\n subEventName= Simple pass\\n result= success\", \"showarrow\": true, \"x\": 87.6, \"xref\": \"x\", \"y\": 16.799999999999997, \"yref\": \"y\"}, {\"arrowcolor\": \"#9467bd\", \"arrowhead\": 4, \"arrowsize\": 2, \"ax\": 87.6, \"axref\": \"x\", \"ay\": 16.799999999999997, \"ayref\": \"y\", \"captureevents\": true, \"hovertext\": \"player= M. \\u00d6zil\\n time= 34m2s\\n subEventName= Cross\\n result= failure\", \"showarrow\": true, \"x\": 0.0, \"xref\": \"x\", \"y\": 80.0, \"yref\": \"y\"}, {\"arrowcolor\": \"#1f77b4\", \"arrowhead\": 4, \"arrowsize\": 2, \"ax\": 46.8, \"axref\": \"x\", \"ay\": 52.8, \"ayref\": \"y\", \"captureevents\": true, \"hovertext\": \"player= B. Schweinsteiger\\n time= 37m6s\\n subEventName= Simple pass\\n result= success\", \"showarrow\": true, \"x\": 34.8, \"xref\": \"x\", \"y\": 66.39999999999999, \"yref\": \"y\"}, {\"arrowcolor\": \"#1f77b4\", \"arrowhead\": 4, \"arrowsize\": 2, \"ax\": 34.8, \"axref\": \"x\", \"ay\": 66.39999999999999, \"ayref\": \"y\", \"captureevents\": true, \"hovertext\": \"player= B. H\\u00f6wedes\\n time= 37m9s\\n subEventName= Simple pass\\n result= success\", \"showarrow\": true, \"x\": 52.8, \"xref\": \"x\", \"y\": 72.8, \"yref\": \"y\"}, {\"arrowcolor\": \"#1f77b4\", \"arrowhead\": 4, \"arrowsize\": 2, \"ax\": 52.8, \"axref\": \"x\", \"ay\": 72.8, \"ayref\": \"y\", \"captureevents\": true, \"hovertext\": \"player= T. Kroos\\n time= 37m9s\\n subEventName= Simple pass\\n result= success\", \"showarrow\": true, \"x\": 40.8, \"xref\": \"x\", \"y\": 57.599999999999994, \"yref\": \"y\"}, {\"arrowcolor\": \"#1f77b4\", \"arrowhead\": 4, \"arrowsize\": 2, \"ax\": 40.8, \"axref\": \"x\", \"ay\": 57.599999999999994, \"ayref\": \"y\", \"captureevents\": true, \"hovertext\": \"player= B. Schweinsteiger\\n time= 37m12s\\n subEventName= Simple pass\\n result= success\", \"showarrow\": true, \"x\": 40.8, \"xref\": \"x\", \"y\": 70.4, \"yref\": \"y\"}, {\"arrowcolor\": \"#1f77b4\", \"arrowhead\": 4, \"arrowsize\": 2, \"ax\": 40.8, \"axref\": \"x\", \"ay\": 70.4, \"ayref\": \"y\", \"captureevents\": true, \"hovertext\": \"player= B. H\\u00f6wedes\\n time= 37m18s\\n subEventName= Simple pass\\n result= success\", \"showarrow\": true, \"x\": 66.0, \"xref\": \"x\", \"y\": 79.2, \"yref\": \"y\"}, {\"arrowcolor\": \"#1f77b4\", \"arrowhead\": 4, \"arrowsize\": 2, \"ax\": 66.0, \"axref\": \"x\", \"ay\": 79.2, \"ayref\": \"y\", \"captureevents\": true, \"hovertext\": \"player= J. Hector\\n time= 37m19s\\n subEventName= Simple pass\\n result= success\", \"showarrow\": true, \"x\": 50.4, \"xref\": \"x\", \"y\": 52.0, \"yref\": \"y\"}, {\"arrowcolor\": \"#1f77b4\", \"arrowhead\": 4, \"arrowsize\": 2, \"ax\": 50.4, \"axref\": \"x\", \"ay\": 52.0, \"ayref\": \"y\", \"captureevents\": true, \"hovertext\": \"player= B. H\\u00f6wedes\\n time= 37m27s\\n subEventName= Simple pass\\n result= success\", \"showarrow\": true, \"x\": 44.4, \"xref\": \"x\", \"y\": 15.999999999999996, \"yref\": \"y\"}, {\"arrowcolor\": \"#1f77b4\", \"arrowhead\": 4, \"arrowsize\": 2, \"ax\": 44.4, \"axref\": \"x\", \"ay\": 15.999999999999996, \"ayref\": \"y\", \"captureevents\": true, \"hovertext\": \"player= J. Boateng\\n time= 37m30s\\n subEventName= Simple pass\\n result= success\", \"showarrow\": true, \"x\": 88.8, \"xref\": \"x\", \"y\": 6.399999999999997, \"yref\": \"y\"}, {\"arrowcolor\": \"#1f77b4\", \"arrowhead\": 4, \"arrowsize\": 2, \"ax\": 88.8, \"axref\": \"x\", \"ay\": 6.399999999999997, \"ayref\": \"y\", \"captureevents\": true, \"hovertext\": \"player= J. Kimmich\\n time= 37m31s\\n subEventName= Simple pass\\n result= success\", \"showarrow\": true, \"x\": 110.4, \"xref\": \"x\", \"y\": 6.399999999999997, \"yref\": \"y\"}, {\"arrowcolor\": \"#1f77b4\", \"arrowhead\": 4, \"arrowsize\": 2, \"ax\": 87.6, \"axref\": \"x\", \"ay\": 8.799999999999999, \"ayref\": \"y\", \"captureevents\": true, \"hovertext\": \"player= M. \\u00d6zil\\n time= 37m39s\\n subEventName= Simple pass\\n result= success\", \"showarrow\": true, \"x\": 68.4, \"xref\": \"x\", \"y\": 29.6, \"yref\": \"y\"}, {\"arrowcolor\": \"#1f77b4\", \"arrowhead\": 4, \"arrowsize\": 2, \"ax\": 68.4, \"axref\": \"x\", \"ay\": 29.6, \"ayref\": \"y\", \"captureevents\": true, \"hovertext\": \"player= J. Boateng\\n time= 37m43s\\n subEventName= Simple pass\\n result= success\", \"showarrow\": true, \"x\": 85.2, \"xref\": \"x\", \"y\": 42.400000000000006, \"yref\": \"y\"}, {\"arrowcolor\": \"#1f77b4\", \"arrowhead\": 4, \"arrowsize\": 2, \"ax\": 42.0, \"axref\": \"x\", \"ay\": 77.6, \"ayref\": \"y\", \"captureevents\": true, \"hovertext\": \"player= J. Hector\\n time= 38m37s\\n subEventName= Simple pass\\n result= success\", \"showarrow\": true, \"x\": 43.2, \"xref\": \"x\", \"y\": 65.60000000000001, \"yref\": \"y\"}, {\"arrowcolor\": \"#1f77b4\", \"arrowhead\": 4, \"arrowsize\": 2, \"ax\": 43.2, \"axref\": \"x\", \"ay\": 65.60000000000001, \"ayref\": \"y\", \"captureevents\": true, \"hovertext\": \"player= B. Schweinsteiger\\n time= 38m39s\\n subEventName= Simple pass\\n result= success\", \"showarrow\": true, \"x\": 57.6, \"xref\": \"x\", \"y\": 40.0, \"yref\": \"y\"}, {\"arrowcolor\": \"#1f77b4\", \"arrowhead\": 4, \"arrowsize\": 2, \"ax\": 57.6, \"axref\": \"x\", \"ay\": 40.0, \"ayref\": \"y\", \"captureevents\": true, \"hovertext\": \"player= E. Can\\n time= 38m43s\\n subEventName= Simple pass\\n result= success\", \"showarrow\": true, \"x\": 68.4, \"xref\": \"x\", \"y\": 21.6, \"yref\": \"y\"}, {\"arrowcolor\": \"#1f77b4\", \"arrowhead\": 4, \"arrowsize\": 2, \"ax\": 68.4, \"axref\": \"x\", \"ay\": 21.6, \"ayref\": \"y\", \"captureevents\": true, \"hovertext\": \"player= M. \\u00d6zil\\n time= 38m47s\\n subEventName= Simple pass\\n result= success\", \"showarrow\": true, \"x\": 90.0, \"xref\": \"x\", \"y\": 28.799999999999997, \"yref\": \"y\"}, {\"arrowcolor\": \"#1f77b4\", \"arrowhead\": 4, \"arrowsize\": 2, \"ax\": 90.0, \"axref\": \"x\", \"ay\": 28.799999999999997, \"ayref\": \"y\", \"captureevents\": true, \"hovertext\": \"player= T. M\\u00fcller\\n time= 38m49s\\n subEventName= Simple pass\\n result= success\", \"showarrow\": true, \"x\": 81.6, \"xref\": \"x\", \"y\": 7.1999999999999975, \"yref\": \"y\"}, {\"arrowcolor\": \"#1f77b4\", \"arrowhead\": 4, \"arrowsize\": 2, \"ax\": 81.6, \"axref\": \"x\", \"ay\": 7.1999999999999975, \"ayref\": \"y\", \"captureevents\": true, \"hovertext\": \"player= J. Kimmich\\n time= 38m53s\\n subEventName= Simple pass\\n result= success\", \"showarrow\": true, \"x\": 66.0, \"xref\": \"x\", \"y\": 25.599999999999994, \"yref\": \"y\"}, {\"arrowcolor\": \"#1f77b4\", \"arrowhead\": 4, \"arrowsize\": 2, \"ax\": 66.0, \"axref\": \"x\", \"ay\": 25.599999999999994, \"ayref\": \"y\", \"captureevents\": true, \"hovertext\": \"player= B. Schweinsteiger\\n time= 39m1s\\n subEventName= Simple pass\\n result= success\", \"showarrow\": true, \"x\": 60.0, \"xref\": \"x\", \"y\": 56.0, \"yref\": \"y\"}, {\"arrowcolor\": \"#1f77b4\", \"arrowhead\": 4, \"arrowsize\": 2, \"ax\": 60.0, \"axref\": \"x\", \"ay\": 56.0, \"ayref\": \"y\", \"captureevents\": true, \"hovertext\": \"player= B. H\\u00f6wedes\\n time= 39m4s\\n subEventName= Simple pass\\n result= success\", \"showarrow\": true, \"x\": 69.6, \"xref\": \"x\", \"y\": 67.2, \"yref\": \"y\"}, {\"arrowcolor\": \"#1f77b4\", \"arrowhead\": 4, \"arrowsize\": 2, \"ax\": 69.6, \"axref\": \"x\", \"ay\": 67.2, \"ayref\": \"y\", \"captureevents\": true, \"hovertext\": \"player= T. Kroos\\n time= 39m5s\\n subEventName= Simple pass\\n result= success\", \"showarrow\": true, \"x\": 92.4, \"xref\": \"x\", \"y\": 59.2, \"yref\": \"y\"}, {\"arrowcolor\": \"#1f77b4\", \"arrowhead\": 4, \"arrowsize\": 2, \"ax\": 92.4, \"axref\": \"x\", \"ay\": 59.2, \"ayref\": \"y\", \"captureevents\": true, \"hovertext\": \"player= J. Draxler\\n time= 39m7s\\n subEventName= Simple pass\\n result= success\", \"showarrow\": true, \"x\": 81.6, \"xref\": \"x\", \"y\": 69.6, \"yref\": \"y\"}, {\"arrowcolor\": \"#1f77b4\", \"arrowhead\": 4, \"arrowsize\": 2, \"ax\": 81.6, \"axref\": \"x\", \"ay\": 69.6, \"ayref\": \"y\", \"captureevents\": true, \"hovertext\": \"player= T. Kroos\\n time= 39m9s\\n subEventName= Simple pass\\n result= success\", \"showarrow\": true, \"x\": 103.2, \"xref\": \"x\", \"y\": 77.6, \"yref\": \"y\"}, {\"arrowcolor\": \"#9467bd\", \"arrowhead\": 4, \"arrowsize\": 2, \"ax\": 103.2, \"axref\": \"x\", \"ay\": 77.6, \"ayref\": \"y\", \"captureevents\": true, \"hovertext\": \"player= J. Hector\\n time= 39m13s\\n subEventName= Cross\\n result= failure\", \"showarrow\": true, \"x\": 0.0, \"xref\": \"x\", \"y\": 80.0, \"yref\": \"y\"}, {\"arrowcolor\": \"#1f77b4\", \"arrowhead\": 4, \"arrowsize\": 2, \"ax\": 15.6, \"axref\": \"x\", \"ay\": 28.799999999999997, \"ayref\": \"y\", \"captureevents\": true, \"hovertext\": \"player= J. Boateng\\n time= 41m18s\\n subEventName= Simple pass\\n result= success\", \"showarrow\": true, \"x\": 40.8, \"xref\": \"x\", \"y\": 68.0, \"yref\": \"y\"}, {\"arrowcolor\": \"#1f77b4\", \"arrowhead\": 4, \"arrowsize\": 2, \"ax\": 40.8, \"axref\": \"x\", \"ay\": 68.0, \"ayref\": \"y\", \"captureevents\": true, \"hovertext\": \"player= B. H\\u00f6wedes\\n time= 41m25s\\n subEventName= Simple pass\\n result= success\", \"showarrow\": true, \"x\": 37.2, \"xref\": \"x\", \"y\": 31.200000000000003, \"yref\": \"y\"}, {\"arrowcolor\": \"#1f77b4\", \"arrowhead\": 4, \"arrowsize\": 2, \"ax\": 37.2, \"axref\": \"x\", \"ay\": 31.200000000000003, \"ayref\": \"y\", \"captureevents\": true, \"hovertext\": \"player= J. Boateng\\n time= 41m30s\\n subEventName= Simple pass\\n result= success\", \"showarrow\": true, \"x\": 78.0, \"xref\": \"x\", \"y\": 15.199999999999996, \"yref\": \"y\"}, {\"arrowcolor\": \"#1f77b4\", \"arrowhead\": 4, \"arrowsize\": 2, \"ax\": 78.0, \"axref\": \"x\", \"ay\": 15.199999999999996, \"ayref\": \"y\", \"captureevents\": true, \"hovertext\": \"player= M. \\u00d6zil\\n time= 41m36s\\n subEventName= Simple pass\\n result= success\", \"showarrow\": true, \"x\": 92.4, \"xref\": \"x\", \"y\": 28.799999999999997, \"yref\": \"y\"}, {\"arrowcolor\": \"#1f77b4\", \"arrowhead\": 4, \"arrowsize\": 2, \"ax\": 8.4, \"axref\": \"x\", \"ay\": 6.399999999999997, \"ayref\": \"y\", \"captureevents\": true, \"hovertext\": \"player= M. \\u00d6zil\\n time= 42m25s\\n subEventName= Simple pass\\n result= success\", \"showarrow\": true, \"x\": 36.0, \"xref\": \"x\", \"y\": 4.0000000000000036, \"yref\": \"y\"}, {\"arrowcolor\": \"#1f77b4\", \"arrowhead\": 4, \"arrowsize\": 2, \"ax\": 49.2, \"axref\": \"x\", \"ay\": 10.4, \"ayref\": \"y\", \"captureevents\": true, \"hovertext\": \"player= M. \\u00d6zil\\n time= 42m56s\\n subEventName= Simple pass\\n result= success\", \"showarrow\": true, \"x\": 48.0, \"xref\": \"x\", \"y\": 19.2, \"yref\": \"y\"}, {\"arrowcolor\": \"#1f77b4\", \"arrowhead\": 4, \"arrowsize\": 2, \"ax\": 48.0, \"axref\": \"x\", \"ay\": 19.2, \"ayref\": \"y\", \"captureevents\": true, \"hovertext\": \"player= B. Schweinsteiger\\n time= 42m57s\\n subEventName= Simple pass\\n result= success\", \"showarrow\": true, \"x\": 58.8, \"xref\": \"x\", \"y\": 7.999999999999998, \"yref\": \"y\"}, {\"arrowcolor\": \"#1f77b4\", \"arrowhead\": 4, \"arrowsize\": 2, \"ax\": 58.8, \"axref\": \"x\", \"ay\": 7.999999999999998, \"ayref\": \"y\", \"captureevents\": true, \"hovertext\": \"player= M. \\u00d6zil\\n time= 43m0s\\n subEventName= Simple pass\\n result= success\", \"showarrow\": true, \"x\": 49.2, \"xref\": \"x\", \"y\": 33.6, \"yref\": \"y\"}, {\"arrowcolor\": \"#1f77b4\", \"arrowhead\": 4, \"arrowsize\": 2, \"ax\": 49.2, \"axref\": \"x\", \"ay\": 33.6, \"ayref\": \"y\", \"captureevents\": true, \"hovertext\": \"player= J. Boateng\\n time= 43m4s\\n subEventName= Simple pass\\n result= success\", \"showarrow\": true, \"x\": 74.4, \"xref\": \"x\", \"y\": 13.600000000000003, \"yref\": \"y\"}, {\"arrowcolor\": \"#1f77b4\", \"arrowhead\": 4, \"arrowsize\": 2, \"ax\": 74.4, \"axref\": \"x\", \"ay\": 13.600000000000003, \"ayref\": \"y\", \"captureevents\": true, \"hovertext\": \"player= M. \\u00d6zil\\n time= 43m7s\\n subEventName= Simple pass\\n result= success\", \"showarrow\": true, \"x\": 93.6, \"xref\": \"x\", \"y\": 9.6, \"yref\": \"y\"}, {\"arrowcolor\": \"#1f77b4\", \"arrowhead\": 4, \"arrowsize\": 2, \"ax\": 93.6, \"axref\": \"x\", \"ay\": 9.6, \"ayref\": \"y\", \"captureevents\": true, \"hovertext\": \"player= J. Kimmich\\n time= 43m9s\\n subEventName= Simple pass\\n result= success\", \"showarrow\": true, \"x\": 79.2, \"xref\": \"x\", \"y\": 17.599999999999998, \"yref\": \"y\"}, {\"arrowcolor\": \"#1f77b4\", \"arrowhead\": 4, \"arrowsize\": 2, \"ax\": 79.2, \"axref\": \"x\", \"ay\": 17.599999999999998, \"ayref\": \"y\", \"captureevents\": true, \"hovertext\": \"player= M. \\u00d6zil\\n time= 43m11s\\n subEventName= Simple pass\\n result= success\", \"showarrow\": true, \"x\": 93.6, \"xref\": \"x\", \"y\": 24.800000000000004, \"yref\": \"y\"}, {\"arrowcolor\": \"#1f77b4\", \"arrowhead\": 4, \"arrowsize\": 2, \"ax\": 94.8, \"axref\": \"x\", \"ay\": 23.200000000000003, \"ayref\": \"y\", \"captureevents\": true, \"hovertext\": \"player= T. M\\u00fcller\\n time= 43m15s\\n subEventName= Simple pass\\n result= success\", \"showarrow\": true, \"x\": 112.8, \"xref\": \"x\", \"y\": 18.4, \"yref\": \"y\"}, {\"arrowcolor\": \"#9467bd\", \"arrowhead\": 4, \"arrowsize\": 2, \"ax\": 112.8, \"axref\": \"x\", \"ay\": 18.4, \"ayref\": \"y\", \"captureevents\": true, \"hovertext\": \"player= J. Kimmich\\n time= 43m17s\\n subEventName= Cross\\n result= success\", \"showarrow\": true, \"x\": 108.0, \"xref\": \"x\", \"y\": 35.199999999999996, \"yref\": \"y\"}, {\"arrowcolor\": \"#1f77b4\", \"arrowhead\": 4, \"arrowsize\": 2, \"ax\": 54.0, \"axref\": \"x\", \"ay\": 46.400000000000006, \"ayref\": \"y\", \"captureevents\": true, \"hovertext\": \"player= B. H\\u00f6wedes\\n time= 43m28s\\n subEventName= Simple pass\\n result= success\", \"showarrow\": true, \"x\": 69.6, \"xref\": \"x\", \"y\": 31.200000000000003, \"yref\": \"y\"}, {\"arrowcolor\": \"#1f77b4\", \"arrowhead\": 4, \"arrowsize\": 2, \"ax\": 69.6, \"axref\": \"x\", \"ay\": 31.200000000000003, \"ayref\": \"y\", \"captureevents\": true, \"hovertext\": \"player= B. Schweinsteiger\\n time= 43m30s\\n subEventName= Simple pass\\n result= success\", \"showarrow\": true, \"x\": 63.6, \"xref\": \"x\", \"y\": 21.6, \"yref\": \"y\"}, {\"arrowcolor\": \"#ff7f0e\", \"arrowhead\": 4, \"arrowsize\": 2, \"ax\": 63.6, \"axref\": \"x\", \"ay\": 21.6, \"ayref\": \"y\", \"captureevents\": true, \"hovertext\": \"player= J. Boateng\\n time= 43m33s\\n subEventName= High pass\\n result= success\", \"showarrow\": true, \"x\": 100.8, \"xref\": \"x\", \"y\": 4.0000000000000036, \"yref\": \"y\"}, {\"arrowcolor\": \"#1f77b4\", \"arrowhead\": 4, \"arrowsize\": 2, \"ax\": 100.8, \"axref\": \"x\", \"ay\": 4.0000000000000036, \"ayref\": \"y\", \"captureevents\": true, \"hovertext\": \"player= J. Kimmich\\n time= 43m36s\\n subEventName= Simple pass\\n result= success\", \"showarrow\": true, \"x\": 115.2, \"xref\": \"x\", \"y\": 13.600000000000003, \"yref\": \"y\"}, {\"arrowcolor\": \"#9467bd\", \"arrowhead\": 4, \"arrowsize\": 2, \"ax\": 115.2, \"axref\": \"x\", \"ay\": 13.600000000000003, \"ayref\": \"y\", \"captureevents\": true, \"hovertext\": \"player= T. M\\u00fcller\\n time= 43m38s\\n subEventName= Cross\\n result= failure\", \"showarrow\": true, \"x\": 120.0, \"xref\": \"x\", \"y\": 21.6, \"yref\": \"y\"}], \"autosize\": true, \"height\": 800, \"legend\": {\"font\": {\"color\": \"white\"}}, \"margin\": {\"b\": 10, \"l\": 10, \"r\": 10, \"t\": 20}, \"paper_bgcolor\": \"rgb(20,29,38)\", \"plot_bgcolor\": \"rgb(20,29,38)\", \"shapes\": [{\"line\": {\"color\": \"white\", \"width\": 2.5}, \"type\": \"circle\", \"x0\": 48, \"x1\": 72, \"xref\": \"x\", \"y0\": 28, \"y1\": 52, \"yref\": \"y\"}, {\"line\": {\"color\": \"white\", \"width\": 2.5}, \"type\": \"circle\", \"x0\": 48, \"x1\": 72, \"xref\": \"x2\", \"y0\": 28, \"y1\": 52, \"yref\": \"y2\"}, {\"line\": {\"color\": \"white\", \"width\": 2.5}, \"type\": \"circle\", \"x0\": 48, \"x1\": 72, \"xref\": \"x3\", \"y0\": 28, \"y1\": 52, \"yref\": \"y3\"}, {\"line\": {\"color\": \"white\", \"width\": 2.5}, \"type\": \"circle\", \"x0\": 48, \"x1\": 72, \"xref\": \"x4\", \"y0\": 28, \"y1\": 52, \"yref\": \"y4\"}], \"template\": {\"data\": {\"bar\": [{\"error_x\": {\"color\": \"#2a3f5f\"}, \"error_y\": {\"color\": \"#2a3f5f\"}, \"marker\": {\"line\": {\"color\": \"#E5ECF6\", \"width\": 0.5}}, \"type\": \"bar\"}], \"barpolar\": [{\"marker\": {\"line\": {\"color\": \"#E5ECF6\", \"width\": 0.5}}, \"type\": \"barpolar\"}], \"carpet\": [{\"aaxis\": {\"endlinecolor\": \"#2a3f5f\", \"gridcolor\": \"white\", \"linecolor\": \"white\", \"minorgridcolor\": \"white\", \"startlinecolor\": \"#2a3f5f\"}, \"baxis\": {\"endlinecolor\": \"#2a3f5f\", \"gridcolor\": \"white\", \"linecolor\": \"white\", \"minorgridcolor\": \"white\", \"startlinecolor\": \"#2a3f5f\"}, \"type\": \"carpet\"}], \"choropleth\": [{\"colorbar\": {\"outlinewidth\": 0, \"ticks\": \"\"}, \"type\": \"choropleth\"}], \"contour\": [{\"colorbar\": {\"outlinewidth\": 0, \"ticks\": \"\"}, \"colorscale\": [[0.0, \"#0d0887\"], [0.1111111111111111, \"#46039f\"], [0.2222222222222222, \"#7201a8\"], [0.3333333333333333, \"#9c179e\"], [0.4444444444444444, \"#bd3786\"], [0.5555555555555556, \"#d8576b\"], [0.6666666666666666, \"#ed7953\"], [0.7777777777777778, \"#fb9f3a\"], [0.8888888888888888, \"#fdca26\"], [1.0, \"#f0f921\"]], \"type\": \"contour\"}], \"contourcarpet\": [{\"colorbar\": {\"outlinewidth\": 0, \"ticks\": \"\"}, \"type\": \"contourcarpet\"}], \"heatmap\": [{\"colorbar\": {\"outlinewidth\": 0, \"ticks\": \"\"}, \"colorscale\": [[0.0, \"#0d0887\"], [0.1111111111111111, \"#46039f\"], [0.2222222222222222, \"#7201a8\"], [0.3333333333333333, \"#9c179e\"], [0.4444444444444444, \"#bd3786\"], [0.5555555555555556, \"#d8576b\"], [0.6666666666666666, \"#ed7953\"], [0.7777777777777778, \"#fb9f3a\"], [0.8888888888888888, \"#fdca26\"], [1.0, \"#f0f921\"]], \"type\": \"heatmap\"}], \"heatmapgl\": [{\"colorbar\": {\"outlinewidth\": 0, \"ticks\": \"\"}, \"colorscale\": [[0.0, \"#0d0887\"], [0.1111111111111111, \"#46039f\"], [0.2222222222222222, \"#7201a8\"], [0.3333333333333333, \"#9c179e\"], [0.4444444444444444, \"#bd3786\"], [0.5555555555555556, \"#d8576b\"], [0.6666666666666666, \"#ed7953\"], [0.7777777777777778, \"#fb9f3a\"], [0.8888888888888888, \"#fdca26\"], [1.0, \"#f0f921\"]], \"type\": \"heatmapgl\"}], \"histogram\": [{\"marker\": {\"colorbar\": {\"outlinewidth\": 0, \"ticks\": \"\"}}, \"type\": \"histogram\"}], \"histogram2d\": [{\"colorbar\": {\"outlinewidth\": 0, \"ticks\": \"\"}, \"colorscale\": [[0.0, \"#0d0887\"], [0.1111111111111111, \"#46039f\"], [0.2222222222222222, \"#7201a8\"], [0.3333333333333333, \"#9c179e\"], [0.4444444444444444, \"#bd3786\"], [0.5555555555555556, \"#d8576b\"], [0.6666666666666666, \"#ed7953\"], [0.7777777777777778, \"#fb9f3a\"], [0.8888888888888888, \"#fdca26\"], [1.0, \"#f0f921\"]], \"type\": \"histogram2d\"}], \"histogram2dcontour\": [{\"colorbar\": {\"outlinewidth\": 0, \"ticks\": \"\"}, \"colorscale\": [[0.0, \"#0d0887\"], [0.1111111111111111, \"#46039f\"], [0.2222222222222222, \"#7201a8\"], [0.3333333333333333, \"#9c179e\"], [0.4444444444444444, \"#bd3786\"], [0.5555555555555556, \"#d8576b\"], [0.6666666666666666, \"#ed7953\"], [0.7777777777777778, \"#fb9f3a\"], [0.8888888888888888, \"#fdca26\"], [1.0, \"#f0f921\"]], \"type\": \"histogram2dcontour\"}], \"mesh3d\": [{\"colorbar\": {\"outlinewidth\": 0, \"ticks\": \"\"}, \"type\": \"mesh3d\"}], \"parcoords\": [{\"line\": {\"colorbar\": {\"outlinewidth\": 0, \"ticks\": \"\"}}, \"type\": \"parcoords\"}], \"scatter\": [{\"marker\": {\"colorbar\": {\"outlinewidth\": 0, \"ticks\": \"\"}}, \"type\": \"scatter\"}], \"scatter3d\": [{\"line\": {\"colorbar\": {\"outlinewidth\": 0, \"ticks\": \"\"}}, \"marker\": {\"colorbar\": {\"outlinewidth\": 0, \"ticks\": \"\"}}, \"type\": \"scatter3d\"}], \"scattercarpet\": [{\"marker\": {\"colorbar\": {\"outlinewidth\": 0, \"ticks\": \"\"}}, \"type\": \"scattercarpet\"}], \"scattergeo\": [{\"marker\": {\"colorbar\": {\"outlinewidth\": 0, \"ticks\": \"\"}}, \"type\": \"scattergeo\"}], \"scattergl\": [{\"marker\": {\"colorbar\": {\"outlinewidth\": 0, \"ticks\": \"\"}}, \"type\": \"scattergl\"}], \"scattermapbox\": [{\"marker\": {\"colorbar\": {\"outlinewidth\": 0, \"ticks\": \"\"}}, \"type\": \"scattermapbox\"}], \"scatterpolar\": [{\"marker\": {\"colorbar\": {\"outlinewidth\": 0, \"ticks\": \"\"}}, \"type\": \"scatterpolar\"}], \"scatterpolargl\": [{\"marker\": {\"colorbar\": {\"outlinewidth\": 0, \"ticks\": \"\"}}, \"type\": \"scatterpolargl\"}], \"scatterternary\": [{\"marker\": {\"colorbar\": {\"outlinewidth\": 0, \"ticks\": \"\"}}, \"type\": \"scatterternary\"}], \"surface\": [{\"colorbar\": {\"outlinewidth\": 0, \"ticks\": \"\"}, \"colorscale\": [[0.0, \"#0d0887\"], [0.1111111111111111, \"#46039f\"], [0.2222222222222222, \"#7201a8\"], [0.3333333333333333, \"#9c179e\"], [0.4444444444444444, \"#bd3786\"], [0.5555555555555556, \"#d8576b\"], [0.6666666666666666, \"#ed7953\"], [0.7777777777777778, \"#fb9f3a\"], [0.8888888888888888, \"#fdca26\"], [1.0, \"#f0f921\"]], \"type\": \"surface\"}], \"table\": [{\"cells\": {\"fill\": {\"color\": \"#EBF0F8\"}, \"line\": {\"color\": \"white\"}}, \"header\": {\"fill\": {\"color\": \"#C8D4E3\"}, \"line\": {\"color\": \"white\"}}, \"type\": \"table\"}]}, \"layout\": {\"annotationdefaults\": {\"arrowcolor\": \"#2a3f5f\", \"arrowhead\": 0, \"arrowwidth\": 1}, \"colorscale\": {\"diverging\": [[0, \"#8e0152\"], [0.1, \"#c51b7d\"], [0.2, \"#de77ae\"], [0.3, \"#f1b6da\"], [0.4, \"#fde0ef\"], [0.5, \"#f7f7f7\"], [0.6, \"#e6f5d0\"], [0.7, \"#b8e186\"], [0.8, \"#7fbc41\"], [0.9, \"#4d9221\"], [1, \"#276419\"]], \"sequential\": [[0.0, \"#0d0887\"], [0.1111111111111111, \"#46039f\"], [0.2222222222222222, \"#7201a8\"], [0.3333333333333333, \"#9c179e\"], [0.4444444444444444, \"#bd3786\"], [0.5555555555555556, \"#d8576b\"], [0.6666666666666666, \"#ed7953\"], [0.7777777777777778, \"#fb9f3a\"], [0.8888888888888888, \"#fdca26\"], [1.0, \"#f0f921\"]], \"sequentialminus\": [[0.0, \"#0d0887\"], [0.1111111111111111, \"#46039f\"], [0.2222222222222222, \"#7201a8\"], [0.3333333333333333, \"#9c179e\"], [0.4444444444444444, \"#bd3786\"], [0.5555555555555556, \"#d8576b\"], [0.6666666666666666, \"#ed7953\"], [0.7777777777777778, \"#fb9f3a\"], [0.8888888888888888, \"#fdca26\"], [1.0, \"#f0f921\"]]}, \"colorway\": [\"#636efa\", \"#EF553B\", \"#00cc96\", \"#ab63fa\", \"#FFA15A\", \"#19d3f3\", \"#FF6692\", \"#B6E880\", \"#FF97FF\", \"#FECB52\"], \"font\": {\"color\": \"#2a3f5f\"}, \"geo\": {\"bgcolor\": \"white\", \"lakecolor\": \"white\", \"landcolor\": \"#E5ECF6\", \"showlakes\": true, \"showland\": true, \"subunitcolor\": \"white\"}, \"hoverlabel\": {\"align\": \"left\"}, \"hovermode\": \"closest\", \"mapbox\": {\"style\": \"light\"}, \"paper_bgcolor\": \"white\", \"plot_bgcolor\": \"#E5ECF6\", \"polar\": {\"angularaxis\": {\"gridcolor\": \"white\", \"linecolor\": \"white\", \"ticks\": \"\"}, \"bgcolor\": \"#E5ECF6\", \"radialaxis\": {\"gridcolor\": \"white\", \"linecolor\": \"white\", \"ticks\": \"\"}}, \"scene\": {\"xaxis\": {\"backgroundcolor\": \"#E5ECF6\", \"gridcolor\": \"white\", \"gridwidth\": 2, \"linecolor\": \"white\", \"showbackground\": true, \"ticks\": \"\", \"zerolinecolor\": \"white\"}, \"yaxis\": {\"backgroundcolor\": \"#E5ECF6\", \"gridcolor\": \"white\", \"gridwidth\": 2, \"linecolor\": \"white\", \"showbackground\": true, \"ticks\": \"\", \"zerolinecolor\": \"white\"}, \"zaxis\": {\"backgroundcolor\": \"#E5ECF6\", \"gridcolor\": \"white\", \"gridwidth\": 2, \"linecolor\": \"white\", \"showbackground\": true, \"ticks\": \"\", \"zerolinecolor\": \"white\"}}, \"shapedefaults\": {\"line\": {\"color\": \"#2a3f5f\"}}, \"ternary\": {\"aaxis\": {\"gridcolor\": \"white\", \"linecolor\": \"white\", \"ticks\": \"\"}, \"baxis\": {\"gridcolor\": \"white\", \"linecolor\": \"white\", \"ticks\": \"\"}, \"bgcolor\": \"#E5ECF6\", \"caxis\": {\"gridcolor\": \"white\", \"linecolor\": \"white\", \"ticks\": \"\"}}, \"title\": {\"x\": 0.05}, \"xaxis\": {\"automargin\": true, \"gridcolor\": \"white\", \"linecolor\": \"white\", \"ticks\": \"\", \"zerolinecolor\": \"white\", \"zerolinewidth\": 2}, \"yaxis\": {\"automargin\": true, \"gridcolor\": \"white\", \"linecolor\": \"white\", \"ticks\": \"\", \"zerolinecolor\": \"white\", \"zerolinewidth\": 2}}}, \"width\": 1200, \"xaxis\": {\"anchor\": \"y\", \"domain\": [0.0, 0.475], \"range\": [-1, 121], \"visible\": false}, \"xaxis2\": {\"anchor\": \"y2\", \"domain\": [0.525, 1.0], \"range\": [-1, 121], \"visible\": false}, \"xaxis3\": {\"anchor\": \"y3\", \"domain\": [0.0, 0.475], \"range\": [-1, 121], \"visible\": false}, \"xaxis4\": {\"anchor\": \"y4\", \"domain\": [0.525, 1.0], \"range\": [-1, 121], \"visible\": false}, \"yaxis\": {\"anchor\": \"x\", \"domain\": [0.525, 1.0], \"range\": [-1, 81], \"visible\": false}, \"yaxis2\": {\"anchor\": \"x2\", \"domain\": [0.525, 1.0], \"range\": [-1, 81], \"visible\": false}, \"yaxis3\": {\"anchor\": \"x3\", \"domain\": [0.0, 0.475], \"range\": [-1, 81], \"visible\": false}, \"yaxis4\": {\"anchor\": \"x4\", \"domain\": [0.0, 0.475], \"range\": [-1, 81], \"visible\": false}},\n",
       "                        {\"responsive\": true}\n",
       "                    ).then(function(){\n",
       "                            \n",
       "var gd = document.getElementById('71504991-81d0-4a9c-a074-3b310340c67b');\n",
       "var x = new MutationObserver(function (mutations, observer) {{\n",
       "        var display = window.getComputedStyle(gd).display;\n",
       "        if (!display || display === 'none') {{\n",
       "            console.log([gd, 'removed!']);\n",
       "            Plotly.purge(gd);\n",
       "            observer.disconnect();\n",
       "        }}\n",
       "}});\n",
       "\n",
       "// Listen for the removal of the full notebook cells\n",
       "var notebookContainer = gd.closest('#notebook-container');\n",
       "if (notebookContainer) {{\n",
       "    x.observe(notebookContainer, {childList: true});\n",
       "}}\n",
       "\n",
       "// Listen for the clearing of the current output cell\n",
       "var outputEl = gd.closest('.output');\n",
       "if (outputEl) {{\n",
       "    x.observe(outputEl, {childList: true});\n",
       "}}\n",
       "\n",
       "                        })\n",
       "                };\n",
       "                });\n",
       "            </script>\n",
       "        </div>"
      ]
     },
     "metadata": {},
     "output_type": "display_data"
    }
   ],
   "source": [
    "fig.show()"
   ]
  }
 ],
 "metadata": {
  "kernelspec": {
   "display_name": "Python 3",
   "language": "python",
   "name": "python3"
  },
  "language_info": {
   "codemirror_mode": {
    "name": "ipython",
    "version": 3
   },
   "file_extension": ".py",
   "mimetype": "text/x-python",
   "name": "python",
   "nbconvert_exporter": "python",
   "pygments_lexer": "ipython3",
   "version": "3.6.0"
  }
 },
 "nbformat": 4,
 "nbformat_minor": 4
}
