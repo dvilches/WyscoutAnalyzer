{
 "cells": [
  {
   "cell_type": "markdown",
   "metadata": {},
   "source": [
    "table of contents\n",
    "1. 準備\n",
    "2. データのインポート\n",
    "3. シュートポイントの可視化"
   ]
  },
  {
   "cell_type": "markdown",
   "metadata": {},
   "source": [
    "# 準備"
   ]
  },
  {
   "cell_type": "code",
   "execution_count": 1,
   "metadata": {},
   "outputs": [
    {
     "data": {
      "text/html": [
       "        <script type=\"text/javascript\">\n",
       "        window.PlotlyConfig = {MathJaxConfig: 'local'};\n",
       "        if (window.MathJax) {MathJax.Hub.Config({SVG: {font: \"STIX-Web\"}});}\n",
       "        if (typeof require !== 'undefined') {\n",
       "        require.undef(\"plotly\");\n",
       "        requirejs.config({\n",
       "            paths: {\n",
       "                'plotly': ['https://cdn.plot.ly/plotly-latest.min']\n",
       "            }\n",
       "        });\n",
       "        require(['plotly'], function(Plotly) {\n",
       "            window._Plotly = Plotly;\n",
       "        });\n",
       "        }\n",
       "        </script>\n",
       "        "
      ]
     },
     "metadata": {},
     "output_type": "display_data"
    }
   ],
   "source": [
    "import os\n",
    "\n",
    "import numpy as np\n",
    "import pandas as pd\n",
    "import matplotlib.pyplot as plt\n",
    "%matplotlib inline\n",
    "\n",
    "import plotly.graph_objs as go\n",
    "import plotly.express as px\n",
    "from plotly.offline import init_notebook_mode, plot, iplot\n",
    "\n",
    "init_notebook_mode(connected=True)"
   ]
  },
  {
   "cell_type": "markdown",
   "metadata": {},
   "source": [
    "# データのインポート"
   ]
  },
  {
   "cell_type": "code",
   "execution_count": 3,
   "metadata": {},
   "outputs": [
    {
     "name": "stdout",
     "output_type": "stream",
     "text": [
      "['World_Cup', 'Italy', 'Germany', 'England', 'France', 'Spain', 'European_Championship']\n"
     ]
    }
   ],
   "source": [
    "base_dir = os.path.join('..','..')\n",
    "data_dir = os.path.join(base_dir, 'data', 'raw')\n",
    "\n",
    "def read_dfs():\n",
    "    players_df = pd.read_json(os.path.join(data_dir, 'players.json'))\n",
    "    teams_df = pd.read_json(os.path.join(data_dir, 'teams.json'))\n",
    "\n",
    "    # encode, decode\n",
    "    players_df['shortName'] = players_df.shortName.apply(lambda x: x.encode('utf-8').decode('unicode-escape'))\n",
    "    teams_df['name'] = teams_df.name.apply(lambda x: x.encode('utf-8').decode('unicode-escape'))\n",
    "\n",
    "    return players_df, teams_df\n",
    "\n",
    "players_df, teams_df = read_dfs()\n",
    "\n",
    "competition_list = [infile.replace('matches_','').replace('.json','') for infile in os.listdir(os.path.join(data_dir, 'matches')) if infile.endswith('.json')]\n",
    "\n",
    "print(competition_list)"
   ]
  },
  {
   "cell_type": "code",
   "execution_count": 4,
   "metadata": {},
   "outputs": [
    {
     "name": "stdout",
     "output_type": "stream",
     "text": [
      "['France - Romania, 2 - 1 @Stade de France, 2016-06-10', 'Albania - Switzerland, 0 - 1 @Stade Bollaert-Delelis, 2016-06-11', 'Wales - Slovakia, 2 - 1 @Stade Matmut-Atlantique, 2016-06-11', 'England - Russia, 1 - 1 @Stade Vélodrome, 2016-06-11', 'Turkey - Croatia, 0 - 1 @Parc des Princes, 2016-06-12', 'Poland - Northern Ireland, 1 - 0 @Allianz Riviera, 2016-06-12', 'Germany - Ukraine, 2 - 0 @Stade Pierre-Mauroy, 2016-06-12', 'Spain - Czech Republic, 1 - 0 @Stadium Municipal, 2016-06-13', 'Republic of Ireland - Sweden, 1 - 1 @Stade de France, 2016-06-13', 'Belgium - Italy, 0 - 2 @Groupama Stadium, 2016-06-13', 'Austria - Hungary, 0 - 2 @Stade Matmut-Atlantique, 2016-06-14', 'Portugal - Iceland, 1 - 1 @Stade Geoffroy-Guichard, 2016-06-14', 'Russia - Slovakia, 1 - 2 @Stade Pierre-Mauroy, 2016-06-15', 'Romania - Switzerland, 1 - 1 @Parc des Princes, 2016-06-15', 'France - Albania, 2 - 0 @Stade Vélodrome, 2016-06-15', 'England - Wales, 2 - 1 @Stade Bollaert-Delelis, 2016-06-16', 'Ukraine - Northern Ireland, 0 - 2 @Groupama Stadium, 2016-06-16', 'Germany - Poland, 0 - 0 @Stade de France, 2016-06-16', 'Italy - Sweden, 1 - 0 @Stadium Municipal, 2016-06-17', 'Czech Republic - Croatia, 2 - 2 @Stade Geoffroy-Guichard, 2016-06-17', 'Spain - Turkey, 3 - 0 @Allianz Riviera, 2016-06-17', 'Belgium - Republic of Ireland, 3 - 0 @Stade Matmut-Atlantique, 2016-06-18', 'Iceland - Hungary, 1 - 1 @Stade Vélodrome, 2016-06-18', 'Portugal - Austria, 0 - 0 @Parc des Princes, 2016-06-18', 'Romania - Albania, 0 - 1 @Groupama Stadium, 2016-06-19', 'Switzerland - France, 0 - 0 @Stade Pierre-Mauroy, 2016-06-19', 'Slovakia - England, 0 - 0 @Stade Geoffroy-Guichard, 2016-06-20', 'Russia - Wales, 0 - 3 @Stadium Municipal, 2016-06-20', 'Northern Ireland - Germany, 0 - 1 @Parc des Princes, 2016-06-21', 'Ukraine - Poland, 0 - 1 @Stade Vélodrome, 2016-06-21', 'Croatia - Spain, 2 - 1 @Stade Matmut-Atlantique, 2016-06-21', 'Czech Republic - Turkey, 0 - 2 @Stade Bollaert-Delelis, 2016-06-21', 'Iceland - Austria, 2 - 1 @Stade de France, 2016-06-22', 'Hungary - Portugal, 3 - 3 @Groupama Stadium, 2016-06-22', 'Italy - Republic of Ireland, 0 - 1 @Stade Pierre-Mauroy, 2016-06-22', 'Sweden - Belgium, 0 - 1 @Allianz Riviera, 2016-06-22', 'Switzerland - Poland, 1 - 1 (P) @Stade Geoffroy-Guichard, 2016-06-25', 'Wales - Northern Ireland, 1 - 0 @Parc des Princes, 2016-06-25', 'Croatia - Portugal, 0 - 1 (E) @Stade Bollaert-Delelis, 2016-06-25', 'France - Republic of Ireland, 2 - 1 @Groupama Stadium, 2016-06-26', 'Germany - Slovakia, 3 - 0 @Stade Pierre-Mauroy, 2016-06-26', 'Hungary - Belgium, 0 - 4 @Stadium Municipal, 2016-06-26', 'Italy - Spain, 2 - 0 @Stade de France, 2016-06-27', 'England - Iceland, 1 - 2 @Allianz Riviera, 2016-06-27', 'Poland - Portugal, 1 - 1 (P) @Stade Vélodrome, 2016-06-30', 'Wales - Belgium, 3 - 1 @Stade Pierre-Mauroy, 2016-07-01', 'Germany - Italy, 1 - 1 (P) @Stade Matmut-Atlantique, 2016-07-02', 'France - Iceland, 5 - 2 @Stade de France, 2016-07-03', 'Portugal - Wales, 2 - 0 @Groupama Stadium, 2016-07-06', 'Germany - France, 0 - 2 @Stade Vélodrome, 2016-07-07', 'Portugal - France, 1 - 0 (E) @Stade de France, 2016-07-10']\n"
     ]
    }
   ],
   "source": [
    "selected_competition = 'European_Championship'\n",
    "\n",
    "def read_events_df(selected_competition):\n",
    "    events_df = pd.read_json(os.path.join(data_dir, 'events', f'events_{selected_competition}.json'))\n",
    "    return events_df\n",
    "\n",
    "def read_matches_df(selected_competition):\n",
    "    matches_df = pd.read_json(os.path.join(data_dir, 'matches', f'matches_{selected_competition}.json'))\n",
    "    matches_df['date_time'] = pd.to_datetime(matches_df.dateutc)\n",
    "\n",
    "    # encode, decode\n",
    "    matches_df['label'] = matches_df.label.apply(lambda x: x.encode('utf-8').decode('unicode-escape'))\n",
    "    matches_df['venue'] = matches_df.venue.apply(lambda x: x.encode('utf-8').decode('unicode-escape'))\n",
    "\n",
    "    # concate label, venue, date_time\n",
    "    matches_df['name'] = matches_df[['label', 'venue', 'date_time']].apply(lambda xs: f'{xs[0]} @{xs[1]}, {xs[2].date()}', axis=1)\n",
    "\n",
    "    return matches_df.sort_values('date_time')\n",
    "\n",
    "matches_df = read_matches_df(selected_competition)\n",
    "\n",
    "name_list = matches_df.name.tolist()\n",
    "print(name_list)"
   ]
  },
  {
   "cell_type": "code",
   "execution_count": 7,
   "metadata": {},
   "outputs": [],
   "source": [
    "selected_match = 'Germany - France, 0 - 2 @Stade Vélodrome, 2016-07-07'\n",
    "selected_wyId = matches_df[matches_df.name == selected_match].wyId.values[0]\n",
    "\n",
    "events_df = read_events_df(selected_competition)\n",
    "\n",
    "matchPeriod_list = ['1H', '2H']\n",
    "\n",
    "df_tmp = events_df[(events_df.matchId == selected_wyId)&(events_df.eventName=='Shot')&(events_df.matchPeriod.isin(matchPeriod_list))]"
   ]
  },
  {
   "cell_type": "markdown",
   "metadata": {},
   "source": [
    "# シュートポイントの可視化"
   ]
  },
  {
   "cell_type": "markdown",
   "metadata": {},
   "source": [
    "## 関数の定義"
   ]
  },
  {
   "cell_type": "code",
   "execution_count": 8,
   "metadata": {},
   "outputs": [],
   "source": [
    "from plotly.subplots import make_subplots\n",
    "\n",
    "def draw_pitches(nrows, ncols, title_list=[], colorbar=False):\n",
    "\n",
    "    COLOR = 'white'\n",
    "    twitter_color = 'rgb(20,29,38)'\n",
    "\n",
    "    # Create traces\n",
    "    fig = make_subplots(rows=nrows, cols=ncols, subplot_titles=title_list, horizontal_spacing=0.05, vertical_spacing=0.05)\n",
    "    for i in range(1,nrows+1):\n",
    "        for j in range(1,ncols+1):\n",
    "            \n",
    "            line_list = [[[0,120], [0,0]], [[120,120], [0,80]], [[120,0], [80,80]], [[0,0], [80,0]], [[60,60], [0,80]]]\n",
    "            line_list += [[[0,18], [18,18]], [[18,18], [18,62]], [[18,0], [62,62]], [[0,6], [30,30]], [[6,6], [30,50]], [[6,0], [50,50]]]\n",
    "            line_list += [[[120, 102], [18,18]], [[102,102], [18,62]], [[102,120], [62,62]], [[120,114], [30,30]], [[114,114], [30,50]], [[114,120], [50,50]]]\n",
    "\n",
    "            for [x, y] in line_list:\n",
    "                fig.add_trace(go.Scatter(x=x, y=y,\n",
    "                                    mode='lines',\n",
    "                                    line=dict(color=COLOR, width=2.5),\n",
    "                                    showlegend=False,\n",
    "                                    hoverinfo='none'\n",
    "                                    )\n",
    "                             , row=i, col=j)\n",
    "\n",
    "            line_list = [[[0,0], [36,44]], [[120,120], [36,44]]]\n",
    "            for [x, y] in line_list:\n",
    "                fig.add_trace(go.Scatter(x=x, y=y,\n",
    "                                    mode='lines',\n",
    "                                    line=dict(color=COLOR, width=12.5),\n",
    "                                    showlegend=False,\n",
    "                                    hoverinfo='none'\n",
    "                                    )\n",
    "                             , row=i, col=j)\n",
    "\n",
    "            fig.add_shape(go.layout.Shape(type='circle', x0=60-12, y0=40-12, x1=60+12, y1=40+12, line_color=COLOR, line_width=2.5), row=i, col=j)\n",
    "            fig.update_xaxes(range=[-1, 120+1], visible=False, row=i, col=j)\n",
    "            fig.update_yaxes(range=[-1, 80+1], visible=False, row=i, col=j)\n",
    "    \n",
    "    fig.update_layout(go.Layout(width=120*10, height=80*10, plot_bgcolor=twitter_color, paper_bgcolor=twitter_color, autosize=True, margin=dict(l=10, r=10, t=20, b=10)))\n",
    "    \n",
    "    for i in fig['layout']['annotations']:\n",
    "        i['font'] = dict(size=15,color=COLOR)\n",
    "    \n",
    "    return fig"
   ]
  },
  {
   "cell_type": "markdown",
   "metadata": {},
   "source": [
    "## 可視化"
   ]
  },
  {
   "cell_type": "code",
   "execution_count": 52,
   "metadata": {},
   "outputs": [],
   "source": [
    "title_list = [f'{matchPeriod} {teams_df[teams_df.wyId==teamId].name.values[0]}' for [matchPeriod, teamId] in df_tmp[['matchPeriod', 'teamId']].drop_duplicates().sort_values(by=['teamId', 'matchPeriod']).values.tolist()]\n",
    "fig = draw_pitches(2, 2, title_list)"
   ]
  },
  {
   "cell_type": "code",
   "execution_count": 37,
   "metadata": {},
   "outputs": [
    {
     "name": "stderr",
     "output_type": "stream",
     "text": [
      "/Users/saeru/.pyenv/versions/anaconda3-5.3.0/envs/sample_env/lib/python3.6/site-packages/ipykernel_launcher.py:4: SettingWithCopyWarning:\n",
      "\n",
      "\n",
      "A value is trying to be set on a copy of a slice from a DataFrame.\n",
      "Try using .loc[row_indexer,col_indexer] = value instead\n",
      "\n",
      "See the caveats in the documentation: http://pandas.pydata.org/pandas-docs/stable/user_guide/indexing.html#returning-a-view-versus-a-copy\n",
      "\n",
      "/Users/saeru/.pyenv/versions/anaconda3-5.3.0/envs/sample_env/lib/python3.6/site-packages/ipykernel_launcher.py:5: SettingWithCopyWarning:\n",
      "\n",
      "\n",
      "A value is trying to be set on a copy of a slice from a DataFrame.\n",
      "Try using .loc[row_indexer,col_indexer] = value instead\n",
      "\n",
      "See the caveats in the documentation: http://pandas.pydata.org/pandas-docs/stable/user_guide/indexing.html#returning-a-view-versus-a-copy\n",
      "\n"
     ]
    }
   ],
   "source": [
    "XMAX, XMIN = 120, 0\n",
    "YMAX, YMIN = 80, 0\n",
    "\n",
    "df_tmp['x'] = None\n",
    "df_tmp['y'] = None\n",
    "df_tmp[['x', 'y']] = df_tmp.apply(lambda xs: [XMAX*xs['positions'][0]['x']/100, YMAX*(1-xs['positions'][0]['y']/100)], result_type='expand', axis=1)"
   ]
  },
  {
   "cell_type": "code",
   "execution_count": 27,
   "metadata": {},
   "outputs": [
    {
     "name": "stderr",
     "output_type": "stream",
     "text": [
      "/Users/saeru/.pyenv/versions/anaconda3-5.3.0/envs/sample_env/lib/python3.6/site-packages/ipykernel_launcher.py:1: SettingWithCopyWarning:\n",
      "\n",
      "\n",
      "A value is trying to be set on a copy of a slice from a DataFrame.\n",
      "Try using .loc[row_indexer,col_indexer] = value instead\n",
      "\n",
      "See the caveats in the documentation: http://pandas.pydata.org/pandas-docs/stable/user_guide/indexing.html#returning-a-view-versus-a-copy\n",
      "\n"
     ]
    }
   ],
   "source": [
    "df_tmp['result'] = df_tmp.apply(lambda xs: 'success' if 101 in [tag['id'] for tag in xs['tags']] else 'failure', axis=1)"
   ]
  },
  {
   "cell_type": "code",
   "execution_count": 55,
   "metadata": {},
   "outputs": [
    {
     "data": {
      "text/html": [
       "<div>\n",
       "<style scoped>\n",
       "    .dataframe tbody tr th:only-of-type {\n",
       "        vertical-align: middle;\n",
       "    }\n",
       "\n",
       "    .dataframe tbody tr th {\n",
       "        vertical-align: top;\n",
       "    }\n",
       "\n",
       "    .dataframe thead th {\n",
       "        text-align: right;\n",
       "    }\n",
       "</style>\n",
       "<table border=\"1\" class=\"dataframe\">\n",
       "  <thead>\n",
       "    <tr style=\"text-align: right;\">\n",
       "      <th></th>\n",
       "      <th>eventId</th>\n",
       "      <th>subEventName</th>\n",
       "      <th>tags</th>\n",
       "      <th>playerId</th>\n",
       "      <th>positions</th>\n",
       "      <th>matchId</th>\n",
       "      <th>eventName</th>\n",
       "      <th>teamId</th>\n",
       "      <th>matchPeriod</th>\n",
       "      <th>eventSec</th>\n",
       "      <th>subEventId</th>\n",
       "      <th>id</th>\n",
       "      <th>x</th>\n",
       "      <th>y</th>\n",
       "      <th>result</th>\n",
       "    </tr>\n",
       "  </thead>\n",
       "  <tbody>\n",
       "    <tr>\n",
       "      <th>74679</th>\n",
       "      <td>10</td>\n",
       "      <td>Shot</td>\n",
       "      <td>[{'id': 402}, {'id': 201}, {'id': 1202}, {'id'...</td>\n",
       "      <td>3682</td>\n",
       "      <td>[{'y': 41, 'x': 86}, {'y': 100, 'x': 100}]</td>\n",
       "      <td>1694439</td>\n",
       "      <td>Shot</td>\n",
       "      <td>4418</td>\n",
       "      <td>1H</td>\n",
       "      <td>363.376287</td>\n",
       "      <td>100</td>\n",
       "      <td>90356598</td>\n",
       "      <td>103.2</td>\n",
       "      <td>47.2</td>\n",
       "      <td>failure</td>\n",
       "    </tr>\n",
       "    <tr>\n",
       "      <th>74790</th>\n",
       "      <td>10</td>\n",
       "      <td>Shot</td>\n",
       "      <td>[{'id': 402}, {'id': 201}, {'id': 1212}, {'id'...</td>\n",
       "      <td>14732</td>\n",
       "      <td>[{'y': 65, 'x': 90}, {'y': 0, 'x': 0}]</td>\n",
       "      <td>1694439</td>\n",
       "      <td>Shot</td>\n",
       "      <td>3148</td>\n",
       "      <td>1H</td>\n",
       "      <td>740.879991</td>\n",
       "      <td>100</td>\n",
       "      <td>90356733</td>\n",
       "      <td>108.0</td>\n",
       "      <td>28.0</td>\n",
       "      <td>failure</td>\n",
       "    </tr>\n",
       "    <tr>\n",
       "      <th>74810</th>\n",
       "      <td>10</td>\n",
       "      <td>Shot</td>\n",
       "      <td>[{'id': 401}, {'id': 201}, {'id': 1205}, {'id'...</td>\n",
       "      <td>18550</td>\n",
       "      <td>[{'y': 50, 'x': 85}, {'y': 0, 'x': 0}]</td>\n",
       "      <td>1694439</td>\n",
       "      <td>Shot</td>\n",
       "      <td>3148</td>\n",
       "      <td>1H</td>\n",
       "      <td>812.556361</td>\n",
       "      <td>100</td>\n",
       "      <td>90356762</td>\n",
       "      <td>102.0</td>\n",
       "      <td>40.0</td>\n",
       "      <td>failure</td>\n",
       "    </tr>\n",
       "    <tr>\n",
       "      <th>74813</th>\n",
       "      <td>10</td>\n",
       "      <td>Shot</td>\n",
       "      <td>[{'id': 402}, {'id': 2101}, {'id': 1802}]</td>\n",
       "      <td>3319</td>\n",
       "      <td>[{'y': 36, 'x': 90}, {'y': 0, 'x': 0}]</td>\n",
       "      <td>1694439</td>\n",
       "      <td>Shot</td>\n",
       "      <td>3148</td>\n",
       "      <td>1H</td>\n",
       "      <td>817.997093</td>\n",
       "      <td>100</td>\n",
       "      <td>90356768</td>\n",
       "      <td>108.0</td>\n",
       "      <td>51.2</td>\n",
       "      <td>failure</td>\n",
       "    </tr>\n",
       "    <tr>\n",
       "      <th>74846</th>\n",
       "      <td>10</td>\n",
       "      <td>Shot</td>\n",
       "      <td>[{'id': 402}, {'id': 201}, {'id': 1201}, {'id'...</td>\n",
       "      <td>14732</td>\n",
       "      <td>[{'y': 29, 'x': 76}, {'y': 0, 'x': 0}]</td>\n",
       "      <td>1694439</td>\n",
       "      <td>Shot</td>\n",
       "      <td>3148</td>\n",
       "      <td>1H</td>\n",
       "      <td>895.109015</td>\n",
       "      <td>100</td>\n",
       "      <td>90356794</td>\n",
       "      <td>91.2</td>\n",
       "      <td>56.8</td>\n",
       "      <td>failure</td>\n",
       "    </tr>\n",
       "  </tbody>\n",
       "</table>\n",
       "</div>"
      ],
      "text/plain": [
       "       eventId subEventName  \\\n",
       "74679       10         Shot   \n",
       "74790       10         Shot   \n",
       "74810       10         Shot   \n",
       "74813       10         Shot   \n",
       "74846       10         Shot   \n",
       "\n",
       "                                                    tags  playerId  \\\n",
       "74679  [{'id': 402}, {'id': 201}, {'id': 1202}, {'id'...      3682   \n",
       "74790  [{'id': 402}, {'id': 201}, {'id': 1212}, {'id'...     14732   \n",
       "74810  [{'id': 401}, {'id': 201}, {'id': 1205}, {'id'...     18550   \n",
       "74813          [{'id': 402}, {'id': 2101}, {'id': 1802}]      3319   \n",
       "74846  [{'id': 402}, {'id': 201}, {'id': 1201}, {'id'...     14732   \n",
       "\n",
       "                                        positions  matchId eventName  teamId  \\\n",
       "74679  [{'y': 41, 'x': 86}, {'y': 100, 'x': 100}]  1694439      Shot    4418   \n",
       "74790      [{'y': 65, 'x': 90}, {'y': 0, 'x': 0}]  1694439      Shot    3148   \n",
       "74810      [{'y': 50, 'x': 85}, {'y': 0, 'x': 0}]  1694439      Shot    3148   \n",
       "74813      [{'y': 36, 'x': 90}, {'y': 0, 'x': 0}]  1694439      Shot    3148   \n",
       "74846      [{'y': 29, 'x': 76}, {'y': 0, 'x': 0}]  1694439      Shot    3148   \n",
       "\n",
       "      matchPeriod    eventSec subEventId        id      x     y   result  \n",
       "74679          1H  363.376287        100  90356598  103.2  47.2  failure  \n",
       "74790          1H  740.879991        100  90356733  108.0  28.0  failure  \n",
       "74810          1H  812.556361        100  90356762  102.0  40.0  failure  \n",
       "74813          1H  817.997093        100  90356768  108.0  51.2  failure  \n",
       "74846          1H  895.109015        100  90356794   91.2  56.8  failure  "
      ]
     },
     "execution_count": 55,
     "metadata": {},
     "output_type": "execute_result"
    }
   ],
   "source": [
    "df_tmp.head()"
   ]
  },
  {
   "cell_type": "code",
   "execution_count": 53,
   "metadata": {},
   "outputs": [],
   "source": [
    "for i, (matchPeriod, teamId) in enumerate(df_tmp[['matchPeriod', 'teamId']].drop_duplicates().sort_values(by=['teamId', 'matchPeriod']).values.tolist()):\n",
    "    i, j = int(i/2)+1, i%2+1\n",
    "    fig.add_trace(\n",
    "        go.Scatter(\n",
    "            x=df_tmp[(df_tmp.matchPeriod==matchPeriod)&(df_tmp.teamId==teamId)].x.tolist()\n",
    "            , y=df_tmp[(df_tmp.matchPeriod==matchPeriod)&(df_tmp.teamId==teamId)].y.tolist()\n",
    "            , mode='markers'\n",
    "            , marker=dict(color=['red' if result=='success' else 'blue' for result in df_tmp[(df_tmp.matchPeriod==matchPeriod)&(df_tmp.teamId==teamId)].result.tolist()])\n",
    "            , hover_data=df_tmp[(df_tmp.matchPeriod==matchPeriod)&(df_tmp.teamId==teamId)].y.tolist()\n",
    "        )\n",
    "        , row=i, col=j)"
   ]
  },
  {
   "cell_type": "code",
   "execution_count": 54,
   "metadata": {},
   "outputs": [
    {
     "data": {
      "application/vnd.plotly.v1+json": {
       "config": {
        "plotlyServerURL": "https://plot.ly"
       },
       "data": [
        {
         "hoverinfo": "none",
         "line": {
          "color": "white",
          "width": 2.5
         },
         "mode": "lines",
         "showlegend": false,
         "type": "scatter",
         "x": [
          0,
          120
         ],
         "xaxis": "x",
         "y": [
          0,
          0
         ],
         "yaxis": "y"
        },
        {
         "hoverinfo": "none",
         "line": {
          "color": "white",
          "width": 2.5
         },
         "mode": "lines",
         "showlegend": false,
         "type": "scatter",
         "x": [
          120,
          120
         ],
         "xaxis": "x",
         "y": [
          0,
          80
         ],
         "yaxis": "y"
        },
        {
         "hoverinfo": "none",
         "line": {
          "color": "white",
          "width": 2.5
         },
         "mode": "lines",
         "showlegend": false,
         "type": "scatter",
         "x": [
          120,
          0
         ],
         "xaxis": "x",
         "y": [
          80,
          80
         ],
         "yaxis": "y"
        },
        {
         "hoverinfo": "none",
         "line": {
          "color": "white",
          "width": 2.5
         },
         "mode": "lines",
         "showlegend": false,
         "type": "scatter",
         "x": [
          0,
          0
         ],
         "xaxis": "x",
         "y": [
          80,
          0
         ],
         "yaxis": "y"
        },
        {
         "hoverinfo": "none",
         "line": {
          "color": "white",
          "width": 2.5
         },
         "mode": "lines",
         "showlegend": false,
         "type": "scatter",
         "x": [
          60,
          60
         ],
         "xaxis": "x",
         "y": [
          0,
          80
         ],
         "yaxis": "y"
        },
        {
         "hoverinfo": "none",
         "line": {
          "color": "white",
          "width": 2.5
         },
         "mode": "lines",
         "showlegend": false,
         "type": "scatter",
         "x": [
          0,
          18
         ],
         "xaxis": "x",
         "y": [
          18,
          18
         ],
         "yaxis": "y"
        },
        {
         "hoverinfo": "none",
         "line": {
          "color": "white",
          "width": 2.5
         },
         "mode": "lines",
         "showlegend": false,
         "type": "scatter",
         "x": [
          18,
          18
         ],
         "xaxis": "x",
         "y": [
          18,
          62
         ],
         "yaxis": "y"
        },
        {
         "hoverinfo": "none",
         "line": {
          "color": "white",
          "width": 2.5
         },
         "mode": "lines",
         "showlegend": false,
         "type": "scatter",
         "x": [
          18,
          0
         ],
         "xaxis": "x",
         "y": [
          62,
          62
         ],
         "yaxis": "y"
        },
        {
         "hoverinfo": "none",
         "line": {
          "color": "white",
          "width": 2.5
         },
         "mode": "lines",
         "showlegend": false,
         "type": "scatter",
         "x": [
          0,
          6
         ],
         "xaxis": "x",
         "y": [
          30,
          30
         ],
         "yaxis": "y"
        },
        {
         "hoverinfo": "none",
         "line": {
          "color": "white",
          "width": 2.5
         },
         "mode": "lines",
         "showlegend": false,
         "type": "scatter",
         "x": [
          6,
          6
         ],
         "xaxis": "x",
         "y": [
          30,
          50
         ],
         "yaxis": "y"
        },
        {
         "hoverinfo": "none",
         "line": {
          "color": "white",
          "width": 2.5
         },
         "mode": "lines",
         "showlegend": false,
         "type": "scatter",
         "x": [
          6,
          0
         ],
         "xaxis": "x",
         "y": [
          50,
          50
         ],
         "yaxis": "y"
        },
        {
         "hoverinfo": "none",
         "line": {
          "color": "white",
          "width": 2.5
         },
         "mode": "lines",
         "showlegend": false,
         "type": "scatter",
         "x": [
          120,
          102
         ],
         "xaxis": "x",
         "y": [
          18,
          18
         ],
         "yaxis": "y"
        },
        {
         "hoverinfo": "none",
         "line": {
          "color": "white",
          "width": 2.5
         },
         "mode": "lines",
         "showlegend": false,
         "type": "scatter",
         "x": [
          102,
          102
         ],
         "xaxis": "x",
         "y": [
          18,
          62
         ],
         "yaxis": "y"
        },
        {
         "hoverinfo": "none",
         "line": {
          "color": "white",
          "width": 2.5
         },
         "mode": "lines",
         "showlegend": false,
         "type": "scatter",
         "x": [
          102,
          120
         ],
         "xaxis": "x",
         "y": [
          62,
          62
         ],
         "yaxis": "y"
        },
        {
         "hoverinfo": "none",
         "line": {
          "color": "white",
          "width": 2.5
         },
         "mode": "lines",
         "showlegend": false,
         "type": "scatter",
         "x": [
          120,
          114
         ],
         "xaxis": "x",
         "y": [
          30,
          30
         ],
         "yaxis": "y"
        },
        {
         "hoverinfo": "none",
         "line": {
          "color": "white",
          "width": 2.5
         },
         "mode": "lines",
         "showlegend": false,
         "type": "scatter",
         "x": [
          114,
          114
         ],
         "xaxis": "x",
         "y": [
          30,
          50
         ],
         "yaxis": "y"
        },
        {
         "hoverinfo": "none",
         "line": {
          "color": "white",
          "width": 2.5
         },
         "mode": "lines",
         "showlegend": false,
         "type": "scatter",
         "x": [
          114,
          120
         ],
         "xaxis": "x",
         "y": [
          50,
          50
         ],
         "yaxis": "y"
        },
        {
         "hoverinfo": "none",
         "line": {
          "color": "white",
          "width": 12.5
         },
         "mode": "lines",
         "showlegend": false,
         "type": "scatter",
         "x": [
          0,
          0
         ],
         "xaxis": "x",
         "y": [
          36,
          44
         ],
         "yaxis": "y"
        },
        {
         "hoverinfo": "none",
         "line": {
          "color": "white",
          "width": 12.5
         },
         "mode": "lines",
         "showlegend": false,
         "type": "scatter",
         "x": [
          120,
          120
         ],
         "xaxis": "x",
         "y": [
          36,
          44
         ],
         "yaxis": "y"
        },
        {
         "hoverinfo": "none",
         "line": {
          "color": "white",
          "width": 2.5
         },
         "mode": "lines",
         "showlegend": false,
         "type": "scatter",
         "x": [
          0,
          120
         ],
         "xaxis": "x2",
         "y": [
          0,
          0
         ],
         "yaxis": "y2"
        },
        {
         "hoverinfo": "none",
         "line": {
          "color": "white",
          "width": 2.5
         },
         "mode": "lines",
         "showlegend": false,
         "type": "scatter",
         "x": [
          120,
          120
         ],
         "xaxis": "x2",
         "y": [
          0,
          80
         ],
         "yaxis": "y2"
        },
        {
         "hoverinfo": "none",
         "line": {
          "color": "white",
          "width": 2.5
         },
         "mode": "lines",
         "showlegend": false,
         "type": "scatter",
         "x": [
          120,
          0
         ],
         "xaxis": "x2",
         "y": [
          80,
          80
         ],
         "yaxis": "y2"
        },
        {
         "hoverinfo": "none",
         "line": {
          "color": "white",
          "width": 2.5
         },
         "mode": "lines",
         "showlegend": false,
         "type": "scatter",
         "x": [
          0,
          0
         ],
         "xaxis": "x2",
         "y": [
          80,
          0
         ],
         "yaxis": "y2"
        },
        {
         "hoverinfo": "none",
         "line": {
          "color": "white",
          "width": 2.5
         },
         "mode": "lines",
         "showlegend": false,
         "type": "scatter",
         "x": [
          60,
          60
         ],
         "xaxis": "x2",
         "y": [
          0,
          80
         ],
         "yaxis": "y2"
        },
        {
         "hoverinfo": "none",
         "line": {
          "color": "white",
          "width": 2.5
         },
         "mode": "lines",
         "showlegend": false,
         "type": "scatter",
         "x": [
          0,
          18
         ],
         "xaxis": "x2",
         "y": [
          18,
          18
         ],
         "yaxis": "y2"
        },
        {
         "hoverinfo": "none",
         "line": {
          "color": "white",
          "width": 2.5
         },
         "mode": "lines",
         "showlegend": false,
         "type": "scatter",
         "x": [
          18,
          18
         ],
         "xaxis": "x2",
         "y": [
          18,
          62
         ],
         "yaxis": "y2"
        },
        {
         "hoverinfo": "none",
         "line": {
          "color": "white",
          "width": 2.5
         },
         "mode": "lines",
         "showlegend": false,
         "type": "scatter",
         "x": [
          18,
          0
         ],
         "xaxis": "x2",
         "y": [
          62,
          62
         ],
         "yaxis": "y2"
        },
        {
         "hoverinfo": "none",
         "line": {
          "color": "white",
          "width": 2.5
         },
         "mode": "lines",
         "showlegend": false,
         "type": "scatter",
         "x": [
          0,
          6
         ],
         "xaxis": "x2",
         "y": [
          30,
          30
         ],
         "yaxis": "y2"
        },
        {
         "hoverinfo": "none",
         "line": {
          "color": "white",
          "width": 2.5
         },
         "mode": "lines",
         "showlegend": false,
         "type": "scatter",
         "x": [
          6,
          6
         ],
         "xaxis": "x2",
         "y": [
          30,
          50
         ],
         "yaxis": "y2"
        },
        {
         "hoverinfo": "none",
         "line": {
          "color": "white",
          "width": 2.5
         },
         "mode": "lines",
         "showlegend": false,
         "type": "scatter",
         "x": [
          6,
          0
         ],
         "xaxis": "x2",
         "y": [
          50,
          50
         ],
         "yaxis": "y2"
        },
        {
         "hoverinfo": "none",
         "line": {
          "color": "white",
          "width": 2.5
         },
         "mode": "lines",
         "showlegend": false,
         "type": "scatter",
         "x": [
          120,
          102
         ],
         "xaxis": "x2",
         "y": [
          18,
          18
         ],
         "yaxis": "y2"
        },
        {
         "hoverinfo": "none",
         "line": {
          "color": "white",
          "width": 2.5
         },
         "mode": "lines",
         "showlegend": false,
         "type": "scatter",
         "x": [
          102,
          102
         ],
         "xaxis": "x2",
         "y": [
          18,
          62
         ],
         "yaxis": "y2"
        },
        {
         "hoverinfo": "none",
         "line": {
          "color": "white",
          "width": 2.5
         },
         "mode": "lines",
         "showlegend": false,
         "type": "scatter",
         "x": [
          102,
          120
         ],
         "xaxis": "x2",
         "y": [
          62,
          62
         ],
         "yaxis": "y2"
        },
        {
         "hoverinfo": "none",
         "line": {
          "color": "white",
          "width": 2.5
         },
         "mode": "lines",
         "showlegend": false,
         "type": "scatter",
         "x": [
          120,
          114
         ],
         "xaxis": "x2",
         "y": [
          30,
          30
         ],
         "yaxis": "y2"
        },
        {
         "hoverinfo": "none",
         "line": {
          "color": "white",
          "width": 2.5
         },
         "mode": "lines",
         "showlegend": false,
         "type": "scatter",
         "x": [
          114,
          114
         ],
         "xaxis": "x2",
         "y": [
          30,
          50
         ],
         "yaxis": "y2"
        },
        {
         "hoverinfo": "none",
         "line": {
          "color": "white",
          "width": 2.5
         },
         "mode": "lines",
         "showlegend": false,
         "type": "scatter",
         "x": [
          114,
          120
         ],
         "xaxis": "x2",
         "y": [
          50,
          50
         ],
         "yaxis": "y2"
        },
        {
         "hoverinfo": "none",
         "line": {
          "color": "white",
          "width": 12.5
         },
         "mode": "lines",
         "showlegend": false,
         "type": "scatter",
         "x": [
          0,
          0
         ],
         "xaxis": "x2",
         "y": [
          36,
          44
         ],
         "yaxis": "y2"
        },
        {
         "hoverinfo": "none",
         "line": {
          "color": "white",
          "width": 12.5
         },
         "mode": "lines",
         "showlegend": false,
         "type": "scatter",
         "x": [
          120,
          120
         ],
         "xaxis": "x2",
         "y": [
          36,
          44
         ],
         "yaxis": "y2"
        },
        {
         "hoverinfo": "none",
         "line": {
          "color": "white",
          "width": 2.5
         },
         "mode": "lines",
         "showlegend": false,
         "type": "scatter",
         "x": [
          0,
          120
         ],
         "xaxis": "x3",
         "y": [
          0,
          0
         ],
         "yaxis": "y3"
        },
        {
         "hoverinfo": "none",
         "line": {
          "color": "white",
          "width": 2.5
         },
         "mode": "lines",
         "showlegend": false,
         "type": "scatter",
         "x": [
          120,
          120
         ],
         "xaxis": "x3",
         "y": [
          0,
          80
         ],
         "yaxis": "y3"
        },
        {
         "hoverinfo": "none",
         "line": {
          "color": "white",
          "width": 2.5
         },
         "mode": "lines",
         "showlegend": false,
         "type": "scatter",
         "x": [
          120,
          0
         ],
         "xaxis": "x3",
         "y": [
          80,
          80
         ],
         "yaxis": "y3"
        },
        {
         "hoverinfo": "none",
         "line": {
          "color": "white",
          "width": 2.5
         },
         "mode": "lines",
         "showlegend": false,
         "type": "scatter",
         "x": [
          0,
          0
         ],
         "xaxis": "x3",
         "y": [
          80,
          0
         ],
         "yaxis": "y3"
        },
        {
         "hoverinfo": "none",
         "line": {
          "color": "white",
          "width": 2.5
         },
         "mode": "lines",
         "showlegend": false,
         "type": "scatter",
         "x": [
          60,
          60
         ],
         "xaxis": "x3",
         "y": [
          0,
          80
         ],
         "yaxis": "y3"
        },
        {
         "hoverinfo": "none",
         "line": {
          "color": "white",
          "width": 2.5
         },
         "mode": "lines",
         "showlegend": false,
         "type": "scatter",
         "x": [
          0,
          18
         ],
         "xaxis": "x3",
         "y": [
          18,
          18
         ],
         "yaxis": "y3"
        },
        {
         "hoverinfo": "none",
         "line": {
          "color": "white",
          "width": 2.5
         },
         "mode": "lines",
         "showlegend": false,
         "type": "scatter",
         "x": [
          18,
          18
         ],
         "xaxis": "x3",
         "y": [
          18,
          62
         ],
         "yaxis": "y3"
        },
        {
         "hoverinfo": "none",
         "line": {
          "color": "white",
          "width": 2.5
         },
         "mode": "lines",
         "showlegend": false,
         "type": "scatter",
         "x": [
          18,
          0
         ],
         "xaxis": "x3",
         "y": [
          62,
          62
         ],
         "yaxis": "y3"
        },
        {
         "hoverinfo": "none",
         "line": {
          "color": "white",
          "width": 2.5
         },
         "mode": "lines",
         "showlegend": false,
         "type": "scatter",
         "x": [
          0,
          6
         ],
         "xaxis": "x3",
         "y": [
          30,
          30
         ],
         "yaxis": "y3"
        },
        {
         "hoverinfo": "none",
         "line": {
          "color": "white",
          "width": 2.5
         },
         "mode": "lines",
         "showlegend": false,
         "type": "scatter",
         "x": [
          6,
          6
         ],
         "xaxis": "x3",
         "y": [
          30,
          50
         ],
         "yaxis": "y3"
        },
        {
         "hoverinfo": "none",
         "line": {
          "color": "white",
          "width": 2.5
         },
         "mode": "lines",
         "showlegend": false,
         "type": "scatter",
         "x": [
          6,
          0
         ],
         "xaxis": "x3",
         "y": [
          50,
          50
         ],
         "yaxis": "y3"
        },
        {
         "hoverinfo": "none",
         "line": {
          "color": "white",
          "width": 2.5
         },
         "mode": "lines",
         "showlegend": false,
         "type": "scatter",
         "x": [
          120,
          102
         ],
         "xaxis": "x3",
         "y": [
          18,
          18
         ],
         "yaxis": "y3"
        },
        {
         "hoverinfo": "none",
         "line": {
          "color": "white",
          "width": 2.5
         },
         "mode": "lines",
         "showlegend": false,
         "type": "scatter",
         "x": [
          102,
          102
         ],
         "xaxis": "x3",
         "y": [
          18,
          62
         ],
         "yaxis": "y3"
        },
        {
         "hoverinfo": "none",
         "line": {
          "color": "white",
          "width": 2.5
         },
         "mode": "lines",
         "showlegend": false,
         "type": "scatter",
         "x": [
          102,
          120
         ],
         "xaxis": "x3",
         "y": [
          62,
          62
         ],
         "yaxis": "y3"
        },
        {
         "hoverinfo": "none",
         "line": {
          "color": "white",
          "width": 2.5
         },
         "mode": "lines",
         "showlegend": false,
         "type": "scatter",
         "x": [
          120,
          114
         ],
         "xaxis": "x3",
         "y": [
          30,
          30
         ],
         "yaxis": "y3"
        },
        {
         "hoverinfo": "none",
         "line": {
          "color": "white",
          "width": 2.5
         },
         "mode": "lines",
         "showlegend": false,
         "type": "scatter",
         "x": [
          114,
          114
         ],
         "xaxis": "x3",
         "y": [
          30,
          50
         ],
         "yaxis": "y3"
        },
        {
         "hoverinfo": "none",
         "line": {
          "color": "white",
          "width": 2.5
         },
         "mode": "lines",
         "showlegend": false,
         "type": "scatter",
         "x": [
          114,
          120
         ],
         "xaxis": "x3",
         "y": [
          50,
          50
         ],
         "yaxis": "y3"
        },
        {
         "hoverinfo": "none",
         "line": {
          "color": "white",
          "width": 12.5
         },
         "mode": "lines",
         "showlegend": false,
         "type": "scatter",
         "x": [
          0,
          0
         ],
         "xaxis": "x3",
         "y": [
          36,
          44
         ],
         "yaxis": "y3"
        },
        {
         "hoverinfo": "none",
         "line": {
          "color": "white",
          "width": 12.5
         },
         "mode": "lines",
         "showlegend": false,
         "type": "scatter",
         "x": [
          120,
          120
         ],
         "xaxis": "x3",
         "y": [
          36,
          44
         ],
         "yaxis": "y3"
        },
        {
         "hoverinfo": "none",
         "line": {
          "color": "white",
          "width": 2.5
         },
         "mode": "lines",
         "showlegend": false,
         "type": "scatter",
         "x": [
          0,
          120
         ],
         "xaxis": "x4",
         "y": [
          0,
          0
         ],
         "yaxis": "y4"
        },
        {
         "hoverinfo": "none",
         "line": {
          "color": "white",
          "width": 2.5
         },
         "mode": "lines",
         "showlegend": false,
         "type": "scatter",
         "x": [
          120,
          120
         ],
         "xaxis": "x4",
         "y": [
          0,
          80
         ],
         "yaxis": "y4"
        },
        {
         "hoverinfo": "none",
         "line": {
          "color": "white",
          "width": 2.5
         },
         "mode": "lines",
         "showlegend": false,
         "type": "scatter",
         "x": [
          120,
          0
         ],
         "xaxis": "x4",
         "y": [
          80,
          80
         ],
         "yaxis": "y4"
        },
        {
         "hoverinfo": "none",
         "line": {
          "color": "white",
          "width": 2.5
         },
         "mode": "lines",
         "showlegend": false,
         "type": "scatter",
         "x": [
          0,
          0
         ],
         "xaxis": "x4",
         "y": [
          80,
          0
         ],
         "yaxis": "y4"
        },
        {
         "hoverinfo": "none",
         "line": {
          "color": "white",
          "width": 2.5
         },
         "mode": "lines",
         "showlegend": false,
         "type": "scatter",
         "x": [
          60,
          60
         ],
         "xaxis": "x4",
         "y": [
          0,
          80
         ],
         "yaxis": "y4"
        },
        {
         "hoverinfo": "none",
         "line": {
          "color": "white",
          "width": 2.5
         },
         "mode": "lines",
         "showlegend": false,
         "type": "scatter",
         "x": [
          0,
          18
         ],
         "xaxis": "x4",
         "y": [
          18,
          18
         ],
         "yaxis": "y4"
        },
        {
         "hoverinfo": "none",
         "line": {
          "color": "white",
          "width": 2.5
         },
         "mode": "lines",
         "showlegend": false,
         "type": "scatter",
         "x": [
          18,
          18
         ],
         "xaxis": "x4",
         "y": [
          18,
          62
         ],
         "yaxis": "y4"
        },
        {
         "hoverinfo": "none",
         "line": {
          "color": "white",
          "width": 2.5
         },
         "mode": "lines",
         "showlegend": false,
         "type": "scatter",
         "x": [
          18,
          0
         ],
         "xaxis": "x4",
         "y": [
          62,
          62
         ],
         "yaxis": "y4"
        },
        {
         "hoverinfo": "none",
         "line": {
          "color": "white",
          "width": 2.5
         },
         "mode": "lines",
         "showlegend": false,
         "type": "scatter",
         "x": [
          0,
          6
         ],
         "xaxis": "x4",
         "y": [
          30,
          30
         ],
         "yaxis": "y4"
        },
        {
         "hoverinfo": "none",
         "line": {
          "color": "white",
          "width": 2.5
         },
         "mode": "lines",
         "showlegend": false,
         "type": "scatter",
         "x": [
          6,
          6
         ],
         "xaxis": "x4",
         "y": [
          30,
          50
         ],
         "yaxis": "y4"
        },
        {
         "hoverinfo": "none",
         "line": {
          "color": "white",
          "width": 2.5
         },
         "mode": "lines",
         "showlegend": false,
         "type": "scatter",
         "x": [
          6,
          0
         ],
         "xaxis": "x4",
         "y": [
          50,
          50
         ],
         "yaxis": "y4"
        },
        {
         "hoverinfo": "none",
         "line": {
          "color": "white",
          "width": 2.5
         },
         "mode": "lines",
         "showlegend": false,
         "type": "scatter",
         "x": [
          120,
          102
         ],
         "xaxis": "x4",
         "y": [
          18,
          18
         ],
         "yaxis": "y4"
        },
        {
         "hoverinfo": "none",
         "line": {
          "color": "white",
          "width": 2.5
         },
         "mode": "lines",
         "showlegend": false,
         "type": "scatter",
         "x": [
          102,
          102
         ],
         "xaxis": "x4",
         "y": [
          18,
          62
         ],
         "yaxis": "y4"
        },
        {
         "hoverinfo": "none",
         "line": {
          "color": "white",
          "width": 2.5
         },
         "mode": "lines",
         "showlegend": false,
         "type": "scatter",
         "x": [
          102,
          120
         ],
         "xaxis": "x4",
         "y": [
          62,
          62
         ],
         "yaxis": "y4"
        },
        {
         "hoverinfo": "none",
         "line": {
          "color": "white",
          "width": 2.5
         },
         "mode": "lines",
         "showlegend": false,
         "type": "scatter",
         "x": [
          120,
          114
         ],
         "xaxis": "x4",
         "y": [
          30,
          30
         ],
         "yaxis": "y4"
        },
        {
         "hoverinfo": "none",
         "line": {
          "color": "white",
          "width": 2.5
         },
         "mode": "lines",
         "showlegend": false,
         "type": "scatter",
         "x": [
          114,
          114
         ],
         "xaxis": "x4",
         "y": [
          30,
          50
         ],
         "yaxis": "y4"
        },
        {
         "hoverinfo": "none",
         "line": {
          "color": "white",
          "width": 2.5
         },
         "mode": "lines",
         "showlegend": false,
         "type": "scatter",
         "x": [
          114,
          120
         ],
         "xaxis": "x4",
         "y": [
          50,
          50
         ],
         "yaxis": "y4"
        },
        {
         "hoverinfo": "none",
         "line": {
          "color": "white",
          "width": 12.5
         },
         "mode": "lines",
         "showlegend": false,
         "type": "scatter",
         "x": [
          0,
          0
         ],
         "xaxis": "x4",
         "y": [
          36,
          44
         ],
         "yaxis": "y4"
        },
        {
         "hoverinfo": "none",
         "line": {
          "color": "white",
          "width": 12.5
         },
         "mode": "lines",
         "showlegend": false,
         "type": "scatter",
         "x": [
          120,
          120
         ],
         "xaxis": "x4",
         "y": [
          36,
          44
         ],
         "yaxis": "y4"
        },
        {
         "marker": {
          "color": [
           "blue",
           "blue",
           "blue",
           "blue",
           "blue",
           "blue",
           "blue",
           "blue",
           "blue",
           "blue"
          ]
         },
         "mode": "markers",
         "type": "scatter",
         "x": [
          108,
          102,
          108,
          91.2,
          105.6,
          96,
          85.2,
          86.4,
          87.6,
          91.2
         ],
         "xaxis": "x",
         "y": [
          28,
          40,
          51.2,
          56.8,
          49.6,
          27.199999999999996,
          55.199999999999996,
          61.6,
          25.599999999999994,
          27.199999999999996
         ],
         "yaxis": "y"
        },
        {
         "marker": {
          "color": [
           "blue",
           "blue",
           "blue",
           "blue",
           "blue"
          ]
         },
         "mode": "markers",
         "type": "scatter",
         "x": [
          96,
          109.2,
          108,
          109.2,
          112.8
         ],
         "xaxis": "x2",
         "y": [
          28.799999999999997,
          34.400000000000006,
          34.400000000000006,
          35.199999999999996,
          50.4
         ],
         "yaxis": "y2"
        },
        {
         "marker": {
          "color": [
           "blue",
           "blue",
           "blue"
          ]
         },
         "mode": "markers",
         "type": "scatter",
         "x": [
          103.2,
          114,
          103.2
         ],
         "xaxis": "x3",
         "y": [
          47.2,
          56,
          53.599999999999994
         ],
         "yaxis": "y3"
        },
        {
         "marker": {
          "color": [
           "blue",
           "blue",
           "blue",
           "blue",
           "red",
           "blue",
           "blue",
           "blue"
          ]
         },
         "mode": "markers",
         "type": "scatter",
         "x": [
          104.4,
          111.6,
          106.8,
          94.8,
          109.2,
          87.6,
          100.8,
          97.2
         ],
         "xaxis": "x4",
         "y": [
          52.8,
          56.8,
          52.8,
          43.2,
          32.800000000000004,
          40.8,
          45.60000000000001,
          43.2
         ],
         "yaxis": "y4"
        }
       ],
       "layout": {
        "annotations": [
         {
          "font": {
           "color": "white",
           "size": 15
          },
          "showarrow": false,
          "text": "1H Germany",
          "x": 0.2375,
          "xanchor": "center",
          "xref": "paper",
          "y": 1,
          "yanchor": "bottom",
          "yref": "paper"
         },
         {
          "font": {
           "color": "white",
           "size": 15
          },
          "showarrow": false,
          "text": "2H Germany",
          "x": 0.7625,
          "xanchor": "center",
          "xref": "paper",
          "y": 1,
          "yanchor": "bottom",
          "yref": "paper"
         },
         {
          "font": {
           "color": "white",
           "size": 15
          },
          "showarrow": false,
          "text": "1H France",
          "x": 0.2375,
          "xanchor": "center",
          "xref": "paper",
          "y": 0.475,
          "yanchor": "bottom",
          "yref": "paper"
         },
         {
          "font": {
           "color": "white",
           "size": 15
          },
          "showarrow": false,
          "text": "2H France",
          "x": 0.7625,
          "xanchor": "center",
          "xref": "paper",
          "y": 0.475,
          "yanchor": "bottom",
          "yref": "paper"
         }
        ],
        "autosize": true,
        "height": 800,
        "margin": {
         "b": 10,
         "l": 10,
         "r": 10,
         "t": 20
        },
        "paper_bgcolor": "rgb(20,29,38)",
        "plot_bgcolor": "rgb(20,29,38)",
        "shapes": [
         {
          "line": {
           "color": "white",
           "width": 2.5
          },
          "type": "circle",
          "x0": 48,
          "x1": 72,
          "xref": "x",
          "y0": 28,
          "y1": 52,
          "yref": "y"
         },
         {
          "line": {
           "color": "white",
           "width": 2.5
          },
          "type": "circle",
          "x0": 48,
          "x1": 72,
          "xref": "x2",
          "y0": 28,
          "y1": 52,
          "yref": "y2"
         },
         {
          "line": {
           "color": "white",
           "width": 2.5
          },
          "type": "circle",
          "x0": 48,
          "x1": 72,
          "xref": "x3",
          "y0": 28,
          "y1": 52,
          "yref": "y3"
         },
         {
          "line": {
           "color": "white",
           "width": 2.5
          },
          "type": "circle",
          "x0": 48,
          "x1": 72,
          "xref": "x4",
          "y0": 28,
          "y1": 52,
          "yref": "y4"
         }
        ],
        "template": {
         "data": {
          "bar": [
           {
            "error_x": {
             "color": "#2a3f5f"
            },
            "error_y": {
             "color": "#2a3f5f"
            },
            "marker": {
             "line": {
              "color": "#E5ECF6",
              "width": 0.5
             }
            },
            "type": "bar"
           }
          ],
          "barpolar": [
           {
            "marker": {
             "line": {
              "color": "#E5ECF6",
              "width": 0.5
             }
            },
            "type": "barpolar"
           }
          ],
          "carpet": [
           {
            "aaxis": {
             "endlinecolor": "#2a3f5f",
             "gridcolor": "white",
             "linecolor": "white",
             "minorgridcolor": "white",
             "startlinecolor": "#2a3f5f"
            },
            "baxis": {
             "endlinecolor": "#2a3f5f",
             "gridcolor": "white",
             "linecolor": "white",
             "minorgridcolor": "white",
             "startlinecolor": "#2a3f5f"
            },
            "type": "carpet"
           }
          ],
          "choropleth": [
           {
            "colorbar": {
             "outlinewidth": 0,
             "ticks": ""
            },
            "type": "choropleth"
           }
          ],
          "contour": [
           {
            "colorbar": {
             "outlinewidth": 0,
             "ticks": ""
            },
            "colorscale": [
             [
              0,
              "#0d0887"
             ],
             [
              0.1111111111111111,
              "#46039f"
             ],
             [
              0.2222222222222222,
              "#7201a8"
             ],
             [
              0.3333333333333333,
              "#9c179e"
             ],
             [
              0.4444444444444444,
              "#bd3786"
             ],
             [
              0.5555555555555556,
              "#d8576b"
             ],
             [
              0.6666666666666666,
              "#ed7953"
             ],
             [
              0.7777777777777778,
              "#fb9f3a"
             ],
             [
              0.8888888888888888,
              "#fdca26"
             ],
             [
              1,
              "#f0f921"
             ]
            ],
            "type": "contour"
           }
          ],
          "contourcarpet": [
           {
            "colorbar": {
             "outlinewidth": 0,
             "ticks": ""
            },
            "type": "contourcarpet"
           }
          ],
          "heatmap": [
           {
            "colorbar": {
             "outlinewidth": 0,
             "ticks": ""
            },
            "colorscale": [
             [
              0,
              "#0d0887"
             ],
             [
              0.1111111111111111,
              "#46039f"
             ],
             [
              0.2222222222222222,
              "#7201a8"
             ],
             [
              0.3333333333333333,
              "#9c179e"
             ],
             [
              0.4444444444444444,
              "#bd3786"
             ],
             [
              0.5555555555555556,
              "#d8576b"
             ],
             [
              0.6666666666666666,
              "#ed7953"
             ],
             [
              0.7777777777777778,
              "#fb9f3a"
             ],
             [
              0.8888888888888888,
              "#fdca26"
             ],
             [
              1,
              "#f0f921"
             ]
            ],
            "type": "heatmap"
           }
          ],
          "heatmapgl": [
           {
            "colorbar": {
             "outlinewidth": 0,
             "ticks": ""
            },
            "colorscale": [
             [
              0,
              "#0d0887"
             ],
             [
              0.1111111111111111,
              "#46039f"
             ],
             [
              0.2222222222222222,
              "#7201a8"
             ],
             [
              0.3333333333333333,
              "#9c179e"
             ],
             [
              0.4444444444444444,
              "#bd3786"
             ],
             [
              0.5555555555555556,
              "#d8576b"
             ],
             [
              0.6666666666666666,
              "#ed7953"
             ],
             [
              0.7777777777777778,
              "#fb9f3a"
             ],
             [
              0.8888888888888888,
              "#fdca26"
             ],
             [
              1,
              "#f0f921"
             ]
            ],
            "type": "heatmapgl"
           }
          ],
          "histogram": [
           {
            "marker": {
             "colorbar": {
              "outlinewidth": 0,
              "ticks": ""
             }
            },
            "type": "histogram"
           }
          ],
          "histogram2d": [
           {
            "colorbar": {
             "outlinewidth": 0,
             "ticks": ""
            },
            "colorscale": [
             [
              0,
              "#0d0887"
             ],
             [
              0.1111111111111111,
              "#46039f"
             ],
             [
              0.2222222222222222,
              "#7201a8"
             ],
             [
              0.3333333333333333,
              "#9c179e"
             ],
             [
              0.4444444444444444,
              "#bd3786"
             ],
             [
              0.5555555555555556,
              "#d8576b"
             ],
             [
              0.6666666666666666,
              "#ed7953"
             ],
             [
              0.7777777777777778,
              "#fb9f3a"
             ],
             [
              0.8888888888888888,
              "#fdca26"
             ],
             [
              1,
              "#f0f921"
             ]
            ],
            "type": "histogram2d"
           }
          ],
          "histogram2dcontour": [
           {
            "colorbar": {
             "outlinewidth": 0,
             "ticks": ""
            },
            "colorscale": [
             [
              0,
              "#0d0887"
             ],
             [
              0.1111111111111111,
              "#46039f"
             ],
             [
              0.2222222222222222,
              "#7201a8"
             ],
             [
              0.3333333333333333,
              "#9c179e"
             ],
             [
              0.4444444444444444,
              "#bd3786"
             ],
             [
              0.5555555555555556,
              "#d8576b"
             ],
             [
              0.6666666666666666,
              "#ed7953"
             ],
             [
              0.7777777777777778,
              "#fb9f3a"
             ],
             [
              0.8888888888888888,
              "#fdca26"
             ],
             [
              1,
              "#f0f921"
             ]
            ],
            "type": "histogram2dcontour"
           }
          ],
          "mesh3d": [
           {
            "colorbar": {
             "outlinewidth": 0,
             "ticks": ""
            },
            "type": "mesh3d"
           }
          ],
          "parcoords": [
           {
            "line": {
             "colorbar": {
              "outlinewidth": 0,
              "ticks": ""
             }
            },
            "type": "parcoords"
           }
          ],
          "scatter": [
           {
            "marker": {
             "colorbar": {
              "outlinewidth": 0,
              "ticks": ""
             }
            },
            "type": "scatter"
           }
          ],
          "scatter3d": [
           {
            "line": {
             "colorbar": {
              "outlinewidth": 0,
              "ticks": ""
             }
            },
            "marker": {
             "colorbar": {
              "outlinewidth": 0,
              "ticks": ""
             }
            },
            "type": "scatter3d"
           }
          ],
          "scattercarpet": [
           {
            "marker": {
             "colorbar": {
              "outlinewidth": 0,
              "ticks": ""
             }
            },
            "type": "scattercarpet"
           }
          ],
          "scattergeo": [
           {
            "marker": {
             "colorbar": {
              "outlinewidth": 0,
              "ticks": ""
             }
            },
            "type": "scattergeo"
           }
          ],
          "scattergl": [
           {
            "marker": {
             "colorbar": {
              "outlinewidth": 0,
              "ticks": ""
             }
            },
            "type": "scattergl"
           }
          ],
          "scattermapbox": [
           {
            "marker": {
             "colorbar": {
              "outlinewidth": 0,
              "ticks": ""
             }
            },
            "type": "scattermapbox"
           }
          ],
          "scatterpolar": [
           {
            "marker": {
             "colorbar": {
              "outlinewidth": 0,
              "ticks": ""
             }
            },
            "type": "scatterpolar"
           }
          ],
          "scatterpolargl": [
           {
            "marker": {
             "colorbar": {
              "outlinewidth": 0,
              "ticks": ""
             }
            },
            "type": "scatterpolargl"
           }
          ],
          "scatterternary": [
           {
            "marker": {
             "colorbar": {
              "outlinewidth": 0,
              "ticks": ""
             }
            },
            "type": "scatterternary"
           }
          ],
          "surface": [
           {
            "colorbar": {
             "outlinewidth": 0,
             "ticks": ""
            },
            "colorscale": [
             [
              0,
              "#0d0887"
             ],
             [
              0.1111111111111111,
              "#46039f"
             ],
             [
              0.2222222222222222,
              "#7201a8"
             ],
             [
              0.3333333333333333,
              "#9c179e"
             ],
             [
              0.4444444444444444,
              "#bd3786"
             ],
             [
              0.5555555555555556,
              "#d8576b"
             ],
             [
              0.6666666666666666,
              "#ed7953"
             ],
             [
              0.7777777777777778,
              "#fb9f3a"
             ],
             [
              0.8888888888888888,
              "#fdca26"
             ],
             [
              1,
              "#f0f921"
             ]
            ],
            "type": "surface"
           }
          ],
          "table": [
           {
            "cells": {
             "fill": {
              "color": "#EBF0F8"
             },
             "line": {
              "color": "white"
             }
            },
            "header": {
             "fill": {
              "color": "#C8D4E3"
             },
             "line": {
              "color": "white"
             }
            },
            "type": "table"
           }
          ]
         },
         "layout": {
          "annotationdefaults": {
           "arrowcolor": "#2a3f5f",
           "arrowhead": 0,
           "arrowwidth": 1
          },
          "colorscale": {
           "diverging": [
            [
             0,
             "#8e0152"
            ],
            [
             0.1,
             "#c51b7d"
            ],
            [
             0.2,
             "#de77ae"
            ],
            [
             0.3,
             "#f1b6da"
            ],
            [
             0.4,
             "#fde0ef"
            ],
            [
             0.5,
             "#f7f7f7"
            ],
            [
             0.6,
             "#e6f5d0"
            ],
            [
             0.7,
             "#b8e186"
            ],
            [
             0.8,
             "#7fbc41"
            ],
            [
             0.9,
             "#4d9221"
            ],
            [
             1,
             "#276419"
            ]
           ],
           "sequential": [
            [
             0,
             "#0d0887"
            ],
            [
             0.1111111111111111,
             "#46039f"
            ],
            [
             0.2222222222222222,
             "#7201a8"
            ],
            [
             0.3333333333333333,
             "#9c179e"
            ],
            [
             0.4444444444444444,
             "#bd3786"
            ],
            [
             0.5555555555555556,
             "#d8576b"
            ],
            [
             0.6666666666666666,
             "#ed7953"
            ],
            [
             0.7777777777777778,
             "#fb9f3a"
            ],
            [
             0.8888888888888888,
             "#fdca26"
            ],
            [
             1,
             "#f0f921"
            ]
           ],
           "sequentialminus": [
            [
             0,
             "#0d0887"
            ],
            [
             0.1111111111111111,
             "#46039f"
            ],
            [
             0.2222222222222222,
             "#7201a8"
            ],
            [
             0.3333333333333333,
             "#9c179e"
            ],
            [
             0.4444444444444444,
             "#bd3786"
            ],
            [
             0.5555555555555556,
             "#d8576b"
            ],
            [
             0.6666666666666666,
             "#ed7953"
            ],
            [
             0.7777777777777778,
             "#fb9f3a"
            ],
            [
             0.8888888888888888,
             "#fdca26"
            ],
            [
             1,
             "#f0f921"
            ]
           ]
          },
          "colorway": [
           "#636efa",
           "#EF553B",
           "#00cc96",
           "#ab63fa",
           "#FFA15A",
           "#19d3f3",
           "#FF6692",
           "#B6E880",
           "#FF97FF",
           "#FECB52"
          ],
          "font": {
           "color": "#2a3f5f"
          },
          "geo": {
           "bgcolor": "white",
           "lakecolor": "white",
           "landcolor": "#E5ECF6",
           "showlakes": true,
           "showland": true,
           "subunitcolor": "white"
          },
          "hoverlabel": {
           "align": "left"
          },
          "hovermode": "closest",
          "mapbox": {
           "style": "light"
          },
          "paper_bgcolor": "white",
          "plot_bgcolor": "#E5ECF6",
          "polar": {
           "angularaxis": {
            "gridcolor": "white",
            "linecolor": "white",
            "ticks": ""
           },
           "bgcolor": "#E5ECF6",
           "radialaxis": {
            "gridcolor": "white",
            "linecolor": "white",
            "ticks": ""
           }
          },
          "scene": {
           "xaxis": {
            "backgroundcolor": "#E5ECF6",
            "gridcolor": "white",
            "gridwidth": 2,
            "linecolor": "white",
            "showbackground": true,
            "ticks": "",
            "zerolinecolor": "white"
           },
           "yaxis": {
            "backgroundcolor": "#E5ECF6",
            "gridcolor": "white",
            "gridwidth": 2,
            "linecolor": "white",
            "showbackground": true,
            "ticks": "",
            "zerolinecolor": "white"
           },
           "zaxis": {
            "backgroundcolor": "#E5ECF6",
            "gridcolor": "white",
            "gridwidth": 2,
            "linecolor": "white",
            "showbackground": true,
            "ticks": "",
            "zerolinecolor": "white"
           }
          },
          "shapedefaults": {
           "line": {
            "color": "#2a3f5f"
           }
          },
          "ternary": {
           "aaxis": {
            "gridcolor": "white",
            "linecolor": "white",
            "ticks": ""
           },
           "baxis": {
            "gridcolor": "white",
            "linecolor": "white",
            "ticks": ""
           },
           "bgcolor": "#E5ECF6",
           "caxis": {
            "gridcolor": "white",
            "linecolor": "white",
            "ticks": ""
           }
          },
          "title": {
           "x": 0.05
          },
          "xaxis": {
           "automargin": true,
           "gridcolor": "white",
           "linecolor": "white",
           "ticks": "",
           "zerolinecolor": "white",
           "zerolinewidth": 2
          },
          "yaxis": {
           "automargin": true,
           "gridcolor": "white",
           "linecolor": "white",
           "ticks": "",
           "zerolinecolor": "white",
           "zerolinewidth": 2
          }
         }
        },
        "width": 1200,
        "xaxis": {
         "anchor": "y",
         "domain": [
          0,
          0.475
         ],
         "range": [
          -1,
          121
         ],
         "type": "linear",
         "visible": false
        },
        "xaxis2": {
         "anchor": "y2",
         "domain": [
          0.525,
          1
         ],
         "range": [
          -1,
          121
         ],
         "type": "linear",
         "visible": false
        },
        "xaxis3": {
         "anchor": "y3",
         "domain": [
          0,
          0.475
         ],
         "range": [
          -1,
          121
         ],
         "type": "linear",
         "visible": false
        },
        "xaxis4": {
         "anchor": "y4",
         "domain": [
          0.525,
          1
         ],
         "range": [
          -1,
          121
         ],
         "type": "linear",
         "visible": false
        },
        "yaxis": {
         "anchor": "x",
         "domain": [
          0.525,
          1
         ],
         "range": [
          -1,
          81
         ],
         "type": "linear",
         "visible": false
        },
        "yaxis2": {
         "anchor": "x2",
         "domain": [
          0.525,
          1
         ],
         "range": [
          -1,
          81
         ],
         "type": "linear",
         "visible": false
        },
        "yaxis3": {
         "anchor": "x3",
         "domain": [
          0,
          0.475
         ],
         "range": [
          -1,
          81
         ],
         "type": "linear",
         "visible": false
        },
        "yaxis4": {
         "anchor": "x4",
         "domain": [
          0,
          0.475
         ],
         "range": [
          -1,
          81
         ],
         "type": "linear",
         "visible": false
        }
       }
      },
      "image/png": "[encoded data removed]",
      "text/html": [
       "<div>\n",
       "        \n",
       "        \n",
       "            <div id=\"d4d1bb43-362f-43e8-9eb7-be436fb02c33\" class=\"plotly-graph-div\" style=\"height:800px; width:1200px;\"></div>\n",
       "            <script type=\"text/javascript\">\n",
       "                require([\"plotly\"], function(Plotly) {\n",
       "                    window.PLOTLYENV=window.PLOTLYENV || {};\n",
       "                    \n",
       "                if (document.getElementById(\"d4d1bb43-362f-43e8-9eb7-be436fb02c33\")) {\n",
       "                    Plotly.newPlot(\n",
       "                        'd4d1bb43-362f-43e8-9eb7-be436fb02c33',\n",
       "                        [{\"hoverinfo\": \"none\", \"line\": {\"color\": \"white\", \"width\": 2.5}, \"mode\": \"lines\", \"showlegend\": false, \"type\": \"scatter\", \"x\": [0, 120], \"xaxis\": \"x\", \"y\": [0, 0], \"yaxis\": \"y\"}, {\"hoverinfo\": \"none\", \"line\": {\"color\": \"white\", \"width\": 2.5}, \"mode\": \"lines\", \"showlegend\": false, \"type\": \"scatter\", \"x\": [120, 120], \"xaxis\": \"x\", \"y\": [0, 80], \"yaxis\": \"y\"}, {\"hoverinfo\": \"none\", \"line\": {\"color\": \"white\", \"width\": 2.5}, \"mode\": \"lines\", \"showlegend\": false, \"type\": \"scatter\", \"x\": [120, 0], \"xaxis\": \"x\", \"y\": [80, 80], \"yaxis\": \"y\"}, {\"hoverinfo\": \"none\", \"line\": {\"color\": \"white\", \"width\": 2.5}, \"mode\": \"lines\", \"showlegend\": false, \"type\": \"scatter\", \"x\": [0, 0], \"xaxis\": \"x\", \"y\": [80, 0], \"yaxis\": \"y\"}, {\"hoverinfo\": \"none\", \"line\": {\"color\": \"white\", \"width\": 2.5}, \"mode\": \"lines\", \"showlegend\": false, \"type\": \"scatter\", \"x\": [60, 60], \"xaxis\": \"x\", \"y\": [0, 80], \"yaxis\": \"y\"}, {\"hoverinfo\": \"none\", \"line\": {\"color\": \"white\", \"width\": 2.5}, \"mode\": \"lines\", \"showlegend\": false, \"type\": \"scatter\", \"x\": [0, 18], \"xaxis\": \"x\", \"y\": [18, 18], \"yaxis\": \"y\"}, {\"hoverinfo\": \"none\", \"line\": {\"color\": \"white\", \"width\": 2.5}, \"mode\": \"lines\", \"showlegend\": false, \"type\": \"scatter\", \"x\": [18, 18], \"xaxis\": \"x\", \"y\": [18, 62], \"yaxis\": \"y\"}, {\"hoverinfo\": \"none\", \"line\": {\"color\": \"white\", \"width\": 2.5}, \"mode\": \"lines\", \"showlegend\": false, \"type\": \"scatter\", \"x\": [18, 0], \"xaxis\": \"x\", \"y\": [62, 62], \"yaxis\": \"y\"}, {\"hoverinfo\": \"none\", \"line\": {\"color\": \"white\", \"width\": 2.5}, \"mode\": \"lines\", \"showlegend\": false, \"type\": \"scatter\", \"x\": [0, 6], \"xaxis\": \"x\", \"y\": [30, 30], \"yaxis\": \"y\"}, {\"hoverinfo\": \"none\", \"line\": {\"color\": \"white\", \"width\": 2.5}, \"mode\": \"lines\", \"showlegend\": false, \"type\": \"scatter\", \"x\": [6, 6], \"xaxis\": \"x\", \"y\": [30, 50], \"yaxis\": \"y\"}, {\"hoverinfo\": \"none\", \"line\": {\"color\": \"white\", \"width\": 2.5}, \"mode\": \"lines\", \"showlegend\": false, \"type\": \"scatter\", \"x\": [6, 0], \"xaxis\": \"x\", \"y\": [50, 50], \"yaxis\": \"y\"}, {\"hoverinfo\": \"none\", \"line\": {\"color\": \"white\", \"width\": 2.5}, \"mode\": \"lines\", \"showlegend\": false, \"type\": \"scatter\", \"x\": [120, 102], \"xaxis\": \"x\", \"y\": [18, 18], \"yaxis\": \"y\"}, {\"hoverinfo\": \"none\", \"line\": {\"color\": \"white\", \"width\": 2.5}, \"mode\": \"lines\", \"showlegend\": false, \"type\": \"scatter\", \"x\": [102, 102], \"xaxis\": \"x\", \"y\": [18, 62], \"yaxis\": \"y\"}, {\"hoverinfo\": \"none\", \"line\": {\"color\": \"white\", \"width\": 2.5}, \"mode\": \"lines\", \"showlegend\": false, \"type\": \"scatter\", \"x\": [102, 120], \"xaxis\": \"x\", \"y\": [62, 62], \"yaxis\": \"y\"}, {\"hoverinfo\": \"none\", \"line\": {\"color\": \"white\", \"width\": 2.5}, \"mode\": \"lines\", \"showlegend\": false, \"type\": \"scatter\", \"x\": [120, 114], \"xaxis\": \"x\", \"y\": [30, 30], \"yaxis\": \"y\"}, {\"hoverinfo\": \"none\", \"line\": {\"color\": \"white\", \"width\": 2.5}, \"mode\": \"lines\", \"showlegend\": false, \"type\": \"scatter\", \"x\": [114, 114], \"xaxis\": \"x\", \"y\": [30, 50], \"yaxis\": \"y\"}, {\"hoverinfo\": \"none\", \"line\": {\"color\": \"white\", \"width\": 2.5}, \"mode\": \"lines\", \"showlegend\": false, \"type\": \"scatter\", \"x\": [114, 120], \"xaxis\": \"x\", \"y\": [50, 50], \"yaxis\": \"y\"}, {\"hoverinfo\": \"none\", \"line\": {\"color\": \"white\", \"width\": 12.5}, \"mode\": \"lines\", \"showlegend\": false, \"type\": \"scatter\", \"x\": [0, 0], \"xaxis\": \"x\", \"y\": [36, 44], \"yaxis\": \"y\"}, {\"hoverinfo\": \"none\", \"line\": {\"color\": \"white\", \"width\": 12.5}, \"mode\": \"lines\", \"showlegend\": false, \"type\": \"scatter\", \"x\": [120, 120], \"xaxis\": \"x\", \"y\": [36, 44], \"yaxis\": \"y\"}, {\"hoverinfo\": \"none\", \"line\": {\"color\": \"white\", \"width\": 2.5}, \"mode\": \"lines\", \"showlegend\": false, \"type\": \"scatter\", \"x\": [0, 120], \"xaxis\": \"x2\", \"y\": [0, 0], \"yaxis\": \"y2\"}, {\"hoverinfo\": \"none\", \"line\": {\"color\": \"white\", \"width\": 2.5}, \"mode\": \"lines\", \"showlegend\": false, \"type\": \"scatter\", \"x\": [120, 120], \"xaxis\": \"x2\", \"y\": [0, 80], \"yaxis\": \"y2\"}, {\"hoverinfo\": \"none\", \"line\": {\"color\": \"white\", \"width\": 2.5}, \"mode\": \"lines\", \"showlegend\": false, \"type\": \"scatter\", \"x\": [120, 0], \"xaxis\": \"x2\", \"y\": [80, 80], \"yaxis\": \"y2\"}, {\"hoverinfo\": \"none\", \"line\": {\"color\": \"white\", \"width\": 2.5}, \"mode\": \"lines\", \"showlegend\": false, \"type\": \"scatter\", \"x\": [0, 0], \"xaxis\": \"x2\", \"y\": [80, 0], \"yaxis\": \"y2\"}, {\"hoverinfo\": \"none\", \"line\": {\"color\": \"white\", \"width\": 2.5}, \"mode\": \"lines\", \"showlegend\": false, \"type\": \"scatter\", \"x\": [60, 60], \"xaxis\": \"x2\", \"y\": [0, 80], \"yaxis\": \"y2\"}, {\"hoverinfo\": \"none\", \"line\": {\"color\": \"white\", \"width\": 2.5}, \"mode\": \"lines\", \"showlegend\": false, \"type\": \"scatter\", \"x\": [0, 18], \"xaxis\": \"x2\", \"y\": [18, 18], \"yaxis\": \"y2\"}, {\"hoverinfo\": \"none\", \"line\": {\"color\": \"white\", \"width\": 2.5}, \"mode\": \"lines\", \"showlegend\": false, \"type\": \"scatter\", \"x\": [18, 18], \"xaxis\": \"x2\", \"y\": [18, 62], \"yaxis\": \"y2\"}, {\"hoverinfo\": \"none\", \"line\": {\"color\": \"white\", \"width\": 2.5}, \"mode\": \"lines\", \"showlegend\": false, \"type\": \"scatter\", \"x\": [18, 0], \"xaxis\": \"x2\", \"y\": [62, 62], \"yaxis\": \"y2\"}, {\"hoverinfo\": \"none\", \"line\": {\"color\": \"white\", \"width\": 2.5}, \"mode\": \"lines\", \"showlegend\": false, \"type\": \"scatter\", \"x\": [0, 6], \"xaxis\": \"x2\", \"y\": [30, 30], \"yaxis\": \"y2\"}, {\"hoverinfo\": \"none\", \"line\": {\"color\": \"white\", \"width\": 2.5}, \"mode\": \"lines\", \"showlegend\": false, \"type\": \"scatter\", \"x\": [6, 6], \"xaxis\": \"x2\", \"y\": [30, 50], \"yaxis\": \"y2\"}, {\"hoverinfo\": \"none\", \"line\": {\"color\": \"white\", \"width\": 2.5}, \"mode\": \"lines\", \"showlegend\": false, \"type\": \"scatter\", \"x\": [6, 0], \"xaxis\": \"x2\", \"y\": [50, 50], \"yaxis\": \"y2\"}, {\"hoverinfo\": \"none\", \"line\": {\"color\": \"white\", \"width\": 2.5}, \"mode\": \"lines\", \"showlegend\": false, \"type\": \"scatter\", \"x\": [120, 102], \"xaxis\": \"x2\", \"y\": [18, 18], \"yaxis\": \"y2\"}, {\"hoverinfo\": \"none\", \"line\": {\"color\": \"white\", \"width\": 2.5}, \"mode\": \"lines\", \"showlegend\": false, \"type\": \"scatter\", \"x\": [102, 102], \"xaxis\": \"x2\", \"y\": [18, 62], \"yaxis\": \"y2\"}, {\"hoverinfo\": \"none\", \"line\": {\"color\": \"white\", \"width\": 2.5}, \"mode\": \"lines\", \"showlegend\": false, \"type\": \"scatter\", \"x\": [102, 120], \"xaxis\": \"x2\", \"y\": [62, 62], \"yaxis\": \"y2\"}, {\"hoverinfo\": \"none\", \"line\": {\"color\": \"white\", \"width\": 2.5}, \"mode\": \"lines\", \"showlegend\": false, \"type\": \"scatter\", \"x\": [120, 114], \"xaxis\": \"x2\", \"y\": [30, 30], \"yaxis\": \"y2\"}, {\"hoverinfo\": \"none\", \"line\": {\"color\": \"white\", \"width\": 2.5}, \"mode\": \"lines\", \"showlegend\": false, \"type\": \"scatter\", \"x\": [114, 114], \"xaxis\": \"x2\", \"y\": [30, 50], \"yaxis\": \"y2\"}, {\"hoverinfo\": \"none\", \"line\": {\"color\": \"white\", \"width\": 2.5}, \"mode\": \"lines\", \"showlegend\": false, \"type\": \"scatter\", \"x\": [114, 120], \"xaxis\": \"x2\", \"y\": [50, 50], \"yaxis\": \"y2\"}, {\"hoverinfo\": \"none\", \"line\": {\"color\": \"white\", \"width\": 12.5}, \"mode\": \"lines\", \"showlegend\": false, \"type\": \"scatter\", \"x\": [0, 0], \"xaxis\": \"x2\", \"y\": [36, 44], \"yaxis\": \"y2\"}, {\"hoverinfo\": \"none\", \"line\": {\"color\": \"white\", \"width\": 12.5}, \"mode\": \"lines\", \"showlegend\": false, \"type\": \"scatter\", \"x\": [120, 120], \"xaxis\": \"x2\", \"y\": [36, 44], \"yaxis\": \"y2\"}, {\"hoverinfo\": \"none\", \"line\": {\"color\": \"white\", \"width\": 2.5}, \"mode\": \"lines\", \"showlegend\": false, \"type\": \"scatter\", \"x\": [0, 120], \"xaxis\": \"x3\", \"y\": [0, 0], \"yaxis\": \"y3\"}, {\"hoverinfo\": \"none\", \"line\": {\"color\": \"white\", \"width\": 2.5}, \"mode\": \"lines\", \"showlegend\": false, \"type\": \"scatter\", \"x\": [120, 120], \"xaxis\": \"x3\", \"y\": [0, 80], \"yaxis\": \"y3\"}, {\"hoverinfo\": \"none\", \"line\": {\"color\": \"white\", \"width\": 2.5}, \"mode\": \"lines\", \"showlegend\": false, \"type\": \"scatter\", \"x\": [120, 0], \"xaxis\": \"x3\", \"y\": [80, 80], \"yaxis\": \"y3\"}, {\"hoverinfo\": \"none\", \"line\": {\"color\": \"white\", \"width\": 2.5}, \"mode\": \"lines\", \"showlegend\": false, \"type\": \"scatter\", \"x\": [0, 0], \"xaxis\": \"x3\", \"y\": [80, 0], \"yaxis\": \"y3\"}, {\"hoverinfo\": \"none\", \"line\": {\"color\": \"white\", \"width\": 2.5}, \"mode\": \"lines\", \"showlegend\": false, \"type\": \"scatter\", \"x\": [60, 60], \"xaxis\": \"x3\", \"y\": [0, 80], \"yaxis\": \"y3\"}, {\"hoverinfo\": \"none\", \"line\": {\"color\": \"white\", \"width\": 2.5}, \"mode\": \"lines\", \"showlegend\": false, \"type\": \"scatter\", \"x\": [0, 18], \"xaxis\": \"x3\", \"y\": [18, 18], \"yaxis\": \"y3\"}, {\"hoverinfo\": \"none\", \"line\": {\"color\": \"white\", \"width\": 2.5}, \"mode\": \"lines\", \"showlegend\": false, \"type\": \"scatter\", \"x\": [18, 18], \"xaxis\": \"x3\", \"y\": [18, 62], \"yaxis\": \"y3\"}, {\"hoverinfo\": \"none\", \"line\": {\"color\": \"white\", \"width\": 2.5}, \"mode\": \"lines\", \"showlegend\": false, \"type\": \"scatter\", \"x\": [18, 0], \"xaxis\": \"x3\", \"y\": [62, 62], \"yaxis\": \"y3\"}, {\"hoverinfo\": \"none\", \"line\": {\"color\": \"white\", \"width\": 2.5}, \"mode\": \"lines\", \"showlegend\": false, \"type\": \"scatter\", \"x\": [0, 6], \"xaxis\": \"x3\", \"y\": [30, 30], \"yaxis\": \"y3\"}, {\"hoverinfo\": \"none\", \"line\": {\"color\": \"white\", \"width\": 2.5}, \"mode\": \"lines\", \"showlegend\": false, \"type\": \"scatter\", \"x\": [6, 6], \"xaxis\": \"x3\", \"y\": [30, 50], \"yaxis\": \"y3\"}, {\"hoverinfo\": \"none\", \"line\": {\"color\": \"white\", \"width\": 2.5}, \"mode\": \"lines\", \"showlegend\": false, \"type\": \"scatter\", \"x\": [6, 0], \"xaxis\": \"x3\", \"y\": [50, 50], \"yaxis\": \"y3\"}, {\"hoverinfo\": \"none\", \"line\": {\"color\": \"white\", \"width\": 2.5}, \"mode\": \"lines\", \"showlegend\": false, \"type\": \"scatter\", \"x\": [120, 102], \"xaxis\": \"x3\", \"y\": [18, 18], \"yaxis\": \"y3\"}, {\"hoverinfo\": \"none\", \"line\": {\"color\": \"white\", \"width\": 2.5}, \"mode\": \"lines\", \"showlegend\": false, \"type\": \"scatter\", \"x\": [102, 102], \"xaxis\": \"x3\", \"y\": [18, 62], \"yaxis\": \"y3\"}, {\"hoverinfo\": \"none\", \"line\": {\"color\": \"white\", \"width\": 2.5}, \"mode\": \"lines\", \"showlegend\": false, \"type\": \"scatter\", \"x\": [102, 120], \"xaxis\": \"x3\", \"y\": [62, 62], \"yaxis\": \"y3\"}, {\"hoverinfo\": \"none\", \"line\": {\"color\": \"white\", \"width\": 2.5}, \"mode\": \"lines\", \"showlegend\": false, \"type\": \"scatter\", \"x\": [120, 114], \"xaxis\": \"x3\", \"y\": [30, 30], \"yaxis\": \"y3\"}, {\"hoverinfo\": \"none\", \"line\": {\"color\": \"white\", \"width\": 2.5}, \"mode\": \"lines\", \"showlegend\": false, \"type\": \"scatter\", \"x\": [114, 114], \"xaxis\": \"x3\", \"y\": [30, 50], \"yaxis\": \"y3\"}, {\"hoverinfo\": \"none\", \"line\": {\"color\": \"white\", \"width\": 2.5}, \"mode\": \"lines\", \"showlegend\": false, \"type\": \"scatter\", \"x\": [114, 120], \"xaxis\": \"x3\", \"y\": [50, 50], \"yaxis\": \"y3\"}, {\"hoverinfo\": \"none\", \"line\": {\"color\": \"white\", \"width\": 12.5}, \"mode\": \"lines\", \"showlegend\": false, \"type\": \"scatter\", \"x\": [0, 0], \"xaxis\": \"x3\", \"y\": [36, 44], \"yaxis\": \"y3\"}, {\"hoverinfo\": \"none\", \"line\": {\"color\": \"white\", \"width\": 12.5}, \"mode\": \"lines\", \"showlegend\": false, \"type\": \"scatter\", \"x\": [120, 120], \"xaxis\": \"x3\", \"y\": [36, 44], \"yaxis\": \"y3\"}, {\"hoverinfo\": \"none\", \"line\": {\"color\": \"white\", \"width\": 2.5}, \"mode\": \"lines\", \"showlegend\": false, \"type\": \"scatter\", \"x\": [0, 120], \"xaxis\": \"x4\", \"y\": [0, 0], \"yaxis\": \"y4\"}, {\"hoverinfo\": \"none\", \"line\": {\"color\": \"white\", \"width\": 2.5}, \"mode\": \"lines\", \"showlegend\": false, \"type\": \"scatter\", \"x\": [120, 120], \"xaxis\": \"x4\", \"y\": [0, 80], \"yaxis\": \"y4\"}, {\"hoverinfo\": \"none\", \"line\": {\"color\": \"white\", \"width\": 2.5}, \"mode\": \"lines\", \"showlegend\": false, \"type\": \"scatter\", \"x\": [120, 0], \"xaxis\": \"x4\", \"y\": [80, 80], \"yaxis\": \"y4\"}, {\"hoverinfo\": \"none\", \"line\": {\"color\": \"white\", \"width\": 2.5}, \"mode\": \"lines\", \"showlegend\": false, \"type\": \"scatter\", \"x\": [0, 0], \"xaxis\": \"x4\", \"y\": [80, 0], \"yaxis\": \"y4\"}, {\"hoverinfo\": \"none\", \"line\": {\"color\": \"white\", \"width\": 2.5}, \"mode\": \"lines\", \"showlegend\": false, \"type\": \"scatter\", \"x\": [60, 60], \"xaxis\": \"x4\", \"y\": [0, 80], \"yaxis\": \"y4\"}, {\"hoverinfo\": \"none\", \"line\": {\"color\": \"white\", \"width\": 2.5}, \"mode\": \"lines\", \"showlegend\": false, \"type\": \"scatter\", \"x\": [0, 18], \"xaxis\": \"x4\", \"y\": [18, 18], \"yaxis\": \"y4\"}, {\"hoverinfo\": \"none\", \"line\": {\"color\": \"white\", \"width\": 2.5}, \"mode\": \"lines\", \"showlegend\": false, \"type\": \"scatter\", \"x\": [18, 18], \"xaxis\": \"x4\", \"y\": [18, 62], \"yaxis\": \"y4\"}, {\"hoverinfo\": \"none\", \"line\": {\"color\": \"white\", \"width\": 2.5}, \"mode\": \"lines\", \"showlegend\": false, \"type\": \"scatter\", \"x\": [18, 0], \"xaxis\": \"x4\", \"y\": [62, 62], \"yaxis\": \"y4\"}, {\"hoverinfo\": \"none\", \"line\": {\"color\": \"white\", \"width\": 2.5}, \"mode\": \"lines\", \"showlegend\": false, \"type\": \"scatter\", \"x\": [0, 6], \"xaxis\": \"x4\", \"y\": [30, 30], \"yaxis\": \"y4\"}, {\"hoverinfo\": \"none\", \"line\": {\"color\": \"white\", \"width\": 2.5}, \"mode\": \"lines\", \"showlegend\": false, \"type\": \"scatter\", \"x\": [6, 6], \"xaxis\": \"x4\", \"y\": [30, 50], \"yaxis\": \"y4\"}, {\"hoverinfo\": \"none\", \"line\": {\"color\": \"white\", \"width\": 2.5}, \"mode\": \"lines\", \"showlegend\": false, \"type\": \"scatter\", \"x\": [6, 0], \"xaxis\": \"x4\", \"y\": [50, 50], \"yaxis\": \"y4\"}, {\"hoverinfo\": \"none\", \"line\": {\"color\": \"white\", \"width\": 2.5}, \"mode\": \"lines\", \"showlegend\": false, \"type\": \"scatter\", \"x\": [120, 102], \"xaxis\": \"x4\", \"y\": [18, 18], \"yaxis\": \"y4\"}, {\"hoverinfo\": \"none\", \"line\": {\"color\": \"white\", \"width\": 2.5}, \"mode\": \"lines\", \"showlegend\": false, \"type\": \"scatter\", \"x\": [102, 102], \"xaxis\": \"x4\", \"y\": [18, 62], \"yaxis\": \"y4\"}, {\"hoverinfo\": \"none\", \"line\": {\"color\": \"white\", \"width\": 2.5}, \"mode\": \"lines\", \"showlegend\": false, \"type\": \"scatter\", \"x\": [102, 120], \"xaxis\": \"x4\", \"y\": [62, 62], \"yaxis\": \"y4\"}, {\"hoverinfo\": \"none\", \"line\": {\"color\": \"white\", \"width\": 2.5}, \"mode\": \"lines\", \"showlegend\": false, \"type\": \"scatter\", \"x\": [120, 114], \"xaxis\": \"x4\", \"y\": [30, 30], \"yaxis\": \"y4\"}, {\"hoverinfo\": \"none\", \"line\": {\"color\": \"white\", \"width\": 2.5}, \"mode\": \"lines\", \"showlegend\": false, \"type\": \"scatter\", \"x\": [114, 114], \"xaxis\": \"x4\", \"y\": [30, 50], \"yaxis\": \"y4\"}, {\"hoverinfo\": \"none\", \"line\": {\"color\": \"white\", \"width\": 2.5}, \"mode\": \"lines\", \"showlegend\": false, \"type\": \"scatter\", \"x\": [114, 120], \"xaxis\": \"x4\", \"y\": [50, 50], \"yaxis\": \"y4\"}, {\"hoverinfo\": \"none\", \"line\": {\"color\": \"white\", \"width\": 12.5}, \"mode\": \"lines\", \"showlegend\": false, \"type\": \"scatter\", \"x\": [0, 0], \"xaxis\": \"x4\", \"y\": [36, 44], \"yaxis\": \"y4\"}, {\"hoverinfo\": \"none\", \"line\": {\"color\": \"white\", \"width\": 12.5}, \"mode\": \"lines\", \"showlegend\": false, \"type\": \"scatter\", \"x\": [120, 120], \"xaxis\": \"x4\", \"y\": [36, 44], \"yaxis\": \"y4\"}, {\"marker\": {\"color\": [\"blue\", \"blue\", \"blue\", \"blue\", \"blue\", \"blue\", \"blue\", \"blue\", \"blue\", \"blue\"]}, \"mode\": \"markers\", \"type\": \"scatter\", \"x\": [108.0, 102.0, 108.0, 91.2, 105.6, 96.0, 85.2, 86.4, 87.6, 91.2], \"xaxis\": \"x\", \"y\": [28.0, 40.0, 51.2, 56.8, 49.6, 27.199999999999996, 55.199999999999996, 61.6, 25.599999999999994, 27.199999999999996], \"yaxis\": \"y\"}, {\"marker\": {\"color\": [\"blue\", \"blue\", \"blue\", \"blue\", \"blue\"]}, \"mode\": \"markers\", \"type\": \"scatter\", \"x\": [96.0, 109.2, 108.0, 109.2, 112.8], \"xaxis\": \"x2\", \"y\": [28.799999999999997, 34.400000000000006, 34.400000000000006, 35.199999999999996, 50.4], \"yaxis\": \"y2\"}, {\"marker\": {\"color\": [\"blue\", \"blue\", \"blue\"]}, \"mode\": \"markers\", \"type\": \"scatter\", \"x\": [103.2, 114.0, 103.2], \"xaxis\": \"x3\", \"y\": [47.2, 56.0, 53.599999999999994], \"yaxis\": \"y3\"}, {\"marker\": {\"color\": [\"blue\", \"blue\", \"blue\", \"blue\", \"red\", \"blue\", \"blue\", \"blue\"]}, \"mode\": \"markers\", \"type\": \"scatter\", \"x\": [104.4, 111.6, 106.8, 94.8, 109.2, 87.6, 100.8, 97.2], \"xaxis\": \"x4\", \"y\": [52.8, 56.8, 52.8, 43.2, 32.800000000000004, 40.8, 45.60000000000001, 43.2], \"yaxis\": \"y4\"}],\n",
       "                        {\"annotations\": [{\"font\": {\"color\": \"white\", \"size\": 15}, \"showarrow\": false, \"text\": \"1H Germany\", \"x\": 0.2375, \"xanchor\": \"center\", \"xref\": \"paper\", \"y\": 1.0, \"yanchor\": \"bottom\", \"yref\": \"paper\"}, {\"font\": {\"color\": \"white\", \"size\": 15}, \"showarrow\": false, \"text\": \"2H Germany\", \"x\": 0.7625, \"xanchor\": \"center\", \"xref\": \"paper\", \"y\": 1.0, \"yanchor\": \"bottom\", \"yref\": \"paper\"}, {\"font\": {\"color\": \"white\", \"size\": 15}, \"showarrow\": false, \"text\": \"1H France\", \"x\": 0.2375, \"xanchor\": \"center\", \"xref\": \"paper\", \"y\": 0.475, \"yanchor\": \"bottom\", \"yref\": \"paper\"}, {\"font\": {\"color\": \"white\", \"size\": 15}, \"showarrow\": false, \"text\": \"2H France\", \"x\": 0.7625, \"xanchor\": \"center\", \"xref\": \"paper\", \"y\": 0.475, \"yanchor\": \"bottom\", \"yref\": \"paper\"}], \"autosize\": true, \"height\": 800, \"margin\": {\"b\": 10, \"l\": 10, \"r\": 10, \"t\": 20}, \"paper_bgcolor\": \"rgb(20,29,38)\", \"plot_bgcolor\": \"rgb(20,29,38)\", \"shapes\": [{\"line\": {\"color\": \"white\", \"width\": 2.5}, \"type\": \"circle\", \"x0\": 48, \"x1\": 72, \"xref\": \"x\", \"y0\": 28, \"y1\": 52, \"yref\": \"y\"}, {\"line\": {\"color\": \"white\", \"width\": 2.5}, \"type\": \"circle\", \"x0\": 48, \"x1\": 72, \"xref\": \"x2\", \"y0\": 28, \"y1\": 52, \"yref\": \"y2\"}, {\"line\": {\"color\": \"white\", \"width\": 2.5}, \"type\": \"circle\", \"x0\": 48, \"x1\": 72, \"xref\": \"x3\", \"y0\": 28, \"y1\": 52, \"yref\": \"y3\"}, {\"line\": {\"color\": \"white\", \"width\": 2.5}, \"type\": \"circle\", \"x0\": 48, \"x1\": 72, \"xref\": \"x4\", \"y0\": 28, \"y1\": 52, \"yref\": \"y4\"}], \"template\": {\"data\": {\"bar\": [{\"error_x\": {\"color\": \"#2a3f5f\"}, \"error_y\": {\"color\": \"#2a3f5f\"}, \"marker\": {\"line\": {\"color\": \"#E5ECF6\", \"width\": 0.5}}, \"type\": \"bar\"}], \"barpolar\": [{\"marker\": {\"line\": {\"color\": \"#E5ECF6\", \"width\": 0.5}}, \"type\": \"barpolar\"}], \"carpet\": [{\"aaxis\": {\"endlinecolor\": \"#2a3f5f\", \"gridcolor\": \"white\", \"linecolor\": \"white\", \"minorgridcolor\": \"white\", \"startlinecolor\": \"#2a3f5f\"}, \"baxis\": {\"endlinecolor\": \"#2a3f5f\", \"gridcolor\": \"white\", \"linecolor\": \"white\", \"minorgridcolor\": \"white\", \"startlinecolor\": \"#2a3f5f\"}, \"type\": \"carpet\"}], \"choropleth\": [{\"colorbar\": {\"outlinewidth\": 0, \"ticks\": \"\"}, \"type\": \"choropleth\"}], \"contour\": [{\"colorbar\": {\"outlinewidth\": 0, \"ticks\": \"\"}, \"colorscale\": [[0.0, \"#0d0887\"], [0.1111111111111111, \"#46039f\"], [0.2222222222222222, \"#7201a8\"], [0.3333333333333333, \"#9c179e\"], [0.4444444444444444, \"#bd3786\"], [0.5555555555555556, \"#d8576b\"], [0.6666666666666666, \"#ed7953\"], [0.7777777777777778, \"#fb9f3a\"], [0.8888888888888888, \"#fdca26\"], [1.0, \"#f0f921\"]], \"type\": \"contour\"}], \"contourcarpet\": [{\"colorbar\": {\"outlinewidth\": 0, \"ticks\": \"\"}, \"type\": \"contourcarpet\"}], \"heatmap\": [{\"colorbar\": {\"outlinewidth\": 0, \"ticks\": \"\"}, \"colorscale\": [[0.0, \"#0d0887\"], [0.1111111111111111, \"#46039f\"], [0.2222222222222222, \"#7201a8\"], [0.3333333333333333, \"#9c179e\"], [0.4444444444444444, \"#bd3786\"], [0.5555555555555556, \"#d8576b\"], [0.6666666666666666, \"#ed7953\"], [0.7777777777777778, \"#fb9f3a\"], [0.8888888888888888, \"#fdca26\"], [1.0, \"#f0f921\"]], \"type\": \"heatmap\"}], \"heatmapgl\": [{\"colorbar\": {\"outlinewidth\": 0, \"ticks\": \"\"}, \"colorscale\": [[0.0, \"#0d0887\"], [0.1111111111111111, \"#46039f\"], [0.2222222222222222, \"#7201a8\"], [0.3333333333333333, \"#9c179e\"], [0.4444444444444444, \"#bd3786\"], [0.5555555555555556, \"#d8576b\"], [0.6666666666666666, \"#ed7953\"], [0.7777777777777778, \"#fb9f3a\"], [0.8888888888888888, \"#fdca26\"], [1.0, \"#f0f921\"]], \"type\": \"heatmapgl\"}], \"histogram\": [{\"marker\": {\"colorbar\": {\"outlinewidth\": 0, \"ticks\": \"\"}}, \"type\": \"histogram\"}], \"histogram2d\": [{\"colorbar\": {\"outlinewidth\": 0, \"ticks\": \"\"}, \"colorscale\": [[0.0, \"#0d0887\"], [0.1111111111111111, \"#46039f\"], [0.2222222222222222, \"#7201a8\"], [0.3333333333333333, \"#9c179e\"], [0.4444444444444444, \"#bd3786\"], [0.5555555555555556, \"#d8576b\"], [0.6666666666666666, \"#ed7953\"], [0.7777777777777778, \"#fb9f3a\"], [0.8888888888888888, \"#fdca26\"], [1.0, \"#f0f921\"]], \"type\": \"histogram2d\"}], \"histogram2dcontour\": [{\"colorbar\": {\"outlinewidth\": 0, \"ticks\": \"\"}, \"colorscale\": [[0.0, \"#0d0887\"], [0.1111111111111111, \"#46039f\"], [0.2222222222222222, \"#7201a8\"], [0.3333333333333333, \"#9c179e\"], [0.4444444444444444, \"#bd3786\"], [0.5555555555555556, \"#d8576b\"], [0.6666666666666666, \"#ed7953\"], [0.7777777777777778, \"#fb9f3a\"], [0.8888888888888888, \"#fdca26\"], [1.0, \"#f0f921\"]], \"type\": \"histogram2dcontour\"}], \"mesh3d\": [{\"colorbar\": {\"outlinewidth\": 0, \"ticks\": \"\"}, \"type\": \"mesh3d\"}], \"parcoords\": [{\"line\": {\"colorbar\": {\"outlinewidth\": 0, \"ticks\": \"\"}}, \"type\": \"parcoords\"}], \"scatter\": [{\"marker\": {\"colorbar\": {\"outlinewidth\": 0, \"ticks\": \"\"}}, \"type\": \"scatter\"}], \"scatter3d\": [{\"line\": {\"colorbar\": {\"outlinewidth\": 0, \"ticks\": \"\"}}, \"marker\": {\"colorbar\": {\"outlinewidth\": 0, \"ticks\": \"\"}}, \"type\": \"scatter3d\"}], \"scattercarpet\": [{\"marker\": {\"colorbar\": {\"outlinewidth\": 0, \"ticks\": \"\"}}, \"type\": \"scattercarpet\"}], \"scattergeo\": [{\"marker\": {\"colorbar\": {\"outlinewidth\": 0, \"ticks\": \"\"}}, \"type\": \"scattergeo\"}], \"scattergl\": [{\"marker\": {\"colorbar\": {\"outlinewidth\": 0, \"ticks\": \"\"}}, \"type\": \"scattergl\"}], \"scattermapbox\": [{\"marker\": {\"colorbar\": {\"outlinewidth\": 0, \"ticks\": \"\"}}, \"type\": \"scattermapbox\"}], \"scatterpolar\": [{\"marker\": {\"colorbar\": {\"outlinewidth\": 0, \"ticks\": \"\"}}, \"type\": \"scatterpolar\"}], \"scatterpolargl\": [{\"marker\": {\"colorbar\": {\"outlinewidth\": 0, \"ticks\": \"\"}}, \"type\": \"scatterpolargl\"}], \"scatterternary\": [{\"marker\": {\"colorbar\": {\"outlinewidth\": 0, \"ticks\": \"\"}}, \"type\": \"scatterternary\"}], \"surface\": [{\"colorbar\": {\"outlinewidth\": 0, \"ticks\": \"\"}, \"colorscale\": [[0.0, \"#0d0887\"], [0.1111111111111111, \"#46039f\"], [0.2222222222222222, \"#7201a8\"], [0.3333333333333333, \"#9c179e\"], [0.4444444444444444, \"#bd3786\"], [0.5555555555555556, \"#d8576b\"], [0.6666666666666666, \"#ed7953\"], [0.7777777777777778, \"#fb9f3a\"], [0.8888888888888888, \"#fdca26\"], [1.0, \"#f0f921\"]], \"type\": \"surface\"}], \"table\": [{\"cells\": {\"fill\": {\"color\": \"#EBF0F8\"}, \"line\": {\"color\": \"white\"}}, \"header\": {\"fill\": {\"color\": \"#C8D4E3\"}, \"line\": {\"color\": \"white\"}}, \"type\": \"table\"}]}, \"layout\": {\"annotationdefaults\": {\"arrowcolor\": \"#2a3f5f\", \"arrowhead\": 0, \"arrowwidth\": 1}, \"colorscale\": {\"diverging\": [[0, \"#8e0152\"], [0.1, \"#c51b7d\"], [0.2, \"#de77ae\"], [0.3, \"#f1b6da\"], [0.4, \"#fde0ef\"], [0.5, \"#f7f7f7\"], [0.6, \"#e6f5d0\"], [0.7, \"#b8e186\"], [0.8, \"#7fbc41\"], [0.9, \"#4d9221\"], [1, \"#276419\"]], \"sequential\": [[0.0, \"#0d0887\"], [0.1111111111111111, \"#46039f\"], [0.2222222222222222, \"#7201a8\"], [0.3333333333333333, \"#9c179e\"], [0.4444444444444444, \"#bd3786\"], [0.5555555555555556, \"#d8576b\"], [0.6666666666666666, \"#ed7953\"], [0.7777777777777778, \"#fb9f3a\"], [0.8888888888888888, \"#fdca26\"], [1.0, \"#f0f921\"]], \"sequentialminus\": [[0.0, \"#0d0887\"], [0.1111111111111111, \"#46039f\"], [0.2222222222222222, \"#7201a8\"], [0.3333333333333333, \"#9c179e\"], [0.4444444444444444, \"#bd3786\"], [0.5555555555555556, \"#d8576b\"], [0.6666666666666666, \"#ed7953\"], [0.7777777777777778, \"#fb9f3a\"], [0.8888888888888888, \"#fdca26\"], [1.0, \"#f0f921\"]]}, \"colorway\": [\"#636efa\", \"#EF553B\", \"#00cc96\", \"#ab63fa\", \"#FFA15A\", \"#19d3f3\", \"#FF6692\", \"#B6E880\", \"#FF97FF\", \"#FECB52\"], \"font\": {\"color\": \"#2a3f5f\"}, \"geo\": {\"bgcolor\": \"white\", \"lakecolor\": \"white\", \"landcolor\": \"#E5ECF6\", \"showlakes\": true, \"showland\": true, \"subunitcolor\": \"white\"}, \"hoverlabel\": {\"align\": \"left\"}, \"hovermode\": \"closest\", \"mapbox\": {\"style\": \"light\"}, \"paper_bgcolor\": \"white\", \"plot_bgcolor\": \"#E5ECF6\", \"polar\": {\"angularaxis\": {\"gridcolor\": \"white\", \"linecolor\": \"white\", \"ticks\": \"\"}, \"bgcolor\": \"#E5ECF6\", \"radialaxis\": {\"gridcolor\": \"white\", \"linecolor\": \"white\", \"ticks\": \"\"}}, \"scene\": {\"xaxis\": {\"backgroundcolor\": \"#E5ECF6\", \"gridcolor\": \"white\", \"gridwidth\": 2, \"linecolor\": \"white\", \"showbackground\": true, \"ticks\": \"\", \"zerolinecolor\": \"white\"}, \"yaxis\": {\"backgroundcolor\": \"#E5ECF6\", \"gridcolor\": \"white\", \"gridwidth\": 2, \"linecolor\": \"white\", \"showbackground\": true, \"ticks\": \"\", \"zerolinecolor\": \"white\"}, \"zaxis\": {\"backgroundcolor\": \"#E5ECF6\", \"gridcolor\": \"white\", \"gridwidth\": 2, \"linecolor\": \"white\", \"showbackground\": true, \"ticks\": \"\", \"zerolinecolor\": \"white\"}}, \"shapedefaults\": {\"line\": {\"color\": \"#2a3f5f\"}}, \"ternary\": {\"aaxis\": {\"gridcolor\": \"white\", \"linecolor\": \"white\", \"ticks\": \"\"}, \"baxis\": {\"gridcolor\": \"white\", \"linecolor\": \"white\", \"ticks\": \"\"}, \"bgcolor\": \"#E5ECF6\", \"caxis\": {\"gridcolor\": \"white\", \"linecolor\": \"white\", \"ticks\": \"\"}}, \"title\": {\"x\": 0.05}, \"xaxis\": {\"automargin\": true, \"gridcolor\": \"white\", \"linecolor\": \"white\", \"ticks\": \"\", \"zerolinecolor\": \"white\", \"zerolinewidth\": 2}, \"yaxis\": {\"automargin\": true, \"gridcolor\": \"white\", \"linecolor\": \"white\", \"ticks\": \"\", \"zerolinecolor\": \"white\", \"zerolinewidth\": 2}}}, \"width\": 1200, \"xaxis\": {\"anchor\": \"y\", \"domain\": [0.0, 0.475], \"range\": [-1, 121], \"visible\": false}, \"xaxis2\": {\"anchor\": \"y2\", \"domain\": [0.525, 1.0], \"range\": [-1, 121], \"visible\": false}, \"xaxis3\": {\"anchor\": \"y3\", \"domain\": [0.0, 0.475], \"range\": [-1, 121], \"visible\": false}, \"xaxis4\": {\"anchor\": \"y4\", \"domain\": [0.525, 1.0], \"range\": [-1, 121], \"visible\": false}, \"yaxis\": {\"anchor\": \"x\", \"domain\": [0.525, 1.0], \"range\": [-1, 81], \"visible\": false}, \"yaxis2\": {\"anchor\": \"x2\", \"domain\": [0.525, 1.0], \"range\": [-1, 81], \"visible\": false}, \"yaxis3\": {\"anchor\": \"x3\", \"domain\": [0.0, 0.475], \"range\": [-1, 81], \"visible\": false}, \"yaxis4\": {\"anchor\": \"x4\", \"domain\": [0.0, 0.475], \"range\": [-1, 81], \"visible\": false}},\n",
       "                        {\"responsive\": true}\n",
       "                    ).then(function(){\n",
       "                            \n",
       "var gd = document.getElementById('d4d1bb43-362f-43e8-9eb7-be436fb02c33');\n",
       "var x = new MutationObserver(function (mutations, observer) {{\n",
       "        var display = window.getComputedStyle(gd).display;\n",
       "        if (!display || display === 'none') {{\n",
       "            console.log([gd, 'removed!']);\n",
       "            Plotly.purge(gd);\n",
       "            observer.disconnect();\n",
       "        }}\n",
       "}});\n",
       "\n",
       "// Listen for the removal of the full notebook cells\n",
       "var notebookContainer = gd.closest('#notebook-container');\n",
       "if (notebookContainer) {{\n",
       "    x.observe(notebookContainer, {childList: true});\n",
       "}}\n",
       "\n",
       "// Listen for the clearing of the current output cell\n",
       "var outputEl = gd.closest('.output');\n",
       "if (outputEl) {{\n",
       "    x.observe(outputEl, {childList: true});\n",
       "}}\n",
       "\n",
       "                        })\n",
       "                };\n",
       "                });\n",
       "            </script>\n",
       "        </div>"
      ]
     },
     "metadata": {},
     "output_type": "display_data"
    }
   ],
   "source": [
    "fig.show()"
   ]
  }
 ],
 "metadata": {
  "kernelspec": {
   "display_name": "Python 3",
   "language": "python",
   "name": "python3"
  },
  "language_info": {
   "codemirror_mode": {
    "name": "ipython",
    "version": 3
   },
   "file_extension": ".py",
   "mimetype": "text/x-python",
   "name": "python",
   "nbconvert_exporter": "python",
   "pygments_lexer": "ipython3",
   "version": "3.6.9"
  }
 },
 "nbformat": 4,
 "nbformat_minor": 4
}
