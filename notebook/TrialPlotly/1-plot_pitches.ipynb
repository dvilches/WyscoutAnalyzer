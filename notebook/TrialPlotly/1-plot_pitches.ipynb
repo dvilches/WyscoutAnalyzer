{
 "cells": [
  {
   "cell_type": "markdown",
   "metadata": {},
   "source": [
    "table of contents\n",
    "1. 準備\n",
    "2. ピッチを描く\n",
    "3. 複数枚のピッチを描く"
   ]
  },
  {
   "cell_type": "markdown",
   "metadata": {},
   "source": [
    "# 準備"
   ]
  },
  {
   "cell_type": "code",
   "execution_count": 1,
   "metadata": {},
   "outputs": [
    {
     "data": {
      "text/html": [
       "        <script type=\"text/javascript\">\n",
       "        window.PlotlyConfig = {MathJaxConfig: 'local'};\n",
       "        if (window.MathJax) {MathJax.Hub.Config({SVG: {font: \"STIX-Web\"}});}\n",
       "        if (typeof require !== 'undefined') {\n",
       "        require.undef(\"plotly\");\n",
       "        requirejs.config({\n",
       "            paths: {\n",
       "                'plotly': ['https://cdn.plot.ly/plotly-latest.min']\n",
       "            }\n",
       "        });\n",
       "        require(['plotly'], function(Plotly) {\n",
       "            window._Plotly = Plotly;\n",
       "        });\n",
       "        }\n",
       "        </script>\n",
       "        "
      ]
     },
     "metadata": {},
     "output_type": "display_data"
    }
   ],
   "source": [
    "import os\n",
    "\n",
    "import numpy as np\n",
    "import pandas as pd\n",
    "import matplotlib.pyplot as plt\n",
    "%matplotlib inline\n",
    "\n",
    "import plotly.graph_objs as go\n",
    "import plotly.express as px\n",
    "from plotly.offline import init_notebook_mode, plot, iplot\n",
    "\n",
    "init_notebook_mode(connected=True)"
   ]
  },
  {
   "cell_type": "markdown",
   "metadata": {},
   "source": [
    "# ピッチを描画する"
   ]
  },
  {
   "cell_type": "code",
   "execution_count": 2,
   "metadata": {},
   "outputs": [
    {
     "data": {
      "application/vnd.plotly.v1+json": {
       "config": {
        "plotlyServerURL": "https://plot.ly"
       },
       "data": [
        {
         "hoverinfo": "none",
         "line": {
          "color": "white",
          "width": 7
         },
         "mode": "lines",
         "showlegend": false,
         "type": "scatter",
         "x": [
          0,
          120
         ],
         "y": [
          0,
          0
         ]
        },
        {
         "hoverinfo": "none",
         "line": {
          "color": "white",
          "width": 7
         },
         "mode": "lines",
         "showlegend": false,
         "type": "scatter",
         "x": [
          120,
          120
         ],
         "y": [
          0,
          80
         ]
        },
        {
         "hoverinfo": "none",
         "line": {
          "color": "white",
          "width": 7
         },
         "mode": "lines",
         "showlegend": false,
         "type": "scatter",
         "x": [
          120,
          0
         ],
         "y": [
          80,
          80
         ]
        },
        {
         "hoverinfo": "none",
         "line": {
          "color": "white",
          "width": 7
         },
         "mode": "lines",
         "showlegend": false,
         "type": "scatter",
         "x": [
          0,
          0
         ],
         "y": [
          80,
          0
         ]
        },
        {
         "hoverinfo": "none",
         "line": {
          "color": "white",
          "width": 7
         },
         "mode": "lines",
         "showlegend": false,
         "type": "scatter",
         "x": [
          60,
          60
         ],
         "y": [
          0,
          80
         ]
        },
        {
         "hoverinfo": "none",
         "line": {
          "color": "white",
          "width": 7
         },
         "mode": "lines",
         "showlegend": false,
         "type": "scatter",
         "x": [
          0,
          18
         ],
         "y": [
          18,
          18
         ]
        },
        {
         "hoverinfo": "none",
         "line": {
          "color": "white",
          "width": 7
         },
         "mode": "lines",
         "showlegend": false,
         "type": "scatter",
         "x": [
          18,
          18
         ],
         "y": [
          18,
          62
         ]
        },
        {
         "hoverinfo": "none",
         "line": {
          "color": "white",
          "width": 7
         },
         "mode": "lines",
         "showlegend": false,
         "type": "scatter",
         "x": [
          18,
          0
         ],
         "y": [
          62,
          62
         ]
        },
        {
         "hoverinfo": "none",
         "line": {
          "color": "white",
          "width": 7
         },
         "mode": "lines",
         "showlegend": false,
         "type": "scatter",
         "x": [
          0,
          6
         ],
         "y": [
          30,
          30
         ]
        },
        {
         "hoverinfo": "none",
         "line": {
          "color": "white",
          "width": 7
         },
         "mode": "lines",
         "showlegend": false,
         "type": "scatter",
         "x": [
          6,
          6
         ],
         "y": [
          30,
          50
         ]
        },
        {
         "hoverinfo": "none",
         "line": {
          "color": "white",
          "width": 7
         },
         "mode": "lines",
         "showlegend": false,
         "type": "scatter",
         "x": [
          6,
          0
         ],
         "y": [
          50,
          50
         ]
        },
        {
         "hoverinfo": "none",
         "line": {
          "color": "white",
          "width": 7
         },
         "mode": "lines",
         "showlegend": false,
         "type": "scatter",
         "x": [
          120,
          102
         ],
         "y": [
          18,
          18
         ]
        },
        {
         "hoverinfo": "none",
         "line": {
          "color": "white",
          "width": 7
         },
         "mode": "lines",
         "showlegend": false,
         "type": "scatter",
         "x": [
          102,
          102
         ],
         "y": [
          18,
          62
         ]
        },
        {
         "hoverinfo": "none",
         "line": {
          "color": "white",
          "width": 7
         },
         "mode": "lines",
         "showlegend": false,
         "type": "scatter",
         "x": [
          102,
          120
         ],
         "y": [
          62,
          62
         ]
        },
        {
         "hoverinfo": "none",
         "line": {
          "color": "white",
          "width": 7
         },
         "mode": "lines",
         "showlegend": false,
         "type": "scatter",
         "x": [
          120,
          114
         ],
         "y": [
          30,
          30
         ]
        },
        {
         "hoverinfo": "none",
         "line": {
          "color": "white",
          "width": 7
         },
         "mode": "lines",
         "showlegend": false,
         "type": "scatter",
         "x": [
          114,
          114
         ],
         "y": [
          30,
          50
         ]
        },
        {
         "hoverinfo": "none",
         "line": {
          "color": "white",
          "width": 7
         },
         "mode": "lines",
         "showlegend": false,
         "type": "scatter",
         "x": [
          114,
          120
         ],
         "y": [
          50,
          50
         ]
        },
        {
         "hoverinfo": "none",
         "line": {
          "color": "white",
          "width": 20
         },
         "mode": "lines",
         "showlegend": false,
         "type": "scatter",
         "x": [
          0,
          0
         ],
         "y": [
          36,
          44
         ]
        },
        {
         "hoverinfo": "none",
         "line": {
          "color": "white",
          "width": 20
         },
         "mode": "lines",
         "showlegend": false,
         "type": "scatter",
         "x": [
          120,
          120
         ],
         "y": [
          36,
          44
         ]
        }
       ],
       "layout": {
        "autosize": true,
        "height": 800,
        "margin": {
         "b": 10,
         "l": 10,
         "r": 10,
         "t": 10
        },
        "paper_bgcolor": "rgb(20,29,38)",
        "plot_bgcolor": "rgb(20,29,38)",
        "shapes": [
         {
          "line": {
           "color": "white",
           "width": 7
          },
          "type": "circle",
          "x0": 48,
          "x1": 72,
          "y0": 28,
          "y1": 52
         }
        ],
        "template": {
         "data": {
          "bar": [
           {
            "error_x": {
             "color": "#2a3f5f"
            },
            "error_y": {
             "color": "#2a3f5f"
            },
            "marker": {
             "line": {
              "color": "#E5ECF6",
              "width": 0.5
             }
            },
            "type": "bar"
           }
          ],
          "barpolar": [
           {
            "marker": {
             "line": {
              "color": "#E5ECF6",
              "width": 0.5
             }
            },
            "type": "barpolar"
           }
          ],
          "carpet": [
           {
            "aaxis": {
             "endlinecolor": "#2a3f5f",
             "gridcolor": "white",
             "linecolor": "white",
             "minorgridcolor": "white",
             "startlinecolor": "#2a3f5f"
            },
            "baxis": {
             "endlinecolor": "#2a3f5f",
             "gridcolor": "white",
             "linecolor": "white",
             "minorgridcolor": "white",
             "startlinecolor": "#2a3f5f"
            },
            "type": "carpet"
           }
          ],
          "choropleth": [
           {
            "colorbar": {
             "outlinewidth": 0,
             "ticks": ""
            },
            "type": "choropleth"
           }
          ],
          "contour": [
           {
            "colorbar": {
             "outlinewidth": 0,
             "ticks": ""
            },
            "colorscale": [
             [
              0,
              "#0d0887"
             ],
             [
              0.1111111111111111,
              "#46039f"
             ],
             [
              0.2222222222222222,
              "#7201a8"
             ],
             [
              0.3333333333333333,
              "#9c179e"
             ],
             [
              0.4444444444444444,
              "#bd3786"
             ],
             [
              0.5555555555555556,
              "#d8576b"
             ],
             [
              0.6666666666666666,
              "#ed7953"
             ],
             [
              0.7777777777777778,
              "#fb9f3a"
             ],
             [
              0.8888888888888888,
              "#fdca26"
             ],
             [
              1,
              "#f0f921"
             ]
            ],
            "type": "contour"
           }
          ],
          "contourcarpet": [
           {
            "colorbar": {
             "outlinewidth": 0,
             "ticks": ""
            },
            "type": "contourcarpet"
           }
          ],
          "heatmap": [
           {
            "colorbar": {
             "outlinewidth": 0,
             "ticks": ""
            },
            "colorscale": [
             [
              0,
              "#0d0887"
             ],
             [
              0.1111111111111111,
              "#46039f"
             ],
             [
              0.2222222222222222,
              "#7201a8"
             ],
             [
              0.3333333333333333,
              "#9c179e"
             ],
             [
              0.4444444444444444,
              "#bd3786"
             ],
             [
              0.5555555555555556,
              "#d8576b"
             ],
             [
              0.6666666666666666,
              "#ed7953"
             ],
             [
              0.7777777777777778,
              "#fb9f3a"
             ],
             [
              0.8888888888888888,
              "#fdca26"
             ],
             [
              1,
              "#f0f921"
             ]
            ],
            "type": "heatmap"
           }
          ],
          "heatmapgl": [
           {
            "colorbar": {
             "outlinewidth": 0,
             "ticks": ""
            },
            "colorscale": [
             [
              0,
              "#0d0887"
             ],
             [
              0.1111111111111111,
              "#46039f"
             ],
             [
              0.2222222222222222,
              "#7201a8"
             ],
             [
              0.3333333333333333,
              "#9c179e"
             ],
             [
              0.4444444444444444,
              "#bd3786"
             ],
             [
              0.5555555555555556,
              "#d8576b"
             ],
             [
              0.6666666666666666,
              "#ed7953"
             ],
             [
              0.7777777777777778,
              "#fb9f3a"
             ],
             [
              0.8888888888888888,
              "#fdca26"
             ],
             [
              1,
              "#f0f921"
             ]
            ],
            "type": "heatmapgl"
           }
          ],
          "histogram": [
           {
            "marker": {
             "colorbar": {
              "outlinewidth": 0,
              "ticks": ""
             }
            },
            "type": "histogram"
           }
          ],
          "histogram2d": [
           {
            "colorbar": {
             "outlinewidth": 0,
             "ticks": ""
            },
            "colorscale": [
             [
              0,
              "#0d0887"
             ],
             [
              0.1111111111111111,
              "#46039f"
             ],
             [
              0.2222222222222222,
              "#7201a8"
             ],
             [
              0.3333333333333333,
              "#9c179e"
             ],
             [
              0.4444444444444444,
              "#bd3786"
             ],
             [
              0.5555555555555556,
              "#d8576b"
             ],
             [
              0.6666666666666666,
              "#ed7953"
             ],
             [
              0.7777777777777778,
              "#fb9f3a"
             ],
             [
              0.8888888888888888,
              "#fdca26"
             ],
             [
              1,
              "#f0f921"
             ]
            ],
            "type": "histogram2d"
           }
          ],
          "histogram2dcontour": [
           {
            "colorbar": {
             "outlinewidth": 0,
             "ticks": ""
            },
            "colorscale": [
             [
              0,
              "#0d0887"
             ],
             [
              0.1111111111111111,
              "#46039f"
             ],
             [
              0.2222222222222222,
              "#7201a8"
             ],
             [
              0.3333333333333333,
              "#9c179e"
             ],
             [
              0.4444444444444444,
              "#bd3786"
             ],
             [
              0.5555555555555556,
              "#d8576b"
             ],
             [
              0.6666666666666666,
              "#ed7953"
             ],
             [
              0.7777777777777778,
              "#fb9f3a"
             ],
             [
              0.8888888888888888,
              "#fdca26"
             ],
             [
              1,
              "#f0f921"
             ]
            ],
            "type": "histogram2dcontour"
           }
          ],
          "mesh3d": [
           {
            "colorbar": {
             "outlinewidth": 0,
             "ticks": ""
            },
            "type": "mesh3d"
           }
          ],
          "parcoords": [
           {
            "line": {
             "colorbar": {
              "outlinewidth": 0,
              "ticks": ""
             }
            },
            "type": "parcoords"
           }
          ],
          "scatter": [
           {
            "marker": {
             "colorbar": {
              "outlinewidth": 0,
              "ticks": ""
             }
            },
            "type": "scatter"
           }
          ],
          "scatter3d": [
           {
            "line": {
             "colorbar": {
              "outlinewidth": 0,
              "ticks": ""
             }
            },
            "marker": {
             "colorbar": {
              "outlinewidth": 0,
              "ticks": ""
             }
            },
            "type": "scatter3d"
           }
          ],
          "scattercarpet": [
           {
            "marker": {
             "colorbar": {
              "outlinewidth": 0,
              "ticks": ""
             }
            },
            "type": "scattercarpet"
           }
          ],
          "scattergeo": [
           {
            "marker": {
             "colorbar": {
              "outlinewidth": 0,
              "ticks": ""
             }
            },
            "type": "scattergeo"
           }
          ],
          "scattergl": [
           {
            "marker": {
             "colorbar": {
              "outlinewidth": 0,
              "ticks": ""
             }
            },
            "type": "scattergl"
           }
          ],
          "scattermapbox": [
           {
            "marker": {
             "colorbar": {
              "outlinewidth": 0,
              "ticks": ""
             }
            },
            "type": "scattermapbox"
           }
          ],
          "scatterpolar": [
           {
            "marker": {
             "colorbar": {
              "outlinewidth": 0,
              "ticks": ""
             }
            },
            "type": "scatterpolar"
           }
          ],
          "scatterpolargl": [
           {
            "marker": {
             "colorbar": {
              "outlinewidth": 0,
              "ticks": ""
             }
            },
            "type": "scatterpolargl"
           }
          ],
          "scatterternary": [
           {
            "marker": {
             "colorbar": {
              "outlinewidth": 0,
              "ticks": ""
             }
            },
            "type": "scatterternary"
           }
          ],
          "surface": [
           {
            "colorbar": {
             "outlinewidth": 0,
             "ticks": ""
            },
            "colorscale": [
             [
              0,
              "#0d0887"
             ],
             [
              0.1111111111111111,
              "#46039f"
             ],
             [
              0.2222222222222222,
              "#7201a8"
             ],
             [
              0.3333333333333333,
              "#9c179e"
             ],
             [
              0.4444444444444444,
              "#bd3786"
             ],
             [
              0.5555555555555556,
              "#d8576b"
             ],
             [
              0.6666666666666666,
              "#ed7953"
             ],
             [
              0.7777777777777778,
              "#fb9f3a"
             ],
             [
              0.8888888888888888,
              "#fdca26"
             ],
             [
              1,
              "#f0f921"
             ]
            ],
            "type": "surface"
           }
          ],
          "table": [
           {
            "cells": {
             "fill": {
              "color": "#EBF0F8"
             },
             "line": {
              "color": "white"
             }
            },
            "header": {
             "fill": {
              "color": "#C8D4E3"
             },
             "line": {
              "color": "white"
             }
            },
            "type": "table"
           }
          ]
         },
         "layout": {
          "annotationdefaults": {
           "arrowcolor": "#2a3f5f",
           "arrowhead": 0,
           "arrowwidth": 1
          },
          "colorscale": {
           "diverging": [
            [
             0,
             "#8e0152"
            ],
            [
             0.1,
             "#c51b7d"
            ],
            [
             0.2,
             "#de77ae"
            ],
            [
             0.3,
             "#f1b6da"
            ],
            [
             0.4,
             "#fde0ef"
            ],
            [
             0.5,
             "#f7f7f7"
            ],
            [
             0.6,
             "#e6f5d0"
            ],
            [
             0.7,
             "#b8e186"
            ],
            [
             0.8,
             "#7fbc41"
            ],
            [
             0.9,
             "#4d9221"
            ],
            [
             1,
             "#276419"
            ]
           ],
           "sequential": [
            [
             0,
             "#0d0887"
            ],
            [
             0.1111111111111111,
             "#46039f"
            ],
            [
             0.2222222222222222,
             "#7201a8"
            ],
            [
             0.3333333333333333,
             "#9c179e"
            ],
            [
             0.4444444444444444,
             "#bd3786"
            ],
            [
             0.5555555555555556,
             "#d8576b"
            ],
            [
             0.6666666666666666,
             "#ed7953"
            ],
            [
             0.7777777777777778,
             "#fb9f3a"
            ],
            [
             0.8888888888888888,
             "#fdca26"
            ],
            [
             1,
             "#f0f921"
            ]
           ],
           "sequentialminus": [
            [
             0,
             "#0d0887"
            ],
            [
             0.1111111111111111,
             "#46039f"
            ],
            [
             0.2222222222222222,
             "#7201a8"
            ],
            [
             0.3333333333333333,
             "#9c179e"
            ],
            [
             0.4444444444444444,
             "#bd3786"
            ],
            [
             0.5555555555555556,
             "#d8576b"
            ],
            [
             0.6666666666666666,
             "#ed7953"
            ],
            [
             0.7777777777777778,
             "#fb9f3a"
            ],
            [
             0.8888888888888888,
             "#fdca26"
            ],
            [
             1,
             "#f0f921"
            ]
           ]
          },
          "colorway": [
           "#636efa",
           "#EF553B",
           "#00cc96",
           "#ab63fa",
           "#FFA15A",
           "#19d3f3",
           "#FF6692",
           "#B6E880",
           "#FF97FF",
           "#FECB52"
          ],
          "font": {
           "color": "#2a3f5f"
          },
          "geo": {
           "bgcolor": "white",
           "lakecolor": "white",
           "landcolor": "#E5ECF6",
           "showlakes": true,
           "showland": true,
           "subunitcolor": "white"
          },
          "hoverlabel": {
           "align": "left"
          },
          "hovermode": "closest",
          "mapbox": {
           "style": "light"
          },
          "paper_bgcolor": "white",
          "plot_bgcolor": "#E5ECF6",
          "polar": {
           "angularaxis": {
            "gridcolor": "white",
            "linecolor": "white",
            "ticks": ""
           },
           "bgcolor": "#E5ECF6",
           "radialaxis": {
            "gridcolor": "white",
            "linecolor": "white",
            "ticks": ""
           }
          },
          "scene": {
           "xaxis": {
            "backgroundcolor": "#E5ECF6",
            "gridcolor": "white",
            "gridwidth": 2,
            "linecolor": "white",
            "showbackground": true,
            "ticks": "",
            "zerolinecolor": "white"
           },
           "yaxis": {
            "backgroundcolor": "#E5ECF6",
            "gridcolor": "white",
            "gridwidth": 2,
            "linecolor": "white",
            "showbackground": true,
            "ticks": "",
            "zerolinecolor": "white"
           },
           "zaxis": {
            "backgroundcolor": "#E5ECF6",
            "gridcolor": "white",
            "gridwidth": 2,
            "linecolor": "white",
            "showbackground": true,
            "ticks": "",
            "zerolinecolor": "white"
           }
          },
          "shapedefaults": {
           "line": {
            "color": "#2a3f5f"
           }
          },
          "ternary": {
           "aaxis": {
            "gridcolor": "white",
            "linecolor": "white",
            "ticks": ""
           },
           "baxis": {
            "gridcolor": "white",
            "linecolor": "white",
            "ticks": ""
           },
           "bgcolor": "#E5ECF6",
           "caxis": {
            "gridcolor": "white",
            "linecolor": "white",
            "ticks": ""
           }
          },
          "title": {
           "x": 0.05
          },
          "xaxis": {
           "automargin": true,
           "gridcolor": "white",
           "linecolor": "white",
           "ticks": "",
           "zerolinecolor": "white",
           "zerolinewidth": 2
          },
          "yaxis": {
           "automargin": true,
           "gridcolor": "white",
           "linecolor": "white",
           "ticks": "",
           "zerolinecolor": "white",
           "zerolinewidth": 2
          }
         }
        },
        "width": 1200,
        "xaxis": {
         "range": [
          -1,
          121
         ],
         "type": "linear",
         "visible": false
        },
        "yaxis": {
         "range": [
          -1,
          81
         ],
         "type": "linear",
         "visible": false
        }
       }
      },
      "image/png": "[encoded data removed]",
      "text/html": [
       "<div>\n",
       "        \n",
       "        \n",
       "            <div id=\"791b2d73-f242-4e48-ba04-ff752dde61f9\" class=\"plotly-graph-div\" style=\"height:800px; width:1200px;\"></div>\n",
       "            <script type=\"text/javascript\">\n",
       "                require([\"plotly\"], function(Plotly) {\n",
       "                    window.PLOTLYENV=window.PLOTLYENV || {};\n",
       "                    \n",
       "                if (document.getElementById(\"791b2d73-f242-4e48-ba04-ff752dde61f9\")) {\n",
       "                    Plotly.newPlot(\n",
       "                        '791b2d73-f242-4e48-ba04-ff752dde61f9',\n",
       "                        [{\"hoverinfo\": \"none\", \"line\": {\"color\": \"white\", \"width\": 7}, \"mode\": \"lines\", \"showlegend\": false, \"type\": \"scatter\", \"x\": [0, 120], \"y\": [0, 0]}, {\"hoverinfo\": \"none\", \"line\": {\"color\": \"white\", \"width\": 7}, \"mode\": \"lines\", \"showlegend\": false, \"type\": \"scatter\", \"x\": [120, 120], \"y\": [0, 80]}, {\"hoverinfo\": \"none\", \"line\": {\"color\": \"white\", \"width\": 7}, \"mode\": \"lines\", \"showlegend\": false, \"type\": \"scatter\", \"x\": [120, 0], \"y\": [80, 80]}, {\"hoverinfo\": \"none\", \"line\": {\"color\": \"white\", \"width\": 7}, \"mode\": \"lines\", \"showlegend\": false, \"type\": \"scatter\", \"x\": [0, 0], \"y\": [80, 0]}, {\"hoverinfo\": \"none\", \"line\": {\"color\": \"white\", \"width\": 7}, \"mode\": \"lines\", \"showlegend\": false, \"type\": \"scatter\", \"x\": [60, 60], \"y\": [0, 80]}, {\"hoverinfo\": \"none\", \"line\": {\"color\": \"white\", \"width\": 7}, \"mode\": \"lines\", \"showlegend\": false, \"type\": \"scatter\", \"x\": [0, 18], \"y\": [18, 18]}, {\"hoverinfo\": \"none\", \"line\": {\"color\": \"white\", \"width\": 7}, \"mode\": \"lines\", \"showlegend\": false, \"type\": \"scatter\", \"x\": [18, 18], \"y\": [18, 62]}, {\"hoverinfo\": \"none\", \"line\": {\"color\": \"white\", \"width\": 7}, \"mode\": \"lines\", \"showlegend\": false, \"type\": \"scatter\", \"x\": [18, 0], \"y\": [62, 62]}, {\"hoverinfo\": \"none\", \"line\": {\"color\": \"white\", \"width\": 7}, \"mode\": \"lines\", \"showlegend\": false, \"type\": \"scatter\", \"x\": [0, 6], \"y\": [30, 30]}, {\"hoverinfo\": \"none\", \"line\": {\"color\": \"white\", \"width\": 7}, \"mode\": \"lines\", \"showlegend\": false, \"type\": \"scatter\", \"x\": [6, 6], \"y\": [30, 50]}, {\"hoverinfo\": \"none\", \"line\": {\"color\": \"white\", \"width\": 7}, \"mode\": \"lines\", \"showlegend\": false, \"type\": \"scatter\", \"x\": [6, 0], \"y\": [50, 50]}, {\"hoverinfo\": \"none\", \"line\": {\"color\": \"white\", \"width\": 7}, \"mode\": \"lines\", \"showlegend\": false, \"type\": \"scatter\", \"x\": [120, 102], \"y\": [18, 18]}, {\"hoverinfo\": \"none\", \"line\": {\"color\": \"white\", \"width\": 7}, \"mode\": \"lines\", \"showlegend\": false, \"type\": \"scatter\", \"x\": [102, 102], \"y\": [18, 62]}, {\"hoverinfo\": \"none\", \"line\": {\"color\": \"white\", \"width\": 7}, \"mode\": \"lines\", \"showlegend\": false, \"type\": \"scatter\", \"x\": [102, 120], \"y\": [62, 62]}, {\"hoverinfo\": \"none\", \"line\": {\"color\": \"white\", \"width\": 7}, \"mode\": \"lines\", \"showlegend\": false, \"type\": \"scatter\", \"x\": [120, 114], \"y\": [30, 30]}, {\"hoverinfo\": \"none\", \"line\": {\"color\": \"white\", \"width\": 7}, \"mode\": \"lines\", \"showlegend\": false, \"type\": \"scatter\", \"x\": [114, 114], \"y\": [30, 50]}, {\"hoverinfo\": \"none\", \"line\": {\"color\": \"white\", \"width\": 7}, \"mode\": \"lines\", \"showlegend\": false, \"type\": \"scatter\", \"x\": [114, 120], \"y\": [50, 50]}, {\"hoverinfo\": \"none\", \"line\": {\"color\": \"white\", \"width\": 20}, \"mode\": \"lines\", \"showlegend\": false, \"type\": \"scatter\", \"x\": [0, 0], \"y\": [36, 44]}, {\"hoverinfo\": \"none\", \"line\": {\"color\": \"white\", \"width\": 20}, \"mode\": \"lines\", \"showlegend\": false, \"type\": \"scatter\", \"x\": [120, 120], \"y\": [36, 44]}],\n",
       "                        {\"autosize\": true, \"height\": 800, \"margin\": {\"b\": 10, \"l\": 10, \"r\": 10, \"t\": 10}, \"paper_bgcolor\": \"rgb(20,29,38)\", \"plot_bgcolor\": \"rgb(20,29,38)\", \"shapes\": [{\"line\": {\"color\": \"white\", \"width\": 7}, \"type\": \"circle\", \"x0\": 48, \"x1\": 72, \"y0\": 28, \"y1\": 52}], \"template\": {\"data\": {\"bar\": [{\"error_x\": {\"color\": \"#2a3f5f\"}, \"error_y\": {\"color\": \"#2a3f5f\"}, \"marker\": {\"line\": {\"color\": \"#E5ECF6\", \"width\": 0.5}}, \"type\": \"bar\"}], \"barpolar\": [{\"marker\": {\"line\": {\"color\": \"#E5ECF6\", \"width\": 0.5}}, \"type\": \"barpolar\"}], \"carpet\": [{\"aaxis\": {\"endlinecolor\": \"#2a3f5f\", \"gridcolor\": \"white\", \"linecolor\": \"white\", \"minorgridcolor\": \"white\", \"startlinecolor\": \"#2a3f5f\"}, \"baxis\": {\"endlinecolor\": \"#2a3f5f\", \"gridcolor\": \"white\", \"linecolor\": \"white\", \"minorgridcolor\": \"white\", \"startlinecolor\": \"#2a3f5f\"}, \"type\": \"carpet\"}], \"choropleth\": [{\"colorbar\": {\"outlinewidth\": 0, \"ticks\": \"\"}, \"type\": \"choropleth\"}], \"contour\": [{\"colorbar\": {\"outlinewidth\": 0, \"ticks\": \"\"}, \"colorscale\": [[0.0, \"#0d0887\"], [0.1111111111111111, \"#46039f\"], [0.2222222222222222, \"#7201a8\"], [0.3333333333333333, \"#9c179e\"], [0.4444444444444444, \"#bd3786\"], [0.5555555555555556, \"#d8576b\"], [0.6666666666666666, \"#ed7953\"], [0.7777777777777778, \"#fb9f3a\"], [0.8888888888888888, \"#fdca26\"], [1.0, \"#f0f921\"]], \"type\": \"contour\"}], \"contourcarpet\": [{\"colorbar\": {\"outlinewidth\": 0, \"ticks\": \"\"}, \"type\": \"contourcarpet\"}], \"heatmap\": [{\"colorbar\": {\"outlinewidth\": 0, \"ticks\": \"\"}, \"colorscale\": [[0.0, \"#0d0887\"], [0.1111111111111111, \"#46039f\"], [0.2222222222222222, \"#7201a8\"], [0.3333333333333333, \"#9c179e\"], [0.4444444444444444, \"#bd3786\"], [0.5555555555555556, \"#d8576b\"], [0.6666666666666666, \"#ed7953\"], [0.7777777777777778, \"#fb9f3a\"], [0.8888888888888888, \"#fdca26\"], [1.0, \"#f0f921\"]], \"type\": \"heatmap\"}], \"heatmapgl\": [{\"colorbar\": {\"outlinewidth\": 0, \"ticks\": \"\"}, \"colorscale\": [[0.0, \"#0d0887\"], [0.1111111111111111, \"#46039f\"], [0.2222222222222222, \"#7201a8\"], [0.3333333333333333, \"#9c179e\"], [0.4444444444444444, \"#bd3786\"], [0.5555555555555556, \"#d8576b\"], [0.6666666666666666, \"#ed7953\"], [0.7777777777777778, \"#fb9f3a\"], [0.8888888888888888, \"#fdca26\"], [1.0, \"#f0f921\"]], \"type\": \"heatmapgl\"}], \"histogram\": [{\"marker\": {\"colorbar\": {\"outlinewidth\": 0, \"ticks\": \"\"}}, \"type\": \"histogram\"}], \"histogram2d\": [{\"colorbar\": {\"outlinewidth\": 0, \"ticks\": \"\"}, \"colorscale\": [[0.0, \"#0d0887\"], [0.1111111111111111, \"#46039f\"], [0.2222222222222222, \"#7201a8\"], [0.3333333333333333, \"#9c179e\"], [0.4444444444444444, \"#bd3786\"], [0.5555555555555556, \"#d8576b\"], [0.6666666666666666, \"#ed7953\"], [0.7777777777777778, \"#fb9f3a\"], [0.8888888888888888, \"#fdca26\"], [1.0, \"#f0f921\"]], \"type\": \"histogram2d\"}], \"histogram2dcontour\": [{\"colorbar\": {\"outlinewidth\": 0, \"ticks\": \"\"}, \"colorscale\": [[0.0, \"#0d0887\"], [0.1111111111111111, \"#46039f\"], [0.2222222222222222, \"#7201a8\"], [0.3333333333333333, \"#9c179e\"], [0.4444444444444444, \"#bd3786\"], [0.5555555555555556, \"#d8576b\"], [0.6666666666666666, \"#ed7953\"], [0.7777777777777778, \"#fb9f3a\"], [0.8888888888888888, \"#fdca26\"], [1.0, \"#f0f921\"]], \"type\": \"histogram2dcontour\"}], \"mesh3d\": [{\"colorbar\": {\"outlinewidth\": 0, \"ticks\": \"\"}, \"type\": \"mesh3d\"}], \"parcoords\": [{\"line\": {\"colorbar\": {\"outlinewidth\": 0, \"ticks\": \"\"}}, \"type\": \"parcoords\"}], \"scatter\": [{\"marker\": {\"colorbar\": {\"outlinewidth\": 0, \"ticks\": \"\"}}, \"type\": \"scatter\"}], \"scatter3d\": [{\"line\": {\"colorbar\": {\"outlinewidth\": 0, \"ticks\": \"\"}}, \"marker\": {\"colorbar\": {\"outlinewidth\": 0, \"ticks\": \"\"}}, \"type\": \"scatter3d\"}], \"scattercarpet\": [{\"marker\": {\"colorbar\": {\"outlinewidth\": 0, \"ticks\": \"\"}}, \"type\": \"scattercarpet\"}], \"scattergeo\": [{\"marker\": {\"colorbar\": {\"outlinewidth\": 0, \"ticks\": \"\"}}, \"type\": \"scattergeo\"}], \"scattergl\": [{\"marker\": {\"colorbar\": {\"outlinewidth\": 0, \"ticks\": \"\"}}, \"type\": \"scattergl\"}], \"scattermapbox\": [{\"marker\": {\"colorbar\": {\"outlinewidth\": 0, \"ticks\": \"\"}}, \"type\": \"scattermapbox\"}], \"scatterpolar\": [{\"marker\": {\"colorbar\": {\"outlinewidth\": 0, \"ticks\": \"\"}}, \"type\": \"scatterpolar\"}], \"scatterpolargl\": [{\"marker\": {\"colorbar\": {\"outlinewidth\": 0, \"ticks\": \"\"}}, \"type\": \"scatterpolargl\"}], \"scatterternary\": [{\"marker\": {\"colorbar\": {\"outlinewidth\": 0, \"ticks\": \"\"}}, \"type\": \"scatterternary\"}], \"surface\": [{\"colorbar\": {\"outlinewidth\": 0, \"ticks\": \"\"}, \"colorscale\": [[0.0, \"#0d0887\"], [0.1111111111111111, \"#46039f\"], [0.2222222222222222, \"#7201a8\"], [0.3333333333333333, \"#9c179e\"], [0.4444444444444444, \"#bd3786\"], [0.5555555555555556, \"#d8576b\"], [0.6666666666666666, \"#ed7953\"], [0.7777777777777778, \"#fb9f3a\"], [0.8888888888888888, \"#fdca26\"], [1.0, \"#f0f921\"]], \"type\": \"surface\"}], \"table\": [{\"cells\": {\"fill\": {\"color\": \"#EBF0F8\"}, \"line\": {\"color\": \"white\"}}, \"header\": {\"fill\": {\"color\": \"#C8D4E3\"}, \"line\": {\"color\": \"white\"}}, \"type\": \"table\"}]}, \"layout\": {\"annotationdefaults\": {\"arrowcolor\": \"#2a3f5f\", \"arrowhead\": 0, \"arrowwidth\": 1}, \"colorscale\": {\"diverging\": [[0, \"#8e0152\"], [0.1, \"#c51b7d\"], [0.2, \"#de77ae\"], [0.3, \"#f1b6da\"], [0.4, \"#fde0ef\"], [0.5, \"#f7f7f7\"], [0.6, \"#e6f5d0\"], [0.7, \"#b8e186\"], [0.8, \"#7fbc41\"], [0.9, \"#4d9221\"], [1, \"#276419\"]], \"sequential\": [[0.0, \"#0d0887\"], [0.1111111111111111, \"#46039f\"], [0.2222222222222222, \"#7201a8\"], [0.3333333333333333, \"#9c179e\"], [0.4444444444444444, \"#bd3786\"], [0.5555555555555556, \"#d8576b\"], [0.6666666666666666, \"#ed7953\"], [0.7777777777777778, \"#fb9f3a\"], [0.8888888888888888, \"#fdca26\"], [1.0, \"#f0f921\"]], \"sequentialminus\": [[0.0, \"#0d0887\"], [0.1111111111111111, \"#46039f\"], [0.2222222222222222, \"#7201a8\"], [0.3333333333333333, \"#9c179e\"], [0.4444444444444444, \"#bd3786\"], [0.5555555555555556, \"#d8576b\"], [0.6666666666666666, \"#ed7953\"], [0.7777777777777778, \"#fb9f3a\"], [0.8888888888888888, \"#fdca26\"], [1.0, \"#f0f921\"]]}, \"colorway\": [\"#636efa\", \"#EF553B\", \"#00cc96\", \"#ab63fa\", \"#FFA15A\", \"#19d3f3\", \"#FF6692\", \"#B6E880\", \"#FF97FF\", \"#FECB52\"], \"font\": {\"color\": \"#2a3f5f\"}, \"geo\": {\"bgcolor\": \"white\", \"lakecolor\": \"white\", \"landcolor\": \"#E5ECF6\", \"showlakes\": true, \"showland\": true, \"subunitcolor\": \"white\"}, \"hoverlabel\": {\"align\": \"left\"}, \"hovermode\": \"closest\", \"mapbox\": {\"style\": \"light\"}, \"paper_bgcolor\": \"white\", \"plot_bgcolor\": \"#E5ECF6\", \"polar\": {\"angularaxis\": {\"gridcolor\": \"white\", \"linecolor\": \"white\", \"ticks\": \"\"}, \"bgcolor\": \"#E5ECF6\", \"radialaxis\": {\"gridcolor\": \"white\", \"linecolor\": \"white\", \"ticks\": \"\"}}, \"scene\": {\"xaxis\": {\"backgroundcolor\": \"#E5ECF6\", \"gridcolor\": \"white\", \"gridwidth\": 2, \"linecolor\": \"white\", \"showbackground\": true, \"ticks\": \"\", \"zerolinecolor\": \"white\"}, \"yaxis\": {\"backgroundcolor\": \"#E5ECF6\", \"gridcolor\": \"white\", \"gridwidth\": 2, \"linecolor\": \"white\", \"showbackground\": true, \"ticks\": \"\", \"zerolinecolor\": \"white\"}, \"zaxis\": {\"backgroundcolor\": \"#E5ECF6\", \"gridcolor\": \"white\", \"gridwidth\": 2, \"linecolor\": \"white\", \"showbackground\": true, \"ticks\": \"\", \"zerolinecolor\": \"white\"}}, \"shapedefaults\": {\"line\": {\"color\": \"#2a3f5f\"}}, \"ternary\": {\"aaxis\": {\"gridcolor\": \"white\", \"linecolor\": \"white\", \"ticks\": \"\"}, \"baxis\": {\"gridcolor\": \"white\", \"linecolor\": \"white\", \"ticks\": \"\"}, \"bgcolor\": \"#E5ECF6\", \"caxis\": {\"gridcolor\": \"white\", \"linecolor\": \"white\", \"ticks\": \"\"}}, \"title\": {\"x\": 0.05}, \"xaxis\": {\"automargin\": true, \"gridcolor\": \"white\", \"linecolor\": \"white\", \"ticks\": \"\", \"zerolinecolor\": \"white\", \"zerolinewidth\": 2}, \"yaxis\": {\"automargin\": true, \"gridcolor\": \"white\", \"linecolor\": \"white\", \"ticks\": \"\", \"zerolinecolor\": \"white\", \"zerolinewidth\": 2}}}, \"width\": 1200, \"xaxis\": {\"range\": [-1, 121], \"visible\": false}, \"yaxis\": {\"range\": [-1, 81], \"visible\": false}},\n",
       "                        {\"responsive\": true}\n",
       "                    ).then(function(){\n",
       "                            \n",
       "var gd = document.getElementById('791b2d73-f242-4e48-ba04-ff752dde61f9');\n",
       "var x = new MutationObserver(function (mutations, observer) {{\n",
       "        var display = window.getComputedStyle(gd).display;\n",
       "        if (!display || display === 'none') {{\n",
       "            console.log([gd, 'removed!']);\n",
       "            Plotly.purge(gd);\n",
       "            observer.disconnect();\n",
       "        }}\n",
       "}});\n",
       "\n",
       "// Listen for the removal of the full notebook cells\n",
       "var notebookContainer = gd.closest('#notebook-container');\n",
       "if (notebookContainer) {{\n",
       "    x.observe(notebookContainer, {childList: true});\n",
       "}}\n",
       "\n",
       "// Listen for the clearing of the current output cell\n",
       "var outputEl = gd.closest('.output');\n",
       "if (outputEl) {{\n",
       "    x.observe(outputEl, {childList: true});\n",
       "}}\n",
       "\n",
       "                        })\n",
       "                };\n",
       "                });\n",
       "            </script>\n",
       "        </div>"
      ]
     },
     "metadata": {},
     "output_type": "display_data"
    }
   ],
   "source": [
    "COLOR = 'white'\n",
    "twitter_color = 'rgb(20,29,38)'\n",
    "\n",
    "# Create traces\n",
    "fig = go.Figure(layout=go.Layout(width=120*10, height=80*10, plot_bgcolor=twitter_color, xaxis=dict(visible=False), yaxis=dict(visible=False), paper_bgcolor=twitter_color, autosize=True, margin=dict(l=10, r=10, t=10, b=10)))\n",
    "line_list = [[[0,120], [0,0]], [[120,120], [0,80]], [[120,0], [80,80]], [[0,0], [80,0]], [[60,60], [0,80]]]\n",
    "line_list += [[[0,18], [18,18]], [[18,18], [18,62]], [[18,0], [62,62]], [[0,6], [30,30]], [[6,6], [30,50]], [[6,0], [50,50]]]\n",
    "line_list += [[[120, 102], [18,18]], [[102,102], [18,62]], [[102,120], [62,62]], [[120,114], [30,30]], [[114,114], [30,50]], [[114,120], [50,50]]]\n",
    "\n",
    "for [x, y] in line_list:\n",
    "    fig.add_trace(go.Scatter(x=x, y=y,\n",
    "                        mode='lines',\n",
    "                        line=dict(color=COLOR, width=7),\n",
    "                        showlegend=False,\n",
    "                        hoverinfo='none'\n",
    "                        ))\n",
    "\n",
    "line_list = [[[0,0], [36,44]], [[120,120], [36,44]]]\n",
    "for [x, y] in line_list:\n",
    "    fig.add_trace(go.Scatter(x=x, y=y,\n",
    "                        mode='lines',\n",
    "                        line=dict(color=COLOR, width=20),\n",
    "                        showlegend=False,\n",
    "                        hoverinfo='none'\n",
    "                        ))\n",
    "    \n",
    "fig.update_layout(shapes=[go.layout.Shape(type='circle', x0=60-12, y0=40-12, x1=60+12, y1=40+12, line_color=COLOR, line_width=7)])\n",
    "fig.update_xaxes(range=[-1, 120+1])\n",
    "fig.update_yaxes(range=[-1, 80+1])\n",
    "\n",
    "fig.show()"
   ]
  },
  {
   "cell_type": "markdown",
   "metadata": {},
   "source": [
    "# 複数枚のピッチを描く"
   ]
  },
  {
   "cell_type": "code",
   "execution_count": 54,
   "metadata": {},
   "outputs": [],
   "source": [
    "from plotly.subplots import make_subplots\n",
    "\n",
    "def draw_pitches(nrows, ncols, title_list=[], colorbar=False):\n",
    "\n",
    "    COLOR = 'white'\n",
    "    twitter_color = 'rgb(20,29,38)'\n",
    "\n",
    "    # Create traces\n",
    "    fig = make_subplots(rows=nrows, cols=ncols, subplot_titles=title_list, horizontal_spacing=0.05, vertical_spacing=0.05)\n",
    "    for i in range(1,nrows+1):\n",
    "        for j in range(1,ncols+1):\n",
    "            \n",
    "            line_list = [[[0,120], [0,0]], [[120,120], [0,80]], [[120,0], [80,80]], [[0,0], [80,0]], [[60,60], [0,80]]]\n",
    "            line_list += [[[0,18], [18,18]], [[18,18], [18,62]], [[18,0], [62,62]], [[0,6], [30,30]], [[6,6], [30,50]], [[6,0], [50,50]]]\n",
    "            line_list += [[[120, 102], [18,18]], [[102,102], [18,62]], [[102,120], [62,62]], [[120,114], [30,30]], [[114,114], [30,50]], [[114,120], [50,50]]]\n",
    "\n",
    "            for [x, y] in line_list:\n",
    "                fig.add_trace(go.Scatter(x=x, y=y,\n",
    "                                    mode='lines',\n",
    "                                    line=dict(color=COLOR, width=2.5),\n",
    "                                    showlegend=False,\n",
    "                                    hoverinfo='none'\n",
    "                                    )\n",
    "                             , row=i, col=j)\n",
    "\n",
    "            line_list = [[[0,0], [36,44]], [[120,120], [36,44]]]\n",
    "            for [x, y] in line_list:\n",
    "                fig.add_trace(go.Scatter(x=x, y=y,\n",
    "                                    mode='lines',\n",
    "                                    line=dict(color=COLOR, width=12.5),\n",
    "                                    showlegend=False,\n",
    "                                    hoverinfo='none'\n",
    "                                    )\n",
    "                             , row=i, col=j)\n",
    "\n",
    "            fig.add_shape(go.layout.Shape(type='circle', x0=60-12, y0=40-12, x1=60+12, y1=40+12, line_color=COLOR, line_width=2.5), row=i, col=j)\n",
    "            fig.update_xaxes(range=[-1, 120+1], visible=False, row=i, col=j)\n",
    "            fig.update_yaxes(range=[-1, 80+1], visible=False, row=i, col=j)\n",
    "    \n",
    "    fig.update_layout(go.Layout(width=120*10, height=80*10, plot_bgcolor=twitter_color, paper_bgcolor=twitter_color, autosize=True, margin=dict(l=10, r=10, t=20, b=10)))\n",
    "    \n",
    "    for i in fig['layout']['annotations']:\n",
    "        i['font'] = dict(size=15,color=COLOR)\n",
    "    \n",
    "    return fig"
   ]
  },
  {
   "cell_type": "code",
   "execution_count": 55,
   "metadata": {},
   "outputs": [
    {
     "data": {
      "application/vnd.plotly.v1+json": {
       "config": {
        "plotlyServerURL": "https://plot.ly"
       },
       "data": [
        {
         "hoverinfo": "none",
         "line": {
          "color": "white",
          "width": 2.5
         },
         "mode": "lines",
         "showlegend": false,
         "type": "scatter",
         "x": [
          0,
          120
         ],
         "xaxis": "x",
         "y": [
          0,
          0
         ],
         "yaxis": "y"
        },
        {
         "hoverinfo": "none",
         "line": {
          "color": "white",
          "width": 2.5
         },
         "mode": "lines",
         "showlegend": false,
         "type": "scatter",
         "x": [
          120,
          120
         ],
         "xaxis": "x",
         "y": [
          0,
          80
         ],
         "yaxis": "y"
        },
        {
         "hoverinfo": "none",
         "line": {
          "color": "white",
          "width": 2.5
         },
         "mode": "lines",
         "showlegend": false,
         "type": "scatter",
         "x": [
          120,
          0
         ],
         "xaxis": "x",
         "y": [
          80,
          80
         ],
         "yaxis": "y"
        },
        {
         "hoverinfo": "none",
         "line": {
          "color": "white",
          "width": 2.5
         },
         "mode": "lines",
         "showlegend": false,
         "type": "scatter",
         "x": [
          0,
          0
         ],
         "xaxis": "x",
         "y": [
          80,
          0
         ],
         "yaxis": "y"
        },
        {
         "hoverinfo": "none",
         "line": {
          "color": "white",
          "width": 2.5
         },
         "mode": "lines",
         "showlegend": false,
         "type": "scatter",
         "x": [
          60,
          60
         ],
         "xaxis": "x",
         "y": [
          0,
          80
         ],
         "yaxis": "y"
        },
        {
         "hoverinfo": "none",
         "line": {
          "color": "white",
          "width": 2.5
         },
         "mode": "lines",
         "showlegend": false,
         "type": "scatter",
         "x": [
          0,
          18
         ],
         "xaxis": "x",
         "y": [
          18,
          18
         ],
         "yaxis": "y"
        },
        {
         "hoverinfo": "none",
         "line": {
          "color": "white",
          "width": 2.5
         },
         "mode": "lines",
         "showlegend": false,
         "type": "scatter",
         "x": [
          18,
          18
         ],
         "xaxis": "x",
         "y": [
          18,
          62
         ],
         "yaxis": "y"
        },
        {
         "hoverinfo": "none",
         "line": {
          "color": "white",
          "width": 2.5
         },
         "mode": "lines",
         "showlegend": false,
         "type": "scatter",
         "x": [
          18,
          0
         ],
         "xaxis": "x",
         "y": [
          62,
          62
         ],
         "yaxis": "y"
        },
        {
         "hoverinfo": "none",
         "line": {
          "color": "white",
          "width": 2.5
         },
         "mode": "lines",
         "showlegend": false,
         "type": "scatter",
         "x": [
          0,
          6
         ],
         "xaxis": "x",
         "y": [
          30,
          30
         ],
         "yaxis": "y"
        },
        {
         "hoverinfo": "none",
         "line": {
          "color": "white",
          "width": 2.5
         },
         "mode": "lines",
         "showlegend": false,
         "type": "scatter",
         "x": [
          6,
          6
         ],
         "xaxis": "x",
         "y": [
          30,
          50
         ],
         "yaxis": "y"
        },
        {
         "hoverinfo": "none",
         "line": {
          "color": "white",
          "width": 2.5
         },
         "mode": "lines",
         "showlegend": false,
         "type": "scatter",
         "x": [
          6,
          0
         ],
         "xaxis": "x",
         "y": [
          50,
          50
         ],
         "yaxis": "y"
        },
        {
         "hoverinfo": "none",
         "line": {
          "color": "white",
          "width": 2.5
         },
         "mode": "lines",
         "showlegend": false,
         "type": "scatter",
         "x": [
          120,
          102
         ],
         "xaxis": "x",
         "y": [
          18,
          18
         ],
         "yaxis": "y"
        },
        {
         "hoverinfo": "none",
         "line": {
          "color": "white",
          "width": 2.5
         },
         "mode": "lines",
         "showlegend": false,
         "type": "scatter",
         "x": [
          102,
          102
         ],
         "xaxis": "x",
         "y": [
          18,
          62
         ],
         "yaxis": "y"
        },
        {
         "hoverinfo": "none",
         "line": {
          "color": "white",
          "width": 2.5
         },
         "mode": "lines",
         "showlegend": false,
         "type": "scatter",
         "x": [
          102,
          120
         ],
         "xaxis": "x",
         "y": [
          62,
          62
         ],
         "yaxis": "y"
        },
        {
         "hoverinfo": "none",
         "line": {
          "color": "white",
          "width": 2.5
         },
         "mode": "lines",
         "showlegend": false,
         "type": "scatter",
         "x": [
          120,
          114
         ],
         "xaxis": "x",
         "y": [
          30,
          30
         ],
         "yaxis": "y"
        },
        {
         "hoverinfo": "none",
         "line": {
          "color": "white",
          "width": 2.5
         },
         "mode": "lines",
         "showlegend": false,
         "type": "scatter",
         "x": [
          114,
          114
         ],
         "xaxis": "x",
         "y": [
          30,
          50
         ],
         "yaxis": "y"
        },
        {
         "hoverinfo": "none",
         "line": {
          "color": "white",
          "width": 2.5
         },
         "mode": "lines",
         "showlegend": false,
         "type": "scatter",
         "x": [
          114,
          120
         ],
         "xaxis": "x",
         "y": [
          50,
          50
         ],
         "yaxis": "y"
        },
        {
         "hoverinfo": "none",
         "line": {
          "color": "white",
          "width": 12.5
         },
         "mode": "lines",
         "showlegend": false,
         "type": "scatter",
         "x": [
          0,
          0
         ],
         "xaxis": "x",
         "y": [
          36,
          44
         ],
         "yaxis": "y"
        },
        {
         "hoverinfo": "none",
         "line": {
          "color": "white",
          "width": 12.5
         },
         "mode": "lines",
         "showlegend": false,
         "type": "scatter",
         "x": [
          120,
          120
         ],
         "xaxis": "x",
         "y": [
          36,
          44
         ],
         "yaxis": "y"
        },
        {
         "hoverinfo": "none",
         "line": {
          "color": "white",
          "width": 2.5
         },
         "mode": "lines",
         "showlegend": false,
         "type": "scatter",
         "x": [
          0,
          120
         ],
         "xaxis": "x2",
         "y": [
          0,
          0
         ],
         "yaxis": "y2"
        },
        {
         "hoverinfo": "none",
         "line": {
          "color": "white",
          "width": 2.5
         },
         "mode": "lines",
         "showlegend": false,
         "type": "scatter",
         "x": [
          120,
          120
         ],
         "xaxis": "x2",
         "y": [
          0,
          80
         ],
         "yaxis": "y2"
        },
        {
         "hoverinfo": "none",
         "line": {
          "color": "white",
          "width": 2.5
         },
         "mode": "lines",
         "showlegend": false,
         "type": "scatter",
         "x": [
          120,
          0
         ],
         "xaxis": "x2",
         "y": [
          80,
          80
         ],
         "yaxis": "y2"
        },
        {
         "hoverinfo": "none",
         "line": {
          "color": "white",
          "width": 2.5
         },
         "mode": "lines",
         "showlegend": false,
         "type": "scatter",
         "x": [
          0,
          0
         ],
         "xaxis": "x2",
         "y": [
          80,
          0
         ],
         "yaxis": "y2"
        },
        {
         "hoverinfo": "none",
         "line": {
          "color": "white",
          "width": 2.5
         },
         "mode": "lines",
         "showlegend": false,
         "type": "scatter",
         "x": [
          60,
          60
         ],
         "xaxis": "x2",
         "y": [
          0,
          80
         ],
         "yaxis": "y2"
        },
        {
         "hoverinfo": "none",
         "line": {
          "color": "white",
          "width": 2.5
         },
         "mode": "lines",
         "showlegend": false,
         "type": "scatter",
         "x": [
          0,
          18
         ],
         "xaxis": "x2",
         "y": [
          18,
          18
         ],
         "yaxis": "y2"
        },
        {
         "hoverinfo": "none",
         "line": {
          "color": "white",
          "width": 2.5
         },
         "mode": "lines",
         "showlegend": false,
         "type": "scatter",
         "x": [
          18,
          18
         ],
         "xaxis": "x2",
         "y": [
          18,
          62
         ],
         "yaxis": "y2"
        },
        {
         "hoverinfo": "none",
         "line": {
          "color": "white",
          "width": 2.5
         },
         "mode": "lines",
         "showlegend": false,
         "type": "scatter",
         "x": [
          18,
          0
         ],
         "xaxis": "x2",
         "y": [
          62,
          62
         ],
         "yaxis": "y2"
        },
        {
         "hoverinfo": "none",
         "line": {
          "color": "white",
          "width": 2.5
         },
         "mode": "lines",
         "showlegend": false,
         "type": "scatter",
         "x": [
          0,
          6
         ],
         "xaxis": "x2",
         "y": [
          30,
          30
         ],
         "yaxis": "y2"
        },
        {
         "hoverinfo": "none",
         "line": {
          "color": "white",
          "width": 2.5
         },
         "mode": "lines",
         "showlegend": false,
         "type": "scatter",
         "x": [
          6,
          6
         ],
         "xaxis": "x2",
         "y": [
          30,
          50
         ],
         "yaxis": "y2"
        },
        {
         "hoverinfo": "none",
         "line": {
          "color": "white",
          "width": 2.5
         },
         "mode": "lines",
         "showlegend": false,
         "type": "scatter",
         "x": [
          6,
          0
         ],
         "xaxis": "x2",
         "y": [
          50,
          50
         ],
         "yaxis": "y2"
        },
        {
         "hoverinfo": "none",
         "line": {
          "color": "white",
          "width": 2.5
         },
         "mode": "lines",
         "showlegend": false,
         "type": "scatter",
         "x": [
          120,
          102
         ],
         "xaxis": "x2",
         "y": [
          18,
          18
         ],
         "yaxis": "y2"
        },
        {
         "hoverinfo": "none",
         "line": {
          "color": "white",
          "width": 2.5
         },
         "mode": "lines",
         "showlegend": false,
         "type": "scatter",
         "x": [
          102,
          102
         ],
         "xaxis": "x2",
         "y": [
          18,
          62
         ],
         "yaxis": "y2"
        },
        {
         "hoverinfo": "none",
         "line": {
          "color": "white",
          "width": 2.5
         },
         "mode": "lines",
         "showlegend": false,
         "type": "scatter",
         "x": [
          102,
          120
         ],
         "xaxis": "x2",
         "y": [
          62,
          62
         ],
         "yaxis": "y2"
        },
        {
         "hoverinfo": "none",
         "line": {
          "color": "white",
          "width": 2.5
         },
         "mode": "lines",
         "showlegend": false,
         "type": "scatter",
         "x": [
          120,
          114
         ],
         "xaxis": "x2",
         "y": [
          30,
          30
         ],
         "yaxis": "y2"
        },
        {
         "hoverinfo": "none",
         "line": {
          "color": "white",
          "width": 2.5
         },
         "mode": "lines",
         "showlegend": false,
         "type": "scatter",
         "x": [
          114,
          114
         ],
         "xaxis": "x2",
         "y": [
          30,
          50
         ],
         "yaxis": "y2"
        },
        {
         "hoverinfo": "none",
         "line": {
          "color": "white",
          "width": 2.5
         },
         "mode": "lines",
         "showlegend": false,
         "type": "scatter",
         "x": [
          114,
          120
         ],
         "xaxis": "x2",
         "y": [
          50,
          50
         ],
         "yaxis": "y2"
        },
        {
         "hoverinfo": "none",
         "line": {
          "color": "white",
          "width": 12.5
         },
         "mode": "lines",
         "showlegend": false,
         "type": "scatter",
         "x": [
          0,
          0
         ],
         "xaxis": "x2",
         "y": [
          36,
          44
         ],
         "yaxis": "y2"
        },
        {
         "hoverinfo": "none",
         "line": {
          "color": "white",
          "width": 12.5
         },
         "mode": "lines",
         "showlegend": false,
         "type": "scatter",
         "x": [
          120,
          120
         ],
         "xaxis": "x2",
         "y": [
          36,
          44
         ],
         "yaxis": "y2"
        },
        {
         "hoverinfo": "none",
         "line": {
          "color": "white",
          "width": 2.5
         },
         "mode": "lines",
         "showlegend": false,
         "type": "scatter",
         "x": [
          0,
          120
         ],
         "xaxis": "x3",
         "y": [
          0,
          0
         ],
         "yaxis": "y3"
        },
        {
         "hoverinfo": "none",
         "line": {
          "color": "white",
          "width": 2.5
         },
         "mode": "lines",
         "showlegend": false,
         "type": "scatter",
         "x": [
          120,
          120
         ],
         "xaxis": "x3",
         "y": [
          0,
          80
         ],
         "yaxis": "y3"
        },
        {
         "hoverinfo": "none",
         "line": {
          "color": "white",
          "width": 2.5
         },
         "mode": "lines",
         "showlegend": false,
         "type": "scatter",
         "x": [
          120,
          0
         ],
         "xaxis": "x3",
         "y": [
          80,
          80
         ],
         "yaxis": "y3"
        },
        {
         "hoverinfo": "none",
         "line": {
          "color": "white",
          "width": 2.5
         },
         "mode": "lines",
         "showlegend": false,
         "type": "scatter",
         "x": [
          0,
          0
         ],
         "xaxis": "x3",
         "y": [
          80,
          0
         ],
         "yaxis": "y3"
        },
        {
         "hoverinfo": "none",
         "line": {
          "color": "white",
          "width": 2.5
         },
         "mode": "lines",
         "showlegend": false,
         "type": "scatter",
         "x": [
          60,
          60
         ],
         "xaxis": "x3",
         "y": [
          0,
          80
         ],
         "yaxis": "y3"
        },
        {
         "hoverinfo": "none",
         "line": {
          "color": "white",
          "width": 2.5
         },
         "mode": "lines",
         "showlegend": false,
         "type": "scatter",
         "x": [
          0,
          18
         ],
         "xaxis": "x3",
         "y": [
          18,
          18
         ],
         "yaxis": "y3"
        },
        {
         "hoverinfo": "none",
         "line": {
          "color": "white",
          "width": 2.5
         },
         "mode": "lines",
         "showlegend": false,
         "type": "scatter",
         "x": [
          18,
          18
         ],
         "xaxis": "x3",
         "y": [
          18,
          62
         ],
         "yaxis": "y3"
        },
        {
         "hoverinfo": "none",
         "line": {
          "color": "white",
          "width": 2.5
         },
         "mode": "lines",
         "showlegend": false,
         "type": "scatter",
         "x": [
          18,
          0
         ],
         "xaxis": "x3",
         "y": [
          62,
          62
         ],
         "yaxis": "y3"
        },
        {
         "hoverinfo": "none",
         "line": {
          "color": "white",
          "width": 2.5
         },
         "mode": "lines",
         "showlegend": false,
         "type": "scatter",
         "x": [
          0,
          6
         ],
         "xaxis": "x3",
         "y": [
          30,
          30
         ],
         "yaxis": "y3"
        },
        {
         "hoverinfo": "none",
         "line": {
          "color": "white",
          "width": 2.5
         },
         "mode": "lines",
         "showlegend": false,
         "type": "scatter",
         "x": [
          6,
          6
         ],
         "xaxis": "x3",
         "y": [
          30,
          50
         ],
         "yaxis": "y3"
        },
        {
         "hoverinfo": "none",
         "line": {
          "color": "white",
          "width": 2.5
         },
         "mode": "lines",
         "showlegend": false,
         "type": "scatter",
         "x": [
          6,
          0
         ],
         "xaxis": "x3",
         "y": [
          50,
          50
         ],
         "yaxis": "y3"
        },
        {
         "hoverinfo": "none",
         "line": {
          "color": "white",
          "width": 2.5
         },
         "mode": "lines",
         "showlegend": false,
         "type": "scatter",
         "x": [
          120,
          102
         ],
         "xaxis": "x3",
         "y": [
          18,
          18
         ],
         "yaxis": "y3"
        },
        {
         "hoverinfo": "none",
         "line": {
          "color": "white",
          "width": 2.5
         },
         "mode": "lines",
         "showlegend": false,
         "type": "scatter",
         "x": [
          102,
          102
         ],
         "xaxis": "x3",
         "y": [
          18,
          62
         ],
         "yaxis": "y3"
        },
        {
         "hoverinfo": "none",
         "line": {
          "color": "white",
          "width": 2.5
         },
         "mode": "lines",
         "showlegend": false,
         "type": "scatter",
         "x": [
          102,
          120
         ],
         "xaxis": "x3",
         "y": [
          62,
          62
         ],
         "yaxis": "y3"
        },
        {
         "hoverinfo": "none",
         "line": {
          "color": "white",
          "width": 2.5
         },
         "mode": "lines",
         "showlegend": false,
         "type": "scatter",
         "x": [
          120,
          114
         ],
         "xaxis": "x3",
         "y": [
          30,
          30
         ],
         "yaxis": "y3"
        },
        {
         "hoverinfo": "none",
         "line": {
          "color": "white",
          "width": 2.5
         },
         "mode": "lines",
         "showlegend": false,
         "type": "scatter",
         "x": [
          114,
          114
         ],
         "xaxis": "x3",
         "y": [
          30,
          50
         ],
         "yaxis": "y3"
        },
        {
         "hoverinfo": "none",
         "line": {
          "color": "white",
          "width": 2.5
         },
         "mode": "lines",
         "showlegend": false,
         "type": "scatter",
         "x": [
          114,
          120
         ],
         "xaxis": "x3",
         "y": [
          50,
          50
         ],
         "yaxis": "y3"
        },
        {
         "hoverinfo": "none",
         "line": {
          "color": "white",
          "width": 12.5
         },
         "mode": "lines",
         "showlegend": false,
         "type": "scatter",
         "x": [
          0,
          0
         ],
         "xaxis": "x3",
         "y": [
          36,
          44
         ],
         "yaxis": "y3"
        },
        {
         "hoverinfo": "none",
         "line": {
          "color": "white",
          "width": 12.5
         },
         "mode": "lines",
         "showlegend": false,
         "type": "scatter",
         "x": [
          120,
          120
         ],
         "xaxis": "x3",
         "y": [
          36,
          44
         ],
         "yaxis": "y3"
        },
        {
         "hoverinfo": "none",
         "line": {
          "color": "white",
          "width": 2.5
         },
         "mode": "lines",
         "showlegend": false,
         "type": "scatter",
         "x": [
          0,
          120
         ],
         "xaxis": "x4",
         "y": [
          0,
          0
         ],
         "yaxis": "y4"
        },
        {
         "hoverinfo": "none",
         "line": {
          "color": "white",
          "width": 2.5
         },
         "mode": "lines",
         "showlegend": false,
         "type": "scatter",
         "x": [
          120,
          120
         ],
         "xaxis": "x4",
         "y": [
          0,
          80
         ],
         "yaxis": "y4"
        },
        {
         "hoverinfo": "none",
         "line": {
          "color": "white",
          "width": 2.5
         },
         "mode": "lines",
         "showlegend": false,
         "type": "scatter",
         "x": [
          120,
          0
         ],
         "xaxis": "x4",
         "y": [
          80,
          80
         ],
         "yaxis": "y4"
        },
        {
         "hoverinfo": "none",
         "line": {
          "color": "white",
          "width": 2.5
         },
         "mode": "lines",
         "showlegend": false,
         "type": "scatter",
         "x": [
          0,
          0
         ],
         "xaxis": "x4",
         "y": [
          80,
          0
         ],
         "yaxis": "y4"
        },
        {
         "hoverinfo": "none",
         "line": {
          "color": "white",
          "width": 2.5
         },
         "mode": "lines",
         "showlegend": false,
         "type": "scatter",
         "x": [
          60,
          60
         ],
         "xaxis": "x4",
         "y": [
          0,
          80
         ],
         "yaxis": "y4"
        },
        {
         "hoverinfo": "none",
         "line": {
          "color": "white",
          "width": 2.5
         },
         "mode": "lines",
         "showlegend": false,
         "type": "scatter",
         "x": [
          0,
          18
         ],
         "xaxis": "x4",
         "y": [
          18,
          18
         ],
         "yaxis": "y4"
        },
        {
         "hoverinfo": "none",
         "line": {
          "color": "white",
          "width": 2.5
         },
         "mode": "lines",
         "showlegend": false,
         "type": "scatter",
         "x": [
          18,
          18
         ],
         "xaxis": "x4",
         "y": [
          18,
          62
         ],
         "yaxis": "y4"
        },
        {
         "hoverinfo": "none",
         "line": {
          "color": "white",
          "width": 2.5
         },
         "mode": "lines",
         "showlegend": false,
         "type": "scatter",
         "x": [
          18,
          0
         ],
         "xaxis": "x4",
         "y": [
          62,
          62
         ],
         "yaxis": "y4"
        },
        {
         "hoverinfo": "none",
         "line": {
          "color": "white",
          "width": 2.5
         },
         "mode": "lines",
         "showlegend": false,
         "type": "scatter",
         "x": [
          0,
          6
         ],
         "xaxis": "x4",
         "y": [
          30,
          30
         ],
         "yaxis": "y4"
        },
        {
         "hoverinfo": "none",
         "line": {
          "color": "white",
          "width": 2.5
         },
         "mode": "lines",
         "showlegend": false,
         "type": "scatter",
         "x": [
          6,
          6
         ],
         "xaxis": "x4",
         "y": [
          30,
          50
         ],
         "yaxis": "y4"
        },
        {
         "hoverinfo": "none",
         "line": {
          "color": "white",
          "width": 2.5
         },
         "mode": "lines",
         "showlegend": false,
         "type": "scatter",
         "x": [
          6,
          0
         ],
         "xaxis": "x4",
         "y": [
          50,
          50
         ],
         "yaxis": "y4"
        },
        {
         "hoverinfo": "none",
         "line": {
          "color": "white",
          "width": 2.5
         },
         "mode": "lines",
         "showlegend": false,
         "type": "scatter",
         "x": [
          120,
          102
         ],
         "xaxis": "x4",
         "y": [
          18,
          18
         ],
         "yaxis": "y4"
        },
        {
         "hoverinfo": "none",
         "line": {
          "color": "white",
          "width": 2.5
         },
         "mode": "lines",
         "showlegend": false,
         "type": "scatter",
         "x": [
          102,
          102
         ],
         "xaxis": "x4",
         "y": [
          18,
          62
         ],
         "yaxis": "y4"
        },
        {
         "hoverinfo": "none",
         "line": {
          "color": "white",
          "width": 2.5
         },
         "mode": "lines",
         "showlegend": false,
         "type": "scatter",
         "x": [
          102,
          120
         ],
         "xaxis": "x4",
         "y": [
          62,
          62
         ],
         "yaxis": "y4"
        },
        {
         "hoverinfo": "none",
         "line": {
          "color": "white",
          "width": 2.5
         },
         "mode": "lines",
         "showlegend": false,
         "type": "scatter",
         "x": [
          120,
          114
         ],
         "xaxis": "x4",
         "y": [
          30,
          30
         ],
         "yaxis": "y4"
        },
        {
         "hoverinfo": "none",
         "line": {
          "color": "white",
          "width": 2.5
         },
         "mode": "lines",
         "showlegend": false,
         "type": "scatter",
         "x": [
          114,
          114
         ],
         "xaxis": "x4",
         "y": [
          30,
          50
         ],
         "yaxis": "y4"
        },
        {
         "hoverinfo": "none",
         "line": {
          "color": "white",
          "width": 2.5
         },
         "mode": "lines",
         "showlegend": false,
         "type": "scatter",
         "x": [
          114,
          120
         ],
         "xaxis": "x4",
         "y": [
          50,
          50
         ],
         "yaxis": "y4"
        },
        {
         "hoverinfo": "none",
         "line": {
          "color": "white",
          "width": 12.5
         },
         "mode": "lines",
         "showlegend": false,
         "type": "scatter",
         "x": [
          0,
          0
         ],
         "xaxis": "x4",
         "y": [
          36,
          44
         ],
         "yaxis": "y4"
        },
        {
         "hoverinfo": "none",
         "line": {
          "color": "white",
          "width": 12.5
         },
         "mode": "lines",
         "showlegend": false,
         "type": "scatter",
         "x": [
          120,
          120
         ],
         "xaxis": "x4",
         "y": [
          36,
          44
         ],
         "yaxis": "y4"
        }
       ],
       "layout": {
        "annotations": [
         {
          "font": {
           "color": "white",
           "size": 15
          },
          "showarrow": false,
          "text": "plot1",
          "x": 0.2375,
          "xanchor": "center",
          "xref": "paper",
          "y": 1,
          "yanchor": "bottom",
          "yref": "paper"
         },
         {
          "font": {
           "color": "white",
           "size": 15
          },
          "showarrow": false,
          "text": "plot2",
          "x": 0.7625,
          "xanchor": "center",
          "xref": "paper",
          "y": 1,
          "yanchor": "bottom",
          "yref": "paper"
         },
         {
          "font": {
           "color": "white",
           "size": 15
          },
          "showarrow": false,
          "text": "plot3",
          "x": 0.2375,
          "xanchor": "center",
          "xref": "paper",
          "y": 0.475,
          "yanchor": "bottom",
          "yref": "paper"
         },
         {
          "font": {
           "color": "white",
           "size": 15
          },
          "showarrow": false,
          "text": "plot4",
          "x": 0.7625,
          "xanchor": "center",
          "xref": "paper",
          "y": 0.475,
          "yanchor": "bottom",
          "yref": "paper"
         }
        ],
        "autosize": true,
        "height": 800,
        "margin": {
         "b": 10,
         "l": 10,
         "r": 10,
         "t": 20
        },
        "paper_bgcolor": "rgb(20,29,38)",
        "plot_bgcolor": "rgb(20,29,38)",
        "shapes": [
         {
          "line": {
           "color": "white",
           "width": 2.5
          },
          "type": "circle",
          "x0": 48,
          "x1": 72,
          "xref": "x",
          "y0": 28,
          "y1": 52,
          "yref": "y"
         },
         {
          "line": {
           "color": "white",
           "width": 2.5
          },
          "type": "circle",
          "x0": 48,
          "x1": 72,
          "xref": "x2",
          "y0": 28,
          "y1": 52,
          "yref": "y2"
         },
         {
          "line": {
           "color": "white",
           "width": 2.5
          },
          "type": "circle",
          "x0": 48,
          "x1": 72,
          "xref": "x3",
          "y0": 28,
          "y1": 52,
          "yref": "y3"
         },
         {
          "line": {
           "color": "white",
           "width": 2.5
          },
          "type": "circle",
          "x0": 48,
          "x1": 72,
          "xref": "x4",
          "y0": 28,
          "y1": 52,
          "yref": "y4"
         }
        ],
        "template": {
         "data": {
          "bar": [
           {
            "error_x": {
             "color": "#2a3f5f"
            },
            "error_y": {
             "color": "#2a3f5f"
            },
            "marker": {
             "line": {
              "color": "#E5ECF6",
              "width": 0.5
             }
            },
            "type": "bar"
           }
          ],
          "barpolar": [
           {
            "marker": {
             "line": {
              "color": "#E5ECF6",
              "width": 0.5
             }
            },
            "type": "barpolar"
           }
          ],
          "carpet": [
           {
            "aaxis": {
             "endlinecolor": "#2a3f5f",
             "gridcolor": "white",
             "linecolor": "white",
             "minorgridcolor": "white",
             "startlinecolor": "#2a3f5f"
            },
            "baxis": {
             "endlinecolor": "#2a3f5f",
             "gridcolor": "white",
             "linecolor": "white",
             "minorgridcolor": "white",
             "startlinecolor": "#2a3f5f"
            },
            "type": "carpet"
           }
          ],
          "choropleth": [
           {
            "colorbar": {
             "outlinewidth": 0,
             "ticks": ""
            },
            "type": "choropleth"
           }
          ],
          "contour": [
           {
            "colorbar": {
             "outlinewidth": 0,
             "ticks": ""
            },
            "colorscale": [
             [
              0,
              "#0d0887"
             ],
             [
              0.1111111111111111,
              "#46039f"
             ],
             [
              0.2222222222222222,
              "#7201a8"
             ],
             [
              0.3333333333333333,
              "#9c179e"
             ],
             [
              0.4444444444444444,
              "#bd3786"
             ],
             [
              0.5555555555555556,
              "#d8576b"
             ],
             [
              0.6666666666666666,
              "#ed7953"
             ],
             [
              0.7777777777777778,
              "#fb9f3a"
             ],
             [
              0.8888888888888888,
              "#fdca26"
             ],
             [
              1,
              "#f0f921"
             ]
            ],
            "type": "contour"
           }
          ],
          "contourcarpet": [
           {
            "colorbar": {
             "outlinewidth": 0,
             "ticks": ""
            },
            "type": "contourcarpet"
           }
          ],
          "heatmap": [
           {
            "colorbar": {
             "outlinewidth": 0,
             "ticks": ""
            },
            "colorscale": [
             [
              0,
              "#0d0887"
             ],
             [
              0.1111111111111111,
              "#46039f"
             ],
             [
              0.2222222222222222,
              "#7201a8"
             ],
             [
              0.3333333333333333,
              "#9c179e"
             ],
             [
              0.4444444444444444,
              "#bd3786"
             ],
             [
              0.5555555555555556,
              "#d8576b"
             ],
             [
              0.6666666666666666,
              "#ed7953"
             ],
             [
              0.7777777777777778,
              "#fb9f3a"
             ],
             [
              0.8888888888888888,
              "#fdca26"
             ],
             [
              1,
              "#f0f921"
             ]
            ],
            "type": "heatmap"
           }
          ],
          "heatmapgl": [
           {
            "colorbar": {
             "outlinewidth": 0,
             "ticks": ""
            },
            "colorscale": [
             [
              0,
              "#0d0887"
             ],
             [
              0.1111111111111111,
              "#46039f"
             ],
             [
              0.2222222222222222,
              "#7201a8"
             ],
             [
              0.3333333333333333,
              "#9c179e"
             ],
             [
              0.4444444444444444,
              "#bd3786"
             ],
             [
              0.5555555555555556,
              "#d8576b"
             ],
             [
              0.6666666666666666,
              "#ed7953"
             ],
             [
              0.7777777777777778,
              "#fb9f3a"
             ],
             [
              0.8888888888888888,
              "#fdca26"
             ],
             [
              1,
              "#f0f921"
             ]
            ],
            "type": "heatmapgl"
           }
          ],
          "histogram": [
           {
            "marker": {
             "colorbar": {
              "outlinewidth": 0,
              "ticks": ""
             }
            },
            "type": "histogram"
           }
          ],
          "histogram2d": [
           {
            "colorbar": {
             "outlinewidth": 0,
             "ticks": ""
            },
            "colorscale": [
             [
              0,
              "#0d0887"
             ],
             [
              0.1111111111111111,
              "#46039f"
             ],
             [
              0.2222222222222222,
              "#7201a8"
             ],
             [
              0.3333333333333333,
              "#9c179e"
             ],
             [
              0.4444444444444444,
              "#bd3786"
             ],
             [
              0.5555555555555556,
              "#d8576b"
             ],
             [
              0.6666666666666666,
              "#ed7953"
             ],
             [
              0.7777777777777778,
              "#fb9f3a"
             ],
             [
              0.8888888888888888,
              "#fdca26"
             ],
             [
              1,
              "#f0f921"
             ]
            ],
            "type": "histogram2d"
           }
          ],
          "histogram2dcontour": [
           {
            "colorbar": {
             "outlinewidth": 0,
             "ticks": ""
            },
            "colorscale": [
             [
              0,
              "#0d0887"
             ],
             [
              0.1111111111111111,
              "#46039f"
             ],
             [
              0.2222222222222222,
              "#7201a8"
             ],
             [
              0.3333333333333333,
              "#9c179e"
             ],
             [
              0.4444444444444444,
              "#bd3786"
             ],
             [
              0.5555555555555556,
              "#d8576b"
             ],
             [
              0.6666666666666666,
              "#ed7953"
             ],
             [
              0.7777777777777778,
              "#fb9f3a"
             ],
             [
              0.8888888888888888,
              "#fdca26"
             ],
             [
              1,
              "#f0f921"
             ]
            ],
            "type": "histogram2dcontour"
           }
          ],
          "mesh3d": [
           {
            "colorbar": {
             "outlinewidth": 0,
             "ticks": ""
            },
            "type": "mesh3d"
           }
          ],
          "parcoords": [
           {
            "line": {
             "colorbar": {
              "outlinewidth": 0,
              "ticks": ""
             }
            },
            "type": "parcoords"
           }
          ],
          "scatter": [
           {
            "marker": {
             "colorbar": {
              "outlinewidth": 0,
              "ticks": ""
             }
            },
            "type": "scatter"
           }
          ],
          "scatter3d": [
           {
            "line": {
             "colorbar": {
              "outlinewidth": 0,
              "ticks": ""
             }
            },
            "marker": {
             "colorbar": {
              "outlinewidth": 0,
              "ticks": ""
             }
            },
            "type": "scatter3d"
           }
          ],
          "scattercarpet": [
           {
            "marker": {
             "colorbar": {
              "outlinewidth": 0,
              "ticks": ""
             }
            },
            "type": "scattercarpet"
           }
          ],
          "scattergeo": [
           {
            "marker": {
             "colorbar": {
              "outlinewidth": 0,
              "ticks": ""
             }
            },
            "type": "scattergeo"
           }
          ],
          "scattergl": [
           {
            "marker": {
             "colorbar": {
              "outlinewidth": 0,
              "ticks": ""
             }
            },
            "type": "scattergl"
           }
          ],
          "scattermapbox": [
           {
            "marker": {
             "colorbar": {
              "outlinewidth": 0,
              "ticks": ""
             }
            },
            "type": "scattermapbox"
           }
          ],
          "scatterpolar": [
           {
            "marker": {
             "colorbar": {
              "outlinewidth": 0,
              "ticks": ""
             }
            },
            "type": "scatterpolar"
           }
          ],
          "scatterpolargl": [
           {
            "marker": {
             "colorbar": {
              "outlinewidth": 0,
              "ticks": ""
             }
            },
            "type": "scatterpolargl"
           }
          ],
          "scatterternary": [
           {
            "marker": {
             "colorbar": {
              "outlinewidth": 0,
              "ticks": ""
             }
            },
            "type": "scatterternary"
           }
          ],
          "surface": [
           {
            "colorbar": {
             "outlinewidth": 0,
             "ticks": ""
            },
            "colorscale": [
             [
              0,
              "#0d0887"
             ],
             [
              0.1111111111111111,
              "#46039f"
             ],
             [
              0.2222222222222222,
              "#7201a8"
             ],
             [
              0.3333333333333333,
              "#9c179e"
             ],
             [
              0.4444444444444444,
              "#bd3786"
             ],
             [
              0.5555555555555556,
              "#d8576b"
             ],
             [
              0.6666666666666666,
              "#ed7953"
             ],
             [
              0.7777777777777778,
              "#fb9f3a"
             ],
             [
              0.8888888888888888,
              "#fdca26"
             ],
             [
              1,
              "#f0f921"
             ]
            ],
            "type": "surface"
           }
          ],
          "table": [
           {
            "cells": {
             "fill": {
              "color": "#EBF0F8"
             },
             "line": {
              "color": "white"
             }
            },
            "header": {
             "fill": {
              "color": "#C8D4E3"
             },
             "line": {
              "color": "white"
             }
            },
            "type": "table"
           }
          ]
         },
         "layout": {
          "annotationdefaults": {
           "arrowcolor": "#2a3f5f",
           "arrowhead": 0,
           "arrowwidth": 1
          },
          "colorscale": {
           "diverging": [
            [
             0,
             "#8e0152"
            ],
            [
             0.1,
             "#c51b7d"
            ],
            [
             0.2,
             "#de77ae"
            ],
            [
             0.3,
             "#f1b6da"
            ],
            [
             0.4,
             "#fde0ef"
            ],
            [
             0.5,
             "#f7f7f7"
            ],
            [
             0.6,
             "#e6f5d0"
            ],
            [
             0.7,
             "#b8e186"
            ],
            [
             0.8,
             "#7fbc41"
            ],
            [
             0.9,
             "#4d9221"
            ],
            [
             1,
             "#276419"
            ]
           ],
           "sequential": [
            [
             0,
             "#0d0887"
            ],
            [
             0.1111111111111111,
             "#46039f"
            ],
            [
             0.2222222222222222,
             "#7201a8"
            ],
            [
             0.3333333333333333,
             "#9c179e"
            ],
            [
             0.4444444444444444,
             "#bd3786"
            ],
            [
             0.5555555555555556,
             "#d8576b"
            ],
            [
             0.6666666666666666,
             "#ed7953"
            ],
            [
             0.7777777777777778,
             "#fb9f3a"
            ],
            [
             0.8888888888888888,
             "#fdca26"
            ],
            [
             1,
             "#f0f921"
            ]
           ],
           "sequentialminus": [
            [
             0,
             "#0d0887"
            ],
            [
             0.1111111111111111,
             "#46039f"
            ],
            [
             0.2222222222222222,
             "#7201a8"
            ],
            [
             0.3333333333333333,
             "#9c179e"
            ],
            [
             0.4444444444444444,
             "#bd3786"
            ],
            [
             0.5555555555555556,
             "#d8576b"
            ],
            [
             0.6666666666666666,
             "#ed7953"
            ],
            [
             0.7777777777777778,
             "#fb9f3a"
            ],
            [
             0.8888888888888888,
             "#fdca26"
            ],
            [
             1,
             "#f0f921"
            ]
           ]
          },
          "colorway": [
           "#636efa",
           "#EF553B",
           "#00cc96",
           "#ab63fa",
           "#FFA15A",
           "#19d3f3",
           "#FF6692",
           "#B6E880",
           "#FF97FF",
           "#FECB52"
          ],
          "font": {
           "color": "#2a3f5f"
          },
          "geo": {
           "bgcolor": "white",
           "lakecolor": "white",
           "landcolor": "#E5ECF6",
           "showlakes": true,
           "showland": true,
           "subunitcolor": "white"
          },
          "hoverlabel": {
           "align": "left"
          },
          "hovermode": "closest",
          "mapbox": {
           "style": "light"
          },
          "paper_bgcolor": "white",
          "plot_bgcolor": "#E5ECF6",
          "polar": {
           "angularaxis": {
            "gridcolor": "white",
            "linecolor": "white",
            "ticks": ""
           },
           "bgcolor": "#E5ECF6",
           "radialaxis": {
            "gridcolor": "white",
            "linecolor": "white",
            "ticks": ""
           }
          },
          "scene": {
           "xaxis": {
            "backgroundcolor": "#E5ECF6",
            "gridcolor": "white",
            "gridwidth": 2,
            "linecolor": "white",
            "showbackground": true,
            "ticks": "",
            "zerolinecolor": "white"
           },
           "yaxis": {
            "backgroundcolor": "#E5ECF6",
            "gridcolor": "white",
            "gridwidth": 2,
            "linecolor": "white",
            "showbackground": true,
            "ticks": "",
            "zerolinecolor": "white"
           },
           "zaxis": {
            "backgroundcolor": "#E5ECF6",
            "gridcolor": "white",
            "gridwidth": 2,
            "linecolor": "white",
            "showbackground": true,
            "ticks": "",
            "zerolinecolor": "white"
           }
          },
          "shapedefaults": {
           "line": {
            "color": "#2a3f5f"
           }
          },
          "ternary": {
           "aaxis": {
            "gridcolor": "white",
            "linecolor": "white",
            "ticks": ""
           },
           "baxis": {
            "gridcolor": "white",
            "linecolor": "white",
            "ticks": ""
           },
           "bgcolor": "#E5ECF6",
           "caxis": {
            "gridcolor": "white",
            "linecolor": "white",
            "ticks": ""
           }
          },
          "title": {
           "x": 0.05
          },
          "xaxis": {
           "automargin": true,
           "gridcolor": "white",
           "linecolor": "white",
           "ticks": "",
           "zerolinecolor": "white",
           "zerolinewidth": 2
          },
          "yaxis": {
           "automargin": true,
           "gridcolor": "white",
           "linecolor": "white",
           "ticks": "",
           "zerolinecolor": "white",
           "zerolinewidth": 2
          }
         }
        },
        "width": 1200,
        "xaxis": {
         "anchor": "y",
         "domain": [
          0,
          0.475
         ],
         "range": [
          -1,
          121
         ],
         "type": "linear",
         "visible": false
        },
        "xaxis2": {
         "anchor": "y2",
         "domain": [
          0.525,
          1
         ],
         "range": [
          -1,
          121
         ],
         "type": "linear",
         "visible": false
        },
        "xaxis3": {
         "anchor": "y3",
         "domain": [
          0,
          0.475
         ],
         "range": [
          -1,
          121
         ],
         "type": "linear",
         "visible": false
        },
        "xaxis4": {
         "anchor": "y4",
         "domain": [
          0.525,
          1
         ],
         "range": [
          -1,
          121
         ],
         "type": "linear",
         "visible": false
        },
        "yaxis": {
         "anchor": "x",
         "domain": [
          0.525,
          1
         ],
         "range": [
          -1,
          81
         ],
         "type": "linear",
         "visible": false
        },
        "yaxis2": {
         "anchor": "x2",
         "domain": [
          0.525,
          1
         ],
         "range": [
          -1,
          81
         ],
         "type": "linear",
         "visible": false
        },
        "yaxis3": {
         "anchor": "x3",
         "domain": [
          0,
          0.475
         ],
         "range": [
          -1,
          81
         ],
         "type": "linear",
         "visible": false
        },
        "yaxis4": {
         "anchor": "x4",
         "domain": [
          0,
          0.475
         ],
         "range": [
          -1,
          81
         ],
         "type": "linear",
         "visible": false
        }
       }
      },
      "image/png": "[encoded data removed]",
      "text/html": [
       "<div>\n",
       "        \n",
       "        \n",
       "            <div id=\"d5c525a8-7a5a-462a-8594-ac525ad4d87c\" class=\"plotly-graph-div\" style=\"height:800px; width:1200px;\"></div>\n",
       "            <script type=\"text/javascript\">\n",
       "                require([\"plotly\"], function(Plotly) {\n",
       "                    window.PLOTLYENV=window.PLOTLYENV || {};\n",
       "                    \n",
       "                if (document.getElementById(\"d5c525a8-7a5a-462a-8594-ac525ad4d87c\")) {\n",
       "                    Plotly.newPlot(\n",
       "                        'd5c525a8-7a5a-462a-8594-ac525ad4d87c',\n",
       "                        [{\"hoverinfo\": \"none\", \"line\": {\"color\": \"white\", \"width\": 2.5}, \"mode\": \"lines\", \"showlegend\": false, \"type\": \"scatter\", \"x\": [0, 120], \"xaxis\": \"x\", \"y\": [0, 0], \"yaxis\": \"y\"}, {\"hoverinfo\": \"none\", \"line\": {\"color\": \"white\", \"width\": 2.5}, \"mode\": \"lines\", \"showlegend\": false, \"type\": \"scatter\", \"x\": [120, 120], \"xaxis\": \"x\", \"y\": [0, 80], \"yaxis\": \"y\"}, {\"hoverinfo\": \"none\", \"line\": {\"color\": \"white\", \"width\": 2.5}, \"mode\": \"lines\", \"showlegend\": false, \"type\": \"scatter\", \"x\": [120, 0], \"xaxis\": \"x\", \"y\": [80, 80], \"yaxis\": \"y\"}, {\"hoverinfo\": \"none\", \"line\": {\"color\": \"white\", \"width\": 2.5}, \"mode\": \"lines\", \"showlegend\": false, \"type\": \"scatter\", \"x\": [0, 0], \"xaxis\": \"x\", \"y\": [80, 0], \"yaxis\": \"y\"}, {\"hoverinfo\": \"none\", \"line\": {\"color\": \"white\", \"width\": 2.5}, \"mode\": \"lines\", \"showlegend\": false, \"type\": \"scatter\", \"x\": [60, 60], \"xaxis\": \"x\", \"y\": [0, 80], \"yaxis\": \"y\"}, {\"hoverinfo\": \"none\", \"line\": {\"color\": \"white\", \"width\": 2.5}, \"mode\": \"lines\", \"showlegend\": false, \"type\": \"scatter\", \"x\": [0, 18], \"xaxis\": \"x\", \"y\": [18, 18], \"yaxis\": \"y\"}, {\"hoverinfo\": \"none\", \"line\": {\"color\": \"white\", \"width\": 2.5}, \"mode\": \"lines\", \"showlegend\": false, \"type\": \"scatter\", \"x\": [18, 18], \"xaxis\": \"x\", \"y\": [18, 62], \"yaxis\": \"y\"}, {\"hoverinfo\": \"none\", \"line\": {\"color\": \"white\", \"width\": 2.5}, \"mode\": \"lines\", \"showlegend\": false, \"type\": \"scatter\", \"x\": [18, 0], \"xaxis\": \"x\", \"y\": [62, 62], \"yaxis\": \"y\"}, {\"hoverinfo\": \"none\", \"line\": {\"color\": \"white\", \"width\": 2.5}, \"mode\": \"lines\", \"showlegend\": false, \"type\": \"scatter\", \"x\": [0, 6], \"xaxis\": \"x\", \"y\": [30, 30], \"yaxis\": \"y\"}, {\"hoverinfo\": \"none\", \"line\": {\"color\": \"white\", \"width\": 2.5}, \"mode\": \"lines\", \"showlegend\": false, \"type\": \"scatter\", \"x\": [6, 6], \"xaxis\": \"x\", \"y\": [30, 50], \"yaxis\": \"y\"}, {\"hoverinfo\": \"none\", \"line\": {\"color\": \"white\", \"width\": 2.5}, \"mode\": \"lines\", \"showlegend\": false, \"type\": \"scatter\", \"x\": [6, 0], \"xaxis\": \"x\", \"y\": [50, 50], \"yaxis\": \"y\"}, {\"hoverinfo\": \"none\", \"line\": {\"color\": \"white\", \"width\": 2.5}, \"mode\": \"lines\", \"showlegend\": false, \"type\": \"scatter\", \"x\": [120, 102], \"xaxis\": \"x\", \"y\": [18, 18], \"yaxis\": \"y\"}, {\"hoverinfo\": \"none\", \"line\": {\"color\": \"white\", \"width\": 2.5}, \"mode\": \"lines\", \"showlegend\": false, \"type\": \"scatter\", \"x\": [102, 102], \"xaxis\": \"x\", \"y\": [18, 62], \"yaxis\": \"y\"}, {\"hoverinfo\": \"none\", \"line\": {\"color\": \"white\", \"width\": 2.5}, \"mode\": \"lines\", \"showlegend\": false, \"type\": \"scatter\", \"x\": [102, 120], \"xaxis\": \"x\", \"y\": [62, 62], \"yaxis\": \"y\"}, {\"hoverinfo\": \"none\", \"line\": {\"color\": \"white\", \"width\": 2.5}, \"mode\": \"lines\", \"showlegend\": false, \"type\": \"scatter\", \"x\": [120, 114], \"xaxis\": \"x\", \"y\": [30, 30], \"yaxis\": \"y\"}, {\"hoverinfo\": \"none\", \"line\": {\"color\": \"white\", \"width\": 2.5}, \"mode\": \"lines\", \"showlegend\": false, \"type\": \"scatter\", \"x\": [114, 114], \"xaxis\": \"x\", \"y\": [30, 50], \"yaxis\": \"y\"}, {\"hoverinfo\": \"none\", \"line\": {\"color\": \"white\", \"width\": 2.5}, \"mode\": \"lines\", \"showlegend\": false, \"type\": \"scatter\", \"x\": [114, 120], \"xaxis\": \"x\", \"y\": [50, 50], \"yaxis\": \"y\"}, {\"hoverinfo\": \"none\", \"line\": {\"color\": \"white\", \"width\": 12.5}, \"mode\": \"lines\", \"showlegend\": false, \"type\": \"scatter\", \"x\": [0, 0], \"xaxis\": \"x\", \"y\": [36, 44], \"yaxis\": \"y\"}, {\"hoverinfo\": \"none\", \"line\": {\"color\": \"white\", \"width\": 12.5}, \"mode\": \"lines\", \"showlegend\": false, \"type\": \"scatter\", \"x\": [120, 120], \"xaxis\": \"x\", \"y\": [36, 44], \"yaxis\": \"y\"}, {\"hoverinfo\": \"none\", \"line\": {\"color\": \"white\", \"width\": 2.5}, \"mode\": \"lines\", \"showlegend\": false, \"type\": \"scatter\", \"x\": [0, 120], \"xaxis\": \"x2\", \"y\": [0, 0], \"yaxis\": \"y2\"}, {\"hoverinfo\": \"none\", \"line\": {\"color\": \"white\", \"width\": 2.5}, \"mode\": \"lines\", \"showlegend\": false, \"type\": \"scatter\", \"x\": [120, 120], \"xaxis\": \"x2\", \"y\": [0, 80], \"yaxis\": \"y2\"}, {\"hoverinfo\": \"none\", \"line\": {\"color\": \"white\", \"width\": 2.5}, \"mode\": \"lines\", \"showlegend\": false, \"type\": \"scatter\", \"x\": [120, 0], \"xaxis\": \"x2\", \"y\": [80, 80], \"yaxis\": \"y2\"}, {\"hoverinfo\": \"none\", \"line\": {\"color\": \"white\", \"width\": 2.5}, \"mode\": \"lines\", \"showlegend\": false, \"type\": \"scatter\", \"x\": [0, 0], \"xaxis\": \"x2\", \"y\": [80, 0], \"yaxis\": \"y2\"}, {\"hoverinfo\": \"none\", \"line\": {\"color\": \"white\", \"width\": 2.5}, \"mode\": \"lines\", \"showlegend\": false, \"type\": \"scatter\", \"x\": [60, 60], \"xaxis\": \"x2\", \"y\": [0, 80], \"yaxis\": \"y2\"}, {\"hoverinfo\": \"none\", \"line\": {\"color\": \"white\", \"width\": 2.5}, \"mode\": \"lines\", \"showlegend\": false, \"type\": \"scatter\", \"x\": [0, 18], \"xaxis\": \"x2\", \"y\": [18, 18], \"yaxis\": \"y2\"}, {\"hoverinfo\": \"none\", \"line\": {\"color\": \"white\", \"width\": 2.5}, \"mode\": \"lines\", \"showlegend\": false, \"type\": \"scatter\", \"x\": [18, 18], \"xaxis\": \"x2\", \"y\": [18, 62], \"yaxis\": \"y2\"}, {\"hoverinfo\": \"none\", \"line\": {\"color\": \"white\", \"width\": 2.5}, \"mode\": \"lines\", \"showlegend\": false, \"type\": \"scatter\", \"x\": [18, 0], \"xaxis\": \"x2\", \"y\": [62, 62], \"yaxis\": \"y2\"}, {\"hoverinfo\": \"none\", \"line\": {\"color\": \"white\", \"width\": 2.5}, \"mode\": \"lines\", \"showlegend\": false, \"type\": \"scatter\", \"x\": [0, 6], \"xaxis\": \"x2\", \"y\": [30, 30], \"yaxis\": \"y2\"}, {\"hoverinfo\": \"none\", \"line\": {\"color\": \"white\", \"width\": 2.5}, \"mode\": \"lines\", \"showlegend\": false, \"type\": \"scatter\", \"x\": [6, 6], \"xaxis\": \"x2\", \"y\": [30, 50], \"yaxis\": \"y2\"}, {\"hoverinfo\": \"none\", \"line\": {\"color\": \"white\", \"width\": 2.5}, \"mode\": \"lines\", \"showlegend\": false, \"type\": \"scatter\", \"x\": [6, 0], \"xaxis\": \"x2\", \"y\": [50, 50], \"yaxis\": \"y2\"}, {\"hoverinfo\": \"none\", \"line\": {\"color\": \"white\", \"width\": 2.5}, \"mode\": \"lines\", \"showlegend\": false, \"type\": \"scatter\", \"x\": [120, 102], \"xaxis\": \"x2\", \"y\": [18, 18], \"yaxis\": \"y2\"}, {\"hoverinfo\": \"none\", \"line\": {\"color\": \"white\", \"width\": 2.5}, \"mode\": \"lines\", \"showlegend\": false, \"type\": \"scatter\", \"x\": [102, 102], \"xaxis\": \"x2\", \"y\": [18, 62], \"yaxis\": \"y2\"}, {\"hoverinfo\": \"none\", \"line\": {\"color\": \"white\", \"width\": 2.5}, \"mode\": \"lines\", \"showlegend\": false, \"type\": \"scatter\", \"x\": [102, 120], \"xaxis\": \"x2\", \"y\": [62, 62], \"yaxis\": \"y2\"}, {\"hoverinfo\": \"none\", \"line\": {\"color\": \"white\", \"width\": 2.5}, \"mode\": \"lines\", \"showlegend\": false, \"type\": \"scatter\", \"x\": [120, 114], \"xaxis\": \"x2\", \"y\": [30, 30], \"yaxis\": \"y2\"}, {\"hoverinfo\": \"none\", \"line\": {\"color\": \"white\", \"width\": 2.5}, \"mode\": \"lines\", \"showlegend\": false, \"type\": \"scatter\", \"x\": [114, 114], \"xaxis\": \"x2\", \"y\": [30, 50], \"yaxis\": \"y2\"}, {\"hoverinfo\": \"none\", \"line\": {\"color\": \"white\", \"width\": 2.5}, \"mode\": \"lines\", \"showlegend\": false, \"type\": \"scatter\", \"x\": [114, 120], \"xaxis\": \"x2\", \"y\": [50, 50], \"yaxis\": \"y2\"}, {\"hoverinfo\": \"none\", \"line\": {\"color\": \"white\", \"width\": 12.5}, \"mode\": \"lines\", \"showlegend\": false, \"type\": \"scatter\", \"x\": [0, 0], \"xaxis\": \"x2\", \"y\": [36, 44], \"yaxis\": \"y2\"}, {\"hoverinfo\": \"none\", \"line\": {\"color\": \"white\", \"width\": 12.5}, \"mode\": \"lines\", \"showlegend\": false, \"type\": \"scatter\", \"x\": [120, 120], \"xaxis\": \"x2\", \"y\": [36, 44], \"yaxis\": \"y2\"}, {\"hoverinfo\": \"none\", \"line\": {\"color\": \"white\", \"width\": 2.5}, \"mode\": \"lines\", \"showlegend\": false, \"type\": \"scatter\", \"x\": [0, 120], \"xaxis\": \"x3\", \"y\": [0, 0], \"yaxis\": \"y3\"}, {\"hoverinfo\": \"none\", \"line\": {\"color\": \"white\", \"width\": 2.5}, \"mode\": \"lines\", \"showlegend\": false, \"type\": \"scatter\", \"x\": [120, 120], \"xaxis\": \"x3\", \"y\": [0, 80], \"yaxis\": \"y3\"}, {\"hoverinfo\": \"none\", \"line\": {\"color\": \"white\", \"width\": 2.5}, \"mode\": \"lines\", \"showlegend\": false, \"type\": \"scatter\", \"x\": [120, 0], \"xaxis\": \"x3\", \"y\": [80, 80], \"yaxis\": \"y3\"}, {\"hoverinfo\": \"none\", \"line\": {\"color\": \"white\", \"width\": 2.5}, \"mode\": \"lines\", \"showlegend\": false, \"type\": \"scatter\", \"x\": [0, 0], \"xaxis\": \"x3\", \"y\": [80, 0], \"yaxis\": \"y3\"}, {\"hoverinfo\": \"none\", \"line\": {\"color\": \"white\", \"width\": 2.5}, \"mode\": \"lines\", \"showlegend\": false, \"type\": \"scatter\", \"x\": [60, 60], \"xaxis\": \"x3\", \"y\": [0, 80], \"yaxis\": \"y3\"}, {\"hoverinfo\": \"none\", \"line\": {\"color\": \"white\", \"width\": 2.5}, \"mode\": \"lines\", \"showlegend\": false, \"type\": \"scatter\", \"x\": [0, 18], \"xaxis\": \"x3\", \"y\": [18, 18], \"yaxis\": \"y3\"}, {\"hoverinfo\": \"none\", \"line\": {\"color\": \"white\", \"width\": 2.5}, \"mode\": \"lines\", \"showlegend\": false, \"type\": \"scatter\", \"x\": [18, 18], \"xaxis\": \"x3\", \"y\": [18, 62], \"yaxis\": \"y3\"}, {\"hoverinfo\": \"none\", \"line\": {\"color\": \"white\", \"width\": 2.5}, \"mode\": \"lines\", \"showlegend\": false, \"type\": \"scatter\", \"x\": [18, 0], \"xaxis\": \"x3\", \"y\": [62, 62], \"yaxis\": \"y3\"}, {\"hoverinfo\": \"none\", \"line\": {\"color\": \"white\", \"width\": 2.5}, \"mode\": \"lines\", \"showlegend\": false, \"type\": \"scatter\", \"x\": [0, 6], \"xaxis\": \"x3\", \"y\": [30, 30], \"yaxis\": \"y3\"}, {\"hoverinfo\": \"none\", \"line\": {\"color\": \"white\", \"width\": 2.5}, \"mode\": \"lines\", \"showlegend\": false, \"type\": \"scatter\", \"x\": [6, 6], \"xaxis\": \"x3\", \"y\": [30, 50], \"yaxis\": \"y3\"}, {\"hoverinfo\": \"none\", \"line\": {\"color\": \"white\", \"width\": 2.5}, \"mode\": \"lines\", \"showlegend\": false, \"type\": \"scatter\", \"x\": [6, 0], \"xaxis\": \"x3\", \"y\": [50, 50], \"yaxis\": \"y3\"}, {\"hoverinfo\": \"none\", \"line\": {\"color\": \"white\", \"width\": 2.5}, \"mode\": \"lines\", \"showlegend\": false, \"type\": \"scatter\", \"x\": [120, 102], \"xaxis\": \"x3\", \"y\": [18, 18], \"yaxis\": \"y3\"}, {\"hoverinfo\": \"none\", \"line\": {\"color\": \"white\", \"width\": 2.5}, \"mode\": \"lines\", \"showlegend\": false, \"type\": \"scatter\", \"x\": [102, 102], \"xaxis\": \"x3\", \"y\": [18, 62], \"yaxis\": \"y3\"}, {\"hoverinfo\": \"none\", \"line\": {\"color\": \"white\", \"width\": 2.5}, \"mode\": \"lines\", \"showlegend\": false, \"type\": \"scatter\", \"x\": [102, 120], \"xaxis\": \"x3\", \"y\": [62, 62], \"yaxis\": \"y3\"}, {\"hoverinfo\": \"none\", \"line\": {\"color\": \"white\", \"width\": 2.5}, \"mode\": \"lines\", \"showlegend\": false, \"type\": \"scatter\", \"x\": [120, 114], \"xaxis\": \"x3\", \"y\": [30, 30], \"yaxis\": \"y3\"}, {\"hoverinfo\": \"none\", \"line\": {\"color\": \"white\", \"width\": 2.5}, \"mode\": \"lines\", \"showlegend\": false, \"type\": \"scatter\", \"x\": [114, 114], \"xaxis\": \"x3\", \"y\": [30, 50], \"yaxis\": \"y3\"}, {\"hoverinfo\": \"none\", \"line\": {\"color\": \"white\", \"width\": 2.5}, \"mode\": \"lines\", \"showlegend\": false, \"type\": \"scatter\", \"x\": [114, 120], \"xaxis\": \"x3\", \"y\": [50, 50], \"yaxis\": \"y3\"}, {\"hoverinfo\": \"none\", \"line\": {\"color\": \"white\", \"width\": 12.5}, \"mode\": \"lines\", \"showlegend\": false, \"type\": \"scatter\", \"x\": [0, 0], \"xaxis\": \"x3\", \"y\": [36, 44], \"yaxis\": \"y3\"}, {\"hoverinfo\": \"none\", \"line\": {\"color\": \"white\", \"width\": 12.5}, \"mode\": \"lines\", \"showlegend\": false, \"type\": \"scatter\", \"x\": [120, 120], \"xaxis\": \"x3\", \"y\": [36, 44], \"yaxis\": \"y3\"}, {\"hoverinfo\": \"none\", \"line\": {\"color\": \"white\", \"width\": 2.5}, \"mode\": \"lines\", \"showlegend\": false, \"type\": \"scatter\", \"x\": [0, 120], \"xaxis\": \"x4\", \"y\": [0, 0], \"yaxis\": \"y4\"}, {\"hoverinfo\": \"none\", \"line\": {\"color\": \"white\", \"width\": 2.5}, \"mode\": \"lines\", \"showlegend\": false, \"type\": \"scatter\", \"x\": [120, 120], \"xaxis\": \"x4\", \"y\": [0, 80], \"yaxis\": \"y4\"}, {\"hoverinfo\": \"none\", \"line\": {\"color\": \"white\", \"width\": 2.5}, \"mode\": \"lines\", \"showlegend\": false, \"type\": \"scatter\", \"x\": [120, 0], \"xaxis\": \"x4\", \"y\": [80, 80], \"yaxis\": \"y4\"}, {\"hoverinfo\": \"none\", \"line\": {\"color\": \"white\", \"width\": 2.5}, \"mode\": \"lines\", \"showlegend\": false, \"type\": \"scatter\", \"x\": [0, 0], \"xaxis\": \"x4\", \"y\": [80, 0], \"yaxis\": \"y4\"}, {\"hoverinfo\": \"none\", \"line\": {\"color\": \"white\", \"width\": 2.5}, \"mode\": \"lines\", \"showlegend\": false, \"type\": \"scatter\", \"x\": [60, 60], \"xaxis\": \"x4\", \"y\": [0, 80], \"yaxis\": \"y4\"}, {\"hoverinfo\": \"none\", \"line\": {\"color\": \"white\", \"width\": 2.5}, \"mode\": \"lines\", \"showlegend\": false, \"type\": \"scatter\", \"x\": [0, 18], \"xaxis\": \"x4\", \"y\": [18, 18], \"yaxis\": \"y4\"}, {\"hoverinfo\": \"none\", \"line\": {\"color\": \"white\", \"width\": 2.5}, \"mode\": \"lines\", \"showlegend\": false, \"type\": \"scatter\", \"x\": [18, 18], \"xaxis\": \"x4\", \"y\": [18, 62], \"yaxis\": \"y4\"}, {\"hoverinfo\": \"none\", \"line\": {\"color\": \"white\", \"width\": 2.5}, \"mode\": \"lines\", \"showlegend\": false, \"type\": \"scatter\", \"x\": [18, 0], \"xaxis\": \"x4\", \"y\": [62, 62], \"yaxis\": \"y4\"}, {\"hoverinfo\": \"none\", \"line\": {\"color\": \"white\", \"width\": 2.5}, \"mode\": \"lines\", \"showlegend\": false, \"type\": \"scatter\", \"x\": [0, 6], \"xaxis\": \"x4\", \"y\": [30, 30], \"yaxis\": \"y4\"}, {\"hoverinfo\": \"none\", \"line\": {\"color\": \"white\", \"width\": 2.5}, \"mode\": \"lines\", \"showlegend\": false, \"type\": \"scatter\", \"x\": [6, 6], \"xaxis\": \"x4\", \"y\": [30, 50], \"yaxis\": \"y4\"}, {\"hoverinfo\": \"none\", \"line\": {\"color\": \"white\", \"width\": 2.5}, \"mode\": \"lines\", \"showlegend\": false, \"type\": \"scatter\", \"x\": [6, 0], \"xaxis\": \"x4\", \"y\": [50, 50], \"yaxis\": \"y4\"}, {\"hoverinfo\": \"none\", \"line\": {\"color\": \"white\", \"width\": 2.5}, \"mode\": \"lines\", \"showlegend\": false, \"type\": \"scatter\", \"x\": [120, 102], \"xaxis\": \"x4\", \"y\": [18, 18], \"yaxis\": \"y4\"}, {\"hoverinfo\": \"none\", \"line\": {\"color\": \"white\", \"width\": 2.5}, \"mode\": \"lines\", \"showlegend\": false, \"type\": \"scatter\", \"x\": [102, 102], \"xaxis\": \"x4\", \"y\": [18, 62], \"yaxis\": \"y4\"}, {\"hoverinfo\": \"none\", \"line\": {\"color\": \"white\", \"width\": 2.5}, \"mode\": \"lines\", \"showlegend\": false, \"type\": \"scatter\", \"x\": [102, 120], \"xaxis\": \"x4\", \"y\": [62, 62], \"yaxis\": \"y4\"}, {\"hoverinfo\": \"none\", \"line\": {\"color\": \"white\", \"width\": 2.5}, \"mode\": \"lines\", \"showlegend\": false, \"type\": \"scatter\", \"x\": [120, 114], \"xaxis\": \"x4\", \"y\": [30, 30], \"yaxis\": \"y4\"}, {\"hoverinfo\": \"none\", \"line\": {\"color\": \"white\", \"width\": 2.5}, \"mode\": \"lines\", \"showlegend\": false, \"type\": \"scatter\", \"x\": [114, 114], \"xaxis\": \"x4\", \"y\": [30, 50], \"yaxis\": \"y4\"}, {\"hoverinfo\": \"none\", \"line\": {\"color\": \"white\", \"width\": 2.5}, \"mode\": \"lines\", \"showlegend\": false, \"type\": \"scatter\", \"x\": [114, 120], \"xaxis\": \"x4\", \"y\": [50, 50], \"yaxis\": \"y4\"}, {\"hoverinfo\": \"none\", \"line\": {\"color\": \"white\", \"width\": 12.5}, \"mode\": \"lines\", \"showlegend\": false, \"type\": \"scatter\", \"x\": [0, 0], \"xaxis\": \"x4\", \"y\": [36, 44], \"yaxis\": \"y4\"}, {\"hoverinfo\": \"none\", \"line\": {\"color\": \"white\", \"width\": 12.5}, \"mode\": \"lines\", \"showlegend\": false, \"type\": \"scatter\", \"x\": [120, 120], \"xaxis\": \"x4\", \"y\": [36, 44], \"yaxis\": \"y4\"}],\n",
       "                        {\"annotations\": [{\"font\": {\"color\": \"white\", \"size\": 15}, \"showarrow\": false, \"text\": \"plot1\", \"x\": 0.2375, \"xanchor\": \"center\", \"xref\": \"paper\", \"y\": 1.0, \"yanchor\": \"bottom\", \"yref\": \"paper\"}, {\"font\": {\"color\": \"white\", \"size\": 15}, \"showarrow\": false, \"text\": \"plot2\", \"x\": 0.7625, \"xanchor\": \"center\", \"xref\": \"paper\", \"y\": 1.0, \"yanchor\": \"bottom\", \"yref\": \"paper\"}, {\"font\": {\"color\": \"white\", \"size\": 15}, \"showarrow\": false, \"text\": \"plot3\", \"x\": 0.2375, \"xanchor\": \"center\", \"xref\": \"paper\", \"y\": 0.475, \"yanchor\": \"bottom\", \"yref\": \"paper\"}, {\"font\": {\"color\": \"white\", \"size\": 15}, \"showarrow\": false, \"text\": \"plot4\", \"x\": 0.7625, \"xanchor\": \"center\", \"xref\": \"paper\", \"y\": 0.475, \"yanchor\": \"bottom\", \"yref\": \"paper\"}], \"autosize\": true, \"height\": 800, \"margin\": {\"b\": 10, \"l\": 10, \"r\": 10, \"t\": 20}, \"paper_bgcolor\": \"rgb(20,29,38)\", \"plot_bgcolor\": \"rgb(20,29,38)\", \"shapes\": [{\"line\": {\"color\": \"white\", \"width\": 2.5}, \"type\": \"circle\", \"x0\": 48, \"x1\": 72, \"xref\": \"x\", \"y0\": 28, \"y1\": 52, \"yref\": \"y\"}, {\"line\": {\"color\": \"white\", \"width\": 2.5}, \"type\": \"circle\", \"x0\": 48, \"x1\": 72, \"xref\": \"x2\", \"y0\": 28, \"y1\": 52, \"yref\": \"y2\"}, {\"line\": {\"color\": \"white\", \"width\": 2.5}, \"type\": \"circle\", \"x0\": 48, \"x1\": 72, \"xref\": \"x3\", \"y0\": 28, \"y1\": 52, \"yref\": \"y3\"}, {\"line\": {\"color\": \"white\", \"width\": 2.5}, \"type\": \"circle\", \"x0\": 48, \"x1\": 72, \"xref\": \"x4\", \"y0\": 28, \"y1\": 52, \"yref\": \"y4\"}], \"template\": {\"data\": {\"bar\": [{\"error_x\": {\"color\": \"#2a3f5f\"}, \"error_y\": {\"color\": \"#2a3f5f\"}, \"marker\": {\"line\": {\"color\": \"#E5ECF6\", \"width\": 0.5}}, \"type\": \"bar\"}], \"barpolar\": [{\"marker\": {\"line\": {\"color\": \"#E5ECF6\", \"width\": 0.5}}, \"type\": \"barpolar\"}], \"carpet\": [{\"aaxis\": {\"endlinecolor\": \"#2a3f5f\", \"gridcolor\": \"white\", \"linecolor\": \"white\", \"minorgridcolor\": \"white\", \"startlinecolor\": \"#2a3f5f\"}, \"baxis\": {\"endlinecolor\": \"#2a3f5f\", \"gridcolor\": \"white\", \"linecolor\": \"white\", \"minorgridcolor\": \"white\", \"startlinecolor\": \"#2a3f5f\"}, \"type\": \"carpet\"}], \"choropleth\": [{\"colorbar\": {\"outlinewidth\": 0, \"ticks\": \"\"}, \"type\": \"choropleth\"}], \"contour\": [{\"colorbar\": {\"outlinewidth\": 0, \"ticks\": \"\"}, \"colorscale\": [[0.0, \"#0d0887\"], [0.1111111111111111, \"#46039f\"], [0.2222222222222222, \"#7201a8\"], [0.3333333333333333, \"#9c179e\"], [0.4444444444444444, \"#bd3786\"], [0.5555555555555556, \"#d8576b\"], [0.6666666666666666, \"#ed7953\"], [0.7777777777777778, \"#fb9f3a\"], [0.8888888888888888, \"#fdca26\"], [1.0, \"#f0f921\"]], \"type\": \"contour\"}], \"contourcarpet\": [{\"colorbar\": {\"outlinewidth\": 0, \"ticks\": \"\"}, \"type\": \"contourcarpet\"}], \"heatmap\": [{\"colorbar\": {\"outlinewidth\": 0, \"ticks\": \"\"}, \"colorscale\": [[0.0, \"#0d0887\"], [0.1111111111111111, \"#46039f\"], [0.2222222222222222, \"#7201a8\"], [0.3333333333333333, \"#9c179e\"], [0.4444444444444444, \"#bd3786\"], [0.5555555555555556, \"#d8576b\"], [0.6666666666666666, \"#ed7953\"], [0.7777777777777778, \"#fb9f3a\"], [0.8888888888888888, \"#fdca26\"], [1.0, \"#f0f921\"]], \"type\": \"heatmap\"}], \"heatmapgl\": [{\"colorbar\": {\"outlinewidth\": 0, \"ticks\": \"\"}, \"colorscale\": [[0.0, \"#0d0887\"], [0.1111111111111111, \"#46039f\"], [0.2222222222222222, \"#7201a8\"], [0.3333333333333333, \"#9c179e\"], [0.4444444444444444, \"#bd3786\"], [0.5555555555555556, \"#d8576b\"], [0.6666666666666666, \"#ed7953\"], [0.7777777777777778, \"#fb9f3a\"], [0.8888888888888888, \"#fdca26\"], [1.0, \"#f0f921\"]], \"type\": \"heatmapgl\"}], \"histogram\": [{\"marker\": {\"colorbar\": {\"outlinewidth\": 0, \"ticks\": \"\"}}, \"type\": \"histogram\"}], \"histogram2d\": [{\"colorbar\": {\"outlinewidth\": 0, \"ticks\": \"\"}, \"colorscale\": [[0.0, \"#0d0887\"], [0.1111111111111111, \"#46039f\"], [0.2222222222222222, \"#7201a8\"], [0.3333333333333333, \"#9c179e\"], [0.4444444444444444, \"#bd3786\"], [0.5555555555555556, \"#d8576b\"], [0.6666666666666666, \"#ed7953\"], [0.7777777777777778, \"#fb9f3a\"], [0.8888888888888888, \"#fdca26\"], [1.0, \"#f0f921\"]], \"type\": \"histogram2d\"}], \"histogram2dcontour\": [{\"colorbar\": {\"outlinewidth\": 0, \"ticks\": \"\"}, \"colorscale\": [[0.0, \"#0d0887\"], [0.1111111111111111, \"#46039f\"], [0.2222222222222222, \"#7201a8\"], [0.3333333333333333, \"#9c179e\"], [0.4444444444444444, \"#bd3786\"], [0.5555555555555556, \"#d8576b\"], [0.6666666666666666, \"#ed7953\"], [0.7777777777777778, \"#fb9f3a\"], [0.8888888888888888, \"#fdca26\"], [1.0, \"#f0f921\"]], \"type\": \"histogram2dcontour\"}], \"mesh3d\": [{\"colorbar\": {\"outlinewidth\": 0, \"ticks\": \"\"}, \"type\": \"mesh3d\"}], \"parcoords\": [{\"line\": {\"colorbar\": {\"outlinewidth\": 0, \"ticks\": \"\"}}, \"type\": \"parcoords\"}], \"scatter\": [{\"marker\": {\"colorbar\": {\"outlinewidth\": 0, \"ticks\": \"\"}}, \"type\": \"scatter\"}], \"scatter3d\": [{\"line\": {\"colorbar\": {\"outlinewidth\": 0, \"ticks\": \"\"}}, \"marker\": {\"colorbar\": {\"outlinewidth\": 0, \"ticks\": \"\"}}, \"type\": \"scatter3d\"}], \"scattercarpet\": [{\"marker\": {\"colorbar\": {\"outlinewidth\": 0, \"ticks\": \"\"}}, \"type\": \"scattercarpet\"}], \"scattergeo\": [{\"marker\": {\"colorbar\": {\"outlinewidth\": 0, \"ticks\": \"\"}}, \"type\": \"scattergeo\"}], \"scattergl\": [{\"marker\": {\"colorbar\": {\"outlinewidth\": 0, \"ticks\": \"\"}}, \"type\": \"scattergl\"}], \"scattermapbox\": [{\"marker\": {\"colorbar\": {\"outlinewidth\": 0, \"ticks\": \"\"}}, \"type\": \"scattermapbox\"}], \"scatterpolar\": [{\"marker\": {\"colorbar\": {\"outlinewidth\": 0, \"ticks\": \"\"}}, \"type\": \"scatterpolar\"}], \"scatterpolargl\": [{\"marker\": {\"colorbar\": {\"outlinewidth\": 0, \"ticks\": \"\"}}, \"type\": \"scatterpolargl\"}], \"scatterternary\": [{\"marker\": {\"colorbar\": {\"outlinewidth\": 0, \"ticks\": \"\"}}, \"type\": \"scatterternary\"}], \"surface\": [{\"colorbar\": {\"outlinewidth\": 0, \"ticks\": \"\"}, \"colorscale\": [[0.0, \"#0d0887\"], [0.1111111111111111, \"#46039f\"], [0.2222222222222222, \"#7201a8\"], [0.3333333333333333, \"#9c179e\"], [0.4444444444444444, \"#bd3786\"], [0.5555555555555556, \"#d8576b\"], [0.6666666666666666, \"#ed7953\"], [0.7777777777777778, \"#fb9f3a\"], [0.8888888888888888, \"#fdca26\"], [1.0, \"#f0f921\"]], \"type\": \"surface\"}], \"table\": [{\"cells\": {\"fill\": {\"color\": \"#EBF0F8\"}, \"line\": {\"color\": \"white\"}}, \"header\": {\"fill\": {\"color\": \"#C8D4E3\"}, \"line\": {\"color\": \"white\"}}, \"type\": \"table\"}]}, \"layout\": {\"annotationdefaults\": {\"arrowcolor\": \"#2a3f5f\", \"arrowhead\": 0, \"arrowwidth\": 1}, \"colorscale\": {\"diverging\": [[0, \"#8e0152\"], [0.1, \"#c51b7d\"], [0.2, \"#de77ae\"], [0.3, \"#f1b6da\"], [0.4, \"#fde0ef\"], [0.5, \"#f7f7f7\"], [0.6, \"#e6f5d0\"], [0.7, \"#b8e186\"], [0.8, \"#7fbc41\"], [0.9, \"#4d9221\"], [1, \"#276419\"]], \"sequential\": [[0.0, \"#0d0887\"], [0.1111111111111111, \"#46039f\"], [0.2222222222222222, \"#7201a8\"], [0.3333333333333333, \"#9c179e\"], [0.4444444444444444, \"#bd3786\"], [0.5555555555555556, \"#d8576b\"], [0.6666666666666666, \"#ed7953\"], [0.7777777777777778, \"#fb9f3a\"], [0.8888888888888888, \"#fdca26\"], [1.0, \"#f0f921\"]], \"sequentialminus\": [[0.0, \"#0d0887\"], [0.1111111111111111, \"#46039f\"], [0.2222222222222222, \"#7201a8\"], [0.3333333333333333, \"#9c179e\"], [0.4444444444444444, \"#bd3786\"], [0.5555555555555556, \"#d8576b\"], [0.6666666666666666, \"#ed7953\"], [0.7777777777777778, \"#fb9f3a\"], [0.8888888888888888, \"#fdca26\"], [1.0, \"#f0f921\"]]}, \"colorway\": [\"#636efa\", \"#EF553B\", \"#00cc96\", \"#ab63fa\", \"#FFA15A\", \"#19d3f3\", \"#FF6692\", \"#B6E880\", \"#FF97FF\", \"#FECB52\"], \"font\": {\"color\": \"#2a3f5f\"}, \"geo\": {\"bgcolor\": \"white\", \"lakecolor\": \"white\", \"landcolor\": \"#E5ECF6\", \"showlakes\": true, \"showland\": true, \"subunitcolor\": \"white\"}, \"hoverlabel\": {\"align\": \"left\"}, \"hovermode\": \"closest\", \"mapbox\": {\"style\": \"light\"}, \"paper_bgcolor\": \"white\", \"plot_bgcolor\": \"#E5ECF6\", \"polar\": {\"angularaxis\": {\"gridcolor\": \"white\", \"linecolor\": \"white\", \"ticks\": \"\"}, \"bgcolor\": \"#E5ECF6\", \"radialaxis\": {\"gridcolor\": \"white\", \"linecolor\": \"white\", \"ticks\": \"\"}}, \"scene\": {\"xaxis\": {\"backgroundcolor\": \"#E5ECF6\", \"gridcolor\": \"white\", \"gridwidth\": 2, \"linecolor\": \"white\", \"showbackground\": true, \"ticks\": \"\", \"zerolinecolor\": \"white\"}, \"yaxis\": {\"backgroundcolor\": \"#E5ECF6\", \"gridcolor\": \"white\", \"gridwidth\": 2, \"linecolor\": \"white\", \"showbackground\": true, \"ticks\": \"\", \"zerolinecolor\": \"white\"}, \"zaxis\": {\"backgroundcolor\": \"#E5ECF6\", \"gridcolor\": \"white\", \"gridwidth\": 2, \"linecolor\": \"white\", \"showbackground\": true, \"ticks\": \"\", \"zerolinecolor\": \"white\"}}, \"shapedefaults\": {\"line\": {\"color\": \"#2a3f5f\"}}, \"ternary\": {\"aaxis\": {\"gridcolor\": \"white\", \"linecolor\": \"white\", \"ticks\": \"\"}, \"baxis\": {\"gridcolor\": \"white\", \"linecolor\": \"white\", \"ticks\": \"\"}, \"bgcolor\": \"#E5ECF6\", \"caxis\": {\"gridcolor\": \"white\", \"linecolor\": \"white\", \"ticks\": \"\"}}, \"title\": {\"x\": 0.05}, \"xaxis\": {\"automargin\": true, \"gridcolor\": \"white\", \"linecolor\": \"white\", \"ticks\": \"\", \"zerolinecolor\": \"white\", \"zerolinewidth\": 2}, \"yaxis\": {\"automargin\": true, \"gridcolor\": \"white\", \"linecolor\": \"white\", \"ticks\": \"\", \"zerolinecolor\": \"white\", \"zerolinewidth\": 2}}}, \"width\": 1200, \"xaxis\": {\"anchor\": \"y\", \"domain\": [0.0, 0.475], \"range\": [-1, 121], \"visible\": false}, \"xaxis2\": {\"anchor\": \"y2\", \"domain\": [0.525, 1.0], \"range\": [-1, 121], \"visible\": false}, \"xaxis3\": {\"anchor\": \"y3\", \"domain\": [0.0, 0.475], \"range\": [-1, 121], \"visible\": false}, \"xaxis4\": {\"anchor\": \"y4\", \"domain\": [0.525, 1.0], \"range\": [-1, 121], \"visible\": false}, \"yaxis\": {\"anchor\": \"x\", \"domain\": [0.525, 1.0], \"range\": [-1, 81], \"visible\": false}, \"yaxis2\": {\"anchor\": \"x2\", \"domain\": [0.525, 1.0], \"range\": [-1, 81], \"visible\": false}, \"yaxis3\": {\"anchor\": \"x3\", \"domain\": [0.0, 0.475], \"range\": [-1, 81], \"visible\": false}, \"yaxis4\": {\"anchor\": \"x4\", \"domain\": [0.0, 0.475], \"range\": [-1, 81], \"visible\": false}},\n",
       "                        {\"responsive\": true}\n",
       "                    ).then(function(){\n",
       "                            \n",
       "var gd = document.getElementById('d5c525a8-7a5a-462a-8594-ac525ad4d87c');\n",
       "var x = new MutationObserver(function (mutations, observer) {{\n",
       "        var display = window.getComputedStyle(gd).display;\n",
       "        if (!display || display === 'none') {{\n",
       "            console.log([gd, 'removed!']);\n",
       "            Plotly.purge(gd);\n",
       "            observer.disconnect();\n",
       "        }}\n",
       "}});\n",
       "\n",
       "// Listen for the removal of the full notebook cells\n",
       "var notebookContainer = gd.closest('#notebook-container');\n",
       "if (notebookContainer) {{\n",
       "    x.observe(notebookContainer, {childList: true});\n",
       "}}\n",
       "\n",
       "// Listen for the clearing of the current output cell\n",
       "var outputEl = gd.closest('.output');\n",
       "if (outputEl) {{\n",
       "    x.observe(outputEl, {childList: true});\n",
       "}}\n",
       "\n",
       "                        })\n",
       "                };\n",
       "                });\n",
       "            </script>\n",
       "        </div>"
      ]
     },
     "metadata": {},
     "output_type": "display_data"
    }
   ],
   "source": [
    "fig = draw_pitches(2, 2, ['plot1', 'plot2', 'plot3', 'plot4'])\n",
    "\n",
    "fig.show()"
   ]
  }
 ],
 "metadata": {
  "kernelspec": {
   "display_name": "Python 3",
   "language": "python",
   "name": "python3"
  },
  "language_info": {
   "codemirror_mode": {
    "name": "ipython",
    "version": 3
   },
   "file_extension": ".py",
   "mimetype": "text/x-python",
   "name": "python",
   "nbconvert_exporter": "python",
   "pygments_lexer": "ipython3",
   "version": "3.6.9"
  }
 },
 "nbformat": 4,
 "nbformat_minor": 4
}
