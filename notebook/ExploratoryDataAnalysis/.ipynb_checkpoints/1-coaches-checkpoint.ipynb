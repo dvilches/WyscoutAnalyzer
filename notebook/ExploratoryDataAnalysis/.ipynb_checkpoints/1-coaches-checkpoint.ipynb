{
 "cells": [
  {
   "cell_type": "markdown",
   "metadata": {},
   "source": [
    "table of contents\n",
    "1. Prepare\n",
    "2. Data Import, Encoding\n",
    "3. EDA\n",
    "4. write df"
   ]
  },
  {
   "cell_type": "markdown",
   "metadata": {},
   "source": [
    "# Prepare"
   ]
  },
  {
   "cell_type": "markdown",
   "metadata": {},
   "source": [
    "## Import Library"
   ]
  },
  {
   "cell_type": "code",
   "execution_count": 1,
   "metadata": {},
   "outputs": [],
   "source": [
    "import os, random, time\n",
    "\n",
    "import numpy as np\n",
    "import pandas as pd\n",
    "import matplotlib.pyplot as plt\n",
    "\n",
    "%matplotlib inline\n",
    "\n",
    "cmap = plt.get_cmap('tab10')"
   ]
  },
  {
   "cell_type": "markdown",
   "metadata": {},
   "source": [
    "## Change matplotlib setting"
   ]
  },
  {
   "cell_type": "code",
   "execution_count": 2,
   "metadata": {},
   "outputs": [],
   "source": [
    "import matplotlib as mpl\n",
    "\n",
    "mode = 'go_ando'\n",
    "\n",
    "if mode == 'go_ando':\n",
    "    # go ando mode\n",
    "    mpl.rcParams['xtick.color'] = mpl.rcParams['ytick.color'] = mpl.rcParams['axes.labelcolor'] =  'darkgrey'\n",
    "    mpl.rcParams['grid.color'] = mpl.rcParams['axes.edgecolor'] = mpl.rcParams['text.color']  = 'darkgrey'\n",
    "    mpl.rcParams['axes.spines.top'] = mpl.rcParams['axes.spines.right'] = False\n",
    "    mpl.rcParams['axes.grid.axis'] = 'y'\n",
    "    mpl.rcParams['axes.grid'] = True\n",
    "    mpl.rcParams['axes.facecolor'] = mpl.rcParams['figure.facecolor'] = 'white'\n",
    "elif mode == 'twitter':\n",
    "    # twitter mode\n",
    "    mpl.rcParams['xtick.color'] = mpl.rcParams['ytick.color'] = mpl.rcParams['axes.labelcolor'] =  'white'\n",
    "    mpl.rcParams['grid.color'] = mpl.rcParams['axes.edgecolor'] = mpl.rcParams['text.color']  = 'white'\n",
    "    mpl.rcParams['axes.spines.top'] = mpl.rcParams['axes.spines.right'] = False\n",
    "    mpl.rcParams['axes.grid.axis'] = 'y'\n",
    "    twitter_color = '#141d26'\n",
    "    mpl.rcParams['axes.facecolor'] = mpl.rcParams['figure.facecolor'] = twitter_color\n",
    "    \n",
    "else:\n",
    "    pass"
   ]
  },
  {
   "cell_type": "markdown",
   "metadata": {},
   "source": [
    "## define parameter"
   ]
  },
  {
   "cell_type": "code",
   "execution_count": 3,
   "metadata": {},
   "outputs": [
    {
     "name": "stdout",
     "output_type": "stream",
     "text": [
      "0 referees.json\n",
      "1 teams.json\n",
      "2 matches\n",
      "3 competitions.json\n",
      "4 players.json\n",
      "5 coaches.json\n"
     ]
    }
   ],
   "source": [
    "base_dir = os.path.join('..','..')\n",
    "data_dir = os.path.join(base_dir, 'data')\n",
    "raw_dir = os.path.join(data_dir, 'raw')\n",
    "processed_dir = os.path.join(data_dir, 'processed')\n",
    "\n",
    "infile_list = os.listdir(raw_dir)\n",
    "for i, infile in enumerate(infile_list):\n",
    "    print(i, infile)"
   ]
  },
  {
   "cell_type": "markdown",
   "metadata": {},
   "source": [
    "# Data Import, Encoding"
   ]
  },
  {
   "cell_type": "markdown",
   "metadata": {},
   "source": [
    "## Data Import"
   ]
  },
  {
   "cell_type": "code",
   "execution_count": 4,
   "metadata": {},
   "outputs": [],
   "source": [
    "df = pd.read_json(os.path.join(raw_dir, infile_list[5]))"
   ]
  },
  {
   "cell_type": "markdown",
   "metadata": {},
   "source": [
    "## check data"
   ]
  },
  {
   "cell_type": "code",
   "execution_count": 5,
   "metadata": {},
   "outputs": [
    {
     "data": {
      "text/html": [
       "<div>\n",
       "<style scoped>\n",
       "    .dataframe tbody tr th:only-of-type {\n",
       "        vertical-align: middle;\n",
       "    }\n",
       "\n",
       "    .dataframe tbody tr th {\n",
       "        vertical-align: top;\n",
       "    }\n",
       "\n",
       "    .dataframe thead th {\n",
       "        text-align: right;\n",
       "    }\n",
       "</style>\n",
       "<table border=\"1\" class=\"dataframe\">\n",
       "  <thead>\n",
       "    <tr style=\"text-align: right;\">\n",
       "      <th></th>\n",
       "      <th>wyId</th>\n",
       "      <th>shortName</th>\n",
       "      <th>firstName</th>\n",
       "      <th>middleName</th>\n",
       "      <th>lastName</th>\n",
       "      <th>birthDate</th>\n",
       "      <th>birthArea</th>\n",
       "      <th>passportArea</th>\n",
       "      <th>currentTeamId</th>\n",
       "    </tr>\n",
       "  </thead>\n",
       "  <tbody>\n",
       "    <tr>\n",
       "      <td>0</td>\n",
       "      <td>275580</td>\n",
       "      <td>Cesar Domingo</td>\n",
       "      <td>César Domingo</td>\n",
       "      <td></td>\n",
       "      <td>Mendiondo López</td>\n",
       "      <td>None</td>\n",
       "      <td>{'id': 76, 'alpha2code': 'BR', 'alpha3code': '...</td>\n",
       "      <td>{'id': 76, 'alpha2code': 'BR', 'alpha3code': '...</td>\n",
       "      <td>0</td>\n",
       "    </tr>\n",
       "    <tr>\n",
       "      <td>1</td>\n",
       "      <td>14710</td>\n",
       "      <td>J. Heynckes</td>\n",
       "      <td>Josef</td>\n",
       "      <td></td>\n",
       "      <td>Heynckes</td>\n",
       "      <td>1945-05-09</td>\n",
       "      <td>{'id': 276, 'alpha2code': 'DE', 'alpha3code': ...</td>\n",
       "      <td>{'id': 276, 'alpha2code': 'DE', 'alpha3code': ...</td>\n",
       "      <td>0</td>\n",
       "    </tr>\n",
       "    <tr>\n",
       "      <td>2</td>\n",
       "      <td>135480</td>\n",
       "      <td>G. De Biasi</td>\n",
       "      <td>Giovanni</td>\n",
       "      <td></td>\n",
       "      <td>De Biasi</td>\n",
       "      <td>1956-06-16</td>\n",
       "      <td>{'id': 380, 'alpha2code': 'IT', 'alpha3code': ...</td>\n",
       "      <td>{'id': 380, 'alpha2code': 'IT', 'alpha3code': ...</td>\n",
       "      <td>0</td>\n",
       "    </tr>\n",
       "    <tr>\n",
       "      <td>3</td>\n",
       "      <td>210074</td>\n",
       "      <td>Marcelino</td>\n",
       "      <td>Marcelino</td>\n",
       "      <td></td>\n",
       "      <td>García Toral</td>\n",
       "      <td>1965-08-14</td>\n",
       "      <td>{'id': 724, 'alpha2code': 'ES', 'alpha3code': ...</td>\n",
       "      <td>{'id': 724, 'alpha2code': 'ES', 'alpha3code': ...</td>\n",
       "      <td>674</td>\n",
       "    </tr>\n",
       "    <tr>\n",
       "      <td>4</td>\n",
       "      <td>293398</td>\n",
       "      <td>T. Korkut</td>\n",
       "      <td>Tayfun</td>\n",
       "      <td></td>\n",
       "      <td>Korkut</td>\n",
       "      <td>1974-04-02</td>\n",
       "      <td>{'id': 276, 'alpha2code': 'DE', 'alpha3code': ...</td>\n",
       "      <td>{'id': 792, 'alpha2code': 'TR', 'alpha3code': ...</td>\n",
       "      <td>0</td>\n",
       "    </tr>\n",
       "  </tbody>\n",
       "</table>\n",
       "</div>"
      ],
      "text/plain": [
       "     wyId      shortName      firstName middleName         lastName  \\\n",
       "0  275580  Cesar Domingo  César Domingo             Mendiondo López   \n",
       "1   14710    J. Heynckes          Josef                    Heynckes   \n",
       "2  135480    G. De Biasi       Giovanni                    De Biasi   \n",
       "3  210074      Marcelino      Marcelino                García Toral   \n",
       "4  293398      T. Korkut         Tayfun                      Korkut   \n",
       "\n",
       "    birthDate                                          birthArea  \\\n",
       "0        None  {'id': 76, 'alpha2code': 'BR', 'alpha3code': '...   \n",
       "1  1945-05-09  {'id': 276, 'alpha2code': 'DE', 'alpha3code': ...   \n",
       "2  1956-06-16  {'id': 380, 'alpha2code': 'IT', 'alpha3code': ...   \n",
       "3  1965-08-14  {'id': 724, 'alpha2code': 'ES', 'alpha3code': ...   \n",
       "4  1974-04-02  {'id': 276, 'alpha2code': 'DE', 'alpha3code': ...   \n",
       "\n",
       "                                        passportArea  currentTeamId  \n",
       "0  {'id': 76, 'alpha2code': 'BR', 'alpha3code': '...              0  \n",
       "1  {'id': 276, 'alpha2code': 'DE', 'alpha3code': ...              0  \n",
       "2  {'id': 380, 'alpha2code': 'IT', 'alpha3code': ...              0  \n",
       "3  {'id': 724, 'alpha2code': 'ES', 'alpha3code': ...            674  \n",
       "4  {'id': 792, 'alpha2code': 'TR', 'alpha3code': ...              0  "
      ]
     },
     "execution_count": 5,
     "metadata": {},
     "output_type": "execute_result"
    }
   ],
   "source": [
    "df.head()"
   ]
  },
  {
   "cell_type": "code",
   "execution_count": 6,
   "metadata": {},
   "outputs": [
    {
     "data": {
      "text/html": [
       "<div>\n",
       "<style scoped>\n",
       "    .dataframe tbody tr th:only-of-type {\n",
       "        vertical-align: middle;\n",
       "    }\n",
       "\n",
       "    .dataframe tbody tr th {\n",
       "        vertical-align: top;\n",
       "    }\n",
       "\n",
       "    .dataframe thead th {\n",
       "        text-align: right;\n",
       "    }\n",
       "</style>\n",
       "<table border=\"1\" class=\"dataframe\">\n",
       "  <thead>\n",
       "    <tr style=\"text-align: right;\">\n",
       "      <th></th>\n",
       "      <th>0</th>\n",
       "    </tr>\n",
       "  </thead>\n",
       "  <tbody>\n",
       "    <tr>\n",
       "      <td>wyId</td>\n",
       "      <td>int64</td>\n",
       "    </tr>\n",
       "    <tr>\n",
       "      <td>shortName</td>\n",
       "      <td>object</td>\n",
       "    </tr>\n",
       "    <tr>\n",
       "      <td>firstName</td>\n",
       "      <td>object</td>\n",
       "    </tr>\n",
       "    <tr>\n",
       "      <td>middleName</td>\n",
       "      <td>object</td>\n",
       "    </tr>\n",
       "    <tr>\n",
       "      <td>lastName</td>\n",
       "      <td>object</td>\n",
       "    </tr>\n",
       "    <tr>\n",
       "      <td>birthDate</td>\n",
       "      <td>object</td>\n",
       "    </tr>\n",
       "    <tr>\n",
       "      <td>birthArea</td>\n",
       "      <td>object</td>\n",
       "    </tr>\n",
       "    <tr>\n",
       "      <td>passportArea</td>\n",
       "      <td>object</td>\n",
       "    </tr>\n",
       "    <tr>\n",
       "      <td>currentTeamId</td>\n",
       "      <td>int64</td>\n",
       "    </tr>\n",
       "  </tbody>\n",
       "</table>\n",
       "</div>"
      ],
      "text/plain": [
       "                    0\n",
       "wyId            int64\n",
       "shortName      object\n",
       "firstName      object\n",
       "middleName     object\n",
       "lastName       object\n",
       "birthDate      object\n",
       "birthArea      object\n",
       "passportArea   object\n",
       "currentTeamId   int64"
      ]
     },
     "execution_count": 6,
     "metadata": {},
     "output_type": "execute_result"
    }
   ],
   "source": [
    "df.dtypes.to_frame()"
   ]
  },
  {
   "cell_type": "markdown",
   "metadata": {},
   "source": [
    "## Encoding"
   ]
  },
  {
   "cell_type": "code",
   "execution_count": 7,
   "metadata": {},
   "outputs": [],
   "source": [
    "df['birthArea'] = df.birthArea.map(lambda x: x['name'])\n",
    "df['passportArea'] = df.passportArea.map(lambda x: x['name'])"
   ]
  },
  {
   "cell_type": "code",
   "execution_count": 8,
   "metadata": {},
   "outputs": [
    {
     "data": {
      "text/html": [
       "<div>\n",
       "<style scoped>\n",
       "    .dataframe tbody tr th:only-of-type {\n",
       "        vertical-align: middle;\n",
       "    }\n",
       "\n",
       "    .dataframe tbody tr th {\n",
       "        vertical-align: top;\n",
       "    }\n",
       "\n",
       "    .dataframe thead th {\n",
       "        text-align: right;\n",
       "    }\n",
       "</style>\n",
       "<table border=\"1\" class=\"dataframe\">\n",
       "  <thead>\n",
       "    <tr style=\"text-align: right;\">\n",
       "      <th></th>\n",
       "      <th>wyId</th>\n",
       "      <th>shortName</th>\n",
       "      <th>firstName</th>\n",
       "      <th>middleName</th>\n",
       "      <th>lastName</th>\n",
       "      <th>birthDate</th>\n",
       "      <th>birthArea</th>\n",
       "      <th>passportArea</th>\n",
       "      <th>currentTeamId</th>\n",
       "    </tr>\n",
       "  </thead>\n",
       "  <tbody>\n",
       "    <tr>\n",
       "      <td>0</td>\n",
       "      <td>275580</td>\n",
       "      <td>Cesar Domingo</td>\n",
       "      <td>César Domingo</td>\n",
       "      <td></td>\n",
       "      <td>Mendiondo López</td>\n",
       "      <td>None</td>\n",
       "      <td>Brazil</td>\n",
       "      <td>Brazil</td>\n",
       "      <td>0</td>\n",
       "    </tr>\n",
       "    <tr>\n",
       "      <td>1</td>\n",
       "      <td>14710</td>\n",
       "      <td>J. Heynckes</td>\n",
       "      <td>Josef</td>\n",
       "      <td></td>\n",
       "      <td>Heynckes</td>\n",
       "      <td>1945-05-09</td>\n",
       "      <td>Germany</td>\n",
       "      <td>Germany</td>\n",
       "      <td>0</td>\n",
       "    </tr>\n",
       "    <tr>\n",
       "      <td>2</td>\n",
       "      <td>135480</td>\n",
       "      <td>G. De Biasi</td>\n",
       "      <td>Giovanni</td>\n",
       "      <td></td>\n",
       "      <td>De Biasi</td>\n",
       "      <td>1956-06-16</td>\n",
       "      <td>Italy</td>\n",
       "      <td>Italy</td>\n",
       "      <td>0</td>\n",
       "    </tr>\n",
       "    <tr>\n",
       "      <td>3</td>\n",
       "      <td>210074</td>\n",
       "      <td>Marcelino</td>\n",
       "      <td>Marcelino</td>\n",
       "      <td></td>\n",
       "      <td>García Toral</td>\n",
       "      <td>1965-08-14</td>\n",
       "      <td>Spain</td>\n",
       "      <td>Spain</td>\n",
       "      <td>674</td>\n",
       "    </tr>\n",
       "    <tr>\n",
       "      <td>4</td>\n",
       "      <td>293398</td>\n",
       "      <td>T. Korkut</td>\n",
       "      <td>Tayfun</td>\n",
       "      <td></td>\n",
       "      <td>Korkut</td>\n",
       "      <td>1974-04-02</td>\n",
       "      <td>Germany</td>\n",
       "      <td>Turkey</td>\n",
       "      <td>0</td>\n",
       "    </tr>\n",
       "  </tbody>\n",
       "</table>\n",
       "</div>"
      ],
      "text/plain": [
       "     wyId      shortName      firstName middleName         lastName  \\\n",
       "0  275580  Cesar Domingo  César Domingo             Mendiondo López   \n",
       "1   14710    J. Heynckes          Josef                    Heynckes   \n",
       "2  135480    G. De Biasi       Giovanni                    De Biasi   \n",
       "3  210074      Marcelino      Marcelino                García Toral   \n",
       "4  293398      T. Korkut         Tayfun                      Korkut   \n",
       "\n",
       "    birthDate birthArea passportArea  currentTeamId  \n",
       "0        None    Brazil       Brazil              0  \n",
       "1  1945-05-09   Germany      Germany              0  \n",
       "2  1956-06-16     Italy        Italy              0  \n",
       "3  1965-08-14     Spain        Spain            674  \n",
       "4  1974-04-02   Germany       Turkey              0  "
      ]
     },
     "execution_count": 8,
     "metadata": {},
     "output_type": "execute_result"
    }
   ],
   "source": [
    "df.head()"
   ]
  },
  {
   "cell_type": "markdown",
   "metadata": {},
   "source": [
    "# EDA"
   ]
  },
  {
   "cell_type": "code",
   "execution_count": 16,
   "metadata": {},
   "outputs": [
    {
     "name": "stdout",
     "output_type": "stream",
     "text": [
      "Number of coaches = 205\n",
      "Number of rows = 208\n"
     ]
    }
   ],
   "source": [
    "print(f'Number of coaches = {len(df.shortName.unique())}')\n",
    "print(f'Number of rows = {len(df)}')"
   ]
  },
  {
   "cell_type": "code",
   "execution_count": 12,
   "metadata": {},
   "outputs": [],
   "source": [
    "summary = df.groupby(['firstName','lastName']).size()\n",
    "# df[df.wyId.isin(summary[summary.values==2].index.tolist())]"
   ]
  },
  {
   "cell_type": "code",
   "execution_count": 15,
   "metadata": {},
   "outputs": [
    {
     "data": {
      "text/plain": [
       "firstName  lastName\n",
       "Antonio    Conte       2\n",
       "Fabio      Pecchia     2\n",
       "dtype: int64"
      ]
     },
     "execution_count": 15,
     "metadata": {},
     "output_type": "execute_result"
    }
   ],
   "source": [
    "summary[summary.values==2]"
   ]
  },
  {
   "cell_type": "markdown",
   "metadata": {},
   "source": [
    "# write df"
   ]
  },
  {
   "cell_type": "code",
   "execution_count": 11,
   "metadata": {},
   "outputs": [],
   "source": [
    "df.to_csv(os.path.join(processed_dir, infile_list[5].split('.')[0]+'.csv'), index=False)"
   ]
  }
 ],
 "metadata": {
  "kernelspec": {
   "display_name": "Python 3",
   "language": "python",
   "name": "python3"
  },
  "language_info": {
   "codemirror_mode": {
    "name": "ipython",
    "version": 3
   },
   "file_extension": ".py",
   "mimetype": "text/x-python",
   "name": "python",
   "nbconvert_exporter": "python",
   "pygments_lexer": "ipython3",
   "version": "3.6.0"
  }
 },
 "nbformat": 4,
 "nbformat_minor": 4
}
