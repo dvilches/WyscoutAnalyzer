{
 "cells": [
  {
   "cell_type": "markdown",
   "metadata": {},
   "source": [
    "table of contents\n",
    "1. 準備\n",
    "2. データの読み込み\n",
    "3. 分割、save"
   ]
  },
  {
   "cell_type": "markdown",
   "metadata": {},
   "source": [
    "# 準備"
   ]
  },
  {
   "cell_type": "markdown",
   "metadata": {},
   "source": [
    "## 必要なライブラリのインポート"
   ]
  },
  {
   "cell_type": "code",
   "execution_count": 1,
   "metadata": {},
   "outputs": [],
   "source": [
    "import os, json\n",
    "\n",
    "import pandas as pd"
   ]
  },
  {
   "cell_type": "markdown",
   "metadata": {},
   "source": [
    "## dirの設定"
   ]
  },
  {
   "cell_type": "code",
   "execution_count": 4,
   "metadata": {},
   "outputs": [
    {
     "data": {
      "text/plain": [
       "['referees.json',\n",
       " 'teams.json',\n",
       " 'matches',\n",
       " 'competitions.json',\n",
       " 'events',\n",
       " 'players.json',\n",
       " 'coaches.json']"
      ]
     },
     "execution_count": 4,
     "metadata": {},
     "output_type": "execute_result"
    }
   ],
   "source": [
    "data_dir = os.path.join('..', '..', 'data', 'raw')\n",
    "\n",
    "os.listdir(data_dir)"
   ]
  },
  {
   "cell_type": "markdown",
   "metadata": {},
   "source": [
    "# データの読み込み"
   ]
  },
  {
   "cell_type": "markdown",
   "metadata": {},
   "source": [
    "## competition"
   ]
  },
  {
   "cell_type": "code",
   "execution_count": 5,
   "metadata": {},
   "outputs": [],
   "source": [
    "competitions_df = pd.read_json(os.path.join(data_dir, 'competitions.json'))"
   ]
  },
  {
   "cell_type": "code",
   "execution_count": 7,
   "metadata": {},
   "outputs": [
    {
     "data": {
      "text/html": [
       "<div>\n",
       "<style scoped>\n",
       "    .dataframe tbody tr th:only-of-type {\n",
       "        vertical-align: middle;\n",
       "    }\n",
       "\n",
       "    .dataframe tbody tr th {\n",
       "        vertical-align: top;\n",
       "    }\n",
       "\n",
       "    .dataframe thead th {\n",
       "        text-align: right;\n",
       "    }\n",
       "</style>\n",
       "<table border=\"1\" class=\"dataframe\">\n",
       "  <thead>\n",
       "    <tr style=\"text-align: right;\">\n",
       "      <th></th>\n",
       "      <th>name</th>\n",
       "      <th>wyId</th>\n",
       "      <th>format</th>\n",
       "      <th>area</th>\n",
       "      <th>type</th>\n",
       "    </tr>\n",
       "  </thead>\n",
       "  <tbody>\n",
       "    <tr>\n",
       "      <th>0</th>\n",
       "      <td>Italian first division</td>\n",
       "      <td>524</td>\n",
       "      <td>Domestic league</td>\n",
       "      <td>{'name': 'Italy', 'id': '380', 'alpha3code': '...</td>\n",
       "      <td>club</td>\n",
       "    </tr>\n",
       "    <tr>\n",
       "      <th>1</th>\n",
       "      <td>English first division</td>\n",
       "      <td>364</td>\n",
       "      <td>Domestic league</td>\n",
       "      <td>{'name': 'England', 'id': '0', 'alpha3code': '...</td>\n",
       "      <td>club</td>\n",
       "    </tr>\n",
       "    <tr>\n",
       "      <th>2</th>\n",
       "      <td>Spanish first division</td>\n",
       "      <td>795</td>\n",
       "      <td>Domestic league</td>\n",
       "      <td>{'name': 'Spain', 'id': '724', 'alpha3code': '...</td>\n",
       "      <td>club</td>\n",
       "    </tr>\n",
       "    <tr>\n",
       "      <th>3</th>\n",
       "      <td>French first division</td>\n",
       "      <td>412</td>\n",
       "      <td>Domestic league</td>\n",
       "      <td>{'name': 'France', 'id': '250', 'alpha3code': ...</td>\n",
       "      <td>club</td>\n",
       "    </tr>\n",
       "    <tr>\n",
       "      <th>4</th>\n",
       "      <td>German first division</td>\n",
       "      <td>426</td>\n",
       "      <td>Domestic league</td>\n",
       "      <td>{'name': 'Germany', 'id': '276', 'alpha3code':...</td>\n",
       "      <td>club</td>\n",
       "    </tr>\n",
       "  </tbody>\n",
       "</table>\n",
       "</div>"
      ],
      "text/plain": [
       "                     name  wyId           format  \\\n",
       "0  Italian first division   524  Domestic league   \n",
       "1  English first division   364  Domestic league   \n",
       "2  Spanish first division   795  Domestic league   \n",
       "3   French first division   412  Domestic league   \n",
       "4   German first division   426  Domestic league   \n",
       "\n",
       "                                                area  type  \n",
       "0  {'name': 'Italy', 'id': '380', 'alpha3code': '...  club  \n",
       "1  {'name': 'England', 'id': '0', 'alpha3code': '...  club  \n",
       "2  {'name': 'Spain', 'id': '724', 'alpha3code': '...  club  \n",
       "3  {'name': 'France', 'id': '250', 'alpha3code': ...  club  \n",
       "4  {'name': 'Germany', 'id': '276', 'alpha3code':...  club  "
      ]
     },
     "execution_count": 7,
     "metadata": {},
     "output_type": "execute_result"
    }
   ],
   "source": [
    "competitions_df.head()"
   ]
  },
  {
   "cell_type": "code",
   "execution_count": 13,
   "metadata": {},
   "outputs": [
    {
     "data": {
      "text/plain": [
       "[{'name': 'Italy', 'id': '380', 'alpha3code': 'ITA', 'alpha2code': 'IT'},\n",
       " {'name': 'England', 'id': '0', 'alpha3code': 'XEN', 'alpha2code': ''},\n",
       " {'name': 'Spain', 'id': '724', 'alpha3code': 'ESP', 'alpha2code': 'ES'},\n",
       " {'name': 'France', 'id': '250', 'alpha3code': 'FRA', 'alpha2code': 'FR'},\n",
       " {'name': 'Germany', 'id': '276', 'alpha3code': 'DEU', 'alpha2code': 'DE'},\n",
       " {'name': '', 'id': 0, 'alpha3code': 'XEU', 'alpha2code': ''},\n",
       " {'name': '', 'id': 0, 'alpha3code': 'XWO', 'alpha2code': ''}]"
      ]
     },
     "execution_count": 13,
     "metadata": {},
     "output_type": "execute_result"
    }
   ],
   "source": [
    "competitions_df.area.tolist()"
   ]
  },
  {
   "cell_type": "markdown",
   "metadata": {},
   "source": [
    "## matches"
   ]
  },
  {
   "cell_type": "code",
   "execution_count": 23,
   "metadata": {},
   "outputs": [
    {
     "name": "stdout",
     "output_type": "stream",
     "text": [
      "matches_World_Cup.json\n"
     ]
    },
    {
     "data": {
      "text/html": [
       "<div>\n",
       "<style scoped>\n",
       "    .dataframe tbody tr th:only-of-type {\n",
       "        vertical-align: middle;\n",
       "    }\n",
       "\n",
       "    .dataframe tbody tr th {\n",
       "        vertical-align: top;\n",
       "    }\n",
       "\n",
       "    .dataframe thead th {\n",
       "        text-align: right;\n",
       "    }\n",
       "</style>\n",
       "<table border=\"1\" class=\"dataframe\">\n",
       "  <thead>\n",
       "    <tr style=\"text-align: right;\">\n",
       "      <th></th>\n",
       "      <th>status</th>\n",
       "      <th>roundId</th>\n",
       "      <th>gameweek</th>\n",
       "      <th>teamsData</th>\n",
       "      <th>seasonId</th>\n",
       "      <th>dateutc</th>\n",
       "      <th>winner</th>\n",
       "      <th>venue</th>\n",
       "      <th>wyId</th>\n",
       "      <th>label</th>\n",
       "      <th>date</th>\n",
       "      <th>groupName</th>\n",
       "      <th>referees</th>\n",
       "      <th>duration</th>\n",
       "      <th>competitionId</th>\n",
       "    </tr>\n",
       "  </thead>\n",
       "  <tbody>\n",
       "    <tr>\n",
       "      <th>0</th>\n",
       "      <td>Played</td>\n",
       "      <td>4165368</td>\n",
       "      <td>0</td>\n",
       "      <td>{'9598': {'scoreET': 0, 'coachId': 122788, 'si...</td>\n",
       "      <td>10078</td>\n",
       "      <td>2018-07-15 15:00:00</td>\n",
       "      <td>4418</td>\n",
       "      <td>Olimpiyskiy stadion Luzhniki</td>\n",
       "      <td>2058017</td>\n",
       "      <td>France - Croatia, 4 - 2</td>\n",
       "      <td>2018-07-15 17:00:00-02:00</td>\n",
       "      <td></td>\n",
       "      <td>[{'refereeId': 378051, 'role': 'referee'}, {'r...</td>\n",
       "      <td>Regular</td>\n",
       "      <td>28</td>\n",
       "    </tr>\n",
       "  </tbody>\n",
       "</table>\n",
       "</div>"
      ],
      "text/plain": [
       "   status  roundId  gameweek  \\\n",
       "0  Played  4165368         0   \n",
       "\n",
       "                                           teamsData  seasonId  \\\n",
       "0  {'9598': {'scoreET': 0, 'coachId': 122788, 'si...     10078   \n",
       "\n",
       "               dateutc  winner                         venue     wyId  \\\n",
       "0  2018-07-15 15:00:00    4418  Olimpiyskiy stadion Luzhniki  2058017   \n",
       "\n",
       "                     label                      date groupName  \\\n",
       "0  France - Croatia, 4 - 2 2018-07-15 17:00:00-02:00             \n",
       "\n",
       "                                            referees duration  competitionId  \n",
       "0  [{'refereeId': 378051, 'role': 'referee'}, {'r...  Regular             28  "
      ]
     },
     "metadata": {},
     "output_type": "display_data"
    },
    {
     "name": "stdout",
     "output_type": "stream",
     "text": [
      "matches_Italy.json\n"
     ]
    },
    {
     "data": {
      "text/html": [
       "<div>\n",
       "<style scoped>\n",
       "    .dataframe tbody tr th:only-of-type {\n",
       "        vertical-align: middle;\n",
       "    }\n",
       "\n",
       "    .dataframe tbody tr th {\n",
       "        vertical-align: top;\n",
       "    }\n",
       "\n",
       "    .dataframe thead th {\n",
       "        text-align: right;\n",
       "    }\n",
       "</style>\n",
       "<table border=\"1\" class=\"dataframe\">\n",
       "  <thead>\n",
       "    <tr style=\"text-align: right;\">\n",
       "      <th></th>\n",
       "      <th>status</th>\n",
       "      <th>roundId</th>\n",
       "      <th>gameweek</th>\n",
       "      <th>teamsData</th>\n",
       "      <th>seasonId</th>\n",
       "      <th>dateutc</th>\n",
       "      <th>winner</th>\n",
       "      <th>venue</th>\n",
       "      <th>wyId</th>\n",
       "      <th>label</th>\n",
       "      <th>date</th>\n",
       "      <th>referees</th>\n",
       "      <th>duration</th>\n",
       "      <th>competitionId</th>\n",
       "    </tr>\n",
       "  </thead>\n",
       "  <tbody>\n",
       "    <tr>\n",
       "      <th>0</th>\n",
       "      <td>Played</td>\n",
       "      <td>4406278</td>\n",
       "      <td>38</td>\n",
       "      <td>{'3162': {'scoreET': 0, 'coachId': 251025, 'si...</td>\n",
       "      <td>181248</td>\n",
       "      <td>2018-05-20 18:45:00</td>\n",
       "      <td>3161</td>\n",
       "      <td></td>\n",
       "      <td>2576335</td>\n",
       "      <td>Lazio - Internazionale, 2 - 3</td>\n",
       "      <td>May 20, 2018 at 8:45:00 PM GMT+2</td>\n",
       "      <td>[{'refereeId': 377206, 'role': 'referee'}, {'r...</td>\n",
       "      <td>Regular</td>\n",
       "      <td>524</td>\n",
       "    </tr>\n",
       "  </tbody>\n",
       "</table>\n",
       "</div>"
      ],
      "text/plain": [
       "   status  roundId  gameweek  \\\n",
       "0  Played  4406278        38   \n",
       "\n",
       "                                           teamsData  seasonId  \\\n",
       "0  {'3162': {'scoreET': 0, 'coachId': 251025, 'si...    181248   \n",
       "\n",
       "               dateutc  winner venue     wyId                          label  \\\n",
       "0  2018-05-20 18:45:00    3161        2576335  Lazio - Internazionale, 2 - 3   \n",
       "\n",
       "                               date  \\\n",
       "0  May 20, 2018 at 8:45:00 PM GMT+2   \n",
       "\n",
       "                                            referees duration  competitionId  \n",
       "0  [{'refereeId': 377206, 'role': 'referee'}, {'r...  Regular            524  "
      ]
     },
     "metadata": {},
     "output_type": "display_data"
    },
    {
     "name": "stdout",
     "output_type": "stream",
     "text": [
      "matches_Germany.json\n"
     ]
    },
    {
     "data": {
      "text/html": [
       "<div>\n",
       "<style scoped>\n",
       "    .dataframe tbody tr th:only-of-type {\n",
       "        vertical-align: middle;\n",
       "    }\n",
       "\n",
       "    .dataframe tbody tr th {\n",
       "        vertical-align: top;\n",
       "    }\n",
       "\n",
       "    .dataframe thead th {\n",
       "        text-align: right;\n",
       "    }\n",
       "</style>\n",
       "<table border=\"1\" class=\"dataframe\">\n",
       "  <thead>\n",
       "    <tr style=\"text-align: right;\">\n",
       "      <th></th>\n",
       "      <th>status</th>\n",
       "      <th>roundId</th>\n",
       "      <th>gameweek</th>\n",
       "      <th>teamsData</th>\n",
       "      <th>seasonId</th>\n",
       "      <th>dateutc</th>\n",
       "      <th>winner</th>\n",
       "      <th>venue</th>\n",
       "      <th>wyId</th>\n",
       "      <th>label</th>\n",
       "      <th>date</th>\n",
       "      <th>referees</th>\n",
       "      <th>duration</th>\n",
       "      <th>competitionId</th>\n",
       "    </tr>\n",
       "  </thead>\n",
       "  <tbody>\n",
       "    <tr>\n",
       "      <th>0</th>\n",
       "      <td>Played</td>\n",
       "      <td>4405517</td>\n",
       "      <td>34</td>\n",
       "      <td>{'2444': {'scoreET': 0, 'coachId': 14710, 'sid...</td>\n",
       "      <td>181137</td>\n",
       "      <td>2018-05-12 13:30:00</td>\n",
       "      <td>2445</td>\n",
       "      <td>Allianz Arena</td>\n",
       "      <td>2517036</td>\n",
       "      <td>Bayern M\\u00fcnchen - Stuttgart, 1 - 4</td>\n",
       "      <td>May 12, 2018 at 3:30:00 PM GMT+2</td>\n",
       "      <td>[{'refereeId': 379444, 'role': 'referee'}, {'r...</td>\n",
       "      <td>Regular</td>\n",
       "      <td>426</td>\n",
       "    </tr>\n",
       "  </tbody>\n",
       "</table>\n",
       "</div>"
      ],
      "text/plain": [
       "   status  roundId  gameweek  \\\n",
       "0  Played  4405517        34   \n",
       "\n",
       "                                           teamsData  seasonId  \\\n",
       "0  {'2444': {'scoreET': 0, 'coachId': 14710, 'sid...    181137   \n",
       "\n",
       "               dateutc  winner          venue     wyId  \\\n",
       "0  2018-05-12 13:30:00    2445  Allianz Arena  2517036   \n",
       "\n",
       "                                    label                              date  \\\n",
       "0  Bayern M\\u00fcnchen - Stuttgart, 1 - 4  May 12, 2018 at 3:30:00 PM GMT+2   \n",
       "\n",
       "                                            referees duration  competitionId  \n",
       "0  [{'refereeId': 379444, 'role': 'referee'}, {'r...  Regular            426  "
      ]
     },
     "metadata": {},
     "output_type": "display_data"
    },
    {
     "name": "stdout",
     "output_type": "stream",
     "text": [
      "matches_England.json\n"
     ]
    },
    {
     "data": {
      "text/html": [
       "<div>\n",
       "<style scoped>\n",
       "    .dataframe tbody tr th:only-of-type {\n",
       "        vertical-align: middle;\n",
       "    }\n",
       "\n",
       "    .dataframe tbody tr th {\n",
       "        vertical-align: top;\n",
       "    }\n",
       "\n",
       "    .dataframe thead th {\n",
       "        text-align: right;\n",
       "    }\n",
       "</style>\n",
       "<table border=\"1\" class=\"dataframe\">\n",
       "  <thead>\n",
       "    <tr style=\"text-align: right;\">\n",
       "      <th></th>\n",
       "      <th>status</th>\n",
       "      <th>roundId</th>\n",
       "      <th>gameweek</th>\n",
       "      <th>teamsData</th>\n",
       "      <th>seasonId</th>\n",
       "      <th>dateutc</th>\n",
       "      <th>winner</th>\n",
       "      <th>venue</th>\n",
       "      <th>wyId</th>\n",
       "      <th>label</th>\n",
       "      <th>date</th>\n",
       "      <th>referees</th>\n",
       "      <th>duration</th>\n",
       "      <th>competitionId</th>\n",
       "    </tr>\n",
       "  </thead>\n",
       "  <tbody>\n",
       "    <tr>\n",
       "      <th>0</th>\n",
       "      <td>Played</td>\n",
       "      <td>4405654</td>\n",
       "      <td>38</td>\n",
       "      <td>{'1646': {'scoreET': 0, 'coachId': 8880, 'side...</td>\n",
       "      <td>181150</td>\n",
       "      <td>2018-05-13 14:00:00</td>\n",
       "      <td>1659</td>\n",
       "      <td>Turf Moor</td>\n",
       "      <td>2500089</td>\n",
       "      <td>Burnley - AFC Bournemouth, 1 - 2</td>\n",
       "      <td>May 13, 2018 at 4:00:00 PM GMT+2</td>\n",
       "      <td>[{'refereeId': 385705, 'role': 'referee'}, {'r...</td>\n",
       "      <td>Regular</td>\n",
       "      <td>364</td>\n",
       "    </tr>\n",
       "  </tbody>\n",
       "</table>\n",
       "</div>"
      ],
      "text/plain": [
       "   status  roundId  gameweek  \\\n",
       "0  Played  4405654        38   \n",
       "\n",
       "                                           teamsData  seasonId  \\\n",
       "0  {'1646': {'scoreET': 0, 'coachId': 8880, 'side...    181150   \n",
       "\n",
       "               dateutc  winner      venue     wyId  \\\n",
       "0  2018-05-13 14:00:00    1659  Turf Moor  2500089   \n",
       "\n",
       "                              label                              date  \\\n",
       "0  Burnley - AFC Bournemouth, 1 - 2  May 13, 2018 at 4:00:00 PM GMT+2   \n",
       "\n",
       "                                            referees duration  competitionId  \n",
       "0  [{'refereeId': 385705, 'role': 'referee'}, {'r...  Regular            364  "
      ]
     },
     "metadata": {},
     "output_type": "display_data"
    },
    {
     "name": "stdout",
     "output_type": "stream",
     "text": [
      "matches_France.json\n"
     ]
    },
    {
     "data": {
      "text/html": [
       "<div>\n",
       "<style scoped>\n",
       "    .dataframe tbody tr th:only-of-type {\n",
       "        vertical-align: middle;\n",
       "    }\n",
       "\n",
       "    .dataframe tbody tr th {\n",
       "        vertical-align: top;\n",
       "    }\n",
       "\n",
       "    .dataframe thead th {\n",
       "        text-align: right;\n",
       "    }\n",
       "</style>\n",
       "<table border=\"1\" class=\"dataframe\">\n",
       "  <thead>\n",
       "    <tr style=\"text-align: right;\">\n",
       "      <th></th>\n",
       "      <th>status</th>\n",
       "      <th>roundId</th>\n",
       "      <th>gameweek</th>\n",
       "      <th>teamsData</th>\n",
       "      <th>seasonId</th>\n",
       "      <th>dateutc</th>\n",
       "      <th>winner</th>\n",
       "      <th>venue</th>\n",
       "      <th>wyId</th>\n",
       "      <th>label</th>\n",
       "      <th>date</th>\n",
       "      <th>referees</th>\n",
       "      <th>duration</th>\n",
       "      <th>competitionId</th>\n",
       "    </tr>\n",
       "  </thead>\n",
       "  <tbody>\n",
       "    <tr>\n",
       "      <th>0</th>\n",
       "      <td>Played</td>\n",
       "      <td>4405655</td>\n",
       "      <td>38</td>\n",
       "      <td>{'3783': {'scoreET': 0, 'coachId': 210513, 'si...</td>\n",
       "      <td>181189</td>\n",
       "      <td>2018-05-19 19:00:00</td>\n",
       "      <td>0</td>\n",
       "      <td>Stade Michel d'Ornano</td>\n",
       "      <td>2501056</td>\n",
       "      <td>Caen - PSG, 0 - 0</td>\n",
       "      <td>May 19, 2018 at 9:00:00 PM GMT+2</td>\n",
       "      <td>[{'refereeId': 384954, 'role': 'referee'}, {'r...</td>\n",
       "      <td>Regular</td>\n",
       "      <td>412</td>\n",
       "    </tr>\n",
       "  </tbody>\n",
       "</table>\n",
       "</div>"
      ],
      "text/plain": [
       "   status  roundId  gameweek  \\\n",
       "0  Played  4405655        38   \n",
       "\n",
       "                                           teamsData  seasonId  \\\n",
       "0  {'3783': {'scoreET': 0, 'coachId': 210513, 'si...    181189   \n",
       "\n",
       "               dateutc  winner                  venue     wyId  \\\n",
       "0  2018-05-19 19:00:00       0  Stade Michel d'Ornano  2501056   \n",
       "\n",
       "               label                              date  \\\n",
       "0  Caen - PSG, 0 - 0  May 19, 2018 at 9:00:00 PM GMT+2   \n",
       "\n",
       "                                            referees duration  competitionId  \n",
       "0  [{'refereeId': 384954, 'role': 'referee'}, {'r...  Regular            412  "
      ]
     },
     "metadata": {},
     "output_type": "display_data"
    },
    {
     "name": "stdout",
     "output_type": "stream",
     "text": [
      "matches_Spain.json\n"
     ]
    },
    {
     "data": {
      "text/html": [
       "<div>\n",
       "<style scoped>\n",
       "    .dataframe tbody tr th:only-of-type {\n",
       "        vertical-align: middle;\n",
       "    }\n",
       "\n",
       "    .dataframe tbody tr th {\n",
       "        vertical-align: top;\n",
       "    }\n",
       "\n",
       "    .dataframe thead th {\n",
       "        text-align: right;\n",
       "    }\n",
       "</style>\n",
       "<table border=\"1\" class=\"dataframe\">\n",
       "  <thead>\n",
       "    <tr style=\"text-align: right;\">\n",
       "      <th></th>\n",
       "      <th>status</th>\n",
       "      <th>roundId</th>\n",
       "      <th>gameweek</th>\n",
       "      <th>teamsData</th>\n",
       "      <th>seasonId</th>\n",
       "      <th>dateutc</th>\n",
       "      <th>winner</th>\n",
       "      <th>venue</th>\n",
       "      <th>wyId</th>\n",
       "      <th>label</th>\n",
       "      <th>date</th>\n",
       "      <th>referees</th>\n",
       "      <th>duration</th>\n",
       "      <th>competitionId</th>\n",
       "    </tr>\n",
       "  </thead>\n",
       "  <tbody>\n",
       "    <tr>\n",
       "      <th>0</th>\n",
       "      <td>Played</td>\n",
       "      <td>4406122</td>\n",
       "      <td>38</td>\n",
       "      <td>{'676': {'scoreET': 0, 'coachId': 92894, 'side...</td>\n",
       "      <td>181144</td>\n",
       "      <td>2018-05-20 18:45:00</td>\n",
       "      <td>676</td>\n",
       "      <td>Camp Nou</td>\n",
       "      <td>2565922</td>\n",
       "      <td>Barcelona - Real Sociedad, 1 - 0</td>\n",
       "      <td>May 20, 2018 at 8:45:00 PM GMT+2</td>\n",
       "      <td>[{'refereeId': 398931, 'role': 'referee'}, {'r...</td>\n",
       "      <td>Regular</td>\n",
       "      <td>795</td>\n",
       "    </tr>\n",
       "  </tbody>\n",
       "</table>\n",
       "</div>"
      ],
      "text/plain": [
       "   status  roundId  gameweek  \\\n",
       "0  Played  4406122        38   \n",
       "\n",
       "                                           teamsData  seasonId  \\\n",
       "0  {'676': {'scoreET': 0, 'coachId': 92894, 'side...    181144   \n",
       "\n",
       "               dateutc  winner     venue     wyId  \\\n",
       "0  2018-05-20 18:45:00     676  Camp Nou  2565922   \n",
       "\n",
       "                              label                              date  \\\n",
       "0  Barcelona - Real Sociedad, 1 - 0  May 20, 2018 at 8:45:00 PM GMT+2   \n",
       "\n",
       "                                            referees duration  competitionId  \n",
       "0  [{'refereeId': 398931, 'role': 'referee'}, {'r...  Regular            795  "
      ]
     },
     "metadata": {},
     "output_type": "display_data"
    },
    {
     "name": "stdout",
     "output_type": "stream",
     "text": [
      "matches_European_Championship.json\n"
     ]
    },
    {
     "data": {
      "text/html": [
       "<div>\n",
       "<style scoped>\n",
       "    .dataframe tbody tr th:only-of-type {\n",
       "        vertical-align: middle;\n",
       "    }\n",
       "\n",
       "    .dataframe tbody tr th {\n",
       "        vertical-align: top;\n",
       "    }\n",
       "\n",
       "    .dataframe thead th {\n",
       "        text-align: right;\n",
       "    }\n",
       "</style>\n",
       "<table border=\"1\" class=\"dataframe\">\n",
       "  <thead>\n",
       "    <tr style=\"text-align: right;\">\n",
       "      <th></th>\n",
       "      <th>status</th>\n",
       "      <th>roundId</th>\n",
       "      <th>gameweek</th>\n",
       "      <th>teamsData</th>\n",
       "      <th>seasonId</th>\n",
       "      <th>dateutc</th>\n",
       "      <th>winner</th>\n",
       "      <th>venue</th>\n",
       "      <th>wyId</th>\n",
       "      <th>label</th>\n",
       "      <th>date</th>\n",
       "      <th>groupName</th>\n",
       "      <th>referees</th>\n",
       "      <th>duration</th>\n",
       "      <th>competitionId</th>\n",
       "    </tr>\n",
       "  </thead>\n",
       "  <tbody>\n",
       "    <tr>\n",
       "      <th>0</th>\n",
       "      <td>Played</td>\n",
       "      <td>4165474</td>\n",
       "      <td>0</td>\n",
       "      <td>{'9905': {'scoreET': 1, 'coachId': 137521, 'si...</td>\n",
       "      <td>9291</td>\n",
       "      <td>2016-07-10 19:00:00</td>\n",
       "      <td>9905</td>\n",
       "      <td>Stade de France</td>\n",
       "      <td>1694440</td>\n",
       "      <td>Portugal - France, 1 - 0 (E)</td>\n",
       "      <td>2016-07-10 21:00:00-02:00</td>\n",
       "      <td>Group F</td>\n",
       "      <td>[{'refereeId': 381617, 'role': 'referee'}, {'r...</td>\n",
       "      <td>ExtraTime</td>\n",
       "      <td>102</td>\n",
       "    </tr>\n",
       "  </tbody>\n",
       "</table>\n",
       "</div>"
      ],
      "text/plain": [
       "   status  roundId  gameweek  \\\n",
       "0  Played  4165474         0   \n",
       "\n",
       "                                           teamsData  seasonId  \\\n",
       "0  {'9905': {'scoreET': 1, 'coachId': 137521, 'si...      9291   \n",
       "\n",
       "               dateutc  winner            venue     wyId  \\\n",
       "0  2016-07-10 19:00:00    9905  Stade de France  1694440   \n",
       "\n",
       "                          label                      date groupName  \\\n",
       "0  Portugal - France, 1 - 0 (E) 2016-07-10 21:00:00-02:00   Group F   \n",
       "\n",
       "                                            referees   duration  competitionId  \n",
       "0  [{'refereeId': 381617, 'role': 'referee'}, {'r...  ExtraTime            102  "
      ]
     },
     "metadata": {},
     "output_type": "display_data"
    }
   ],
   "source": [
    "for infile in os.listdir(os.path.join(data_dir, 'matches')):\n",
    "    matches_df = pd.read_json(os.path.join(data_dir, 'matches', infile))\n",
    "    print(infile)\n",
    "    display(matches_df.head(1))"
   ]
  },
  {
   "cell_type": "markdown",
   "metadata": {},
   "source": [
    "## teams"
   ]
  },
  {
   "cell_type": "code",
   "execution_count": 14,
   "metadata": {},
   "outputs": [],
   "source": [
    "teams_df = pd.read_json(os.path.join(data_dir, 'teams.json'))"
   ]
  },
  {
   "cell_type": "code",
   "execution_count": 22,
   "metadata": {},
   "outputs": [
    {
     "data": {
      "text/html": [
       "<div>\n",
       "<style scoped>\n",
       "    .dataframe tbody tr th:only-of-type {\n",
       "        vertical-align: middle;\n",
       "    }\n",
       "\n",
       "    .dataframe tbody tr th {\n",
       "        vertical-align: top;\n",
       "    }\n",
       "\n",
       "    .dataframe thead th {\n",
       "        text-align: right;\n",
       "    }\n",
       "</style>\n",
       "<table border=\"1\" class=\"dataframe\">\n",
       "  <thead>\n",
       "    <tr style=\"text-align: right;\">\n",
       "      <th></th>\n",
       "      <th>city</th>\n",
       "      <th>name</th>\n",
       "      <th>wyId</th>\n",
       "      <th>officialName</th>\n",
       "      <th>area</th>\n",
       "      <th>type</th>\n",
       "    </tr>\n",
       "  </thead>\n",
       "  <tbody>\n",
       "    <tr>\n",
       "      <th>0</th>\n",
       "      <td>Newcastle upon Tyne</td>\n",
       "      <td>Newcastle United</td>\n",
       "      <td>1613</td>\n",
       "      <td>Newcastle United FC</td>\n",
       "      <td>{'name': 'England', 'id': '0', 'alpha3code': '...</td>\n",
       "      <td>club</td>\n",
       "    </tr>\n",
       "    <tr>\n",
       "      <th>1</th>\n",
       "      <td>Vigo</td>\n",
       "      <td>Celta de Vigo</td>\n",
       "      <td>692</td>\n",
       "      <td>Real Club Celta de Vigo</td>\n",
       "      <td>{'name': 'Spain', 'id': '724', 'alpha3code': '...</td>\n",
       "      <td>club</td>\n",
       "    </tr>\n",
       "    <tr>\n",
       "      <th>2</th>\n",
       "      <td>Barcelona</td>\n",
       "      <td>Espanyol</td>\n",
       "      <td>691</td>\n",
       "      <td>Reial Club Deportiu Espanyol</td>\n",
       "      <td>{'name': 'Spain', 'id': '724', 'alpha3code': '...</td>\n",
       "      <td>club</td>\n",
       "    </tr>\n",
       "    <tr>\n",
       "      <th>3</th>\n",
       "      <td>Vitoria-Gasteiz</td>\n",
       "      <td>Deportivo Alav\\u00e9s</td>\n",
       "      <td>696</td>\n",
       "      <td>Deportivo Alav\\u00e9s</td>\n",
       "      <td>{'name': 'Spain', 'id': '724', 'alpha3code': '...</td>\n",
       "      <td>club</td>\n",
       "    </tr>\n",
       "    <tr>\n",
       "      <th>4</th>\n",
       "      <td>Valencia</td>\n",
       "      <td>Levante</td>\n",
       "      <td>695</td>\n",
       "      <td>Levante UD</td>\n",
       "      <td>{'name': 'Spain', 'id': '724', 'alpha3code': '...</td>\n",
       "      <td>club</td>\n",
       "    </tr>\n",
       "    <tr>\n",
       "      <th>...</th>\n",
       "      <td>...</td>\n",
       "      <td>...</td>\n",
       "      <td>...</td>\n",
       "      <td>...</td>\n",
       "      <td>...</td>\n",
       "      <td>...</td>\n",
       "    </tr>\n",
       "    <tr>\n",
       "      <th>137</th>\n",
       "      <td>Las Rozas</td>\n",
       "      <td>Spain</td>\n",
       "      <td>1598</td>\n",
       "      <td>Spain</td>\n",
       "      <td>{'name': 'Spain', 'id': 724, 'alpha3code': 'ES...</td>\n",
       "      <td>national</td>\n",
       "    </tr>\n",
       "    <tr>\n",
       "      <th>138</th>\n",
       "      <td>Beograd</td>\n",
       "      <td>Serbia</td>\n",
       "      <td>17322</td>\n",
       "      <td>Serbia</td>\n",
       "      <td>{'name': 'Serbia', 'id': 688, 'alpha3code': 'S...</td>\n",
       "      <td>national</td>\n",
       "    </tr>\n",
       "    <tr>\n",
       "      <th>139</th>\n",
       "      <td>Bern</td>\n",
       "      <td>Switzerland</td>\n",
       "      <td>6697</td>\n",
       "      <td>Switzerland</td>\n",
       "      <td>{'name': 'Switzerland', 'id': 756, 'alpha3code...</td>\n",
       "      <td>national</td>\n",
       "    </tr>\n",
       "    <tr>\n",
       "      <th>140</th>\n",
       "      <td>Warszawa</td>\n",
       "      <td>Poland</td>\n",
       "      <td>13869</td>\n",
       "      <td>Poland</td>\n",
       "      <td>{'name': 'Poland', 'id': 616, 'alpha3code': 'P...</td>\n",
       "      <td>national</td>\n",
       "    </tr>\n",
       "    <tr>\n",
       "      <th>141</th>\n",
       "      <td>Abuja</td>\n",
       "      <td>Nigeria</td>\n",
       "      <td>16823</td>\n",
       "      <td>Nigeria</td>\n",
       "      <td>{'name': 'Nigeria', 'id': 566, 'alpha3code': '...</td>\n",
       "      <td>national</td>\n",
       "    </tr>\n",
       "  </tbody>\n",
       "</table>\n",
       "<p>142 rows × 6 columns</p>\n",
       "</div>"
      ],
      "text/plain": [
       "                    city                   name   wyId  \\\n",
       "0    Newcastle upon Tyne       Newcastle United   1613   \n",
       "1                   Vigo          Celta de Vigo    692   \n",
       "2              Barcelona               Espanyol    691   \n",
       "3        Vitoria-Gasteiz  Deportivo Alav\\u00e9s    696   \n",
       "4               Valencia                Levante    695   \n",
       "..                   ...                    ...    ...   \n",
       "137            Las Rozas                  Spain   1598   \n",
       "138              Beograd                 Serbia  17322   \n",
       "139                 Bern            Switzerland   6697   \n",
       "140             Warszawa                 Poland  13869   \n",
       "141                Abuja                Nigeria  16823   \n",
       "\n",
       "                     officialName  \\\n",
       "0             Newcastle United FC   \n",
       "1         Real Club Celta de Vigo   \n",
       "2    Reial Club Deportiu Espanyol   \n",
       "3           Deportivo Alav\\u00e9s   \n",
       "4                      Levante UD   \n",
       "..                            ...   \n",
       "137                         Spain   \n",
       "138                        Serbia   \n",
       "139                   Switzerland   \n",
       "140                        Poland   \n",
       "141                       Nigeria   \n",
       "\n",
       "                                                  area      type  \n",
       "0    {'name': 'England', 'id': '0', 'alpha3code': '...      club  \n",
       "1    {'name': 'Spain', 'id': '724', 'alpha3code': '...      club  \n",
       "2    {'name': 'Spain', 'id': '724', 'alpha3code': '...      club  \n",
       "3    {'name': 'Spain', 'id': '724', 'alpha3code': '...      club  \n",
       "4    {'name': 'Spain', 'id': '724', 'alpha3code': '...      club  \n",
       "..                                                 ...       ...  \n",
       "137  {'name': 'Spain', 'id': 724, 'alpha3code': 'ES...  national  \n",
       "138  {'name': 'Serbia', 'id': 688, 'alpha3code': 'S...  national  \n",
       "139  {'name': 'Switzerland', 'id': 756, 'alpha3code...  national  \n",
       "140  {'name': 'Poland', 'id': 616, 'alpha3code': 'P...  national  \n",
       "141  {'name': 'Nigeria', 'id': 566, 'alpha3code': '...  national  \n",
       "\n",
       "[142 rows x 6 columns]"
      ]
     },
     "execution_count": 22,
     "metadata": {},
     "output_type": "execute_result"
    }
   ],
   "source": [
    "teams_df"
   ]
  },
  {
   "cell_type": "markdown",
   "metadata": {},
   "source": [
    "# 分割、save"
   ]
  },
  {
   "cell_type": "markdown",
   "metadata": {},
   "source": [
    "### 各competitionsに参加しているteamのリストがないので、jsonを作り直す"
   ]
  },
  {
   "cell_type": "code",
   "execution_count": 24,
   "metadata": {},
   "outputs": [],
   "source": [
    "teams_df_dict = {}\n",
    "for infile in os.listdir(os.path.join(data_dir, 'events')):\n",
    "    events_df = pd.read_json(os.path.join(data_dir, 'events', infile))\n",
    "    teams_df_dict[infile.split('.')[0]] = teams_df[teams_df.wyId.isin(events_df.teamId.unique().tolist())]"
   ]
  },
  {
   "cell_type": "code",
   "execution_count": 25,
   "metadata": {},
   "outputs": [
    {
     "name": "stdout",
     "output_type": "stream",
     "text": [
      "events_France\n",
      "Number of teams: 20\n",
      "events_Spain\n",
      "Number of teams: 20\n",
      "events_Germany\n",
      "Number of teams: 18\n",
      "events_European_Championship\n",
      "Number of teams: 24\n",
      "events_World_Cup\n",
      "Number of teams: 32\n",
      "events_Italy\n",
      "Number of teams: 20\n",
      "events_England\n",
      "Number of teams: 20\n"
     ]
    }
   ],
   "source": [
    "for k, v in teams_df_dict.items():\n",
    "    print(k)\n",
    "    print(f'Number of teams: {len(v)}')"
   ]
  },
  {
   "cell_type": "code",
   "execution_count": 26,
   "metadata": {},
   "outputs": [],
   "source": [
    "os.mkdir(os.path.join(data_dir, 'teams'))"
   ]
  },
  {
   "cell_type": "code",
   "execution_count": 27,
   "metadata": {},
   "outputs": [],
   "source": [
    "for k, v in teams_df_dict.items():\n",
    "    k = k.replace('events_','')\n",
    "    v.to_json(os.path.join(data_dir, 'teams', f'teams_{k}.json'))"
   ]
  },
  {
   "cell_type": "markdown",
   "metadata": {},
   "source": [
    "## events"
   ]
  },
  {
   "cell_type": "code",
   "execution_count": 28,
   "metadata": {},
   "outputs": [
    {
     "name": "stderr",
     "output_type": "stream",
     "text": [
      "100%|██████████| 7/7 [01:05<00:00,  9.35s/it]\n"
     ]
    }
   ],
   "source": [
    "from tqdm import tqdm\n",
    "for infile in tqdm(os.listdir(os.path.join(data_dir, 'events'))):\n",
    "    events_df = pd.read_json(os.path.join(data_dir, 'events', infile))\n",
    "    competitions = infile.split('.')[0].replace('events_','')\n",
    "    os.mkdir(os.path.join(data_dir, 'events', competitions))\n",
    "    for matchId in events_df.matchId.unique().tolist():\n",
    "        events_df[events_df.matchId==matchId].to_json(os.path.join(data_dir, 'events', competitions, f'{matchId}.json'))"
   ]
  }
 ],
 "metadata": {
  "kernelspec": {
   "display_name": "Python 3",
   "language": "python",
   "name": "python3"
  },
  "language_info": {
   "codemirror_mode": {
    "name": "ipython",
    "version": 3
   },
   "file_extension": ".py",
   "mimetype": "text/x-python",
   "name": "python",
   "nbconvert_exporter": "python",
   "pygments_lexer": "ipython3",
   "version": "3.6.0"
  }
 },
 "nbformat": 4,
 "nbformat_minor": 4
}
