{
 "cells": [
  {
   "cell_type": "markdown",
   "metadata": {},
   "source": [
    "table of contents\n",
    "1. Prepare\n",
    "2. Data Import, Encoding\n",
    "3. EDA\n",
    "4. write df"
   ]
  },
  {
   "cell_type": "markdown",
   "metadata": {},
   "source": [
    "# Prepare"
   ]
  },
  {
   "cell_type": "markdown",
   "metadata": {},
   "source": [
    "## Import Library"
   ]
  },
  {
   "cell_type": "code",
   "execution_count": 1,
   "metadata": {},
   "outputs": [],
   "source": [
    "import os, random, time\n",
    "\n",
    "import numpy as np\n",
    "import pandas as pd\n",
    "import matplotlib.pyplot as plt\n",
    "\n",
    "%matplotlib inline\n",
    "\n",
    "cmap = plt.get_cmap('tab10')"
   ]
  },
  {
   "cell_type": "markdown",
   "metadata": {},
   "source": [
    "## Change matplotlib setting"
   ]
  },
  {
   "cell_type": "code",
   "execution_count": 2,
   "metadata": {},
   "outputs": [],
   "source": [
    "import matplotlib as mpl\n",
    "\n",
    "mode = 'go_ando'\n",
    "\n",
    "if mode == 'go_ando':\n",
    "    # go ando mode\n",
    "    mpl.rcParams['xtick.color'] = mpl.rcParams['ytick.color'] = mpl.rcParams['axes.labelcolor'] =  'darkgrey'\n",
    "    mpl.rcParams['grid.color'] = mpl.rcParams['axes.edgecolor'] = mpl.rcParams['text.color']  = 'darkgrey'\n",
    "    mpl.rcParams['axes.spines.top'] = mpl.rcParams['axes.spines.right'] = False\n",
    "    mpl.rcParams['axes.grid.axis'] = 'y'\n",
    "    mpl.rcParams['axes.grid'] = True\n",
    "    mpl.rcParams['axes.facecolor'] = mpl.rcParams['figure.facecolor'] = 'white'\n",
    "elif mode == 'twitter':\n",
    "    # twitter mode\n",
    "    mpl.rcParams['xtick.color'] = mpl.rcParams['ytick.color'] = mpl.rcParams['axes.labelcolor'] =  'white'\n",
    "    mpl.rcParams['grid.color'] = mpl.rcParams['axes.edgecolor'] = mpl.rcParams['text.color']  = 'white'\n",
    "    mpl.rcParams['axes.spines.top'] = mpl.rcParams['axes.spines.right'] = False\n",
    "    mpl.rcParams['axes.grid.axis'] = 'y'\n",
    "    twitter_color = '#141d26'\n",
    "    mpl.rcParams['axes.facecolor'] = mpl.rcParams['figure.facecolor'] = twitter_color\n",
    "    \n",
    "else:\n",
    "    pass"
   ]
  },
  {
   "cell_type": "markdown",
   "metadata": {},
   "source": [
    "## define parameter"
   ]
  },
  {
   "cell_type": "code",
   "execution_count": 3,
   "metadata": {},
   "outputs": [
    {
     "name": "stdout",
     "output_type": "stream",
     "text": [
      "0 referees.json\n",
      "1 teams.json\n",
      "2 matches\n",
      "3 competitions.json\n",
      "4 players.json\n",
      "5 coaches.json\n"
     ]
    }
   ],
   "source": [
    "base_dir = os.path.join('..','..')\n",
    "data_dir = os.path.join(base_dir, 'data')\n",
    "raw_dir = os.path.join(data_dir, 'raw')\n",
    "processed_dir = os.path.join(data_dir, 'processed')\n",
    "\n",
    "infile_list = os.listdir(raw_dir)\n",
    "for i, infile in enumerate(infile_list):\n",
    "    print(i, infile)"
   ]
  },
  {
   "cell_type": "markdown",
   "metadata": {},
   "source": [
    "# Data Import, Encoding"
   ]
  },
  {
   "cell_type": "markdown",
   "metadata": {},
   "source": [
    "## Data Import(downloded file is not completed, so interpolate it to json file)"
   ]
  },
  {
   "cell_type": "code",
   "execution_count": 4,
   "metadata": {},
   "outputs": [],
   "source": [
    "df = pd.read_json(os.path.join(raw_dir, infile_list[0]))"
   ]
  },
  {
   "cell_type": "markdown",
   "metadata": {},
   "source": [
    "## check data"
   ]
  },
  {
   "cell_type": "code",
   "execution_count": 5,
   "metadata": {},
   "outputs": [
    {
     "data": {
      "text/html": [
       "<div>\n",
       "<style scoped>\n",
       "    .dataframe tbody tr th:only-of-type {\n",
       "        vertical-align: middle;\n",
       "    }\n",
       "\n",
       "    .dataframe tbody tr th {\n",
       "        vertical-align: top;\n",
       "    }\n",
       "\n",
       "    .dataframe thead th {\n",
       "        text-align: right;\n",
       "    }\n",
       "</style>\n",
       "<table border=\"1\" class=\"dataframe\">\n",
       "  <thead>\n",
       "    <tr style=\"text-align: right;\">\n",
       "      <th></th>\n",
       "      <th>wyId</th>\n",
       "      <th>shortName</th>\n",
       "      <th>firstName</th>\n",
       "      <th>middleName</th>\n",
       "      <th>lastName</th>\n",
       "      <th>birthDate</th>\n",
       "      <th>birthArea</th>\n",
       "      <th>passportArea</th>\n",
       "    </tr>\n",
       "  </thead>\n",
       "  <tbody>\n",
       "    <tr>\n",
       "      <td>0</td>\n",
       "      <td>378217</td>\n",
       "      <td>A. Guzmán</td>\n",
       "      <td>Alexander</td>\n",
       "      <td></td>\n",
       "      <td>Guzmán Bonilla</td>\n",
       "      <td>None</td>\n",
       "      <td>{'id': 170, 'alpha2code': 'CO', 'alpha3code': ...</td>\n",
       "      <td>{'id': 170, 'alpha2code': 'CO', 'alpha3code': ...</td>\n",
       "    </tr>\n",
       "    <tr>\n",
       "      <td>1</td>\n",
       "      <td>385011</td>\n",
       "      <td>S. Bennett</td>\n",
       "      <td>Simon</td>\n",
       "      <td></td>\n",
       "      <td>Bennett</td>\n",
       "      <td>None</td>\n",
       "      <td>{'id': 826, 'alpha2code': 'EN', 'alpha3code': ...</td>\n",
       "      <td>{'id': 826, 'alpha2code': 'EN', 'alpha3code': ...</td>\n",
       "    </tr>\n",
       "    <tr>\n",
       "      <td>2</td>\n",
       "      <td>385544</td>\n",
       "      <td>H. Osmers</td>\n",
       "      <td>Harm</td>\n",
       "      <td></td>\n",
       "      <td>Osmers</td>\n",
       "      <td>1985-01-28</td>\n",
       "      <td>{'id': 276, 'alpha2code': 'DE', 'alpha3code': ...</td>\n",
       "      <td>{'id': 276, 'alpha2code': 'DE', 'alpha3code': ...</td>\n",
       "    </tr>\n",
       "    <tr>\n",
       "      <td>3</td>\n",
       "      <td>383894</td>\n",
       "      <td>F. Assmuth</td>\n",
       "      <td>Frederick</td>\n",
       "      <td></td>\n",
       "      <td>Assmuth</td>\n",
       "      <td>1977-12-20</td>\n",
       "      <td>{'id': 276, 'alpha2code': 'DE', 'alpha3code': ...</td>\n",
       "      <td>{'id': 276, 'alpha2code': 'DE', 'alpha3code': ...</td>\n",
       "    </tr>\n",
       "    <tr>\n",
       "      <td>4</td>\n",
       "      <td>385800</td>\n",
       "      <td>F. Hebrard</td>\n",
       "      <td>Frédéric</td>\n",
       "      <td></td>\n",
       "      <td>Hebrard</td>\n",
       "      <td>None</td>\n",
       "      <td>{'id': 250, 'alpha2code': 'FR', 'alpha3code': ...</td>\n",
       "      <td>{'id': 250, 'alpha2code': 'FR', 'alpha3code': ...</td>\n",
       "    </tr>\n",
       "  </tbody>\n",
       "</table>\n",
       "</div>"
      ],
      "text/plain": [
       "     wyId   shortName  firstName middleName        lastName   birthDate  \\\n",
       "0  378217   A. Guzmán  Alexander             Guzmán Bonilla        None   \n",
       "1  385011  S. Bennett      Simon                    Bennett        None   \n",
       "2  385544   H. Osmers       Harm                     Osmers  1985-01-28   \n",
       "3  383894  F. Assmuth  Frederick                    Assmuth  1977-12-20   \n",
       "4  385800  F. Hebrard   Frédéric                    Hebrard        None   \n",
       "\n",
       "                                           birthArea  \\\n",
       "0  {'id': 170, 'alpha2code': 'CO', 'alpha3code': ...   \n",
       "1  {'id': 826, 'alpha2code': 'EN', 'alpha3code': ...   \n",
       "2  {'id': 276, 'alpha2code': 'DE', 'alpha3code': ...   \n",
       "3  {'id': 276, 'alpha2code': 'DE', 'alpha3code': ...   \n",
       "4  {'id': 250, 'alpha2code': 'FR', 'alpha3code': ...   \n",
       "\n",
       "                                        passportArea  \n",
       "0  {'id': 170, 'alpha2code': 'CO', 'alpha3code': ...  \n",
       "1  {'id': 826, 'alpha2code': 'EN', 'alpha3code': ...  \n",
       "2  {'id': 276, 'alpha2code': 'DE', 'alpha3code': ...  \n",
       "3  {'id': 276, 'alpha2code': 'DE', 'alpha3code': ...  \n",
       "4  {'id': 250, 'alpha2code': 'FR', 'alpha3code': ...  "
      ]
     },
     "execution_count": 5,
     "metadata": {},
     "output_type": "execute_result"
    }
   ],
   "source": [
    "df.head()"
   ]
  },
  {
   "cell_type": "code",
   "execution_count": 6,
   "metadata": {},
   "outputs": [
    {
     "data": {
      "text/html": [
       "<div>\n",
       "<style scoped>\n",
       "    .dataframe tbody tr th:only-of-type {\n",
       "        vertical-align: middle;\n",
       "    }\n",
       "\n",
       "    .dataframe tbody tr th {\n",
       "        vertical-align: top;\n",
       "    }\n",
       "\n",
       "    .dataframe thead th {\n",
       "        text-align: right;\n",
       "    }\n",
       "</style>\n",
       "<table border=\"1\" class=\"dataframe\">\n",
       "  <thead>\n",
       "    <tr style=\"text-align: right;\">\n",
       "      <th></th>\n",
       "      <th>0</th>\n",
       "    </tr>\n",
       "  </thead>\n",
       "  <tbody>\n",
       "    <tr>\n",
       "      <td>wyId</td>\n",
       "      <td>int64</td>\n",
       "    </tr>\n",
       "    <tr>\n",
       "      <td>shortName</td>\n",
       "      <td>object</td>\n",
       "    </tr>\n",
       "    <tr>\n",
       "      <td>firstName</td>\n",
       "      <td>object</td>\n",
       "    </tr>\n",
       "    <tr>\n",
       "      <td>middleName</td>\n",
       "      <td>object</td>\n",
       "    </tr>\n",
       "    <tr>\n",
       "      <td>lastName</td>\n",
       "      <td>object</td>\n",
       "    </tr>\n",
       "    <tr>\n",
       "      <td>birthDate</td>\n",
       "      <td>object</td>\n",
       "    </tr>\n",
       "    <tr>\n",
       "      <td>birthArea</td>\n",
       "      <td>object</td>\n",
       "    </tr>\n",
       "    <tr>\n",
       "      <td>passportArea</td>\n",
       "      <td>object</td>\n",
       "    </tr>\n",
       "  </tbody>\n",
       "</table>\n",
       "</div>"
      ],
      "text/plain": [
       "                   0\n",
       "wyId           int64\n",
       "shortName     object\n",
       "firstName     object\n",
       "middleName    object\n",
       "lastName      object\n",
       "birthDate     object\n",
       "birthArea     object\n",
       "passportArea  object"
      ]
     },
     "execution_count": 6,
     "metadata": {},
     "output_type": "execute_result"
    }
   ],
   "source": [
    "df.dtypes.to_frame()"
   ]
  },
  {
   "cell_type": "markdown",
   "metadata": {},
   "source": [
    "## Encoding"
   ]
  },
  {
   "cell_type": "code",
   "execution_count": 7,
   "metadata": {},
   "outputs": [],
   "source": [
    "df['birthArea'] = df.birthArea.map(lambda x: x['name'] if type(x)==dict else None)\n",
    "df['passportArea'] = df.passportArea.map(lambda x: x['name'] if type(x)==dict else None)"
   ]
  },
  {
   "cell_type": "code",
   "execution_count": 8,
   "metadata": {},
   "outputs": [
    {
     "data": {
      "text/html": [
       "<div>\n",
       "<style scoped>\n",
       "    .dataframe tbody tr th:only-of-type {\n",
       "        vertical-align: middle;\n",
       "    }\n",
       "\n",
       "    .dataframe tbody tr th {\n",
       "        vertical-align: top;\n",
       "    }\n",
       "\n",
       "    .dataframe thead th {\n",
       "        text-align: right;\n",
       "    }\n",
       "</style>\n",
       "<table border=\"1\" class=\"dataframe\">\n",
       "  <thead>\n",
       "    <tr style=\"text-align: right;\">\n",
       "      <th></th>\n",
       "      <th>wyId</th>\n",
       "      <th>shortName</th>\n",
       "      <th>firstName</th>\n",
       "      <th>middleName</th>\n",
       "      <th>lastName</th>\n",
       "      <th>birthDate</th>\n",
       "      <th>birthArea</th>\n",
       "      <th>passportArea</th>\n",
       "    </tr>\n",
       "  </thead>\n",
       "  <tbody>\n",
       "    <tr>\n",
       "      <td>0</td>\n",
       "      <td>378217</td>\n",
       "      <td>A. Guzmán</td>\n",
       "      <td>Alexander</td>\n",
       "      <td></td>\n",
       "      <td>Guzmán Bonilla</td>\n",
       "      <td>None</td>\n",
       "      <td>Colombia</td>\n",
       "      <td>Colombia</td>\n",
       "    </tr>\n",
       "    <tr>\n",
       "      <td>1</td>\n",
       "      <td>385011</td>\n",
       "      <td>S. Bennett</td>\n",
       "      <td>Simon</td>\n",
       "      <td></td>\n",
       "      <td>Bennett</td>\n",
       "      <td>None</td>\n",
       "      <td>England</td>\n",
       "      <td>England</td>\n",
       "    </tr>\n",
       "    <tr>\n",
       "      <td>2</td>\n",
       "      <td>385544</td>\n",
       "      <td>H. Osmers</td>\n",
       "      <td>Harm</td>\n",
       "      <td></td>\n",
       "      <td>Osmers</td>\n",
       "      <td>1985-01-28</td>\n",
       "      <td>Germany</td>\n",
       "      <td>Germany</td>\n",
       "    </tr>\n",
       "    <tr>\n",
       "      <td>3</td>\n",
       "      <td>383894</td>\n",
       "      <td>F. Assmuth</td>\n",
       "      <td>Frederick</td>\n",
       "      <td></td>\n",
       "      <td>Assmuth</td>\n",
       "      <td>1977-12-20</td>\n",
       "      <td>Germany</td>\n",
       "      <td>Germany</td>\n",
       "    </tr>\n",
       "    <tr>\n",
       "      <td>4</td>\n",
       "      <td>385800</td>\n",
       "      <td>F. Hebrard</td>\n",
       "      <td>Frédéric</td>\n",
       "      <td></td>\n",
       "      <td>Hebrard</td>\n",
       "      <td>None</td>\n",
       "      <td>France</td>\n",
       "      <td>France</td>\n",
       "    </tr>\n",
       "  </tbody>\n",
       "</table>\n",
       "</div>"
      ],
      "text/plain": [
       "     wyId   shortName  firstName middleName        lastName   birthDate  \\\n",
       "0  378217   A. Guzmán  Alexander             Guzmán Bonilla        None   \n",
       "1  385011  S. Bennett      Simon                    Bennett        None   \n",
       "2  385544   H. Osmers       Harm                     Osmers  1985-01-28   \n",
       "3  383894  F. Assmuth  Frederick                    Assmuth  1977-12-20   \n",
       "4  385800  F. Hebrard   Frédéric                    Hebrard        None   \n",
       "\n",
       "  birthArea passportArea  \n",
       "0  Colombia     Colombia  \n",
       "1   England      England  \n",
       "2   Germany      Germany  \n",
       "3   Germany      Germany  \n",
       "4    France       France  "
      ]
     },
     "execution_count": 8,
     "metadata": {},
     "output_type": "execute_result"
    }
   ],
   "source": [
    "df.head()"
   ]
  },
  {
   "cell_type": "markdown",
   "metadata": {},
   "source": [
    "# EDA"
   ]
  },
  {
   "cell_type": "code",
   "execution_count": 9,
   "metadata": {},
   "outputs": [
    {
     "name": "stdout",
     "output_type": "stream",
     "text": [
      "Number of referees = 627\n",
      "Number of rows = 627\n"
     ]
    }
   ],
   "source": [
    "print(f'Number of referees = {len(df.wyId.unique())}')\n",
    "print(f'Number of rows = {len(df)}')"
   ]
  },
  {
   "cell_type": "markdown",
   "metadata": {},
   "source": [
    "# write df"
   ]
  },
  {
   "cell_type": "code",
   "execution_count": 10,
   "metadata": {},
   "outputs": [],
   "source": [
    "df.to_csv(os.path.join(processed_dir, infile_list[0].split('.')[0]+'.csv'), index=False)"
   ]
  }
 ],
 "metadata": {
  "kernelspec": {
   "display_name": "Python 3",
   "language": "python",
   "name": "python3"
  },
  "language_info": {
   "codemirror_mode": {
    "name": "ipython",
    "version": 3
   },
   "file_extension": ".py",
   "mimetype": "text/x-python",
   "name": "python",
   "nbconvert_exporter": "python",
   "pygments_lexer": "ipython3",
   "version": "3.6.0"
  }
 },
 "nbformat": 4,
 "nbformat_minor": 4
}
