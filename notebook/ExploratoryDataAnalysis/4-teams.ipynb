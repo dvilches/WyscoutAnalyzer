{
 "cells": [
  {
   "cell_type": "markdown",
   "metadata": {},
   "source": [
    "table of contents\n",
    "1. Prepare\n",
    "2. Data Import, Encoding\n",
    "3. EDA\n",
    "4. write df"
   ]
  },
  {
   "cell_type": "markdown",
   "metadata": {},
   "source": [
    "# Prepare"
   ]
  },
  {
   "cell_type": "markdown",
   "metadata": {},
   "source": [
    "## Import Library"
   ]
  },
  {
   "cell_type": "code",
   "execution_count": 1,
   "metadata": {},
   "outputs": [],
   "source": [
    "import os, random, time\n",
    "\n",
    "import numpy as np\n",
    "import pandas as pd\n",
    "import matplotlib.pyplot as plt\n",
    "\n",
    "%matplotlib inline\n",
    "\n",
    "cmap = plt.get_cmap('tab10')"
   ]
  },
  {
   "cell_type": "markdown",
   "metadata": {},
   "source": [
    "## Change matplotlib setting"
   ]
  },
  {
   "cell_type": "code",
   "execution_count": 2,
   "metadata": {},
   "outputs": [],
   "source": [
    "import matplotlib as mpl\n",
    "\n",
    "mode = 'go_ando'\n",
    "\n",
    "if mode == 'go_ando':\n",
    "    # go ando mode\n",
    "    mpl.rcParams['xtick.color'] = mpl.rcParams['ytick.color'] = mpl.rcParams['axes.labelcolor'] =  'darkgrey'\n",
    "    mpl.rcParams['grid.color'] = mpl.rcParams['axes.edgecolor'] = mpl.rcParams['text.color']  = 'darkgrey'\n",
    "    mpl.rcParams['axes.spines.top'] = mpl.rcParams['axes.spines.right'] = False\n",
    "    mpl.rcParams['axes.grid.axis'] = 'y'\n",
    "    mpl.rcParams['axes.grid'] = True\n",
    "    mpl.rcParams['axes.facecolor'] = mpl.rcParams['figure.facecolor'] = 'white'\n",
    "elif mode == 'twitter':\n",
    "    # twitter mode\n",
    "    mpl.rcParams['xtick.color'] = mpl.rcParams['ytick.color'] = mpl.rcParams['axes.labelcolor'] =  'white'\n",
    "    mpl.rcParams['grid.color'] = mpl.rcParams['axes.edgecolor'] = mpl.rcParams['text.color']  = 'white'\n",
    "    mpl.rcParams['axes.spines.top'] = mpl.rcParams['axes.spines.right'] = False\n",
    "    mpl.rcParams['axes.grid.axis'] = 'y'\n",
    "    twitter_color = '#141d26'\n",
    "    mpl.rcParams['axes.facecolor'] = mpl.rcParams['figure.facecolor'] = twitter_color\n",
    "    \n",
    "else:\n",
    "    pass"
   ]
  },
  {
   "cell_type": "markdown",
   "metadata": {},
   "source": [
    "## define parameter"
   ]
  },
  {
   "cell_type": "code",
   "execution_count": 3,
   "metadata": {},
   "outputs": [
    {
     "name": "stdout",
     "output_type": "stream",
     "text": [
      "0 referees.json\n",
      "1 teams.json\n",
      "2 matches\n",
      "3 competitions.json\n",
      "4 players.json\n",
      "5 coaches.json\n"
     ]
    }
   ],
   "source": [
    "base_dir = os.path.join('..','..')\n",
    "data_dir = os.path.join(base_dir, 'data')\n",
    "raw_dir = os.path.join(data_dir, 'raw')\n",
    "processed_dir = os.path.join(data_dir, 'processed')\n",
    "\n",
    "infile_list = os.listdir(raw_dir)\n",
    "for i, infile in enumerate(infile_list):\n",
    "    print(i, infile)"
   ]
  },
  {
   "cell_type": "markdown",
   "metadata": {},
   "source": [
    "# Data Import, Encoding"
   ]
  },
  {
   "cell_type": "markdown",
   "metadata": {},
   "source": [
    "## Data Import"
   ]
  },
  {
   "cell_type": "code",
   "execution_count": 4,
   "metadata": {},
   "outputs": [],
   "source": [
    "df = pd.read_json(os.path.join(raw_dir, infile_list[1]))"
   ]
  },
  {
   "cell_type": "markdown",
   "metadata": {},
   "source": [
    "## check data"
   ]
  },
  {
   "cell_type": "code",
   "execution_count": 5,
   "metadata": {},
   "outputs": [
    {
     "data": {
      "text/html": [
       "<div>\n",
       "<style scoped>\n",
       "    .dataframe tbody tr th:only-of-type {\n",
       "        vertical-align: middle;\n",
       "    }\n",
       "\n",
       "    .dataframe tbody tr th {\n",
       "        vertical-align: top;\n",
       "    }\n",
       "\n",
       "    .dataframe thead th {\n",
       "        text-align: right;\n",
       "    }\n",
       "</style>\n",
       "<table border=\"1\" class=\"dataframe\">\n",
       "  <thead>\n",
       "    <tr style=\"text-align: right;\">\n",
       "      <th></th>\n",
       "      <th>city</th>\n",
       "      <th>name</th>\n",
       "      <th>wyId</th>\n",
       "      <th>officialName</th>\n",
       "      <th>area</th>\n",
       "      <th>type</th>\n",
       "    </tr>\n",
       "  </thead>\n",
       "  <tbody>\n",
       "    <tr>\n",
       "      <td>0</td>\n",
       "      <td>Newcastle upon Tyne</td>\n",
       "      <td>Newcastle United</td>\n",
       "      <td>1613</td>\n",
       "      <td>Newcastle United FC</td>\n",
       "      <td>{'name': 'England', 'id': '0', 'alpha3code': '...</td>\n",
       "      <td>club</td>\n",
       "    </tr>\n",
       "    <tr>\n",
       "      <td>1</td>\n",
       "      <td>Vigo</td>\n",
       "      <td>Celta de Vigo</td>\n",
       "      <td>692</td>\n",
       "      <td>Real Club Celta de Vigo</td>\n",
       "      <td>{'name': 'Spain', 'id': '724', 'alpha3code': '...</td>\n",
       "      <td>club</td>\n",
       "    </tr>\n",
       "    <tr>\n",
       "      <td>2</td>\n",
       "      <td>Barcelona</td>\n",
       "      <td>Espanyol</td>\n",
       "      <td>691</td>\n",
       "      <td>Reial Club Deportiu Espanyol</td>\n",
       "      <td>{'name': 'Spain', 'id': '724', 'alpha3code': '...</td>\n",
       "      <td>club</td>\n",
       "    </tr>\n",
       "    <tr>\n",
       "      <td>3</td>\n",
       "      <td>Vitoria-Gasteiz</td>\n",
       "      <td>Deportivo Alav\\u00e9s</td>\n",
       "      <td>696</td>\n",
       "      <td>Deportivo Alav\\u00e9s</td>\n",
       "      <td>{'name': 'Spain', 'id': '724', 'alpha3code': '...</td>\n",
       "      <td>club</td>\n",
       "    </tr>\n",
       "    <tr>\n",
       "      <td>4</td>\n",
       "      <td>Valencia</td>\n",
       "      <td>Levante</td>\n",
       "      <td>695</td>\n",
       "      <td>Levante UD</td>\n",
       "      <td>{'name': 'Spain', 'id': '724', 'alpha3code': '...</td>\n",
       "      <td>club</td>\n",
       "    </tr>\n",
       "  </tbody>\n",
       "</table>\n",
       "</div>"
      ],
      "text/plain": [
       "                  city                   name  wyId  \\\n",
       "0  Newcastle upon Tyne       Newcastle United  1613   \n",
       "1                 Vigo          Celta de Vigo   692   \n",
       "2            Barcelona               Espanyol   691   \n",
       "3      Vitoria-Gasteiz  Deportivo Alav\\u00e9s   696   \n",
       "4             Valencia                Levante   695   \n",
       "\n",
       "                   officialName  \\\n",
       "0           Newcastle United FC   \n",
       "1       Real Club Celta de Vigo   \n",
       "2  Reial Club Deportiu Espanyol   \n",
       "3         Deportivo Alav\\u00e9s   \n",
       "4                    Levante UD   \n",
       "\n",
       "                                                area  type  \n",
       "0  {'name': 'England', 'id': '0', 'alpha3code': '...  club  \n",
       "1  {'name': 'Spain', 'id': '724', 'alpha3code': '...  club  \n",
       "2  {'name': 'Spain', 'id': '724', 'alpha3code': '...  club  \n",
       "3  {'name': 'Spain', 'id': '724', 'alpha3code': '...  club  \n",
       "4  {'name': 'Spain', 'id': '724', 'alpha3code': '...  club  "
      ]
     },
     "execution_count": 5,
     "metadata": {},
     "output_type": "execute_result"
    }
   ],
   "source": [
    "df.head()"
   ]
  },
  {
   "cell_type": "code",
   "execution_count": 6,
   "metadata": {},
   "outputs": [
    {
     "data": {
      "text/html": [
       "<div>\n",
       "<style scoped>\n",
       "    .dataframe tbody tr th:only-of-type {\n",
       "        vertical-align: middle;\n",
       "    }\n",
       "\n",
       "    .dataframe tbody tr th {\n",
       "        vertical-align: top;\n",
       "    }\n",
       "\n",
       "    .dataframe thead th {\n",
       "        text-align: right;\n",
       "    }\n",
       "</style>\n",
       "<table border=\"1\" class=\"dataframe\">\n",
       "  <thead>\n",
       "    <tr style=\"text-align: right;\">\n",
       "      <th></th>\n",
       "      <th>0</th>\n",
       "    </tr>\n",
       "  </thead>\n",
       "  <tbody>\n",
       "    <tr>\n",
       "      <td>city</td>\n",
       "      <td>object</td>\n",
       "    </tr>\n",
       "    <tr>\n",
       "      <td>name</td>\n",
       "      <td>object</td>\n",
       "    </tr>\n",
       "    <tr>\n",
       "      <td>wyId</td>\n",
       "      <td>int64</td>\n",
       "    </tr>\n",
       "    <tr>\n",
       "      <td>officialName</td>\n",
       "      <td>object</td>\n",
       "    </tr>\n",
       "    <tr>\n",
       "      <td>area</td>\n",
       "      <td>object</td>\n",
       "    </tr>\n",
       "    <tr>\n",
       "      <td>type</td>\n",
       "      <td>object</td>\n",
       "    </tr>\n",
       "  </tbody>\n",
       "</table>\n",
       "</div>"
      ],
      "text/plain": [
       "                   0\n",
       "city          object\n",
       "name          object\n",
       "wyId           int64\n",
       "officialName  object\n",
       "area          object\n",
       "type          object"
      ]
     },
     "execution_count": 6,
     "metadata": {},
     "output_type": "execute_result"
    }
   ],
   "source": [
    "df.dtypes.to_frame()"
   ]
  },
  {
   "cell_type": "markdown",
   "metadata": {},
   "source": [
    "## Encoding"
   ]
  },
  {
   "cell_type": "code",
   "execution_count": 7,
   "metadata": {},
   "outputs": [],
   "source": [
    "df['area'] = df.area.map(lambda x: x['name'])"
   ]
  },
  {
   "cell_type": "code",
   "execution_count": 8,
   "metadata": {},
   "outputs": [
    {
     "data": {
      "text/html": [
       "<div>\n",
       "<style scoped>\n",
       "    .dataframe tbody tr th:only-of-type {\n",
       "        vertical-align: middle;\n",
       "    }\n",
       "\n",
       "    .dataframe tbody tr th {\n",
       "        vertical-align: top;\n",
       "    }\n",
       "\n",
       "    .dataframe thead th {\n",
       "        text-align: right;\n",
       "    }\n",
       "</style>\n",
       "<table border=\"1\" class=\"dataframe\">\n",
       "  <thead>\n",
       "    <tr style=\"text-align: right;\">\n",
       "      <th></th>\n",
       "      <th>city</th>\n",
       "      <th>name</th>\n",
       "      <th>wyId</th>\n",
       "      <th>officialName</th>\n",
       "      <th>area</th>\n",
       "      <th>type</th>\n",
       "    </tr>\n",
       "  </thead>\n",
       "  <tbody>\n",
       "    <tr>\n",
       "      <td>0</td>\n",
       "      <td>Newcastle upon Tyne</td>\n",
       "      <td>Newcastle United</td>\n",
       "      <td>1613</td>\n",
       "      <td>Newcastle United FC</td>\n",
       "      <td>England</td>\n",
       "      <td>club</td>\n",
       "    </tr>\n",
       "    <tr>\n",
       "      <td>1</td>\n",
       "      <td>Vigo</td>\n",
       "      <td>Celta de Vigo</td>\n",
       "      <td>692</td>\n",
       "      <td>Real Club Celta de Vigo</td>\n",
       "      <td>Spain</td>\n",
       "      <td>club</td>\n",
       "    </tr>\n",
       "    <tr>\n",
       "      <td>2</td>\n",
       "      <td>Barcelona</td>\n",
       "      <td>Espanyol</td>\n",
       "      <td>691</td>\n",
       "      <td>Reial Club Deportiu Espanyol</td>\n",
       "      <td>Spain</td>\n",
       "      <td>club</td>\n",
       "    </tr>\n",
       "    <tr>\n",
       "      <td>3</td>\n",
       "      <td>Vitoria-Gasteiz</td>\n",
       "      <td>Deportivo Alav\\u00e9s</td>\n",
       "      <td>696</td>\n",
       "      <td>Deportivo Alav\\u00e9s</td>\n",
       "      <td>Spain</td>\n",
       "      <td>club</td>\n",
       "    </tr>\n",
       "    <tr>\n",
       "      <td>4</td>\n",
       "      <td>Valencia</td>\n",
       "      <td>Levante</td>\n",
       "      <td>695</td>\n",
       "      <td>Levante UD</td>\n",
       "      <td>Spain</td>\n",
       "      <td>club</td>\n",
       "    </tr>\n",
       "  </tbody>\n",
       "</table>\n",
       "</div>"
      ],
      "text/plain": [
       "                  city                   name  wyId  \\\n",
       "0  Newcastle upon Tyne       Newcastle United  1613   \n",
       "1                 Vigo          Celta de Vigo   692   \n",
       "2            Barcelona               Espanyol   691   \n",
       "3      Vitoria-Gasteiz  Deportivo Alav\\u00e9s   696   \n",
       "4             Valencia                Levante   695   \n",
       "\n",
       "                   officialName     area  type  \n",
       "0           Newcastle United FC  England  club  \n",
       "1       Real Club Celta de Vigo    Spain  club  \n",
       "2  Reial Club Deportiu Espanyol    Spain  club  \n",
       "3         Deportivo Alav\\u00e9s    Spain  club  \n",
       "4                    Levante UD    Spain  club  "
      ]
     },
     "execution_count": 8,
     "metadata": {},
     "output_type": "execute_result"
    }
   ],
   "source": [
    "df.head()"
   ]
  },
  {
   "cell_type": "markdown",
   "metadata": {},
   "source": [
    "# EDA"
   ]
  },
  {
   "cell_type": "code",
   "execution_count": 9,
   "metadata": {},
   "outputs": [
    {
     "name": "stdout",
     "output_type": "stream",
     "text": [
      "Number of team = 142\n",
      "Number of rows = 142\n"
     ]
    }
   ],
   "source": [
    "print(f'Number of team = {len(df.wyId.unique())}')\n",
    "print(f'Number of rows = {len(df)}')"
   ]
  },
  {
   "cell_type": "markdown",
   "metadata": {},
   "source": [
    "# write df"
   ]
  },
  {
   "cell_type": "code",
   "execution_count": 10,
   "metadata": {},
   "outputs": [],
   "source": [
    "df.to_csv(os.path.join(processed_dir, infile_list[1].split('.')[0]+'.csv'), index=False)"
   ]
  }
 ],
 "metadata": {
  "kernelspec": {
   "display_name": "Python 3",
   "language": "python",
   "name": "python3"
  },
  "language_info": {
   "codemirror_mode": {
    "name": "ipython",
    "version": 3
   },
   "file_extension": ".py",
   "mimetype": "text/x-python",
   "name": "python",
   "nbconvert_exporter": "python",
   "pygments_lexer": "ipython3",
   "version": "3.6.0"
  }
 },
 "nbformat": 4,
 "nbformat_minor": 4
}
